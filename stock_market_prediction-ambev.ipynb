{
  "nbformat": 4,
  "nbformat_minor": 0,
  "metadata": {
    "colab": {
      "name": "stock-market-prediction.ipynb",
      "provenance": [],
      "collapsed_sections": [
        "UiXZAchqFuC-",
        "SuPg1RFvQyMS",
        "8MLClRMWPwTL",
        "hCiQYMqPGHuG",
        "4IDwP-XV_Ohd",
        "RtFahmEgGAzZ"
      ],
      "authorship_tag": "ABX9TyOrWAPVEFP9cx982eFTo4s4",
      "include_colab_link": true
    },
    "kernelspec": {
      "name": "python3",
      "display_name": "Python 3"
    },
    "accelerator": "GPU"
  },
  "cells": [
    {
      "cell_type": "markdown",
      "metadata": {
        "id": "view-in-github",
        "colab_type": "text"
      },
      "source": [
        "<a href=\"https://colab.research.google.com/github/claubermartins/Stock-market-prediction/blob/main/stock_market_prediction-ambev.ipynb\" target=\"_parent\"><img src=\"https://colab.research.google.com/assets/colab-badge.svg\" alt=\"Open In Colab\"/></a>"
      ]
    },
    {
      "cell_type": "code",
      "metadata": {
        "colab": {
          "base_uri": "https://localhost:8080/"
        },
        "id": "XjlKRgiDRdpq",
        "outputId": "a9986bc5-8895-4e57-b8d1-2049e77cdb03"
      },
      "source": [
        "pip install inflection"
      ],
      "execution_count": 1,
      "outputs": [
        {
          "output_type": "stream",
          "text": [
            "Collecting inflection\n",
            "  Downloading https://files.pythonhosted.org/packages/59/91/aa6bde563e0085a02a435aa99b49ef75b0a4b062635e606dab23ce18d720/inflection-0.5.1-py2.py3-none-any.whl\n",
            "Installing collected packages: inflection\n",
            "Successfully installed inflection-0.5.1\n"
          ],
          "name": "stdout"
        }
      ]
    },
    {
      "cell_type": "markdown",
      "metadata": {
        "id": "UiXZAchqFuC-"
      },
      "source": [
        "#**1-Importando bibliotecas**"
      ]
    },
    {
      "cell_type": "code",
      "metadata": {
        "id": "ZjQg-8c_--wP"
      },
      "source": [
        "from tensorflow.keras.models import Sequential \n",
        "from tensorflow.keras.layers import Dense, Dropout, LSTM\n",
        "from tensorflow.keras.callbacks import EarlyStopping \n",
        "from sklearn.preprocessing import MinMaxScaler\n",
        "from sklearn.impute import SimpleImputer\n",
        "import numpy as np\n",
        "import pandas as pd\n",
        "import matplotlib.pyplot as plt\n",
        "import tensorflow as tf\n",
        "import math\n",
        "import seaborn as sns\n",
        "import datetime\n",
        "import inflection\n",
        "from IPython.core.display import HTML"
      ],
      "execution_count": 2,
      "outputs": []
    },
    {
      "cell_type": "markdown",
      "metadata": {
        "id": "SuPg1RFvQyMS"
      },
      "source": [
        "#**2-Funções auxiliares para o Jupyter Notebook**"
      ]
    },
    {
      "cell_type": "code",
      "metadata": {
        "id": "2vKvPdvDPJHc"
      },
      "source": [
        "def jupyter_settings():\n",
        "    %matplotlib inline\n",
        "    %pylab inline\n",
        "    \n",
        "    plt.style.use( 'bmh' )\n",
        "    plt.rcParams['figure.figsize'] = [25, 12]\n",
        "    plt.rcParams['font.size'] = 24\n",
        "    \n",
        "    display( HTML( '<style>.container { width:100% !important; }</style>') )\n",
        "    pd.options.display.max_columns = None\n",
        "    pd.options.display.max_rows = None\n",
        "    pd.set_option( 'display.expand_frame_repr', False )\n",
        "    \n",
        "    sns.set()"
      ],
      "execution_count": 3,
      "outputs": []
    },
    {
      "cell_type": "code",
      "metadata": {
        "colab": {
          "base_uri": "https://localhost:8080/",
          "height": 0
        },
        "id": "PGJn-AaoMxuy",
        "outputId": "9b62272f-2b36-402c-afa1-0a0c3ab4d27f"
      },
      "source": [
        "jupyter_settings()"
      ],
      "execution_count": 4,
      "outputs": [
        {
          "output_type": "stream",
          "text": [
            "Populating the interactive namespace from numpy and matplotlib\n"
          ],
          "name": "stdout"
        },
        {
          "output_type": "display_data",
          "data": {
            "text/html": [
              "<style>.container { width:100% !important; }</style>"
            ],
            "text/plain": [
              "<IPython.core.display.HTML object>"
            ]
          },
          "metadata": {
            "tags": []
          }
        }
      ]
    },
    {
      "cell_type": "markdown",
      "metadata": {
        "id": "c_3core8Shq6"
      },
      "source": [
        "##**2.1Método de importação de arquivos do Google Colab**"
      ]
    },
    {
      "cell_type": "code",
      "metadata": {
        "id": "cTk_YEVdyms3",
        "colab": {
          "resources": {
            "http://localhost:8080/nbextensions/google.colab/files.js": {
              "data": "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",
              "ok": true,
              "headers": [
                [
                  "content-type",
                  "application/javascript"
                ]
              ],
              "status": 200,
              "status_text": ""
            }
          },
          "base_uri": "https://localhost:8080/",
          "height": 157
        },
        "outputId": "43c0c224-62c9-4ad4-e64c-f6fa73fcbc10"
      },
      "source": [
        "from google.colab import files\n",
        "upload = files.upload()\n",
        "print(\"downloaded files: \")\n",
        "print(*upload, sep = \"\\n\")"
      ],
      "execution_count": 5,
      "outputs": [
        {
          "output_type": "display_data",
          "data": {
            "text/html": [
              "\n",
              "     <input type=\"file\" id=\"files-62efcda1-6e83-4fec-826f-deb910fd8f41\" name=\"files[]\" multiple disabled\n",
              "        style=\"border:none\" />\n",
              "     <output id=\"result-62efcda1-6e83-4fec-826f-deb910fd8f41\">\n",
              "      Upload widget is only available when the cell has been executed in the\n",
              "      current browser session. Please rerun this cell to enable.\n",
              "      </output>\n",
              "      <script src=\"/nbextensions/google.colab/files.js\"></script> "
            ],
            "text/plain": [
              "<IPython.core.display.HTML object>"
            ]
          },
          "metadata": {
            "tags": []
          }
        },
        {
          "output_type": "stream",
          "text": [
            "Saving ABEV3-teste.csv to ABEV3-teste.csv\n",
            "Saving ABEV3-treinamento.csv to ABEV3-treinamento.csv\n",
            "downloaded files: \n",
            "ABEV3-teste.csv\n",
            "ABEV3-treinamento.csv\n"
          ],
          "name": "stdout"
        }
      ]
    },
    {
      "cell_type": "markdown",
      "metadata": {
        "id": "8MLClRMWPwTL"
      },
      "source": [
        "#**3-Tratamento dos dados**"
      ]
    },
    {
      "cell_type": "markdown",
      "metadata": {
        "id": "DOJanakhS-s2"
      },
      "source": [
        "##**3.1-Importando os dados**"
      ]
    },
    {
      "cell_type": "code",
      "metadata": {
        "id": "vYFCwA5GTB2j"
      },
      "source": [
        "base = pd.read_csv('ABEV3-treinamento.csv')\n",
        "base = base.drop('Date', axis = 1)"
      ],
      "execution_count": 6,
      "outputs": []
    },
    {
      "cell_type": "code",
      "metadata": {
        "colab": {
          "base_uri": "https://localhost:8080/",
          "height": 0
        },
        "id": "SD9oSvK-NE0Y",
        "outputId": "2b66bd61-47fd-41d6-e4cb-b9ee36ab8aaa"
      },
      "source": [
        "#valores estatísticos\n",
        "base.describe()"
      ],
      "execution_count": 7,
      "outputs": [
        {
          "output_type": "execute_result",
          "data": {
            "text/html": [
              "<div>\n",
              "<style scoped>\n",
              "    .dataframe tbody tr th:only-of-type {\n",
              "        vertical-align: middle;\n",
              "    }\n",
              "\n",
              "    .dataframe tbody tr th {\n",
              "        vertical-align: top;\n",
              "    }\n",
              "\n",
              "    .dataframe thead th {\n",
              "        text-align: right;\n",
              "    }\n",
              "</style>\n",
              "<table border=\"1\" class=\"dataframe\">\n",
              "  <thead>\n",
              "    <tr style=\"text-align: right;\">\n",
              "      <th></th>\n",
              "      <th>Open</th>\n",
              "      <th>High</th>\n",
              "      <th>Low</th>\n",
              "      <th>Close</th>\n",
              "      <th>Adj Close</th>\n",
              "      <th>Volume</th>\n",
              "    </tr>\n",
              "  </thead>\n",
              "  <tbody>\n",
              "    <tr>\n",
              "      <th>count</th>\n",
              "      <td>2231.000000</td>\n",
              "      <td>2231.000000</td>\n",
              "      <td>2231.000000</td>\n",
              "      <td>2231.000000</td>\n",
              "      <td>2231.000000</td>\n",
              "      <td>2.231000e+03</td>\n",
              "    </tr>\n",
              "    <tr>\n",
              "      <th>mean</th>\n",
              "      <td>15.247205</td>\n",
              "      <td>15.406185</td>\n",
              "      <td>15.081828</td>\n",
              "      <td>15.255044</td>\n",
              "      <td>12.490003</td>\n",
              "      <td>8.164570e+06</td>\n",
              "    </tr>\n",
              "    <tr>\n",
              "      <th>std</th>\n",
              "      <td>4.746051</td>\n",
              "      <td>4.784574</td>\n",
              "      <td>4.703562</td>\n",
              "      <td>4.740250</td>\n",
              "      <td>4.759135</td>\n",
              "      <td>1.145977e+07</td>\n",
              "    </tr>\n",
              "    <tr>\n",
              "      <th>min</th>\n",
              "      <td>5.523400</td>\n",
              "      <td>5.585331</td>\n",
              "      <td>5.490637</td>\n",
              "      <td>5.515010</td>\n",
              "      <td>3.806502</td>\n",
              "      <td>0.000000e+00</td>\n",
              "    </tr>\n",
              "    <tr>\n",
              "      <th>25%</th>\n",
              "      <td>12.143761</td>\n",
              "      <td>12.284747</td>\n",
              "      <td>12.018774</td>\n",
              "      <td>12.177757</td>\n",
              "      <td>8.853852</td>\n",
              "      <td>9.356215e+05</td>\n",
              "    </tr>\n",
              "    <tr>\n",
              "      <th>50%</th>\n",
              "      <td>16.770000</td>\n",
              "      <td>16.928442</td>\n",
              "      <td>16.570000</td>\n",
              "      <td>16.750000</td>\n",
              "      <td>12.838694</td>\n",
              "      <td>7.296800e+06</td>\n",
              "    </tr>\n",
              "    <tr>\n",
              "      <th>75%</th>\n",
              "      <td>18.735000</td>\n",
              "      <td>18.910000</td>\n",
              "      <td>18.530001</td>\n",
              "      <td>18.724999</td>\n",
              "      <td>16.261292</td>\n",
              "      <td>1.236450e+07</td>\n",
              "    </tr>\n",
              "    <tr>\n",
              "      <th>max</th>\n",
              "      <td>24.389999</td>\n",
              "      <td>24.559999</td>\n",
              "      <td>24.030001</td>\n",
              "      <td>24.270000</td>\n",
              "      <td>22.276297</td>\n",
              "      <td>2.876952e+08</td>\n",
              "    </tr>\n",
              "  </tbody>\n",
              "</table>\n",
              "</div>"
            ],
            "text/plain": [
              "              Open         High          Low        Close    Adj Close        Volume\n",
              "count  2231.000000  2231.000000  2231.000000  2231.000000  2231.000000  2.231000e+03\n",
              "mean     15.247205    15.406185    15.081828    15.255044    12.490003  8.164570e+06\n",
              "std       4.746051     4.784574     4.703562     4.740250     4.759135  1.145977e+07\n",
              "min       5.523400     5.585331     5.490637     5.515010     3.806502  0.000000e+00\n",
              "25%      12.143761    12.284747    12.018774    12.177757     8.853852  9.356215e+05\n",
              "50%      16.770000    16.928442    16.570000    16.750000    12.838694  7.296800e+06\n",
              "75%      18.735000    18.910000    18.530001    18.724999    16.261292  1.236450e+07\n",
              "max      24.389999    24.559999    24.030001    24.270000    22.276297  2.876952e+08"
            ]
          },
          "metadata": {
            "tags": []
          },
          "execution_count": 7
        }
      ]
    },
    {
      "cell_type": "code",
      "metadata": {
        "colab": {
          "base_uri": "https://localhost:8080/"
        },
        "id": "fbKUPwPSNJqm",
        "outputId": "6996923a-d9e2-4f09-e99b-b3fbb5bd432d"
      },
      "source": [
        "base.dtypes"
      ],
      "execution_count": 8,
      "outputs": [
        {
          "output_type": "execute_result",
          "data": {
            "text/plain": [
              "Open         float64\n",
              "High         float64\n",
              "Low          float64\n",
              "Close        float64\n",
              "Adj Close    float64\n",
              "Volume       float64\n",
              "dtype: object"
            ]
          },
          "metadata": {
            "tags": []
          },
          "execution_count": 8
        }
      ]
    },
    {
      "cell_type": "markdown",
      "metadata": {
        "id": "bCTD3wo2TfZF"
      },
      "source": [
        "##**3.2-Tratando os Valores Faltantes**"
      ]
    },
    {
      "cell_type": "code",
      "metadata": {
        "colab": {
          "base_uri": "https://localhost:8080/"
        },
        "id": "H60SOo8MTjjP",
        "outputId": "cb8600a8-1159-4339-f8df-0025baad8e9e"
      },
      "source": [
        "#valores faltantes\n",
        "base.isna().sum()"
      ],
      "execution_count": 9,
      "outputs": [
        {
          "output_type": "execute_result",
          "data": {
            "text/plain": [
              "Open         1\n",
              "High         1\n",
              "Low          1\n",
              "Close        1\n",
              "Adj Close    1\n",
              "Volume       1\n",
              "dtype: int64"
            ]
          },
          "metadata": {
            "tags": []
          },
          "execution_count": 9
        }
      ]
    },
    {
      "cell_type": "code",
      "metadata": {
        "colab": {
          "base_uri": "https://localhost:8080/",
          "height": 0
        },
        "id": "H-DMfyHXTkdi",
        "outputId": "4d855ec8-0125-4d23-e733-773252429c9b"
      },
      "source": [
        "#encontrando onde os valores faltantes estão\n",
        "base.loc[pd.isnull(base['Open'])]\n",
        "base.loc[pd.isnull(base['High'])]\n",
        "base.loc[pd.isnull(base['Low'])]\n",
        "base.loc[pd.isnull(base['Close'])]\n",
        "base.loc[pd.isnull(base['Adj Close'])]\n",
        "base.loc[pd.isnull(base['Volume'])]"
      ],
      "execution_count": 10,
      "outputs": [
        {
          "output_type": "execute_result",
          "data": {
            "text/html": [
              "<div>\n",
              "<style scoped>\n",
              "    .dataframe tbody tr th:only-of-type {\n",
              "        vertical-align: middle;\n",
              "    }\n",
              "\n",
              "    .dataframe tbody tr th {\n",
              "        vertical-align: top;\n",
              "    }\n",
              "\n",
              "    .dataframe thead th {\n",
              "        text-align: right;\n",
              "    }\n",
              "</style>\n",
              "<table border=\"1\" class=\"dataframe\">\n",
              "  <thead>\n",
              "    <tr style=\"text-align: right;\">\n",
              "      <th></th>\n",
              "      <th>Open</th>\n",
              "      <th>High</th>\n",
              "      <th>Low</th>\n",
              "      <th>Close</th>\n",
              "      <th>Adj Close</th>\n",
              "      <th>Volume</th>\n",
              "    </tr>\n",
              "  </thead>\n",
              "  <tbody>\n",
              "    <tr>\n",
              "      <th>2015</th>\n",
              "      <td>NaN</td>\n",
              "      <td>NaN</td>\n",
              "      <td>NaN</td>\n",
              "      <td>NaN</td>\n",
              "      <td>NaN</td>\n",
              "      <td>NaN</td>\n",
              "    </tr>\n",
              "  </tbody>\n",
              "</table>\n",
              "</div>"
            ],
            "text/plain": [
              "      Open  High  Low  Close  Adj Close  Volume\n",
              "2015   NaN   NaN  NaN    NaN        NaN     NaN"
            ]
          },
          "metadata": {
            "tags": []
          },
          "execution_count": 10
        }
      ]
    },
    {
      "cell_type": "code",
      "metadata": {
        "id": "6q0YFzy9TmPD"
      },
      "source": [
        "#preenchendo os valores nulos com o valor médio\n",
        "imputer = SimpleImputer(missing_values=np.nan, strategy='mean',verbose=0)\n",
        "imputer = imputer.fit(base.iloc[:,0:6])\n",
        "base.iloc[:,0:6] = imputer.transform(base.iloc[:,0:6])"
      ],
      "execution_count": 11,
      "outputs": []
    },
    {
      "cell_type": "code",
      "metadata": {
        "colab": {
          "base_uri": "https://localhost:8080/",
          "height": 0
        },
        "id": "gQC2HfFnTpe2",
        "outputId": "68fd05d8-e27f-4a46-e716-b5076cf02df6"
      },
      "source": [
        "#verificando novamente se ainda temos valores faltantes\n",
        "base.loc[pd.isnull(base['Open'])]\n",
        "base.loc[pd.isnull(base['High'])]\n",
        "base.loc[pd.isnull(base['Low'])]\n",
        "base.loc[pd.isnull(base['Close'])]\n",
        "base.loc[pd.isnull(base['Adj Close'])]\n",
        "base.loc[pd.isnull(base['Volume'])]"
      ],
      "execution_count": 12,
      "outputs": [
        {
          "output_type": "execute_result",
          "data": {
            "text/html": [
              "<div>\n",
              "<style scoped>\n",
              "    .dataframe tbody tr th:only-of-type {\n",
              "        vertical-align: middle;\n",
              "    }\n",
              "\n",
              "    .dataframe tbody tr th {\n",
              "        vertical-align: top;\n",
              "    }\n",
              "\n",
              "    .dataframe thead th {\n",
              "        text-align: right;\n",
              "    }\n",
              "</style>\n",
              "<table border=\"1\" class=\"dataframe\">\n",
              "  <thead>\n",
              "    <tr style=\"text-align: right;\">\n",
              "      <th></th>\n",
              "      <th>Open</th>\n",
              "      <th>High</th>\n",
              "      <th>Low</th>\n",
              "      <th>Close</th>\n",
              "      <th>Adj Close</th>\n",
              "      <th>Volume</th>\n",
              "    </tr>\n",
              "  </thead>\n",
              "  <tbody>\n",
              "  </tbody>\n",
              "</table>\n",
              "</div>"
            ],
            "text/plain": [
              "Empty DataFrame\n",
              "Columns: [Open, High, Low, Close, Adj Close, Volume]\n",
              "Index: []"
            ]
          },
          "metadata": {
            "tags": []
          },
          "execution_count": 12
        }
      ]
    },
    {
      "cell_type": "markdown",
      "metadata": {
        "id": "_WuI_UbmTt3W"
      },
      "source": [
        "##**3.3-Tratamento dos valores nulos (iguais a 0)**"
      ]
    },
    {
      "cell_type": "code",
      "metadata": {
        "colab": {
          "base_uri": "https://localhost:8080/"
        },
        "id": "hyRiBN32Twb2",
        "outputId": "573f47cd-5db1-4176-b450-498f5fc9f562"
      },
      "source": [
        "#valores nulos\n",
        "(base == 0).sum()"
      ],
      "execution_count": 13,
      "outputs": [
        {
          "output_type": "execute_result",
          "data": {
            "text/plain": [
              "Open          0\n",
              "High          0\n",
              "Low           0\n",
              "Close         0\n",
              "Adj Close     0\n",
              "Volume       22\n",
              "dtype: int64"
            ]
          },
          "metadata": {
            "tags": []
          },
          "execution_count": 13
        }
      ]
    },
    {
      "cell_type": "code",
      "metadata": {
        "colab": {
          "base_uri": "https://localhost:8080/",
          "height": 0
        },
        "id": "nQPTB9_TT3Dy",
        "outputId": "5737834e-f257-4c58-b4a0-ab27faccb017"
      },
      "source": [
        "#Encontrando os valores nulos\n",
        "base.loc[base['Volume'] == 0]"
      ],
      "execution_count": 14,
      "outputs": [
        {
          "output_type": "execute_result",
          "data": {
            "text/html": [
              "<div>\n",
              "<style scoped>\n",
              "    .dataframe tbody tr th:only-of-type {\n",
              "        vertical-align: middle;\n",
              "    }\n",
              "\n",
              "    .dataframe tbody tr th {\n",
              "        vertical-align: top;\n",
              "    }\n",
              "\n",
              "    .dataframe thead th {\n",
              "        text-align: right;\n",
              "    }\n",
              "</style>\n",
              "<table border=\"1\" class=\"dataframe\">\n",
              "  <thead>\n",
              "    <tr style=\"text-align: right;\">\n",
              "      <th></th>\n",
              "      <th>Open</th>\n",
              "      <th>High</th>\n",
              "      <th>Low</th>\n",
              "      <th>Close</th>\n",
              "      <th>Adj Close</th>\n",
              "      <th>Volume</th>\n",
              "    </tr>\n",
              "  </thead>\n",
              "  <tbody>\n",
              "    <tr>\n",
              "      <th>284</th>\n",
              "      <td>7.391703</td>\n",
              "      <td>7.391703</td>\n",
              "      <td>7.391703</td>\n",
              "      <td>7.391703</td>\n",
              "      <td>5.154269</td>\n",
              "      <td>0.0</td>\n",
              "    </tr>\n",
              "    <tr>\n",
              "      <th>291</th>\n",
              "      <td>7.491591</td>\n",
              "      <td>7.491591</td>\n",
              "      <td>7.491591</td>\n",
              "      <td>7.491591</td>\n",
              "      <td>5.299884</td>\n",
              "      <td>0.0</td>\n",
              "    </tr>\n",
              "    <tr>\n",
              "      <th>310</th>\n",
              "      <td>7.873163</td>\n",
              "      <td>7.873163</td>\n",
              "      <td>7.873163</td>\n",
              "      <td>7.873163</td>\n",
              "      <td>5.569826</td>\n",
              "      <td>0.0</td>\n",
              "    </tr>\n",
              "    <tr>\n",
              "      <th>333</th>\n",
              "      <td>9.391500</td>\n",
              "      <td>9.391500</td>\n",
              "      <td>9.391500</td>\n",
              "      <td>9.391500</td>\n",
              "      <td>6.643963</td>\n",
              "      <td>0.0</td>\n",
              "    </tr>\n",
              "    <tr>\n",
              "      <th>337</th>\n",
              "      <td>8.378201</td>\n",
              "      <td>8.378201</td>\n",
              "      <td>8.378201</td>\n",
              "      <td>8.378201</td>\n",
              "      <td>5.927111</td>\n",
              "      <td>0.0</td>\n",
              "    </tr>\n",
              "    <tr>\n",
              "      <th>430</th>\n",
              "      <td>9.053734</td>\n",
              "      <td>9.053734</td>\n",
              "      <td>9.053734</td>\n",
              "      <td>9.053734</td>\n",
              "      <td>6.469559</td>\n",
              "      <td>0.0</td>\n",
              "    </tr>\n",
              "    <tr>\n",
              "      <th>450</th>\n",
              "      <td>9.423478</td>\n",
              "      <td>9.423478</td>\n",
              "      <td>9.423478</td>\n",
              "      <td>9.423478</td>\n",
              "      <td>6.748445</td>\n",
              "      <td>0.0</td>\n",
              "    </tr>\n",
              "    <tr>\n",
              "      <th>547</th>\n",
              "      <td>12.355449</td>\n",
              "      <td>12.355449</td>\n",
              "      <td>12.355449</td>\n",
              "      <td>12.355449</td>\n",
              "      <td>8.964257</td>\n",
              "      <td>0.0</td>\n",
              "    </tr>\n",
              "    <tr>\n",
              "      <th>667</th>\n",
              "      <td>12.786695</td>\n",
              "      <td>12.786695</td>\n",
              "      <td>12.786695</td>\n",
              "      <td>12.786695</td>\n",
              "      <td>9.308810</td>\n",
              "      <td>0.0</td>\n",
              "    </tr>\n",
              "    <tr>\n",
              "      <th>799</th>\n",
              "      <td>16.382492</td>\n",
              "      <td>16.382492</td>\n",
              "      <td>16.382492</td>\n",
              "      <td>16.382492</td>\n",
              "      <td>12.246234</td>\n",
              "      <td>0.0</td>\n",
              "    </tr>\n",
              "    <tr>\n",
              "      <th>819</th>\n",
              "      <td>15.538570</td>\n",
              "      <td>15.538570</td>\n",
              "      <td>15.538570</td>\n",
              "      <td>15.538570</td>\n",
              "      <td>11.615386</td>\n",
              "      <td>0.0</td>\n",
              "    </tr>\n",
              "    <tr>\n",
              "      <th>881</th>\n",
              "      <td>16.206509</td>\n",
              "      <td>16.206509</td>\n",
              "      <td>16.206509</td>\n",
              "      <td>16.206509</td>\n",
              "      <td>12.114682</td>\n",
              "      <td>0.0</td>\n",
              "    </tr>\n",
              "    <tr>\n",
              "      <th>1831</th>\n",
              "      <td>19.030001</td>\n",
              "      <td>19.030001</td>\n",
              "      <td>19.030001</td>\n",
              "      <td>19.030001</td>\n",
              "      <td>17.002453</td>\n",
              "      <td>0.0</td>\n",
              "    </tr>\n",
              "    <tr>\n",
              "      <th>1844</th>\n",
              "      <td>18.180000</td>\n",
              "      <td>18.180000</td>\n",
              "      <td>18.180000</td>\n",
              "      <td>18.180000</td>\n",
              "      <td>16.243015</td>\n",
              "      <td>0.0</td>\n",
              "    </tr>\n",
              "    <tr>\n",
              "      <th>1904</th>\n",
              "      <td>20.129999</td>\n",
              "      <td>20.129999</td>\n",
              "      <td>20.129999</td>\n",
              "      <td>20.129999</td>\n",
              "      <td>18.144413</td>\n",
              "      <td>0.0</td>\n",
              "    </tr>\n",
              "    <tr>\n",
              "      <th>1929</th>\n",
              "      <td>21.629999</td>\n",
              "      <td>21.629999</td>\n",
              "      <td>21.629999</td>\n",
              "      <td>21.629999</td>\n",
              "      <td>19.496458</td>\n",
              "      <td>0.0</td>\n",
              "    </tr>\n",
              "    <tr>\n",
              "      <th>1944</th>\n",
              "      <td>20.740000</td>\n",
              "      <td>20.740000</td>\n",
              "      <td>20.740000</td>\n",
              "      <td>20.740000</td>\n",
              "      <td>18.694246</td>\n",
              "      <td>0.0</td>\n",
              "    </tr>\n",
              "    <tr>\n",
              "      <th>1953</th>\n",
              "      <td>20.200001</td>\n",
              "      <td>20.200001</td>\n",
              "      <td>20.200001</td>\n",
              "      <td>20.200001</td>\n",
              "      <td>18.207510</td>\n",
              "      <td>0.0</td>\n",
              "    </tr>\n",
              "    <tr>\n",
              "      <th>1956</th>\n",
              "      <td>20.540001</td>\n",
              "      <td>20.540001</td>\n",
              "      <td>20.540001</td>\n",
              "      <td>20.540001</td>\n",
              "      <td>18.513977</td>\n",
              "      <td>0.0</td>\n",
              "    </tr>\n",
              "    <tr>\n",
              "      <th>1981</th>\n",
              "      <td>21.030001</td>\n",
              "      <td>21.030001</td>\n",
              "      <td>21.030001</td>\n",
              "      <td>21.030001</td>\n",
              "      <td>19.240894</td>\n",
              "      <td>0.0</td>\n",
              "    </tr>\n",
              "    <tr>\n",
              "      <th>1985</th>\n",
              "      <td>21.280001</td>\n",
              "      <td>21.280001</td>\n",
              "      <td>21.280001</td>\n",
              "      <td>21.280001</td>\n",
              "      <td>19.469629</td>\n",
              "      <td>0.0</td>\n",
              "    </tr>\n",
              "    <tr>\n",
              "      <th>2003</th>\n",
              "      <td>21.889999</td>\n",
              "      <td>21.889999</td>\n",
              "      <td>21.889999</td>\n",
              "      <td>21.889999</td>\n",
              "      <td>20.027731</td>\n",
              "      <td>0.0</td>\n",
              "    </tr>\n",
              "  </tbody>\n",
              "</table>\n",
              "</div>"
            ],
            "text/plain": [
              "           Open       High        Low      Close  Adj Close  Volume\n",
              "284    7.391703   7.391703   7.391703   7.391703   5.154269     0.0\n",
              "291    7.491591   7.491591   7.491591   7.491591   5.299884     0.0\n",
              "310    7.873163   7.873163   7.873163   7.873163   5.569826     0.0\n",
              "333    9.391500   9.391500   9.391500   9.391500   6.643963     0.0\n",
              "337    8.378201   8.378201   8.378201   8.378201   5.927111     0.0\n",
              "430    9.053734   9.053734   9.053734   9.053734   6.469559     0.0\n",
              "450    9.423478   9.423478   9.423478   9.423478   6.748445     0.0\n",
              "547   12.355449  12.355449  12.355449  12.355449   8.964257     0.0\n",
              "667   12.786695  12.786695  12.786695  12.786695   9.308810     0.0\n",
              "799   16.382492  16.382492  16.382492  16.382492  12.246234     0.0\n",
              "819   15.538570  15.538570  15.538570  15.538570  11.615386     0.0\n",
              "881   16.206509  16.206509  16.206509  16.206509  12.114682     0.0\n",
              "1831  19.030001  19.030001  19.030001  19.030001  17.002453     0.0\n",
              "1844  18.180000  18.180000  18.180000  18.180000  16.243015     0.0\n",
              "1904  20.129999  20.129999  20.129999  20.129999  18.144413     0.0\n",
              "1929  21.629999  21.629999  21.629999  21.629999  19.496458     0.0\n",
              "1944  20.740000  20.740000  20.740000  20.740000  18.694246     0.0\n",
              "1953  20.200001  20.200001  20.200001  20.200001  18.207510     0.0\n",
              "1956  20.540001  20.540001  20.540001  20.540001  18.513977     0.0\n",
              "1981  21.030001  21.030001  21.030001  21.030001  19.240894     0.0\n",
              "1985  21.280001  21.280001  21.280001  21.280001  19.469629     0.0\n",
              "2003  21.889999  21.889999  21.889999  21.889999  20.027731     0.0"
            ]
          },
          "metadata": {
            "tags": []
          },
          "execution_count": 14
        }
      ]
    },
    {
      "cell_type": "code",
      "metadata": {
        "id": "352jPyV0T5JJ"
      },
      "source": [
        "#preenchendo os valores nulos com o valor médio\n",
        "imputer = SimpleImputer(missing_values=0, strategy='mean',verbose=0)\n",
        "imputer = imputer.fit(base.iloc[:,0:6])\n",
        "base.iloc[:,0:6] = imputer.transform(base.iloc[:,0:6])"
      ],
      "execution_count": 15,
      "outputs": []
    },
    {
      "cell_type": "code",
      "metadata": {
        "colab": {
          "base_uri": "https://localhost:8080/",
          "height": 0
        },
        "id": "xI5JdDykT66_",
        "outputId": "0f0b3f16-998d-445b-e164-09b35cd3e2fd"
      },
      "source": [
        "#Verificando novamente se ainda temos valores nulos\n",
        "base.loc[base['Volume'] == 0]"
      ],
      "execution_count": 16,
      "outputs": [
        {
          "output_type": "execute_result",
          "data": {
            "text/html": [
              "<div>\n",
              "<style scoped>\n",
              "    .dataframe tbody tr th:only-of-type {\n",
              "        vertical-align: middle;\n",
              "    }\n",
              "\n",
              "    .dataframe tbody tr th {\n",
              "        vertical-align: top;\n",
              "    }\n",
              "\n",
              "    .dataframe thead th {\n",
              "        text-align: right;\n",
              "    }\n",
              "</style>\n",
              "<table border=\"1\" class=\"dataframe\">\n",
              "  <thead>\n",
              "    <tr style=\"text-align: right;\">\n",
              "      <th></th>\n",
              "      <th>Open</th>\n",
              "      <th>High</th>\n",
              "      <th>Low</th>\n",
              "      <th>Close</th>\n",
              "      <th>Adj Close</th>\n",
              "      <th>Volume</th>\n",
              "    </tr>\n",
              "  </thead>\n",
              "  <tbody>\n",
              "  </tbody>\n",
              "</table>\n",
              "</div>"
            ],
            "text/plain": [
              "Empty DataFrame\n",
              "Columns: [Open, High, Low, Close, Adj Close, Volume]\n",
              "Index: []"
            ]
          },
          "metadata": {
            "tags": []
          },
          "execution_count": 16
        }
      ]
    },
    {
      "cell_type": "code",
      "metadata": {
        "id": "NYW0UUz0T9Kq"
      },
      "source": [
        "#base = base.dropna()"
      ],
      "execution_count": 17,
      "outputs": []
    },
    {
      "cell_type": "code",
      "metadata": {
        "id": "ceOotOwsT_Er"
      },
      "source": [
        "#base.sample()"
      ],
      "execution_count": 18,
      "outputs": []
    },
    {
      "cell_type": "markdown",
      "metadata": {
        "id": "hCiQYMqPGHuG"
      },
      "source": [
        "#**-Descrição dos dados** IGNORE ESTA CÉLULA"
      ]
    },
    {
      "cell_type": "code",
      "metadata": {
        "id": "xalwLdRSGLRD"
      },
      "source": [
        "#Tendencia central - mean, median\n",
        "ct1 = pd.DataFrame(base.apply(np.mean)).T #T transpondo \n",
        "ct2 = pd.DataFrame(base.apply(np.median)).T\n",
        "#Dispersão - std(desvio padrão), min, max, range\n",
        "d1 = pd.DataFrame(base.apply(np.std)).T\n",
        "d2 = pd.DataFrame(base.apply(min)).T\n",
        "d3 = pd.DataFrame(base.apply(max)).T\n",
        "d4 = pd.DataFrame(base.apply(lambda x: x.max() - x.min())).T\n",
        "#concatenate\n",
        "m = pd.concat([d2,d3,d4,ct1,ct2,d1]).T.reset_index()\n",
        "m.columns = ['attributes','min','max','range', 'mean', 'median', 'std']\n",
        "m"
      ],
      "execution_count": null,
      "outputs": []
    },
    {
      "cell_type": "code",
      "metadata": {
        "colab": {
          "base_uri": "https://localhost:8080/"
        },
        "id": "j62Bj8jOQz_G",
        "outputId": "9e5055ec-b49f-4f7d-e3c1-b3fc2b1dae42"
      },
      "source": [
        "base.shape[0]"
      ],
      "execution_count": null,
      "outputs": [
        {
          "output_type": "execute_result",
          "data": {
            "text/plain": [
              "2478"
            ]
          },
          "metadata": {
            "tags": []
          },
          "execution_count": 20
        }
      ]
    },
    {
      "cell_type": "markdown",
      "metadata": {
        "id": "4IDwP-XV_Ohd"
      },
      "source": [
        "#**4-Treinamento da rede**"
      ]
    },
    {
      "cell_type": "code",
      "metadata": {
        "id": "mpo6RlDsUHNJ"
      },
      "source": [
        "#normalizando a base de dados com o MinMaxScaler\n",
        "base_treinamento = base.iloc[:, 0:6].values\n",
        "normalizador = MinMaxScaler(feature_range=(0,1))\n",
        "base_treinamento_normalizada = normalizador.fit_transform(base_treinamento)"
      ],
      "execution_count": 76,
      "outputs": []
    },
    {
      "cell_type": "code",
      "metadata": {
        "id": "d-LD4OEaUNf7"
      },
      "source": [
        "#Comparando a predição com o preço real\n",
        "previsores = []\n",
        "preco_real = []\n",
        "for i in range(90, 2232):\n",
        "    previsores.append(base_treinamento_normalizada[i-90:i, 0:6])\n",
        "    preco_real.append(base_treinamento_normalizada[i, 3:4])\n",
        "previsores, preco_real = np.array(previsores), np.array(preco_real)\n"
      ],
      "execution_count": 77,
      "outputs": []
    },
    {
      "cell_type": "code",
      "metadata": {
        "colab": {
          "base_uri": "https://localhost:8080/"
        },
        "id": "ZftXowA9URdt",
        "outputId": "4001570b-903c-437f-9836-d69162c97bd9"
      },
      "source": [
        "#estrutura da rede neural \n",
        "regressor = Sequential()\n",
        "regressor.add(LSTM(units = 90, return_sequences = True, input_shape = (previsores.shape[1], 6)))\n",
        "regressor.add(Dropout(0.3))\n",
        "\n",
        "regressor.add(LSTM(units = 90, return_sequences = True))\n",
        "regressor.add(Dropout(0.3))\n",
        "\n",
        "regressor.add(LSTM(units = 90, return_sequences = True))\n",
        "regressor.add(Dropout(0.3))\n",
        "\n",
        "regressor.add(LSTM(units = 90))\n",
        "regressor.add(Dropout(0.3))\n",
        "\n",
        "regressor.add(Dense(units = 1, activation = 'sigmoid'))\n",
        "\n",
        "es = EarlyStopping(monitor = 'loss', min_delta = 1e-15, patience = 20, verbose = 1)\n",
        "\n",
        "#regressor.compile(optimizer = 'RMSprop', loss = 'mean_squared_error',\n",
        "#                  metrics = ['mean_absolute_error'])\n",
        "opt = tf.keras.optimizers.Adam(amsgrad=True)\n",
        "regressor.compile(optimizer = opt, loss = 'mean_squared_error',\n",
        "                  metrics = ['mean_absolute_error'])\n",
        "#opt = tf.keras.optimizers.RMSprop(centered=True)\n",
        "#regressor.compile(optimizer = opt, loss = 'mean_squared_error',\n",
        "#                 metrics = ['mean_absolute_error'])\n",
        "\n",
        "regressor.fit(previsores, preco_real, epochs = 600, batch_size = 32,\n",
        "              callbacks = [es])\n",
        "#regressor.fit(previsores, preco_real, epochs = 600, batch_size = 32)"
      ],
      "execution_count": 95,
      "outputs": [
        {
          "output_type": "stream",
          "text": [
            "Epoch 1/600\n",
            "67/67 [==============================] - 5s 19ms/step - loss: 0.0233 - mean_absolute_error: 0.1078\n",
            "Epoch 2/600\n",
            "67/67 [==============================] - 1s 17ms/step - loss: 0.0027 - mean_absolute_error: 0.0390\n",
            "Epoch 3/600\n",
            "67/67 [==============================] - 1s 17ms/step - loss: 0.0021 - mean_absolute_error: 0.0352\n",
            "Epoch 4/600\n",
            "67/67 [==============================] - 1s 17ms/step - loss: 0.0022 - mean_absolute_error: 0.0359\n",
            "Epoch 5/600\n",
            "67/67 [==============================] - 1s 17ms/step - loss: 0.0015 - mean_absolute_error: 0.0306\n",
            "Epoch 6/600\n",
            "67/67 [==============================] - 1s 17ms/step - loss: 0.0015 - mean_absolute_error: 0.0301\n",
            "Epoch 7/600\n",
            "67/67 [==============================] - 1s 17ms/step - loss: 0.0017 - mean_absolute_error: 0.0317\n",
            "Epoch 8/600\n",
            "67/67 [==============================] - 1s 18ms/step - loss: 0.0015 - mean_absolute_error: 0.0296\n",
            "Epoch 9/600\n",
            "67/67 [==============================] - 1s 17ms/step - loss: 0.0017 - mean_absolute_error: 0.0312\n",
            "Epoch 10/600\n",
            "67/67 [==============================] - 1s 17ms/step - loss: 0.0016 - mean_absolute_error: 0.0310\n",
            "Epoch 11/600\n",
            "67/67 [==============================] - 1s 17ms/step - loss: 0.0015 - mean_absolute_error: 0.0304\n",
            "Epoch 12/600\n",
            "67/67 [==============================] - 1s 17ms/step - loss: 0.0013 - mean_absolute_error: 0.0283\n",
            "Epoch 13/600\n",
            "67/67 [==============================] - 1s 17ms/step - loss: 0.0013 - mean_absolute_error: 0.0287\n",
            "Epoch 14/600\n",
            "67/67 [==============================] - 1s 17ms/step - loss: 0.0012 - mean_absolute_error: 0.0266\n",
            "Epoch 15/600\n",
            "67/67 [==============================] - 1s 17ms/step - loss: 0.0011 - mean_absolute_error: 0.0258\n",
            "Epoch 16/600\n",
            "67/67 [==============================] - 1s 17ms/step - loss: 0.0012 - mean_absolute_error: 0.0260\n",
            "Epoch 17/600\n",
            "67/67 [==============================] - 1s 17ms/step - loss: 0.0014 - mean_absolute_error: 0.0274\n",
            "Epoch 18/600\n",
            "67/67 [==============================] - 1s 17ms/step - loss: 0.0013 - mean_absolute_error: 0.0269\n",
            "Epoch 19/600\n",
            "67/67 [==============================] - 1s 17ms/step - loss: 0.0010 - mean_absolute_error: 0.0256\n",
            "Epoch 20/600\n",
            "67/67 [==============================] - 1s 17ms/step - loss: 0.0011 - mean_absolute_error: 0.0253\n",
            "Epoch 21/600\n",
            "67/67 [==============================] - 1s 17ms/step - loss: 0.0011 - mean_absolute_error: 0.0255\n",
            "Epoch 22/600\n",
            "67/67 [==============================] - 1s 17ms/step - loss: 0.0010 - mean_absolute_error: 0.0248\n",
            "Epoch 23/600\n",
            "67/67 [==============================] - 1s 17ms/step - loss: 0.0011 - mean_absolute_error: 0.0244\n",
            "Epoch 24/600\n",
            "67/67 [==============================] - 1s 17ms/step - loss: 8.8025e-04 - mean_absolute_error: 0.0230\n",
            "Epoch 25/600\n",
            "67/67 [==============================] - 1s 17ms/step - loss: 0.0010 - mean_absolute_error: 0.0249\n",
            "Epoch 26/600\n",
            "67/67 [==============================] - 1s 17ms/step - loss: 0.0010 - mean_absolute_error: 0.0248\n",
            "Epoch 27/600\n",
            "67/67 [==============================] - 1s 17ms/step - loss: 9.7702e-04 - mean_absolute_error: 0.0240\n",
            "Epoch 28/600\n",
            "67/67 [==============================] - 1s 17ms/step - loss: 8.8905e-04 - mean_absolute_error: 0.0220\n",
            "Epoch 29/600\n",
            "67/67 [==============================] - 1s 17ms/step - loss: 9.8668e-04 - mean_absolute_error: 0.0238\n",
            "Epoch 30/600\n",
            "67/67 [==============================] - 1s 17ms/step - loss: 9.5207e-04 - mean_absolute_error: 0.0230\n",
            "Epoch 31/600\n",
            "67/67 [==============================] - 1s 17ms/step - loss: 8.7674e-04 - mean_absolute_error: 0.0228\n",
            "Epoch 32/600\n",
            "67/67 [==============================] - 1s 17ms/step - loss: 9.3395e-04 - mean_absolute_error: 0.0227\n",
            "Epoch 33/600\n",
            "67/67 [==============================] - 1s 17ms/step - loss: 7.6587e-04 - mean_absolute_error: 0.0214\n",
            "Epoch 34/600\n",
            "67/67 [==============================] - 1s 17ms/step - loss: 9.6477e-04 - mean_absolute_error: 0.0228\n",
            "Epoch 35/600\n",
            "67/67 [==============================] - 1s 17ms/step - loss: 8.0452e-04 - mean_absolute_error: 0.0217\n",
            "Epoch 36/600\n",
            "67/67 [==============================] - 1s 17ms/step - loss: 6.8639e-04 - mean_absolute_error: 0.0204\n",
            "Epoch 37/600\n",
            "67/67 [==============================] - 1s 18ms/step - loss: 8.0493e-04 - mean_absolute_error: 0.0211\n",
            "Epoch 38/600\n",
            "67/67 [==============================] - 1s 17ms/step - loss: 8.6345e-04 - mean_absolute_error: 0.0227\n",
            "Epoch 39/600\n",
            "67/67 [==============================] - 1s 17ms/step - loss: 6.8090e-04 - mean_absolute_error: 0.0200\n",
            "Epoch 40/600\n",
            "67/67 [==============================] - 1s 17ms/step - loss: 6.9356e-04 - mean_absolute_error: 0.0202\n",
            "Epoch 41/600\n",
            "67/67 [==============================] - 1s 17ms/step - loss: 8.4606e-04 - mean_absolute_error: 0.0213\n",
            "Epoch 42/600\n",
            "67/67 [==============================] - 1s 18ms/step - loss: 7.8571e-04 - mean_absolute_error: 0.0202\n",
            "Epoch 43/600\n",
            "67/67 [==============================] - 1s 17ms/step - loss: 8.9277e-04 - mean_absolute_error: 0.0212\n",
            "Epoch 44/600\n",
            "67/67 [==============================] - 1s 17ms/step - loss: 6.4571e-04 - mean_absolute_error: 0.0195\n",
            "Epoch 45/600\n",
            "67/67 [==============================] - 1s 17ms/step - loss: 6.9228e-04 - mean_absolute_error: 0.0201\n",
            "Epoch 46/600\n",
            "67/67 [==============================] - 1s 17ms/step - loss: 6.5358e-04 - mean_absolute_error: 0.0196\n",
            "Epoch 47/600\n",
            "67/67 [==============================] - 1s 17ms/step - loss: 8.1234e-04 - mean_absolute_error: 0.0205\n",
            "Epoch 48/600\n",
            "67/67 [==============================] - 1s 17ms/step - loss: 6.8315e-04 - mean_absolute_error: 0.0201\n",
            "Epoch 49/600\n",
            "67/67 [==============================] - 1s 17ms/step - loss: 6.7092e-04 - mean_absolute_error: 0.0194\n",
            "Epoch 50/600\n",
            "67/67 [==============================] - 1s 17ms/step - loss: 9.8862e-04 - mean_absolute_error: 0.0218\n",
            "Epoch 51/600\n",
            "67/67 [==============================] - 1s 17ms/step - loss: 6.3099e-04 - mean_absolute_error: 0.0192\n",
            "Epoch 52/600\n",
            "67/67 [==============================] - 1s 17ms/step - loss: 6.0730e-04 - mean_absolute_error: 0.0190\n",
            "Epoch 53/600\n",
            "67/67 [==============================] - 1s 17ms/step - loss: 6.7786e-04 - mean_absolute_error: 0.0197\n",
            "Epoch 54/600\n",
            "67/67 [==============================] - 1s 17ms/step - loss: 6.7360e-04 - mean_absolute_error: 0.0185\n",
            "Epoch 55/600\n",
            "67/67 [==============================] - 1s 18ms/step - loss: 6.0969e-04 - mean_absolute_error: 0.0191\n",
            "Epoch 56/600\n",
            "67/67 [==============================] - 1s 17ms/step - loss: 6.3519e-04 - mean_absolute_error: 0.0193\n",
            "Epoch 57/600\n",
            "67/67 [==============================] - 1s 17ms/step - loss: 5.6864e-04 - mean_absolute_error: 0.0183\n",
            "Epoch 58/600\n",
            "67/67 [==============================] - 1s 17ms/step - loss: 6.2564e-04 - mean_absolute_error: 0.0195\n",
            "Epoch 59/600\n",
            "67/67 [==============================] - 1s 17ms/step - loss: 5.9250e-04 - mean_absolute_error: 0.0181\n",
            "Epoch 60/600\n",
            "67/67 [==============================] - 1s 18ms/step - loss: 6.0077e-04 - mean_absolute_error: 0.0189\n",
            "Epoch 61/600\n",
            "67/67 [==============================] - 1s 17ms/step - loss: 8.7191e-04 - mean_absolute_error: 0.0224\n",
            "Epoch 62/600\n",
            "67/67 [==============================] - 1s 17ms/step - loss: 5.9008e-04 - mean_absolute_error: 0.0186\n",
            "Epoch 63/600\n",
            "67/67 [==============================] - 1s 17ms/step - loss: 5.9341e-04 - mean_absolute_error: 0.0187\n",
            "Epoch 64/600\n",
            "67/67 [==============================] - 1s 17ms/step - loss: 7.3099e-04 - mean_absolute_error: 0.0213\n",
            "Epoch 65/600\n",
            "67/67 [==============================] - 1s 17ms/step - loss: 5.9218e-04 - mean_absolute_error: 0.0188\n",
            "Epoch 66/600\n",
            "67/67 [==============================] - 1s 17ms/step - loss: 5.4241e-04 - mean_absolute_error: 0.0183\n",
            "Epoch 67/600\n",
            "67/67 [==============================] - 1s 17ms/step - loss: 6.6485e-04 - mean_absolute_error: 0.0196\n",
            "Epoch 68/600\n",
            "67/67 [==============================] - 1s 18ms/step - loss: 5.9924e-04 - mean_absolute_error: 0.0184\n",
            "Epoch 69/600\n",
            "67/67 [==============================] - 1s 17ms/step - loss: 6.0267e-04 - mean_absolute_error: 0.0186\n",
            "Epoch 70/600\n",
            "67/67 [==============================] - 1s 17ms/step - loss: 4.9526e-04 - mean_absolute_error: 0.0174\n",
            "Epoch 71/600\n",
            "67/67 [==============================] - 1s 17ms/step - loss: 5.8965e-04 - mean_absolute_error: 0.0187\n",
            "Epoch 72/600\n",
            "67/67 [==============================] - 1s 18ms/step - loss: 5.5896e-04 - mean_absolute_error: 0.0175\n",
            "Epoch 73/600\n",
            "67/67 [==============================] - 1s 17ms/step - loss: 6.4409e-04 - mean_absolute_error: 0.0188\n",
            "Epoch 74/600\n",
            "67/67 [==============================] - 1s 18ms/step - loss: 5.5932e-04 - mean_absolute_error: 0.0180\n",
            "Epoch 75/600\n",
            "67/67 [==============================] - 1s 18ms/step - loss: 6.9877e-04 - mean_absolute_error: 0.0194\n",
            "Epoch 76/600\n",
            "67/67 [==============================] - 1s 17ms/step - loss: 5.2881e-04 - mean_absolute_error: 0.0179\n",
            "Epoch 77/600\n",
            "67/67 [==============================] - 1s 18ms/step - loss: 5.4005e-04 - mean_absolute_error: 0.0174\n",
            "Epoch 78/600\n",
            "67/67 [==============================] - 1s 19ms/step - loss: 5.4473e-04 - mean_absolute_error: 0.0181\n",
            "Epoch 79/600\n",
            "67/67 [==============================] - 1s 18ms/step - loss: 5.5888e-04 - mean_absolute_error: 0.0178\n",
            "Epoch 80/600\n",
            "67/67 [==============================] - 1s 18ms/step - loss: 6.5043e-04 - mean_absolute_error: 0.0189\n",
            "Epoch 81/600\n",
            "67/67 [==============================] - 1s 17ms/step - loss: 5.4579e-04 - mean_absolute_error: 0.0172\n",
            "Epoch 82/600\n",
            "67/67 [==============================] - 1s 18ms/step - loss: 6.0145e-04 - mean_absolute_error: 0.0179\n",
            "Epoch 83/600\n",
            "67/67 [==============================] - 1s 17ms/step - loss: 6.6589e-04 - mean_absolute_error: 0.0179\n",
            "Epoch 84/600\n",
            "67/67 [==============================] - 1s 18ms/step - loss: 5.4865e-04 - mean_absolute_error: 0.0181\n",
            "Epoch 85/600\n",
            "67/67 [==============================] - 1s 18ms/step - loss: 5.0385e-04 - mean_absolute_error: 0.0177\n",
            "Epoch 86/600\n",
            "67/67 [==============================] - 1s 18ms/step - loss: 5.3963e-04 - mean_absolute_error: 0.0181\n",
            "Epoch 87/600\n",
            "67/67 [==============================] - 1s 17ms/step - loss: 4.8561e-04 - mean_absolute_error: 0.0172\n",
            "Epoch 88/600\n",
            "67/67 [==============================] - 1s 18ms/step - loss: 6.8053e-04 - mean_absolute_error: 0.0176\n",
            "Epoch 89/600\n",
            "67/67 [==============================] - 1s 17ms/step - loss: 7.0836e-04 - mean_absolute_error: 0.0183\n",
            "Epoch 90/600\n",
            "67/67 [==============================] - 1s 17ms/step - loss: 5.0551e-04 - mean_absolute_error: 0.0170\n",
            "Epoch 91/600\n",
            "67/67 [==============================] - 1s 17ms/step - loss: 5.2812e-04 - mean_absolute_error: 0.0178\n",
            "Epoch 92/600\n",
            "67/67 [==============================] - 1s 17ms/step - loss: 6.7123e-04 - mean_absolute_error: 0.0189\n",
            "Epoch 93/600\n",
            "67/67 [==============================] - 1s 18ms/step - loss: 5.1554e-04 - mean_absolute_error: 0.0175\n",
            "Epoch 94/600\n",
            "67/67 [==============================] - 1s 18ms/step - loss: 5.0918e-04 - mean_absolute_error: 0.0169\n",
            "Epoch 95/600\n",
            "67/67 [==============================] - 1s 18ms/step - loss: 5.0292e-04 - mean_absolute_error: 0.0170\n",
            "Epoch 96/600\n",
            "67/67 [==============================] - 1s 18ms/step - loss: 5.3924e-04 - mean_absolute_error: 0.0177\n",
            "Epoch 97/600\n",
            "67/67 [==============================] - 1s 18ms/step - loss: 5.2205e-04 - mean_absolute_error: 0.0170\n",
            "Epoch 98/600\n",
            "67/67 [==============================] - 1s 19ms/step - loss: 5.3979e-04 - mean_absolute_error: 0.0174\n",
            "Epoch 99/600\n",
            "67/67 [==============================] - 1s 18ms/step - loss: 5.0552e-04 - mean_absolute_error: 0.0169\n",
            "Epoch 100/600\n",
            "67/67 [==============================] - 1s 18ms/step - loss: 4.5602e-04 - mean_absolute_error: 0.0163\n",
            "Epoch 101/600\n",
            "67/67 [==============================] - 1s 18ms/step - loss: 4.7909e-04 - mean_absolute_error: 0.0170\n",
            "Epoch 102/600\n",
            "67/67 [==============================] - 1s 18ms/step - loss: 6.8350e-04 - mean_absolute_error: 0.0174\n",
            "Epoch 103/600\n",
            "67/67 [==============================] - 1s 18ms/step - loss: 5.4443e-04 - mean_absolute_error: 0.0181\n",
            "Epoch 104/600\n",
            "67/67 [==============================] - 1s 18ms/step - loss: 5.0737e-04 - mean_absolute_error: 0.0169\n",
            "Epoch 105/600\n",
            "67/67 [==============================] - 1s 18ms/step - loss: 4.5462e-04 - mean_absolute_error: 0.0165\n",
            "Epoch 106/600\n",
            "67/67 [==============================] - 1s 18ms/step - loss: 5.8601e-04 - mean_absolute_error: 0.0177\n",
            "Epoch 107/600\n",
            "67/67 [==============================] - 1s 18ms/step - loss: 4.7629e-04 - mean_absolute_error: 0.0168\n",
            "Epoch 108/600\n",
            "67/67 [==============================] - 1s 18ms/step - loss: 5.5088e-04 - mean_absolute_error: 0.0174\n",
            "Epoch 109/600\n",
            "67/67 [==============================] - 1s 18ms/step - loss: 5.5977e-04 - mean_absolute_error: 0.0180\n",
            "Epoch 110/600\n",
            "67/67 [==============================] - 1s 18ms/step - loss: 4.7425e-04 - mean_absolute_error: 0.0167\n",
            "Epoch 111/600\n",
            "67/67 [==============================] - 1s 18ms/step - loss: 4.8379e-04 - mean_absolute_error: 0.0170\n",
            "Epoch 112/600\n",
            "67/67 [==============================] - 1s 18ms/step - loss: 5.0165e-04 - mean_absolute_error: 0.0171\n",
            "Epoch 113/600\n",
            "67/67 [==============================] - 1s 19ms/step - loss: 5.8810e-04 - mean_absolute_error: 0.0170\n",
            "Epoch 114/600\n",
            "67/67 [==============================] - 1s 18ms/step - loss: 4.2431e-04 - mean_absolute_error: 0.0160\n",
            "Epoch 115/600\n",
            "67/67 [==============================] - 1s 18ms/step - loss: 4.3873e-04 - mean_absolute_error: 0.0163\n",
            "Epoch 116/600\n",
            "67/67 [==============================] - 1s 18ms/step - loss: 5.4264e-04 - mean_absolute_error: 0.0170\n",
            "Epoch 117/600\n",
            "67/67 [==============================] - 1s 19ms/step - loss: 5.2297e-04 - mean_absolute_error: 0.0166\n",
            "Epoch 118/600\n",
            "67/67 [==============================] - 1s 18ms/step - loss: 4.6983e-04 - mean_absolute_error: 0.0167\n",
            "Epoch 119/600\n",
            "67/67 [==============================] - 1s 19ms/step - loss: 4.6647e-04 - mean_absolute_error: 0.0164\n",
            "Epoch 120/600\n",
            "67/67 [==============================] - 1s 18ms/step - loss: 4.6368e-04 - mean_absolute_error: 0.0167\n",
            "Epoch 121/600\n",
            "67/67 [==============================] - 1s 18ms/step - loss: 6.4266e-04 - mean_absolute_error: 0.0171\n",
            "Epoch 122/600\n",
            "67/67 [==============================] - 1s 18ms/step - loss: 4.9895e-04 - mean_absolute_error: 0.0168\n",
            "Epoch 123/600\n",
            "67/67 [==============================] - 1s 18ms/step - loss: 5.8867e-04 - mean_absolute_error: 0.0175\n",
            "Epoch 124/600\n",
            "67/67 [==============================] - 1s 18ms/step - loss: 4.6216e-04 - mean_absolute_error: 0.0165\n",
            "Epoch 125/600\n",
            "67/67 [==============================] - 1s 18ms/step - loss: 5.2557e-04 - mean_absolute_error: 0.0169\n",
            "Epoch 126/600\n",
            "67/67 [==============================] - 1s 18ms/step - loss: 5.1838e-04 - mean_absolute_error: 0.0165\n",
            "Epoch 127/600\n",
            "67/67 [==============================] - 1s 19ms/step - loss: 4.4323e-04 - mean_absolute_error: 0.0156\n",
            "Epoch 128/600\n",
            "67/67 [==============================] - 1s 18ms/step - loss: 4.7709e-04 - mean_absolute_error: 0.0166\n",
            "Epoch 129/600\n",
            "67/67 [==============================] - 1s 18ms/step - loss: 4.7210e-04 - mean_absolute_error: 0.0160\n",
            "Epoch 130/600\n",
            "67/67 [==============================] - 1s 19ms/step - loss: 4.9067e-04 - mean_absolute_error: 0.0170\n",
            "Epoch 131/600\n",
            "67/67 [==============================] - 1s 19ms/step - loss: 4.5227e-04 - mean_absolute_error: 0.0165\n",
            "Epoch 132/600\n",
            "67/67 [==============================] - 1s 18ms/step - loss: 5.1863e-04 - mean_absolute_error: 0.0166\n",
            "Epoch 133/600\n",
            "67/67 [==============================] - 1s 18ms/step - loss: 4.3279e-04 - mean_absolute_error: 0.0160\n",
            "Epoch 134/600\n",
            "67/67 [==============================] - 1s 19ms/step - loss: 4.9922e-04 - mean_absolute_error: 0.0167\n",
            "Epoch 135/600\n",
            "67/67 [==============================] - 1s 19ms/step - loss: 4.4355e-04 - mean_absolute_error: 0.0166\n",
            "Epoch 136/600\n",
            "67/67 [==============================] - 1s 18ms/step - loss: 4.4075e-04 - mean_absolute_error: 0.0162\n",
            "Epoch 137/600\n",
            "67/67 [==============================] - 1s 18ms/step - loss: 4.3164e-04 - mean_absolute_error: 0.0162\n",
            "Epoch 138/600\n",
            "67/67 [==============================] - 1s 18ms/step - loss: 4.3783e-04 - mean_absolute_error: 0.0158\n",
            "Epoch 139/600\n",
            "67/67 [==============================] - 1s 18ms/step - loss: 4.0377e-04 - mean_absolute_error: 0.0156\n",
            "Epoch 140/600\n",
            "67/67 [==============================] - 1s 18ms/step - loss: 5.1635e-04 - mean_absolute_error: 0.0163\n",
            "Epoch 141/600\n",
            "67/67 [==============================] - 1s 18ms/step - loss: 4.8196e-04 - mean_absolute_error: 0.0158\n",
            "Epoch 142/600\n",
            "67/67 [==============================] - 1s 18ms/step - loss: 4.6237e-04 - mean_absolute_error: 0.0159\n",
            "Epoch 143/600\n",
            "67/67 [==============================] - 1s 18ms/step - loss: 4.0752e-04 - mean_absolute_error: 0.0158\n",
            "Epoch 144/600\n",
            "67/67 [==============================] - 1s 18ms/step - loss: 4.8037e-04 - mean_absolute_error: 0.0161\n",
            "Epoch 145/600\n",
            "67/67 [==============================] - 1s 18ms/step - loss: 4.6950e-04 - mean_absolute_error: 0.0166\n",
            "Epoch 146/600\n",
            "67/67 [==============================] - 1s 18ms/step - loss: 4.1527e-04 - mean_absolute_error: 0.0153\n",
            "Epoch 147/600\n",
            "67/67 [==============================] - 1s 18ms/step - loss: 5.2573e-04 - mean_absolute_error: 0.0170\n",
            "Epoch 148/600\n",
            "67/67 [==============================] - 1s 18ms/step - loss: 4.6784e-04 - mean_absolute_error: 0.0162\n",
            "Epoch 149/600\n",
            "67/67 [==============================] - 1s 18ms/step - loss: 4.5724e-04 - mean_absolute_error: 0.0163\n",
            "Epoch 150/600\n",
            "67/67 [==============================] - 1s 18ms/step - loss: 4.4174e-04 - mean_absolute_error: 0.0159\n",
            "Epoch 151/600\n",
            "67/67 [==============================] - 1s 18ms/step - loss: 4.1492e-04 - mean_absolute_error: 0.0158\n",
            "Epoch 152/600\n",
            "67/67 [==============================] - 1s 18ms/step - loss: 4.5288e-04 - mean_absolute_error: 0.0162\n",
            "Epoch 153/600\n",
            "67/67 [==============================] - 1s 18ms/step - loss: 4.1575e-04 - mean_absolute_error: 0.0158\n",
            "Epoch 154/600\n",
            "67/67 [==============================] - 1s 18ms/step - loss: 4.3383e-04 - mean_absolute_error: 0.0153\n",
            "Epoch 155/600\n",
            "67/67 [==============================] - 1s 18ms/step - loss: 5.5214e-04 - mean_absolute_error: 0.0170\n",
            "Epoch 156/600\n",
            "67/67 [==============================] - 1s 18ms/step - loss: 3.9750e-04 - mean_absolute_error: 0.0154\n",
            "Epoch 157/600\n",
            "67/67 [==============================] - 1s 18ms/step - loss: 4.5373e-04 - mean_absolute_error: 0.0166\n",
            "Epoch 158/600\n",
            "67/67 [==============================] - 1s 18ms/step - loss: 4.7694e-04 - mean_absolute_error: 0.0160\n",
            "Epoch 159/600\n",
            "67/67 [==============================] - 1s 18ms/step - loss: 5.3492e-04 - mean_absolute_error: 0.0168\n",
            "Epoch 160/600\n",
            "67/67 [==============================] - 1s 18ms/step - loss: 5.3999e-04 - mean_absolute_error: 0.0168\n",
            "Epoch 161/600\n",
            "67/67 [==============================] - 1s 18ms/step - loss: 4.7082e-04 - mean_absolute_error: 0.0155\n",
            "Epoch 162/600\n",
            "67/67 [==============================] - 1s 18ms/step - loss: 4.2235e-04 - mean_absolute_error: 0.0154\n",
            "Epoch 00162: early stopping\n"
          ],
          "name": "stdout"
        },
        {
          "output_type": "execute_result",
          "data": {
            "text/plain": [
              "<tensorflow.python.keras.callbacks.History at 0x7f9c2aed8710>"
            ]
          },
          "metadata": {
            "tags": []
          },
          "execution_count": 95
        }
      ]
    },
    {
      "cell_type": "markdown",
      "metadata": {
        "id": "RtFahmEgGAzZ"
      },
      "source": [
        "#**5-Teste da rede**"
      ]
    },
    {
      "cell_type": "markdown",
      "metadata": {
        "id": "QSWSKW8nqeA0"
      },
      "source": [
        "##**5.1-Importando os dados para teste**"
      ]
    },
    {
      "cell_type": "code",
      "metadata": {
        "id": "4X6-ArtKUdpD"
      },
      "source": [
        "#criando a base de dados teste\n",
        "base_teste = pd.read_csv('ABEV3-teste.csv')\n",
        "base_teste = base_teste.drop('Date', axis = 1)"
      ],
      "execution_count": 96,
      "outputs": []
    },
    {
      "cell_type": "code",
      "metadata": {
        "colab": {
          "base_uri": "https://localhost:8080/",
          "height": 0
        },
        "id": "dXOp2vDcpAvA",
        "outputId": "e2e071c6-d2ec-4671-ccc7-62f3920df522"
      },
      "source": [
        "#valores estatísticos\n",
        "base_teste.describe()"
      ],
      "execution_count": 97,
      "outputs": [
        {
          "output_type": "execute_result",
          "data": {
            "text/html": [
              "<div>\n",
              "<style scoped>\n",
              "    .dataframe tbody tr th:only-of-type {\n",
              "        vertical-align: middle;\n",
              "    }\n",
              "\n",
              "    .dataframe tbody tr th {\n",
              "        vertical-align: top;\n",
              "    }\n",
              "\n",
              "    .dataframe thead th {\n",
              "        text-align: right;\n",
              "    }\n",
              "</style>\n",
              "<table border=\"1\" class=\"dataframe\">\n",
              "  <thead>\n",
              "    <tr style=\"text-align: right;\">\n",
              "      <th></th>\n",
              "      <th>Open</th>\n",
              "      <th>High</th>\n",
              "      <th>Low</th>\n",
              "      <th>Close</th>\n",
              "      <th>Adj Close</th>\n",
              "      <th>Volume</th>\n",
              "    </tr>\n",
              "  </thead>\n",
              "  <tbody>\n",
              "    <tr>\n",
              "      <th>count</th>\n",
              "      <td>247.000000</td>\n",
              "      <td>247.000000</td>\n",
              "      <td>247.000000</td>\n",
              "      <td>247.000000</td>\n",
              "      <td>247.000000</td>\n",
              "      <td>2.470000e+02</td>\n",
              "    </tr>\n",
              "    <tr>\n",
              "      <th>mean</th>\n",
              "      <td>18.097571</td>\n",
              "      <td>18.318462</td>\n",
              "      <td>17.895506</td>\n",
              "      <td>18.111619</td>\n",
              "      <td>17.121478</td>\n",
              "      <td>2.172937e+07</td>\n",
              "    </tr>\n",
              "    <tr>\n",
              "      <th>std</th>\n",
              "      <td>0.927619</td>\n",
              "      <td>0.923881</td>\n",
              "      <td>0.922278</td>\n",
              "      <td>0.924107</td>\n",
              "      <td>0.884616</td>\n",
              "      <td>1.126563e+07</td>\n",
              "    </tr>\n",
              "    <tr>\n",
              "      <th>min</th>\n",
              "      <td>15.400000</td>\n",
              "      <td>16.299999</td>\n",
              "      <td>15.400000</td>\n",
              "      <td>16.150000</td>\n",
              "      <td>15.258595</td>\n",
              "      <td>5.109500e+06</td>\n",
              "    </tr>\n",
              "    <tr>\n",
              "      <th>25%</th>\n",
              "      <td>17.445001</td>\n",
              "      <td>17.639999</td>\n",
              "      <td>17.245000</td>\n",
              "      <td>17.435001</td>\n",
              "      <td>16.472670</td>\n",
              "      <td>1.524115e+07</td>\n",
              "    </tr>\n",
              "    <tr>\n",
              "      <th>50%</th>\n",
              "      <td>18.100000</td>\n",
              "      <td>18.270000</td>\n",
              "      <td>17.920000</td>\n",
              "      <td>18.090000</td>\n",
              "      <td>17.091515</td>\n",
              "      <td>1.919990e+07</td>\n",
              "    </tr>\n",
              "    <tr>\n",
              "      <th>75%</th>\n",
              "      <td>18.795000</td>\n",
              "      <td>18.974999</td>\n",
              "      <td>18.580000</td>\n",
              "      <td>18.735000</td>\n",
              "      <td>17.724536</td>\n",
              "      <td>2.542865e+07</td>\n",
              "    </tr>\n",
              "    <tr>\n",
              "      <th>max</th>\n",
              "      <td>20.410000</td>\n",
              "      <td>20.770000</td>\n",
              "      <td>20.330000</td>\n",
              "      <td>20.629999</td>\n",
              "      <td>19.491320</td>\n",
              "      <td>9.751180e+07</td>\n",
              "    </tr>\n",
              "  </tbody>\n",
              "</table>\n",
              "</div>"
            ],
            "text/plain": [
              "             Open        High         Low       Close   Adj Close        Volume\n",
              "count  247.000000  247.000000  247.000000  247.000000  247.000000  2.470000e+02\n",
              "mean    18.097571   18.318462   17.895506   18.111619   17.121478  2.172937e+07\n",
              "std      0.927619    0.923881    0.922278    0.924107    0.884616  1.126563e+07\n",
              "min     15.400000   16.299999   15.400000   16.150000   15.258595  5.109500e+06\n",
              "25%     17.445001   17.639999   17.245000   17.435001   16.472670  1.524115e+07\n",
              "50%     18.100000   18.270000   17.920000   18.090000   17.091515  1.919990e+07\n",
              "75%     18.795000   18.974999   18.580000   18.735000   17.724536  2.542865e+07\n",
              "max     20.410000   20.770000   20.330000   20.629999   19.491320  9.751180e+07"
            ]
          },
          "metadata": {
            "tags": []
          },
          "execution_count": 97
        }
      ]
    },
    {
      "cell_type": "markdown",
      "metadata": {
        "id": "Cw-NIb9EpatP"
      },
      "source": [
        "##**5.2-Tratando os Valores Faltantes**"
      ]
    },
    {
      "cell_type": "code",
      "metadata": {
        "colab": {
          "base_uri": "https://localhost:8080/"
        },
        "id": "lthEX_TZniHb",
        "outputId": "0a8887e7-adce-4e6e-8e49-778d87362ac4"
      },
      "source": [
        "#valores faltantes\n",
        "base_teste.isna().sum()"
      ],
      "execution_count": 98,
      "outputs": [
        {
          "output_type": "execute_result",
          "data": {
            "text/plain": [
              "Open         1\n",
              "High         1\n",
              "Low          1\n",
              "Close        1\n",
              "Adj Close    1\n",
              "Volume       1\n",
              "dtype: int64"
            ]
          },
          "metadata": {
            "tags": []
          },
          "execution_count": 98
        }
      ]
    },
    {
      "cell_type": "code",
      "metadata": {
        "colab": {
          "base_uri": "https://localhost:8080/",
          "height": 0
        },
        "id": "uiH2j_UNpjqk",
        "outputId": "14042c1a-adb4-4225-ca0c-86838bfcfed9"
      },
      "source": [
        "#encontrando onde os valores faltantes estão\n",
        "base_teste.loc[pd.isnull(base_teste['Open'])]\n",
        "base_teste.loc[pd.isnull(base_teste['High'])]\n",
        "base_teste.loc[pd.isnull(base_teste['Low'])]\n",
        "base_teste.loc[pd.isnull(base_teste['Close'])]\n",
        "base_teste.loc[pd.isnull(base_teste['Adj Close'])]\n",
        "base_teste.loc[pd.isnull(base_teste['Volume'])]"
      ],
      "execution_count": 99,
      "outputs": [
        {
          "output_type": "execute_result",
          "data": {
            "text/html": [
              "<div>\n",
              "<style scoped>\n",
              "    .dataframe tbody tr th:only-of-type {\n",
              "        vertical-align: middle;\n",
              "    }\n",
              "\n",
              "    .dataframe tbody tr th {\n",
              "        vertical-align: top;\n",
              "    }\n",
              "\n",
              "    .dataframe thead th {\n",
              "        text-align: right;\n",
              "    }\n",
              "</style>\n",
              "<table border=\"1\" class=\"dataframe\">\n",
              "  <thead>\n",
              "    <tr style=\"text-align: right;\">\n",
              "      <th></th>\n",
              "      <th>Open</th>\n",
              "      <th>High</th>\n",
              "      <th>Low</th>\n",
              "      <th>Close</th>\n",
              "      <th>Adj Close</th>\n",
              "      <th>Volume</th>\n",
              "    </tr>\n",
              "  </thead>\n",
              "  <tbody>\n",
              "    <tr>\n",
              "      <th>42</th>\n",
              "      <td>NaN</td>\n",
              "      <td>NaN</td>\n",
              "      <td>NaN</td>\n",
              "      <td>NaN</td>\n",
              "      <td>NaN</td>\n",
              "      <td>NaN</td>\n",
              "    </tr>\n",
              "  </tbody>\n",
              "</table>\n",
              "</div>"
            ],
            "text/plain": [
              "    Open  High  Low  Close  Adj Close  Volume\n",
              "42   NaN   NaN  NaN    NaN        NaN     NaN"
            ]
          },
          "metadata": {
            "tags": []
          },
          "execution_count": 99
        }
      ]
    },
    {
      "cell_type": "code",
      "metadata": {
        "id": "Bbw7axJ75lpn"
      },
      "source": [
        "#preenchendo os valores faltantes com o valor médio\n",
        "imputer = SimpleImputer(missing_values=np.nan, strategy='mean',verbose=0)\n",
        "imputer = imputer.fit(base_teste.iloc[:,0:6])\n",
        "base_teste.iloc[:,0:6] = imputer.transform(base_teste.iloc[:,0:6])"
      ],
      "execution_count": 100,
      "outputs": []
    },
    {
      "cell_type": "code",
      "metadata": {
        "colab": {
          "base_uri": "https://localhost:8080/",
          "height": 0
        },
        "id": "CXAi4QV8pw2x",
        "outputId": "a0d228bf-7966-4626-f0da-d645be837841"
      },
      "source": [
        "#verificando novamente se ainda temos valores faltantes\n",
        "base_teste.loc[pd.isnull(base_teste['Open'])]\n",
        "base_teste.loc[pd.isnull(base_teste['High'])]\n",
        "base_teste.loc[pd.isnull(base_teste['Low'])]\n",
        "base_teste.loc[pd.isnull(base_teste['Close'])]\n",
        "base_teste.loc[pd.isnull(base_teste['Adj Close'])]\n",
        "base_teste.loc[pd.isnull(base_teste['Volume'])]"
      ],
      "execution_count": 101,
      "outputs": [
        {
          "output_type": "execute_result",
          "data": {
            "text/html": [
              "<div>\n",
              "<style scoped>\n",
              "    .dataframe tbody tr th:only-of-type {\n",
              "        vertical-align: middle;\n",
              "    }\n",
              "\n",
              "    .dataframe tbody tr th {\n",
              "        vertical-align: top;\n",
              "    }\n",
              "\n",
              "    .dataframe thead th {\n",
              "        text-align: right;\n",
              "    }\n",
              "</style>\n",
              "<table border=\"1\" class=\"dataframe\">\n",
              "  <thead>\n",
              "    <tr style=\"text-align: right;\">\n",
              "      <th></th>\n",
              "      <th>Open</th>\n",
              "      <th>High</th>\n",
              "      <th>Low</th>\n",
              "      <th>Close</th>\n",
              "      <th>Adj Close</th>\n",
              "      <th>Volume</th>\n",
              "    </tr>\n",
              "  </thead>\n",
              "  <tbody>\n",
              "  </tbody>\n",
              "</table>\n",
              "</div>"
            ],
            "text/plain": [
              "Empty DataFrame\n",
              "Columns: [Open, High, Low, Close, Adj Close, Volume]\n",
              "Index: []"
            ]
          },
          "metadata": {
            "tags": []
          },
          "execution_count": 101
        }
      ]
    },
    {
      "cell_type": "markdown",
      "metadata": {
        "id": "X1nZpS8Rp2zr"
      },
      "source": [
        "##**5.3-Tratamento dos valores nulos (iguais a 0)**"
      ]
    },
    {
      "cell_type": "code",
      "metadata": {
        "colab": {
          "base_uri": "https://localhost:8080/"
        },
        "id": "XYwer-dip-KB",
        "outputId": "2be64c8c-4faa-4134-b4f8-c6586f7eba04"
      },
      "source": [
        "#valores nulos\n",
        "(base_teste == 0).sum()"
      ],
      "execution_count": 102,
      "outputs": [
        {
          "output_type": "execute_result",
          "data": {
            "text/plain": [
              "Open         0\n",
              "High         0\n",
              "Low          0\n",
              "Close        0\n",
              "Adj Close    0\n",
              "Volume       0\n",
              "dtype: int64"
            ]
          },
          "metadata": {
            "tags": []
          },
          "execution_count": 102
        }
      ]
    },
    {
      "cell_type": "code",
      "metadata": {
        "id": "sFBo6iR5qEpS",
        "outputId": "10938983-1b1c-4e39-efe6-d35f0fec2a71",
        "colab": {
          "base_uri": "https://localhost:8080/",
          "height": 0
        }
      },
      "source": [
        "#Encontrando os valores nulos\n",
        "base_teste.loc[base_teste['Volume'] == 0]"
      ],
      "execution_count": 103,
      "outputs": [
        {
          "output_type": "execute_result",
          "data": {
            "text/html": [
              "<div>\n",
              "<style scoped>\n",
              "    .dataframe tbody tr th:only-of-type {\n",
              "        vertical-align: middle;\n",
              "    }\n",
              "\n",
              "    .dataframe tbody tr th {\n",
              "        vertical-align: top;\n",
              "    }\n",
              "\n",
              "    .dataframe thead th {\n",
              "        text-align: right;\n",
              "    }\n",
              "</style>\n",
              "<table border=\"1\" class=\"dataframe\">\n",
              "  <thead>\n",
              "    <tr style=\"text-align: right;\">\n",
              "      <th></th>\n",
              "      <th>Open</th>\n",
              "      <th>High</th>\n",
              "      <th>Low</th>\n",
              "      <th>Close</th>\n",
              "      <th>Adj Close</th>\n",
              "      <th>Volume</th>\n",
              "    </tr>\n",
              "  </thead>\n",
              "  <tbody>\n",
              "  </tbody>\n",
              "</table>\n",
              "</div>"
            ],
            "text/plain": [
              "Empty DataFrame\n",
              "Columns: [Open, High, Low, Close, Adj Close, Volume]\n",
              "Index: []"
            ]
          },
          "metadata": {
            "tags": []
          },
          "execution_count": 103
        }
      ]
    },
    {
      "cell_type": "code",
      "metadata": {
        "id": "ofkU-XjcqOQE"
      },
      "source": [
        "#preenchendo os valores nulos com o valor médio\n",
        "imputer = SimpleImputer(missing_values=0, strategy='mean',verbose=0)\n",
        "imputer = imputer.fit(base_teste.iloc[:,0:6])\n",
        "base_teste.iloc[:,0:6] = imputer.transform(base_teste.iloc[:,0:6])"
      ],
      "execution_count": 104,
      "outputs": []
    },
    {
      "cell_type": "code",
      "metadata": {
        "id": "pYUeIwbnppRT",
        "outputId": "440b4ca9-4aa3-4e48-b65a-0314b7d2b7fa",
        "colab": {
          "base_uri": "https://localhost:8080/",
          "height": 0
        }
      },
      "source": [
        "#Verificando novamente se tem valores nulos\n",
        "base_teste.loc[base_teste['Volume'] == 0]"
      ],
      "execution_count": 105,
      "outputs": [
        {
          "output_type": "execute_result",
          "data": {
            "text/html": [
              "<div>\n",
              "<style scoped>\n",
              "    .dataframe tbody tr th:only-of-type {\n",
              "        vertical-align: middle;\n",
              "    }\n",
              "\n",
              "    .dataframe tbody tr th {\n",
              "        vertical-align: top;\n",
              "    }\n",
              "\n",
              "    .dataframe thead th {\n",
              "        text-align: right;\n",
              "    }\n",
              "</style>\n",
              "<table border=\"1\" class=\"dataframe\">\n",
              "  <thead>\n",
              "    <tr style=\"text-align: right;\">\n",
              "      <th></th>\n",
              "      <th>Open</th>\n",
              "      <th>High</th>\n",
              "      <th>Low</th>\n",
              "      <th>Close</th>\n",
              "      <th>Adj Close</th>\n",
              "      <th>Volume</th>\n",
              "    </tr>\n",
              "  </thead>\n",
              "  <tbody>\n",
              "  </tbody>\n",
              "</table>\n",
              "</div>"
            ],
            "text/plain": [
              "Empty DataFrame\n",
              "Columns: [Open, High, Low, Close, Adj Close, Volume]\n",
              "Index: []"
            ]
          },
          "metadata": {
            "tags": []
          },
          "execution_count": 105
        }
      ]
    },
    {
      "cell_type": "markdown",
      "metadata": {
        "id": "N79Bjk6Yq6ci"
      },
      "source": [
        "##**5.4-Preparando a estrutura para teste**"
      ]
    },
    {
      "cell_type": "code",
      "metadata": {
        "id": "UFINH9OzUfDk"
      },
      "source": [
        "#concatenando a base de dados teste com o base de treinamento\n",
        "preco_real_teste = base_teste.iloc[:, 3:4].values\n",
        "frames = [base, base_teste]\n",
        "base_completa = pd.concat(frames)"
      ],
      "execution_count": 106,
      "outputs": []
    },
    {
      "cell_type": "code",
      "metadata": {
        "id": "-CdLW8IZUhLY"
      },
      "source": [
        "#pegando os 90 registros anteriores para percorrer a base teste e colocando no\n",
        "#no formato np.array\n",
        "entradas = base_completa[len(base_completa) - len(base_teste) - 90:].values\n",
        "entradas = normalizador.transform(entradas)\n",
        "Percorrer_teste = []\n",
        "for i in range(90, 338): \n",
        "    Percorrer_teste.append(entradas[i-90:i, 0:6])\n",
        "Percorrer_teste = np.array(Percorrer_teste)"
      ],
      "execution_count": 107,
      "outputs": []
    },
    {
      "cell_type": "code",
      "metadata": {
        "id": "_YdD2ZcaUi1w"
      },
      "source": [
        "#resultado da predição no formato MinMaxScaler\n",
        "previsoes = regressor.predict(Percorrer_teste)"
      ],
      "execution_count": 108,
      "outputs": []
    },
    {
      "cell_type": "code",
      "metadata": {
        "colab": {
          "base_uri": "https://localhost:8080/"
        },
        "id": "jQS0Ql4tUk2Z",
        "outputId": "ace8d5a4-0fb8-4f14-9c3b-ca970fbef3e5"
      },
      "source": [
        "#convertendo para a escala MinMaxScaler \n",
        "normalizador_previsao = MinMaxScaler(feature_range=(0,1))\n",
        "normalizador_previsao.fit_transform(base_treinamento[:,3:4])"
      ],
      "execution_count": 109,
      "outputs": [
        {
          "output_type": "execute_result",
          "data": {
            "text/plain": [
              "array([[0.03189167],\n",
              "       [0.03380903],\n",
              "       [0.03715374],\n",
              "       ...,\n",
              "       [0.51319622],\n",
              "       [0.51106346],\n",
              "       [0.52599282]])"
            ]
          },
          "metadata": {
            "tags": []
          },
          "execution_count": 109
        }
      ]
    },
    {
      "cell_type": "code",
      "metadata": {
        "id": "MP_GBjYJUnFe",
        "colab": {
          "base_uri": "https://localhost:8080/"
        },
        "outputId": "d8de3728-ab4a-4ac1-c919-08054d6001df"
      },
      "source": [
        "#colocando a previsão no formato original para preparar a visualização no gráfico\n",
        "previsoes = normalizador_previsao.inverse_transform(previsoes)\n",
        "previsoes"
      ],
      "execution_count": 110,
      "outputs": [
        {
          "output_type": "execute_result",
          "data": {
            "text/plain": [
              "array([[15.4878435],\n",
              "       [16.079325 ],\n",
              "       [16.360523 ],\n",
              "       [16.525732 ],\n",
              "       [16.573032 ],\n",
              "       [16.396076 ],\n",
              "       [16.409548 ],\n",
              "       [16.769115 ],\n",
              "       [17.129915 ],\n",
              "       [17.425123 ],\n",
              "       [17.616934 ],\n",
              "       [17.761145 ],\n",
              "       [17.797789 ],\n",
              "       [17.886396 ],\n",
              "       [17.910015 ],\n",
              "       [17.686302 ],\n",
              "       [17.360535 ],\n",
              "       [17.209578 ],\n",
              "       [17.697636 ],\n",
              "       [17.91635  ],\n",
              "       [17.970358 ],\n",
              "       [17.767904 ],\n",
              "       [17.977264 ],\n",
              "       [18.319027 ],\n",
              "       [18.580467 ],\n",
              "       [18.335022 ],\n",
              "       [18.54917  ],\n",
              "       [18.425976 ],\n",
              "       [18.507435 ],\n",
              "       [18.687197 ],\n",
              "       [18.546679 ],\n",
              "       [18.508791 ],\n",
              "       [18.546537 ],\n",
              "       [18.369545 ],\n",
              "       [18.376406 ],\n",
              "       [18.325726 ],\n",
              "       [18.364027 ],\n",
              "       [18.338457 ],\n",
              "       [18.424206 ],\n",
              "       [18.532732 ],\n",
              "       [18.47548  ],\n",
              "       [17.834398 ],\n",
              "       [17.216333 ],\n",
              "       [18.22426  ],\n",
              "       [17.462963 ],\n",
              "       [16.90172  ],\n",
              "       [17.218172 ],\n",
              "       [17.224613 ],\n",
              "       [16.993158 ],\n",
              "       [16.78863  ],\n",
              "       [16.748053 ],\n",
              "       [17.20155  ],\n",
              "       [17.306194 ],\n",
              "       [17.139822 ],\n",
              "       [17.020481 ],\n",
              "       [16.799402 ],\n",
              "       [16.646242 ],\n",
              "       [16.888618 ],\n",
              "       [16.725346 ],\n",
              "       [16.756289 ],\n",
              "       [16.911486 ],\n",
              "       [16.943394 ],\n",
              "       [16.933035 ],\n",
              "       [16.967081 ],\n",
              "       [17.274014 ],\n",
              "       [17.51547  ],\n",
              "       [17.445393 ],\n",
              "       [17.56876  ],\n",
              "       [17.611696 ],\n",
              "       [17.428083 ],\n",
              "       [17.226074 ],\n",
              "       [17.380888 ],\n",
              "       [17.56647  ],\n",
              "       [17.33507  ],\n",
              "       [17.159105 ],\n",
              "       [17.423866 ],\n",
              "       [17.748217 ],\n",
              "       [17.74587  ],\n",
              "       [18.099741 ],\n",
              "       [18.29495  ],\n",
              "       [18.370682 ],\n",
              "       [18.425507 ],\n",
              "       [18.175222 ],\n",
              "       [17.979897 ],\n",
              "       [17.990057 ],\n",
              "       [17.785505 ],\n",
              "       [17.842182 ],\n",
              "       [17.693712 ],\n",
              "       [17.49786  ],\n",
              "       [17.232077 ],\n",
              "       [17.121138 ],\n",
              "       [16.850626 ],\n",
              "       [16.734055 ],\n",
              "       [16.702925 ],\n",
              "       [16.616564 ],\n",
              "       [17.024837 ],\n",
              "       [17.276796 ],\n",
              "       [17.29467  ],\n",
              "       [17.177685 ],\n",
              "       [17.249048 ],\n",
              "       [17.341278 ],\n",
              "       [17.326632 ],\n",
              "       [17.418232 ],\n",
              "       [17.526316 ],\n",
              "       [17.503761 ],\n",
              "       [17.434372 ],\n",
              "       [17.48125  ],\n",
              "       [17.680605 ],\n",
              "       [17.725239 ],\n",
              "       [17.754309 ],\n",
              "       [17.798677 ],\n",
              "       [17.739065 ],\n",
              "       [17.861032 ],\n",
              "       [17.829546 ],\n",
              "       [17.82408  ],\n",
              "       [18.032652 ],\n",
              "       [18.214273 ],\n",
              "       [18.426847 ],\n",
              "       [18.422949 ],\n",
              "       [18.301487 ],\n",
              "       [18.199276 ],\n",
              "       [18.088575 ],\n",
              "       [18.01835  ],\n",
              "       [17.950544 ],\n",
              "       [18.104458 ],\n",
              "       [18.61607  ],\n",
              "       [19.008467 ],\n",
              "       [19.023647 ],\n",
              "       [19.000486 ],\n",
              "       [19.015026 ],\n",
              "       [18.856058 ],\n",
              "       [18.473915 ],\n",
              "       [18.34578  ],\n",
              "       [18.266712 ],\n",
              "       [18.167894 ],\n",
              "       [18.27207  ],\n",
              "       [18.296803 ],\n",
              "       [18.186546 ],\n",
              "       [18.193312 ],\n",
              "       [18.178007 ],\n",
              "       [19.238241 ],\n",
              "       [19.755611 ],\n",
              "       [20.227865 ],\n",
              "       [20.413197 ],\n",
              "       [20.237059 ],\n",
              "       [20.27558  ],\n",
              "       [20.330988 ],\n",
              "       [20.165308 ],\n",
              "       [20.234478 ],\n",
              "       [20.355787 ],\n",
              "       [20.193453 ],\n",
              "       [20.122042 ],\n",
              "       [19.83672  ],\n",
              "       [19.664589 ],\n",
              "       [19.433067 ],\n",
              "       [19.221628 ],\n",
              "       [19.182386 ],\n",
              "       [19.321106 ],\n",
              "       [19.254604 ],\n",
              "       [19.172108 ],\n",
              "       [18.909954 ],\n",
              "       [18.66854  ],\n",
              "       [18.492182 ],\n",
              "       [18.403364 ],\n",
              "       [18.345757 ],\n",
              "       [18.565006 ],\n",
              "       [18.807129 ],\n",
              "       [18.684505 ],\n",
              "       [18.615328 ],\n",
              "       [18.783186 ],\n",
              "       [18.793184 ],\n",
              "       [18.742199 ],\n",
              "       [18.803186 ],\n",
              "       [18.829563 ],\n",
              "       [18.886625 ],\n",
              "       [19.193024 ],\n",
              "       [19.182724 ],\n",
              "       [19.128475 ],\n",
              "       [19.289536 ],\n",
              "       [19.28433  ],\n",
              "       [19.325882 ],\n",
              "       [19.327608 ],\n",
              "       [19.380617 ],\n",
              "       [19.386436 ],\n",
              "       [19.500475 ],\n",
              "       [19.537594 ],\n",
              "       [19.517902 ],\n",
              "       [19.411898 ],\n",
              "       [19.366539 ],\n",
              "       [19.141235 ],\n",
              "       [18.86955  ],\n",
              "       [19.104769 ],\n",
              "       [19.085909 ],\n",
              "       [18.863724 ],\n",
              "       [18.848167 ],\n",
              "       [18.68876  ],\n",
              "       [18.725967 ],\n",
              "       [18.814339 ],\n",
              "       [18.942474 ],\n",
              "       [18.961437 ],\n",
              "       [18.89468  ],\n",
              "       [18.798061 ],\n",
              "       [18.898947 ],\n",
              "       [18.881006 ],\n",
              "       [18.764032 ],\n",
              "       [19.01165  ],\n",
              "       [18.268734 ],\n",
              "       [17.884304 ],\n",
              "       [17.798462 ],\n",
              "       [17.718395 ],\n",
              "       [17.588102 ],\n",
              "       [17.5034   ],\n",
              "       [17.617523 ],\n",
              "       [17.736406 ],\n",
              "       [17.64058  ],\n",
              "       [17.609606 ],\n",
              "       [17.441166 ],\n",
              "       [17.5145   ],\n",
              "       [17.461412 ],\n",
              "       [17.421972 ],\n",
              "       [17.496342 ],\n",
              "       [17.618853 ],\n",
              "       [17.694128 ],\n",
              "       [17.979826 ],\n",
              "       [18.180096 ],\n",
              "       [18.236824 ],\n",
              "       [18.072308 ],\n",
              "       [18.003632 ],\n",
              "       [18.053682 ],\n",
              "       [18.086937 ],\n",
              "       [18.057226 ],\n",
              "       [17.88635  ],\n",
              "       [18.215742 ],\n",
              "       [18.270506 ],\n",
              "       [18.435787 ],\n",
              "       [18.50241  ],\n",
              "       [18.475842 ],\n",
              "       [18.45996  ],\n",
              "       [18.631754 ],\n",
              "       [18.914139 ],\n",
              "       [19.075779 ],\n",
              "       [19.035055 ],\n",
              "       [19.030401 ],\n",
              "       [19.075884 ],\n",
              "       [18.974483 ],\n",
              "       [19.029676 ],\n",
              "       [19.18361  ],\n",
              "       [19.258099 ]], dtype=float32)"
            ]
          },
          "metadata": {
            "tags": []
          },
          "execution_count": 110
        }
      ]
    },
    {
      "cell_type": "markdown",
      "metadata": {
        "id": "lEjN0sRdrGmK"
      },
      "source": [
        "#**6-Análise dos resuldatos**"
      ]
    },
    {
      "cell_type": "code",
      "metadata": {
        "id": "beWuUgy2Uoe_",
        "colab": {
          "base_uri": "https://localhost:8080/",
          "height": 485
        },
        "outputId": "66427aca-f99d-46ba-b39a-74cd368ee80e"
      },
      "source": [
        "#Visualizando o gráfico da Previsão da rede\n",
        "plt.plot(preco_real_teste, color = 'red', label = 'Preço real')\n",
        "plt.plot(previsoes, color = 'blue', label = 'Previsões')\n",
        "plt.title('Previsão do preço das ações')\n",
        "plt.xlabel('Tempo em dias')\n",
        "plt.ylabel('Preço das ações')\n",
        "plt.legend()\n",
        "plt.show()"
      ],
      "execution_count": 111,
      "outputs": [
        {
          "output_type": "display_data",
          "data": {
            "image/png": "[encoded data removed]",
            "text/plain": [
              "<Figure size 1800x864 with 1 Axes>"
            ]
          },
          "metadata": {
            "tags": []
          }
        }
      ]
    },
    {
      "cell_type": "code",
      "metadata": {
        "id": "hKA0-lbgUtH-",
        "colab": {
          "base_uri": "https://localhost:8080/",
          "height": 297
        },
        "outputId": "0b75a1e1-27f2-49dd-e3c7-576df7b2d8ba"
      },
      "source": [
        "#estatísticas do preço real comparado com a previsão\n",
        "df1 = pd.DataFrame(preco_real_teste).T\n",
        "df2 = pd.DataFrame(previsoes).T\n",
        "\n",
        "df3 = pd.concat([df1,df2]).T\n",
        "df3.columns = ['Preco real', 'Previsoes']\n",
        "df3.describe()"
      ],
      "execution_count": 112,
      "outputs": [
        {
          "output_type": "execute_result",
          "data": {
            "text/html": [
              "<div>\n",
              "<style scoped>\n",
              "    .dataframe tbody tr th:only-of-type {\n",
              "        vertical-align: middle;\n",
              "    }\n",
              "\n",
              "    .dataframe tbody tr th {\n",
              "        vertical-align: top;\n",
              "    }\n",
              "\n",
              "    .dataframe thead th {\n",
              "        text-align: right;\n",
              "    }\n",
              "</style>\n",
              "<table border=\"1\" class=\"dataframe\">\n",
              "  <thead>\n",
              "    <tr style=\"text-align: right;\">\n",
              "      <th></th>\n",
              "      <th>Preco real</th>\n",
              "      <th>Previsoes</th>\n",
              "    </tr>\n",
              "  </thead>\n",
              "  <tbody>\n",
              "    <tr>\n",
              "      <th>count</th>\n",
              "      <td>248.000000</td>\n",
              "      <td>248.000000</td>\n",
              "    </tr>\n",
              "    <tr>\n",
              "      <th>mean</th>\n",
              "      <td>18.111619</td>\n",
              "      <td>18.172504</td>\n",
              "    </tr>\n",
              "    <tr>\n",
              "      <th>std</th>\n",
              "      <td>0.922235</td>\n",
              "      <td>0.908465</td>\n",
              "    </tr>\n",
              "    <tr>\n",
              "      <th>min</th>\n",
              "      <td>16.150000</td>\n",
              "      <td>15.487844</td>\n",
              "    </tr>\n",
              "    <tr>\n",
              "      <th>25%</th>\n",
              "      <td>17.437501</td>\n",
              "      <td>17.502016</td>\n",
              "    </tr>\n",
              "    <tr>\n",
              "      <th>50%</th>\n",
              "      <td>18.090000</td>\n",
              "      <td>18.183321</td>\n",
              "    </tr>\n",
              "    <tr>\n",
              "      <th>75%</th>\n",
              "      <td>18.727499</td>\n",
              "      <td>18.834214</td>\n",
              "    </tr>\n",
              "    <tr>\n",
              "      <th>max</th>\n",
              "      <td>20.629999</td>\n",
              "      <td>20.413197</td>\n",
              "    </tr>\n",
              "  </tbody>\n",
              "</table>\n",
              "</div>"
            ],
            "text/plain": [
              "       Preco real   Previsoes\n",
              "count  248.000000  248.000000\n",
              "mean    18.111619   18.172504\n",
              "std      0.922235    0.908465\n",
              "min     16.150000   15.487844\n",
              "25%     17.437501   17.502016\n",
              "50%     18.090000   18.183321\n",
              "75%     18.727499   18.834214\n",
              "max     20.629999   20.413197"
            ]
          },
          "metadata": {
            "tags": []
          },
          "execution_count": 112
        }
      ]
    },
    {
      "cell_type": "code",
      "metadata": {
        "id": "ZjIrFF8Y_M9N"
      },
      "source": [
        "#df2 = pd.DataFrame(previsoes)\n",
        "#df2.describe()"
      ],
      "execution_count": null,
      "outputs": []
    },
    {
      "cell_type": "code",
      "metadata": {
        "id": "TKfgSJAIV5a_"
      },
      "source": [
        "#df1 = pd.DataFrame(preco_real_teste)\n",
        "#df1.describe()"
      ],
      "execution_count": null,
      "outputs": []
    }
  ]
}