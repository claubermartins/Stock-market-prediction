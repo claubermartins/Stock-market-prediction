{
  "nbformat": 4,
  "nbformat_minor": 0,
  "metadata": {
    "colab": {
      "name": "stock-market-prediction.ipynb",
      "provenance": [],
      "collapsed_sections": [
        "UiXZAchqFuC-",
        "SuPg1RFvQyMS",
        "8MLClRMWPwTL",
        "hCiQYMqPGHuG",
        "4IDwP-XV_Ohd",
        "RtFahmEgGAzZ"
      ],
      "authorship_tag": "ABX9TyPEZx77mr7WEqtbPXc1sPCk",
      "include_colab_link": true
    },
    "kernelspec": {
      "name": "python3",
      "display_name": "Python 3"
    },
    "accelerator": "GPU"
  },
  "cells": [
    {
      "cell_type": "markdown",
      "metadata": {
        "id": "view-in-github",
        "colab_type": "text"
      },
      "source": [
        "<a href=\"https://colab.research.google.com/github/claubermartins/Stock-market-prediction/blob/main/stock_market_prediction-ambev.ipynb\" target=\"_parent\"><img src=\"https://colab.research.google.com/assets/colab-badge.svg\" alt=\"Open In Colab\"/></a>"
      ]
    },
    {
      "cell_type": "code",
      "metadata": {
        "colab": {
          "base_uri": "https://localhost:8080/"
        },
        "id": "XjlKRgiDRdpq",
        "outputId": "7fc2026f-076b-4f21-b077-29cd73bfe875"
      },
      "source": [
        "pip install inflection"
      ],
      "execution_count": 150,
      "outputs": [
        {
          "output_type": "stream",
          "text": [
            "Requirement already satisfied: inflection in /usr/local/lib/python3.7/dist-packages (0.5.1)\n"
          ],
          "name": "stdout"
        }
      ]
    },
    {
      "cell_type": "markdown",
      "metadata": {
        "id": "UiXZAchqFuC-"
      },
      "source": [
        "#**1-Importando bibliotecas**"
      ]
    },
    {
      "cell_type": "code",
      "metadata": {
        "id": "ZjQg-8c_--wP"
      },
      "source": [
        "from tensorflow.keras.models import Sequential \n",
        "from tensorflow.keras.layers import Dense, Dropout, LSTM\n",
        "from tensorflow.keras.callbacks import EarlyStopping \n",
        "from sklearn.preprocessing import MinMaxScaler\n",
        "from sklearn.impute import SimpleImputer\n",
        "import numpy as np\n",
        "import pandas as pd\n",
        "import matplotlib.pyplot as plt\n",
        "import tensorflow as tf\n",
        "import math\n",
        "import seaborn as sns\n",
        "import datetime\n",
        "import inflection\n",
        "from IPython.core.display import HTML"
      ],
      "execution_count": 151,
      "outputs": []
    },
    {
      "cell_type": "markdown",
      "metadata": {
        "id": "SuPg1RFvQyMS"
      },
      "source": [
        "#**2-Funções auxiliares para o Jupyter Notebook**"
      ]
    },
    {
      "cell_type": "code",
      "metadata": {
        "id": "2vKvPdvDPJHc"
      },
      "source": [
        "def jupyter_settings():\n",
        "    %matplotlib inline\n",
        "    %pylab inline\n",
        "    \n",
        "    plt.style.use( 'bmh' )\n",
        "    plt.rcParams['figure.figsize'] = [25, 12]\n",
        "    plt.rcParams['font.size'] = 24\n",
        "    \n",
        "    display( HTML( '<style>.container { width:100% !important; }</style>') )\n",
        "    pd.options.display.max_columns = None\n",
        "    pd.options.display.max_rows = None\n",
        "    pd.set_option( 'display.expand_frame_repr', False )\n",
        "    \n",
        "    sns.set()"
      ],
      "execution_count": 152,
      "outputs": []
    },
    {
      "cell_type": "code",
      "metadata": {
        "colab": {
          "base_uri": "https://localhost:8080/",
          "height": 34
        },
        "id": "PGJn-AaoMxuy",
        "outputId": "2f8dbf0b-bd4f-4953-8b83-83529a9a9799"
      },
      "source": [
        "jupyter_settings()"
      ],
      "execution_count": 153,
      "outputs": [
        {
          "output_type": "stream",
          "text": [
            "Populating the interactive namespace from numpy and matplotlib\n"
          ],
          "name": "stdout"
        },
        {
          "output_type": "display_data",
          "data": {
            "text/html": [
              "<style>.container { width:100% !important; }</style>"
            ],
            "text/plain": [
              "<IPython.core.display.HTML object>"
            ]
          },
          "metadata": {
            "tags": []
          }
        }
      ]
    },
    {
      "cell_type": "markdown",
      "metadata": {
        "id": "c_3core8Shq6"
      },
      "source": [
        "##**2.1Método de importação de arquivos do Google Colab**"
      ]
    },
    {
      "cell_type": "code",
      "metadata": {
        "id": "cTk_YEVdyms3",
        "colab": {
          "resources": {
            "http://localhost:8080/nbextensions/google.colab/files.js": {
              "data": "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",
              "ok": true,
              "headers": [
                [
                  "content-type",
                  "application/javascript"
                ]
              ],
              "status": 200,
              "status_text": ""
            }
          },
          "base_uri": "https://localhost:8080/",
          "height": 157
        },
        "outputId": "43c0c224-62c9-4ad4-e64c-f6fa73fcbc10"
      },
      "source": [
        "from google.colab import files\n",
        "upload = files.upload()\n",
        "print(\"downloaded files: \")\n",
        "print(*upload, sep = \"\\n\")"
      ],
      "execution_count": 5,
      "outputs": [
        {
          "output_type": "display_data",
          "data": {
            "text/html": [
              "\n",
              "     <input type=\"file\" id=\"files-62efcda1-6e83-4fec-826f-deb910fd8f41\" name=\"files[]\" multiple disabled\n",
              "        style=\"border:none\" />\n",
              "     <output id=\"result-62efcda1-6e83-4fec-826f-deb910fd8f41\">\n",
              "      Upload widget is only available when the cell has been executed in the\n",
              "      current browser session. Please rerun this cell to enable.\n",
              "      </output>\n",
              "      <script src=\"/nbextensions/google.colab/files.js\"></script> "
            ],
            "text/plain": [
              "<IPython.core.display.HTML object>"
            ]
          },
          "metadata": {
            "tags": []
          }
        },
        {
          "output_type": "stream",
          "text": [
            "Saving ABEV3-teste.csv to ABEV3-teste.csv\n",
            "Saving ABEV3-treinamento.csv to ABEV3-treinamento.csv\n",
            "downloaded files: \n",
            "ABEV3-teste.csv\n",
            "ABEV3-treinamento.csv\n"
          ],
          "name": "stdout"
        }
      ]
    },
    {
      "cell_type": "markdown",
      "metadata": {
        "id": "8MLClRMWPwTL"
      },
      "source": [
        "#**3-Tratamento dos dados**"
      ]
    },
    {
      "cell_type": "markdown",
      "metadata": {
        "id": "DOJanakhS-s2"
      },
      "source": [
        "##**3.1-Importando os dados**"
      ]
    },
    {
      "cell_type": "code",
      "metadata": {
        "id": "vYFCwA5GTB2j"
      },
      "source": [
        "base = pd.read_csv('ABEV3-treinamento.csv')\n",
        "base = base.drop('Date', axis = 1)"
      ],
      "execution_count": 203,
      "outputs": []
    },
    {
      "cell_type": "code",
      "metadata": {
        "colab": {
          "base_uri": "https://localhost:8080/",
          "height": 0
        },
        "id": "SD9oSvK-NE0Y",
        "outputId": "c8a1f20d-ebba-4c95-ed85-1007b051b985"
      },
      "source": [
        "#valores estatísticos\n",
        "base.describe()"
      ],
      "execution_count": 204,
      "outputs": [
        {
          "output_type": "execute_result",
          "data": {
            "text/html": [
              "<div>\n",
              "<style scoped>\n",
              "    .dataframe tbody tr th:only-of-type {\n",
              "        vertical-align: middle;\n",
              "    }\n",
              "\n",
              "    .dataframe tbody tr th {\n",
              "        vertical-align: top;\n",
              "    }\n",
              "\n",
              "    .dataframe thead th {\n",
              "        text-align: right;\n",
              "    }\n",
              "</style>\n",
              "<table border=\"1\" class=\"dataframe\">\n",
              "  <thead>\n",
              "    <tr style=\"text-align: right;\">\n",
              "      <th></th>\n",
              "      <th>Open</th>\n",
              "      <th>High</th>\n",
              "      <th>Low</th>\n",
              "      <th>Close</th>\n",
              "      <th>Adj Close</th>\n",
              "      <th>Volume</th>\n",
              "    </tr>\n",
              "  </thead>\n",
              "  <tbody>\n",
              "    <tr>\n",
              "      <th>count</th>\n",
              "      <td>2231.000000</td>\n",
              "      <td>2231.000000</td>\n",
              "      <td>2231.000000</td>\n",
              "      <td>2231.000000</td>\n",
              "      <td>2231.000000</td>\n",
              "      <td>2.231000e+03</td>\n",
              "    </tr>\n",
              "    <tr>\n",
              "      <th>mean</th>\n",
              "      <td>15.247205</td>\n",
              "      <td>15.406185</td>\n",
              "      <td>15.081828</td>\n",
              "      <td>15.255044</td>\n",
              "      <td>12.490003</td>\n",
              "      <td>8.164570e+06</td>\n",
              "    </tr>\n",
              "    <tr>\n",
              "      <th>std</th>\n",
              "      <td>4.746051</td>\n",
              "      <td>4.784574</td>\n",
              "      <td>4.703562</td>\n",
              "      <td>4.740250</td>\n",
              "      <td>4.759135</td>\n",
              "      <td>1.145977e+07</td>\n",
              "    </tr>\n",
              "    <tr>\n",
              "      <th>min</th>\n",
              "      <td>5.523400</td>\n",
              "      <td>5.585331</td>\n",
              "      <td>5.490637</td>\n",
              "      <td>5.515010</td>\n",
              "      <td>3.806502</td>\n",
              "      <td>0.000000e+00</td>\n",
              "    </tr>\n",
              "    <tr>\n",
              "      <th>25%</th>\n",
              "      <td>12.143761</td>\n",
              "      <td>12.284747</td>\n",
              "      <td>12.018774</td>\n",
              "      <td>12.177757</td>\n",
              "      <td>8.853852</td>\n",
              "      <td>9.356215e+05</td>\n",
              "    </tr>\n",
              "    <tr>\n",
              "      <th>50%</th>\n",
              "      <td>16.770000</td>\n",
              "      <td>16.928442</td>\n",
              "      <td>16.570000</td>\n",
              "      <td>16.750000</td>\n",
              "      <td>12.838694</td>\n",
              "      <td>7.296800e+06</td>\n",
              "    </tr>\n",
              "    <tr>\n",
              "      <th>75%</th>\n",
              "      <td>18.735000</td>\n",
              "      <td>18.910000</td>\n",
              "      <td>18.530001</td>\n",
              "      <td>18.724999</td>\n",
              "      <td>16.261292</td>\n",
              "      <td>1.236450e+07</td>\n",
              "    </tr>\n",
              "    <tr>\n",
              "      <th>max</th>\n",
              "      <td>24.389999</td>\n",
              "      <td>24.559999</td>\n",
              "      <td>24.030001</td>\n",
              "      <td>24.270000</td>\n",
              "      <td>22.276297</td>\n",
              "      <td>2.876952e+08</td>\n",
              "    </tr>\n",
              "  </tbody>\n",
              "</table>\n",
              "</div>"
            ],
            "text/plain": [
              "              Open         High          Low        Close    Adj Close        Volume\n",
              "count  2231.000000  2231.000000  2231.000000  2231.000000  2231.000000  2.231000e+03\n",
              "mean     15.247205    15.406185    15.081828    15.255044    12.490003  8.164570e+06\n",
              "std       4.746051     4.784574     4.703562     4.740250     4.759135  1.145977e+07\n",
              "min       5.523400     5.585331     5.490637     5.515010     3.806502  0.000000e+00\n",
              "25%      12.143761    12.284747    12.018774    12.177757     8.853852  9.356215e+05\n",
              "50%      16.770000    16.928442    16.570000    16.750000    12.838694  7.296800e+06\n",
              "75%      18.735000    18.910000    18.530001    18.724999    16.261292  1.236450e+07\n",
              "max      24.389999    24.559999    24.030001    24.270000    22.276297  2.876952e+08"
            ]
          },
          "metadata": {
            "tags": []
          },
          "execution_count": 204
        }
      ]
    },
    {
      "cell_type": "code",
      "metadata": {
        "colab": {
          "base_uri": "https://localhost:8080/"
        },
        "id": "fbKUPwPSNJqm",
        "outputId": "75a5ed2e-0dac-4559-aaf1-08910a5fc00f"
      },
      "source": [
        "base.dtypes"
      ],
      "execution_count": 205,
      "outputs": [
        {
          "output_type": "execute_result",
          "data": {
            "text/plain": [
              "Open         float64\n",
              "High         float64\n",
              "Low          float64\n",
              "Close        float64\n",
              "Adj Close    float64\n",
              "Volume       float64\n",
              "dtype: object"
            ]
          },
          "metadata": {
            "tags": []
          },
          "execution_count": 205
        }
      ]
    },
    {
      "cell_type": "markdown",
      "metadata": {
        "id": "bCTD3wo2TfZF"
      },
      "source": [
        "##**3.2-Tratando os Valores Faltantes**"
      ]
    },
    {
      "cell_type": "code",
      "metadata": {
        "colab": {
          "base_uri": "https://localhost:8080/"
        },
        "id": "H60SOo8MTjjP",
        "outputId": "0a6644c5-a12c-45c7-dee8-f73d435bd266"
      },
      "source": [
        "#valores faltantes\n",
        "base.isna().sum()"
      ],
      "execution_count": 206,
      "outputs": [
        {
          "output_type": "execute_result",
          "data": {
            "text/plain": [
              "Open         1\n",
              "High         1\n",
              "Low          1\n",
              "Close        1\n",
              "Adj Close    1\n",
              "Volume       1\n",
              "dtype: int64"
            ]
          },
          "metadata": {
            "tags": []
          },
          "execution_count": 206
        }
      ]
    },
    {
      "cell_type": "code",
      "metadata": {
        "colab": {
          "base_uri": "https://localhost:8080/",
          "height": 0
        },
        "id": "H-DMfyHXTkdi",
        "outputId": "333323de-4615-4eea-e370-be2634564a7d"
      },
      "source": [
        "#encontrando onde os valores faltantes estão\n",
        "base.loc[pd.isnull(base['Open'])]\n",
        "base.loc[pd.isnull(base['High'])]\n",
        "base.loc[pd.isnull(base['Low'])]\n",
        "base.loc[pd.isnull(base['Close'])]\n",
        "base.loc[pd.isnull(base['Adj Close'])]\n",
        "base.loc[pd.isnull(base['Volume'])]"
      ],
      "execution_count": 207,
      "outputs": [
        {
          "output_type": "execute_result",
          "data": {
            "text/html": [
              "<div>\n",
              "<style scoped>\n",
              "    .dataframe tbody tr th:only-of-type {\n",
              "        vertical-align: middle;\n",
              "    }\n",
              "\n",
              "    .dataframe tbody tr th {\n",
              "        vertical-align: top;\n",
              "    }\n",
              "\n",
              "    .dataframe thead th {\n",
              "        text-align: right;\n",
              "    }\n",
              "</style>\n",
              "<table border=\"1\" class=\"dataframe\">\n",
              "  <thead>\n",
              "    <tr style=\"text-align: right;\">\n",
              "      <th></th>\n",
              "      <th>Open</th>\n",
              "      <th>High</th>\n",
              "      <th>Low</th>\n",
              "      <th>Close</th>\n",
              "      <th>Adj Close</th>\n",
              "      <th>Volume</th>\n",
              "    </tr>\n",
              "  </thead>\n",
              "  <tbody>\n",
              "    <tr>\n",
              "      <th>2015</th>\n",
              "      <td>NaN</td>\n",
              "      <td>NaN</td>\n",
              "      <td>NaN</td>\n",
              "      <td>NaN</td>\n",
              "      <td>NaN</td>\n",
              "      <td>NaN</td>\n",
              "    </tr>\n",
              "  </tbody>\n",
              "</table>\n",
              "</div>"
            ],
            "text/plain": [
              "      Open  High  Low  Close  Adj Close  Volume\n",
              "2015   NaN   NaN  NaN    NaN        NaN     NaN"
            ]
          },
          "metadata": {
            "tags": []
          },
          "execution_count": 207
        }
      ]
    },
    {
      "cell_type": "code",
      "metadata": {
        "id": "6q0YFzy9TmPD"
      },
      "source": [
        "#preenchendo os valores nulos com o valor médio\n",
        "imputer = SimpleImputer(missing_values=np.nan, strategy='mean',verbose=0)\n",
        "imputer = imputer.fit(base.iloc[:,0:6])\n",
        "base.iloc[:,0:6] = imputer.transform(base.iloc[:,0:6])"
      ],
      "execution_count": 208,
      "outputs": []
    },
    {
      "cell_type": "code",
      "metadata": {
        "colab": {
          "base_uri": "https://localhost:8080/",
          "height": 0
        },
        "id": "gQC2HfFnTpe2",
        "outputId": "2c8f4da9-7388-457a-c17f-9f070a5b66da"
      },
      "source": [
        "#verificando novamente se ainda temos valores faltantes\n",
        "base.loc[pd.isnull(base['Open'])]\n",
        "base.loc[pd.isnull(base['High'])]\n",
        "base.loc[pd.isnull(base['Low'])]\n",
        "base.loc[pd.isnull(base['Close'])]\n",
        "base.loc[pd.isnull(base['Adj Close'])]\n",
        "base.loc[pd.isnull(base['Volume'])]"
      ],
      "execution_count": 209,
      "outputs": [
        {
          "output_type": "execute_result",
          "data": {
            "text/html": [
              "<div>\n",
              "<style scoped>\n",
              "    .dataframe tbody tr th:only-of-type {\n",
              "        vertical-align: middle;\n",
              "    }\n",
              "\n",
              "    .dataframe tbody tr th {\n",
              "        vertical-align: top;\n",
              "    }\n",
              "\n",
              "    .dataframe thead th {\n",
              "        text-align: right;\n",
              "    }\n",
              "</style>\n",
              "<table border=\"1\" class=\"dataframe\">\n",
              "  <thead>\n",
              "    <tr style=\"text-align: right;\">\n",
              "      <th></th>\n",
              "      <th>Open</th>\n",
              "      <th>High</th>\n",
              "      <th>Low</th>\n",
              "      <th>Close</th>\n",
              "      <th>Adj Close</th>\n",
              "      <th>Volume</th>\n",
              "    </tr>\n",
              "  </thead>\n",
              "  <tbody>\n",
              "  </tbody>\n",
              "</table>\n",
              "</div>"
            ],
            "text/plain": [
              "Empty DataFrame\n",
              "Columns: [Open, High, Low, Close, Adj Close, Volume]\n",
              "Index: []"
            ]
          },
          "metadata": {
            "tags": []
          },
          "execution_count": 209
        }
      ]
    },
    {
      "cell_type": "markdown",
      "metadata": {
        "id": "_WuI_UbmTt3W"
      },
      "source": [
        "##**3.3-Tratamento dos valores nulos (iguais a 0)**"
      ]
    },
    {
      "cell_type": "code",
      "metadata": {
        "colab": {
          "base_uri": "https://localhost:8080/"
        },
        "id": "hyRiBN32Twb2",
        "outputId": "c11c970f-c8d8-4ce0-e1d4-704ef1479440"
      },
      "source": [
        "#valores nulos\n",
        "(base == 0).sum()"
      ],
      "execution_count": 210,
      "outputs": [
        {
          "output_type": "execute_result",
          "data": {
            "text/plain": [
              "Open          0\n",
              "High          0\n",
              "Low           0\n",
              "Close         0\n",
              "Adj Close     0\n",
              "Volume       22\n",
              "dtype: int64"
            ]
          },
          "metadata": {
            "tags": []
          },
          "execution_count": 210
        }
      ]
    },
    {
      "cell_type": "code",
      "metadata": {
        "colab": {
          "base_uri": "https://localhost:8080/",
          "height": 0
        },
        "id": "nQPTB9_TT3Dy",
        "outputId": "9783901a-10d5-4e51-a461-6abd52b50f59"
      },
      "source": [
        "#Encontrando os valores nulos\n",
        "base.loc[base['Volume'] == 0]"
      ],
      "execution_count": 211,
      "outputs": [
        {
          "output_type": "execute_result",
          "data": {
            "text/html": [
              "<div>\n",
              "<style scoped>\n",
              "    .dataframe tbody tr th:only-of-type {\n",
              "        vertical-align: middle;\n",
              "    }\n",
              "\n",
              "    .dataframe tbody tr th {\n",
              "        vertical-align: top;\n",
              "    }\n",
              "\n",
              "    .dataframe thead th {\n",
              "        text-align: right;\n",
              "    }\n",
              "</style>\n",
              "<table border=\"1\" class=\"dataframe\">\n",
              "  <thead>\n",
              "    <tr style=\"text-align: right;\">\n",
              "      <th></th>\n",
              "      <th>Open</th>\n",
              "      <th>High</th>\n",
              "      <th>Low</th>\n",
              "      <th>Close</th>\n",
              "      <th>Adj Close</th>\n",
              "      <th>Volume</th>\n",
              "    </tr>\n",
              "  </thead>\n",
              "  <tbody>\n",
              "    <tr>\n",
              "      <th>284</th>\n",
              "      <td>7.391703</td>\n",
              "      <td>7.391703</td>\n",
              "      <td>7.391703</td>\n",
              "      <td>7.391703</td>\n",
              "      <td>5.154269</td>\n",
              "      <td>0.0</td>\n",
              "    </tr>\n",
              "    <tr>\n",
              "      <th>291</th>\n",
              "      <td>7.491591</td>\n",
              "      <td>7.491591</td>\n",
              "      <td>7.491591</td>\n",
              "      <td>7.491591</td>\n",
              "      <td>5.299884</td>\n",
              "      <td>0.0</td>\n",
              "    </tr>\n",
              "    <tr>\n",
              "      <th>310</th>\n",
              "      <td>7.873163</td>\n",
              "      <td>7.873163</td>\n",
              "      <td>7.873163</td>\n",
              "      <td>7.873163</td>\n",
              "      <td>5.569826</td>\n",
              "      <td>0.0</td>\n",
              "    </tr>\n",
              "    <tr>\n",
              "      <th>333</th>\n",
              "      <td>9.391500</td>\n",
              "      <td>9.391500</td>\n",
              "      <td>9.391500</td>\n",
              "      <td>9.391500</td>\n",
              "      <td>6.643963</td>\n",
              "      <td>0.0</td>\n",
              "    </tr>\n",
              "    <tr>\n",
              "      <th>337</th>\n",
              "      <td>8.378201</td>\n",
              "      <td>8.378201</td>\n",
              "      <td>8.378201</td>\n",
              "      <td>8.378201</td>\n",
              "      <td>5.927111</td>\n",
              "      <td>0.0</td>\n",
              "    </tr>\n",
              "    <tr>\n",
              "      <th>430</th>\n",
              "      <td>9.053734</td>\n",
              "      <td>9.053734</td>\n",
              "      <td>9.053734</td>\n",
              "      <td>9.053734</td>\n",
              "      <td>6.469559</td>\n",
              "      <td>0.0</td>\n",
              "    </tr>\n",
              "    <tr>\n",
              "      <th>450</th>\n",
              "      <td>9.423478</td>\n",
              "      <td>9.423478</td>\n",
              "      <td>9.423478</td>\n",
              "      <td>9.423478</td>\n",
              "      <td>6.748445</td>\n",
              "      <td>0.0</td>\n",
              "    </tr>\n",
              "    <tr>\n",
              "      <th>547</th>\n",
              "      <td>12.355449</td>\n",
              "      <td>12.355449</td>\n",
              "      <td>12.355449</td>\n",
              "      <td>12.355449</td>\n",
              "      <td>8.964257</td>\n",
              "      <td>0.0</td>\n",
              "    </tr>\n",
              "    <tr>\n",
              "      <th>667</th>\n",
              "      <td>12.786695</td>\n",
              "      <td>12.786695</td>\n",
              "      <td>12.786695</td>\n",
              "      <td>12.786695</td>\n",
              "      <td>9.308810</td>\n",
              "      <td>0.0</td>\n",
              "    </tr>\n",
              "    <tr>\n",
              "      <th>799</th>\n",
              "      <td>16.382492</td>\n",
              "      <td>16.382492</td>\n",
              "      <td>16.382492</td>\n",
              "      <td>16.382492</td>\n",
              "      <td>12.246234</td>\n",
              "      <td>0.0</td>\n",
              "    </tr>\n",
              "    <tr>\n",
              "      <th>819</th>\n",
              "      <td>15.538570</td>\n",
              "      <td>15.538570</td>\n",
              "      <td>15.538570</td>\n",
              "      <td>15.538570</td>\n",
              "      <td>11.615386</td>\n",
              "      <td>0.0</td>\n",
              "    </tr>\n",
              "    <tr>\n",
              "      <th>881</th>\n",
              "      <td>16.206509</td>\n",
              "      <td>16.206509</td>\n",
              "      <td>16.206509</td>\n",
              "      <td>16.206509</td>\n",
              "      <td>12.114682</td>\n",
              "      <td>0.0</td>\n",
              "    </tr>\n",
              "    <tr>\n",
              "      <th>1831</th>\n",
              "      <td>19.030001</td>\n",
              "      <td>19.030001</td>\n",
              "      <td>19.030001</td>\n",
              "      <td>19.030001</td>\n",
              "      <td>17.002453</td>\n",
              "      <td>0.0</td>\n",
              "    </tr>\n",
              "    <tr>\n",
              "      <th>1844</th>\n",
              "      <td>18.180000</td>\n",
              "      <td>18.180000</td>\n",
              "      <td>18.180000</td>\n",
              "      <td>18.180000</td>\n",
              "      <td>16.243015</td>\n",
              "      <td>0.0</td>\n",
              "    </tr>\n",
              "    <tr>\n",
              "      <th>1904</th>\n",
              "      <td>20.129999</td>\n",
              "      <td>20.129999</td>\n",
              "      <td>20.129999</td>\n",
              "      <td>20.129999</td>\n",
              "      <td>18.144413</td>\n",
              "      <td>0.0</td>\n",
              "    </tr>\n",
              "    <tr>\n",
              "      <th>1929</th>\n",
              "      <td>21.629999</td>\n",
              "      <td>21.629999</td>\n",
              "      <td>21.629999</td>\n",
              "      <td>21.629999</td>\n",
              "      <td>19.496458</td>\n",
              "      <td>0.0</td>\n",
              "    </tr>\n",
              "    <tr>\n",
              "      <th>1944</th>\n",
              "      <td>20.740000</td>\n",
              "      <td>20.740000</td>\n",
              "      <td>20.740000</td>\n",
              "      <td>20.740000</td>\n",
              "      <td>18.694246</td>\n",
              "      <td>0.0</td>\n",
              "    </tr>\n",
              "    <tr>\n",
              "      <th>1953</th>\n",
              "      <td>20.200001</td>\n",
              "      <td>20.200001</td>\n",
              "      <td>20.200001</td>\n",
              "      <td>20.200001</td>\n",
              "      <td>18.207510</td>\n",
              "      <td>0.0</td>\n",
              "    </tr>\n",
              "    <tr>\n",
              "      <th>1956</th>\n",
              "      <td>20.540001</td>\n",
              "      <td>20.540001</td>\n",
              "      <td>20.540001</td>\n",
              "      <td>20.540001</td>\n",
              "      <td>18.513977</td>\n",
              "      <td>0.0</td>\n",
              "    </tr>\n",
              "    <tr>\n",
              "      <th>1981</th>\n",
              "      <td>21.030001</td>\n",
              "      <td>21.030001</td>\n",
              "      <td>21.030001</td>\n",
              "      <td>21.030001</td>\n",
              "      <td>19.240894</td>\n",
              "      <td>0.0</td>\n",
              "    </tr>\n",
              "    <tr>\n",
              "      <th>1985</th>\n",
              "      <td>21.280001</td>\n",
              "      <td>21.280001</td>\n",
              "      <td>21.280001</td>\n",
              "      <td>21.280001</td>\n",
              "      <td>19.469629</td>\n",
              "      <td>0.0</td>\n",
              "    </tr>\n",
              "    <tr>\n",
              "      <th>2003</th>\n",
              "      <td>21.889999</td>\n",
              "      <td>21.889999</td>\n",
              "      <td>21.889999</td>\n",
              "      <td>21.889999</td>\n",
              "      <td>20.027731</td>\n",
              "      <td>0.0</td>\n",
              "    </tr>\n",
              "  </tbody>\n",
              "</table>\n",
              "</div>"
            ],
            "text/plain": [
              "           Open       High        Low      Close  Adj Close  Volume\n",
              "284    7.391703   7.391703   7.391703   7.391703   5.154269     0.0\n",
              "291    7.491591   7.491591   7.491591   7.491591   5.299884     0.0\n",
              "310    7.873163   7.873163   7.873163   7.873163   5.569826     0.0\n",
              "333    9.391500   9.391500   9.391500   9.391500   6.643963     0.0\n",
              "337    8.378201   8.378201   8.378201   8.378201   5.927111     0.0\n",
              "430    9.053734   9.053734   9.053734   9.053734   6.469559     0.0\n",
              "450    9.423478   9.423478   9.423478   9.423478   6.748445     0.0\n",
              "547   12.355449  12.355449  12.355449  12.355449   8.964257     0.0\n",
              "667   12.786695  12.786695  12.786695  12.786695   9.308810     0.0\n",
              "799   16.382492  16.382492  16.382492  16.382492  12.246234     0.0\n",
              "819   15.538570  15.538570  15.538570  15.538570  11.615386     0.0\n",
              "881   16.206509  16.206509  16.206509  16.206509  12.114682     0.0\n",
              "1831  19.030001  19.030001  19.030001  19.030001  17.002453     0.0\n",
              "1844  18.180000  18.180000  18.180000  18.180000  16.243015     0.0\n",
              "1904  20.129999  20.129999  20.129999  20.129999  18.144413     0.0\n",
              "1929  21.629999  21.629999  21.629999  21.629999  19.496458     0.0\n",
              "1944  20.740000  20.740000  20.740000  20.740000  18.694246     0.0\n",
              "1953  20.200001  20.200001  20.200001  20.200001  18.207510     0.0\n",
              "1956  20.540001  20.540001  20.540001  20.540001  18.513977     0.0\n",
              "1981  21.030001  21.030001  21.030001  21.030001  19.240894     0.0\n",
              "1985  21.280001  21.280001  21.280001  21.280001  19.469629     0.0\n",
              "2003  21.889999  21.889999  21.889999  21.889999  20.027731     0.0"
            ]
          },
          "metadata": {
            "tags": []
          },
          "execution_count": 211
        }
      ]
    },
    {
      "cell_type": "code",
      "metadata": {
        "id": "352jPyV0T5JJ"
      },
      "source": [
        "#preenchendo os valores nulos com o valor médio\n",
        "imputer = SimpleImputer(missing_values=0, strategy='mean',verbose=0)\n",
        "imputer = imputer.fit(base.iloc[:,0:6])\n",
        "base.iloc[:,0:6] = imputer.transform(base.iloc[:,0:6])"
      ],
      "execution_count": 212,
      "outputs": []
    },
    {
      "cell_type": "code",
      "metadata": {
        "colab": {
          "base_uri": "https://localhost:8080/",
          "height": 0
        },
        "id": "xI5JdDykT66_",
        "outputId": "e1f20ecf-28da-4541-bc6e-3626102c8759"
      },
      "source": [
        "#Verificando novamente se ainda temos valores nulos\n",
        "base.loc[base['Volume'] == 0]"
      ],
      "execution_count": 213,
      "outputs": [
        {
          "output_type": "execute_result",
          "data": {
            "text/html": [
              "<div>\n",
              "<style scoped>\n",
              "    .dataframe tbody tr th:only-of-type {\n",
              "        vertical-align: middle;\n",
              "    }\n",
              "\n",
              "    .dataframe tbody tr th {\n",
              "        vertical-align: top;\n",
              "    }\n",
              "\n",
              "    .dataframe thead th {\n",
              "        text-align: right;\n",
              "    }\n",
              "</style>\n",
              "<table border=\"1\" class=\"dataframe\">\n",
              "  <thead>\n",
              "    <tr style=\"text-align: right;\">\n",
              "      <th></th>\n",
              "      <th>Open</th>\n",
              "      <th>High</th>\n",
              "      <th>Low</th>\n",
              "      <th>Close</th>\n",
              "      <th>Adj Close</th>\n",
              "      <th>Volume</th>\n",
              "    </tr>\n",
              "  </thead>\n",
              "  <tbody>\n",
              "  </tbody>\n",
              "</table>\n",
              "</div>"
            ],
            "text/plain": [
              "Empty DataFrame\n",
              "Columns: [Open, High, Low, Close, Adj Close, Volume]\n",
              "Index: []"
            ]
          },
          "metadata": {
            "tags": []
          },
          "execution_count": 213
        }
      ]
    },
    {
      "cell_type": "code",
      "metadata": {
        "id": "NYW0UUz0T9Kq"
      },
      "source": [
        "#base = base.dropna()"
      ],
      "execution_count": 214,
      "outputs": []
    },
    {
      "cell_type": "code",
      "metadata": {
        "id": "ceOotOwsT_Er"
      },
      "source": [
        "#base.sample()"
      ],
      "execution_count": 215,
      "outputs": []
    },
    {
      "cell_type": "markdown",
      "metadata": {
        "id": "hCiQYMqPGHuG"
      },
      "source": [
        "#**-Descrição dos dados** IGNORE ESTA CÉLULA"
      ]
    },
    {
      "cell_type": "code",
      "metadata": {
        "id": "xalwLdRSGLRD"
      },
      "source": [
        "#Tendencia central - mean, median\n",
        "ct1 = pd.DataFrame(base.apply(np.mean)).T #T transpondo \n",
        "ct2 = pd.DataFrame(base.apply(np.median)).T\n",
        "#Dispersão - std(desvio padrão), min, max, range\n",
        "d1 = pd.DataFrame(base.apply(np.std)).T\n",
        "d2 = pd.DataFrame(base.apply(min)).T\n",
        "d3 = pd.DataFrame(base.apply(max)).T\n",
        "d4 = pd.DataFrame(base.apply(lambda x: x.max() - x.min())).T\n",
        "#concatenate\n",
        "m = pd.concat([d2,d3,d4,ct1,ct2,d1]).T.reset_index()\n",
        "m.columns = ['attributes','min','max','range', 'mean', 'median', 'std']\n",
        "m"
      ],
      "execution_count": null,
      "outputs": []
    },
    {
      "cell_type": "code",
      "metadata": {
        "colab": {
          "base_uri": "https://localhost:8080/"
        },
        "id": "j62Bj8jOQz_G",
        "outputId": "9e5055ec-b49f-4f7d-e3c1-b3fc2b1dae42"
      },
      "source": [
        "base.shape[0]"
      ],
      "execution_count": null,
      "outputs": [
        {
          "output_type": "execute_result",
          "data": {
            "text/plain": [
              "2478"
            ]
          },
          "metadata": {
            "tags": []
          },
          "execution_count": 20
        }
      ]
    },
    {
      "cell_type": "markdown",
      "metadata": {
        "id": "4IDwP-XV_Ohd"
      },
      "source": [
        "#**4-Treinamento da rede**"
      ]
    },
    {
      "cell_type": "code",
      "metadata": {
        "id": "mpo6RlDsUHNJ"
      },
      "source": [
        "#normalizando a base de dados com o MinMaxScaler\n",
        "base_treinamento = base.iloc[:, 0:6].values\n",
        "normalizador = MinMaxScaler(feature_range=(0,1))\n",
        "base_treinamento_normalizada = normalizador.fit_transform(base_treinamento)"
      ],
      "execution_count": 216,
      "outputs": []
    },
    {
      "cell_type": "code",
      "metadata": {
        "id": "d-LD4OEaUNf7"
      },
      "source": [
        "#Comparando a predição com o preço real\n",
        "previsores = []\n",
        "preco_real = []\n",
        "for i in range(90, 2232):\n",
        "    previsores.append(base_treinamento_normalizada[i-90:i, 0:6])\n",
        "    preco_real.append(base_treinamento_normalizada[i, 3:4])\n",
        "previsores, preco_real = np.array(previsores), np.array(preco_real)\n"
      ],
      "execution_count": 217,
      "outputs": []
    },
    {
      "cell_type": "code",
      "metadata": {
        "colab": {
          "base_uri": "https://localhost:8080/"
        },
        "id": "ZftXowA9URdt",
        "outputId": "44447201-9494-4748-fc46-a0296e4559ce"
      },
      "source": [
        "#estrutura da rede neural \n",
        "regressor = Sequential()\n",
        "regressor.add(LSTM(units = 90, return_sequences = True, input_shape = (previsores.shape[1], 6)))\n",
        "regressor.add(Dropout(0.3))\n",
        "\n",
        "regressor.add(LSTM(units = 90, return_sequences = True))\n",
        "regressor.add(Dropout(0.3))\n",
        "\n",
        "regressor.add(LSTM(units = 90, return_sequences = True))\n",
        "regressor.add(Dropout(0.3))\n",
        "\n",
        "regressor.add(LSTM(units = 50))\n",
        "regressor.add(Dropout(0.3))\n",
        "\n",
        "regressor.add(Dense(units = 1, activation = 'sigmoid'))\n",
        "\n",
        "es = EarlyStopping(monitor = 'loss', min_delta = 1e-15, patience = 20, verbose = 1)\n",
        "\n",
        "#regressor.compile(optimizer = 'RMSprop', loss = 'mean_squared_error',\n",
        "#                  metrics = ['mean_absolute_error'])\n",
        "opt = tf.keras.optimizers.Adam(amsgrad=True)\n",
        "regressor.compile(optimizer = opt, loss = 'mean_squared_error',\n",
        "                  metrics = ['mean_absolute_error'])\n",
        "#opt = tf.keras.optimizers.RMSprop(centered=True)\n",
        "#regressor.compile(optimizer = opt, loss = 'mean_squared_error',\n",
        "#                 metrics = ['mean_absolute_error'])\n",
        "\n",
        "regressor.fit(previsores, preco_real, epochs = 600, batch_size = 32,\n",
        "              callbacks = [es])\n",
        "#regressor.fit(previsores, preco_real, epochs = 600, batch_size = 32)"
      ],
      "execution_count": 218,
      "outputs": [
        {
          "output_type": "stream",
          "text": [
            "Epoch 1/600\n",
            "67/67 [==============================] - 5s 19ms/step - loss: 0.0233 - mean_absolute_error: 0.1084\n",
            "Epoch 2/600\n",
            "67/67 [==============================] - 1s 17ms/step - loss: 0.0028 - mean_absolute_error: 0.0405\n",
            "Epoch 3/600\n",
            "67/67 [==============================] - 1s 17ms/step - loss: 0.0021 - mean_absolute_error: 0.0360\n",
            "Epoch 4/600\n",
            "67/67 [==============================] - 1s 17ms/step - loss: 0.0023 - mean_absolute_error: 0.0371\n",
            "Epoch 5/600\n",
            "67/67 [==============================] - 1s 17ms/step - loss: 0.0022 - mean_absolute_error: 0.0364\n",
            "Epoch 6/600\n",
            "67/67 [==============================] - 1s 17ms/step - loss: 0.0017 - mean_absolute_error: 0.0323\n",
            "Epoch 7/600\n",
            "67/67 [==============================] - 1s 17ms/step - loss: 0.0017 - mean_absolute_error: 0.0320\n",
            "Epoch 8/600\n",
            "67/67 [==============================] - 1s 17ms/step - loss: 0.0016 - mean_absolute_error: 0.0314\n",
            "Epoch 9/600\n",
            "67/67 [==============================] - 1s 17ms/step - loss: 0.0019 - mean_absolute_error: 0.0330\n",
            "Epoch 10/600\n",
            "67/67 [==============================] - 1s 17ms/step - loss: 0.0014 - mean_absolute_error: 0.0294\n",
            "Epoch 11/600\n",
            "67/67 [==============================] - 1s 17ms/step - loss: 0.0013 - mean_absolute_error: 0.0285\n",
            "Epoch 12/600\n",
            "67/67 [==============================] - 1s 17ms/step - loss: 0.0018 - mean_absolute_error: 0.0326\n",
            "Epoch 13/600\n",
            "67/67 [==============================] - 1s 17ms/step - loss: 0.0014 - mean_absolute_error: 0.0292\n",
            "Epoch 14/600\n",
            "67/67 [==============================] - 1s 17ms/step - loss: 0.0014 - mean_absolute_error: 0.0281\n",
            "Epoch 15/600\n",
            "67/67 [==============================] - 1s 17ms/step - loss: 0.0014 - mean_absolute_error: 0.0292\n",
            "Epoch 16/600\n",
            "67/67 [==============================] - 1s 17ms/step - loss: 0.0013 - mean_absolute_error: 0.0281\n",
            "Epoch 17/600\n",
            "67/67 [==============================] - 1s 17ms/step - loss: 0.0012 - mean_absolute_error: 0.0275\n",
            "Epoch 18/600\n",
            "67/67 [==============================] - 1s 17ms/step - loss: 0.0013 - mean_absolute_error: 0.0276\n",
            "Epoch 19/600\n",
            "67/67 [==============================] - 1s 17ms/step - loss: 0.0012 - mean_absolute_error: 0.0272\n",
            "Epoch 20/600\n",
            "67/67 [==============================] - 1s 17ms/step - loss: 0.0011 - mean_absolute_error: 0.0253\n",
            "Epoch 21/600\n",
            "67/67 [==============================] - 1s 17ms/step - loss: 0.0012 - mean_absolute_error: 0.0272\n",
            "Epoch 22/600\n",
            "67/67 [==============================] - 1s 17ms/step - loss: 0.0011 - mean_absolute_error: 0.0257\n",
            "Epoch 23/600\n",
            "67/67 [==============================] - 1s 17ms/step - loss: 0.0010 - mean_absolute_error: 0.0249\n",
            "Epoch 24/600\n",
            "67/67 [==============================] - 1s 17ms/step - loss: 0.0011 - mean_absolute_error: 0.0255\n",
            "Epoch 25/600\n",
            "67/67 [==============================] - 1s 17ms/step - loss: 0.0010 - mean_absolute_error: 0.0246\n",
            "Epoch 26/600\n",
            "67/67 [==============================] - 1s 17ms/step - loss: 0.0010 - mean_absolute_error: 0.0248\n",
            "Epoch 27/600\n",
            "67/67 [==============================] - 1s 17ms/step - loss: 9.7719e-04 - mean_absolute_error: 0.0248\n",
            "Epoch 28/600\n",
            "67/67 [==============================] - 1s 17ms/step - loss: 9.8694e-04 - mean_absolute_error: 0.0243\n",
            "Epoch 29/600\n",
            "67/67 [==============================] - 1s 17ms/step - loss: 0.0010 - mean_absolute_error: 0.0246\n",
            "Epoch 30/600\n",
            "67/67 [==============================] - 1s 17ms/step - loss: 0.0011 - mean_absolute_error: 0.0263\n",
            "Epoch 31/600\n",
            "67/67 [==============================] - 1s 16ms/step - loss: 9.2464e-04 - mean_absolute_error: 0.0235\n",
            "Epoch 32/600\n",
            "67/67 [==============================] - 1s 17ms/step - loss: 8.8483e-04 - mean_absolute_error: 0.0229\n",
            "Epoch 33/600\n",
            "67/67 [==============================] - 1s 17ms/step - loss: 8.3537e-04 - mean_absolute_error: 0.0228\n",
            "Epoch 34/600\n",
            "67/67 [==============================] - 1s 17ms/step - loss: 8.3408e-04 - mean_absolute_error: 0.0224\n",
            "Epoch 35/600\n",
            "67/67 [==============================] - 1s 17ms/step - loss: 0.0011 - mean_absolute_error: 0.0250\n",
            "Epoch 36/600\n",
            "67/67 [==============================] - 1s 17ms/step - loss: 8.8866e-04 - mean_absolute_error: 0.0233\n",
            "Epoch 37/600\n",
            "67/67 [==============================] - 1s 17ms/step - loss: 9.5415e-04 - mean_absolute_error: 0.0236\n",
            "Epoch 38/600\n",
            "67/67 [==============================] - 1s 17ms/step - loss: 9.6323e-04 - mean_absolute_error: 0.0234\n",
            "Epoch 39/600\n",
            "67/67 [==============================] - 1s 17ms/step - loss: 8.0263e-04 - mean_absolute_error: 0.0223\n",
            "Epoch 40/600\n",
            "67/67 [==============================] - 1s 17ms/step - loss: 0.0011 - mean_absolute_error: 0.0235\n",
            "Epoch 41/600\n",
            "67/67 [==============================] - 1s 18ms/step - loss: 8.2297e-04 - mean_absolute_error: 0.0216\n",
            "Epoch 42/600\n",
            "67/67 [==============================] - 1s 17ms/step - loss: 9.3001e-04 - mean_absolute_error: 0.0234\n",
            "Epoch 43/600\n",
            "67/67 [==============================] - 1s 17ms/step - loss: 8.5736e-04 - mean_absolute_error: 0.0217\n",
            "Epoch 44/600\n",
            "67/67 [==============================] - 1s 17ms/step - loss: 9.0409e-04 - mean_absolute_error: 0.0229\n",
            "Epoch 45/600\n",
            "67/67 [==============================] - 1s 17ms/step - loss: 7.6514e-04 - mean_absolute_error: 0.0214\n",
            "Epoch 46/600\n",
            "67/67 [==============================] - 1s 17ms/step - loss: 8.0256e-04 - mean_absolute_error: 0.0218\n",
            "Epoch 47/600\n",
            "67/67 [==============================] - 1s 17ms/step - loss: 8.5150e-04 - mean_absolute_error: 0.0214\n",
            "Epoch 48/600\n",
            "67/67 [==============================] - 1s 17ms/step - loss: 8.4985e-04 - mean_absolute_error: 0.0220\n",
            "Epoch 49/600\n",
            "67/67 [==============================] - 1s 17ms/step - loss: 7.7656e-04 - mean_absolute_error: 0.0210\n",
            "Epoch 50/600\n",
            "67/67 [==============================] - 1s 17ms/step - loss: 8.2420e-04 - mean_absolute_error: 0.0222\n",
            "Epoch 51/600\n",
            "67/67 [==============================] - 1s 17ms/step - loss: 8.1314e-04 - mean_absolute_error: 0.0217\n",
            "Epoch 52/600\n",
            "67/67 [==============================] - 1s 17ms/step - loss: 8.5179e-04 - mean_absolute_error: 0.0217\n",
            "Epoch 53/600\n",
            "67/67 [==============================] - 1s 18ms/step - loss: 7.7028e-04 - mean_absolute_error: 0.0215\n",
            "Epoch 54/600\n",
            "67/67 [==============================] - 1s 17ms/step - loss: 7.4948e-04 - mean_absolute_error: 0.0209\n",
            "Epoch 55/600\n",
            "67/67 [==============================] - 1s 17ms/step - loss: 7.3946e-04 - mean_absolute_error: 0.0210\n",
            "Epoch 56/600\n",
            "67/67 [==============================] - 1s 17ms/step - loss: 6.5179e-04 - mean_absolute_error: 0.0197\n",
            "Epoch 57/600\n",
            "67/67 [==============================] - 1s 17ms/step - loss: 0.0010 - mean_absolute_error: 0.0227\n",
            "Epoch 58/600\n",
            "67/67 [==============================] - 1s 17ms/step - loss: 7.3839e-04 - mean_absolute_error: 0.0213\n",
            "Epoch 59/600\n",
            "67/67 [==============================] - 1s 17ms/step - loss: 7.4945e-04 - mean_absolute_error: 0.0211\n",
            "Epoch 60/600\n",
            "67/67 [==============================] - 1s 17ms/step - loss: 8.2536e-04 - mean_absolute_error: 0.0216\n",
            "Epoch 61/600\n",
            "67/67 [==============================] - 1s 17ms/step - loss: 7.9152e-04 - mean_absolute_error: 0.0205\n",
            "Epoch 62/600\n",
            "67/67 [==============================] - 1s 17ms/step - loss: 7.4607e-04 - mean_absolute_error: 0.0208\n",
            "Epoch 63/600\n",
            "67/67 [==============================] - 1s 17ms/step - loss: 6.3539e-04 - mean_absolute_error: 0.0196\n",
            "Epoch 64/600\n",
            "67/67 [==============================] - 1s 17ms/step - loss: 6.7171e-04 - mean_absolute_error: 0.0198\n",
            "Epoch 65/600\n",
            "67/67 [==============================] - 1s 17ms/step - loss: 6.9543e-04 - mean_absolute_error: 0.0202\n",
            "Epoch 66/600\n",
            "67/67 [==============================] - 1s 17ms/step - loss: 7.4268e-04 - mean_absolute_error: 0.0210\n",
            "Epoch 67/600\n",
            "67/67 [==============================] - 1s 17ms/step - loss: 8.4657e-04 - mean_absolute_error: 0.0217\n",
            "Epoch 68/600\n",
            "67/67 [==============================] - 1s 17ms/step - loss: 6.7282e-04 - mean_absolute_error: 0.0196\n",
            "Epoch 69/600\n",
            "67/67 [==============================] - 1s 17ms/step - loss: 6.7706e-04 - mean_absolute_error: 0.0199\n",
            "Epoch 70/600\n",
            "67/67 [==============================] - 1s 17ms/step - loss: 6.6289e-04 - mean_absolute_error: 0.0194\n",
            "Epoch 71/600\n",
            "67/67 [==============================] - 1s 17ms/step - loss: 9.4772e-04 - mean_absolute_error: 0.0222\n",
            "Epoch 72/600\n",
            "67/67 [==============================] - 1s 17ms/step - loss: 7.1019e-04 - mean_absolute_error: 0.0196\n",
            "Epoch 73/600\n",
            "67/67 [==============================] - 1s 17ms/step - loss: 6.1573e-04 - mean_absolute_error: 0.0186\n",
            "Epoch 74/600\n",
            "67/67 [==============================] - 1s 17ms/step - loss: 6.3562e-04 - mean_absolute_error: 0.0195\n",
            "Epoch 75/600\n",
            "67/67 [==============================] - 1s 17ms/step - loss: 8.4792e-04 - mean_absolute_error: 0.0203\n",
            "Epoch 76/600\n",
            "67/67 [==============================] - 1s 17ms/step - loss: 6.3929e-04 - mean_absolute_error: 0.0191\n",
            "Epoch 77/600\n",
            "67/67 [==============================] - 1s 17ms/step - loss: 7.5673e-04 - mean_absolute_error: 0.0201\n",
            "Epoch 78/600\n",
            "67/67 [==============================] - 1s 17ms/step - loss: 6.8600e-04 - mean_absolute_error: 0.0195\n",
            "Epoch 79/600\n",
            "67/67 [==============================] - 1s 17ms/step - loss: 5.9446e-04 - mean_absolute_error: 0.0194\n",
            "Epoch 80/600\n",
            "67/67 [==============================] - 1s 17ms/step - loss: 5.8754e-04 - mean_absolute_error: 0.0185\n",
            "Epoch 81/600\n",
            "67/67 [==============================] - 1s 17ms/step - loss: 5.8880e-04 - mean_absolute_error: 0.0191\n",
            "Epoch 82/600\n",
            "67/67 [==============================] - 1s 17ms/step - loss: 7.7949e-04 - mean_absolute_error: 0.0192\n",
            "Epoch 83/600\n",
            "67/67 [==============================] - 1s 17ms/step - loss: 6.3327e-04 - mean_absolute_error: 0.0189\n",
            "Epoch 84/600\n",
            "67/67 [==============================] - 1s 17ms/step - loss: 5.8415e-04 - mean_absolute_error: 0.0185\n",
            "Epoch 85/600\n",
            "67/67 [==============================] - 1s 17ms/step - loss: 6.8178e-04 - mean_absolute_error: 0.0199\n",
            "Epoch 86/600\n",
            "67/67 [==============================] - 1s 17ms/step - loss: 6.6141e-04 - mean_absolute_error: 0.0195\n",
            "Epoch 87/600\n",
            "67/67 [==============================] - 1s 17ms/step - loss: 7.0639e-04 - mean_absolute_error: 0.0193\n",
            "Epoch 88/600\n",
            "67/67 [==============================] - 1s 17ms/step - loss: 6.0503e-04 - mean_absolute_error: 0.0189\n",
            "Epoch 89/600\n",
            "67/67 [==============================] - 1s 17ms/step - loss: 6.8289e-04 - mean_absolute_error: 0.0190\n",
            "Epoch 90/600\n",
            "67/67 [==============================] - 1s 17ms/step - loss: 7.0254e-04 - mean_absolute_error: 0.0196\n",
            "Epoch 91/600\n",
            "67/67 [==============================] - 1s 17ms/step - loss: 6.8511e-04 - mean_absolute_error: 0.0190\n",
            "Epoch 92/600\n",
            "67/67 [==============================] - 1s 17ms/step - loss: 6.3827e-04 - mean_absolute_error: 0.0190\n",
            "Epoch 93/600\n",
            "67/67 [==============================] - 1s 17ms/step - loss: 5.8166e-04 - mean_absolute_error: 0.0184\n",
            "Epoch 94/600\n",
            "67/67 [==============================] - 1s 17ms/step - loss: 6.2307e-04 - mean_absolute_error: 0.0190\n",
            "Epoch 95/600\n",
            "67/67 [==============================] - 1s 17ms/step - loss: 8.4187e-04 - mean_absolute_error: 0.0199\n",
            "Epoch 96/600\n",
            "67/67 [==============================] - 1s 17ms/step - loss: 5.4796e-04 - mean_absolute_error: 0.0177\n",
            "Epoch 97/600\n",
            "67/67 [==============================] - 1s 17ms/step - loss: 6.0658e-04 - mean_absolute_error: 0.0187\n",
            "Epoch 98/600\n",
            "67/67 [==============================] - 1s 17ms/step - loss: 6.1787e-04 - mean_absolute_error: 0.0189\n",
            "Epoch 99/600\n",
            "67/67 [==============================] - 1s 17ms/step - loss: 5.9666e-04 - mean_absolute_error: 0.0184\n",
            "Epoch 100/600\n",
            "67/67 [==============================] - 1s 17ms/step - loss: 7.8156e-04 - mean_absolute_error: 0.0194\n",
            "Epoch 101/600\n",
            "67/67 [==============================] - 1s 17ms/step - loss: 5.6700e-04 - mean_absolute_error: 0.0183\n",
            "Epoch 102/600\n",
            "67/67 [==============================] - 1s 17ms/step - loss: 6.1690e-04 - mean_absolute_error: 0.0192\n",
            "Epoch 103/600\n",
            "67/67 [==============================] - 1s 17ms/step - loss: 5.5322e-04 - mean_absolute_error: 0.0183\n",
            "Epoch 104/600\n",
            "67/67 [==============================] - 1s 17ms/step - loss: 5.6271e-04 - mean_absolute_error: 0.0180\n",
            "Epoch 105/600\n",
            "67/67 [==============================] - 1s 17ms/step - loss: 5.8145e-04 - mean_absolute_error: 0.0183\n",
            "Epoch 106/600\n",
            "67/67 [==============================] - 1s 17ms/step - loss: 6.2717e-04 - mean_absolute_error: 0.0176\n",
            "Epoch 107/600\n",
            "67/67 [==============================] - 1s 17ms/step - loss: 6.1434e-04 - mean_absolute_error: 0.0186\n",
            "Epoch 108/600\n",
            "67/67 [==============================] - 1s 17ms/step - loss: 6.2786e-04 - mean_absolute_error: 0.0187\n",
            "Epoch 109/600\n",
            "67/67 [==============================] - 1s 17ms/step - loss: 6.6136e-04 - mean_absolute_error: 0.0173\n",
            "Epoch 110/600\n",
            "67/67 [==============================] - 1s 17ms/step - loss: 5.3721e-04 - mean_absolute_error: 0.0175\n",
            "Epoch 111/600\n",
            "67/67 [==============================] - 1s 17ms/step - loss: 5.6275e-04 - mean_absolute_error: 0.0184\n",
            "Epoch 112/600\n",
            "67/67 [==============================] - 1s 18ms/step - loss: 5.3547e-04 - mean_absolute_error: 0.0178\n",
            "Epoch 113/600\n",
            "67/67 [==============================] - 1s 17ms/step - loss: 5.5626e-04 - mean_absolute_error: 0.0180\n",
            "Epoch 114/600\n",
            "67/67 [==============================] - 1s 17ms/step - loss: 7.6554e-04 - mean_absolute_error: 0.0190\n",
            "Epoch 115/600\n",
            "67/67 [==============================] - 1s 17ms/step - loss: 7.2016e-04 - mean_absolute_error: 0.0192\n",
            "Epoch 116/600\n",
            "67/67 [==============================] - 1s 17ms/step - loss: 5.4336e-04 - mean_absolute_error: 0.0175\n",
            "Epoch 117/600\n",
            "67/67 [==============================] - 1s 17ms/step - loss: 5.1391e-04 - mean_absolute_error: 0.0177\n",
            "Epoch 118/600\n",
            "67/67 [==============================] - 1s 17ms/step - loss: 5.4972e-04 - mean_absolute_error: 0.0183\n",
            "Epoch 00118: early stopping\n"
          ],
          "name": "stdout"
        },
        {
          "output_type": "execute_result",
          "data": {
            "text/plain": [
              "<tensorflow.python.keras.callbacks.History at 0x7f9c2057b390>"
            ]
          },
          "metadata": {
            "tags": []
          },
          "execution_count": 218
        }
      ]
    },
    {
      "cell_type": "markdown",
      "metadata": {
        "id": "RtFahmEgGAzZ"
      },
      "source": [
        "#**5-Teste da rede**"
      ]
    },
    {
      "cell_type": "markdown",
      "metadata": {
        "id": "QSWSKW8nqeA0"
      },
      "source": [
        "##**5.1-Importando os dados para teste**"
      ]
    },
    {
      "cell_type": "code",
      "metadata": {
        "id": "4X6-ArtKUdpD"
      },
      "source": [
        "#criando a base de dados teste\n",
        "base_teste = pd.read_csv('ABEV3-teste.csv')\n",
        "base_teste = base_teste.drop('Date', axis = 1)"
      ],
      "execution_count": 219,
      "outputs": []
    },
    {
      "cell_type": "code",
      "metadata": {
        "colab": {
          "base_uri": "https://localhost:8080/",
          "height": 0
        },
        "id": "dXOp2vDcpAvA",
        "outputId": "96d0f9f8-c963-4115-d9c9-06e207946d33"
      },
      "source": [
        "#valores estatísticos\n",
        "base_teste.describe()"
      ],
      "execution_count": 220,
      "outputs": [
        {
          "output_type": "execute_result",
          "data": {
            "text/html": [
              "<div>\n",
              "<style scoped>\n",
              "    .dataframe tbody tr th:only-of-type {\n",
              "        vertical-align: middle;\n",
              "    }\n",
              "\n",
              "    .dataframe tbody tr th {\n",
              "        vertical-align: top;\n",
              "    }\n",
              "\n",
              "    .dataframe thead th {\n",
              "        text-align: right;\n",
              "    }\n",
              "</style>\n",
              "<table border=\"1\" class=\"dataframe\">\n",
              "  <thead>\n",
              "    <tr style=\"text-align: right;\">\n",
              "      <th></th>\n",
              "      <th>Open</th>\n",
              "      <th>High</th>\n",
              "      <th>Low</th>\n",
              "      <th>Close</th>\n",
              "      <th>Adj Close</th>\n",
              "      <th>Volume</th>\n",
              "    </tr>\n",
              "  </thead>\n",
              "  <tbody>\n",
              "    <tr>\n",
              "      <th>count</th>\n",
              "      <td>247.000000</td>\n",
              "      <td>247.000000</td>\n",
              "      <td>247.000000</td>\n",
              "      <td>247.000000</td>\n",
              "      <td>247.000000</td>\n",
              "      <td>2.470000e+02</td>\n",
              "    </tr>\n",
              "    <tr>\n",
              "      <th>mean</th>\n",
              "      <td>18.097571</td>\n",
              "      <td>18.318462</td>\n",
              "      <td>17.895506</td>\n",
              "      <td>18.111619</td>\n",
              "      <td>17.121478</td>\n",
              "      <td>2.172937e+07</td>\n",
              "    </tr>\n",
              "    <tr>\n",
              "      <th>std</th>\n",
              "      <td>0.927619</td>\n",
              "      <td>0.923881</td>\n",
              "      <td>0.922278</td>\n",
              "      <td>0.924107</td>\n",
              "      <td>0.884616</td>\n",
              "      <td>1.126563e+07</td>\n",
              "    </tr>\n",
              "    <tr>\n",
              "      <th>min</th>\n",
              "      <td>15.400000</td>\n",
              "      <td>16.299999</td>\n",
              "      <td>15.400000</td>\n",
              "      <td>16.150000</td>\n",
              "      <td>15.258595</td>\n",
              "      <td>5.109500e+06</td>\n",
              "    </tr>\n",
              "    <tr>\n",
              "      <th>25%</th>\n",
              "      <td>17.445001</td>\n",
              "      <td>17.639999</td>\n",
              "      <td>17.245000</td>\n",
              "      <td>17.435001</td>\n",
              "      <td>16.472670</td>\n",
              "      <td>1.524115e+07</td>\n",
              "    </tr>\n",
              "    <tr>\n",
              "      <th>50%</th>\n",
              "      <td>18.100000</td>\n",
              "      <td>18.270000</td>\n",
              "      <td>17.920000</td>\n",
              "      <td>18.090000</td>\n",
              "      <td>17.091515</td>\n",
              "      <td>1.919990e+07</td>\n",
              "    </tr>\n",
              "    <tr>\n",
              "      <th>75%</th>\n",
              "      <td>18.795000</td>\n",
              "      <td>18.974999</td>\n",
              "      <td>18.580000</td>\n",
              "      <td>18.735000</td>\n",
              "      <td>17.724536</td>\n",
              "      <td>2.542865e+07</td>\n",
              "    </tr>\n",
              "    <tr>\n",
              "      <th>max</th>\n",
              "      <td>20.410000</td>\n",
              "      <td>20.770000</td>\n",
              "      <td>20.330000</td>\n",
              "      <td>20.629999</td>\n",
              "      <td>19.491320</td>\n",
              "      <td>9.751180e+07</td>\n",
              "    </tr>\n",
              "  </tbody>\n",
              "</table>\n",
              "</div>"
            ],
            "text/plain": [
              "             Open        High         Low       Close   Adj Close        Volume\n",
              "count  247.000000  247.000000  247.000000  247.000000  247.000000  2.470000e+02\n",
              "mean    18.097571   18.318462   17.895506   18.111619   17.121478  2.172937e+07\n",
              "std      0.927619    0.923881    0.922278    0.924107    0.884616  1.126563e+07\n",
              "min     15.400000   16.299999   15.400000   16.150000   15.258595  5.109500e+06\n",
              "25%     17.445001   17.639999   17.245000   17.435001   16.472670  1.524115e+07\n",
              "50%     18.100000   18.270000   17.920000   18.090000   17.091515  1.919990e+07\n",
              "75%     18.795000   18.974999   18.580000   18.735000   17.724536  2.542865e+07\n",
              "max     20.410000   20.770000   20.330000   20.629999   19.491320  9.751180e+07"
            ]
          },
          "metadata": {
            "tags": []
          },
          "execution_count": 220
        }
      ]
    },
    {
      "cell_type": "markdown",
      "metadata": {
        "id": "Cw-NIb9EpatP"
      },
      "source": [
        "##**5.2-Tratando os Valores Faltantes**"
      ]
    },
    {
      "cell_type": "code",
      "metadata": {
        "colab": {
          "base_uri": "https://localhost:8080/"
        },
        "id": "lthEX_TZniHb",
        "outputId": "0c477f9c-c7ec-4999-f871-d4b45e675510"
      },
      "source": [
        "#valores faltantes\n",
        "base_teste.isna().sum()"
      ],
      "execution_count": 221,
      "outputs": [
        {
          "output_type": "execute_result",
          "data": {
            "text/plain": [
              "Open         1\n",
              "High         1\n",
              "Low          1\n",
              "Close        1\n",
              "Adj Close    1\n",
              "Volume       1\n",
              "dtype: int64"
            ]
          },
          "metadata": {
            "tags": []
          },
          "execution_count": 221
        }
      ]
    },
    {
      "cell_type": "code",
      "metadata": {
        "colab": {
          "base_uri": "https://localhost:8080/",
          "height": 0
        },
        "id": "uiH2j_UNpjqk",
        "outputId": "08d7e0ca-bf40-45f6-9b19-616d07f6b347"
      },
      "source": [
        "#encontrando onde os valores faltantes estão\n",
        "base_teste.loc[pd.isnull(base_teste['Open'])]\n",
        "base_teste.loc[pd.isnull(base_teste['High'])]\n",
        "base_teste.loc[pd.isnull(base_teste['Low'])]\n",
        "base_teste.loc[pd.isnull(base_teste['Close'])]\n",
        "base_teste.loc[pd.isnull(base_teste['Adj Close'])]\n",
        "base_teste.loc[pd.isnull(base_teste['Volume'])]"
      ],
      "execution_count": 222,
      "outputs": [
        {
          "output_type": "execute_result",
          "data": {
            "text/html": [
              "<div>\n",
              "<style scoped>\n",
              "    .dataframe tbody tr th:only-of-type {\n",
              "        vertical-align: middle;\n",
              "    }\n",
              "\n",
              "    .dataframe tbody tr th {\n",
              "        vertical-align: top;\n",
              "    }\n",
              "\n",
              "    .dataframe thead th {\n",
              "        text-align: right;\n",
              "    }\n",
              "</style>\n",
              "<table border=\"1\" class=\"dataframe\">\n",
              "  <thead>\n",
              "    <tr style=\"text-align: right;\">\n",
              "      <th></th>\n",
              "      <th>Open</th>\n",
              "      <th>High</th>\n",
              "      <th>Low</th>\n",
              "      <th>Close</th>\n",
              "      <th>Adj Close</th>\n",
              "      <th>Volume</th>\n",
              "    </tr>\n",
              "  </thead>\n",
              "  <tbody>\n",
              "    <tr>\n",
              "      <th>42</th>\n",
              "      <td>NaN</td>\n",
              "      <td>NaN</td>\n",
              "      <td>NaN</td>\n",
              "      <td>NaN</td>\n",
              "      <td>NaN</td>\n",
              "      <td>NaN</td>\n",
              "    </tr>\n",
              "  </tbody>\n",
              "</table>\n",
              "</div>"
            ],
            "text/plain": [
              "    Open  High  Low  Close  Adj Close  Volume\n",
              "42   NaN   NaN  NaN    NaN        NaN     NaN"
            ]
          },
          "metadata": {
            "tags": []
          },
          "execution_count": 222
        }
      ]
    },
    {
      "cell_type": "code",
      "metadata": {
        "id": "Bbw7axJ75lpn"
      },
      "source": [
        "#preenchendo os valores faltantes com o valor médio\n",
        "imputer = SimpleImputer(missing_values=np.nan, strategy='mean',verbose=0)\n",
        "imputer = imputer.fit(base_teste.iloc[:,0:6])\n",
        "base_teste.iloc[:,0:6] = imputer.transform(base_teste.iloc[:,0:6])"
      ],
      "execution_count": 223,
      "outputs": []
    },
    {
      "cell_type": "code",
      "metadata": {
        "colab": {
          "base_uri": "https://localhost:8080/",
          "height": 0
        },
        "id": "CXAi4QV8pw2x",
        "outputId": "20f8a32b-71d1-4953-af15-5ab1a09d5450"
      },
      "source": [
        "#verificando novamente se ainda temos valores faltantes\n",
        "base_teste.loc[pd.isnull(base_teste['Open'])]\n",
        "base_teste.loc[pd.isnull(base_teste['High'])]\n",
        "base_teste.loc[pd.isnull(base_teste['Low'])]\n",
        "base_teste.loc[pd.isnull(base_teste['Close'])]\n",
        "base_teste.loc[pd.isnull(base_teste['Adj Close'])]\n",
        "base_teste.loc[pd.isnull(base_teste['Volume'])]"
      ],
      "execution_count": 224,
      "outputs": [
        {
          "output_type": "execute_result",
          "data": {
            "text/html": [
              "<div>\n",
              "<style scoped>\n",
              "    .dataframe tbody tr th:only-of-type {\n",
              "        vertical-align: middle;\n",
              "    }\n",
              "\n",
              "    .dataframe tbody tr th {\n",
              "        vertical-align: top;\n",
              "    }\n",
              "\n",
              "    .dataframe thead th {\n",
              "        text-align: right;\n",
              "    }\n",
              "</style>\n",
              "<table border=\"1\" class=\"dataframe\">\n",
              "  <thead>\n",
              "    <tr style=\"text-align: right;\">\n",
              "      <th></th>\n",
              "      <th>Open</th>\n",
              "      <th>High</th>\n",
              "      <th>Low</th>\n",
              "      <th>Close</th>\n",
              "      <th>Adj Close</th>\n",
              "      <th>Volume</th>\n",
              "    </tr>\n",
              "  </thead>\n",
              "  <tbody>\n",
              "  </tbody>\n",
              "</table>\n",
              "</div>"
            ],
            "text/plain": [
              "Empty DataFrame\n",
              "Columns: [Open, High, Low, Close, Adj Close, Volume]\n",
              "Index: []"
            ]
          },
          "metadata": {
            "tags": []
          },
          "execution_count": 224
        }
      ]
    },
    {
      "cell_type": "markdown",
      "metadata": {
        "id": "X1nZpS8Rp2zr"
      },
      "source": [
        "##**5.3-Tratamento dos valores nulos (iguais a 0)**"
      ]
    },
    {
      "cell_type": "code",
      "metadata": {
        "colab": {
          "base_uri": "https://localhost:8080/"
        },
        "id": "XYwer-dip-KB",
        "outputId": "0cce22e4-ec9f-4531-e9d7-fd178c75162a"
      },
      "source": [
        "#valores nulos\n",
        "(base_teste == 0).sum()"
      ],
      "execution_count": 225,
      "outputs": [
        {
          "output_type": "execute_result",
          "data": {
            "text/plain": [
              "Open         0\n",
              "High         0\n",
              "Low          0\n",
              "Close        0\n",
              "Adj Close    0\n",
              "Volume       0\n",
              "dtype: int64"
            ]
          },
          "metadata": {
            "tags": []
          },
          "execution_count": 225
        }
      ]
    },
    {
      "cell_type": "code",
      "metadata": {
        "id": "sFBo6iR5qEpS",
        "colab": {
          "base_uri": "https://localhost:8080/",
          "height": 0
        },
        "outputId": "64f39150-9977-45e5-e257-426045a8a178"
      },
      "source": [
        "#Encontrando os valores nulos\n",
        "base_teste.loc[base_teste['Volume'] == 0]"
      ],
      "execution_count": 226,
      "outputs": [
        {
          "output_type": "execute_result",
          "data": {
            "text/html": [
              "<div>\n",
              "<style scoped>\n",
              "    .dataframe tbody tr th:only-of-type {\n",
              "        vertical-align: middle;\n",
              "    }\n",
              "\n",
              "    .dataframe tbody tr th {\n",
              "        vertical-align: top;\n",
              "    }\n",
              "\n",
              "    .dataframe thead th {\n",
              "        text-align: right;\n",
              "    }\n",
              "</style>\n",
              "<table border=\"1\" class=\"dataframe\">\n",
              "  <thead>\n",
              "    <tr style=\"text-align: right;\">\n",
              "      <th></th>\n",
              "      <th>Open</th>\n",
              "      <th>High</th>\n",
              "      <th>Low</th>\n",
              "      <th>Close</th>\n",
              "      <th>Adj Close</th>\n",
              "      <th>Volume</th>\n",
              "    </tr>\n",
              "  </thead>\n",
              "  <tbody>\n",
              "  </tbody>\n",
              "</table>\n",
              "</div>"
            ],
            "text/plain": [
              "Empty DataFrame\n",
              "Columns: [Open, High, Low, Close, Adj Close, Volume]\n",
              "Index: []"
            ]
          },
          "metadata": {
            "tags": []
          },
          "execution_count": 226
        }
      ]
    },
    {
      "cell_type": "code",
      "metadata": {
        "id": "ofkU-XjcqOQE"
      },
      "source": [
        "#preenchendo os valores nulos com o valor médio\n",
        "imputer = SimpleImputer(missing_values=0, strategy='mean',verbose=0)\n",
        "imputer = imputer.fit(base_teste.iloc[:,0:6])\n",
        "base_teste.iloc[:,0:6] = imputer.transform(base_teste.iloc[:,0:6])"
      ],
      "execution_count": 227,
      "outputs": []
    },
    {
      "cell_type": "code",
      "metadata": {
        "id": "pYUeIwbnppRT",
        "colab": {
          "base_uri": "https://localhost:8080/",
          "height": 0
        },
        "outputId": "7b14d240-adb0-40c9-ae2d-fe12a223b6dc"
      },
      "source": [
        "#Verificando novamente se tem valores nulos\n",
        "base_teste.loc[base_teste['Volume'] == 0]"
      ],
      "execution_count": 228,
      "outputs": [
        {
          "output_type": "execute_result",
          "data": {
            "text/html": [
              "<div>\n",
              "<style scoped>\n",
              "    .dataframe tbody tr th:only-of-type {\n",
              "        vertical-align: middle;\n",
              "    }\n",
              "\n",
              "    .dataframe tbody tr th {\n",
              "        vertical-align: top;\n",
              "    }\n",
              "\n",
              "    .dataframe thead th {\n",
              "        text-align: right;\n",
              "    }\n",
              "</style>\n",
              "<table border=\"1\" class=\"dataframe\">\n",
              "  <thead>\n",
              "    <tr style=\"text-align: right;\">\n",
              "      <th></th>\n",
              "      <th>Open</th>\n",
              "      <th>High</th>\n",
              "      <th>Low</th>\n",
              "      <th>Close</th>\n",
              "      <th>Adj Close</th>\n",
              "      <th>Volume</th>\n",
              "    </tr>\n",
              "  </thead>\n",
              "  <tbody>\n",
              "  </tbody>\n",
              "</table>\n",
              "</div>"
            ],
            "text/plain": [
              "Empty DataFrame\n",
              "Columns: [Open, High, Low, Close, Adj Close, Volume]\n",
              "Index: []"
            ]
          },
          "metadata": {
            "tags": []
          },
          "execution_count": 228
        }
      ]
    },
    {
      "cell_type": "markdown",
      "metadata": {
        "id": "N79Bjk6Yq6ci"
      },
      "source": [
        "##**5.4-Preparando a estrutura para teste**"
      ]
    },
    {
      "cell_type": "code",
      "metadata": {
        "id": "UFINH9OzUfDk"
      },
      "source": [
        "#concatenando a base de dados teste com o base de treinamento\n",
        "preco_real_teste = base_teste.iloc[:, 3:4].values\n",
        "frames = [base, base_teste]\n",
        "base_completa = pd.concat(frames)"
      ],
      "execution_count": 229,
      "outputs": []
    },
    {
      "cell_type": "code",
      "metadata": {
        "id": "-CdLW8IZUhLY"
      },
      "source": [
        "#pegando os 90 registros anteriores para percorrer a base teste e colocando no\n",
        "#no formato np.array\n",
        "entradas = base_completa[len(base_completa) - len(base_teste) - 90:].values\n",
        "entradas = normalizador.transform(entradas)\n",
        "Percorrer_teste = []\n",
        "for i in range(90, 338): \n",
        "    Percorrer_teste.append(entradas[i-90:i, 0:6])\n",
        "Percorrer_teste = np.array(Percorrer_teste)"
      ],
      "execution_count": 230,
      "outputs": []
    },
    {
      "cell_type": "code",
      "metadata": {
        "id": "_YdD2ZcaUi1w"
      },
      "source": [
        "#resultado da predição no formato MinMaxScaler\n",
        "previsoes = regressor.predict(Percorrer_teste)"
      ],
      "execution_count": 231,
      "outputs": []
    },
    {
      "cell_type": "code",
      "metadata": {
        "colab": {
          "base_uri": "https://localhost:8080/"
        },
        "id": "jQS0Ql4tUk2Z",
        "outputId": "c5e7567b-6a86-480f-c9f9-98fe5c9a2e0b"
      },
      "source": [
        "#convertendo para a escala MinMaxScaler \n",
        "normalizador_previsao = MinMaxScaler(feature_range=(0,1))\n",
        "normalizador_previsao.fit_transform(base_treinamento[:,3:4])"
      ],
      "execution_count": 232,
      "outputs": [
        {
          "output_type": "execute_result",
          "data": {
            "text/plain": [
              "array([[0.03189167],\n",
              "       [0.03380903],\n",
              "       [0.03715374],\n",
              "       ...,\n",
              "       [0.51319622],\n",
              "       [0.51106346],\n",
              "       [0.52599282]])"
            ]
          },
          "metadata": {
            "tags": []
          },
          "execution_count": 232
        }
      ]
    },
    {
      "cell_type": "code",
      "metadata": {
        "id": "MP_GBjYJUnFe",
        "colab": {
          "base_uri": "https://localhost:8080/"
        },
        "outputId": "02f23108-20fe-4ffd-aff6-1ac2caac6c3a"
      },
      "source": [
        "#colocando a previsão no formato original para preparar a visualização no gráfico\n",
        "previsoes = normalizador_previsao.inverse_transform(previsoes)\n",
        "previsoes"
      ],
      "execution_count": 233,
      "outputs": [
        {
          "output_type": "execute_result",
          "data": {
            "text/plain": [
              "array([[15.14683 ],\n",
              "       [15.645654],\n",
              "       [16.07219 ],\n",
              "       [16.299894],\n",
              "       [16.382017],\n",
              "       [16.209862],\n",
              "       [16.127426],\n",
              "       [16.420853],\n",
              "       [16.769688],\n",
              "       [17.176374],\n",
              "       [17.41449 ],\n",
              "       [17.547804],\n",
              "       [17.568405],\n",
              "       [17.647406],\n",
              "       [17.695621],\n",
              "       [17.476135],\n",
              "       [17.107159],\n",
              "       [16.932331],\n",
              "       [17.343204],\n",
              "       [17.678993],\n",
              "       [17.700047],\n",
              "       [17.501299],\n",
              "       [17.608103],\n",
              "       [18.004812],\n",
              "       [18.310186],\n",
              "       [18.086903],\n",
              "       [18.18328 ],\n",
              "       [18.20085 ],\n",
              "       [18.211878],\n",
              "       [18.457378],\n",
              "       [18.300045],\n",
              "       [18.21102 ],\n",
              "       [18.328323],\n",
              "       [18.129583],\n",
              "       [18.076391],\n",
              "       [18.059805],\n",
              "       [18.070566],\n",
              "       [18.037893],\n",
              "       [18.152275],\n",
              "       [18.253536],\n",
              "       [18.184978],\n",
              "       [17.515844],\n",
              "       [16.875038],\n",
              "       [17.792429],\n",
              "       [17.117203],\n",
              "       [16.509315],\n",
              "       [16.824417],\n",
              "       [16.992907],\n",
              "       [16.751808],\n",
              "       [16.535477],\n",
              "       [16.459084],\n",
              "       [16.867933],\n",
              "       [17.10703 ],\n",
              "       [16.94516 ],\n",
              "       [16.746977],\n",
              "       [16.560139],\n",
              "       [16.440687],\n",
              "       [16.568169],\n",
              "       [16.491583],\n",
              "       [16.487854],\n",
              "       [16.645493],\n",
              "       [16.692247],\n",
              "       [16.666056],\n",
              "       [16.674328],\n",
              "       [16.9327  ],\n",
              "       [17.238075],\n",
              "       [17.199821],\n",
              "       [17.254358],\n",
              "       [17.375257],\n",
              "       [17.217997],\n",
              "       [16.958857],\n",
              "       [17.074825],\n",
              "       [17.317781],\n",
              "       [17.093649],\n",
              "       [16.850939],\n",
              "       [17.098179],\n",
              "       [17.496994],\n",
              "       [17.4701  ],\n",
              "       [17.751673],\n",
              "       [18.078955],\n",
              "       [18.149015],\n",
              "       [18.151606],\n",
              "       [17.961143],\n",
              "       [17.736868],\n",
              "       [17.7427  ],\n",
              "       [17.553156],\n",
              "       [17.552246],\n",
              "       [17.481556],\n",
              "       [17.246666],\n",
              "       [16.9404  ],\n",
              "       [16.827486],\n",
              "       [16.571997],\n",
              "       [16.40891 ],\n",
              "       [16.414415],\n",
              "       [16.307089],\n",
              "       [16.64304 ],\n",
              "       [17.021246],\n",
              "       [17.074827],\n",
              "       [16.926434],\n",
              "       [16.96348 ],\n",
              "       [17.035818],\n",
              "       [17.068117],\n",
              "       [17.159746],\n",
              "       [17.252052],\n",
              "       [17.26122 ],\n",
              "       [17.188078],\n",
              "       [17.21769 ],\n",
              "       [17.401823],\n",
              "       [17.461245],\n",
              "       [17.472897],\n",
              "       [17.504766],\n",
              "       [17.465775],\n",
              "       [17.592358],\n",
              "       [17.59096 ],\n",
              "       [17.528625],\n",
              "       [17.745554],\n",
              "       [17.945229],\n",
              "       [18.139465],\n",
              "       [18.185131],\n",
              "       [18.049469],\n",
              "       [17.939224],\n",
              "       [17.839222],\n",
              "       [17.779799],\n",
              "       [17.689175],\n",
              "       [17.800865],\n",
              "       [18.270084],\n",
              "       [18.782269],\n",
              "       [18.770832],\n",
              "       [18.742102],\n",
              "       [18.770657],\n",
              "       [18.657469],\n",
              "       [18.239101],\n",
              "       [18.109816],\n",
              "       [18.072203],\n",
              "       [17.922455],\n",
              "       [17.969727],\n",
              "       [18.039843],\n",
              "       [17.898329],\n",
              "       [17.883255],\n",
              "       [17.892311],\n",
              "       [18.738325],\n",
              "       [19.46916 ],\n",
              "       [19.961563],\n",
              "       [20.208187],\n",
              "       [20.031279],\n",
              "       [20.121439],\n",
              "       [20.250565],\n",
              "       [20.04796 ],\n",
              "       [20.103952],\n",
              "       [20.251883],\n",
              "       [20.005455],\n",
              "       [19.95358 ],\n",
              "       [19.631735],\n",
              "       [19.414604],\n",
              "       [19.167711],\n",
              "       [18.908564],\n",
              "       [18.840483],\n",
              "       [18.978012],\n",
              "       [18.88313 ],\n",
              "       [18.769897],\n",
              "       [18.487593],\n",
              "       [18.236639],\n",
              "       [18.11448 ],\n",
              "       [17.984262],\n",
              "       [17.963179],\n",
              "       [18.186522],\n",
              "       [18.472044],\n",
              "       [18.398138],\n",
              "       [18.275467],\n",
              "       [18.480694],\n",
              "       [18.558723],\n",
              "       [18.485579],\n",
              "       [18.56009 ],\n",
              "       [18.619564],\n",
              "       [18.659378],\n",
              "       [18.960659],\n",
              "       [18.997667],\n",
              "       [18.893988],\n",
              "       [19.068712],\n",
              "       [19.107616],\n",
              "       [19.093729],\n",
              "       [19.098486],\n",
              "       [19.198217],\n",
              "       [19.180027],\n",
              "       [19.252346],\n",
              "       [19.307451],\n",
              "       [19.29618 ],\n",
              "       [19.169466],\n",
              "       [19.102087],\n",
              "       [18.907665],\n",
              "       [18.59924 ],\n",
              "       [18.788786],\n",
              "       [18.883308],\n",
              "       [18.578224],\n",
              "       [18.539423],\n",
              "       [18.410168],\n",
              "       [18.419441],\n",
              "       [18.526712],\n",
              "       [18.65139 ],\n",
              "       [18.665161],\n",
              "       [18.627743],\n",
              "       [18.540327],\n",
              "       [18.608349],\n",
              "       [18.658548],\n",
              "       [18.52221 ],\n",
              "       [18.71705 ],\n",
              "       [17.96389 ],\n",
              "       [17.61981 ],\n",
              "       [17.61222 ],\n",
              "       [17.5053  ],\n",
              "       [17.343826],\n",
              "       [17.253761],\n",
              "       [17.346119],\n",
              "       [17.474228],\n",
              "       [17.414186],\n",
              "       [17.356537],\n",
              "       [17.198   ],\n",
              "       [17.232424],\n",
              "       [17.219223],\n",
              "       [17.167982],\n",
              "       [17.220531],\n",
              "       [17.35667 ],\n",
              "       [17.428782],\n",
              "       [17.672857],\n",
              "       [17.923634],\n",
              "       [18.012566],\n",
              "       [17.818638],\n",
              "       [17.788425],\n",
              "       [17.854681],\n",
              "       [17.848879],\n",
              "       [17.809042],\n",
              "       [17.554884],\n",
              "       [17.989428],\n",
              "       [18.113537],\n",
              "       [18.164751],\n",
              "       [18.260984],\n",
              "       [18.24553 ],\n",
              "       [18.18625 ],\n",
              "       [18.385416],\n",
              "       [18.687744],\n",
              "       [18.838444],\n",
              "       [18.794228],\n",
              "       [18.75082 ],\n",
              "       [18.848919],\n",
              "       [18.75556 ],\n",
              "       [18.819225],\n",
              "       [18.936613],\n",
              "       [19.026575]], dtype=float32)"
            ]
          },
          "metadata": {
            "tags": []
          },
          "execution_count": 233
        }
      ]
    },
    {
      "cell_type": "markdown",
      "metadata": {
        "id": "lEjN0sRdrGmK"
      },
      "source": [
        "#**6-Análise dos resuldatos**"
      ]
    },
    {
      "cell_type": "code",
      "metadata": {
        "id": "beWuUgy2Uoe_",
        "colab": {
          "base_uri": "https://localhost:8080/",
          "height": 485
        },
        "outputId": "9b4a3375-fb2d-41de-fe26-e250c415aa7e"
      },
      "source": [
        "#Visualizando o gráfico da Previsão da rede\n",
        "plt.plot(preco_real_teste, color = 'red', label = 'Preço real')\n",
        "plt.plot(previsoes, color = 'blue', label = 'Previsões')\n",
        "plt.title('Previsão do preço das ações')\n",
        "plt.xlabel('Tempo em dias')\n",
        "plt.ylabel('Preço das ações')\n",
        "plt.legend()\n",
        "plt.show()"
      ],
      "execution_count": 234,
      "outputs": [
        {
          "output_type": "display_data",
          "data": {
            "image/png": "[encoded data removed]",
            "text/plain": [
              "<Figure size 1800x864 with 1 Axes>"
            ]
          },
          "metadata": {
            "tags": []
          }
        }
      ]
    },
    {
      "cell_type": "code",
      "metadata": {
        "id": "hKA0-lbgUtH-",
        "colab": {
          "base_uri": "https://localhost:8080/",
          "height": 297
        },
        "outputId": "6f4c0f7d-6e20-4a8f-dc8c-ade51eb6a3b6"
      },
      "source": [
        "#estatísticas do preço real comparado com a previsão\n",
        "df1 = pd.DataFrame(preco_real_teste).T\n",
        "df2 = pd.DataFrame(previsoes).T\n",
        "\n",
        "df3 = pd.concat([df1,df2]).T\n",
        "df3.columns = ['Preco real', 'Previsoes']\n",
        "df3.describe()"
      ],
      "execution_count": 236,
      "outputs": [
        {
          "output_type": "execute_result",
          "data": {
            "text/html": [
              "<div>\n",
              "<style scoped>\n",
              "    .dataframe tbody tr th:only-of-type {\n",
              "        vertical-align: middle;\n",
              "    }\n",
              "\n",
              "    .dataframe tbody tr th {\n",
              "        vertical-align: top;\n",
              "    }\n",
              "\n",
              "    .dataframe thead th {\n",
              "        text-align: right;\n",
              "    }\n",
              "</style>\n",
              "<table border=\"1\" class=\"dataframe\">\n",
              "  <thead>\n",
              "    <tr style=\"text-align: right;\">\n",
              "      <th></th>\n",
              "      <th>Preco real</th>\n",
              "      <th>Previsoes</th>\n",
              "    </tr>\n",
              "  </thead>\n",
              "  <tbody>\n",
              "    <tr>\n",
              "      <th>count</th>\n",
              "      <td>248.000000</td>\n",
              "      <td>248.000000</td>\n",
              "    </tr>\n",
              "    <tr>\n",
              "      <th>mean</th>\n",
              "      <td>18.111619</td>\n",
              "      <td>17.906489</td>\n",
              "    </tr>\n",
              "    <tr>\n",
              "      <th>std</th>\n",
              "      <td>0.922235</td>\n",
              "      <td>0.924269</td>\n",
              "    </tr>\n",
              "    <tr>\n",
              "      <th>min</th>\n",
              "      <td>16.150000</td>\n",
              "      <td>15.146830</td>\n",
              "    </tr>\n",
              "    <tr>\n",
              "      <th>25%</th>\n",
              "      <td>17.437501</td>\n",
              "      <td>17.236662</td>\n",
              "    </tr>\n",
              "    <tr>\n",
              "      <th>50%</th>\n",
              "      <td>18.090000</td>\n",
              "      <td>17.910392</td>\n",
              "    </tr>\n",
              "    <tr>\n",
              "      <th>75%</th>\n",
              "      <td>18.727499</td>\n",
              "      <td>18.559065</td>\n",
              "    </tr>\n",
              "    <tr>\n",
              "      <th>max</th>\n",
              "      <td>20.629999</td>\n",
              "      <td>20.251883</td>\n",
              "    </tr>\n",
              "  </tbody>\n",
              "</table>\n",
              "</div>"
            ],
            "text/plain": [
              "       Preco real   Previsoes\n",
              "count  248.000000  248.000000\n",
              "mean    18.111619   17.906489\n",
              "std      0.922235    0.924269\n",
              "min     16.150000   15.146830\n",
              "25%     17.437501   17.236662\n",
              "50%     18.090000   17.910392\n",
              "75%     18.727499   18.559065\n",
              "max     20.629999   20.251883"
            ]
          },
          "metadata": {
            "tags": []
          },
          "execution_count": 236
        }
      ]
    },
    {
      "cell_type": "code",
      "metadata": {
        "id": "ZjIrFF8Y_M9N"
      },
      "source": [
        "#df2 = pd.DataFrame(previsoes)\n",
        "#df2.describe()"
      ],
      "execution_count": null,
      "outputs": []
    },
    {
      "cell_type": "code",
      "metadata": {
        "id": "TKfgSJAIV5a_"
      },
      "source": [
        "#df1 = pd.DataFrame(preco_real_teste)\n",
        "#df1.describe()"
      ],
      "execution_count": null,
      "outputs": []
    }
  ]
}