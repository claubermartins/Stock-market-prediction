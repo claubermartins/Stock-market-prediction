{
  "nbformat": 4,
  "nbformat_minor": 0,
  "metadata": {
    "colab": {
      "name": "stock-market-prediction.ipynb",
      "provenance": [],
      "collapsed_sections": [
        "UiXZAchqFuC-",
        "SuPg1RFvQyMS",
        "8MLClRMWPwTL",
        "hCiQYMqPGHuG",
        "4IDwP-XV_Ohd",
        "RtFahmEgGAzZ"
      ],
      "authorship_tag": "ABX9TyOL27JUexfRApPMRxOjzyyP",
      "include_colab_link": true
    },
    "kernelspec": {
      "name": "python3",
      "display_name": "Python 3"
    },
    "accelerator": "GPU"
  },
  "cells": [
    {
      "cell_type": "markdown",
      "metadata": {
        "id": "view-in-github",
        "colab_type": "text"
      },
      "source": [
        "<a href=\"https://colab.research.google.com/github/claubermartins/Stock-market-prediction/blob/main/stock_market_prediction-ambev.ipynb\" target=\"_parent\"><img src=\"https://colab.research.google.com/assets/colab-badge.svg\" alt=\"Open In Colab\"/></a>"
      ]
    },
    {
      "cell_type": "code",
      "metadata": {
        "colab": {
          "base_uri": "https://localhost:8080/"
        },
        "id": "XjlKRgiDRdpq",
        "outputId": "f2c2738e-f966-4818-b467-6a8ef71f5548"
      },
      "source": [
        "pip install inflection"
      ],
      "execution_count": 205,
      "outputs": [
        {
          "output_type": "stream",
          "text": [
            "Requirement already satisfied: inflection in /usr/local/lib/python3.7/dist-packages (0.5.1)\n"
          ],
          "name": "stdout"
        }
      ]
    },
    {
      "cell_type": "markdown",
      "metadata": {
        "id": "UiXZAchqFuC-"
      },
      "source": [
        "#**1-Importando bibliotecas**"
      ]
    },
    {
      "cell_type": "code",
      "metadata": {
        "id": "ZjQg-8c_--wP"
      },
      "source": [
        "from tensorflow.keras.models import Sequential \n",
        "from tensorflow.keras.layers import Dense, Dropout, LSTM\n",
        "from tensorflow.keras.callbacks import EarlyStopping \n",
        "from sklearn.preprocessing import MinMaxScaler\n",
        "from sklearn.impute import SimpleImputer\n",
        "import numpy as np\n",
        "import pandas as pd\n",
        "import matplotlib.pyplot as plt\n",
        "import tensorflow as tf\n",
        "import math\n",
        "import seaborn as sns\n",
        "import datetime\n",
        "import inflection\n",
        "from IPython.core.display import HTML"
      ],
      "execution_count": 206,
      "outputs": []
    },
    {
      "cell_type": "markdown",
      "metadata": {
        "id": "SuPg1RFvQyMS"
      },
      "source": [
        "#**2-Funções auxiliares para o Jupyter Notebook**"
      ]
    },
    {
      "cell_type": "code",
      "metadata": {
        "id": "2vKvPdvDPJHc"
      },
      "source": [
        "def jupyter_settings():\n",
        "    %matplotlib inline\n",
        "    %pylab inline\n",
        "    \n",
        "    plt.style.use( 'bmh' )\n",
        "    plt.rcParams['figure.figsize'] = [25, 12]\n",
        "    plt.rcParams['font.size'] = 24\n",
        "    \n",
        "    display( HTML( '<style>.container { width:100% !important; }</style>') )\n",
        "    pd.options.display.max_columns = None\n",
        "    pd.options.display.max_rows = None\n",
        "    pd.set_option( 'display.expand_frame_repr', False )\n",
        "    \n",
        "    sns.set()"
      ],
      "execution_count": 207,
      "outputs": []
    },
    {
      "cell_type": "code",
      "metadata": {
        "colab": {
          "base_uri": "https://localhost:8080/",
          "height": 34
        },
        "id": "PGJn-AaoMxuy",
        "outputId": "d232e611-9542-488c-ceb4-6885414447c5"
      },
      "source": [
        "jupyter_settings()"
      ],
      "execution_count": 208,
      "outputs": [
        {
          "output_type": "stream",
          "text": [
            "Populating the interactive namespace from numpy and matplotlib\n"
          ],
          "name": "stdout"
        },
        {
          "output_type": "display_data",
          "data": {
            "text/html": [
              "<style>.container { width:100% !important; }</style>"
            ],
            "text/plain": [
              "<IPython.core.display.HTML object>"
            ]
          },
          "metadata": {
            "tags": []
          }
        }
      ]
    },
    {
      "cell_type": "markdown",
      "metadata": {
        "id": "c_3core8Shq6"
      },
      "source": [
        "#**2.1Método de importação de arquivos do Google Colab**"
      ]
    },
    {
      "cell_type": "code",
      "metadata": {
        "id": "cTk_YEVdyms3",
        "colab": {
          "resources": {
            "http://localhost:8080/nbextensions/google.colab/files.js": {
              "data": "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",
              "ok": true,
              "headers": [
                [
                  "content-type",
                  "application/javascript"
                ]
              ],
              "status": 200,
              "status_text": ""
            }
          },
          "base_uri": "https://localhost:8080/",
          "height": 157
        },
        "outputId": "020f6c60-ee12-4d26-a85f-fb4382658264"
      },
      "source": [
        "from google.colab import files\n",
        "upload = files.upload()\n",
        "print(\"downloaded files: \")\n",
        "print(*upload, sep = \"\\n\")"
      ],
      "execution_count": 209,
      "outputs": [
        {
          "output_type": "display_data",
          "data": {
            "text/html": [
              "\n",
              "     <input type=\"file\" id=\"files-53da0da1-0651-424f-b4d0-78fa20b57760\" name=\"files[]\" multiple disabled\n",
              "        style=\"border:none\" />\n",
              "     <output id=\"result-53da0da1-0651-424f-b4d0-78fa20b57760\">\n",
              "      Upload widget is only available when the cell has been executed in the\n",
              "      current browser session. Please rerun this cell to enable.\n",
              "      </output>\n",
              "      <script src=\"/nbextensions/google.colab/files.js\"></script> "
            ],
            "text/plain": [
              "<IPython.core.display.HTML object>"
            ]
          },
          "metadata": {
            "tags": []
          }
        },
        {
          "output_type": "stream",
          "text": [
            "Saving ABEV3-teste.csv to ABEV3-teste.csv\n",
            "Saving ABEV3-treinamento.csv to ABEV3-treinamento.csv\n",
            "downloaded files: \n",
            "ABEV3-teste.csv\n",
            "ABEV3-treinamento.csv\n"
          ],
          "name": "stdout"
        }
      ]
    },
    {
      "cell_type": "markdown",
      "metadata": {
        "id": "8MLClRMWPwTL"
      },
      "source": [
        "#**3-Tratamento dos dados**"
      ]
    },
    {
      "cell_type": "markdown",
      "metadata": {
        "id": "DOJanakhS-s2"
      },
      "source": [
        "##**3.1-Importando os dados**"
      ]
    },
    {
      "cell_type": "code",
      "metadata": {
        "id": "vYFCwA5GTB2j"
      },
      "source": [
        "base = pd.read_csv('ABEV3-treinamento.csv')\n",
        "base = base.drop('Date', axis = 1)"
      ],
      "execution_count": 210,
      "outputs": []
    },
    {
      "cell_type": "code",
      "metadata": {
        "colab": {
          "base_uri": "https://localhost:8080/",
          "height": 297
        },
        "id": "SD9oSvK-NE0Y",
        "outputId": "82f3432d-ad74-4f98-c65f-0071852ee1ab"
      },
      "source": [
        "#valores estatísticos\n",
        "base.describe()"
      ],
      "execution_count": 211,
      "outputs": [
        {
          "output_type": "execute_result",
          "data": {
            "text/html": [
              "<div>\n",
              "<style scoped>\n",
              "    .dataframe tbody tr th:only-of-type {\n",
              "        vertical-align: middle;\n",
              "    }\n",
              "\n",
              "    .dataframe tbody tr th {\n",
              "        vertical-align: top;\n",
              "    }\n",
              "\n",
              "    .dataframe thead th {\n",
              "        text-align: right;\n",
              "    }\n",
              "</style>\n",
              "<table border=\"1\" class=\"dataframe\">\n",
              "  <thead>\n",
              "    <tr style=\"text-align: right;\">\n",
              "      <th></th>\n",
              "      <th>Open</th>\n",
              "      <th>High</th>\n",
              "      <th>Low</th>\n",
              "      <th>Close</th>\n",
              "      <th>Adj Close</th>\n",
              "      <th>Volume</th>\n",
              "    </tr>\n",
              "  </thead>\n",
              "  <tbody>\n",
              "    <tr>\n",
              "      <th>count</th>\n",
              "      <td>2231.000000</td>\n",
              "      <td>2231.000000</td>\n",
              "      <td>2231.000000</td>\n",
              "      <td>2231.000000</td>\n",
              "      <td>2231.000000</td>\n",
              "      <td>2.231000e+03</td>\n",
              "    </tr>\n",
              "    <tr>\n",
              "      <th>mean</th>\n",
              "      <td>15.247205</td>\n",
              "      <td>15.406185</td>\n",
              "      <td>15.081828</td>\n",
              "      <td>15.255044</td>\n",
              "      <td>12.490003</td>\n",
              "      <td>8.164570e+06</td>\n",
              "    </tr>\n",
              "    <tr>\n",
              "      <th>std</th>\n",
              "      <td>4.746051</td>\n",
              "      <td>4.784574</td>\n",
              "      <td>4.703562</td>\n",
              "      <td>4.740250</td>\n",
              "      <td>4.759135</td>\n",
              "      <td>1.145977e+07</td>\n",
              "    </tr>\n",
              "    <tr>\n",
              "      <th>min</th>\n",
              "      <td>5.523400</td>\n",
              "      <td>5.585331</td>\n",
              "      <td>5.490637</td>\n",
              "      <td>5.515010</td>\n",
              "      <td>3.806502</td>\n",
              "      <td>0.000000e+00</td>\n",
              "    </tr>\n",
              "    <tr>\n",
              "      <th>25%</th>\n",
              "      <td>12.143761</td>\n",
              "      <td>12.284747</td>\n",
              "      <td>12.018774</td>\n",
              "      <td>12.177757</td>\n",
              "      <td>8.853852</td>\n",
              "      <td>9.356215e+05</td>\n",
              "    </tr>\n",
              "    <tr>\n",
              "      <th>50%</th>\n",
              "      <td>16.770000</td>\n",
              "      <td>16.928442</td>\n",
              "      <td>16.570000</td>\n",
              "      <td>16.750000</td>\n",
              "      <td>12.838694</td>\n",
              "      <td>7.296800e+06</td>\n",
              "    </tr>\n",
              "    <tr>\n",
              "      <th>75%</th>\n",
              "      <td>18.735000</td>\n",
              "      <td>18.910000</td>\n",
              "      <td>18.530001</td>\n",
              "      <td>18.724999</td>\n",
              "      <td>16.261292</td>\n",
              "      <td>1.236450e+07</td>\n",
              "    </tr>\n",
              "    <tr>\n",
              "      <th>max</th>\n",
              "      <td>24.389999</td>\n",
              "      <td>24.559999</td>\n",
              "      <td>24.030001</td>\n",
              "      <td>24.270000</td>\n",
              "      <td>22.276297</td>\n",
              "      <td>2.876952e+08</td>\n",
              "    </tr>\n",
              "  </tbody>\n",
              "</table>\n",
              "</div>"
            ],
            "text/plain": [
              "              Open         High          Low        Close    Adj Close        Volume\n",
              "count  2231.000000  2231.000000  2231.000000  2231.000000  2231.000000  2.231000e+03\n",
              "mean     15.247205    15.406185    15.081828    15.255044    12.490003  8.164570e+06\n",
              "std       4.746051     4.784574     4.703562     4.740250     4.759135  1.145977e+07\n",
              "min       5.523400     5.585331     5.490637     5.515010     3.806502  0.000000e+00\n",
              "25%      12.143761    12.284747    12.018774    12.177757     8.853852  9.356215e+05\n",
              "50%      16.770000    16.928442    16.570000    16.750000    12.838694  7.296800e+06\n",
              "75%      18.735000    18.910000    18.530001    18.724999    16.261292  1.236450e+07\n",
              "max      24.389999    24.559999    24.030001    24.270000    22.276297  2.876952e+08"
            ]
          },
          "metadata": {
            "tags": []
          },
          "execution_count": 211
        }
      ]
    },
    {
      "cell_type": "code",
      "metadata": {
        "colab": {
          "base_uri": "https://localhost:8080/"
        },
        "id": "fbKUPwPSNJqm",
        "outputId": "c54eabea-cb0a-4476-f4ca-e3e15a102f71"
      },
      "source": [
        "base.dtypes"
      ],
      "execution_count": 212,
      "outputs": [
        {
          "output_type": "execute_result",
          "data": {
            "text/plain": [
              "Open         float64\n",
              "High         float64\n",
              "Low          float64\n",
              "Close        float64\n",
              "Adj Close    float64\n",
              "Volume       float64\n",
              "dtype: object"
            ]
          },
          "metadata": {
            "tags": []
          },
          "execution_count": 212
        }
      ]
    },
    {
      "cell_type": "markdown",
      "metadata": {
        "id": "bCTD3wo2TfZF"
      },
      "source": [
        "##**3.2-Tratando os Valores Faltantes**"
      ]
    },
    {
      "cell_type": "code",
      "metadata": {
        "colab": {
          "base_uri": "https://localhost:8080/"
        },
        "id": "H60SOo8MTjjP",
        "outputId": "66abaa7c-e4fc-4ab8-887f-760876f51dba"
      },
      "source": [
        "#valores faltantes\n",
        "base.isna().sum()"
      ],
      "execution_count": 213,
      "outputs": [
        {
          "output_type": "execute_result",
          "data": {
            "text/plain": [
              "Open         1\n",
              "High         1\n",
              "Low          1\n",
              "Close        1\n",
              "Adj Close    1\n",
              "Volume       1\n",
              "dtype: int64"
            ]
          },
          "metadata": {
            "tags": []
          },
          "execution_count": 213
        }
      ]
    },
    {
      "cell_type": "code",
      "metadata": {
        "colab": {
          "base_uri": "https://localhost:8080/",
          "height": 80
        },
        "id": "H-DMfyHXTkdi",
        "outputId": "d7e57759-150b-467d-821f-b614c10ae431"
      },
      "source": [
        "#encontrando onde os valores faltantes estão\n",
        "base.loc[pd.isnull(base['Open'])]\n",
        "base.loc[pd.isnull(base['High'])]\n",
        "base.loc[pd.isnull(base['Low'])]\n",
        "base.loc[pd.isnull(base['Close'])]\n",
        "base.loc[pd.isnull(base['Adj Close'])]\n",
        "base.loc[pd.isnull(base['Volume'])]"
      ],
      "execution_count": 214,
      "outputs": [
        {
          "output_type": "execute_result",
          "data": {
            "text/html": [
              "<div>\n",
              "<style scoped>\n",
              "    .dataframe tbody tr th:only-of-type {\n",
              "        vertical-align: middle;\n",
              "    }\n",
              "\n",
              "    .dataframe tbody tr th {\n",
              "        vertical-align: top;\n",
              "    }\n",
              "\n",
              "    .dataframe thead th {\n",
              "        text-align: right;\n",
              "    }\n",
              "</style>\n",
              "<table border=\"1\" class=\"dataframe\">\n",
              "  <thead>\n",
              "    <tr style=\"text-align: right;\">\n",
              "      <th></th>\n",
              "      <th>Open</th>\n",
              "      <th>High</th>\n",
              "      <th>Low</th>\n",
              "      <th>Close</th>\n",
              "      <th>Adj Close</th>\n",
              "      <th>Volume</th>\n",
              "    </tr>\n",
              "  </thead>\n",
              "  <tbody>\n",
              "    <tr>\n",
              "      <th>2015</th>\n",
              "      <td>NaN</td>\n",
              "      <td>NaN</td>\n",
              "      <td>NaN</td>\n",
              "      <td>NaN</td>\n",
              "      <td>NaN</td>\n",
              "      <td>NaN</td>\n",
              "    </tr>\n",
              "  </tbody>\n",
              "</table>\n",
              "</div>"
            ],
            "text/plain": [
              "      Open  High  Low  Close  Adj Close  Volume\n",
              "2015   NaN   NaN  NaN    NaN        NaN     NaN"
            ]
          },
          "metadata": {
            "tags": []
          },
          "execution_count": 214
        }
      ]
    },
    {
      "cell_type": "code",
      "metadata": {
        "id": "6q0YFzy9TmPD"
      },
      "source": [
        "#preenchendo os valores nulos com o valor médio\n",
        "imputer = SimpleImputer(missing_values=np.nan, strategy='mean',verbose=0)\n",
        "imputer = imputer.fit(base.iloc[:,0:6])\n",
        "base.iloc[:,0:6] = imputer.transform(base.iloc[:,0:6])"
      ],
      "execution_count": 215,
      "outputs": []
    },
    {
      "cell_type": "code",
      "metadata": {
        "colab": {
          "base_uri": "https://localhost:8080/",
          "height": 49
        },
        "id": "gQC2HfFnTpe2",
        "outputId": "2914ec80-3439-4da9-8ee8-10069ae6f3bb"
      },
      "source": [
        "#verificando novamente se ainda temos valores faltantes\n",
        "base.loc[pd.isnull(base['Open'])]\n",
        "base.loc[pd.isnull(base['High'])]\n",
        "base.loc[pd.isnull(base['Low'])]\n",
        "base.loc[pd.isnull(base['Close'])]\n",
        "base.loc[pd.isnull(base['Adj Close'])]\n",
        "base.loc[pd.isnull(base['Volume'])]"
      ],
      "execution_count": 216,
      "outputs": [
        {
          "output_type": "execute_result",
          "data": {
            "text/html": [
              "<div>\n",
              "<style scoped>\n",
              "    .dataframe tbody tr th:only-of-type {\n",
              "        vertical-align: middle;\n",
              "    }\n",
              "\n",
              "    .dataframe tbody tr th {\n",
              "        vertical-align: top;\n",
              "    }\n",
              "\n",
              "    .dataframe thead th {\n",
              "        text-align: right;\n",
              "    }\n",
              "</style>\n",
              "<table border=\"1\" class=\"dataframe\">\n",
              "  <thead>\n",
              "    <tr style=\"text-align: right;\">\n",
              "      <th></th>\n",
              "      <th>Open</th>\n",
              "      <th>High</th>\n",
              "      <th>Low</th>\n",
              "      <th>Close</th>\n",
              "      <th>Adj Close</th>\n",
              "      <th>Volume</th>\n",
              "    </tr>\n",
              "  </thead>\n",
              "  <tbody>\n",
              "  </tbody>\n",
              "</table>\n",
              "</div>"
            ],
            "text/plain": [
              "Empty DataFrame\n",
              "Columns: [Open, High, Low, Close, Adj Close, Volume]\n",
              "Index: []"
            ]
          },
          "metadata": {
            "tags": []
          },
          "execution_count": 216
        }
      ]
    },
    {
      "cell_type": "markdown",
      "metadata": {
        "id": "_WuI_UbmTt3W"
      },
      "source": [
        "#**3.3-Tratamento dos valores nulos (iguais a 0)**"
      ]
    },
    {
      "cell_type": "code",
      "metadata": {
        "colab": {
          "base_uri": "https://localhost:8080/"
        },
        "id": "hyRiBN32Twb2",
        "outputId": "b9f3abc9-8ee4-4cd6-9b3c-e96a6ae3762f"
      },
      "source": [
        "#valores nulos\n",
        "(base == 0).sum()"
      ],
      "execution_count": 217,
      "outputs": [
        {
          "output_type": "execute_result",
          "data": {
            "text/plain": [
              "Open          0\n",
              "High          0\n",
              "Low           0\n",
              "Close         0\n",
              "Adj Close     0\n",
              "Volume       22\n",
              "dtype: int64"
            ]
          },
          "metadata": {
            "tags": []
          },
          "execution_count": 217
        }
      ]
    },
    {
      "cell_type": "code",
      "metadata": {
        "colab": {
          "base_uri": "https://localhost:8080/",
          "height": 731
        },
        "id": "nQPTB9_TT3Dy",
        "outputId": "05df9ff8-004b-40d6-8609-b4168f44911f"
      },
      "source": [
        "#Encontrando os valores nulos\n",
        "base.loc[base['Volume'] == 0]"
      ],
      "execution_count": 218,
      "outputs": [
        {
          "output_type": "execute_result",
          "data": {
            "text/html": [
              "<div>\n",
              "<style scoped>\n",
              "    .dataframe tbody tr th:only-of-type {\n",
              "        vertical-align: middle;\n",
              "    }\n",
              "\n",
              "    .dataframe tbody tr th {\n",
              "        vertical-align: top;\n",
              "    }\n",
              "\n",
              "    .dataframe thead th {\n",
              "        text-align: right;\n",
              "    }\n",
              "</style>\n",
              "<table border=\"1\" class=\"dataframe\">\n",
              "  <thead>\n",
              "    <tr style=\"text-align: right;\">\n",
              "      <th></th>\n",
              "      <th>Open</th>\n",
              "      <th>High</th>\n",
              "      <th>Low</th>\n",
              "      <th>Close</th>\n",
              "      <th>Adj Close</th>\n",
              "      <th>Volume</th>\n",
              "    </tr>\n",
              "  </thead>\n",
              "  <tbody>\n",
              "    <tr>\n",
              "      <th>284</th>\n",
              "      <td>7.391703</td>\n",
              "      <td>7.391703</td>\n",
              "      <td>7.391703</td>\n",
              "      <td>7.391703</td>\n",
              "      <td>5.154269</td>\n",
              "      <td>0.0</td>\n",
              "    </tr>\n",
              "    <tr>\n",
              "      <th>291</th>\n",
              "      <td>7.491591</td>\n",
              "      <td>7.491591</td>\n",
              "      <td>7.491591</td>\n",
              "      <td>7.491591</td>\n",
              "      <td>5.299884</td>\n",
              "      <td>0.0</td>\n",
              "    </tr>\n",
              "    <tr>\n",
              "      <th>310</th>\n",
              "      <td>7.873163</td>\n",
              "      <td>7.873163</td>\n",
              "      <td>7.873163</td>\n",
              "      <td>7.873163</td>\n",
              "      <td>5.569826</td>\n",
              "      <td>0.0</td>\n",
              "    </tr>\n",
              "    <tr>\n",
              "      <th>333</th>\n",
              "      <td>9.391500</td>\n",
              "      <td>9.391500</td>\n",
              "      <td>9.391500</td>\n",
              "      <td>9.391500</td>\n",
              "      <td>6.643963</td>\n",
              "      <td>0.0</td>\n",
              "    </tr>\n",
              "    <tr>\n",
              "      <th>337</th>\n",
              "      <td>8.378201</td>\n",
              "      <td>8.378201</td>\n",
              "      <td>8.378201</td>\n",
              "      <td>8.378201</td>\n",
              "      <td>5.927111</td>\n",
              "      <td>0.0</td>\n",
              "    </tr>\n",
              "    <tr>\n",
              "      <th>430</th>\n",
              "      <td>9.053734</td>\n",
              "      <td>9.053734</td>\n",
              "      <td>9.053734</td>\n",
              "      <td>9.053734</td>\n",
              "      <td>6.469559</td>\n",
              "      <td>0.0</td>\n",
              "    </tr>\n",
              "    <tr>\n",
              "      <th>450</th>\n",
              "      <td>9.423478</td>\n",
              "      <td>9.423478</td>\n",
              "      <td>9.423478</td>\n",
              "      <td>9.423478</td>\n",
              "      <td>6.748445</td>\n",
              "      <td>0.0</td>\n",
              "    </tr>\n",
              "    <tr>\n",
              "      <th>547</th>\n",
              "      <td>12.355449</td>\n",
              "      <td>12.355449</td>\n",
              "      <td>12.355449</td>\n",
              "      <td>12.355449</td>\n",
              "      <td>8.964257</td>\n",
              "      <td>0.0</td>\n",
              "    </tr>\n",
              "    <tr>\n",
              "      <th>667</th>\n",
              "      <td>12.786695</td>\n",
              "      <td>12.786695</td>\n",
              "      <td>12.786695</td>\n",
              "      <td>12.786695</td>\n",
              "      <td>9.308810</td>\n",
              "      <td>0.0</td>\n",
              "    </tr>\n",
              "    <tr>\n",
              "      <th>799</th>\n",
              "      <td>16.382492</td>\n",
              "      <td>16.382492</td>\n",
              "      <td>16.382492</td>\n",
              "      <td>16.382492</td>\n",
              "      <td>12.246234</td>\n",
              "      <td>0.0</td>\n",
              "    </tr>\n",
              "    <tr>\n",
              "      <th>819</th>\n",
              "      <td>15.538570</td>\n",
              "      <td>15.538570</td>\n",
              "      <td>15.538570</td>\n",
              "      <td>15.538570</td>\n",
              "      <td>11.615386</td>\n",
              "      <td>0.0</td>\n",
              "    </tr>\n",
              "    <tr>\n",
              "      <th>881</th>\n",
              "      <td>16.206509</td>\n",
              "      <td>16.206509</td>\n",
              "      <td>16.206509</td>\n",
              "      <td>16.206509</td>\n",
              "      <td>12.114682</td>\n",
              "      <td>0.0</td>\n",
              "    </tr>\n",
              "    <tr>\n",
              "      <th>1831</th>\n",
              "      <td>19.030001</td>\n",
              "      <td>19.030001</td>\n",
              "      <td>19.030001</td>\n",
              "      <td>19.030001</td>\n",
              "      <td>17.002453</td>\n",
              "      <td>0.0</td>\n",
              "    </tr>\n",
              "    <tr>\n",
              "      <th>1844</th>\n",
              "      <td>18.180000</td>\n",
              "      <td>18.180000</td>\n",
              "      <td>18.180000</td>\n",
              "      <td>18.180000</td>\n",
              "      <td>16.243015</td>\n",
              "      <td>0.0</td>\n",
              "    </tr>\n",
              "    <tr>\n",
              "      <th>1904</th>\n",
              "      <td>20.129999</td>\n",
              "      <td>20.129999</td>\n",
              "      <td>20.129999</td>\n",
              "      <td>20.129999</td>\n",
              "      <td>18.144413</td>\n",
              "      <td>0.0</td>\n",
              "    </tr>\n",
              "    <tr>\n",
              "      <th>1929</th>\n",
              "      <td>21.629999</td>\n",
              "      <td>21.629999</td>\n",
              "      <td>21.629999</td>\n",
              "      <td>21.629999</td>\n",
              "      <td>19.496458</td>\n",
              "      <td>0.0</td>\n",
              "    </tr>\n",
              "    <tr>\n",
              "      <th>1944</th>\n",
              "      <td>20.740000</td>\n",
              "      <td>20.740000</td>\n",
              "      <td>20.740000</td>\n",
              "      <td>20.740000</td>\n",
              "      <td>18.694246</td>\n",
              "      <td>0.0</td>\n",
              "    </tr>\n",
              "    <tr>\n",
              "      <th>1953</th>\n",
              "      <td>20.200001</td>\n",
              "      <td>20.200001</td>\n",
              "      <td>20.200001</td>\n",
              "      <td>20.200001</td>\n",
              "      <td>18.207510</td>\n",
              "      <td>0.0</td>\n",
              "    </tr>\n",
              "    <tr>\n",
              "      <th>1956</th>\n",
              "      <td>20.540001</td>\n",
              "      <td>20.540001</td>\n",
              "      <td>20.540001</td>\n",
              "      <td>20.540001</td>\n",
              "      <td>18.513977</td>\n",
              "      <td>0.0</td>\n",
              "    </tr>\n",
              "    <tr>\n",
              "      <th>1981</th>\n",
              "      <td>21.030001</td>\n",
              "      <td>21.030001</td>\n",
              "      <td>21.030001</td>\n",
              "      <td>21.030001</td>\n",
              "      <td>19.240894</td>\n",
              "      <td>0.0</td>\n",
              "    </tr>\n",
              "    <tr>\n",
              "      <th>1985</th>\n",
              "      <td>21.280001</td>\n",
              "      <td>21.280001</td>\n",
              "      <td>21.280001</td>\n",
              "      <td>21.280001</td>\n",
              "      <td>19.469629</td>\n",
              "      <td>0.0</td>\n",
              "    </tr>\n",
              "    <tr>\n",
              "      <th>2003</th>\n",
              "      <td>21.889999</td>\n",
              "      <td>21.889999</td>\n",
              "      <td>21.889999</td>\n",
              "      <td>21.889999</td>\n",
              "      <td>20.027731</td>\n",
              "      <td>0.0</td>\n",
              "    </tr>\n",
              "  </tbody>\n",
              "</table>\n",
              "</div>"
            ],
            "text/plain": [
              "           Open       High        Low      Close  Adj Close  Volume\n",
              "284    7.391703   7.391703   7.391703   7.391703   5.154269     0.0\n",
              "291    7.491591   7.491591   7.491591   7.491591   5.299884     0.0\n",
              "310    7.873163   7.873163   7.873163   7.873163   5.569826     0.0\n",
              "333    9.391500   9.391500   9.391500   9.391500   6.643963     0.0\n",
              "337    8.378201   8.378201   8.378201   8.378201   5.927111     0.0\n",
              "430    9.053734   9.053734   9.053734   9.053734   6.469559     0.0\n",
              "450    9.423478   9.423478   9.423478   9.423478   6.748445     0.0\n",
              "547   12.355449  12.355449  12.355449  12.355449   8.964257     0.0\n",
              "667   12.786695  12.786695  12.786695  12.786695   9.308810     0.0\n",
              "799   16.382492  16.382492  16.382492  16.382492  12.246234     0.0\n",
              "819   15.538570  15.538570  15.538570  15.538570  11.615386     0.0\n",
              "881   16.206509  16.206509  16.206509  16.206509  12.114682     0.0\n",
              "1831  19.030001  19.030001  19.030001  19.030001  17.002453     0.0\n",
              "1844  18.180000  18.180000  18.180000  18.180000  16.243015     0.0\n",
              "1904  20.129999  20.129999  20.129999  20.129999  18.144413     0.0\n",
              "1929  21.629999  21.629999  21.629999  21.629999  19.496458     0.0\n",
              "1944  20.740000  20.740000  20.740000  20.740000  18.694246     0.0\n",
              "1953  20.200001  20.200001  20.200001  20.200001  18.207510     0.0\n",
              "1956  20.540001  20.540001  20.540001  20.540001  18.513977     0.0\n",
              "1981  21.030001  21.030001  21.030001  21.030001  19.240894     0.0\n",
              "1985  21.280001  21.280001  21.280001  21.280001  19.469629     0.0\n",
              "2003  21.889999  21.889999  21.889999  21.889999  20.027731     0.0"
            ]
          },
          "metadata": {
            "tags": []
          },
          "execution_count": 218
        }
      ]
    },
    {
      "cell_type": "code",
      "metadata": {
        "id": "352jPyV0T5JJ"
      },
      "source": [
        "#preenchendo os valores nulos com o valor médio\n",
        "imputer = SimpleImputer(missing_values=0, strategy='mean',verbose=0)\n",
        "imputer = imputer.fit(base.iloc[:,0:6])\n",
        "base.iloc[:,0:6] = imputer.transform(base.iloc[:,0:6])"
      ],
      "execution_count": 219,
      "outputs": []
    },
    {
      "cell_type": "code",
      "metadata": {
        "colab": {
          "base_uri": "https://localhost:8080/",
          "height": 49
        },
        "id": "xI5JdDykT66_",
        "outputId": "b0c98673-5e0f-4c3e-d16c-c4e49a945327"
      },
      "source": [
        "#Verificando novamente se ainda temos valores nulos\n",
        "base.loc[base['Volume'] == 0]"
      ],
      "execution_count": 220,
      "outputs": [
        {
          "output_type": "execute_result",
          "data": {
            "text/html": [
              "<div>\n",
              "<style scoped>\n",
              "    .dataframe tbody tr th:only-of-type {\n",
              "        vertical-align: middle;\n",
              "    }\n",
              "\n",
              "    .dataframe tbody tr th {\n",
              "        vertical-align: top;\n",
              "    }\n",
              "\n",
              "    .dataframe thead th {\n",
              "        text-align: right;\n",
              "    }\n",
              "</style>\n",
              "<table border=\"1\" class=\"dataframe\">\n",
              "  <thead>\n",
              "    <tr style=\"text-align: right;\">\n",
              "      <th></th>\n",
              "      <th>Open</th>\n",
              "      <th>High</th>\n",
              "      <th>Low</th>\n",
              "      <th>Close</th>\n",
              "      <th>Adj Close</th>\n",
              "      <th>Volume</th>\n",
              "    </tr>\n",
              "  </thead>\n",
              "  <tbody>\n",
              "  </tbody>\n",
              "</table>\n",
              "</div>"
            ],
            "text/plain": [
              "Empty DataFrame\n",
              "Columns: [Open, High, Low, Close, Adj Close, Volume]\n",
              "Index: []"
            ]
          },
          "metadata": {
            "tags": []
          },
          "execution_count": 220
        }
      ]
    },
    {
      "cell_type": "code",
      "metadata": {
        "id": "NYW0UUz0T9Kq"
      },
      "source": [
        "#base = base.dropna()"
      ],
      "execution_count": null,
      "outputs": []
    },
    {
      "cell_type": "code",
      "metadata": {
        "id": "ceOotOwsT_Er"
      },
      "source": [
        "#base.sample()"
      ],
      "execution_count": null,
      "outputs": []
    },
    {
      "cell_type": "markdown",
      "metadata": {
        "id": "hCiQYMqPGHuG"
      },
      "source": [
        "#**-Descrição dos dados** IGNORE ESTA CÉLULA"
      ]
    },
    {
      "cell_type": "code",
      "metadata": {
        "id": "xalwLdRSGLRD"
      },
      "source": [
        "#Tendencia central - mean, median\n",
        "ct1 = pd.DataFrame(base.apply(np.mean)).T #T transpondo \n",
        "ct2 = pd.DataFrame(base.apply(np.median)).T\n",
        "#Dispersão - std(desvio padrão), min, max, range\n",
        "d1 = pd.DataFrame(base.apply(np.std)).T\n",
        "d2 = pd.DataFrame(base.apply(min)).T\n",
        "d3 = pd.DataFrame(base.apply(max)).T\n",
        "d4 = pd.DataFrame(base.apply(lambda x: x.max() - x.min())).T\n",
        "#concatenate\n",
        "m = pd.concat([d2,d3,d4,ct1,ct2,d1]).T.reset_index()\n",
        "m.columns = ['attributes','min','max','range', 'mean', 'median', 'std']\n",
        "m"
      ],
      "execution_count": null,
      "outputs": []
    },
    {
      "cell_type": "code",
      "metadata": {
        "colab": {
          "base_uri": "https://localhost:8080/"
        },
        "id": "j62Bj8jOQz_G",
        "outputId": "9e5055ec-b49f-4f7d-e3c1-b3fc2b1dae42"
      },
      "source": [
        "base.shape[0]"
      ],
      "execution_count": null,
      "outputs": [
        {
          "output_type": "execute_result",
          "data": {
            "text/plain": [
              "2478"
            ]
          },
          "metadata": {
            "tags": []
          },
          "execution_count": 20
        }
      ]
    },
    {
      "cell_type": "markdown",
      "metadata": {
        "id": "4IDwP-XV_Ohd"
      },
      "source": [
        "#**4-Treinamento da rede**"
      ]
    },
    {
      "cell_type": "code",
      "metadata": {
        "id": "mpo6RlDsUHNJ"
      },
      "source": [
        "#normalizando a base de dados com o MinMaxScaler\n",
        "base_treinamento = base.iloc[:, 0:6].values\n",
        "normalizador = MinMaxScaler(feature_range=(0,1))\n",
        "base_treinamento_normalizada = normalizador.fit_transform(base_treinamento)"
      ],
      "execution_count": 221,
      "outputs": []
    },
    {
      "cell_type": "code",
      "metadata": {
        "id": "d-LD4OEaUNf7"
      },
      "source": [
        "#Comparando a predição com o preço real\n",
        "previsores = []\n",
        "preco_real = []\n",
        "for i in range(90, 2232):\n",
        "    previsores.append(base_treinamento_normalizada[i-90:i, 0:6])\n",
        "    preco_real.append(base_treinamento_normalizada[i, 0])\n",
        "previsores, preco_real = np.array(previsores), np.array(preco_real)\n"
      ],
      "execution_count": 222,
      "outputs": []
    },
    {
      "cell_type": "code",
      "metadata": {
        "colab": {
          "base_uri": "https://localhost:8080/"
        },
        "id": "ZftXowA9URdt",
        "outputId": "834dbaea-b246-46ba-ee5f-d2c233defdea"
      },
      "source": [
        "#estrutura da rede neural \n",
        "regressor = Sequential()\n",
        "regressor.add(LSTM(units = 100, return_sequences = True, input_shape = (previsores.shape[1], 6)))\n",
        "regressor.add(Dropout(0.3))\n",
        "\n",
        "regressor.add(LSTM(units = 50, return_sequences = True))\n",
        "regressor.add(Dropout(0.3))\n",
        "\n",
        "regressor.add(LSTM(units = 50, return_sequences = True))\n",
        "regressor.add(Dropout(0.3))\n",
        "\n",
        "regressor.add(LSTM(units = 50))\n",
        "regressor.add(Dropout(0.3))\n",
        "\n",
        "regressor.add(Dense(units = 1, activation = 'sigmoid'))\n",
        "\n",
        "es = EarlyStopping(monitor = 'loss', min_delta = 1e-15, patience = 20, verbose = 1)\n",
        "\n",
        "#regressor.compile(optimizer = 'RMSprop', loss = 'mean_squared_error',\n",
        "#                  metrics = ['mean_absolute_error'])\n",
        "opt = tf.keras.optimizers.Adam(amsgrad=True)\n",
        "regressor.compile(optimizer = opt, loss = 'mean_squared_error',\n",
        "                  metrics = ['mean_absolute_error'])\n",
        "#opt = tf.keras.optimizers.RMSprop(centered=True)\n",
        "#regressor.compile(optimizer = opt, loss = 'mean_squared_error',\n",
        "#                 metrics = ['mean_absolute_error'])\n",
        "\n",
        "regressor.fit(previsores, preco_real, epochs = 600, batch_size = 32,\n",
        "              callbacks = [es])\n",
        "#regressor.fit(previsores, preco_real, epochs = 600, batch_size = 32)"
      ],
      "execution_count": 223,
      "outputs": [
        {
          "output_type": "stream",
          "text": [
            "Epoch 1/600\n",
            "67/67 [==============================] - 5s 18ms/step - loss: 0.0260 - mean_absolute_error: 0.1136\n",
            "Epoch 2/600\n",
            "67/67 [==============================] - 1s 16ms/step - loss: 0.0025 - mean_absolute_error: 0.0394\n",
            "Epoch 3/600\n",
            "67/67 [==============================] - 1s 16ms/step - loss: 0.0022 - mean_absolute_error: 0.0365\n",
            "Epoch 4/600\n",
            "67/67 [==============================] - 1s 16ms/step - loss: 0.0018 - mean_absolute_error: 0.0329\n",
            "Epoch 5/600\n",
            "67/67 [==============================] - 1s 16ms/step - loss: 0.0016 - mean_absolute_error: 0.0309\n",
            "Epoch 6/600\n",
            "67/67 [==============================] - 1s 16ms/step - loss: 0.0017 - mean_absolute_error: 0.0330\n",
            "Epoch 7/600\n",
            "67/67 [==============================] - 1s 16ms/step - loss: 0.0015 - mean_absolute_error: 0.0300\n",
            "Epoch 8/600\n",
            "67/67 [==============================] - 1s 16ms/step - loss: 0.0019 - mean_absolute_error: 0.0339\n",
            "Epoch 9/600\n",
            "67/67 [==============================] - 1s 16ms/step - loss: 0.0015 - mean_absolute_error: 0.0297\n",
            "Epoch 10/600\n",
            "67/67 [==============================] - 1s 16ms/step - loss: 0.0014 - mean_absolute_error: 0.0290\n",
            "Epoch 11/600\n",
            "67/67 [==============================] - 1s 16ms/step - loss: 0.0014 - mean_absolute_error: 0.0286\n",
            "Epoch 12/600\n",
            "67/67 [==============================] - 1s 16ms/step - loss: 0.0011 - mean_absolute_error: 0.0262\n",
            "Epoch 13/600\n",
            "67/67 [==============================] - 1s 16ms/step - loss: 0.0014 - mean_absolute_error: 0.0294\n",
            "Epoch 14/600\n",
            "67/67 [==============================] - 1s 16ms/step - loss: 0.0014 - mean_absolute_error: 0.0285\n",
            "Epoch 15/600\n",
            "67/67 [==============================] - 1s 16ms/step - loss: 0.0013 - mean_absolute_error: 0.0279\n",
            "Epoch 16/600\n",
            "67/67 [==============================] - 1s 16ms/step - loss: 0.0011 - mean_absolute_error: 0.0265\n",
            "Epoch 17/600\n",
            "67/67 [==============================] - 1s 16ms/step - loss: 0.0013 - mean_absolute_error: 0.0267\n",
            "Epoch 18/600\n",
            "67/67 [==============================] - 1s 16ms/step - loss: 0.0013 - mean_absolute_error: 0.0281\n",
            "Epoch 19/600\n",
            "67/67 [==============================] - 1s 16ms/step - loss: 0.0011 - mean_absolute_error: 0.0260\n",
            "Epoch 20/600\n",
            "67/67 [==============================] - 1s 16ms/step - loss: 0.0011 - mean_absolute_error: 0.0254\n",
            "Epoch 21/600\n",
            "67/67 [==============================] - 1s 16ms/step - loss: 0.0012 - mean_absolute_error: 0.0257\n",
            "Epoch 22/600\n",
            "67/67 [==============================] - 1s 16ms/step - loss: 0.0011 - mean_absolute_error: 0.0250\n",
            "Epoch 23/600\n",
            "67/67 [==============================] - 1s 16ms/step - loss: 0.0010 - mean_absolute_error: 0.0248\n",
            "Epoch 24/600\n",
            "67/67 [==============================] - 1s 16ms/step - loss: 0.0012 - mean_absolute_error: 0.0263\n",
            "Epoch 25/600\n",
            "67/67 [==============================] - 1s 16ms/step - loss: 0.0011 - mean_absolute_error: 0.0240\n",
            "Epoch 26/600\n",
            "67/67 [==============================] - 1s 16ms/step - loss: 9.9391e-04 - mean_absolute_error: 0.0244\n",
            "Epoch 27/600\n",
            "67/67 [==============================] - 1s 16ms/step - loss: 9.4183e-04 - mean_absolute_error: 0.0241\n",
            "Epoch 28/600\n",
            "67/67 [==============================] - 1s 16ms/step - loss: 8.6993e-04 - mean_absolute_error: 0.0231\n",
            "Epoch 29/600\n",
            "67/67 [==============================] - 1s 16ms/step - loss: 9.7871e-04 - mean_absolute_error: 0.0240\n",
            "Epoch 30/600\n",
            "67/67 [==============================] - 1s 16ms/step - loss: 0.0011 - mean_absolute_error: 0.0253\n",
            "Epoch 31/600\n",
            "67/67 [==============================] - 1s 15ms/step - loss: 8.8294e-04 - mean_absolute_error: 0.0230\n",
            "Epoch 32/600\n",
            "67/67 [==============================] - 1s 16ms/step - loss: 8.7533e-04 - mean_absolute_error: 0.0230\n",
            "Epoch 33/600\n",
            "67/67 [==============================] - 1s 16ms/step - loss: 9.4986e-04 - mean_absolute_error: 0.0238\n",
            "Epoch 34/600\n",
            "67/67 [==============================] - 1s 16ms/step - loss: 9.1283e-04 - mean_absolute_error: 0.0230\n",
            "Epoch 35/600\n",
            "67/67 [==============================] - 1s 16ms/step - loss: 8.4339e-04 - mean_absolute_error: 0.0223\n",
            "Epoch 36/600\n",
            "67/67 [==============================] - 1s 16ms/step - loss: 9.2947e-04 - mean_absolute_error: 0.0230\n",
            "Epoch 37/600\n",
            "67/67 [==============================] - 1s 16ms/step - loss: 8.5458e-04 - mean_absolute_error: 0.0228\n",
            "Epoch 38/600\n",
            "67/67 [==============================] - 1s 16ms/step - loss: 8.3813e-04 - mean_absolute_error: 0.0224\n",
            "Epoch 39/600\n",
            "67/67 [==============================] - 1s 16ms/step - loss: 8.2418e-04 - mean_absolute_error: 0.0221\n",
            "Epoch 40/600\n",
            "67/67 [==============================] - 1s 16ms/step - loss: 9.5226e-04 - mean_absolute_error: 0.0230\n",
            "Epoch 41/600\n",
            "67/67 [==============================] - 1s 16ms/step - loss: 7.9965e-04 - mean_absolute_error: 0.0209\n",
            "Epoch 42/600\n",
            "67/67 [==============================] - 1s 16ms/step - loss: 8.2663e-04 - mean_absolute_error: 0.0211\n",
            "Epoch 43/600\n",
            "67/67 [==============================] - 1s 16ms/step - loss: 7.8068e-04 - mean_absolute_error: 0.0214\n",
            "Epoch 44/600\n",
            "67/67 [==============================] - 1s 16ms/step - loss: 9.0586e-04 - mean_absolute_error: 0.0217\n",
            "Epoch 45/600\n",
            "67/67 [==============================] - 1s 16ms/step - loss: 7.3158e-04 - mean_absolute_error: 0.0203\n",
            "Epoch 46/600\n",
            "67/67 [==============================] - 1s 16ms/step - loss: 8.6889e-04 - mean_absolute_error: 0.0212\n",
            "Epoch 47/600\n",
            "67/67 [==============================] - 1s 16ms/step - loss: 8.0067e-04 - mean_absolute_error: 0.0212\n",
            "Epoch 48/600\n",
            "67/67 [==============================] - 1s 16ms/step - loss: 7.5536e-04 - mean_absolute_error: 0.0208\n",
            "Epoch 49/600\n",
            "67/67 [==============================] - 1s 16ms/step - loss: 8.8542e-04 - mean_absolute_error: 0.0217\n",
            "Epoch 50/600\n",
            "67/67 [==============================] - 1s 16ms/step - loss: 6.9308e-04 - mean_absolute_error: 0.0201\n",
            "Epoch 51/600\n",
            "67/67 [==============================] - 1s 15ms/step - loss: 7.3896e-04 - mean_absolute_error: 0.0196\n",
            "Epoch 52/600\n",
            "67/67 [==============================] - 1s 16ms/step - loss: 7.2986e-04 - mean_absolute_error: 0.0203\n",
            "Epoch 53/600\n",
            "67/67 [==============================] - 1s 16ms/step - loss: 6.7640e-04 - mean_absolute_error: 0.0200\n",
            "Epoch 54/600\n",
            "67/67 [==============================] - 1s 16ms/step - loss: 6.6996e-04 - mean_absolute_error: 0.0197\n",
            "Epoch 55/600\n",
            "67/67 [==============================] - 1s 16ms/step - loss: 5.7567e-04 - mean_absolute_error: 0.0188\n",
            "Epoch 56/600\n",
            "67/67 [==============================] - 1s 16ms/step - loss: 6.6573e-04 - mean_absolute_error: 0.0197\n",
            "Epoch 57/600\n",
            "67/67 [==============================] - 1s 16ms/step - loss: 6.7388e-04 - mean_absolute_error: 0.0191\n",
            "Epoch 58/600\n",
            "67/67 [==============================] - 1s 16ms/step - loss: 9.3140e-04 - mean_absolute_error: 0.0223\n",
            "Epoch 59/600\n",
            "67/67 [==============================] - 1s 16ms/step - loss: 6.9404e-04 - mean_absolute_error: 0.0205\n",
            "Epoch 60/600\n",
            "67/67 [==============================] - 1s 17ms/step - loss: 6.1808e-04 - mean_absolute_error: 0.0191\n",
            "Epoch 61/600\n",
            "67/67 [==============================] - 1s 16ms/step - loss: 7.9657e-04 - mean_absolute_error: 0.0215\n",
            "Epoch 62/600\n",
            "67/67 [==============================] - 1s 16ms/step - loss: 6.3874e-04 - mean_absolute_error: 0.0193\n",
            "Epoch 63/600\n",
            "67/67 [==============================] - 1s 16ms/step - loss: 6.3150e-04 - mean_absolute_error: 0.0193\n",
            "Epoch 64/600\n",
            "67/67 [==============================] - 1s 16ms/step - loss: 6.1754e-04 - mean_absolute_error: 0.0192\n",
            "Epoch 65/600\n",
            "67/67 [==============================] - 1s 16ms/step - loss: 7.2173e-04 - mean_absolute_error: 0.0196\n",
            "Epoch 66/600\n",
            "67/67 [==============================] - 1s 16ms/step - loss: 6.2594e-04 - mean_absolute_error: 0.0193\n",
            "Epoch 67/600\n",
            "67/67 [==============================] - 1s 16ms/step - loss: 5.4823e-04 - mean_absolute_error: 0.0184\n",
            "Epoch 68/600\n",
            "67/67 [==============================] - 1s 16ms/step - loss: 7.5461e-04 - mean_absolute_error: 0.0201\n",
            "Epoch 69/600\n",
            "67/67 [==============================] - 1s 16ms/step - loss: 6.3074e-04 - mean_absolute_error: 0.0187\n",
            "Epoch 70/600\n",
            "67/67 [==============================] - 1s 16ms/step - loss: 6.7480e-04 - mean_absolute_error: 0.0197\n",
            "Epoch 71/600\n",
            "67/67 [==============================] - 1s 16ms/step - loss: 6.4403e-04 - mean_absolute_error: 0.0192\n",
            "Epoch 72/600\n",
            "67/67 [==============================] - 1s 16ms/step - loss: 5.6113e-04 - mean_absolute_error: 0.0183\n",
            "Epoch 73/600\n",
            "67/67 [==============================] - 1s 16ms/step - loss: 5.6962e-04 - mean_absolute_error: 0.0182\n",
            "Epoch 74/600\n",
            "67/67 [==============================] - 1s 16ms/step - loss: 6.2190e-04 - mean_absolute_error: 0.0193\n",
            "Epoch 75/600\n",
            "67/67 [==============================] - 1s 16ms/step - loss: 6.2096e-04 - mean_absolute_error: 0.0191\n",
            "Epoch 76/600\n",
            "67/67 [==============================] - 1s 16ms/step - loss: 5.7869e-04 - mean_absolute_error: 0.0187\n",
            "Epoch 77/600\n",
            "67/67 [==============================] - 1s 16ms/step - loss: 5.8467e-04 - mean_absolute_error: 0.0183\n",
            "Epoch 78/600\n",
            "67/67 [==============================] - 1s 16ms/step - loss: 4.9388e-04 - mean_absolute_error: 0.0168\n",
            "Epoch 79/600\n",
            "67/67 [==============================] - 1s 16ms/step - loss: 5.9627e-04 - mean_absolute_error: 0.0185\n",
            "Epoch 80/600\n",
            "67/67 [==============================] - 1s 16ms/step - loss: 7.5456e-04 - mean_absolute_error: 0.0189\n",
            "Epoch 81/600\n",
            "67/67 [==============================] - 1s 16ms/step - loss: 5.8666e-04 - mean_absolute_error: 0.0180\n",
            "Epoch 82/600\n",
            "67/67 [==============================] - 1s 16ms/step - loss: 6.2054e-04 - mean_absolute_error: 0.0182\n",
            "Epoch 83/600\n",
            "67/67 [==============================] - 1s 17ms/step - loss: 6.2948e-04 - mean_absolute_error: 0.0181\n",
            "Epoch 84/600\n",
            "67/67 [==============================] - 1s 16ms/step - loss: 6.1892e-04 - mean_absolute_error: 0.0179\n",
            "Epoch 85/600\n",
            "67/67 [==============================] - 1s 16ms/step - loss: 5.6925e-04 - mean_absolute_error: 0.0184\n",
            "Epoch 86/600\n",
            "67/67 [==============================] - 1s 16ms/step - loss: 5.3494e-04 - mean_absolute_error: 0.0173\n",
            "Epoch 87/600\n",
            "67/67 [==============================] - 1s 16ms/step - loss: 5.6301e-04 - mean_absolute_error: 0.0174\n",
            "Epoch 88/600\n",
            "67/67 [==============================] - 1s 16ms/step - loss: 6.5296e-04 - mean_absolute_error: 0.0176\n",
            "Epoch 89/600\n",
            "67/67 [==============================] - 1s 16ms/step - loss: 4.5688e-04 - mean_absolute_error: 0.0167\n",
            "Epoch 90/600\n",
            "67/67 [==============================] - 1s 16ms/step - loss: 6.3021e-04 - mean_absolute_error: 0.0184\n",
            "Epoch 91/600\n",
            "67/67 [==============================] - 1s 16ms/step - loss: 7.9278e-04 - mean_absolute_error: 0.0191\n",
            "Epoch 92/600\n",
            "67/67 [==============================] - 1s 16ms/step - loss: 5.2286e-04 - mean_absolute_error: 0.0173\n",
            "Epoch 93/600\n",
            "67/67 [==============================] - 1s 16ms/step - loss: 5.6128e-04 - mean_absolute_error: 0.0172\n",
            "Epoch 94/600\n",
            "67/67 [==============================] - 1s 16ms/step - loss: 5.4180e-04 - mean_absolute_error: 0.0176\n",
            "Epoch 95/600\n",
            "67/67 [==============================] - 1s 16ms/step - loss: 4.8093e-04 - mean_absolute_error: 0.0169\n",
            "Epoch 96/600\n",
            "67/67 [==============================] - 1s 16ms/step - loss: 5.4988e-04 - mean_absolute_error: 0.0172\n",
            "Epoch 97/600\n",
            "67/67 [==============================] - 1s 16ms/step - loss: 5.4160e-04 - mean_absolute_error: 0.0172\n",
            "Epoch 98/600\n",
            "67/67 [==============================] - 1s 16ms/step - loss: 4.5048e-04 - mean_absolute_error: 0.0162\n",
            "Epoch 99/600\n",
            "67/67 [==============================] - 1s 16ms/step - loss: 5.3480e-04 - mean_absolute_error: 0.0170\n",
            "Epoch 100/600\n",
            "67/67 [==============================] - 1s 16ms/step - loss: 5.9236e-04 - mean_absolute_error: 0.0177\n",
            "Epoch 101/600\n",
            "67/67 [==============================] - 1s 16ms/step - loss: 5.4484e-04 - mean_absolute_error: 0.0173\n",
            "Epoch 102/600\n",
            "67/67 [==============================] - 1s 16ms/step - loss: 4.4266e-04 - mean_absolute_error: 0.0162\n",
            "Epoch 103/600\n",
            "67/67 [==============================] - 1s 16ms/step - loss: 6.4282e-04 - mean_absolute_error: 0.0172\n",
            "Epoch 104/600\n",
            "67/67 [==============================] - 1s 16ms/step - loss: 4.9143e-04 - mean_absolute_error: 0.0168\n",
            "Epoch 105/600\n",
            "67/67 [==============================] - 1s 16ms/step - loss: 6.8302e-04 - mean_absolute_error: 0.0173\n",
            "Epoch 106/600\n",
            "67/67 [==============================] - 1s 16ms/step - loss: 5.3498e-04 - mean_absolute_error: 0.0174\n",
            "Epoch 107/600\n",
            "67/67 [==============================] - 1s 16ms/step - loss: 5.2071e-04 - mean_absolute_error: 0.0173\n",
            "Epoch 108/600\n",
            "67/67 [==============================] - 1s 16ms/step - loss: 5.5491e-04 - mean_absolute_error: 0.0172\n",
            "Epoch 109/600\n",
            "67/67 [==============================] - 1s 17ms/step - loss: 5.1876e-04 - mean_absolute_error: 0.0167\n",
            "Epoch 110/600\n",
            "67/67 [==============================] - 1s 16ms/step - loss: 5.6878e-04 - mean_absolute_error: 0.0165\n",
            "Epoch 111/600\n",
            "67/67 [==============================] - 1s 16ms/step - loss: 4.4787e-04 - mean_absolute_error: 0.0159\n",
            "Epoch 112/600\n",
            "67/67 [==============================] - 1s 16ms/step - loss: 5.5652e-04 - mean_absolute_error: 0.0178\n",
            "Epoch 113/600\n",
            "67/67 [==============================] - 1s 16ms/step - loss: 4.8389e-04 - mean_absolute_error: 0.0162\n",
            "Epoch 114/600\n",
            "67/67 [==============================] - 1s 16ms/step - loss: 5.0703e-04 - mean_absolute_error: 0.0167\n",
            "Epoch 115/600\n",
            "67/67 [==============================] - 1s 16ms/step - loss: 5.2105e-04 - mean_absolute_error: 0.0174\n",
            "Epoch 116/600\n",
            "67/67 [==============================] - 1s 16ms/step - loss: 6.1912e-04 - mean_absolute_error: 0.0193\n",
            "Epoch 117/600\n",
            "67/67 [==============================] - 1s 16ms/step - loss: 6.5715e-04 - mean_absolute_error: 0.0168\n",
            "Epoch 118/600\n",
            "67/67 [==============================] - 1s 16ms/step - loss: 5.3439e-04 - mean_absolute_error: 0.0167\n",
            "Epoch 119/600\n",
            "67/67 [==============================] - 1s 16ms/step - loss: 4.8718e-04 - mean_absolute_error: 0.0164\n",
            "Epoch 120/600\n",
            "67/67 [==============================] - 1s 16ms/step - loss: 5.0002e-04 - mean_absolute_error: 0.0166\n",
            "Epoch 121/600\n",
            "67/67 [==============================] - 1s 16ms/step - loss: 4.6174e-04 - mean_absolute_error: 0.0162\n",
            "Epoch 122/600\n",
            "67/67 [==============================] - 1s 16ms/step - loss: 4.9458e-04 - mean_absolute_error: 0.0164\n",
            "Epoch 123/600\n",
            "67/67 [==============================] - 1s 17ms/step - loss: 5.5675e-04 - mean_absolute_error: 0.0169\n",
            "Epoch 124/600\n",
            "67/67 [==============================] - 1s 16ms/step - loss: 4.7742e-04 - mean_absolute_error: 0.0163\n",
            "Epoch 125/600\n",
            "67/67 [==============================] - 1s 16ms/step - loss: 6.2229e-04 - mean_absolute_error: 0.0171\n",
            "Epoch 126/600\n",
            "67/67 [==============================] - 1s 16ms/step - loss: 4.5017e-04 - mean_absolute_error: 0.0159\n",
            "Epoch 127/600\n",
            "67/67 [==============================] - 1s 16ms/step - loss: 4.4418e-04 - mean_absolute_error: 0.0159\n",
            "Epoch 128/600\n",
            "67/67 [==============================] - 1s 16ms/step - loss: 5.1974e-04 - mean_absolute_error: 0.0161\n",
            "Epoch 129/600\n",
            "67/67 [==============================] - 1s 16ms/step - loss: 4.4318e-04 - mean_absolute_error: 0.0156\n",
            "Epoch 130/600\n",
            "67/67 [==============================] - 1s 16ms/step - loss: 4.2217e-04 - mean_absolute_error: 0.0156\n",
            "Epoch 131/600\n",
            "67/67 [==============================] - 1s 17ms/step - loss: 4.8304e-04 - mean_absolute_error: 0.0159\n",
            "Epoch 132/600\n",
            "67/67 [==============================] - 1s 16ms/step - loss: 5.1743e-04 - mean_absolute_error: 0.0164\n",
            "Epoch 133/600\n",
            "67/67 [==============================] - 1s 16ms/step - loss: 6.2007e-04 - mean_absolute_error: 0.0174\n",
            "Epoch 134/600\n",
            "67/67 [==============================] - 1s 16ms/step - loss: 4.3323e-04 - mean_absolute_error: 0.0154\n",
            "Epoch 135/600\n",
            "67/67 [==============================] - 1s 16ms/step - loss: 6.7964e-04 - mean_absolute_error: 0.0177\n",
            "Epoch 136/600\n",
            "67/67 [==============================] - 1s 16ms/step - loss: 4.5517e-04 - mean_absolute_error: 0.0162\n",
            "Epoch 137/600\n",
            "67/67 [==============================] - 1s 16ms/step - loss: 6.2783e-04 - mean_absolute_error: 0.0178\n",
            "Epoch 138/600\n",
            "67/67 [==============================] - 1s 16ms/step - loss: 4.5849e-04 - mean_absolute_error: 0.0158\n",
            "Epoch 139/600\n",
            "67/67 [==============================] - 1s 16ms/step - loss: 4.9884e-04 - mean_absolute_error: 0.0165\n",
            "Epoch 140/600\n",
            "67/67 [==============================] - 1s 16ms/step - loss: 4.2832e-04 - mean_absolute_error: 0.0159\n",
            "Epoch 141/600\n",
            "67/67 [==============================] - 1s 16ms/step - loss: 5.4365e-04 - mean_absolute_error: 0.0175\n",
            "Epoch 142/600\n",
            "67/67 [==============================] - 1s 16ms/step - loss: 4.5154e-04 - mean_absolute_error: 0.0156\n",
            "Epoch 143/600\n",
            "67/67 [==============================] - 1s 16ms/step - loss: 5.0012e-04 - mean_absolute_error: 0.0161\n",
            "Epoch 144/600\n",
            "67/67 [==============================] - 1s 16ms/step - loss: 4.6597e-04 - mean_absolute_error: 0.0159\n",
            "Epoch 145/600\n",
            "67/67 [==============================] - 1s 17ms/step - loss: 4.2645e-04 - mean_absolute_error: 0.0156\n",
            "Epoch 146/600\n",
            "67/67 [==============================] - 1s 16ms/step - loss: 4.9744e-04 - mean_absolute_error: 0.0165\n",
            "Epoch 147/600\n",
            "67/67 [==============================] - 1s 16ms/step - loss: 5.1942e-04 - mean_absolute_error: 0.0160\n",
            "Epoch 148/600\n",
            "67/67 [==============================] - 1s 16ms/step - loss: 6.6508e-04 - mean_absolute_error: 0.0163\n",
            "Epoch 149/600\n",
            "67/67 [==============================] - 1s 16ms/step - loss: 4.2768e-04 - mean_absolute_error: 0.0155\n",
            "Epoch 150/600\n",
            "67/67 [==============================] - 1s 16ms/step - loss: 5.4411e-04 - mean_absolute_error: 0.0166\n",
            "Epoch 151/600\n",
            "67/67 [==============================] - 1s 16ms/step - loss: 3.8966e-04 - mean_absolute_error: 0.0149\n",
            "Epoch 152/600\n",
            "67/67 [==============================] - 1s 18ms/step - loss: 4.8445e-04 - mean_absolute_error: 0.0164\n",
            "Epoch 153/600\n",
            "67/67 [==============================] - 1s 16ms/step - loss: 5.1974e-04 - mean_absolute_error: 0.0157\n",
            "Epoch 154/600\n",
            "67/67 [==============================] - 1s 16ms/step - loss: 4.0125e-04 - mean_absolute_error: 0.0151\n",
            "Epoch 155/600\n",
            "67/67 [==============================] - 1s 16ms/step - loss: 4.3675e-04 - mean_absolute_error: 0.0156\n",
            "Epoch 156/600\n",
            "67/67 [==============================] - 1s 16ms/step - loss: 5.3410e-04 - mean_absolute_error: 0.0164\n",
            "Epoch 157/600\n",
            "67/67 [==============================] - 1s 16ms/step - loss: 4.7569e-04 - mean_absolute_error: 0.0156\n",
            "Epoch 158/600\n",
            "67/67 [==============================] - 1s 17ms/step - loss: 4.1072e-04 - mean_absolute_error: 0.0151\n",
            "Epoch 159/600\n",
            "67/67 [==============================] - 1s 16ms/step - loss: 4.2451e-04 - mean_absolute_error: 0.0147\n",
            "Epoch 160/600\n",
            "67/67 [==============================] - 1s 17ms/step - loss: 4.4037e-04 - mean_absolute_error: 0.0155\n",
            "Epoch 161/600\n",
            "67/67 [==============================] - 1s 17ms/step - loss: 6.2693e-04 - mean_absolute_error: 0.0157\n",
            "Epoch 162/600\n",
            "67/67 [==============================] - 1s 17ms/step - loss: 4.8971e-04 - mean_absolute_error: 0.0152\n",
            "Epoch 163/600\n",
            "67/67 [==============================] - 1s 16ms/step - loss: 4.4136e-04 - mean_absolute_error: 0.0159\n",
            "Epoch 164/600\n",
            "67/67 [==============================] - 1s 16ms/step - loss: 4.3613e-04 - mean_absolute_error: 0.0154\n",
            "Epoch 165/600\n",
            "67/67 [==============================] - 1s 17ms/step - loss: 5.4789e-04 - mean_absolute_error: 0.0161\n",
            "Epoch 166/600\n",
            "67/67 [==============================] - 1s 16ms/step - loss: 5.3932e-04 - mean_absolute_error: 0.0167\n",
            "Epoch 167/600\n",
            "67/67 [==============================] - 1s 16ms/step - loss: 5.5562e-04 - mean_absolute_error: 0.0160\n",
            "Epoch 168/600\n",
            "67/67 [==============================] - 1s 16ms/step - loss: 4.2405e-04 - mean_absolute_error: 0.0149\n",
            "Epoch 169/600\n",
            "67/67 [==============================] - 1s 16ms/step - loss: 3.8054e-04 - mean_absolute_error: 0.0147\n",
            "Epoch 170/600\n",
            "67/67 [==============================] - 1s 16ms/step - loss: 4.9121e-04 - mean_absolute_error: 0.0157\n",
            "Epoch 171/600\n",
            "67/67 [==============================] - 1s 16ms/step - loss: 4.7512e-04 - mean_absolute_error: 0.0154\n",
            "Epoch 172/600\n",
            "67/67 [==============================] - 1s 16ms/step - loss: 5.3568e-04 - mean_absolute_error: 0.0166\n",
            "Epoch 173/600\n",
            "67/67 [==============================] - 1s 17ms/step - loss: 3.7931e-04 - mean_absolute_error: 0.0148\n",
            "Epoch 174/600\n",
            "67/67 [==============================] - 1s 17ms/step - loss: 4.8606e-04 - mean_absolute_error: 0.0163\n",
            "Epoch 175/600\n",
            "67/67 [==============================] - 1s 17ms/step - loss: 5.3635e-04 - mean_absolute_error: 0.0152\n",
            "Epoch 176/600\n",
            "67/67 [==============================] - 1s 17ms/step - loss: 4.1092e-04 - mean_absolute_error: 0.0152\n",
            "Epoch 177/600\n",
            "67/67 [==============================] - 1s 17ms/step - loss: 5.0038e-04 - mean_absolute_error: 0.0161\n",
            "Epoch 178/600\n",
            "67/67 [==============================] - 1s 16ms/step - loss: 5.9024e-04 - mean_absolute_error: 0.0156\n",
            "Epoch 179/600\n",
            "67/67 [==============================] - 1s 17ms/step - loss: 5.3203e-04 - mean_absolute_error: 0.0160\n",
            "Epoch 180/600\n",
            "67/67 [==============================] - 1s 17ms/step - loss: 4.2745e-04 - mean_absolute_error: 0.0154\n",
            "Epoch 181/600\n",
            "67/67 [==============================] - 1s 17ms/step - loss: 4.3219e-04 - mean_absolute_error: 0.0159\n",
            "Epoch 182/600\n",
            "67/67 [==============================] - 1s 17ms/step - loss: 4.1172e-04 - mean_absolute_error: 0.0147\n",
            "Epoch 183/600\n",
            "67/67 [==============================] - 1s 16ms/step - loss: 3.7942e-04 - mean_absolute_error: 0.0145\n",
            "Epoch 184/600\n",
            "67/67 [==============================] - 1s 16ms/step - loss: 4.5983e-04 - mean_absolute_error: 0.0152\n",
            "Epoch 185/600\n",
            "67/67 [==============================] - 1s 16ms/step - loss: 3.5364e-04 - mean_absolute_error: 0.0140\n",
            "Epoch 186/600\n",
            "67/67 [==============================] - 1s 17ms/step - loss: 3.7611e-04 - mean_absolute_error: 0.0143\n",
            "Epoch 187/600\n",
            "67/67 [==============================] - 1s 17ms/step - loss: 3.7595e-04 - mean_absolute_error: 0.0150\n",
            "Epoch 188/600\n",
            "67/67 [==============================] - 1s 16ms/step - loss: 4.3308e-04 - mean_absolute_error: 0.0147\n",
            "Epoch 189/600\n",
            "67/67 [==============================] - 1s 17ms/step - loss: 3.7295e-04 - mean_absolute_error: 0.0142\n",
            "Epoch 190/600\n",
            "67/67 [==============================] - 1s 16ms/step - loss: 4.8734e-04 - mean_absolute_error: 0.0153\n",
            "Epoch 191/600\n",
            "67/67 [==============================] - 1s 17ms/step - loss: 4.1439e-04 - mean_absolute_error: 0.0152\n",
            "Epoch 192/600\n",
            "67/67 [==============================] - 1s 16ms/step - loss: 4.3842e-04 - mean_absolute_error: 0.0147\n",
            "Epoch 193/600\n",
            "67/67 [==============================] - 1s 16ms/step - loss: 4.1532e-04 - mean_absolute_error: 0.0147\n",
            "Epoch 194/600\n",
            "67/67 [==============================] - 1s 16ms/step - loss: 4.1597e-04 - mean_absolute_error: 0.0154\n",
            "Epoch 195/600\n",
            "67/67 [==============================] - 1s 16ms/step - loss: 5.7075e-04 - mean_absolute_error: 0.0161\n",
            "Epoch 196/600\n",
            "67/67 [==============================] - 1s 16ms/step - loss: 5.4889e-04 - mean_absolute_error: 0.0155\n",
            "Epoch 197/600\n",
            "67/67 [==============================] - 1s 16ms/step - loss: 3.7868e-04 - mean_absolute_error: 0.0146\n",
            "Epoch 198/600\n",
            "67/67 [==============================] - 1s 16ms/step - loss: 5.1270e-04 - mean_absolute_error: 0.0150\n",
            "Epoch 199/600\n",
            "67/67 [==============================] - 1s 16ms/step - loss: 3.9681e-04 - mean_absolute_error: 0.0149\n",
            "Epoch 200/600\n",
            "67/67 [==============================] - 1s 16ms/step - loss: 3.7368e-04 - mean_absolute_error: 0.0146\n",
            "Epoch 201/600\n",
            "67/67 [==============================] - 1s 17ms/step - loss: 4.8124e-04 - mean_absolute_error: 0.0163\n",
            "Epoch 202/600\n",
            "67/67 [==============================] - 1s 17ms/step - loss: 4.7963e-04 - mean_absolute_error: 0.0155\n",
            "Epoch 203/600\n",
            "67/67 [==============================] - 1s 17ms/step - loss: 3.7464e-04 - mean_absolute_error: 0.0146\n",
            "Epoch 204/600\n",
            "67/67 [==============================] - 1s 16ms/step - loss: 4.6951e-04 - mean_absolute_error: 0.0149\n",
            "Epoch 205/600\n",
            "67/67 [==============================] - 1s 16ms/step - loss: 4.1452e-04 - mean_absolute_error: 0.0144\n",
            "Epoch 00205: early stopping\n"
          ],
          "name": "stdout"
        },
        {
          "output_type": "execute_result",
          "data": {
            "text/plain": [
              "<tensorflow.python.keras.callbacks.History at 0x7fb94c7bb310>"
            ]
          },
          "metadata": {
            "tags": []
          },
          "execution_count": 223
        }
      ]
    },
    {
      "cell_type": "markdown",
      "metadata": {
        "id": "RtFahmEgGAzZ"
      },
      "source": [
        "#**5-Teste da rede**"
      ]
    },
    {
      "cell_type": "markdown",
      "metadata": {
        "id": "QSWSKW8nqeA0"
      },
      "source": [
        "##**5.1-Importando os dados para teste**"
      ]
    },
    {
      "cell_type": "code",
      "metadata": {
        "id": "4X6-ArtKUdpD"
      },
      "source": [
        "#criando a base de dados teste\n",
        "base_teste = pd.read_csv('ABEV3-teste.csv')\n",
        "base_teste = base_teste.drop('Date', axis = 1)"
      ],
      "execution_count": 224,
      "outputs": []
    },
    {
      "cell_type": "code",
      "metadata": {
        "colab": {
          "base_uri": "https://localhost:8080/",
          "height": 297
        },
        "id": "dXOp2vDcpAvA",
        "outputId": "2d1c7f00-d6d1-4637-dd63-0ff395bd01ae"
      },
      "source": [
        "#valores estatísticos\n",
        "base_teste.describe()"
      ],
      "execution_count": 225,
      "outputs": [
        {
          "output_type": "execute_result",
          "data": {
            "text/html": [
              "<div>\n",
              "<style scoped>\n",
              "    .dataframe tbody tr th:only-of-type {\n",
              "        vertical-align: middle;\n",
              "    }\n",
              "\n",
              "    .dataframe tbody tr th {\n",
              "        vertical-align: top;\n",
              "    }\n",
              "\n",
              "    .dataframe thead th {\n",
              "        text-align: right;\n",
              "    }\n",
              "</style>\n",
              "<table border=\"1\" class=\"dataframe\">\n",
              "  <thead>\n",
              "    <tr style=\"text-align: right;\">\n",
              "      <th></th>\n",
              "      <th>Open</th>\n",
              "      <th>High</th>\n",
              "      <th>Low</th>\n",
              "      <th>Close</th>\n",
              "      <th>Adj Close</th>\n",
              "      <th>Volume</th>\n",
              "    </tr>\n",
              "  </thead>\n",
              "  <tbody>\n",
              "    <tr>\n",
              "      <th>count</th>\n",
              "      <td>247.000000</td>\n",
              "      <td>247.000000</td>\n",
              "      <td>247.000000</td>\n",
              "      <td>247.000000</td>\n",
              "      <td>247.000000</td>\n",
              "      <td>2.470000e+02</td>\n",
              "    </tr>\n",
              "    <tr>\n",
              "      <th>mean</th>\n",
              "      <td>18.097571</td>\n",
              "      <td>18.318462</td>\n",
              "      <td>17.895506</td>\n",
              "      <td>18.111619</td>\n",
              "      <td>17.121478</td>\n",
              "      <td>2.172937e+07</td>\n",
              "    </tr>\n",
              "    <tr>\n",
              "      <th>std</th>\n",
              "      <td>0.927619</td>\n",
              "      <td>0.923881</td>\n",
              "      <td>0.922278</td>\n",
              "      <td>0.924107</td>\n",
              "      <td>0.884616</td>\n",
              "      <td>1.126563e+07</td>\n",
              "    </tr>\n",
              "    <tr>\n",
              "      <th>min</th>\n",
              "      <td>15.400000</td>\n",
              "      <td>16.299999</td>\n",
              "      <td>15.400000</td>\n",
              "      <td>16.150000</td>\n",
              "      <td>15.258595</td>\n",
              "      <td>5.109500e+06</td>\n",
              "    </tr>\n",
              "    <tr>\n",
              "      <th>25%</th>\n",
              "      <td>17.445001</td>\n",
              "      <td>17.639999</td>\n",
              "      <td>17.245000</td>\n",
              "      <td>17.435001</td>\n",
              "      <td>16.472670</td>\n",
              "      <td>1.524115e+07</td>\n",
              "    </tr>\n",
              "    <tr>\n",
              "      <th>50%</th>\n",
              "      <td>18.100000</td>\n",
              "      <td>18.270000</td>\n",
              "      <td>17.920000</td>\n",
              "      <td>18.090000</td>\n",
              "      <td>17.091515</td>\n",
              "      <td>1.919990e+07</td>\n",
              "    </tr>\n",
              "    <tr>\n",
              "      <th>75%</th>\n",
              "      <td>18.795000</td>\n",
              "      <td>18.974999</td>\n",
              "      <td>18.580000</td>\n",
              "      <td>18.735000</td>\n",
              "      <td>17.724536</td>\n",
              "      <td>2.542865e+07</td>\n",
              "    </tr>\n",
              "    <tr>\n",
              "      <th>max</th>\n",
              "      <td>20.410000</td>\n",
              "      <td>20.770000</td>\n",
              "      <td>20.330000</td>\n",
              "      <td>20.629999</td>\n",
              "      <td>19.491320</td>\n",
              "      <td>9.751180e+07</td>\n",
              "    </tr>\n",
              "  </tbody>\n",
              "</table>\n",
              "</div>"
            ],
            "text/plain": [
              "             Open        High         Low       Close   Adj Close        Volume\n",
              "count  247.000000  247.000000  247.000000  247.000000  247.000000  2.470000e+02\n",
              "mean    18.097571   18.318462   17.895506   18.111619   17.121478  2.172937e+07\n",
              "std      0.927619    0.923881    0.922278    0.924107    0.884616  1.126563e+07\n",
              "min     15.400000   16.299999   15.400000   16.150000   15.258595  5.109500e+06\n",
              "25%     17.445001   17.639999   17.245000   17.435001   16.472670  1.524115e+07\n",
              "50%     18.100000   18.270000   17.920000   18.090000   17.091515  1.919990e+07\n",
              "75%     18.795000   18.974999   18.580000   18.735000   17.724536  2.542865e+07\n",
              "max     20.410000   20.770000   20.330000   20.629999   19.491320  9.751180e+07"
            ]
          },
          "metadata": {
            "tags": []
          },
          "execution_count": 225
        }
      ]
    },
    {
      "cell_type": "markdown",
      "metadata": {
        "id": "Cw-NIb9EpatP"
      },
      "source": [
        "##**5.2-Tratando os Valores Faltantes**"
      ]
    },
    {
      "cell_type": "code",
      "metadata": {
        "colab": {
          "base_uri": "https://localhost:8080/"
        },
        "id": "lthEX_TZniHb",
        "outputId": "fe1b404f-d00d-495d-ad94-27a683b4d465"
      },
      "source": [
        "#valores faltantes\n",
        "base_teste.isna().sum()"
      ],
      "execution_count": 226,
      "outputs": [
        {
          "output_type": "execute_result",
          "data": {
            "text/plain": [
              "Open         1\n",
              "High         1\n",
              "Low          1\n",
              "Close        1\n",
              "Adj Close    1\n",
              "Volume       1\n",
              "dtype: int64"
            ]
          },
          "metadata": {
            "tags": []
          },
          "execution_count": 226
        }
      ]
    },
    {
      "cell_type": "code",
      "metadata": {
        "colab": {
          "base_uri": "https://localhost:8080/",
          "height": 80
        },
        "id": "uiH2j_UNpjqk",
        "outputId": "883e9628-45af-4dbe-ddd4-076b21377ece"
      },
      "source": [
        "#encontrando onde os valores faltantes estão\n",
        "base_teste.loc[pd.isnull(base_teste['Open'])]\n",
        "base_teste.loc[pd.isnull(base_teste['High'])]\n",
        "base_teste.loc[pd.isnull(base_teste['Low'])]\n",
        "base_teste.loc[pd.isnull(base_teste['Close'])]\n",
        "base_teste.loc[pd.isnull(base_teste['Adj Close'])]\n",
        "base_teste.loc[pd.isnull(base_teste['Volume'])]"
      ],
      "execution_count": 227,
      "outputs": [
        {
          "output_type": "execute_result",
          "data": {
            "text/html": [
              "<div>\n",
              "<style scoped>\n",
              "    .dataframe tbody tr th:only-of-type {\n",
              "        vertical-align: middle;\n",
              "    }\n",
              "\n",
              "    .dataframe tbody tr th {\n",
              "        vertical-align: top;\n",
              "    }\n",
              "\n",
              "    .dataframe thead th {\n",
              "        text-align: right;\n",
              "    }\n",
              "</style>\n",
              "<table border=\"1\" class=\"dataframe\">\n",
              "  <thead>\n",
              "    <tr style=\"text-align: right;\">\n",
              "      <th></th>\n",
              "      <th>Open</th>\n",
              "      <th>High</th>\n",
              "      <th>Low</th>\n",
              "      <th>Close</th>\n",
              "      <th>Adj Close</th>\n",
              "      <th>Volume</th>\n",
              "    </tr>\n",
              "  </thead>\n",
              "  <tbody>\n",
              "    <tr>\n",
              "      <th>42</th>\n",
              "      <td>NaN</td>\n",
              "      <td>NaN</td>\n",
              "      <td>NaN</td>\n",
              "      <td>NaN</td>\n",
              "      <td>NaN</td>\n",
              "      <td>NaN</td>\n",
              "    </tr>\n",
              "  </tbody>\n",
              "</table>\n",
              "</div>"
            ],
            "text/plain": [
              "    Open  High  Low  Close  Adj Close  Volume\n",
              "42   NaN   NaN  NaN    NaN        NaN     NaN"
            ]
          },
          "metadata": {
            "tags": []
          },
          "execution_count": 227
        }
      ]
    },
    {
      "cell_type": "code",
      "metadata": {
        "id": "Bbw7axJ75lpn"
      },
      "source": [
        "#preenchendo os valores faltantes com o valor médio\n",
        "imputer = SimpleImputer(missing_values=np.nan, strategy='mean',verbose=0)\n",
        "imputer = imputer.fit(base_teste.iloc[:,0:6])\n",
        "base_teste.iloc[:,0:6] = imputer.transform(base_teste.iloc[:,0:6])"
      ],
      "execution_count": 228,
      "outputs": []
    },
    {
      "cell_type": "code",
      "metadata": {
        "colab": {
          "base_uri": "https://localhost:8080/",
          "height": 49
        },
        "id": "CXAi4QV8pw2x",
        "outputId": "b89440e3-e099-4780-dddb-d747599cff11"
      },
      "source": [
        "#verificando novamente se ainda temos valores faltantes\n",
        "base_teste.loc[pd.isnull(base_teste['Open'])]\n",
        "base_teste.loc[pd.isnull(base_teste['High'])]\n",
        "base_teste.loc[pd.isnull(base_teste['Low'])]\n",
        "base_teste.loc[pd.isnull(base_teste['Close'])]\n",
        "base_teste.loc[pd.isnull(base_teste['Adj Close'])]\n",
        "base_teste.loc[pd.isnull(base_teste['Volume'])]"
      ],
      "execution_count": 229,
      "outputs": [
        {
          "output_type": "execute_result",
          "data": {
            "text/html": [
              "<div>\n",
              "<style scoped>\n",
              "    .dataframe tbody tr th:only-of-type {\n",
              "        vertical-align: middle;\n",
              "    }\n",
              "\n",
              "    .dataframe tbody tr th {\n",
              "        vertical-align: top;\n",
              "    }\n",
              "\n",
              "    .dataframe thead th {\n",
              "        text-align: right;\n",
              "    }\n",
              "</style>\n",
              "<table border=\"1\" class=\"dataframe\">\n",
              "  <thead>\n",
              "    <tr style=\"text-align: right;\">\n",
              "      <th></th>\n",
              "      <th>Open</th>\n",
              "      <th>High</th>\n",
              "      <th>Low</th>\n",
              "      <th>Close</th>\n",
              "      <th>Adj Close</th>\n",
              "      <th>Volume</th>\n",
              "    </tr>\n",
              "  </thead>\n",
              "  <tbody>\n",
              "  </tbody>\n",
              "</table>\n",
              "</div>"
            ],
            "text/plain": [
              "Empty DataFrame\n",
              "Columns: [Open, High, Low, Close, Adj Close, Volume]\n",
              "Index: []"
            ]
          },
          "metadata": {
            "tags": []
          },
          "execution_count": 229
        }
      ]
    },
    {
      "cell_type": "markdown",
      "metadata": {
        "id": "X1nZpS8Rp2zr"
      },
      "source": [
        "#**5.3-Tratamento dos valores nulos (iguais a 0)**"
      ]
    },
    {
      "cell_type": "code",
      "metadata": {
        "colab": {
          "base_uri": "https://localhost:8080/"
        },
        "id": "XYwer-dip-KB",
        "outputId": "98d63329-2d11-4307-a5fb-5304fb6cf17b"
      },
      "source": [
        "#valores nulos\n",
        "(base_teste == 0).sum()"
      ],
      "execution_count": 230,
      "outputs": [
        {
          "output_type": "execute_result",
          "data": {
            "text/plain": [
              "Open         0\n",
              "High         0\n",
              "Low          0\n",
              "Close        0\n",
              "Adj Close    0\n",
              "Volume       0\n",
              "dtype: int64"
            ]
          },
          "metadata": {
            "tags": []
          },
          "execution_count": 230
        }
      ]
    },
    {
      "cell_type": "code",
      "metadata": {
        "id": "sFBo6iR5qEpS"
      },
      "source": [
        "#Encontrando os valores nulos\n",
        "base_teste.loc[base_teste['Volume'] == 0]"
      ],
      "execution_count": null,
      "outputs": []
    },
    {
      "cell_type": "code",
      "metadata": {
        "id": "ofkU-XjcqOQE"
      },
      "source": [
        "#preenchendo os valores nulos com o valor médio\n",
        "imputer = SimpleImputer(missing_values=0, strategy='mean',verbose=0)\n",
        "imputer = imputer.fit(base_teste.iloc[:,0:6])\n",
        "base_teste.iloc[:,0:6] = imputer.transform(base_teste.iloc[:,0:6])"
      ],
      "execution_count": 159,
      "outputs": []
    },
    {
      "cell_type": "code",
      "metadata": {
        "id": "pYUeIwbnppRT"
      },
      "source": [
        "#Verificando novamente se tem valores nulos\n",
        "base_teste.loc[base_teste['Volume'] == 0]"
      ],
      "execution_count": null,
      "outputs": []
    },
    {
      "cell_type": "markdown",
      "metadata": {
        "id": "N79Bjk6Yq6ci"
      },
      "source": [
        "##**5.4-Preparando a estrutura para teste**"
      ]
    },
    {
      "cell_type": "code",
      "metadata": {
        "id": "UFINH9OzUfDk"
      },
      "source": [
        "#concatenando a base de dados teste com o base de treinamento\n",
        "preco_real_teste = base_teste.iloc[:, 3:4].values\n",
        "frames = [base, base_teste]\n",
        "base_completa = pd.concat(frames)"
      ],
      "execution_count": 231,
      "outputs": []
    },
    {
      "cell_type": "code",
      "metadata": {
        "id": "-CdLW8IZUhLY"
      },
      "source": [
        "#pegando os 90 registros anteriores para percorrer a base teste e colocando no\n",
        "#no formato np.array\n",
        "entradas = base_completa[len(base_completa) - len(base_teste) - 90:].values\n",
        "entradas = normalizador.transform(entradas)\n",
        "Percorrer_teste = []\n",
        "for i in range(90, 338): \n",
        "    Percorrer_teste.append(entradas[i-90:i, 0:6])\n",
        "Percorrer_teste = np.array(Percorrer_teste)"
      ],
      "execution_count": 232,
      "outputs": []
    },
    {
      "cell_type": "code",
      "metadata": {
        "id": "_YdD2ZcaUi1w"
      },
      "source": [
        "#resultado da predição no formato MinMaxScaler\n",
        "previsoes = regressor.predict(Percorrer_teste)"
      ],
      "execution_count": 233,
      "outputs": []
    },
    {
      "cell_type": "code",
      "metadata": {
        "colab": {
          "base_uri": "https://localhost:8080/"
        },
        "id": "jQS0Ql4tUk2Z",
        "outputId": "cd4c63a4-e71d-4f4e-a2d9-a1d70ba5b126"
      },
      "source": [
        "#convertendo para a escala MinMaxScaler \n",
        "normalizador_previsao = MinMaxScaler(feature_range=(0,1))\n",
        "normalizador_previsao.fit_transform(base_treinamento[:,3:4])"
      ],
      "execution_count": 234,
      "outputs": [
        {
          "output_type": "execute_result",
          "data": {
            "text/plain": [
              "array([[0.03189167],\n",
              "       [0.03380903],\n",
              "       [0.03715374],\n",
              "       ...,\n",
              "       [0.51319622],\n",
              "       [0.51106346],\n",
              "       [0.52599282]])"
            ]
          },
          "metadata": {
            "tags": []
          },
          "execution_count": 234
        }
      ]
    },
    {
      "cell_type": "code",
      "metadata": {
        "id": "MP_GBjYJUnFe",
        "colab": {
          "base_uri": "https://localhost:8080/"
        },
        "outputId": "aa7971a0-1fd4-4d5c-8ea5-8f7e545bb84b"
      },
      "source": [
        "#colocando a previsão no formato original para preparar a visualização no gráfico\n",
        "previsoes = normalizador_previsao.inverse_transform(previsoes)\n",
        "previsoes"
      ],
      "execution_count": 235,
      "outputs": [
        {
          "output_type": "execute_result",
          "data": {
            "text/plain": [
              "array([[15.2565365],\n",
              "       [15.825655 ],\n",
              "       [16.111595 ],\n",
              "       [16.326817 ],\n",
              "       [16.390781 ],\n",
              "       [16.19221  ],\n",
              "       [16.228678 ],\n",
              "       [16.56004  ],\n",
              "       [16.981567 ],\n",
              "       [17.279394 ],\n",
              "       [17.467936 ],\n",
              "       [17.613863 ],\n",
              "       [17.626537 ],\n",
              "       [17.762594 ],\n",
              "       [17.776442 ],\n",
              "       [17.553253 ],\n",
              "       [17.259125 ],\n",
              "       [17.10763  ],\n",
              "       [17.584223 ],\n",
              "       [17.761518 ],\n",
              "       [17.812708 ],\n",
              "       [17.593475 ],\n",
              "       [17.841475 ],\n",
              "       [18.140934 ],\n",
              "       [18.436253 ],\n",
              "       [18.15292  ],\n",
              "       [18.492395 ],\n",
              "       [18.280378 ],\n",
              "       [18.435202 ],\n",
              "       [18.588758 ],\n",
              "       [18.4129   ],\n",
              "       [18.395552 ],\n",
              "       [18.441046 ],\n",
              "       [18.220581 ],\n",
              "       [18.269451 ],\n",
              "       [18.17937  ],\n",
              "       [18.22331  ],\n",
              "       [18.163143 ],\n",
              "       [18.282604 ],\n",
              "       [18.36133  ],\n",
              "       [18.289215 ],\n",
              "       [17.614382 ],\n",
              "       [17.069487 ],\n",
              "       [18.199898 ],\n",
              "       [17.223303 ],\n",
              "       [16.81378  ],\n",
              "       [17.087347 ],\n",
              "       [16.989843 ],\n",
              "       [16.834639 ],\n",
              "       [16.643814 ],\n",
              "       [16.59537  ],\n",
              "       [17.047346 ],\n",
              "       [17.1202   ],\n",
              "       [16.961311 ],\n",
              "       [16.850863 ],\n",
              "       [16.622686 ],\n",
              "       [16.48735  ],\n",
              "       [16.717468 ],\n",
              "       [16.526878 ],\n",
              "       [16.600576 ],\n",
              "       [16.719793 ],\n",
              "       [16.725788 ],\n",
              "       [16.728373 ],\n",
              "       [16.76627  ],\n",
              "       [17.062624 ],\n",
              "       [17.30943  ],\n",
              "       [17.225922 ],\n",
              "       [17.399002 ],\n",
              "       [17.439026 ],\n",
              "       [17.253925 ],\n",
              "       [17.06459  ],\n",
              "       [17.242146 ],\n",
              "       [17.38243  ],\n",
              "       [17.137245 ],\n",
              "       [17.015541 ],\n",
              "       [17.247307 ],\n",
              "       [17.573935 ],\n",
              "       [17.52838  ],\n",
              "       [17.964188 ],\n",
              "       [18.121655 ],\n",
              "       [18.216322 ],\n",
              "       [18.292137 ],\n",
              "       [18.02637  ],\n",
              "       [17.891085 ],\n",
              "       [17.876892 ],\n",
              "       [17.665272 ],\n",
              "       [17.79195  ],\n",
              "       [17.53057  ],\n",
              "       [17.345348 ],\n",
              "       [17.048332 ],\n",
              "       [16.949234 ],\n",
              "       [16.653948 ],\n",
              "       [16.546944 ],\n",
              "       [16.51486  ],\n",
              "       [16.424698 ],\n",
              "       [16.84815  ],\n",
              "       [17.060074 ],\n",
              "       [17.082281 ],\n",
              "       [16.974543 ],\n",
              "       [17.074482 ],\n",
              "       [17.158386 ],\n",
              "       [17.154509 ],\n",
              "       [17.25135  ],\n",
              "       [17.349745 ],\n",
              "       [17.330582 ],\n",
              "       [17.270008 ],\n",
              "       [17.32087  ],\n",
              "       [17.508526 ],\n",
              "       [17.527735 ],\n",
              "       [17.572357 ],\n",
              "       [17.61822  ],\n",
              "       [17.54836  ],\n",
              "       [17.713469 ],\n",
              "       [17.638178 ],\n",
              "       [17.648676 ],\n",
              "       [17.87842  ],\n",
              "       [18.037878 ],\n",
              "       [18.278425 ],\n",
              "       [18.242788 ],\n",
              "       [18.136557 ],\n",
              "       [18.057796 ],\n",
              "       [17.939062 ],\n",
              "       [17.895271 ],\n",
              "       [17.824286 ],\n",
              "       [17.963156 ],\n",
              "       [18.471935 ],\n",
              "       [18.856232 ],\n",
              "       [18.813921 ],\n",
              "       [18.863342 ],\n",
              "       [18.905436 ],\n",
              "       [18.73271  ],\n",
              "       [18.365057 ],\n",
              "       [18.297432 ],\n",
              "       [18.16265  ],\n",
              "       [18.046824 ],\n",
              "       [18.145927 ],\n",
              "       [18.129992 ],\n",
              "       [17.997791 ],\n",
              "       [18.020947 ],\n",
              "       [17.987417 ],\n",
              "       [19.220993 ],\n",
              "       [19.540031 ],\n",
              "       [20.075676 ],\n",
              "       [20.263788 ],\n",
              "       [20.104353 ],\n",
              "       [20.330814 ],\n",
              "       [20.37874  ],\n",
              "       [20.195625 ],\n",
              "       [20.361162 ],\n",
              "       [20.3965   ],\n",
              "       [20.156063 ],\n",
              "       [20.116539 ],\n",
              "       [19.702501 ],\n",
              "       [19.563656 ],\n",
              "       [19.239933 ],\n",
              "       [19.003948 ],\n",
              "       [18.96442  ],\n",
              "       [19.078754 ],\n",
              "       [18.949577 ],\n",
              "       [18.898636 ],\n",
              "       [18.609692 ],\n",
              "       [18.388046 ],\n",
              "       [18.239174 ],\n",
              "       [18.159872 ],\n",
              "       [18.095663 ],\n",
              "       [18.342016 ],\n",
              "       [18.604813 ],\n",
              "       [18.447546 ],\n",
              "       [18.449163 ],\n",
              "       [18.659163 ],\n",
              "       [18.65416  ],\n",
              "       [18.641981 ],\n",
              "       [18.730846 ],\n",
              "       [18.75548  ],\n",
              "       [18.826752 ],\n",
              "       [19.147017 ],\n",
              "       [19.052746 ],\n",
              "       [19.043358 ],\n",
              "       [19.214657 ],\n",
              "       [19.181097 ],\n",
              "       [19.265913 ],\n",
              "       [19.237633 ],\n",
              "       [19.28426  ],\n",
              "       [19.269825 ],\n",
              "       [19.397099 ],\n",
              "       [19.418047 ],\n",
              "       [19.39166  ],\n",
              "       [19.27423  ],\n",
              "       [19.252985 ],\n",
              "       [18.973988 ],\n",
              "       [18.721025 ],\n",
              "       [19.000782 ],\n",
              "       [18.901268 ],\n",
              "       [18.661585 ],\n",
              "       [18.690924 ],\n",
              "       [18.479393 ],\n",
              "       [18.577354 ],\n",
              "       [18.631044 ],\n",
              "       [18.765635 ],\n",
              "       [18.79737  ],\n",
              "       [18.743355 ],\n",
              "       [18.654566 ],\n",
              "       [18.791796 ],\n",
              "       [18.750471 ],\n",
              "       [18.647272 ],\n",
              "       [18.93219  ],\n",
              "       [18.081533 ],\n",
              "       [17.835789 ],\n",
              "       [17.671925 ],\n",
              "       [17.544477 ],\n",
              "       [17.440369 ],\n",
              "       [17.348177 ],\n",
              "       [17.450674 ],\n",
              "       [17.561094 ],\n",
              "       [17.450872 ],\n",
              "       [17.464708 ],\n",
              "       [17.259438 ],\n",
              "       [17.3695   ],\n",
              "       [17.28025  ],\n",
              "       [17.26384  ],\n",
              "       [17.3338   ],\n",
              "       [17.445751 ],\n",
              "       [17.502363 ],\n",
              "       [17.827051 ],\n",
              "       [17.99783  ],\n",
              "       [18.058643 ],\n",
              "       [17.900133 ],\n",
              "       [17.881845 ],\n",
              "       [17.92443  ],\n",
              "       [17.943712 ],\n",
              "       [17.919144 ],\n",
              "       [17.777618 ],\n",
              "       [18.13871  ],\n",
              "       [18.079182 ],\n",
              "       [18.276918 ],\n",
              "       [18.308348 ],\n",
              "       [18.300222 ],\n",
              "       [18.317183 ],\n",
              "       [18.512194 ],\n",
              "       [18.798737 ],\n",
              "       [18.939194 ],\n",
              "       [18.896086 ],\n",
              "       [18.93596  ],\n",
              "       [18.98875  ],\n",
              "       [18.80759  ],\n",
              "       [18.93524  ],\n",
              "       [19.050783 ],\n",
              "       [19.107344 ]], dtype=float32)"
            ]
          },
          "metadata": {
            "tags": []
          },
          "execution_count": 235
        }
      ]
    },
    {
      "cell_type": "markdown",
      "metadata": {
        "id": "lEjN0sRdrGmK"
      },
      "source": [
        "##**6-Análise dos resuldatos**"
      ]
    },
    {
      "cell_type": "code",
      "metadata": {
        "id": "beWuUgy2Uoe_",
        "colab": {
          "base_uri": "https://localhost:8080/",
          "height": 485
        },
        "outputId": "a8600362-7f48-4c74-dfee-9e7a4e35a79d"
      },
      "source": [
        "#Visualizando o gráfico da Previsão da rede\n",
        "plt.plot(preco_real_teste, color = 'red', label = 'Preço real')\n",
        "plt.plot(previsoes, color = 'blue', label = 'Previsões')\n",
        "plt.title('Previsão do preço das ações')\n",
        "plt.xlabel('Tempo em dias')\n",
        "plt.ylabel('Preço das ações')\n",
        "plt.legend()\n",
        "plt.show()"
      ],
      "execution_count": 236,
      "outputs": [
        {
          "output_type": "display_data",
          "data": {
            "image/png": "[encoded data removed]",
            "text/plain": [
              "<Figure size 1800x864 with 1 Axes>"
            ]
          },
          "metadata": {
            "tags": []
          }
        }
      ]
    },
    {
      "cell_type": "code",
      "metadata": {
        "id": "hKA0-lbgUtH-",
        "colab": {
          "base_uri": "https://localhost:8080/",
          "height": 297
        },
        "outputId": "cd03597f-e6c7-490d-a535-4e9b841dc743"
      },
      "source": [
        "#estatísticas do preço real comparado com a previsão\n",
        "df1 = pd.DataFrame(preco_real_teste).T\n",
        "df2 = pd.DataFrame(previsoes).T\n",
        "\n",
        "df3 = pd.concat([df1,df2]).T\n",
        "df3.columns = ['Preco real', 'Previsoes']\n",
        "df3.describe()"
      ],
      "execution_count": 237,
      "outputs": [
        {
          "output_type": "execute_result",
          "data": {
            "text/html": [
              "<div>\n",
              "<style scoped>\n",
              "    .dataframe tbody tr th:only-of-type {\n",
              "        vertical-align: middle;\n",
              "    }\n",
              "\n",
              "    .dataframe tbody tr th {\n",
              "        vertical-align: top;\n",
              "    }\n",
              "\n",
              "    .dataframe thead th {\n",
              "        text-align: right;\n",
              "    }\n",
              "</style>\n",
              "<table border=\"1\" class=\"dataframe\">\n",
              "  <thead>\n",
              "    <tr style=\"text-align: right;\">\n",
              "      <th></th>\n",
              "      <th>Preco real</th>\n",
              "      <th>Previsoes</th>\n",
              "    </tr>\n",
              "  </thead>\n",
              "  <tbody>\n",
              "    <tr>\n",
              "      <th>count</th>\n",
              "      <td>248.000000</td>\n",
              "      <td>248.000000</td>\n",
              "    </tr>\n",
              "    <tr>\n",
              "      <th>mean</th>\n",
              "      <td>18.111619</td>\n",
              "      <td>18.021344</td>\n",
              "    </tr>\n",
              "    <tr>\n",
              "      <th>std</th>\n",
              "      <td>0.922235</td>\n",
              "      <td>0.935536</td>\n",
              "    </tr>\n",
              "    <tr>\n",
              "      <th>min</th>\n",
              "      <td>16.150000</td>\n",
              "      <td>15.256536</td>\n",
              "    </tr>\n",
              "    <tr>\n",
              "      <th>25%</th>\n",
              "      <td>17.437501</td>\n",
              "      <td>17.332995</td>\n",
              "    </tr>\n",
              "    <tr>\n",
              "      <th>50%</th>\n",
              "      <td>18.090000</td>\n",
              "      <td>18.023658</td>\n",
              "    </tr>\n",
              "    <tr>\n",
              "      <th>75%</th>\n",
              "      <td>18.727499</td>\n",
              "      <td>18.668920</td>\n",
              "    </tr>\n",
              "    <tr>\n",
              "      <th>max</th>\n",
              "      <td>20.629999</td>\n",
              "      <td>20.396500</td>\n",
              "    </tr>\n",
              "  </tbody>\n",
              "</table>\n",
              "</div>"
            ],
            "text/plain": [
              "       Preco real   Previsoes\n",
              "count  248.000000  248.000000\n",
              "mean    18.111619   18.021344\n",
              "std      0.922235    0.935536\n",
              "min     16.150000   15.256536\n",
              "25%     17.437501   17.332995\n",
              "50%     18.090000   18.023658\n",
              "75%     18.727499   18.668920\n",
              "max     20.629999   20.396500"
            ]
          },
          "metadata": {
            "tags": []
          },
          "execution_count": 237
        }
      ]
    },
    {
      "cell_type": "code",
      "metadata": {
        "id": "ZjIrFF8Y_M9N"
      },
      "source": [
        "#df2 = pd.DataFrame(previsoes)\n",
        "#df2.describe()"
      ],
      "execution_count": null,
      "outputs": []
    },
    {
      "cell_type": "code",
      "metadata": {
        "id": "TKfgSJAIV5a_"
      },
      "source": [
        "#df1 = pd.DataFrame(preco_real_teste)\n",
        "#df1.describe()"
      ],
      "execution_count": null,
      "outputs": []
    }
  ]
}