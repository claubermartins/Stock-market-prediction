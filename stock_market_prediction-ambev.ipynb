{
  "nbformat": 4,
  "nbformat_minor": 0,
  "metadata": {
    "colab": {
      "name": "stock-market-prediction.ipynb",
      "provenance": [],
      "collapsed_sections": [
        "UiXZAchqFuC-",
        "SuPg1RFvQyMS",
        "8MLClRMWPwTL",
        "hCiQYMqPGHuG",
        "4IDwP-XV_Ohd",
        "RtFahmEgGAzZ"
      ],
      "toc_visible": true,
      "authorship_tag": "ABX9TyMDRnFjGyM2m1IMb7MVIjBt",
      "include_colab_link": true
    },
    "kernelspec": {
      "name": "python3",
      "display_name": "Python 3"
    },
    "accelerator": "GPU"
  },
  "cells": [
    {
      "cell_type": "markdown",
      "metadata": {
        "id": "view-in-github",
        "colab_type": "text"
      },
      "source": [
        "<a href=\"https://colab.research.google.com/github/claubermartins/Stock-market-prediction/blob/main/stock_market_prediction-ambev.ipynb\" target=\"_parent\"><img src=\"https://colab.research.google.com/assets/colab-badge.svg\" alt=\"Open In Colab\"/></a>"
      ]
    },
    {
      "cell_type": "code",
      "metadata": {
        "colab": {
          "base_uri": "https://localhost:8080/"
        },
        "id": "XjlKRgiDRdpq",
        "outputId": "421f55b8-bd81-4d18-c8e6-d8c7619426f4"
      },
      "source": [
        "pip install inflection"
      ],
      "execution_count": 40,
      "outputs": [
        {
          "output_type": "stream",
          "text": [
            "Requirement already satisfied: inflection in /usr/local/lib/python3.7/dist-packages (0.5.1)\n"
          ],
          "name": "stdout"
        }
      ]
    },
    {
      "cell_type": "markdown",
      "metadata": {
        "id": "UiXZAchqFuC-"
      },
      "source": [
        "#**1-Importando bibliotecas**"
      ]
    },
    {
      "cell_type": "code",
      "metadata": {
        "id": "ZjQg-8c_--wP"
      },
      "source": [
        "from tensorflow.keras.models import Sequential \n",
        "from tensorflow.keras.layers import Dense, Dropout, LSTM\n",
        "from tensorflow.keras.callbacks import EarlyStopping \n",
        "from sklearn.preprocessing import MinMaxScaler\n",
        "from sklearn.impute import SimpleImputer\n",
        "import numpy as np\n",
        "import pandas as pd\n",
        "import matplotlib.pyplot as plt\n",
        "import tensorflow as tf\n",
        "import math\n",
        "import seaborn as sns\n",
        "import datetime\n",
        "import inflection\n",
        "from IPython.core.display import HTML"
      ],
      "execution_count": 42,
      "outputs": []
    },
    {
      "cell_type": "markdown",
      "metadata": {
        "id": "SuPg1RFvQyMS"
      },
      "source": [
        "#**2-Funções auxiliares para o Jupyter Notebook**"
      ]
    },
    {
      "cell_type": "code",
      "metadata": {
        "id": "2vKvPdvDPJHc"
      },
      "source": [
        "def jupyter_settings():\n",
        "    %matplotlib inline\n",
        "    %pylab inline\n",
        "    \n",
        "    plt.style.use( 'bmh' )\n",
        "    plt.rcParams['figure.figsize'] = [25, 12]\n",
        "    plt.rcParams['font.size'] = 24\n",
        "    \n",
        "    display( HTML( '<style>.container { width:100% !important; }</style>') )\n",
        "    pd.options.display.max_columns = None\n",
        "    pd.options.display.max_rows = None\n",
        "    pd.set_option( 'display.expand_frame_repr', False )\n",
        "    \n",
        "    sns.set()"
      ],
      "execution_count": 43,
      "outputs": []
    },
    {
      "cell_type": "code",
      "metadata": {
        "colab": {
          "base_uri": "https://localhost:8080/",
          "height": 0
        },
        "id": "PGJn-AaoMxuy",
        "outputId": "2c252feb-50fc-45c3-ffde-9ef92f125db6"
      },
      "source": [
        "jupyter_settings()"
      ],
      "execution_count": 44,
      "outputs": [
        {
          "output_type": "stream",
          "text": [
            "Populating the interactive namespace from numpy and matplotlib\n"
          ],
          "name": "stdout"
        },
        {
          "output_type": "display_data",
          "data": {
            "text/html": [
              "<style>.container { width:100% !important; }</style>"
            ],
            "text/plain": [
              "<IPython.core.display.HTML object>"
            ]
          },
          "metadata": {
            "tags": []
          }
        }
      ]
    },
    {
      "cell_type": "markdown",
      "metadata": {
        "id": "c_3core8Shq6"
      },
      "source": [
        "#**2.1Método de importação de arquivos do Google Colab**"
      ]
    },
    {
      "cell_type": "code",
      "metadata": {
        "id": "cTk_YEVdyms3",
        "colab": {
          "resources": {
            "http://localhost:8080/nbextensions/google.colab/files.js": {
              "data": "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",
              "ok": true,
              "headers": [
                [
                  "content-type",
                  "application/javascript"
                ]
              ],
              "status": 200,
              "status_text": ""
            }
          },
          "base_uri": "https://localhost:8080/",
          "height": 157
        },
        "outputId": "020f6c60-ee12-4d26-a85f-fb4382658264"
      },
      "source": [
        "from google.colab import files\n",
        "upload = files.upload()\n",
        "print(\"downloaded files: \")\n",
        "print(*upload, sep = \"\\n\")"
      ],
      "execution_count": null,
      "outputs": [
        {
          "output_type": "display_data",
          "data": {
            "text/html": [
              "\n",
              "     <input type=\"file\" id=\"files-53da0da1-0651-424f-b4d0-78fa20b57760\" name=\"files[]\" multiple disabled\n",
              "        style=\"border:none\" />\n",
              "     <output id=\"result-53da0da1-0651-424f-b4d0-78fa20b57760\">\n",
              "      Upload widget is only available when the cell has been executed in the\n",
              "      current browser session. Please rerun this cell to enable.\n",
              "      </output>\n",
              "      <script src=\"/nbextensions/google.colab/files.js\"></script> "
            ],
            "text/plain": [
              "<IPython.core.display.HTML object>"
            ]
          },
          "metadata": {
            "tags": []
          }
        },
        {
          "output_type": "stream",
          "text": [
            "Saving ABEV3-teste.csv to ABEV3-teste.csv\n",
            "Saving ABEV3-treinamento.csv to ABEV3-treinamento.csv\n",
            "downloaded files: \n",
            "ABEV3-teste.csv\n",
            "ABEV3-treinamento.csv\n"
          ],
          "name": "stdout"
        }
      ]
    },
    {
      "cell_type": "markdown",
      "metadata": {
        "id": "8MLClRMWPwTL"
      },
      "source": [
        "#**3-Tratamento dos dados**"
      ]
    },
    {
      "cell_type": "markdown",
      "metadata": {
        "id": "DOJanakhS-s2"
      },
      "source": [
        "##**3.1-Importando os dados**"
      ]
    },
    {
      "cell_type": "code",
      "metadata": {
        "id": "vYFCwA5GTB2j"
      },
      "source": [
        "base = pd.read_csv('ABEV3-treinamento.csv')\n",
        "base = base.drop('Date', axis = 1)"
      ],
      "execution_count": 45,
      "outputs": []
    },
    {
      "cell_type": "code",
      "metadata": {
        "colab": {
          "base_uri": "https://localhost:8080/",
          "height": 297
        },
        "id": "SD9oSvK-NE0Y",
        "outputId": "cdd2ab7c-a694-4de7-eb9b-9552a21fafe8"
      },
      "source": [
        "#valores estatísticos\n",
        "base.describe()"
      ],
      "execution_count": 46,
      "outputs": [
        {
          "output_type": "execute_result",
          "data": {
            "text/html": [
              "<div>\n",
              "<style scoped>\n",
              "    .dataframe tbody tr th:only-of-type {\n",
              "        vertical-align: middle;\n",
              "    }\n",
              "\n",
              "    .dataframe tbody tr th {\n",
              "        vertical-align: top;\n",
              "    }\n",
              "\n",
              "    .dataframe thead th {\n",
              "        text-align: right;\n",
              "    }\n",
              "</style>\n",
              "<table border=\"1\" class=\"dataframe\">\n",
              "  <thead>\n",
              "    <tr style=\"text-align: right;\">\n",
              "      <th></th>\n",
              "      <th>Open</th>\n",
              "      <th>High</th>\n",
              "      <th>Low</th>\n",
              "      <th>Close</th>\n",
              "      <th>Adj Close</th>\n",
              "      <th>Volume</th>\n",
              "    </tr>\n",
              "  </thead>\n",
              "  <tbody>\n",
              "    <tr>\n",
              "      <th>count</th>\n",
              "      <td>2231.000000</td>\n",
              "      <td>2231.000000</td>\n",
              "      <td>2231.000000</td>\n",
              "      <td>2231.000000</td>\n",
              "      <td>2231.000000</td>\n",
              "      <td>2.231000e+03</td>\n",
              "    </tr>\n",
              "    <tr>\n",
              "      <th>mean</th>\n",
              "      <td>15.247205</td>\n",
              "      <td>15.406185</td>\n",
              "      <td>15.081828</td>\n",
              "      <td>15.255044</td>\n",
              "      <td>12.490003</td>\n",
              "      <td>8.164570e+06</td>\n",
              "    </tr>\n",
              "    <tr>\n",
              "      <th>std</th>\n",
              "      <td>4.746051</td>\n",
              "      <td>4.784574</td>\n",
              "      <td>4.703562</td>\n",
              "      <td>4.740250</td>\n",
              "      <td>4.759135</td>\n",
              "      <td>1.145977e+07</td>\n",
              "    </tr>\n",
              "    <tr>\n",
              "      <th>min</th>\n",
              "      <td>5.523400</td>\n",
              "      <td>5.585331</td>\n",
              "      <td>5.490637</td>\n",
              "      <td>5.515010</td>\n",
              "      <td>3.806502</td>\n",
              "      <td>0.000000e+00</td>\n",
              "    </tr>\n",
              "    <tr>\n",
              "      <th>25%</th>\n",
              "      <td>12.143761</td>\n",
              "      <td>12.284747</td>\n",
              "      <td>12.018774</td>\n",
              "      <td>12.177757</td>\n",
              "      <td>8.853852</td>\n",
              "      <td>9.356215e+05</td>\n",
              "    </tr>\n",
              "    <tr>\n",
              "      <th>50%</th>\n",
              "      <td>16.770000</td>\n",
              "      <td>16.928442</td>\n",
              "      <td>16.570000</td>\n",
              "      <td>16.750000</td>\n",
              "      <td>12.838694</td>\n",
              "      <td>7.296800e+06</td>\n",
              "    </tr>\n",
              "    <tr>\n",
              "      <th>75%</th>\n",
              "      <td>18.735000</td>\n",
              "      <td>18.910000</td>\n",
              "      <td>18.530001</td>\n",
              "      <td>18.724999</td>\n",
              "      <td>16.261292</td>\n",
              "      <td>1.236450e+07</td>\n",
              "    </tr>\n",
              "    <tr>\n",
              "      <th>max</th>\n",
              "      <td>24.389999</td>\n",
              "      <td>24.559999</td>\n",
              "      <td>24.030001</td>\n",
              "      <td>24.270000</td>\n",
              "      <td>22.276297</td>\n",
              "      <td>2.876952e+08</td>\n",
              "    </tr>\n",
              "  </tbody>\n",
              "</table>\n",
              "</div>"
            ],
            "text/plain": [
              "              Open         High          Low        Close    Adj Close        Volume\n",
              "count  2231.000000  2231.000000  2231.000000  2231.000000  2231.000000  2.231000e+03\n",
              "mean     15.247205    15.406185    15.081828    15.255044    12.490003  8.164570e+06\n",
              "std       4.746051     4.784574     4.703562     4.740250     4.759135  1.145977e+07\n",
              "min       5.523400     5.585331     5.490637     5.515010     3.806502  0.000000e+00\n",
              "25%      12.143761    12.284747    12.018774    12.177757     8.853852  9.356215e+05\n",
              "50%      16.770000    16.928442    16.570000    16.750000    12.838694  7.296800e+06\n",
              "75%      18.735000    18.910000    18.530001    18.724999    16.261292  1.236450e+07\n",
              "max      24.389999    24.559999    24.030001    24.270000    22.276297  2.876952e+08"
            ]
          },
          "metadata": {
            "tags": []
          },
          "execution_count": 46
        }
      ]
    },
    {
      "cell_type": "code",
      "metadata": {
        "colab": {
          "base_uri": "https://localhost:8080/"
        },
        "id": "fbKUPwPSNJqm",
        "outputId": "0a2548c0-9f14-4eb8-d2f6-cb4222e02cd0"
      },
      "source": [
        "base.dtypes"
      ],
      "execution_count": 47,
      "outputs": [
        {
          "output_type": "execute_result",
          "data": {
            "text/plain": [
              "Open         float64\n",
              "High         float64\n",
              "Low          float64\n",
              "Close        float64\n",
              "Adj Close    float64\n",
              "Volume       float64\n",
              "dtype: object"
            ]
          },
          "metadata": {
            "tags": []
          },
          "execution_count": 47
        }
      ]
    },
    {
      "cell_type": "markdown",
      "metadata": {
        "id": "bCTD3wo2TfZF"
      },
      "source": [
        "##**3.2-Tratando os Valores Faltantes**"
      ]
    },
    {
      "cell_type": "code",
      "metadata": {
        "colab": {
          "base_uri": "https://localhost:8080/"
        },
        "id": "H60SOo8MTjjP",
        "outputId": "db240df7-27d8-42d9-a943-d45b850a2d9e"
      },
      "source": [
        "#valores faltantes\n",
        "base.isna().sum()"
      ],
      "execution_count": 52,
      "outputs": [
        {
          "output_type": "execute_result",
          "data": {
            "text/plain": [
              "Open         0\n",
              "High         0\n",
              "Low          0\n",
              "Close        0\n",
              "Adj Close    0\n",
              "Volume       0\n",
              "dtype: int64"
            ]
          },
          "metadata": {
            "tags": []
          },
          "execution_count": 52
        }
      ]
    },
    {
      "cell_type": "code",
      "metadata": {
        "colab": {
          "base_uri": "https://localhost:8080/",
          "height": 80
        },
        "id": "H-DMfyHXTkdi",
        "outputId": "d9e2ef9a-000c-45bf-f779-ac143bc7851c"
      },
      "source": [
        "#encontrando onde os valores faltantes estão\n",
        "base.loc[pd.isnull(base['Open'])]\n",
        "base.loc[pd.isnull(base['High'])]\n",
        "base.loc[pd.isnull(base['Low'])]\n",
        "base.loc[pd.isnull(base['Close'])]\n",
        "base.loc[pd.isnull(base['Adj Close'])]\n",
        "base.loc[pd.isnull(base['Volume'])]"
      ],
      "execution_count": 49,
      "outputs": [
        {
          "output_type": "execute_result",
          "data": {
            "text/html": [
              "<div>\n",
              "<style scoped>\n",
              "    .dataframe tbody tr th:only-of-type {\n",
              "        vertical-align: middle;\n",
              "    }\n",
              "\n",
              "    .dataframe tbody tr th {\n",
              "        vertical-align: top;\n",
              "    }\n",
              "\n",
              "    .dataframe thead th {\n",
              "        text-align: right;\n",
              "    }\n",
              "</style>\n",
              "<table border=\"1\" class=\"dataframe\">\n",
              "  <thead>\n",
              "    <tr style=\"text-align: right;\">\n",
              "      <th></th>\n",
              "      <th>Open</th>\n",
              "      <th>High</th>\n",
              "      <th>Low</th>\n",
              "      <th>Close</th>\n",
              "      <th>Adj Close</th>\n",
              "      <th>Volume</th>\n",
              "    </tr>\n",
              "  </thead>\n",
              "  <tbody>\n",
              "    <tr>\n",
              "      <th>2015</th>\n",
              "      <td>NaN</td>\n",
              "      <td>NaN</td>\n",
              "      <td>NaN</td>\n",
              "      <td>NaN</td>\n",
              "      <td>NaN</td>\n",
              "      <td>NaN</td>\n",
              "    </tr>\n",
              "  </tbody>\n",
              "</table>\n",
              "</div>"
            ],
            "text/plain": [
              "      Open  High  Low  Close  Adj Close  Volume\n",
              "2015   NaN   NaN  NaN    NaN        NaN     NaN"
            ]
          },
          "metadata": {
            "tags": []
          },
          "execution_count": 49
        }
      ]
    },
    {
      "cell_type": "code",
      "metadata": {
        "id": "6q0YFzy9TmPD"
      },
      "source": [
        "#preenchendo os valores nulos com o valor médio\n",
        "imputer = SimpleImputer(missing_values=np.nan, strategy='mean',verbose=0)\n",
        "imputer = imputer.fit(base.iloc[:,0:6])\n",
        "base.iloc[:,0:6] = imputer.transform(base.iloc[:,0:6])"
      ],
      "execution_count": 50,
      "outputs": []
    },
    {
      "cell_type": "code",
      "metadata": {
        "colab": {
          "base_uri": "https://localhost:8080/",
          "height": 49
        },
        "id": "gQC2HfFnTpe2",
        "outputId": "60bf78b3-9c77-4551-cccf-075328c070ac"
      },
      "source": [
        "#verificando novamente se ainda temos valores faltantes\n",
        "base.loc[pd.isnull(base['Open'])]\n",
        "base.loc[pd.isnull(base['High'])]\n",
        "base.loc[pd.isnull(base['Low'])]\n",
        "base.loc[pd.isnull(base['Close'])]\n",
        "base.loc[pd.isnull(base['Adj Close'])]\n",
        "base.loc[pd.isnull(base['Volume'])]"
      ],
      "execution_count": 51,
      "outputs": [
        {
          "output_type": "execute_result",
          "data": {
            "text/html": [
              "<div>\n",
              "<style scoped>\n",
              "    .dataframe tbody tr th:only-of-type {\n",
              "        vertical-align: middle;\n",
              "    }\n",
              "\n",
              "    .dataframe tbody tr th {\n",
              "        vertical-align: top;\n",
              "    }\n",
              "\n",
              "    .dataframe thead th {\n",
              "        text-align: right;\n",
              "    }\n",
              "</style>\n",
              "<table border=\"1\" class=\"dataframe\">\n",
              "  <thead>\n",
              "    <tr style=\"text-align: right;\">\n",
              "      <th></th>\n",
              "      <th>Open</th>\n",
              "      <th>High</th>\n",
              "      <th>Low</th>\n",
              "      <th>Close</th>\n",
              "      <th>Adj Close</th>\n",
              "      <th>Volume</th>\n",
              "    </tr>\n",
              "  </thead>\n",
              "  <tbody>\n",
              "  </tbody>\n",
              "</table>\n",
              "</div>"
            ],
            "text/plain": [
              "Empty DataFrame\n",
              "Columns: [Open, High, Low, Close, Adj Close, Volume]\n",
              "Index: []"
            ]
          },
          "metadata": {
            "tags": []
          },
          "execution_count": 51
        }
      ]
    },
    {
      "cell_type": "markdown",
      "metadata": {
        "id": "_WuI_UbmTt3W"
      },
      "source": [
        "#**3.3-Tratamento dos valores nulos (iguais a 0)**"
      ]
    },
    {
      "cell_type": "code",
      "metadata": {
        "colab": {
          "base_uri": "https://localhost:8080/"
        },
        "id": "hyRiBN32Twb2",
        "outputId": "849f5145-2556-49ff-f328-23b9c0fe8e6c"
      },
      "source": [
        "#valores nulos\n",
        "(base == 0).sum()"
      ],
      "execution_count": 53,
      "outputs": [
        {
          "output_type": "execute_result",
          "data": {
            "text/plain": [
              "Open          0\n",
              "High          0\n",
              "Low           0\n",
              "Close         0\n",
              "Adj Close     0\n",
              "Volume       22\n",
              "dtype: int64"
            ]
          },
          "metadata": {
            "tags": []
          },
          "execution_count": 53
        }
      ]
    },
    {
      "cell_type": "code",
      "metadata": {
        "colab": {
          "base_uri": "https://localhost:8080/",
          "height": 731
        },
        "id": "nQPTB9_TT3Dy",
        "outputId": "cf0b4f7c-4a8d-44b4-ebf9-c696eed4e808"
      },
      "source": [
        "#Encontrando os valores nulos\n",
        "base.loc[base['Volume'] == 0]"
      ],
      "execution_count": 55,
      "outputs": [
        {
          "output_type": "execute_result",
          "data": {
            "text/html": [
              "<div>\n",
              "<style scoped>\n",
              "    .dataframe tbody tr th:only-of-type {\n",
              "        vertical-align: middle;\n",
              "    }\n",
              "\n",
              "    .dataframe tbody tr th {\n",
              "        vertical-align: top;\n",
              "    }\n",
              "\n",
              "    .dataframe thead th {\n",
              "        text-align: right;\n",
              "    }\n",
              "</style>\n",
              "<table border=\"1\" class=\"dataframe\">\n",
              "  <thead>\n",
              "    <tr style=\"text-align: right;\">\n",
              "      <th></th>\n",
              "      <th>Open</th>\n",
              "      <th>High</th>\n",
              "      <th>Low</th>\n",
              "      <th>Close</th>\n",
              "      <th>Adj Close</th>\n",
              "      <th>Volume</th>\n",
              "    </tr>\n",
              "  </thead>\n",
              "  <tbody>\n",
              "    <tr>\n",
              "      <th>284</th>\n",
              "      <td>7.391703</td>\n",
              "      <td>7.391703</td>\n",
              "      <td>7.391703</td>\n",
              "      <td>7.391703</td>\n",
              "      <td>5.154269</td>\n",
              "      <td>0.0</td>\n",
              "    </tr>\n",
              "    <tr>\n",
              "      <th>291</th>\n",
              "      <td>7.491591</td>\n",
              "      <td>7.491591</td>\n",
              "      <td>7.491591</td>\n",
              "      <td>7.491591</td>\n",
              "      <td>5.299884</td>\n",
              "      <td>0.0</td>\n",
              "    </tr>\n",
              "    <tr>\n",
              "      <th>310</th>\n",
              "      <td>7.873163</td>\n",
              "      <td>7.873163</td>\n",
              "      <td>7.873163</td>\n",
              "      <td>7.873163</td>\n",
              "      <td>5.569826</td>\n",
              "      <td>0.0</td>\n",
              "    </tr>\n",
              "    <tr>\n",
              "      <th>333</th>\n",
              "      <td>9.391500</td>\n",
              "      <td>9.391500</td>\n",
              "      <td>9.391500</td>\n",
              "      <td>9.391500</td>\n",
              "      <td>6.643963</td>\n",
              "      <td>0.0</td>\n",
              "    </tr>\n",
              "    <tr>\n",
              "      <th>337</th>\n",
              "      <td>8.378201</td>\n",
              "      <td>8.378201</td>\n",
              "      <td>8.378201</td>\n",
              "      <td>8.378201</td>\n",
              "      <td>5.927111</td>\n",
              "      <td>0.0</td>\n",
              "    </tr>\n",
              "    <tr>\n",
              "      <th>430</th>\n",
              "      <td>9.053734</td>\n",
              "      <td>9.053734</td>\n",
              "      <td>9.053734</td>\n",
              "      <td>9.053734</td>\n",
              "      <td>6.469559</td>\n",
              "      <td>0.0</td>\n",
              "    </tr>\n",
              "    <tr>\n",
              "      <th>450</th>\n",
              "      <td>9.423478</td>\n",
              "      <td>9.423478</td>\n",
              "      <td>9.423478</td>\n",
              "      <td>9.423478</td>\n",
              "      <td>6.748445</td>\n",
              "      <td>0.0</td>\n",
              "    </tr>\n",
              "    <tr>\n",
              "      <th>547</th>\n",
              "      <td>12.355449</td>\n",
              "      <td>12.355449</td>\n",
              "      <td>12.355449</td>\n",
              "      <td>12.355449</td>\n",
              "      <td>8.964257</td>\n",
              "      <td>0.0</td>\n",
              "    </tr>\n",
              "    <tr>\n",
              "      <th>667</th>\n",
              "      <td>12.786695</td>\n",
              "      <td>12.786695</td>\n",
              "      <td>12.786695</td>\n",
              "      <td>12.786695</td>\n",
              "      <td>9.308810</td>\n",
              "      <td>0.0</td>\n",
              "    </tr>\n",
              "    <tr>\n",
              "      <th>799</th>\n",
              "      <td>16.382492</td>\n",
              "      <td>16.382492</td>\n",
              "      <td>16.382492</td>\n",
              "      <td>16.382492</td>\n",
              "      <td>12.246234</td>\n",
              "      <td>0.0</td>\n",
              "    </tr>\n",
              "    <tr>\n",
              "      <th>819</th>\n",
              "      <td>15.538570</td>\n",
              "      <td>15.538570</td>\n",
              "      <td>15.538570</td>\n",
              "      <td>15.538570</td>\n",
              "      <td>11.615386</td>\n",
              "      <td>0.0</td>\n",
              "    </tr>\n",
              "    <tr>\n",
              "      <th>881</th>\n",
              "      <td>16.206509</td>\n",
              "      <td>16.206509</td>\n",
              "      <td>16.206509</td>\n",
              "      <td>16.206509</td>\n",
              "      <td>12.114682</td>\n",
              "      <td>0.0</td>\n",
              "    </tr>\n",
              "    <tr>\n",
              "      <th>1831</th>\n",
              "      <td>19.030001</td>\n",
              "      <td>19.030001</td>\n",
              "      <td>19.030001</td>\n",
              "      <td>19.030001</td>\n",
              "      <td>17.002453</td>\n",
              "      <td>0.0</td>\n",
              "    </tr>\n",
              "    <tr>\n",
              "      <th>1844</th>\n",
              "      <td>18.180000</td>\n",
              "      <td>18.180000</td>\n",
              "      <td>18.180000</td>\n",
              "      <td>18.180000</td>\n",
              "      <td>16.243015</td>\n",
              "      <td>0.0</td>\n",
              "    </tr>\n",
              "    <tr>\n",
              "      <th>1904</th>\n",
              "      <td>20.129999</td>\n",
              "      <td>20.129999</td>\n",
              "      <td>20.129999</td>\n",
              "      <td>20.129999</td>\n",
              "      <td>18.144413</td>\n",
              "      <td>0.0</td>\n",
              "    </tr>\n",
              "    <tr>\n",
              "      <th>1929</th>\n",
              "      <td>21.629999</td>\n",
              "      <td>21.629999</td>\n",
              "      <td>21.629999</td>\n",
              "      <td>21.629999</td>\n",
              "      <td>19.496458</td>\n",
              "      <td>0.0</td>\n",
              "    </tr>\n",
              "    <tr>\n",
              "      <th>1944</th>\n",
              "      <td>20.740000</td>\n",
              "      <td>20.740000</td>\n",
              "      <td>20.740000</td>\n",
              "      <td>20.740000</td>\n",
              "      <td>18.694246</td>\n",
              "      <td>0.0</td>\n",
              "    </tr>\n",
              "    <tr>\n",
              "      <th>1953</th>\n",
              "      <td>20.200001</td>\n",
              "      <td>20.200001</td>\n",
              "      <td>20.200001</td>\n",
              "      <td>20.200001</td>\n",
              "      <td>18.207510</td>\n",
              "      <td>0.0</td>\n",
              "    </tr>\n",
              "    <tr>\n",
              "      <th>1956</th>\n",
              "      <td>20.540001</td>\n",
              "      <td>20.540001</td>\n",
              "      <td>20.540001</td>\n",
              "      <td>20.540001</td>\n",
              "      <td>18.513977</td>\n",
              "      <td>0.0</td>\n",
              "    </tr>\n",
              "    <tr>\n",
              "      <th>1981</th>\n",
              "      <td>21.030001</td>\n",
              "      <td>21.030001</td>\n",
              "      <td>21.030001</td>\n",
              "      <td>21.030001</td>\n",
              "      <td>19.240894</td>\n",
              "      <td>0.0</td>\n",
              "    </tr>\n",
              "    <tr>\n",
              "      <th>1985</th>\n",
              "      <td>21.280001</td>\n",
              "      <td>21.280001</td>\n",
              "      <td>21.280001</td>\n",
              "      <td>21.280001</td>\n",
              "      <td>19.469629</td>\n",
              "      <td>0.0</td>\n",
              "    </tr>\n",
              "    <tr>\n",
              "      <th>2003</th>\n",
              "      <td>21.889999</td>\n",
              "      <td>21.889999</td>\n",
              "      <td>21.889999</td>\n",
              "      <td>21.889999</td>\n",
              "      <td>20.027731</td>\n",
              "      <td>0.0</td>\n",
              "    </tr>\n",
              "  </tbody>\n",
              "</table>\n",
              "</div>"
            ],
            "text/plain": [
              "           Open       High        Low      Close  Adj Close  Volume\n",
              "284    7.391703   7.391703   7.391703   7.391703   5.154269     0.0\n",
              "291    7.491591   7.491591   7.491591   7.491591   5.299884     0.0\n",
              "310    7.873163   7.873163   7.873163   7.873163   5.569826     0.0\n",
              "333    9.391500   9.391500   9.391500   9.391500   6.643963     0.0\n",
              "337    8.378201   8.378201   8.378201   8.378201   5.927111     0.0\n",
              "430    9.053734   9.053734   9.053734   9.053734   6.469559     0.0\n",
              "450    9.423478   9.423478   9.423478   9.423478   6.748445     0.0\n",
              "547   12.355449  12.355449  12.355449  12.355449   8.964257     0.0\n",
              "667   12.786695  12.786695  12.786695  12.786695   9.308810     0.0\n",
              "799   16.382492  16.382492  16.382492  16.382492  12.246234     0.0\n",
              "819   15.538570  15.538570  15.538570  15.538570  11.615386     0.0\n",
              "881   16.206509  16.206509  16.206509  16.206509  12.114682     0.0\n",
              "1831  19.030001  19.030001  19.030001  19.030001  17.002453     0.0\n",
              "1844  18.180000  18.180000  18.180000  18.180000  16.243015     0.0\n",
              "1904  20.129999  20.129999  20.129999  20.129999  18.144413     0.0\n",
              "1929  21.629999  21.629999  21.629999  21.629999  19.496458     0.0\n",
              "1944  20.740000  20.740000  20.740000  20.740000  18.694246     0.0\n",
              "1953  20.200001  20.200001  20.200001  20.200001  18.207510     0.0\n",
              "1956  20.540001  20.540001  20.540001  20.540001  18.513977     0.0\n",
              "1981  21.030001  21.030001  21.030001  21.030001  19.240894     0.0\n",
              "1985  21.280001  21.280001  21.280001  21.280001  19.469629     0.0\n",
              "2003  21.889999  21.889999  21.889999  21.889999  20.027731     0.0"
            ]
          },
          "metadata": {
            "tags": []
          },
          "execution_count": 55
        }
      ]
    },
    {
      "cell_type": "code",
      "metadata": {
        "id": "352jPyV0T5JJ"
      },
      "source": [
        "#preenchendo os valores nulos com o valor médio\n",
        "imputer = SimpleImputer(missing_values=0, strategy='mean',verbose=0)\n",
        "imputer = imputer.fit(base.iloc[:,0:6])\n",
        "base.iloc[:,0:6] = imputer.transform(base.iloc[:,0:6])"
      ],
      "execution_count": 56,
      "outputs": []
    },
    {
      "cell_type": "code",
      "metadata": {
        "colab": {
          "base_uri": "https://localhost:8080/",
          "height": 49
        },
        "id": "xI5JdDykT66_",
        "outputId": "742118b7-a877-4ac2-9388-daac547261bc"
      },
      "source": [
        "#Verificando novamente se ainda temos valores nulos\n",
        "base.loc[base['Volume'] == 0]"
      ],
      "execution_count": 57,
      "outputs": [
        {
          "output_type": "execute_result",
          "data": {
            "text/html": [
              "<div>\n",
              "<style scoped>\n",
              "    .dataframe tbody tr th:only-of-type {\n",
              "        vertical-align: middle;\n",
              "    }\n",
              "\n",
              "    .dataframe tbody tr th {\n",
              "        vertical-align: top;\n",
              "    }\n",
              "\n",
              "    .dataframe thead th {\n",
              "        text-align: right;\n",
              "    }\n",
              "</style>\n",
              "<table border=\"1\" class=\"dataframe\">\n",
              "  <thead>\n",
              "    <tr style=\"text-align: right;\">\n",
              "      <th></th>\n",
              "      <th>Open</th>\n",
              "      <th>High</th>\n",
              "      <th>Low</th>\n",
              "      <th>Close</th>\n",
              "      <th>Adj Close</th>\n",
              "      <th>Volume</th>\n",
              "    </tr>\n",
              "  </thead>\n",
              "  <tbody>\n",
              "  </tbody>\n",
              "</table>\n",
              "</div>"
            ],
            "text/plain": [
              "Empty DataFrame\n",
              "Columns: [Open, High, Low, Close, Adj Close, Volume]\n",
              "Index: []"
            ]
          },
          "metadata": {
            "tags": []
          },
          "execution_count": 57
        }
      ]
    },
    {
      "cell_type": "code",
      "metadata": {
        "id": "NYW0UUz0T9Kq"
      },
      "source": [
        "#base = base.dropna()"
      ],
      "execution_count": null,
      "outputs": []
    },
    {
      "cell_type": "code",
      "metadata": {
        "id": "ceOotOwsT_Er"
      },
      "source": [
        "#base.sample()"
      ],
      "execution_count": null,
      "outputs": []
    },
    {
      "cell_type": "markdown",
      "metadata": {
        "id": "hCiQYMqPGHuG"
      },
      "source": [
        "#**-Descrição dos dados** IGNORE ESTA CÉLULA"
      ]
    },
    {
      "cell_type": "code",
      "metadata": {
        "id": "xalwLdRSGLRD"
      },
      "source": [
        "#Tendencia central - mean, median\n",
        "ct1 = pd.DataFrame(base.apply(np.mean)).T #T transpondo \n",
        "ct2 = pd.DataFrame(base.apply(np.median)).T\n",
        "#Dispersão - std(desvio padrão), min, max, range\n",
        "d1 = pd.DataFrame(base.apply(np.std)).T\n",
        "d2 = pd.DataFrame(base.apply(min)).T\n",
        "d3 = pd.DataFrame(base.apply(max)).T\n",
        "d4 = pd.DataFrame(base.apply(lambda x: x.max() - x.min())).T\n",
        "#concatenate\n",
        "m = pd.concat([d2,d3,d4,ct1,ct2,d1]).T.reset_index()\n",
        "m.columns = ['attributes','min','max','range', 'mean', 'median', 'std']\n",
        "m"
      ],
      "execution_count": null,
      "outputs": []
    },
    {
      "cell_type": "code",
      "metadata": {
        "colab": {
          "base_uri": "https://localhost:8080/"
        },
        "id": "j62Bj8jOQz_G",
        "outputId": "9e5055ec-b49f-4f7d-e3c1-b3fc2b1dae42"
      },
      "source": [
        "base.shape[0]"
      ],
      "execution_count": null,
      "outputs": [
        {
          "output_type": "execute_result",
          "data": {
            "text/plain": [
              "2478"
            ]
          },
          "metadata": {
            "tags": []
          },
          "execution_count": 20
        }
      ]
    },
    {
      "cell_type": "markdown",
      "metadata": {
        "id": "4IDwP-XV_Ohd"
      },
      "source": [
        "#**4-Treinamento da rede**"
      ]
    },
    {
      "cell_type": "code",
      "metadata": {
        "id": "mpo6RlDsUHNJ"
      },
      "source": [
        "#normalizando a base de dados com o MinMaxScaler\n",
        "base_treinamento = base.iloc[:, 0:6].values\n",
        "normalizador = MinMaxScaler(feature_range=(0,1))\n",
        "base_treinamento_normalizada = normalizador.fit_transform(base_treinamento)"
      ],
      "execution_count": 75,
      "outputs": []
    },
    {
      "cell_type": "code",
      "metadata": {
        "id": "d-LD4OEaUNf7"
      },
      "source": [
        "#Comparando a predição com o preço real\n",
        "previsores = []\n",
        "preco_real = []\n",
        "for i in range(90, 2232):\n",
        "    previsores.append(base_treinamento_normalizada[i-90:i, 0:6])\n",
        "    preco_real.append(base_treinamento_normalizada[i, 3:4])\n",
        "previsores, preco_real = np.array(previsores), np.array(preco_real)\n"
      ],
      "execution_count": 76,
      "outputs": []
    },
    {
      "cell_type": "code",
      "metadata": {
        "colab": {
          "base_uri": "https://localhost:8080/"
        },
        "id": "ZftXowA9URdt",
        "outputId": "fb97e795-98e4-4368-969c-4cdb302b319a"
      },
      "source": [
        "#estrutura da rede neural \n",
        "regressor = Sequential()\n",
        "regressor.add(LSTM(units = 128, return_sequences = True, input_shape = (previsores.shape[1], 6)))\n",
        "regressor.add(Dropout(0.3))\n",
        "\n",
        "regressor.add(LSTM(units = 50, return_sequences = True))\n",
        "regressor.add(Dropout(0.3))\n",
        "\n",
        "regressor.add(LSTM(units = 50, return_sequences = True))\n",
        "regressor.add(Dropout(0.3))\n",
        "\n",
        "regressor.add(LSTM(units = 50))\n",
        "regressor.add(Dropout(0.3))\n",
        "\n",
        "regressor.add(Dense(units = 1, activation = 'sigmoid'))\n",
        "\n",
        "es = EarlyStopping(monitor = 'loss', min_delta = 1e-15, patience = 20, verbose = 1)\n",
        "\n",
        "#regressor.compile(optimizer = 'RMSprop', loss = 'mean_squared_error',\n",
        "#                  metrics = ['mean_absolute_error'])\n",
        "opt = tf.keras.optimizers.Adam(amsgrad=True)\n",
        "regressor.compile(optimizer = opt, loss = 'mean_squared_error',\n",
        "                  metrics = ['mean_absolute_error'])\n",
        "#opt = tf.keras.optimizers.RMSprop(centered=True)\n",
        "#regressor.compile(optimizer = opt, loss = 'mean_squared_error',\n",
        "#                 metrics = ['mean_absolute_error'])\n",
        "\n",
        "regressor.fit(previsores, preco_real, epochs = 600, batch_size = 32,\n",
        "              callbacks = [es])\n",
        "#regressor.fit(previsores, preco_real, epochs = 600, batch_size = 32)"
      ],
      "execution_count": 77,
      "outputs": [
        {
          "output_type": "stream",
          "text": [
            "Epoch 1/600\n",
            "67/67 [==============================] - 6s 20ms/step - loss: 0.0272 - mean_absolute_error: 0.1225\n",
            "Epoch 2/600\n",
            "67/67 [==============================] - 1s 18ms/step - loss: 0.0026 - mean_absolute_error: 0.0387\n",
            "Epoch 3/600\n",
            "67/67 [==============================] - 1s 17ms/step - loss: 0.0022 - mean_absolute_error: 0.0373\n",
            "Epoch 4/600\n",
            "67/67 [==============================] - 1s 18ms/step - loss: 0.0020 - mean_absolute_error: 0.0353\n",
            "Epoch 5/600\n",
            "67/67 [==============================] - 1s 18ms/step - loss: 0.0019 - mean_absolute_error: 0.0337\n",
            "Epoch 6/600\n",
            "67/67 [==============================] - 1s 18ms/step - loss: 0.0021 - mean_absolute_error: 0.0353\n",
            "Epoch 7/600\n",
            "67/67 [==============================] - 1s 19ms/step - loss: 0.0017 - mean_absolute_error: 0.0323\n",
            "Epoch 8/600\n",
            "67/67 [==============================] - 1s 18ms/step - loss: 0.0016 - mean_absolute_error: 0.0309\n",
            "Epoch 9/600\n",
            "67/67 [==============================] - 1s 18ms/step - loss: 0.0016 - mean_absolute_error: 0.0316\n",
            "Epoch 10/600\n",
            "67/67 [==============================] - 1s 18ms/step - loss: 0.0016 - mean_absolute_error: 0.0309\n",
            "Epoch 11/600\n",
            "67/67 [==============================] - 1s 17ms/step - loss: 0.0014 - mean_absolute_error: 0.0287\n",
            "Epoch 12/600\n",
            "67/67 [==============================] - 1s 17ms/step - loss: 0.0015 - mean_absolute_error: 0.0307\n",
            "Epoch 13/600\n",
            "67/67 [==============================] - 1s 18ms/step - loss: 0.0014 - mean_absolute_error: 0.0297\n",
            "Epoch 14/600\n",
            "67/67 [==============================] - 1s 18ms/step - loss: 0.0014 - mean_absolute_error: 0.0291\n",
            "Epoch 15/600\n",
            "67/67 [==============================] - 1s 19ms/step - loss: 0.0013 - mean_absolute_error: 0.0281\n",
            "Epoch 16/600\n",
            "67/67 [==============================] - 1s 19ms/step - loss: 0.0013 - mean_absolute_error: 0.0280\n",
            "Epoch 17/600\n",
            "67/67 [==============================] - 1s 18ms/step - loss: 0.0015 - mean_absolute_error: 0.0280\n",
            "Epoch 18/600\n",
            "67/67 [==============================] - 1s 18ms/step - loss: 0.0015 - mean_absolute_error: 0.0283\n",
            "Epoch 19/600\n",
            "67/67 [==============================] - 1s 18ms/step - loss: 0.0012 - mean_absolute_error: 0.0261\n",
            "Epoch 20/600\n",
            "67/67 [==============================] - 1s 19ms/step - loss: 0.0012 - mean_absolute_error: 0.0267\n",
            "Epoch 21/600\n",
            "67/67 [==============================] - 1s 18ms/step - loss: 0.0011 - mean_absolute_error: 0.0265\n",
            "Epoch 22/600\n",
            "67/67 [==============================] - 1s 18ms/step - loss: 0.0010 - mean_absolute_error: 0.0252\n",
            "Epoch 23/600\n",
            "67/67 [==============================] - 1s 18ms/step - loss: 0.0011 - mean_absolute_error: 0.0255\n",
            "Epoch 24/600\n",
            "67/67 [==============================] - 1s 18ms/step - loss: 0.0012 - mean_absolute_error: 0.0266\n",
            "Epoch 25/600\n",
            "67/67 [==============================] - 1s 18ms/step - loss: 0.0010 - mean_absolute_error: 0.0257\n",
            "Epoch 26/600\n",
            "67/67 [==============================] - 1s 18ms/step - loss: 0.0012 - mean_absolute_error: 0.0266\n",
            "Epoch 27/600\n",
            "67/67 [==============================] - 1s 18ms/step - loss: 9.6886e-04 - mean_absolute_error: 0.0245\n",
            "Epoch 28/600\n",
            "67/67 [==============================] - 1s 18ms/step - loss: 0.0011 - mean_absolute_error: 0.0257\n",
            "Epoch 29/600\n",
            "67/67 [==============================] - 1s 18ms/step - loss: 0.0011 - mean_absolute_error: 0.0249\n",
            "Epoch 30/600\n",
            "67/67 [==============================] - 1s 18ms/step - loss: 9.4741e-04 - mean_absolute_error: 0.0238\n",
            "Epoch 31/600\n",
            "67/67 [==============================] - 1s 17ms/step - loss: 0.0010 - mean_absolute_error: 0.0250\n",
            "Epoch 32/600\n",
            "67/67 [==============================] - 1s 18ms/step - loss: 9.0172e-04 - mean_absolute_error: 0.0232\n",
            "Epoch 33/600\n",
            "67/67 [==============================] - 1s 18ms/step - loss: 9.1317e-04 - mean_absolute_error: 0.0236\n",
            "Epoch 34/600\n",
            "67/67 [==============================] - 1s 18ms/step - loss: 9.7454e-04 - mean_absolute_error: 0.0238\n",
            "Epoch 35/600\n",
            "67/67 [==============================] - 1s 18ms/step - loss: 9.9707e-04 - mean_absolute_error: 0.0235\n",
            "Epoch 36/600\n",
            "67/67 [==============================] - 1s 18ms/step - loss: 0.0010 - mean_absolute_error: 0.0240\n",
            "Epoch 37/600\n",
            "67/67 [==============================] - 1s 18ms/step - loss: 8.4414e-04 - mean_absolute_error: 0.0227\n",
            "Epoch 38/600\n",
            "67/67 [==============================] - 1s 18ms/step - loss: 9.7625e-04 - mean_absolute_error: 0.0242\n",
            "Epoch 39/600\n",
            "67/67 [==============================] - 1s 18ms/step - loss: 8.4423e-04 - mean_absolute_error: 0.0228\n",
            "Epoch 40/600\n",
            "67/67 [==============================] - 1s 18ms/step - loss: 9.0901e-04 - mean_absolute_error: 0.0235\n",
            "Epoch 41/600\n",
            "67/67 [==============================] - 1s 18ms/step - loss: 9.1703e-04 - mean_absolute_error: 0.0217\n",
            "Epoch 42/600\n",
            "67/67 [==============================] - 1s 17ms/step - loss: 8.3660e-04 - mean_absolute_error: 0.0225\n",
            "Epoch 43/600\n",
            "67/67 [==============================] - 1s 17ms/step - loss: 0.0011 - mean_absolute_error: 0.0246\n",
            "Epoch 44/600\n",
            "67/67 [==============================] - 1s 18ms/step - loss: 9.1845e-04 - mean_absolute_error: 0.0234\n",
            "Epoch 45/600\n",
            "67/67 [==============================] - 1s 18ms/step - loss: 9.4889e-04 - mean_absolute_error: 0.0233\n",
            "Epoch 46/600\n",
            "67/67 [==============================] - 1s 18ms/step - loss: 8.3247e-04 - mean_absolute_error: 0.0218\n",
            "Epoch 47/600\n",
            "67/67 [==============================] - 1s 18ms/step - loss: 7.9724e-04 - mean_absolute_error: 0.0215\n",
            "Epoch 48/600\n",
            "67/67 [==============================] - 1s 18ms/step - loss: 8.6852e-04 - mean_absolute_error: 0.0221\n",
            "Epoch 49/600\n",
            "67/67 [==============================] - 1s 18ms/step - loss: 8.3794e-04 - mean_absolute_error: 0.0220\n",
            "Epoch 50/600\n",
            "67/67 [==============================] - 1s 18ms/step - loss: 8.1280e-04 - mean_absolute_error: 0.0219\n",
            "Epoch 51/600\n",
            "67/67 [==============================] - 1s 18ms/step - loss: 8.5732e-04 - mean_absolute_error: 0.0223\n",
            "Epoch 52/600\n",
            "67/67 [==============================] - 1s 18ms/step - loss: 8.0044e-04 - mean_absolute_error: 0.0217\n",
            "Epoch 53/600\n",
            "67/67 [==============================] - 1s 17ms/step - loss: 9.6146e-04 - mean_absolute_error: 0.0225\n",
            "Epoch 54/600\n",
            "67/67 [==============================] - 1s 18ms/step - loss: 8.0759e-04 - mean_absolute_error: 0.0218\n",
            "Epoch 55/600\n",
            "67/67 [==============================] - 1s 18ms/step - loss: 8.3464e-04 - mean_absolute_error: 0.0221\n",
            "Epoch 56/600\n",
            "67/67 [==============================] - 1s 18ms/step - loss: 7.0321e-04 - mean_absolute_error: 0.0206\n",
            "Epoch 57/600\n",
            "67/67 [==============================] - 1s 18ms/step - loss: 6.8318e-04 - mean_absolute_error: 0.0201\n",
            "Epoch 58/600\n",
            "67/67 [==============================] - 1s 18ms/step - loss: 7.9228e-04 - mean_absolute_error: 0.0218\n",
            "Epoch 59/600\n",
            "67/67 [==============================] - 1s 17ms/step - loss: 7.2365e-04 - mean_absolute_error: 0.0211\n",
            "Epoch 60/600\n",
            "67/67 [==============================] - 1s 18ms/step - loss: 8.3488e-04 - mean_absolute_error: 0.0214\n",
            "Epoch 61/600\n",
            "67/67 [==============================] - 1s 18ms/step - loss: 8.2243e-04 - mean_absolute_error: 0.0209\n",
            "Epoch 62/600\n",
            "67/67 [==============================] - 1s 18ms/step - loss: 7.7273e-04 - mean_absolute_error: 0.0209\n",
            "Epoch 63/600\n",
            "67/67 [==============================] - 1s 18ms/step - loss: 7.3329e-04 - mean_absolute_error: 0.0205\n",
            "Epoch 64/600\n",
            "67/67 [==============================] - 1s 17ms/step - loss: 9.1879e-04 - mean_absolute_error: 0.0233\n",
            "Epoch 65/600\n",
            "67/67 [==============================] - 1s 18ms/step - loss: 8.0704e-04 - mean_absolute_error: 0.0213\n",
            "Epoch 66/600\n",
            "67/67 [==============================] - 1s 17ms/step - loss: 6.6576e-04 - mean_absolute_error: 0.0199\n",
            "Epoch 67/600\n",
            "67/67 [==============================] - 1s 18ms/step - loss: 6.7735e-04 - mean_absolute_error: 0.0196\n",
            "Epoch 68/600\n",
            "67/67 [==============================] - 1s 18ms/step - loss: 6.5539e-04 - mean_absolute_error: 0.0200\n",
            "Epoch 69/600\n",
            "67/67 [==============================] - 1s 18ms/step - loss: 8.7479e-04 - mean_absolute_error: 0.0213\n",
            "Epoch 70/600\n",
            "67/67 [==============================] - 1s 18ms/step - loss: 9.1978e-04 - mean_absolute_error: 0.0215\n",
            "Epoch 71/600\n",
            "67/67 [==============================] - 1s 18ms/step - loss: 7.8067e-04 - mean_absolute_error: 0.0201\n",
            "Epoch 72/600\n",
            "67/67 [==============================] - 1s 17ms/step - loss: 6.3045e-04 - mean_absolute_error: 0.0195\n",
            "Epoch 73/600\n",
            "67/67 [==============================] - 1s 18ms/step - loss: 7.1247e-04 - mean_absolute_error: 0.0204\n",
            "Epoch 74/600\n",
            "67/67 [==============================] - 1s 18ms/step - loss: 7.1603e-04 - mean_absolute_error: 0.0202\n",
            "Epoch 75/600\n",
            "67/67 [==============================] - 1s 18ms/step - loss: 7.3670e-04 - mean_absolute_error: 0.0196\n",
            "Epoch 76/600\n",
            "67/67 [==============================] - 1s 18ms/step - loss: 7.7320e-04 - mean_absolute_error: 0.0202\n",
            "Epoch 77/600\n",
            "67/67 [==============================] - 1s 18ms/step - loss: 6.0971e-04 - mean_absolute_error: 0.0191\n",
            "Epoch 78/600\n",
            "67/67 [==============================] - 1s 18ms/step - loss: 6.3579e-04 - mean_absolute_error: 0.0194\n",
            "Epoch 79/600\n",
            "67/67 [==============================] - 1s 18ms/step - loss: 6.5104e-04 - mean_absolute_error: 0.0198\n",
            "Epoch 80/600\n",
            "67/67 [==============================] - 1s 18ms/step - loss: 7.4688e-04 - mean_absolute_error: 0.0195\n",
            "Epoch 81/600\n",
            "67/67 [==============================] - 1s 19ms/step - loss: 6.6765e-04 - mean_absolute_error: 0.0199\n",
            "Epoch 82/600\n",
            "67/67 [==============================] - 1s 18ms/step - loss: 6.5294e-04 - mean_absolute_error: 0.0197\n",
            "Epoch 83/600\n",
            "67/67 [==============================] - 1s 18ms/step - loss: 5.8325e-04 - mean_absolute_error: 0.0186\n",
            "Epoch 84/600\n",
            "67/67 [==============================] - 1s 19ms/step - loss: 6.9522e-04 - mean_absolute_error: 0.0202\n",
            "Epoch 85/600\n",
            "67/67 [==============================] - 1s 19ms/step - loss: 6.2275e-04 - mean_absolute_error: 0.0195\n",
            "Epoch 86/600\n",
            "67/67 [==============================] - 1s 19ms/step - loss: 7.4210e-04 - mean_absolute_error: 0.0208\n",
            "Epoch 87/600\n",
            "67/67 [==============================] - 1s 18ms/step - loss: 6.2490e-04 - mean_absolute_error: 0.0192\n",
            "Epoch 88/600\n",
            "67/67 [==============================] - 1s 18ms/step - loss: 6.5083e-04 - mean_absolute_error: 0.0198\n",
            "Epoch 89/600\n",
            "67/67 [==============================] - 1s 18ms/step - loss: 6.2173e-04 - mean_absolute_error: 0.0196\n",
            "Epoch 90/600\n",
            "67/67 [==============================] - 1s 19ms/step - loss: 5.8176e-04 - mean_absolute_error: 0.0185\n",
            "Epoch 91/600\n",
            "67/67 [==============================] - 1s 18ms/step - loss: 7.2437e-04 - mean_absolute_error: 0.0196\n",
            "Epoch 92/600\n",
            "67/67 [==============================] - 1s 18ms/step - loss: 6.5692e-04 - mean_absolute_error: 0.0194\n",
            "Epoch 93/600\n",
            "67/67 [==============================] - 1s 19ms/step - loss: 7.2219e-04 - mean_absolute_error: 0.0192\n",
            "Epoch 94/600\n",
            "67/67 [==============================] - 1s 18ms/step - loss: 5.8128e-04 - mean_absolute_error: 0.0186\n",
            "Epoch 95/600\n",
            "67/67 [==============================] - 1s 19ms/step - loss: 5.8810e-04 - mean_absolute_error: 0.0188\n",
            "Epoch 96/600\n",
            "67/67 [==============================] - 1s 18ms/step - loss: 5.7964e-04 - mean_absolute_error: 0.0183\n",
            "Epoch 97/600\n",
            "67/67 [==============================] - 1s 18ms/step - loss: 6.7504e-04 - mean_absolute_error: 0.0200\n",
            "Epoch 98/600\n",
            "67/67 [==============================] - 1s 18ms/step - loss: 6.5567e-04 - mean_absolute_error: 0.0191\n",
            "Epoch 99/600\n",
            "67/67 [==============================] - 1s 18ms/step - loss: 5.8226e-04 - mean_absolute_error: 0.0186\n",
            "Epoch 100/600\n",
            "67/67 [==============================] - 1s 18ms/step - loss: 8.3930e-04 - mean_absolute_error: 0.0198\n",
            "Epoch 101/600\n",
            "67/67 [==============================] - 1s 18ms/step - loss: 6.2987e-04 - mean_absolute_error: 0.0186\n",
            "Epoch 102/600\n",
            "67/67 [==============================] - 1s 18ms/step - loss: 5.7431e-04 - mean_absolute_error: 0.0185\n",
            "Epoch 103/600\n",
            "67/67 [==============================] - 1s 18ms/step - loss: 5.7030e-04 - mean_absolute_error: 0.0183\n",
            "Epoch 104/600\n",
            "67/67 [==============================] - 1s 18ms/step - loss: 6.5227e-04 - mean_absolute_error: 0.0194\n",
            "Epoch 105/600\n",
            "67/67 [==============================] - 1s 18ms/step - loss: 6.7275e-04 - mean_absolute_error: 0.0195\n",
            "Epoch 106/600\n",
            "67/67 [==============================] - 1s 18ms/step - loss: 7.1618e-04 - mean_absolute_error: 0.0192\n",
            "Epoch 107/600\n",
            "67/67 [==============================] - 1s 18ms/step - loss: 5.8363e-04 - mean_absolute_error: 0.0181\n",
            "Epoch 108/600\n",
            "67/67 [==============================] - 1s 18ms/step - loss: 5.9174e-04 - mean_absolute_error: 0.0179\n",
            "Epoch 109/600\n",
            "67/67 [==============================] - 1s 19ms/step - loss: 6.0236e-04 - mean_absolute_error: 0.0185\n",
            "Epoch 110/600\n",
            "67/67 [==============================] - 1s 18ms/step - loss: 6.0854e-04 - mean_absolute_error: 0.0184\n",
            "Epoch 111/600\n",
            "67/67 [==============================] - 1s 18ms/step - loss: 6.6099e-04 - mean_absolute_error: 0.0187\n",
            "Epoch 112/600\n",
            "67/67 [==============================] - 1s 18ms/step - loss: 7.1641e-04 - mean_absolute_error: 0.0196\n",
            "Epoch 113/600\n",
            "67/67 [==============================] - 1s 18ms/step - loss: 7.5572e-04 - mean_absolute_error: 0.0191\n",
            "Epoch 114/600\n",
            "67/67 [==============================] - 1s 19ms/step - loss: 6.8341e-04 - mean_absolute_error: 0.0189\n",
            "Epoch 115/600\n",
            "67/67 [==============================] - 1s 19ms/step - loss: 5.7476e-04 - mean_absolute_error: 0.0181\n",
            "Epoch 116/600\n",
            "67/67 [==============================] - 1s 18ms/step - loss: 6.8755e-04 - mean_absolute_error: 0.0179\n",
            "Epoch 00116: early stopping\n"
          ],
          "name": "stdout"
        },
        {
          "output_type": "execute_result",
          "data": {
            "text/plain": [
              "<tensorflow.python.keras.callbacks.History at 0x7f58184a2050>"
            ]
          },
          "metadata": {
            "tags": []
          },
          "execution_count": 77
        }
      ]
    },
    {
      "cell_type": "markdown",
      "metadata": {
        "id": "RtFahmEgGAzZ"
      },
      "source": [
        "#**5-Teste da rede**"
      ]
    },
    {
      "cell_type": "markdown",
      "metadata": {
        "id": "QSWSKW8nqeA0"
      },
      "source": [
        "##**5.1-Importando os dados para teste**"
      ]
    },
    {
      "cell_type": "code",
      "metadata": {
        "id": "4X6-ArtKUdpD"
      },
      "source": [
        "#criando a base de dados teste\n",
        "base_teste = pd.read_csv('ABEV3-teste.csv')\n",
        "base_teste = base_teste.drop('Date', axis = 1)"
      ],
      "execution_count": 78,
      "outputs": []
    },
    {
      "cell_type": "code",
      "metadata": {
        "colab": {
          "base_uri": "https://localhost:8080/",
          "height": 297
        },
        "id": "dXOp2vDcpAvA",
        "outputId": "8e44e536-0850-4851-9501-09def41b3dd9"
      },
      "source": [
        "#valores estatísticos\n",
        "base_teste.describe()"
      ],
      "execution_count": 79,
      "outputs": [
        {
          "output_type": "execute_result",
          "data": {
            "text/html": [
              "<div>\n",
              "<style scoped>\n",
              "    .dataframe tbody tr th:only-of-type {\n",
              "        vertical-align: middle;\n",
              "    }\n",
              "\n",
              "    .dataframe tbody tr th {\n",
              "        vertical-align: top;\n",
              "    }\n",
              "\n",
              "    .dataframe thead th {\n",
              "        text-align: right;\n",
              "    }\n",
              "</style>\n",
              "<table border=\"1\" class=\"dataframe\">\n",
              "  <thead>\n",
              "    <tr style=\"text-align: right;\">\n",
              "      <th></th>\n",
              "      <th>Open</th>\n",
              "      <th>High</th>\n",
              "      <th>Low</th>\n",
              "      <th>Close</th>\n",
              "      <th>Adj Close</th>\n",
              "      <th>Volume</th>\n",
              "    </tr>\n",
              "  </thead>\n",
              "  <tbody>\n",
              "    <tr>\n",
              "      <th>count</th>\n",
              "      <td>247.000000</td>\n",
              "      <td>247.000000</td>\n",
              "      <td>247.000000</td>\n",
              "      <td>247.000000</td>\n",
              "      <td>247.000000</td>\n",
              "      <td>2.470000e+02</td>\n",
              "    </tr>\n",
              "    <tr>\n",
              "      <th>mean</th>\n",
              "      <td>18.097571</td>\n",
              "      <td>18.318462</td>\n",
              "      <td>17.895506</td>\n",
              "      <td>18.111619</td>\n",
              "      <td>17.121478</td>\n",
              "      <td>2.172937e+07</td>\n",
              "    </tr>\n",
              "    <tr>\n",
              "      <th>std</th>\n",
              "      <td>0.927619</td>\n",
              "      <td>0.923881</td>\n",
              "      <td>0.922278</td>\n",
              "      <td>0.924107</td>\n",
              "      <td>0.884616</td>\n",
              "      <td>1.126563e+07</td>\n",
              "    </tr>\n",
              "    <tr>\n",
              "      <th>min</th>\n",
              "      <td>15.400000</td>\n",
              "      <td>16.299999</td>\n",
              "      <td>15.400000</td>\n",
              "      <td>16.150000</td>\n",
              "      <td>15.258595</td>\n",
              "      <td>5.109500e+06</td>\n",
              "    </tr>\n",
              "    <tr>\n",
              "      <th>25%</th>\n",
              "      <td>17.445001</td>\n",
              "      <td>17.639999</td>\n",
              "      <td>17.245000</td>\n",
              "      <td>17.435001</td>\n",
              "      <td>16.472670</td>\n",
              "      <td>1.524115e+07</td>\n",
              "    </tr>\n",
              "    <tr>\n",
              "      <th>50%</th>\n",
              "      <td>18.100000</td>\n",
              "      <td>18.270000</td>\n",
              "      <td>17.920000</td>\n",
              "      <td>18.090000</td>\n",
              "      <td>17.091515</td>\n",
              "      <td>1.919990e+07</td>\n",
              "    </tr>\n",
              "    <tr>\n",
              "      <th>75%</th>\n",
              "      <td>18.795000</td>\n",
              "      <td>18.974999</td>\n",
              "      <td>18.580000</td>\n",
              "      <td>18.735000</td>\n",
              "      <td>17.724536</td>\n",
              "      <td>2.542865e+07</td>\n",
              "    </tr>\n",
              "    <tr>\n",
              "      <th>max</th>\n",
              "      <td>20.410000</td>\n",
              "      <td>20.770000</td>\n",
              "      <td>20.330000</td>\n",
              "      <td>20.629999</td>\n",
              "      <td>19.491320</td>\n",
              "      <td>9.751180e+07</td>\n",
              "    </tr>\n",
              "  </tbody>\n",
              "</table>\n",
              "</div>"
            ],
            "text/plain": [
              "             Open        High         Low       Close   Adj Close        Volume\n",
              "count  247.000000  247.000000  247.000000  247.000000  247.000000  2.470000e+02\n",
              "mean    18.097571   18.318462   17.895506   18.111619   17.121478  2.172937e+07\n",
              "std      0.927619    0.923881    0.922278    0.924107    0.884616  1.126563e+07\n",
              "min     15.400000   16.299999   15.400000   16.150000   15.258595  5.109500e+06\n",
              "25%     17.445001   17.639999   17.245000   17.435001   16.472670  1.524115e+07\n",
              "50%     18.100000   18.270000   17.920000   18.090000   17.091515  1.919990e+07\n",
              "75%     18.795000   18.974999   18.580000   18.735000   17.724536  2.542865e+07\n",
              "max     20.410000   20.770000   20.330000   20.629999   19.491320  9.751180e+07"
            ]
          },
          "metadata": {
            "tags": []
          },
          "execution_count": 79
        }
      ]
    },
    {
      "cell_type": "markdown",
      "metadata": {
        "id": "Cw-NIb9EpatP"
      },
      "source": [
        "##**5.2-Tratando os Valores Faltantes**"
      ]
    },
    {
      "cell_type": "code",
      "metadata": {
        "colab": {
          "base_uri": "https://localhost:8080/"
        },
        "id": "lthEX_TZniHb",
        "outputId": "2d316168-cac7-4351-81e1-edeb655da4db"
      },
      "source": [
        "#valores faltantes\n",
        "base_teste.isna().sum()"
      ],
      "execution_count": 80,
      "outputs": [
        {
          "output_type": "execute_result",
          "data": {
            "text/plain": [
              "Open         1\n",
              "High         1\n",
              "Low          1\n",
              "Close        1\n",
              "Adj Close    1\n",
              "Volume       1\n",
              "dtype: int64"
            ]
          },
          "metadata": {
            "tags": []
          },
          "execution_count": 80
        }
      ]
    },
    {
      "cell_type": "code",
      "metadata": {
        "colab": {
          "base_uri": "https://localhost:8080/",
          "height": 80
        },
        "id": "uiH2j_UNpjqk",
        "outputId": "024bcefe-ccaa-48c0-8a66-5bb95d7f7bc0"
      },
      "source": [
        "#encontrando onde os valores faltantes estão\n",
        "base_teste.loc[pd.isnull(base_teste['Open'])]\n",
        "base_teste.loc[pd.isnull(base_teste['High'])]\n",
        "base_teste.loc[pd.isnull(base_teste['Low'])]\n",
        "base_teste.loc[pd.isnull(base_teste['Close'])]\n",
        "base_teste.loc[pd.isnull(base_teste['Adj Close'])]\n",
        "base_teste.loc[pd.isnull(base_teste['Volume'])]"
      ],
      "execution_count": 81,
      "outputs": [
        {
          "output_type": "execute_result",
          "data": {
            "text/html": [
              "<div>\n",
              "<style scoped>\n",
              "    .dataframe tbody tr th:only-of-type {\n",
              "        vertical-align: middle;\n",
              "    }\n",
              "\n",
              "    .dataframe tbody tr th {\n",
              "        vertical-align: top;\n",
              "    }\n",
              "\n",
              "    .dataframe thead th {\n",
              "        text-align: right;\n",
              "    }\n",
              "</style>\n",
              "<table border=\"1\" class=\"dataframe\">\n",
              "  <thead>\n",
              "    <tr style=\"text-align: right;\">\n",
              "      <th></th>\n",
              "      <th>Open</th>\n",
              "      <th>High</th>\n",
              "      <th>Low</th>\n",
              "      <th>Close</th>\n",
              "      <th>Adj Close</th>\n",
              "      <th>Volume</th>\n",
              "    </tr>\n",
              "  </thead>\n",
              "  <tbody>\n",
              "    <tr>\n",
              "      <th>42</th>\n",
              "      <td>NaN</td>\n",
              "      <td>NaN</td>\n",
              "      <td>NaN</td>\n",
              "      <td>NaN</td>\n",
              "      <td>NaN</td>\n",
              "      <td>NaN</td>\n",
              "    </tr>\n",
              "  </tbody>\n",
              "</table>\n",
              "</div>"
            ],
            "text/plain": [
              "    Open  High  Low  Close  Adj Close  Volume\n",
              "42   NaN   NaN  NaN    NaN        NaN     NaN"
            ]
          },
          "metadata": {
            "tags": []
          },
          "execution_count": 81
        }
      ]
    },
    {
      "cell_type": "code",
      "metadata": {
        "id": "Bbw7axJ75lpn"
      },
      "source": [
        "#preenchendo os valores faltantes com o valor médio\n",
        "imputer = SimpleImputer(missing_values=np.nan, strategy='mean',verbose=0)\n",
        "imputer = imputer.fit(base_teste.iloc[:,0:6])\n",
        "base_teste.iloc[:,0:6] = imputer.transform(base_teste.iloc[:,0:6])"
      ],
      "execution_count": 82,
      "outputs": []
    },
    {
      "cell_type": "code",
      "metadata": {
        "colab": {
          "base_uri": "https://localhost:8080/",
          "height": 49
        },
        "id": "CXAi4QV8pw2x",
        "outputId": "89a83b28-31d1-4334-b3f3-20a86a98c6fc"
      },
      "source": [
        "#verificando novamente se ainda temos valores faltantes\n",
        "base_teste.loc[pd.isnull(base_teste['Open'])]\n",
        "base_teste.loc[pd.isnull(base_teste['High'])]\n",
        "base_teste.loc[pd.isnull(base_teste['Low'])]\n",
        "base_teste.loc[pd.isnull(base_teste['Close'])]\n",
        "base_teste.loc[pd.isnull(base_teste['Adj Close'])]\n",
        "base_teste.loc[pd.isnull(base_teste['Volume'])]"
      ],
      "execution_count": 83,
      "outputs": [
        {
          "output_type": "execute_result",
          "data": {
            "text/html": [
              "<div>\n",
              "<style scoped>\n",
              "    .dataframe tbody tr th:only-of-type {\n",
              "        vertical-align: middle;\n",
              "    }\n",
              "\n",
              "    .dataframe tbody tr th {\n",
              "        vertical-align: top;\n",
              "    }\n",
              "\n",
              "    .dataframe thead th {\n",
              "        text-align: right;\n",
              "    }\n",
              "</style>\n",
              "<table border=\"1\" class=\"dataframe\">\n",
              "  <thead>\n",
              "    <tr style=\"text-align: right;\">\n",
              "      <th></th>\n",
              "      <th>Open</th>\n",
              "      <th>High</th>\n",
              "      <th>Low</th>\n",
              "      <th>Close</th>\n",
              "      <th>Adj Close</th>\n",
              "      <th>Volume</th>\n",
              "    </tr>\n",
              "  </thead>\n",
              "  <tbody>\n",
              "  </tbody>\n",
              "</table>\n",
              "</div>"
            ],
            "text/plain": [
              "Empty DataFrame\n",
              "Columns: [Open, High, Low, Close, Adj Close, Volume]\n",
              "Index: []"
            ]
          },
          "metadata": {
            "tags": []
          },
          "execution_count": 83
        }
      ]
    },
    {
      "cell_type": "markdown",
      "metadata": {
        "id": "X1nZpS8Rp2zr"
      },
      "source": [
        "#**5.3-Tratamento dos valores nulos (iguais a 0)**"
      ]
    },
    {
      "cell_type": "code",
      "metadata": {
        "colab": {
          "base_uri": "https://localhost:8080/"
        },
        "id": "XYwer-dip-KB",
        "outputId": "4389463d-7397-4321-f996-21290103a592"
      },
      "source": [
        "#valores nulos\n",
        "(base_teste == 0).sum()"
      ],
      "execution_count": 84,
      "outputs": [
        {
          "output_type": "execute_result",
          "data": {
            "text/plain": [
              "Open         0\n",
              "High         0\n",
              "Low          0\n",
              "Close        0\n",
              "Adj Close    0\n",
              "Volume       0\n",
              "dtype: int64"
            ]
          },
          "metadata": {
            "tags": []
          },
          "execution_count": 84
        }
      ]
    },
    {
      "cell_type": "code",
      "metadata": {
        "id": "sFBo6iR5qEpS"
      },
      "source": [
        "#Encontrando os valores nulos\n",
        "base_teste.loc[base_teste['Volume'] == 0]"
      ],
      "execution_count": null,
      "outputs": []
    },
    {
      "cell_type": "code",
      "metadata": {
        "id": "ofkU-XjcqOQE"
      },
      "source": [
        "#preenchendo os valores nulos com o valor médio\n",
        "imputer = SimpleImputer(missing_values=0, strategy='mean',verbose=0)\n",
        "imputer = imputer.fit(base_teste.iloc[:,0:6])\n",
        "base_teste.iloc[:,0:6] = imputer.transform(base_teste.iloc[:,0:6])"
      ],
      "execution_count": null,
      "outputs": []
    },
    {
      "cell_type": "code",
      "metadata": {
        "id": "pYUeIwbnppRT"
      },
      "source": [
        "#Verificando novamente se tem valores nulos\n",
        "base_teste.loc[base_teste['Volume'] == 0]"
      ],
      "execution_count": null,
      "outputs": []
    },
    {
      "cell_type": "markdown",
      "metadata": {
        "id": "N79Bjk6Yq6ci"
      },
      "source": [
        "##**5.4-Preparando a estrutura para teste**"
      ]
    },
    {
      "cell_type": "code",
      "metadata": {
        "id": "UFINH9OzUfDk"
      },
      "source": [
        "#concatenando a base de dados teste com o base de treinamento\n",
        "preco_real_teste = base_teste.iloc[:, 3:4].values\n",
        "frames = [base, base_teste]\n",
        "base_completa = pd.concat(frames)"
      ],
      "execution_count": 85,
      "outputs": []
    },
    {
      "cell_type": "code",
      "metadata": {
        "id": "-CdLW8IZUhLY"
      },
      "source": [
        "#pegando os 90 registros anteriores para percorrer a base teste e colocando no\n",
        "#no formato np.array\n",
        "entradas = base_completa[len(base_completa) - len(base_teste) - 90:].values\n",
        "entradas = normalizador.transform(entradas)\n",
        "Percorrer_teste = []\n",
        "for i in range(90, 338): \n",
        "    Percorrer_teste.append(entradas[i-90:i, 0:6])\n",
        "Percorrer_teste = np.array(Percorrer_teste)"
      ],
      "execution_count": 86,
      "outputs": []
    },
    {
      "cell_type": "code",
      "metadata": {
        "id": "_YdD2ZcaUi1w"
      },
      "source": [
        "#resultado da predição no formato MinMaxScaler\n",
        "previsoes = regressor.predict(Percorrer_teste)"
      ],
      "execution_count": 87,
      "outputs": []
    },
    {
      "cell_type": "code",
      "metadata": {
        "colab": {
          "base_uri": "https://localhost:8080/"
        },
        "id": "jQS0Ql4tUk2Z",
        "outputId": "76325fe9-b011-4186-a12d-a794dc3925b0"
      },
      "source": [
        "#convertendo para a escala MinMaxScaler \n",
        "normalizador_previsao = MinMaxScaler(feature_range=(0,1))\n",
        "normalizador_previsao.fit_transform(base_treinamento[:,3:4])"
      ],
      "execution_count": 88,
      "outputs": [
        {
          "output_type": "execute_result",
          "data": {
            "text/plain": [
              "array([[0.03189167],\n",
              "       [0.03380903],\n",
              "       [0.03715374],\n",
              "       ...,\n",
              "       [0.51319622],\n",
              "       [0.51106346],\n",
              "       [0.52599282]])"
            ]
          },
          "metadata": {
            "tags": []
          },
          "execution_count": 88
        }
      ]
    },
    {
      "cell_type": "code",
      "metadata": {
        "id": "MP_GBjYJUnFe",
        "colab": {
          "base_uri": "https://localhost:8080/"
        },
        "outputId": "f916123a-46d3-45c1-b3d3-30dd088ebadf"
      },
      "source": [
        "#colocando a previsão no formato original para preparar a visualização no gráfico\n",
        "previsoes = normalizador_previsao.inverse_transform(previsoes)\n",
        "previsoes"
      ],
      "execution_count": 89,
      "outputs": [
        {
          "output_type": "execute_result",
          "data": {
            "text/plain": [
              "array([[15.494911],\n",
              "       [15.903574],\n",
              "       [16.278988],\n",
              "       [16.511486],\n",
              "       [16.633743],\n",
              "       [16.508198],\n",
              "       [16.470564],\n",
              "       [16.695625],\n",
              "       [17.040226],\n",
              "       [17.405355],\n",
              "       [17.584402],\n",
              "       [17.751705],\n",
              "       [17.7797  ],\n",
              "       [17.857443],\n",
              "       [17.899755],\n",
              "       [17.698551],\n",
              "       [17.418512],\n",
              "       [17.259428],\n",
              "       [17.54303 ],\n",
              "       [17.833328],\n",
              "       [17.91302 ],\n",
              "       [17.770916],\n",
              "       [17.901913],\n",
              "       [18.214924],\n",
              "       [18.486366],\n",
              "       [18.343838],\n",
              "       [18.492676],\n",
              "       [18.482193],\n",
              "       [18.511389],\n",
              "       [18.702705],\n",
              "       [18.603611],\n",
              "       [18.550669],\n",
              "       [18.606127],\n",
              "       [18.446703],\n",
              "       [18.403027],\n",
              "       [18.371279],\n",
              "       [18.392162],\n",
              "       [18.367405],\n",
              "       [18.463398],\n",
              "       [18.543434],\n",
              "       [18.50848 ],\n",
              "       [17.954624],\n",
              "       [17.425062],\n",
              "       [18.035511],\n",
              "       [17.450323],\n",
              "       [16.96607 ],\n",
              "       [17.192835],\n",
              "       [17.302483],\n",
              "       [17.120216],\n",
              "       [16.94888 ],\n",
              "       [16.88365 ],\n",
              "       [17.158524],\n",
              "       [17.330389],\n",
              "       [17.220049],\n",
              "       [17.088207],\n",
              "       [16.929316],\n",
              "       [16.77828 ],\n",
              "       [16.85822 ],\n",
              "       [16.794737],\n",
              "       [16.790207],\n",
              "       [16.905409],\n",
              "       [16.94788 ],\n",
              "       [16.927914],\n",
              "       [16.945585],\n",
              "       [17.165134],\n",
              "       [17.427044],\n",
              "       [17.43976 ],\n",
              "       [17.52921 ],\n",
              "       [17.645777],\n",
              "       [17.510773],\n",
              "       [17.296795],\n",
              "       [17.403154],\n",
              "       [17.558905],\n",
              "       [17.371376],\n",
              "       [17.230042],\n",
              "       [17.385956],\n",
              "       [17.680687],\n",
              "       [17.713688],\n",
              "       [17.996544],\n",
              "       [18.284842],\n",
              "       [18.3727  ],\n",
              "       [18.435486],\n",
              "       [18.270355],\n",
              "       [18.084171],\n",
              "       [18.053844],\n",
              "       [17.871582],\n",
              "       [17.912075],\n",
              "       [17.790474],\n",
              "       [17.581282],\n",
              "       [17.323467],\n",
              "       [17.194311],\n",
              "       [16.95082 ],\n",
              "       [16.80192 ],\n",
              "       [16.755135],\n",
              "       [16.68021 ],\n",
              "       [16.952345],\n",
              "       [17.236946],\n",
              "       [17.300941],\n",
              "       [17.220106],\n",
              "       [17.27291 ],\n",
              "       [17.331144],\n",
              "       [17.375051],\n",
              "       [17.43196 ],\n",
              "       [17.531391],\n",
              "       [17.556372],\n",
              "       [17.495138],\n",
              "       [17.51551 ],\n",
              "       [17.661755],\n",
              "       [17.715374],\n",
              "       [17.735567],\n",
              "       [17.779476],\n",
              "       [17.76613 ],\n",
              "       [17.861153],\n",
              "       [17.848875],\n",
              "       [17.827133],\n",
              "       [18.011963],\n",
              "       [18.178719],\n",
              "       [18.382368],\n",
              "       [18.442982],\n",
              "       [18.341217],\n",
              "       [18.265059],\n",
              "       [18.165447],\n",
              "       [18.08498 ],\n",
              "       [18.014889],\n",
              "       [18.097204],\n",
              "       [18.47812 ],\n",
              "       [18.961021],\n",
              "       [19.009405],\n",
              "       [19.047709],\n",
              "       [19.087547],\n",
              "       [18.96941 ],\n",
              "       [18.609875],\n",
              "       [18.499084],\n",
              "       [18.392841],\n",
              "       [18.251572],\n",
              "       [18.298141],\n",
              "       [18.331728],\n",
              "       [18.23102 ],\n",
              "       [18.22007 ],\n",
              "       [18.224781],\n",
              "       [18.954643],\n",
              "       [19.639175],\n",
              "       [20.049305],\n",
              "       [20.361526],\n",
              "       [20.298176],\n",
              "       [20.370682],\n",
              "       [20.486656],\n",
              "       [20.336845],\n",
              "       [20.411547],\n",
              "       [20.549803],\n",
              "       [20.36773 ],\n",
              "       [20.351986],\n",
              "       [20.054745],\n",
              "       [19.84411 ],\n",
              "       [19.591621],\n",
              "       [19.335802],\n",
              "       [19.23871 ],\n",
              "       [19.315094],\n",
              "       [19.23283 ],\n",
              "       [19.130537],\n",
              "       [18.893261],\n",
              "       [18.646982],\n",
              "       [18.482075],\n",
              "       [18.357834],\n",
              "       [18.319899],\n",
              "       [18.455984],\n",
              "       [18.711746],\n",
              "       [18.665564],\n",
              "       [18.582903],\n",
              "       [18.78687 ],\n",
              "       [18.832298],\n",
              "       [18.794802],\n",
              "       [18.881044],\n",
              "       [18.920713],\n",
              "       [18.962547],\n",
              "       [19.234077],\n",
              "       [19.269314],\n",
              "       [19.225445],\n",
              "       [19.37641 ],\n",
              "       [19.41116 ],\n",
              "       [19.422552],\n",
              "       [19.45728 ],\n",
              "       [19.505764],\n",
              "       [19.481274],\n",
              "       [19.572071],\n",
              "       [19.6119  ],\n",
              "       [19.613747],\n",
              "       [19.49727 ],\n",
              "       [19.460968],\n",
              "       [19.258286],\n",
              "       [18.981295],\n",
              "       [19.108074],\n",
              "       [19.16286 ],\n",
              "       [18.919514],\n",
              "       [18.900774],\n",
              "       [18.765482],\n",
              "       [18.746908],\n",
              "       [18.82418 ],\n",
              "       [18.924965],\n",
              "       [18.970337],\n",
              "       [18.956554],\n",
              "       [18.869213],\n",
              "       [18.932135],\n",
              "       [18.951244],\n",
              "       [18.851488],\n",
              "       [19.016144],\n",
              "       [18.390661],\n",
              "       [18.050655],\n",
              "       [17.942165],\n",
              "       [17.832859],\n",
              "       [17.668055],\n",
              "       [17.586597],\n",
              "       [17.638597],\n",
              "       [17.73847 ],\n",
              "       [17.692846],\n",
              "       [17.667896],\n",
              "       [17.538826],\n",
              "       [17.556221],\n",
              "       [17.529125],\n",
              "       [17.497513],\n",
              "       [17.534208],\n",
              "       [17.647432],\n",
              "       [17.71043 ],\n",
              "       [17.939388],\n",
              "       [18.167912],\n",
              "       [18.260391],\n",
              "       [18.138401],\n",
              "       [18.123533],\n",
              "       [18.130816],\n",
              "       [18.138342],\n",
              "       [18.116781],\n",
              "       [17.949362],\n",
              "       [18.280073],\n",
              "       [18.283892],\n",
              "       [18.402628],\n",
              "       [18.496061],\n",
              "       [18.478683],\n",
              "       [18.464725],\n",
              "       [18.635956],\n",
              "       [18.882118],\n",
              "       [19.049572],\n",
              "       [19.05379 ],\n",
              "       [19.061583],\n",
              "       [19.158266],\n",
              "       [19.059158],\n",
              "       [19.115421],\n",
              "       [19.237041],\n",
              "       [19.318386]], dtype=float32)"
            ]
          },
          "metadata": {
            "tags": []
          },
          "execution_count": 89
        }
      ]
    },
    {
      "cell_type": "markdown",
      "metadata": {
        "id": "lEjN0sRdrGmK"
      },
      "source": [
        "##**6-Análise dos resuldatos**"
      ]
    },
    {
      "cell_type": "code",
      "metadata": {
        "id": "beWuUgy2Uoe_",
        "colab": {
          "base_uri": "https://localhost:8080/",
          "height": 485
        },
        "outputId": "63159432-6ea7-43f6-f677-f1b1fb58ac9b"
      },
      "source": [
        "#Visualizando o gráfico da Previsão da rede\n",
        "plt.plot(preco_real_teste, color = 'red', label = 'Preço real')\n",
        "plt.plot(previsoes, color = 'blue', label = 'Previsões')\n",
        "plt.title('Previsão do preço das ações')\n",
        "plt.xlabel('Tempo em dias')\n",
        "plt.ylabel('Preço das ações')\n",
        "plt.legend()\n",
        "plt.show()"
      ],
      "execution_count": 90,
      "outputs": [
        {
          "output_type": "display_data",
          "data": {
            "image/png": "[encoded data removed]",
            "text/plain": [
              "<Figure size 1800x864 with 1 Axes>"
            ]
          },
          "metadata": {
            "tags": []
          }
        }
      ]
    },
    {
      "cell_type": "code",
      "metadata": {
        "id": "hKA0-lbgUtH-",
        "colab": {
          "base_uri": "https://localhost:8080/",
          "height": 297
        },
        "outputId": "de99c71e-5869-4ff6-a20a-cfdc891607d2"
      },
      "source": [
        "#estatísticas do preço real comparado com a previsão\n",
        "df1 = pd.DataFrame(preco_real_teste).T\n",
        "df2 = pd.DataFrame(previsoes).T\n",
        "\n",
        "df3 = pd.concat([df1,df2]).T\n",
        "df3.columns = ['Preco real', 'Previsoes']\n",
        "df3.describe()"
      ],
      "execution_count": 92,
      "outputs": [
        {
          "output_type": "execute_result",
          "data": {
            "text/html": [
              "<div>\n",
              "<style scoped>\n",
              "    .dataframe tbody tr th:only-of-type {\n",
              "        vertical-align: middle;\n",
              "    }\n",
              "\n",
              "    .dataframe tbody tr th {\n",
              "        vertical-align: top;\n",
              "    }\n",
              "\n",
              "    .dataframe thead th {\n",
              "        text-align: right;\n",
              "    }\n",
              "</style>\n",
              "<table border=\"1\" class=\"dataframe\">\n",
              "  <thead>\n",
              "    <tr style=\"text-align: right;\">\n",
              "      <th></th>\n",
              "      <th>Preco real</th>\n",
              "      <th>Previsoes</th>\n",
              "    </tr>\n",
              "  </thead>\n",
              "  <tbody>\n",
              "    <tr>\n",
              "      <th>count</th>\n",
              "      <td>248.000000</td>\n",
              "      <td>248.000000</td>\n",
              "    </tr>\n",
              "    <tr>\n",
              "      <th>mean</th>\n",
              "      <td>18.111619</td>\n",
              "      <td>18.205599</td>\n",
              "    </tr>\n",
              "    <tr>\n",
              "      <th>std</th>\n",
              "      <td>0.922235</td>\n",
              "      <td>0.923125</td>\n",
              "    </tr>\n",
              "    <tr>\n",
              "      <th>min</th>\n",
              "      <td>16.150000</td>\n",
              "      <td>15.494911</td>\n",
              "    </tr>\n",
              "    <tr>\n",
              "      <th>25%</th>\n",
              "      <td>17.437501</td>\n",
              "      <td>17.533504</td>\n",
              "    </tr>\n",
              "    <tr>\n",
              "      <th>50%</th>\n",
              "      <td>18.090000</td>\n",
              "      <td>18.217497</td>\n",
              "    </tr>\n",
              "    <tr>\n",
              "      <th>75%</th>\n",
              "      <td>18.727499</td>\n",
              "      <td>18.884904</td>\n",
              "    </tr>\n",
              "    <tr>\n",
              "      <th>max</th>\n",
              "      <td>20.629999</td>\n",
              "      <td>20.549803</td>\n",
              "    </tr>\n",
              "  </tbody>\n",
              "</table>\n",
              "</div>"
            ],
            "text/plain": [
              "       Preco real   Previsoes\n",
              "count  248.000000  248.000000\n",
              "mean    18.111619   18.205599\n",
              "std      0.922235    0.923125\n",
              "min     16.150000   15.494911\n",
              "25%     17.437501   17.533504\n",
              "50%     18.090000   18.217497\n",
              "75%     18.727499   18.884904\n",
              "max     20.629999   20.549803"
            ]
          },
          "metadata": {
            "tags": []
          },
          "execution_count": 92
        }
      ]
    },
    {
      "cell_type": "code",
      "metadata": {
        "id": "ZjIrFF8Y_M9N"
      },
      "source": [
        "#df2 = pd.DataFrame(previsoes)\n",
        "#df2.describe()"
      ],
      "execution_count": null,
      "outputs": []
    },
    {
      "cell_type": "code",
      "metadata": {
        "id": "TKfgSJAIV5a_"
      },
      "source": [
        "#df1 = pd.DataFrame(preco_real_teste)\n",
        "#df1.describe()"
      ],
      "execution_count": null,
      "outputs": []
    }
  ]
}