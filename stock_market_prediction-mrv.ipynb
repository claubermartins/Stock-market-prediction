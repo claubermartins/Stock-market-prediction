{
  "nbformat": 4,
  "nbformat_minor": 0,
  "metadata": {
    "colab": {
      "name": "stock-market-prediction.ipynb",
      "provenance": [],
      "collapsed_sections": [
        "UiXZAchqFuC-",
        "SuPg1RFvQyMS",
        "8MLClRMWPwTL",
        "hCiQYMqPGHuG",
        "4IDwP-XV_Ohd",
        "RtFahmEgGAzZ"
      ],
      "authorship_tag": "ABX9TyPyz9kLmOzC/Se48gs0mZDZ",
      "include_colab_link": true
    },
    "kernelspec": {
      "name": "python3",
      "display_name": "Python 3"
    },
    "accelerator": "GPU"
  },
  "cells": [
    {
      "cell_type": "markdown",
      "metadata": {
        "id": "view-in-github",
        "colab_type": "text"
      },
      "source": [
        "<a href=\"https://colab.research.google.com/github/claubermartins/Stock-market-prediction/blob/main/stock_market_prediction-mrv.ipynb\" target=\"_parent\"><img src=\"https://colab.research.google.com/assets/colab-badge.svg\" alt=\"Open In Colab\"/></a>"
      ]
    },
    {
      "cell_type": "code",
      "metadata": {
        "colab": {
          "base_uri": "https://localhost:8080/"
        },
        "id": "XjlKRgiDRdpq",
        "outputId": "5dc1074d-654c-4ae8-f13f-08a7a96f67d3"
      },
      "source": [
        "pip install inflection"
      ],
      "execution_count": 306,
      "outputs": [
        {
          "output_type": "stream",
          "text": [
            "Requirement already satisfied: inflection in /usr/local/lib/python3.7/dist-packages (0.5.1)\n"
          ],
          "name": "stdout"
        }
      ]
    },
    {
      "cell_type": "markdown",
      "metadata": {
        "id": "UiXZAchqFuC-"
      },
      "source": [
        "#**1-Importando bibliotecas**"
      ]
    },
    {
      "cell_type": "code",
      "metadata": {
        "id": "ZjQg-8c_--wP"
      },
      "source": [
        "from tensorflow.keras.models import Sequential \n",
        "from tensorflow.keras.layers import Dense, Dropout, LSTM\n",
        "from tensorflow.keras.callbacks import EarlyStopping \n",
        "from sklearn.preprocessing import MinMaxScaler\n",
        "from sklearn.impute import SimpleImputer\n",
        "import numpy as np\n",
        "import pandas as pd\n",
        "import matplotlib.pyplot as plt\n",
        "import tensorflow as tf\n",
        "import math\n",
        "import seaborn as sns\n",
        "import datetime\n",
        "import inflection\n",
        "from IPython.core.display import HTML"
      ],
      "execution_count": 307,
      "outputs": []
    },
    {
      "cell_type": "markdown",
      "metadata": {
        "id": "SuPg1RFvQyMS"
      },
      "source": [
        "#**2-Funções auxiliares para o Jupyter Notebook**"
      ]
    },
    {
      "cell_type": "code",
      "metadata": {
        "id": "2vKvPdvDPJHc"
      },
      "source": [
        "def jupyter_settings():\n",
        "    %matplotlib inline\n",
        "    %pylab inline\n",
        "    \n",
        "    plt.style.use( 'bmh' )\n",
        "    plt.rcParams['figure.figsize'] = [25, 12]\n",
        "    plt.rcParams['font.size'] = 24\n",
        "    \n",
        "    display( HTML( '<style>.container { width:100% !important; }</style>') )\n",
        "    pd.options.display.max_columns = None\n",
        "    pd.options.display.max_rows = None\n",
        "    pd.set_option( 'display.expand_frame_repr', False )\n",
        "    \n",
        "    sns.set()"
      ],
      "execution_count": 308,
      "outputs": []
    },
    {
      "cell_type": "code",
      "metadata": {
        "colab": {
          "base_uri": "https://localhost:8080/",
          "height": 34
        },
        "id": "PGJn-AaoMxuy",
        "outputId": "d006b828-276e-40bd-94f5-28c2f14bd891"
      },
      "source": [
        "jupyter_settings()"
      ],
      "execution_count": 309,
      "outputs": [
        {
          "output_type": "stream",
          "text": [
            "Populating the interactive namespace from numpy and matplotlib\n"
          ],
          "name": "stdout"
        },
        {
          "output_type": "display_data",
          "data": {
            "text/html": [
              "<style>.container { width:100% !important; }</style>"
            ],
            "text/plain": [
              "<IPython.core.display.HTML object>"
            ]
          },
          "metadata": {
            "tags": []
          }
        }
      ]
    },
    {
      "cell_type": "markdown",
      "metadata": {
        "id": "c_3core8Shq6"
      },
      "source": [
        "#**2.1Método de importação de arquivos do Google Colab**"
      ]
    },
    {
      "cell_type": "code",
      "metadata": {
        "id": "cTk_YEVdyms3",
        "colab": {
          "resources": {
            "http://localhost:8080/nbextensions/google.colab/files.js": {
              "data": "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",
              "ok": true,
              "headers": [
                [
                  "content-type",
                  "application/javascript"
                ]
              ],
              "status": 200,
              "status_text": ""
            }
          },
          "base_uri": "https://localhost:8080/",
          "height": 157
        },
        "outputId": "8908db3b-2fd1-47cb-e5c3-56aee708fa7c"
      },
      "source": [
        "from google.colab import files\n",
        "upload = files.upload()\n",
        "print(\"downloaded files: \")\n",
        "print(*upload, sep = \"\\n\")"
      ],
      "execution_count": 310,
      "outputs": [
        {
          "output_type": "display_data",
          "data": {
            "text/html": [
              "\n",
              "     <input type=\"file\" id=\"files-2f39c3cc-0387-45f3-9c91-c674b95c4900\" name=\"files[]\" multiple disabled\n",
              "        style=\"border:none\" />\n",
              "     <output id=\"result-2f39c3cc-0387-45f3-9c91-c674b95c4900\">\n",
              "      Upload widget is only available when the cell has been executed in the\n",
              "      current browser session. Please rerun this cell to enable.\n",
              "      </output>\n",
              "      <script src=\"/nbextensions/google.colab/files.js\"></script> "
            ],
            "text/plain": [
              "<IPython.core.display.HTML object>"
            ]
          },
          "metadata": {
            "tags": []
          }
        },
        {
          "output_type": "stream",
          "text": [
            "Saving MRVE3-teste.csv to MRVE3-teste.csv\n",
            "Saving MRVE3-treinamento.csv to MRVE3-treinamento.csv\n",
            "downloaded files: \n",
            "MRVE3-teste.csv\n",
            "MRVE3-treinamento.csv\n"
          ],
          "name": "stdout"
        }
      ]
    },
    {
      "cell_type": "markdown",
      "metadata": {
        "id": "8MLClRMWPwTL"
      },
      "source": [
        "#**3-Tratamento dos dados**"
      ]
    },
    {
      "cell_type": "markdown",
      "metadata": {
        "id": "DOJanakhS-s2"
      },
      "source": [
        "##**3.1-Importando os dados**"
      ]
    },
    {
      "cell_type": "code",
      "metadata": {
        "id": "vYFCwA5GTB2j"
      },
      "source": [
        "base = pd.read_csv('MRVE3-treinamento.csv')\n",
        "base = base.drop('Date', axis = 1)"
      ],
      "execution_count": 312,
      "outputs": []
    },
    {
      "cell_type": "code",
      "metadata": {
        "colab": {
          "base_uri": "https://localhost:8080/",
          "height": 297
        },
        "id": "SD9oSvK-NE0Y",
        "outputId": "766b2220-186e-43c4-b5b7-0fdef11d2d97"
      },
      "source": [
        "#valores estatísticos\n",
        "base.describe()"
      ],
      "execution_count": 313,
      "outputs": [
        {
          "output_type": "execute_result",
          "data": {
            "text/html": [
              "<div>\n",
              "<style scoped>\n",
              "    .dataframe tbody tr th:only-of-type {\n",
              "        vertical-align: middle;\n",
              "    }\n",
              "\n",
              "    .dataframe tbody tr th {\n",
              "        vertical-align: top;\n",
              "    }\n",
              "\n",
              "    .dataframe thead th {\n",
              "        text-align: right;\n",
              "    }\n",
              "</style>\n",
              "<table border=\"1\" class=\"dataframe\">\n",
              "  <thead>\n",
              "    <tr style=\"text-align: right;\">\n",
              "      <th></th>\n",
              "      <th>Open</th>\n",
              "      <th>High</th>\n",
              "      <th>Low</th>\n",
              "      <th>Close</th>\n",
              "      <th>Adj Close</th>\n",
              "      <th>Volume</th>\n",
              "    </tr>\n",
              "  </thead>\n",
              "  <tbody>\n",
              "    <tr>\n",
              "      <th>count</th>\n",
              "      <td>2231.000000</td>\n",
              "      <td>2231.000000</td>\n",
              "      <td>2231.000000</td>\n",
              "      <td>2231.000000</td>\n",
              "      <td>2231.000000</td>\n",
              "      <td>2.231000e+03</td>\n",
              "    </tr>\n",
              "    <tr>\n",
              "      <th>mean</th>\n",
              "      <td>10.283918</td>\n",
              "      <td>10.469918</td>\n",
              "      <td>10.090187</td>\n",
              "      <td>10.274600</td>\n",
              "      <td>7.154917</td>\n",
              "      <td>4.074749e+06</td>\n",
              "    </tr>\n",
              "    <tr>\n",
              "      <th>std</th>\n",
              "      <td>2.559057</td>\n",
              "      <td>2.579387</td>\n",
              "      <td>2.523019</td>\n",
              "      <td>2.551348</td>\n",
              "      <td>2.040824</td>\n",
              "      <td>2.699636e+06</td>\n",
              "    </tr>\n",
              "    <tr>\n",
              "      <th>min</th>\n",
              "      <td>5.500065</td>\n",
              "      <td>5.590975</td>\n",
              "      <td>5.372790</td>\n",
              "      <td>5.500065</td>\n",
              "      <td>3.675109</td>\n",
              "      <td>0.000000e+00</td>\n",
              "    </tr>\n",
              "    <tr>\n",
              "      <th>25%</th>\n",
              "      <td>7.841001</td>\n",
              "      <td>7.986458</td>\n",
              "      <td>7.681908</td>\n",
              "      <td>7.818274</td>\n",
              "      <td>5.337414</td>\n",
              "      <td>2.459295e+06</td>\n",
              "    </tr>\n",
              "    <tr>\n",
              "      <th>50%</th>\n",
              "      <td>10.691035</td>\n",
              "      <td>10.881946</td>\n",
              "      <td>10.481942</td>\n",
              "      <td>10.691035</td>\n",
              "      <td>6.869619</td>\n",
              "      <td>3.558457e+06</td>\n",
              "    </tr>\n",
              "    <tr>\n",
              "      <th>75%</th>\n",
              "      <td>12.231962</td>\n",
              "      <td>12.409237</td>\n",
              "      <td>12.018323</td>\n",
              "      <td>12.227417</td>\n",
              "      <td>8.821945</td>\n",
              "      <td>5.068960e+06</td>\n",
              "    </tr>\n",
              "    <tr>\n",
              "      <th>max</th>\n",
              "      <td>16.636560</td>\n",
              "      <td>16.982018</td>\n",
              "      <td>16.591105</td>\n",
              "      <td>16.636560</td>\n",
              "      <td>12.112385</td>\n",
              "      <td>4.379862e+07</td>\n",
              "    </tr>\n",
              "  </tbody>\n",
              "</table>\n",
              "</div>"
            ],
            "text/plain": [
              "              Open         High          Low        Close    Adj Close        Volume\n",
              "count  2231.000000  2231.000000  2231.000000  2231.000000  2231.000000  2.231000e+03\n",
              "mean     10.283918    10.469918    10.090187    10.274600     7.154917  4.074749e+06\n",
              "std       2.559057     2.579387     2.523019     2.551348     2.040824  2.699636e+06\n",
              "min       5.500065     5.590975     5.372790     5.500065     3.675109  0.000000e+00\n",
              "25%       7.841001     7.986458     7.681908     7.818274     5.337414  2.459295e+06\n",
              "50%      10.691035    10.881946    10.481942    10.691035     6.869619  3.558457e+06\n",
              "75%      12.231962    12.409237    12.018323    12.227417     8.821945  5.068960e+06\n",
              "max      16.636560    16.982018    16.591105    16.636560    12.112385  4.379862e+07"
            ]
          },
          "metadata": {
            "tags": []
          },
          "execution_count": 313
        }
      ]
    },
    {
      "cell_type": "code",
      "metadata": {
        "colab": {
          "base_uri": "https://localhost:8080/"
        },
        "id": "fbKUPwPSNJqm",
        "outputId": "5d9abd37-2fc6-462e-faa5-7b727e742416"
      },
      "source": [
        "base.dtypes"
      ],
      "execution_count": 314,
      "outputs": [
        {
          "output_type": "execute_result",
          "data": {
            "text/plain": [
              "Open         float64\n",
              "High         float64\n",
              "Low          float64\n",
              "Close        float64\n",
              "Adj Close    float64\n",
              "Volume       float64\n",
              "dtype: object"
            ]
          },
          "metadata": {
            "tags": []
          },
          "execution_count": 314
        }
      ]
    },
    {
      "cell_type": "markdown",
      "metadata": {
        "id": "bCTD3wo2TfZF"
      },
      "source": [
        "##**3.2-Tratando os Valores Faltantes**"
      ]
    },
    {
      "cell_type": "code",
      "metadata": {
        "colab": {
          "base_uri": "https://localhost:8080/"
        },
        "id": "H60SOo8MTjjP",
        "outputId": "00bdb9a0-f7ab-4a95-856c-bb20549d78b2"
      },
      "source": [
        "#valores faltantes\n",
        "base.isna().sum()"
      ],
      "execution_count": 315,
      "outputs": [
        {
          "output_type": "execute_result",
          "data": {
            "text/plain": [
              "Open         1\n",
              "High         1\n",
              "Low          1\n",
              "Close        1\n",
              "Adj Close    1\n",
              "Volume       1\n",
              "dtype: int64"
            ]
          },
          "metadata": {
            "tags": []
          },
          "execution_count": 315
        }
      ]
    },
    {
      "cell_type": "code",
      "metadata": {
        "colab": {
          "base_uri": "https://localhost:8080/",
          "height": 80
        },
        "id": "H-DMfyHXTkdi",
        "outputId": "5676952d-c63d-4f08-8acc-045267bf1958"
      },
      "source": [
        "#encontrando onde os valores faltantes estão\n",
        "base.loc[pd.isnull(base['Open'])]\n",
        "base.loc[pd.isnull(base['High'])]\n",
        "base.loc[pd.isnull(base['Low'])]\n",
        "base.loc[pd.isnull(base['Close'])]\n",
        "base.loc[pd.isnull(base['Adj Close'])]\n",
        "base.loc[pd.isnull(base['Volume'])]"
      ],
      "execution_count": 316,
      "outputs": [
        {
          "output_type": "execute_result",
          "data": {
            "text/html": [
              "<div>\n",
              "<style scoped>\n",
              "    .dataframe tbody tr th:only-of-type {\n",
              "        vertical-align: middle;\n",
              "    }\n",
              "\n",
              "    .dataframe tbody tr th {\n",
              "        vertical-align: top;\n",
              "    }\n",
              "\n",
              "    .dataframe thead th {\n",
              "        text-align: right;\n",
              "    }\n",
              "</style>\n",
              "<table border=\"1\" class=\"dataframe\">\n",
              "  <thead>\n",
              "    <tr style=\"text-align: right;\">\n",
              "      <th></th>\n",
              "      <th>Open</th>\n",
              "      <th>High</th>\n",
              "      <th>Low</th>\n",
              "      <th>Close</th>\n",
              "      <th>Adj Close</th>\n",
              "      <th>Volume</th>\n",
              "    </tr>\n",
              "  </thead>\n",
              "  <tbody>\n",
              "    <tr>\n",
              "      <th>2015</th>\n",
              "      <td>NaN</td>\n",
              "      <td>NaN</td>\n",
              "      <td>NaN</td>\n",
              "      <td>NaN</td>\n",
              "      <td>NaN</td>\n",
              "      <td>NaN</td>\n",
              "    </tr>\n",
              "  </tbody>\n",
              "</table>\n",
              "</div>"
            ],
            "text/plain": [
              "      Open  High  Low  Close  Adj Close  Volume\n",
              "2015   NaN   NaN  NaN    NaN        NaN     NaN"
            ]
          },
          "metadata": {
            "tags": []
          },
          "execution_count": 316
        }
      ]
    },
    {
      "cell_type": "code",
      "metadata": {
        "id": "6q0YFzy9TmPD"
      },
      "source": [
        "#preenchendo os valores nulos com o valor médio\n",
        "imputer = SimpleImputer(missing_values=np.nan, strategy='mean',verbose=0)\n",
        "imputer = imputer.fit(base.iloc[:,0:6])\n",
        "base.iloc[:,0:6] = imputer.transform(base.iloc[:,0:6])"
      ],
      "execution_count": 317,
      "outputs": []
    },
    {
      "cell_type": "code",
      "metadata": {
        "colab": {
          "base_uri": "https://localhost:8080/",
          "height": 49
        },
        "id": "gQC2HfFnTpe2",
        "outputId": "2956ea1b-cb89-4be4-c045-78166ccb0be8"
      },
      "source": [
        "#verificando novamente se ainda temos valores faltantes\n",
        "base.loc[pd.isnull(base['Open'])]\n",
        "base.loc[pd.isnull(base['High'])]\n",
        "base.loc[pd.isnull(base['Low'])]\n",
        "base.loc[pd.isnull(base['Close'])]\n",
        "base.loc[pd.isnull(base['Adj Close'])]\n",
        "base.loc[pd.isnull(base['Volume'])]"
      ],
      "execution_count": 318,
      "outputs": [
        {
          "output_type": "execute_result",
          "data": {
            "text/html": [
              "<div>\n",
              "<style scoped>\n",
              "    .dataframe tbody tr th:only-of-type {\n",
              "        vertical-align: middle;\n",
              "    }\n",
              "\n",
              "    .dataframe tbody tr th {\n",
              "        vertical-align: top;\n",
              "    }\n",
              "\n",
              "    .dataframe thead th {\n",
              "        text-align: right;\n",
              "    }\n",
              "</style>\n",
              "<table border=\"1\" class=\"dataframe\">\n",
              "  <thead>\n",
              "    <tr style=\"text-align: right;\">\n",
              "      <th></th>\n",
              "      <th>Open</th>\n",
              "      <th>High</th>\n",
              "      <th>Low</th>\n",
              "      <th>Close</th>\n",
              "      <th>Adj Close</th>\n",
              "      <th>Volume</th>\n",
              "    </tr>\n",
              "  </thead>\n",
              "  <tbody>\n",
              "  </tbody>\n",
              "</table>\n",
              "</div>"
            ],
            "text/plain": [
              "Empty DataFrame\n",
              "Columns: [Open, High, Low, Close, Adj Close, Volume]\n",
              "Index: []"
            ]
          },
          "metadata": {
            "tags": []
          },
          "execution_count": 318
        }
      ]
    },
    {
      "cell_type": "markdown",
      "metadata": {
        "id": "_WuI_UbmTt3W"
      },
      "source": [
        "#**3.3-Tratamento dos valores nulos (iguais a 0)**"
      ]
    },
    {
      "cell_type": "code",
      "metadata": {
        "colab": {
          "base_uri": "https://localhost:8080/"
        },
        "id": "hyRiBN32Twb2",
        "outputId": "fc1ceed1-5f7c-4e73-ca4a-c71b3be92a17"
      },
      "source": [
        "#valores nulos\n",
        "(base == 0).sum()"
      ],
      "execution_count": 319,
      "outputs": [
        {
          "output_type": "execute_result",
          "data": {
            "text/plain": [
              "Open          0\n",
              "High          0\n",
              "Low           0\n",
              "Close         0\n",
              "Adj Close     0\n",
              "Volume       30\n",
              "dtype: int64"
            ]
          },
          "metadata": {
            "tags": []
          },
          "execution_count": 319
        }
      ]
    },
    {
      "cell_type": "code",
      "metadata": {
        "colab": {
          "base_uri": "https://localhost:8080/",
          "height": 979
        },
        "id": "nQPTB9_TT3Dy",
        "outputId": "41eafe36-741d-4200-9bcd-0c39e654a0a3"
      },
      "source": [
        "#Encontrando os valores nulos\n",
        "base.loc[base['Volume'] == 0]"
      ],
      "execution_count": 320,
      "outputs": [
        {
          "output_type": "execute_result",
          "data": {
            "text/html": [
              "<div>\n",
              "<style scoped>\n",
              "    .dataframe tbody tr th:only-of-type {\n",
              "        vertical-align: middle;\n",
              "    }\n",
              "\n",
              "    .dataframe tbody tr th {\n",
              "        vertical-align: top;\n",
              "    }\n",
              "\n",
              "    .dataframe thead th {\n",
              "        text-align: right;\n",
              "    }\n",
              "</style>\n",
              "<table border=\"1\" class=\"dataframe\">\n",
              "  <thead>\n",
              "    <tr style=\"text-align: right;\">\n",
              "      <th></th>\n",
              "      <th>Open</th>\n",
              "      <th>High</th>\n",
              "      <th>Low</th>\n",
              "      <th>Close</th>\n",
              "      <th>Adj Close</th>\n",
              "      <th>Volume</th>\n",
              "    </tr>\n",
              "  </thead>\n",
              "  <tbody>\n",
              "    <tr>\n",
              "      <th>284</th>\n",
              "      <td>12.018323</td>\n",
              "      <td>12.018323</td>\n",
              "      <td>12.018323</td>\n",
              "      <td>12.018323</td>\n",
              "      <td>7.226080</td>\n",
              "      <td>0.0</td>\n",
              "    </tr>\n",
              "    <tr>\n",
              "      <th>291</th>\n",
              "      <td>12.181962</td>\n",
              "      <td>12.181962</td>\n",
              "      <td>12.181962</td>\n",
              "      <td>12.181962</td>\n",
              "      <td>7.324469</td>\n",
              "      <td>0.0</td>\n",
              "    </tr>\n",
              "    <tr>\n",
              "      <th>308</th>\n",
              "      <td>11.709229</td>\n",
              "      <td>11.709229</td>\n",
              "      <td>11.709229</td>\n",
              "      <td>11.709229</td>\n",
              "      <td>7.040236</td>\n",
              "      <td>0.0</td>\n",
              "    </tr>\n",
              "    <tr>\n",
              "      <th>319</th>\n",
              "      <td>11.954686</td>\n",
              "      <td>11.954686</td>\n",
              "      <td>11.954686</td>\n",
              "      <td>11.954686</td>\n",
              "      <td>7.187818</td>\n",
              "      <td>0.0</td>\n",
              "    </tr>\n",
              "    <tr>\n",
              "      <th>333</th>\n",
              "      <td>12.500147</td>\n",
              "      <td>12.500147</td>\n",
              "      <td>12.500147</td>\n",
              "      <td>12.500147</td>\n",
              "      <td>7.515780</td>\n",
              "      <td>0.0</td>\n",
              "    </tr>\n",
              "    <tr>\n",
              "      <th>337</th>\n",
              "      <td>13.709252</td>\n",
              "      <td>13.709252</td>\n",
              "      <td>13.709252</td>\n",
              "      <td>13.709252</td>\n",
              "      <td>8.242761</td>\n",
              "      <td>0.0</td>\n",
              "    </tr>\n",
              "    <tr>\n",
              "      <th>450</th>\n",
              "      <td>10.691035</td>\n",
              "      <td>10.691035</td>\n",
              "      <td>10.691035</td>\n",
              "      <td>10.691035</td>\n",
              "      <td>6.515060</td>\n",
              "      <td>0.0</td>\n",
              "    </tr>\n",
              "    <tr>\n",
              "      <th>451</th>\n",
              "      <td>10.691035</td>\n",
              "      <td>10.691035</td>\n",
              "      <td>10.691035</td>\n",
              "      <td>10.691035</td>\n",
              "      <td>6.515060</td>\n",
              "      <td>0.0</td>\n",
              "    </tr>\n",
              "    <tr>\n",
              "      <th>452</th>\n",
              "      <td>10.691035</td>\n",
              "      <td>10.691035</td>\n",
              "      <td>10.691035</td>\n",
              "      <td>10.691035</td>\n",
              "      <td>6.515060</td>\n",
              "      <td>0.0</td>\n",
              "    </tr>\n",
              "    <tr>\n",
              "      <th>461</th>\n",
              "      <td>9.909208</td>\n",
              "      <td>9.909208</td>\n",
              "      <td>9.909208</td>\n",
              "      <td>9.909208</td>\n",
              "      <td>6.038619</td>\n",
              "      <td>0.0</td>\n",
              "    </tr>\n",
              "    <tr>\n",
              "      <th>482</th>\n",
              "      <td>10.936492</td>\n",
              "      <td>10.936492</td>\n",
              "      <td>10.936492</td>\n",
              "      <td>10.936492</td>\n",
              "      <td>6.664640</td>\n",
              "      <td>0.0</td>\n",
              "    </tr>\n",
              "    <tr>\n",
              "      <th>507</th>\n",
              "      <td>11.109222</td>\n",
              "      <td>11.109222</td>\n",
              "      <td>11.109222</td>\n",
              "      <td>11.109222</td>\n",
              "      <td>6.769902</td>\n",
              "      <td>0.0</td>\n",
              "    </tr>\n",
              "    <tr>\n",
              "      <th>525</th>\n",
              "      <td>12.291054</td>\n",
              "      <td>12.291054</td>\n",
              "      <td>12.291054</td>\n",
              "      <td>12.291054</td>\n",
              "      <td>7.490102</td>\n",
              "      <td>0.0</td>\n",
              "    </tr>\n",
              "    <tr>\n",
              "      <th>547</th>\n",
              "      <td>13.063790</td>\n",
              "      <td>13.063790</td>\n",
              "      <td>13.063790</td>\n",
              "      <td>13.063790</td>\n",
              "      <td>7.961003</td>\n",
              "      <td>0.0</td>\n",
              "    </tr>\n",
              "    <tr>\n",
              "      <th>587</th>\n",
              "      <td>8.572828</td>\n",
              "      <td>8.572828</td>\n",
              "      <td>8.572828</td>\n",
              "      <td>8.572828</td>\n",
              "      <td>5.224236</td>\n",
              "      <td>0.0</td>\n",
              "    </tr>\n",
              "    <tr>\n",
              "      <th>590</th>\n",
              "      <td>8.963742</td>\n",
              "      <td>8.963742</td>\n",
              "      <td>8.963742</td>\n",
              "      <td>8.963742</td>\n",
              "      <td>5.703623</td>\n",
              "      <td>0.0</td>\n",
              "    </tr>\n",
              "    <tr>\n",
              "      <th>609</th>\n",
              "      <td>8.272825</td>\n",
              "      <td>8.272825</td>\n",
              "      <td>8.272825</td>\n",
              "      <td>8.272825</td>\n",
              "      <td>5.263993</td>\n",
              "      <td>0.0</td>\n",
              "    </tr>\n",
              "    <tr>\n",
              "      <th>628</th>\n",
              "      <td>9.163744</td>\n",
              "      <td>9.163744</td>\n",
              "      <td>9.163744</td>\n",
              "      <td>9.163744</td>\n",
              "      <td>5.830884</td>\n",
              "      <td>0.0</td>\n",
              "    </tr>\n",
              "    <tr>\n",
              "      <th>819</th>\n",
              "      <td>7.727364</td>\n",
              "      <td>7.727364</td>\n",
              "      <td>7.727364</td>\n",
              "      <td>7.727364</td>\n",
              "      <td>4.916917</td>\n",
              "      <td>0.0</td>\n",
              "    </tr>\n",
              "    <tr>\n",
              "      <th>881</th>\n",
              "      <td>6.336438</td>\n",
              "      <td>6.336438</td>\n",
              "      <td>6.336438</td>\n",
              "      <td>6.336438</td>\n",
              "      <td>4.213077</td>\n",
              "      <td>0.0</td>\n",
              "    </tr>\n",
              "    <tr>\n",
              "      <th>1831</th>\n",
              "      <td>12.345600</td>\n",
              "      <td>12.345600</td>\n",
              "      <td>12.345600</td>\n",
              "      <td>12.345600</td>\n",
              "      <td>9.879048</td>\n",
              "      <td>0.0</td>\n",
              "    </tr>\n",
              "    <tr>\n",
              "      <th>1844</th>\n",
              "      <td>11.909231</td>\n",
              "      <td>11.909231</td>\n",
              "      <td>11.909231</td>\n",
              "      <td>11.909231</td>\n",
              "      <td>9.529862</td>\n",
              "      <td>0.0</td>\n",
              "    </tr>\n",
              "    <tr>\n",
              "      <th>1904</th>\n",
              "      <td>12.981971</td>\n",
              "      <td>12.981971</td>\n",
              "      <td>12.981971</td>\n",
              "      <td>12.981971</td>\n",
              "      <td>10.388279</td>\n",
              "      <td>0.0</td>\n",
              "    </tr>\n",
              "    <tr>\n",
              "      <th>1929</th>\n",
              "      <td>13.009244</td>\n",
              "      <td>13.009244</td>\n",
              "      <td>13.009244</td>\n",
              "      <td>13.009244</td>\n",
              "      <td>10.410102</td>\n",
              "      <td>0.0</td>\n",
              "    </tr>\n",
              "    <tr>\n",
              "      <th>1944</th>\n",
              "      <td>11.909231</td>\n",
              "      <td>11.909231</td>\n",
              "      <td>11.909231</td>\n",
              "      <td>11.909231</td>\n",
              "      <td>9.529862</td>\n",
              "      <td>0.0</td>\n",
              "    </tr>\n",
              "    <tr>\n",
              "      <th>1953</th>\n",
              "      <td>11.600137</td>\n",
              "      <td>11.600137</td>\n",
              "      <td>11.600137</td>\n",
              "      <td>11.600137</td>\n",
              "      <td>9.282523</td>\n",
              "      <td>0.0</td>\n",
              "    </tr>\n",
              "    <tr>\n",
              "      <th>1956</th>\n",
              "      <td>12.163780</td>\n",
              "      <td>12.163780</td>\n",
              "      <td>12.163780</td>\n",
              "      <td>12.163780</td>\n",
              "      <td>9.733554</td>\n",
              "      <td>0.0</td>\n",
              "    </tr>\n",
              "    <tr>\n",
              "      <th>1981</th>\n",
              "      <td>13.118336</td>\n",
              "      <td>13.118336</td>\n",
              "      <td>13.118336</td>\n",
              "      <td>13.118336</td>\n",
              "      <td>10.497398</td>\n",
              "      <td>0.0</td>\n",
              "    </tr>\n",
              "    <tr>\n",
              "      <th>1985</th>\n",
              "      <td>13.672888</td>\n",
              "      <td>13.672888</td>\n",
              "      <td>13.672888</td>\n",
              "      <td>13.672888</td>\n",
              "      <td>10.941155</td>\n",
              "      <td>0.0</td>\n",
              "    </tr>\n",
              "    <tr>\n",
              "      <th>2003</th>\n",
              "      <td>13.881982</td>\n",
              "      <td>13.881982</td>\n",
              "      <td>13.881982</td>\n",
              "      <td>13.881982</td>\n",
              "      <td>11.108475</td>\n",
              "      <td>0.0</td>\n",
              "    </tr>\n",
              "  </tbody>\n",
              "</table>\n",
              "</div>"
            ],
            "text/plain": [
              "           Open       High        Low      Close  Adj Close  Volume\n",
              "284   12.018323  12.018323  12.018323  12.018323   7.226080     0.0\n",
              "291   12.181962  12.181962  12.181962  12.181962   7.324469     0.0\n",
              "308   11.709229  11.709229  11.709229  11.709229   7.040236     0.0\n",
              "319   11.954686  11.954686  11.954686  11.954686   7.187818     0.0\n",
              "333   12.500147  12.500147  12.500147  12.500147   7.515780     0.0\n",
              "337   13.709252  13.709252  13.709252  13.709252   8.242761     0.0\n",
              "450   10.691035  10.691035  10.691035  10.691035   6.515060     0.0\n",
              "451   10.691035  10.691035  10.691035  10.691035   6.515060     0.0\n",
              "452   10.691035  10.691035  10.691035  10.691035   6.515060     0.0\n",
              "461    9.909208   9.909208   9.909208   9.909208   6.038619     0.0\n",
              "482   10.936492  10.936492  10.936492  10.936492   6.664640     0.0\n",
              "507   11.109222  11.109222  11.109222  11.109222   6.769902     0.0\n",
              "525   12.291054  12.291054  12.291054  12.291054   7.490102     0.0\n",
              "547   13.063790  13.063790  13.063790  13.063790   7.961003     0.0\n",
              "587    8.572828   8.572828   8.572828   8.572828   5.224236     0.0\n",
              "590    8.963742   8.963742   8.963742   8.963742   5.703623     0.0\n",
              "609    8.272825   8.272825   8.272825   8.272825   5.263993     0.0\n",
              "628    9.163744   9.163744   9.163744   9.163744   5.830884     0.0\n",
              "819    7.727364   7.727364   7.727364   7.727364   4.916917     0.0\n",
              "881    6.336438   6.336438   6.336438   6.336438   4.213077     0.0\n",
              "1831  12.345600  12.345600  12.345600  12.345600   9.879048     0.0\n",
              "1844  11.909231  11.909231  11.909231  11.909231   9.529862     0.0\n",
              "1904  12.981971  12.981971  12.981971  12.981971  10.388279     0.0\n",
              "1929  13.009244  13.009244  13.009244  13.009244  10.410102     0.0\n",
              "1944  11.909231  11.909231  11.909231  11.909231   9.529862     0.0\n",
              "1953  11.600137  11.600137  11.600137  11.600137   9.282523     0.0\n",
              "1956  12.163780  12.163780  12.163780  12.163780   9.733554     0.0\n",
              "1981  13.118336  13.118336  13.118336  13.118336  10.497398     0.0\n",
              "1985  13.672888  13.672888  13.672888  13.672888  10.941155     0.0\n",
              "2003  13.881982  13.881982  13.881982  13.881982  11.108475     0.0"
            ]
          },
          "metadata": {
            "tags": []
          },
          "execution_count": 320
        }
      ]
    },
    {
      "cell_type": "code",
      "metadata": {
        "id": "352jPyV0T5JJ"
      },
      "source": [
        "#preenchendo os valores nulos com o valor médio\n",
        "imputer = SimpleImputer(missing_values=0, strategy='mean',verbose=0)\n",
        "imputer = imputer.fit(base.iloc[:,0:6])\n",
        "base.iloc[:,0:6] = imputer.transform(base.iloc[:,0:6])"
      ],
      "execution_count": 321,
      "outputs": []
    },
    {
      "cell_type": "code",
      "metadata": {
        "colab": {
          "base_uri": "https://localhost:8080/",
          "height": 49
        },
        "id": "xI5JdDykT66_",
        "outputId": "3b264059-6350-4e98-e8fd-2aeab7fe601e"
      },
      "source": [
        "#Verificando novamente se ainda temos valores nulos\n",
        "base.loc[base['Volume'] == 0]"
      ],
      "execution_count": 322,
      "outputs": [
        {
          "output_type": "execute_result",
          "data": {
            "text/html": [
              "<div>\n",
              "<style scoped>\n",
              "    .dataframe tbody tr th:only-of-type {\n",
              "        vertical-align: middle;\n",
              "    }\n",
              "\n",
              "    .dataframe tbody tr th {\n",
              "        vertical-align: top;\n",
              "    }\n",
              "\n",
              "    .dataframe thead th {\n",
              "        text-align: right;\n",
              "    }\n",
              "</style>\n",
              "<table border=\"1\" class=\"dataframe\">\n",
              "  <thead>\n",
              "    <tr style=\"text-align: right;\">\n",
              "      <th></th>\n",
              "      <th>Open</th>\n",
              "      <th>High</th>\n",
              "      <th>Low</th>\n",
              "      <th>Close</th>\n",
              "      <th>Adj Close</th>\n",
              "      <th>Volume</th>\n",
              "    </tr>\n",
              "  </thead>\n",
              "  <tbody>\n",
              "  </tbody>\n",
              "</table>\n",
              "</div>"
            ],
            "text/plain": [
              "Empty DataFrame\n",
              "Columns: [Open, High, Low, Close, Adj Close, Volume]\n",
              "Index: []"
            ]
          },
          "metadata": {
            "tags": []
          },
          "execution_count": 322
        }
      ]
    },
    {
      "cell_type": "code",
      "metadata": {
        "id": "NYW0UUz0T9Kq"
      },
      "source": [
        "#base = base.dropna()"
      ],
      "execution_count": null,
      "outputs": []
    },
    {
      "cell_type": "code",
      "metadata": {
        "id": "ceOotOwsT_Er"
      },
      "source": [
        "#base.sample()"
      ],
      "execution_count": null,
      "outputs": []
    },
    {
      "cell_type": "markdown",
      "metadata": {
        "id": "hCiQYMqPGHuG"
      },
      "source": [
        "#**-Descrição dos dados** IGNORE ESTA CÉLULA"
      ]
    },
    {
      "cell_type": "code",
      "metadata": {
        "id": "xalwLdRSGLRD"
      },
      "source": [
        "#Tendencia central - mean, median\n",
        "ct1 = pd.DataFrame(base.apply(np.mean)).T #T transpondo \n",
        "ct2 = pd.DataFrame(base.apply(np.median)).T\n",
        "#Dispersão - std(desvio padrão), min, max, range\n",
        "d1 = pd.DataFrame(base.apply(np.std)).T\n",
        "d2 = pd.DataFrame(base.apply(min)).T\n",
        "d3 = pd.DataFrame(base.apply(max)).T\n",
        "d4 = pd.DataFrame(base.apply(lambda x: x.max() - x.min())).T\n",
        "#concatenate\n",
        "m = pd.concat([d2,d3,d4,ct1,ct2,d1]).T.reset_index()\n",
        "m.columns = ['attributes','min','max','range', 'mean', 'median', 'std']\n",
        "m"
      ],
      "execution_count": null,
      "outputs": []
    },
    {
      "cell_type": "code",
      "metadata": {
        "colab": {
          "base_uri": "https://localhost:8080/"
        },
        "id": "j62Bj8jOQz_G",
        "outputId": "9e5055ec-b49f-4f7d-e3c1-b3fc2b1dae42"
      },
      "source": [
        "base.shape[0]"
      ],
      "execution_count": null,
      "outputs": [
        {
          "output_type": "execute_result",
          "data": {
            "text/plain": [
              "2478"
            ]
          },
          "metadata": {
            "tags": []
          },
          "execution_count": 20
        }
      ]
    },
    {
      "cell_type": "markdown",
      "metadata": {
        "id": "4IDwP-XV_Ohd"
      },
      "source": [
        "#**4-Treinamento da rede**"
      ]
    },
    {
      "cell_type": "code",
      "metadata": {
        "id": "mpo6RlDsUHNJ"
      },
      "source": [
        "#normalizando a base de dados com o MinMaxScaler\n",
        "base_treinamento = base.iloc[:, 0:6].values\n",
        "normalizador = MinMaxScaler(feature_range=(0,1))\n",
        "base_treinamento_normalizada = normalizador.fit_transform(base_treinamento)"
      ],
      "execution_count": 323,
      "outputs": []
    },
    {
      "cell_type": "code",
      "metadata": {
        "id": "d-LD4OEaUNf7"
      },
      "source": [
        "#Comparando a predição com o preço real\n",
        "previsores = []\n",
        "preco_real = []\n",
        "for i in range(90, 2232):\n",
        "    previsores.append(base_treinamento_normalizada[i-90:i, 0:6])\n",
        "    preco_real.append(base_treinamento_normalizada[i, 0])\n",
        "previsores, preco_real = np.array(previsores), np.array(preco_real)\n"
      ],
      "execution_count": 324,
      "outputs": []
    },
    {
      "cell_type": "code",
      "metadata": {
        "colab": {
          "base_uri": "https://localhost:8080/"
        },
        "id": "ZftXowA9URdt",
        "outputId": "77febbb7-37cd-4244-b15b-27e05b8a6010"
      },
      "source": [
        "#estrutura da rede neural \n",
        "regressor = Sequential()\n",
        "regressor.add(LSTM(units = 100, return_sequences = True, input_shape = (previsores.shape[1], 6)))\n",
        "regressor.add(Dropout(0.3))\n",
        "\n",
        "regressor.add(LSTM(units = 50, return_sequences = True))\n",
        "regressor.add(Dropout(0.3))\n",
        "\n",
        "regressor.add(LSTM(units = 50, return_sequences = True))\n",
        "regressor.add(Dropout(0.3))\n",
        "\n",
        "regressor.add(LSTM(units = 50))\n",
        "regressor.add(Dropout(0.3))\n",
        "\n",
        "regressor.add(Dense(units = 1, activation = 'sigmoid'))\n",
        "\n",
        "es = EarlyStopping(monitor = 'loss', min_delta = 1e-15, patience = 20, verbose = 1)\n",
        "\n",
        "#regressor.compile(optimizer = 'RMSprop', loss = 'mean_squared_error',\n",
        "#                  metrics = ['mean_absolute_error'])\n",
        "opt = tf.keras.optimizers.Adam(amsgrad=True)\n",
        "regressor.compile(optimizer = opt, loss = 'mean_squared_error',\n",
        "                  metrics = ['mean_absolute_error'])\n",
        "#opt = tf.keras.optimizers.RMSprop(centered=True)\n",
        "#regressor.compile(optimizer = opt, loss = 'mean_squared_error',\n",
        "#                 metrics = ['mean_absolute_error'])\n",
        "\n",
        "regressor.fit(previsores, preco_real, epochs = 600, batch_size = 32,\n",
        "              callbacks = [es])\n",
        "#regressor.fit(previsores, preco_real, epochs = 600, batch_size = 32)"
      ],
      "execution_count": 325,
      "outputs": [
        {
          "output_type": "stream",
          "text": [
            "Epoch 1/600\n",
            "67/67 [==============================] - 6s 18ms/step - loss: 0.0301 - mean_absolute_error: 0.1327\n",
            "Epoch 2/600\n",
            "67/67 [==============================] - 1s 16ms/step - loss: 0.0059 - mean_absolute_error: 0.0611\n",
            "Epoch 3/600\n",
            "67/67 [==============================] - 1s 16ms/step - loss: 0.0049 - mean_absolute_error: 0.0555\n",
            "Epoch 4/600\n",
            "67/67 [==============================] - 1s 16ms/step - loss: 0.0040 - mean_absolute_error: 0.0490\n",
            "Epoch 5/600\n",
            "67/67 [==============================] - 1s 16ms/step - loss: 0.0035 - mean_absolute_error: 0.0458\n",
            "Epoch 6/600\n",
            "67/67 [==============================] - 1s 16ms/step - loss: 0.0030 - mean_absolute_error: 0.0427\n",
            "Epoch 7/600\n",
            "67/67 [==============================] - 1s 16ms/step - loss: 0.0029 - mean_absolute_error: 0.0419\n",
            "Epoch 8/600\n",
            "67/67 [==============================] - 1s 16ms/step - loss: 0.0028 - mean_absolute_error: 0.0414\n",
            "Epoch 9/600\n",
            "67/67 [==============================] - 1s 17ms/step - loss: 0.0026 - mean_absolute_error: 0.0393\n",
            "Epoch 10/600\n",
            "67/67 [==============================] - 1s 16ms/step - loss: 0.0027 - mean_absolute_error: 0.0405\n",
            "Epoch 11/600\n",
            "67/67 [==============================] - 1s 16ms/step - loss: 0.0024 - mean_absolute_error: 0.0384\n",
            "Epoch 12/600\n",
            "67/67 [==============================] - 1s 16ms/step - loss: 0.0025 - mean_absolute_error: 0.0375\n",
            "Epoch 13/600\n",
            "67/67 [==============================] - 1s 16ms/step - loss: 0.0023 - mean_absolute_error: 0.0372\n",
            "Epoch 14/600\n",
            "67/67 [==============================] - 1s 16ms/step - loss: 0.0021 - mean_absolute_error: 0.0358\n",
            "Epoch 15/600\n",
            "67/67 [==============================] - 1s 16ms/step - loss: 0.0020 - mean_absolute_error: 0.0345\n",
            "Epoch 16/600\n",
            "67/67 [==============================] - 1s 16ms/step - loss: 0.0021 - mean_absolute_error: 0.0351\n",
            "Epoch 17/600\n",
            "67/67 [==============================] - 1s 16ms/step - loss: 0.0019 - mean_absolute_error: 0.0335\n",
            "Epoch 18/600\n",
            "67/67 [==============================] - 1s 16ms/step - loss: 0.0018 - mean_absolute_error: 0.0327\n",
            "Epoch 19/600\n",
            "67/67 [==============================] - 1s 16ms/step - loss: 0.0019 - mean_absolute_error: 0.0331\n",
            "Epoch 20/600\n",
            "67/67 [==============================] - 1s 16ms/step - loss: 0.0015 - mean_absolute_error: 0.0302\n",
            "Epoch 21/600\n",
            "67/67 [==============================] - 1s 17ms/step - loss: 0.0016 - mean_absolute_error: 0.0310\n",
            "Epoch 22/600\n",
            "67/67 [==============================] - 1s 16ms/step - loss: 0.0015 - mean_absolute_error: 0.0303\n",
            "Epoch 23/600\n",
            "67/67 [==============================] - 1s 16ms/step - loss: 0.0015 - mean_absolute_error: 0.0297\n",
            "Epoch 24/600\n",
            "67/67 [==============================] - 1s 16ms/step - loss: 0.0015 - mean_absolute_error: 0.0297\n",
            "Epoch 25/600\n",
            "67/67 [==============================] - 1s 16ms/step - loss: 0.0014 - mean_absolute_error: 0.0280\n",
            "Epoch 26/600\n",
            "67/67 [==============================] - 1s 16ms/step - loss: 0.0012 - mean_absolute_error: 0.0268\n",
            "Epoch 27/600\n",
            "67/67 [==============================] - 1s 16ms/step - loss: 0.0012 - mean_absolute_error: 0.0259\n",
            "Epoch 28/600\n",
            "67/67 [==============================] - 1s 16ms/step - loss: 0.0012 - mean_absolute_error: 0.0259\n",
            "Epoch 29/600\n",
            "67/67 [==============================] - 1s 16ms/step - loss: 0.0011 - mean_absolute_error: 0.0258\n",
            "Epoch 30/600\n",
            "67/67 [==============================] - 1s 16ms/step - loss: 0.0012 - mean_absolute_error: 0.0268\n",
            "Epoch 31/600\n",
            "67/67 [==============================] - 1s 16ms/step - loss: 0.0011 - mean_absolute_error: 0.0260\n",
            "Epoch 32/600\n",
            "67/67 [==============================] - 1s 16ms/step - loss: 0.0011 - mean_absolute_error: 0.0257\n",
            "Epoch 33/600\n",
            "67/67 [==============================] - 1s 16ms/step - loss: 0.0011 - mean_absolute_error: 0.0251\n",
            "Epoch 34/600\n",
            "67/67 [==============================] - 1s 16ms/step - loss: 0.0011 - mean_absolute_error: 0.0244\n",
            "Epoch 35/600\n",
            "67/67 [==============================] - 1s 16ms/step - loss: 0.0013 - mean_absolute_error: 0.0280\n",
            "Epoch 36/600\n",
            "67/67 [==============================] - 1s 16ms/step - loss: 0.0012 - mean_absolute_error: 0.0248\n",
            "Epoch 37/600\n",
            "67/67 [==============================] - 1s 16ms/step - loss: 0.0011 - mean_absolute_error: 0.0244\n",
            "Epoch 38/600\n",
            "67/67 [==============================] - 1s 16ms/step - loss: 0.0010 - mean_absolute_error: 0.0245\n",
            "Epoch 39/600\n",
            "67/67 [==============================] - 1s 16ms/step - loss: 9.8069e-04 - mean_absolute_error: 0.0240\n",
            "Epoch 40/600\n",
            "67/67 [==============================] - 1s 16ms/step - loss: 9.0518e-04 - mean_absolute_error: 0.0229\n",
            "Epoch 41/600\n",
            "67/67 [==============================] - 1s 16ms/step - loss: 9.0199e-04 - mean_absolute_error: 0.0226\n",
            "Epoch 42/600\n",
            "67/67 [==============================] - 1s 16ms/step - loss: 9.7149e-04 - mean_absolute_error: 0.0240\n",
            "Epoch 43/600\n",
            "67/67 [==============================] - 1s 16ms/step - loss: 8.3178e-04 - mean_absolute_error: 0.0220\n",
            "Epoch 44/600\n",
            "67/67 [==============================] - 1s 16ms/step - loss: 9.4559e-04 - mean_absolute_error: 0.0231\n",
            "Epoch 45/600\n",
            "67/67 [==============================] - 1s 16ms/step - loss: 9.3064e-04 - mean_absolute_error: 0.0229\n",
            "Epoch 46/600\n",
            "67/67 [==============================] - 1s 16ms/step - loss: 8.4180e-04 - mean_absolute_error: 0.0218\n",
            "Epoch 47/600\n",
            "67/67 [==============================] - 1s 16ms/step - loss: 8.8821e-04 - mean_absolute_error: 0.0222\n",
            "Epoch 48/600\n",
            "67/67 [==============================] - 1s 16ms/step - loss: 9.7775e-04 - mean_absolute_error: 0.0232\n",
            "Epoch 49/600\n",
            "67/67 [==============================] - 1s 16ms/step - loss: 8.9825e-04 - mean_absolute_error: 0.0228\n",
            "Epoch 50/600\n",
            "67/67 [==============================] - 1s 16ms/step - loss: 0.0011 - mean_absolute_error: 0.0247\n",
            "Epoch 51/600\n",
            "67/67 [==============================] - 1s 17ms/step - loss: 9.3756e-04 - mean_absolute_error: 0.0229\n",
            "Epoch 52/600\n",
            "67/67 [==============================] - 1s 16ms/step - loss: 8.8923e-04 - mean_absolute_error: 0.0219\n",
            "Epoch 53/600\n",
            "67/67 [==============================] - 1s 16ms/step - loss: 8.1672e-04 - mean_absolute_error: 0.0214\n",
            "Epoch 54/600\n",
            "67/67 [==============================] - 1s 16ms/step - loss: 8.1123e-04 - mean_absolute_error: 0.0219\n",
            "Epoch 55/600\n",
            "67/67 [==============================] - 1s 16ms/step - loss: 8.9840e-04 - mean_absolute_error: 0.0226\n",
            "Epoch 56/600\n",
            "67/67 [==============================] - 1s 16ms/step - loss: 7.5987e-04 - mean_absolute_error: 0.0210\n",
            "Epoch 57/600\n",
            "67/67 [==============================] - 1s 16ms/step - loss: 8.8770e-04 - mean_absolute_error: 0.0226\n",
            "Epoch 58/600\n",
            "67/67 [==============================] - 1s 16ms/step - loss: 7.8454e-04 - mean_absolute_error: 0.0208\n",
            "Epoch 59/600\n",
            "67/67 [==============================] - 1s 16ms/step - loss: 8.4855e-04 - mean_absolute_error: 0.0215\n",
            "Epoch 60/600\n",
            "67/67 [==============================] - 1s 16ms/step - loss: 7.6082e-04 - mean_absolute_error: 0.0210\n",
            "Epoch 61/600\n",
            "67/67 [==============================] - 1s 17ms/step - loss: 8.4094e-04 - mean_absolute_error: 0.0226\n",
            "Epoch 62/600\n",
            "67/67 [==============================] - 1s 16ms/step - loss: 7.9864e-04 - mean_absolute_error: 0.0217\n",
            "Epoch 63/600\n",
            "67/67 [==============================] - 1s 18ms/step - loss: 8.7545e-04 - mean_absolute_error: 0.0230\n",
            "Epoch 64/600\n",
            "67/67 [==============================] - 1s 17ms/step - loss: 8.0279e-04 - mean_absolute_error: 0.0221\n",
            "Epoch 65/600\n",
            "67/67 [==============================] - 1s 16ms/step - loss: 9.6130e-04 - mean_absolute_error: 0.0211\n",
            "Epoch 66/600\n",
            "67/67 [==============================] - 1s 16ms/step - loss: 7.5872e-04 - mean_absolute_error: 0.0207\n",
            "Epoch 67/600\n",
            "67/67 [==============================] - 1s 16ms/step - loss: 8.3287e-04 - mean_absolute_error: 0.0219\n",
            "Epoch 68/600\n",
            "67/67 [==============================] - 1s 16ms/step - loss: 7.4858e-04 - mean_absolute_error: 0.0208\n",
            "Epoch 69/600\n",
            "67/67 [==============================] - 1s 16ms/step - loss: 7.5130e-04 - mean_absolute_error: 0.0210\n",
            "Epoch 70/600\n",
            "67/67 [==============================] - 1s 16ms/step - loss: 7.2636e-04 - mean_absolute_error: 0.0202\n",
            "Epoch 71/600\n",
            "67/67 [==============================] - 1s 16ms/step - loss: 8.3524e-04 - mean_absolute_error: 0.0214\n",
            "Epoch 72/600\n",
            "67/67 [==============================] - 1s 16ms/step - loss: 6.9102e-04 - mean_absolute_error: 0.0202\n",
            "Epoch 73/600\n",
            "67/67 [==============================] - 1s 16ms/step - loss: 7.0965e-04 - mean_absolute_error: 0.0197\n",
            "Epoch 74/600\n",
            "67/67 [==============================] - 1s 16ms/step - loss: 7.6720e-04 - mean_absolute_error: 0.0210\n",
            "Epoch 75/600\n",
            "67/67 [==============================] - 1s 16ms/step - loss: 7.2943e-04 - mean_absolute_error: 0.0196\n",
            "Epoch 76/600\n",
            "67/67 [==============================] - 1s 16ms/step - loss: 8.1641e-04 - mean_absolute_error: 0.0212\n",
            "Epoch 77/600\n",
            "67/67 [==============================] - 1s 16ms/step - loss: 8.6221e-04 - mean_absolute_error: 0.0224\n",
            "Epoch 78/600\n",
            "67/67 [==============================] - 1s 16ms/step - loss: 8.7760e-04 - mean_absolute_error: 0.0223\n",
            "Epoch 79/600\n",
            "67/67 [==============================] - 1s 16ms/step - loss: 7.7287e-04 - mean_absolute_error: 0.0211\n",
            "Epoch 80/600\n",
            "67/67 [==============================] - 1s 16ms/step - loss: 6.9285e-04 - mean_absolute_error: 0.0200\n",
            "Epoch 81/600\n",
            "67/67 [==============================] - 1s 16ms/step - loss: 7.4351e-04 - mean_absolute_error: 0.0206\n",
            "Epoch 82/600\n",
            "67/67 [==============================] - 1s 16ms/step - loss: 7.4662e-04 - mean_absolute_error: 0.0206\n",
            "Epoch 83/600\n",
            "67/67 [==============================] - 1s 16ms/step - loss: 7.3166e-04 - mean_absolute_error: 0.0205\n",
            "Epoch 84/600\n",
            "67/67 [==============================] - 1s 16ms/step - loss: 6.5985e-04 - mean_absolute_error: 0.0199\n",
            "Epoch 85/600\n",
            "67/67 [==============================] - 1s 16ms/step - loss: 8.1717e-04 - mean_absolute_error: 0.0213\n",
            "Epoch 86/600\n",
            "67/67 [==============================] - 1s 16ms/step - loss: 7.3563e-04 - mean_absolute_error: 0.0204\n",
            "Epoch 87/600\n",
            "67/67 [==============================] - 1s 16ms/step - loss: 8.7575e-04 - mean_absolute_error: 0.0217\n",
            "Epoch 88/600\n",
            "67/67 [==============================] - 1s 16ms/step - loss: 7.6078e-04 - mean_absolute_error: 0.0204\n",
            "Epoch 89/600\n",
            "67/67 [==============================] - 1s 16ms/step - loss: 6.3643e-04 - mean_absolute_error: 0.0186\n",
            "Epoch 90/600\n",
            "67/67 [==============================] - 1s 16ms/step - loss: 6.7154e-04 - mean_absolute_error: 0.0196\n",
            "Epoch 91/600\n",
            "67/67 [==============================] - 1s 17ms/step - loss: 6.5230e-04 - mean_absolute_error: 0.0194\n",
            "Epoch 92/600\n",
            "67/67 [==============================] - 1s 16ms/step - loss: 6.9730e-04 - mean_absolute_error: 0.0193\n",
            "Epoch 93/600\n",
            "67/67 [==============================] - 1s 16ms/step - loss: 7.5560e-04 - mean_absolute_error: 0.0205\n",
            "Epoch 94/600\n",
            "67/67 [==============================] - 1s 16ms/step - loss: 6.7052e-04 - mean_absolute_error: 0.0200\n",
            "Epoch 95/600\n",
            "67/67 [==============================] - 1s 16ms/step - loss: 7.1574e-04 - mean_absolute_error: 0.0205\n",
            "Epoch 96/600\n",
            "67/67 [==============================] - 1s 16ms/step - loss: 7.4303e-04 - mean_absolute_error: 0.0201\n",
            "Epoch 97/600\n",
            "67/67 [==============================] - 1s 16ms/step - loss: 7.0218e-04 - mean_absolute_error: 0.0204\n",
            "Epoch 98/600\n",
            "67/67 [==============================] - 1s 16ms/step - loss: 6.8871e-04 - mean_absolute_error: 0.0198\n",
            "Epoch 99/600\n",
            "67/67 [==============================] - 1s 16ms/step - loss: 6.6491e-04 - mean_absolute_error: 0.0196\n",
            "Epoch 100/600\n",
            "67/67 [==============================] - 1s 16ms/step - loss: 7.0656e-04 - mean_absolute_error: 0.0200\n",
            "Epoch 101/600\n",
            "67/67 [==============================] - 1s 16ms/step - loss: 7.3959e-04 - mean_absolute_error: 0.0203\n",
            "Epoch 102/600\n",
            "67/67 [==============================] - 1s 16ms/step - loss: 6.7290e-04 - mean_absolute_error: 0.0195\n",
            "Epoch 103/600\n",
            "67/67 [==============================] - 1s 16ms/step - loss: 7.8574e-04 - mean_absolute_error: 0.0212\n",
            "Epoch 104/600\n",
            "67/67 [==============================] - 1s 16ms/step - loss: 6.6288e-04 - mean_absolute_error: 0.0195\n",
            "Epoch 105/600\n",
            "67/67 [==============================] - 1s 16ms/step - loss: 7.4195e-04 - mean_absolute_error: 0.0206\n",
            "Epoch 106/600\n",
            "67/67 [==============================] - 1s 17ms/step - loss: 6.6978e-04 - mean_absolute_error: 0.0197\n",
            "Epoch 107/600\n",
            "67/67 [==============================] - 1s 17ms/step - loss: 6.5614e-04 - mean_absolute_error: 0.0190\n",
            "Epoch 108/600\n",
            "67/67 [==============================] - 1s 16ms/step - loss: 6.9192e-04 - mean_absolute_error: 0.0195\n",
            "Epoch 109/600\n",
            "67/67 [==============================] - 1s 17ms/step - loss: 7.0908e-04 - mean_absolute_error: 0.0194\n",
            "Epoch 110/600\n",
            "67/67 [==============================] - 1s 16ms/step - loss: 6.6953e-04 - mean_absolute_error: 0.0192\n",
            "Epoch 111/600\n",
            "67/67 [==============================] - 1s 16ms/step - loss: 6.4479e-04 - mean_absolute_error: 0.0194\n",
            "Epoch 112/600\n",
            "67/67 [==============================] - 1s 16ms/step - loss: 7.0742e-04 - mean_absolute_error: 0.0198\n",
            "Epoch 113/600\n",
            "67/67 [==============================] - 1s 16ms/step - loss: 6.7475e-04 - mean_absolute_error: 0.0189\n",
            "Epoch 114/600\n",
            "67/67 [==============================] - 1s 16ms/step - loss: 6.5608e-04 - mean_absolute_error: 0.0197\n",
            "Epoch 115/600\n",
            "67/67 [==============================] - 1s 16ms/step - loss: 6.4830e-04 - mean_absolute_error: 0.0192\n",
            "Epoch 116/600\n",
            "67/67 [==============================] - 1s 16ms/step - loss: 6.3902e-04 - mean_absolute_error: 0.0192\n",
            "Epoch 117/600\n",
            "67/67 [==============================] - 1s 17ms/step - loss: 7.6681e-04 - mean_absolute_error: 0.0200\n",
            "Epoch 118/600\n",
            "67/67 [==============================] - 1s 16ms/step - loss: 6.3860e-04 - mean_absolute_error: 0.0190\n",
            "Epoch 119/600\n",
            "67/67 [==============================] - 1s 16ms/step - loss: 7.5981e-04 - mean_absolute_error: 0.0204\n",
            "Epoch 120/600\n",
            "67/67 [==============================] - 1s 17ms/step - loss: 7.0075e-04 - mean_absolute_error: 0.0191\n",
            "Epoch 121/600\n",
            "67/67 [==============================] - 1s 16ms/step - loss: 7.3582e-04 - mean_absolute_error: 0.0206\n",
            "Epoch 122/600\n",
            "67/67 [==============================] - 1s 16ms/step - loss: 6.3395e-04 - mean_absolute_error: 0.0191\n",
            "Epoch 123/600\n",
            "67/67 [==============================] - 1s 17ms/step - loss: 6.6249e-04 - mean_absolute_error: 0.0193\n",
            "Epoch 124/600\n",
            "67/67 [==============================] - 1s 17ms/step - loss: 5.8480e-04 - mean_absolute_error: 0.0183\n",
            "Epoch 125/600\n",
            "67/67 [==============================] - 1s 16ms/step - loss: 6.7641e-04 - mean_absolute_error: 0.0190\n",
            "Epoch 126/600\n",
            "67/67 [==============================] - 1s 16ms/step - loss: 6.5662e-04 - mean_absolute_error: 0.0198\n",
            "Epoch 127/600\n",
            "67/67 [==============================] - 1s 16ms/step - loss: 6.3817e-04 - mean_absolute_error: 0.0181\n",
            "Epoch 128/600\n",
            "67/67 [==============================] - 1s 17ms/step - loss: 8.9399e-04 - mean_absolute_error: 0.0205\n",
            "Epoch 129/600\n",
            "67/67 [==============================] - 1s 16ms/step - loss: 6.3849e-04 - mean_absolute_error: 0.0191\n",
            "Epoch 130/600\n",
            "67/67 [==============================] - 1s 16ms/step - loss: 8.3044e-04 - mean_absolute_error: 0.0202\n",
            "Epoch 131/600\n",
            "67/67 [==============================] - 1s 17ms/step - loss: 7.1507e-04 - mean_absolute_error: 0.0196\n",
            "Epoch 132/600\n",
            "67/67 [==============================] - 1s 16ms/step - loss: 6.5925e-04 - mean_absolute_error: 0.0186\n",
            "Epoch 133/600\n",
            "67/67 [==============================] - 1s 16ms/step - loss: 6.4102e-04 - mean_absolute_error: 0.0189\n",
            "Epoch 134/600\n",
            "67/67 [==============================] - 1s 16ms/step - loss: 6.3221e-04 - mean_absolute_error: 0.0196\n",
            "Epoch 135/600\n",
            "67/67 [==============================] - 1s 16ms/step - loss: 7.2239e-04 - mean_absolute_error: 0.0199\n",
            "Epoch 136/600\n",
            "67/67 [==============================] - 1s 16ms/step - loss: 6.0805e-04 - mean_absolute_error: 0.0184\n",
            "Epoch 137/600\n",
            "67/67 [==============================] - 1s 17ms/step - loss: 5.9953e-04 - mean_absolute_error: 0.0185\n",
            "Epoch 138/600\n",
            "67/67 [==============================] - 1s 17ms/step - loss: 6.3342e-04 - mean_absolute_error: 0.0184\n",
            "Epoch 139/600\n",
            "67/67 [==============================] - 1s 17ms/step - loss: 6.9517e-04 - mean_absolute_error: 0.0190\n",
            "Epoch 140/600\n",
            "67/67 [==============================] - 1s 16ms/step - loss: 6.3726e-04 - mean_absolute_error: 0.0189\n",
            "Epoch 141/600\n",
            "67/67 [==============================] - 1s 16ms/step - loss: 6.1137e-04 - mean_absolute_error: 0.0189\n",
            "Epoch 142/600\n",
            "67/67 [==============================] - 1s 16ms/step - loss: 5.7657e-04 - mean_absolute_error: 0.0176\n",
            "Epoch 143/600\n",
            "67/67 [==============================] - 1s 16ms/step - loss: 6.2792e-04 - mean_absolute_error: 0.0187\n",
            "Epoch 144/600\n",
            "67/67 [==============================] - 1s 16ms/step - loss: 6.7453e-04 - mean_absolute_error: 0.0197\n",
            "Epoch 145/600\n",
            "67/67 [==============================] - 1s 17ms/step - loss: 6.9197e-04 - mean_absolute_error: 0.0192\n",
            "Epoch 146/600\n",
            "67/67 [==============================] - 1s 16ms/step - loss: 7.2398e-04 - mean_absolute_error: 0.0196\n",
            "Epoch 147/600\n",
            "67/67 [==============================] - 1s 16ms/step - loss: 6.5734e-04 - mean_absolute_error: 0.0195\n",
            "Epoch 00147: early stopping\n"
          ],
          "name": "stdout"
        },
        {
          "output_type": "execute_result",
          "data": {
            "text/plain": [
              "<tensorflow.python.keras.callbacks.History at 0x7fb945b6d3d0>"
            ]
          },
          "metadata": {
            "tags": []
          },
          "execution_count": 325
        }
      ]
    },
    {
      "cell_type": "markdown",
      "metadata": {
        "id": "RtFahmEgGAzZ"
      },
      "source": [
        "#**5-Teste da rede**"
      ]
    },
    {
      "cell_type": "markdown",
      "metadata": {
        "id": "QSWSKW8nqeA0"
      },
      "source": [
        "##**5.1-Importando os dados para teste**"
      ]
    },
    {
      "cell_type": "code",
      "metadata": {
        "id": "4X6-ArtKUdpD"
      },
      "source": [
        "#criando a base de dados teste\n",
        "base_teste = pd.read_csv('MRVE3-teste.csv')\n",
        "base_teste = base_teste.drop('Date', axis = 1)"
      ],
      "execution_count": 326,
      "outputs": []
    },
    {
      "cell_type": "code",
      "metadata": {
        "colab": {
          "base_uri": "https://localhost:8080/",
          "height": 297
        },
        "id": "dXOp2vDcpAvA",
        "outputId": "e843a9a8-fbf8-4a9e-d59b-d2bec4424bed"
      },
      "source": [
        "#valores estatísticos\n",
        "base_teste.describe()"
      ],
      "execution_count": 327,
      "outputs": [
        {
          "output_type": "execute_result",
          "data": {
            "text/html": [
              "<div>\n",
              "<style scoped>\n",
              "    .dataframe tbody tr th:only-of-type {\n",
              "        vertical-align: middle;\n",
              "    }\n",
              "\n",
              "    .dataframe tbody tr th {\n",
              "        vertical-align: top;\n",
              "    }\n",
              "\n",
              "    .dataframe thead th {\n",
              "        text-align: right;\n",
              "    }\n",
              "</style>\n",
              "<table border=\"1\" class=\"dataframe\">\n",
              "  <thead>\n",
              "    <tr style=\"text-align: right;\">\n",
              "      <th></th>\n",
              "      <th>Open</th>\n",
              "      <th>High</th>\n",
              "      <th>Low</th>\n",
              "      <th>Close</th>\n",
              "      <th>Adj Close</th>\n",
              "      <th>Volume</th>\n",
              "    </tr>\n",
              "  </thead>\n",
              "  <tbody>\n",
              "    <tr>\n",
              "      <th>count</th>\n",
              "      <td>247.000000</td>\n",
              "      <td>247.000000</td>\n",
              "      <td>247.000000</td>\n",
              "      <td>247.000000</td>\n",
              "      <td>247.000000</td>\n",
              "      <td>2.470000e+02</td>\n",
              "    </tr>\n",
              "    <tr>\n",
              "      <th>mean</th>\n",
              "      <td>16.921538</td>\n",
              "      <td>17.216154</td>\n",
              "      <td>16.611417</td>\n",
              "      <td>16.922753</td>\n",
              "      <td>15.287639</td>\n",
              "      <td>5.124278e+06</td>\n",
              "    </tr>\n",
              "    <tr>\n",
              "      <th>std</th>\n",
              "      <td>2.473257</td>\n",
              "      <td>2.513617</td>\n",
              "      <td>2.411601</td>\n",
              "      <td>2.470855</td>\n",
              "      <td>2.644206</td>\n",
              "      <td>2.523092e+06</td>\n",
              "    </tr>\n",
              "    <tr>\n",
              "      <th>min</th>\n",
              "      <td>12.390000</td>\n",
              "      <td>12.660000</td>\n",
              "      <td>11.510000</td>\n",
              "      <td>11.540000</td>\n",
              "      <td>10.060345</td>\n",
              "      <td>1.478500e+06</td>\n",
              "    </tr>\n",
              "    <tr>\n",
              "      <th>25%</th>\n",
              "      <td>14.485000</td>\n",
              "      <td>14.660000</td>\n",
              "      <td>14.240000</td>\n",
              "      <td>14.480000</td>\n",
              "      <td>12.623378</td>\n",
              "      <td>3.591750e+06</td>\n",
              "    </tr>\n",
              "    <tr>\n",
              "      <th>50%</th>\n",
              "      <td>17.500000</td>\n",
              "      <td>17.850000</td>\n",
              "      <td>17.200001</td>\n",
              "      <td>17.450001</td>\n",
              "      <td>15.962334</td>\n",
              "      <td>4.461100e+06</td>\n",
              "    </tr>\n",
              "    <tr>\n",
              "      <th>75%</th>\n",
              "      <td>18.745000</td>\n",
              "      <td>19.030000</td>\n",
              "      <td>18.224999</td>\n",
              "      <td>18.700001</td>\n",
              "      <td>17.114864</td>\n",
              "      <td>6.006200e+06</td>\n",
              "    </tr>\n",
              "    <tr>\n",
              "      <th>max</th>\n",
              "      <td>22.379999</td>\n",
              "      <td>22.780001</td>\n",
              "      <td>21.790001</td>\n",
              "      <td>22.639999</td>\n",
              "      <td>21.697758</td>\n",
              "      <td>1.864060e+07</td>\n",
              "    </tr>\n",
              "  </tbody>\n",
              "</table>\n",
              "</div>"
            ],
            "text/plain": [
              "             Open        High         Low       Close   Adj Close        Volume\n",
              "count  247.000000  247.000000  247.000000  247.000000  247.000000  2.470000e+02\n",
              "mean    16.921538   17.216154   16.611417   16.922753   15.287639  5.124278e+06\n",
              "std      2.473257    2.513617    2.411601    2.470855    2.644206  2.523092e+06\n",
              "min     12.390000   12.660000   11.510000   11.540000   10.060345  1.478500e+06\n",
              "25%     14.485000   14.660000   14.240000   14.480000   12.623378  3.591750e+06\n",
              "50%     17.500000   17.850000   17.200001   17.450001   15.962334  4.461100e+06\n",
              "75%     18.745000   19.030000   18.224999   18.700001   17.114864  6.006200e+06\n",
              "max     22.379999   22.780001   21.790001   22.639999   21.697758  1.864060e+07"
            ]
          },
          "metadata": {
            "tags": []
          },
          "execution_count": 327
        }
      ]
    },
    {
      "cell_type": "markdown",
      "metadata": {
        "id": "Cw-NIb9EpatP"
      },
      "source": [
        "##**5.2-Tratando os Valores Faltantes**"
      ]
    },
    {
      "cell_type": "code",
      "metadata": {
        "colab": {
          "base_uri": "https://localhost:8080/"
        },
        "id": "lthEX_TZniHb",
        "outputId": "81b2bd55-85aa-4d87-9f3b-9da4e7e3bbb8"
      },
      "source": [
        "#valores faltantes\n",
        "base_teste.isna().sum()"
      ],
      "execution_count": 328,
      "outputs": [
        {
          "output_type": "execute_result",
          "data": {
            "text/plain": [
              "Open         1\n",
              "High         1\n",
              "Low          1\n",
              "Close        1\n",
              "Adj Close    1\n",
              "Volume       1\n",
              "dtype: int64"
            ]
          },
          "metadata": {
            "tags": []
          },
          "execution_count": 328
        }
      ]
    },
    {
      "cell_type": "code",
      "metadata": {
        "colab": {
          "base_uri": "https://localhost:8080/",
          "height": 80
        },
        "id": "uiH2j_UNpjqk",
        "outputId": "ff2fe99b-9a31-40f9-d4f0-642dd68f0249"
      },
      "source": [
        "#encontrando onde os valores faltantes estão\n",
        "base_teste.loc[pd.isnull(base_teste['Open'])]\n",
        "base_teste.loc[pd.isnull(base_teste['High'])]\n",
        "base_teste.loc[pd.isnull(base_teste['Low'])]\n",
        "base_teste.loc[pd.isnull(base_teste['Close'])]\n",
        "base_teste.loc[pd.isnull(base_teste['Adj Close'])]\n",
        "base_teste.loc[pd.isnull(base_teste['Volume'])]"
      ],
      "execution_count": 329,
      "outputs": [
        {
          "output_type": "execute_result",
          "data": {
            "text/html": [
              "<div>\n",
              "<style scoped>\n",
              "    .dataframe tbody tr th:only-of-type {\n",
              "        vertical-align: middle;\n",
              "    }\n",
              "\n",
              "    .dataframe tbody tr th {\n",
              "        vertical-align: top;\n",
              "    }\n",
              "\n",
              "    .dataframe thead th {\n",
              "        text-align: right;\n",
              "    }\n",
              "</style>\n",
              "<table border=\"1\" class=\"dataframe\">\n",
              "  <thead>\n",
              "    <tr style=\"text-align: right;\">\n",
              "      <th></th>\n",
              "      <th>Open</th>\n",
              "      <th>High</th>\n",
              "      <th>Low</th>\n",
              "      <th>Close</th>\n",
              "      <th>Adj Close</th>\n",
              "      <th>Volume</th>\n",
              "    </tr>\n",
              "  </thead>\n",
              "  <tbody>\n",
              "    <tr>\n",
              "      <th>42</th>\n",
              "      <td>NaN</td>\n",
              "      <td>NaN</td>\n",
              "      <td>NaN</td>\n",
              "      <td>NaN</td>\n",
              "      <td>NaN</td>\n",
              "      <td>NaN</td>\n",
              "    </tr>\n",
              "  </tbody>\n",
              "</table>\n",
              "</div>"
            ],
            "text/plain": [
              "    Open  High  Low  Close  Adj Close  Volume\n",
              "42   NaN   NaN  NaN    NaN        NaN     NaN"
            ]
          },
          "metadata": {
            "tags": []
          },
          "execution_count": 329
        }
      ]
    },
    {
      "cell_type": "code",
      "metadata": {
        "id": "Bbw7axJ75lpn"
      },
      "source": [
        "#preenchendo os valores faltantes com o valor médio\n",
        "imputer = SimpleImputer(missing_values=np.nan, strategy='mean',verbose=0)\n",
        "imputer = imputer.fit(base_teste.iloc[:,0:6])\n",
        "base_teste.iloc[:,0:6] = imputer.transform(base_teste.iloc[:,0:6])"
      ],
      "execution_count": 330,
      "outputs": []
    },
    {
      "cell_type": "code",
      "metadata": {
        "colab": {
          "base_uri": "https://localhost:8080/",
          "height": 49
        },
        "id": "CXAi4QV8pw2x",
        "outputId": "f73f85fa-91df-4286-8aa3-44a566e23aaa"
      },
      "source": [
        "#verificando novamente se ainda temos valores faltantes\n",
        "base_teste.loc[pd.isnull(base_teste['Open'])]\n",
        "base_teste.loc[pd.isnull(base_teste['High'])]\n",
        "base_teste.loc[pd.isnull(base_teste['Low'])]\n",
        "base_teste.loc[pd.isnull(base_teste['Close'])]\n",
        "base_teste.loc[pd.isnull(base_teste['Adj Close'])]\n",
        "base_teste.loc[pd.isnull(base_teste['Volume'])]"
      ],
      "execution_count": 331,
      "outputs": [
        {
          "output_type": "execute_result",
          "data": {
            "text/html": [
              "<div>\n",
              "<style scoped>\n",
              "    .dataframe tbody tr th:only-of-type {\n",
              "        vertical-align: middle;\n",
              "    }\n",
              "\n",
              "    .dataframe tbody tr th {\n",
              "        vertical-align: top;\n",
              "    }\n",
              "\n",
              "    .dataframe thead th {\n",
              "        text-align: right;\n",
              "    }\n",
              "</style>\n",
              "<table border=\"1\" class=\"dataframe\">\n",
              "  <thead>\n",
              "    <tr style=\"text-align: right;\">\n",
              "      <th></th>\n",
              "      <th>Open</th>\n",
              "      <th>High</th>\n",
              "      <th>Low</th>\n",
              "      <th>Close</th>\n",
              "      <th>Adj Close</th>\n",
              "      <th>Volume</th>\n",
              "    </tr>\n",
              "  </thead>\n",
              "  <tbody>\n",
              "  </tbody>\n",
              "</table>\n",
              "</div>"
            ],
            "text/plain": [
              "Empty DataFrame\n",
              "Columns: [Open, High, Low, Close, Adj Close, Volume]\n",
              "Index: []"
            ]
          },
          "metadata": {
            "tags": []
          },
          "execution_count": 331
        }
      ]
    },
    {
      "cell_type": "markdown",
      "metadata": {
        "id": "X1nZpS8Rp2zr"
      },
      "source": [
        "#**5.3-Tratamento dos valores nulos (iguais a 0)**"
      ]
    },
    {
      "cell_type": "code",
      "metadata": {
        "colab": {
          "base_uri": "https://localhost:8080/"
        },
        "id": "XYwer-dip-KB",
        "outputId": "419eb590-21d8-4406-dfb6-fbaa341ae0b9"
      },
      "source": [
        "#valores nulos\n",
        "(base_teste == 0).sum()"
      ],
      "execution_count": 332,
      "outputs": [
        {
          "output_type": "execute_result",
          "data": {
            "text/plain": [
              "Open         0\n",
              "High         0\n",
              "Low          0\n",
              "Close        0\n",
              "Adj Close    0\n",
              "Volume       0\n",
              "dtype: int64"
            ]
          },
          "metadata": {
            "tags": []
          },
          "execution_count": 332
        }
      ]
    },
    {
      "cell_type": "code",
      "metadata": {
        "colab": {
          "base_uri": "https://localhost:8080/",
          "height": 49
        },
        "id": "sFBo6iR5qEpS",
        "outputId": "5f4f5b86-9089-4d71-fc65-59b1873defe5"
      },
      "source": [
        "#Encontrando os valores nulos\n",
        "base_teste.loc[base_teste['Volume'] == 0]"
      ],
      "execution_count": 333,
      "outputs": [
        {
          "output_type": "execute_result",
          "data": {
            "text/html": [
              "<div>\n",
              "<style scoped>\n",
              "    .dataframe tbody tr th:only-of-type {\n",
              "        vertical-align: middle;\n",
              "    }\n",
              "\n",
              "    .dataframe tbody tr th {\n",
              "        vertical-align: top;\n",
              "    }\n",
              "\n",
              "    .dataframe thead th {\n",
              "        text-align: right;\n",
              "    }\n",
              "</style>\n",
              "<table border=\"1\" class=\"dataframe\">\n",
              "  <thead>\n",
              "    <tr style=\"text-align: right;\">\n",
              "      <th></th>\n",
              "      <th>Open</th>\n",
              "      <th>High</th>\n",
              "      <th>Low</th>\n",
              "      <th>Close</th>\n",
              "      <th>Adj Close</th>\n",
              "      <th>Volume</th>\n",
              "    </tr>\n",
              "  </thead>\n",
              "  <tbody>\n",
              "  </tbody>\n",
              "</table>\n",
              "</div>"
            ],
            "text/plain": [
              "Empty DataFrame\n",
              "Columns: [Open, High, Low, Close, Adj Close, Volume]\n",
              "Index: []"
            ]
          },
          "metadata": {
            "tags": []
          },
          "execution_count": 333
        }
      ]
    },
    {
      "cell_type": "code",
      "metadata": {
        "id": "ofkU-XjcqOQE"
      },
      "source": [
        "#preenchendo os valores nulos com o valor médio\n",
        "imputer = SimpleImputer(missing_values=0, strategy='mean',verbose=0)\n",
        "imputer = imputer.fit(base_teste.iloc[:,0:6])\n",
        "base_teste.iloc[:,0:6] = imputer.transform(base_teste.iloc[:,0:6])"
      ],
      "execution_count": 159,
      "outputs": []
    },
    {
      "cell_type": "code",
      "metadata": {
        "id": "pYUeIwbnppRT"
      },
      "source": [
        "#Verificando novamente se tem valores nulos\n",
        "base_teste.loc[base_teste['Volume'] == 0]"
      ],
      "execution_count": null,
      "outputs": []
    },
    {
      "cell_type": "markdown",
      "metadata": {
        "id": "N79Bjk6Yq6ci"
      },
      "source": [
        "##**5.4-Preparando a estrutura para teste**"
      ]
    },
    {
      "cell_type": "code",
      "metadata": {
        "id": "UFINH9OzUfDk"
      },
      "source": [
        "#concatenando a base de dados teste com o base de treinamento\n",
        "preco_real_teste = base_teste.iloc[:, 3:4].values\n",
        "frames = [base, base_teste]\n",
        "base_completa = pd.concat(frames)"
      ],
      "execution_count": 334,
      "outputs": []
    },
    {
      "cell_type": "code",
      "metadata": {
        "id": "-CdLW8IZUhLY"
      },
      "source": [
        "#pegando os 90 registros anteriores para percorrer a base teste e colocando no\n",
        "#no formato np.array\n",
        "entradas = base_completa[len(base_completa) - len(base_teste) - 90:].values\n",
        "entradas = normalizador.transform(entradas)\n",
        "Percorrer_teste = []\n",
        "for i in range(90, 338): \n",
        "    Percorrer_teste.append(entradas[i-90:i, 0:6])\n",
        "Percorrer_teste = np.array(Percorrer_teste)"
      ],
      "execution_count": 335,
      "outputs": []
    },
    {
      "cell_type": "code",
      "metadata": {
        "id": "_YdD2ZcaUi1w"
      },
      "source": [
        "#resultado da predição no formato MinMaxScaler\n",
        "previsoes = regressor.predict(Percorrer_teste)"
      ],
      "execution_count": 336,
      "outputs": []
    },
    {
      "cell_type": "code",
      "metadata": {
        "colab": {
          "base_uri": "https://localhost:8080/"
        },
        "id": "jQS0Ql4tUk2Z",
        "outputId": "f681302f-9f78-4620-82c2-20658440f95c"
      },
      "source": [
        "#convertendo para a escala MinMaxScaler \n",
        "normalizador_previsao = MinMaxScaler(feature_range=(0,1))\n",
        "normalizador_previsao.fit_transform(base_treinamento[:,3:4])"
      ],
      "execution_count": 337,
      "outputs": [
        {
          "output_type": "execute_result",
          "data": {
            "text/plain": [
              "array([[0.62857138],\n",
              "       [0.61387753],\n",
              "       [0.632653  ],\n",
              "       ...,\n",
              "       [0.55582434],\n",
              "       [0.59533408],\n",
              "       [0.6159869 ]])"
            ]
          },
          "metadata": {
            "tags": []
          },
          "execution_count": 337
        }
      ]
    },
    {
      "cell_type": "code",
      "metadata": {
        "id": "MP_GBjYJUnFe",
        "colab": {
          "base_uri": "https://localhost:8080/"
        },
        "outputId": "eb440ae9-cb84-45d1-cb2f-2d2bd2762cc4"
      },
      "source": [
        "#colocando a previsão no formato original para preparar a visualização no gráfico\n",
        "previsoes = normalizador_previsao.inverse_transform(previsoes)\n",
        "previsoes"
      ],
      "execution_count": 338,
      "outputs": [
        {
          "output_type": "execute_result",
          "data": {
            "text/plain": [
              "array([[12.199219 ],\n",
              "       [12.5271   ],\n",
              "       [12.461068 ],\n",
              "       [12.35407  ],\n",
              "       [12.456382 ],\n",
              "       [12.874944 ],\n",
              "       [13.366104 ],\n",
              "       [13.262272 ],\n",
              "       [13.245012 ],\n",
              "       [13.776817 ],\n",
              "       [13.70304  ],\n",
              "       [13.642119 ],\n",
              "       [13.353872 ],\n",
              "       [12.357729 ],\n",
              "       [13.923749 ],\n",
              "       [13.767881 ],\n",
              "       [14.346835 ],\n",
              "       [14.6682   ],\n",
              "       [15.079967 ],\n",
              "       [14.879347 ],\n",
              "       [14.826742 ],\n",
              "       [14.95166  ],\n",
              "       [14.748533 ],\n",
              "       [14.672677 ],\n",
              "       [14.80477  ],\n",
              "       [14.439821 ],\n",
              "       [14.287415 ],\n",
              "       [14.3741   ],\n",
              "       [14.356706 ],\n",
              "       [14.163168 ],\n",
              "       [13.963656 ],\n",
              "       [14.18806  ],\n",
              "       [13.857218 ],\n",
              "       [14.038782 ],\n",
              "       [13.962163 ],\n",
              "       [13.659709 ],\n",
              "       [13.697593 ],\n",
              "       [13.624573 ],\n",
              "       [13.719583 ],\n",
              "       [13.321633 ],\n",
              "       [13.474364 ],\n",
              "       [13.398198 ],\n",
              "       [13.701544 ],\n",
              "       [15.459997 ],\n",
              "       [14.885157 ],\n",
              "       [14.949209 ],\n",
              "       [14.558719 ],\n",
              "       [14.553918 ],\n",
              "       [14.615118 ],\n",
              "       [14.451521 ],\n",
              "       [14.344192 ],\n",
              "       [14.395064 ],\n",
              "       [14.416022 ],\n",
              "       [14.151753 ],\n",
              "       [13.833947 ],\n",
              "       [13.386397 ],\n",
              "       [13.318125 ],\n",
              "       [13.728969 ],\n",
              "       [13.28964  ],\n",
              "       [13.596049 ],\n",
              "       [13.721935 ],\n",
              "       [13.910868 ],\n",
              "       [13.809872 ],\n",
              "       [13.648253 ],\n",
              "       [13.806828 ],\n",
              "       [14.03502  ],\n",
              "       [13.866245 ],\n",
              "       [13.7538805],\n",
              "       [13.958152 ],\n",
              "       [13.565612 ],\n",
              "       [13.398583 ],\n",
              "       [13.493861 ],\n",
              "       [13.53846  ],\n",
              "       [13.830701 ],\n",
              "       [14.139966 ],\n",
              "       [14.3665495],\n",
              "       [14.5690565],\n",
              "       [14.222118 ],\n",
              "       [14.415798 ],\n",
              "       [14.381205 ],\n",
              "       [14.604424 ],\n",
              "       [14.478955 ],\n",
              "       [14.253701 ],\n",
              "       [14.411789 ],\n",
              "       [14.344079 ],\n",
              "       [14.598852 ],\n",
              "       [14.781205 ],\n",
              "       [15.292885 ],\n",
              "       [15.344411 ],\n",
              "       [15.291042 ],\n",
              "       [15.431752 ],\n",
              "       [15.321025 ],\n",
              "       [14.989409 ],\n",
              "       [14.896195 ],\n",
              "       [15.351536 ],\n",
              "       [15.59695  ],\n",
              "       [15.729126 ],\n",
              "       [15.738658 ],\n",
              "       [15.741825 ],\n",
              "       [16.02622  ],\n",
              "       [16.197159 ],\n",
              "       [16.237537 ],\n",
              "       [16.229853 ],\n",
              "       [16.283817 ],\n",
              "       [16.120121 ],\n",
              "       [16.203358 ],\n",
              "       [16.224499 ],\n",
              "       [16.32585  ],\n",
              "       [16.3834   ],\n",
              "       [16.353104 ],\n",
              "       [16.364445 ],\n",
              "       [16.272034 ],\n",
              "       [16.28892  ],\n",
              "       [16.348362 ],\n",
              "       [16.404697 ],\n",
              "       [16.478775 ],\n",
              "       [16.50106  ],\n",
              "       [16.52966  ],\n",
              "       [16.558474 ],\n",
              "       [16.55335  ],\n",
              "       [16.557146 ],\n",
              "       [16.56579  ],\n",
              "       [16.565931 ],\n",
              "       [16.571709 ],\n",
              "       [16.56427  ],\n",
              "       [16.568304 ],\n",
              "       [16.559875 ],\n",
              "       [16.568956 ],\n",
              "       [16.570078 ],\n",
              "       [16.579664 ],\n",
              "       [16.584215 ],\n",
              "       [16.581793 ],\n",
              "       [16.577023 ],\n",
              "       [16.575659 ],\n",
              "       [16.575068 ],\n",
              "       [16.571344 ],\n",
              "       [16.57253  ],\n",
              "       [16.54982  ],\n",
              "       [16.551146 ],\n",
              "       [16.548653 ],\n",
              "       [16.540596 ],\n",
              "       [16.55091  ],\n",
              "       [16.567047 ],\n",
              "       [16.570856 ],\n",
              "       [16.582788 ],\n",
              "       [16.584724 ],\n",
              "       [16.592602 ],\n",
              "       [16.591755 ],\n",
              "       [16.591442 ],\n",
              "       [16.596502 ],\n",
              "       [16.595274 ],\n",
              "       [16.601208 ],\n",
              "       [16.595894 ],\n",
              "       [16.600018 ],\n",
              "       [16.591946 ],\n",
              "       [16.578571 ],\n",
              "       [16.557505 ],\n",
              "       [16.535583 ],\n",
              "       [16.49608  ],\n",
              "       [16.517654 ],\n",
              "       [16.549877 ],\n",
              "       [16.533642 ],\n",
              "       [16.479383 ],\n",
              "       [16.4873   ],\n",
              "       [16.485949 ],\n",
              "       [16.513586 ],\n",
              "       [16.555157 ],\n",
              "       [16.558863 ],\n",
              "       [16.560926 ],\n",
              "       [16.485136 ],\n",
              "       [16.470785 ],\n",
              "       [16.402472 ],\n",
              "       [16.28329  ],\n",
              "       [16.226442 ],\n",
              "       [16.40087  ],\n",
              "       [16.431444 ],\n",
              "       [16.423536 ],\n",
              "       [16.396967 ],\n",
              "       [16.461735 ],\n",
              "       [16.464493 ],\n",
              "       [16.479256 ],\n",
              "       [16.50298  ],\n",
              "       [16.486109 ],\n",
              "       [16.46685  ],\n",
              "       [16.405333 ],\n",
              "       [16.421448 ],\n",
              "       [16.433666 ],\n",
              "       [16.434523 ],\n",
              "       [16.46756  ],\n",
              "       [16.440203 ],\n",
              "       [16.453775 ],\n",
              "       [16.485369 ],\n",
              "       [16.434168 ],\n",
              "       [16.405388 ],\n",
              "       [16.447777 ],\n",
              "       [16.465908 ],\n",
              "       [16.468714 ],\n",
              "       [16.474447 ],\n",
              "       [16.416819 ],\n",
              "       [16.399359 ],\n",
              "       [16.40438  ],\n",
              "       [16.415503 ],\n",
              "       [16.433933 ],\n",
              "       [16.458103 ],\n",
              "       [16.441383 ],\n",
              "       [16.386112 ],\n",
              "       [16.389893 ],\n",
              "       [16.40003  ],\n",
              "       [16.451231 ],\n",
              "       [16.47704  ],\n",
              "       [16.435127 ],\n",
              "       [16.470465 ],\n",
              "       [16.528246 ],\n",
              "       [16.534662 ],\n",
              "       [16.536217 ],\n",
              "       [16.537868 ],\n",
              "       [16.502478 ],\n",
              "       [16.476847 ],\n",
              "       [16.442137 ],\n",
              "       [16.413063 ],\n",
              "       [16.240164 ],\n",
              "       [16.230915 ],\n",
              "       [16.288383 ],\n",
              "       [16.365568 ],\n",
              "       [16.460255 ],\n",
              "       [16.48924  ],\n",
              "       [16.489443 ],\n",
              "       [16.4271   ],\n",
              "       [16.42993  ],\n",
              "       [16.429216 ],\n",
              "       [16.407713 ],\n",
              "       [16.48649  ],\n",
              "       [16.516062 ],\n",
              "       [16.51486  ],\n",
              "       [16.544989 ],\n",
              "       [16.561327 ],\n",
              "       [16.565668 ],\n",
              "       [16.574644 ],\n",
              "       [16.579857 ],\n",
              "       [16.590237 ],\n",
              "       [16.594208 ],\n",
              "       [16.597208 ],\n",
              "       [16.598158 ],\n",
              "       [16.598705 ],\n",
              "       [16.6008   ],\n",
              "       [16.598131 ],\n",
              "       [16.599009 ],\n",
              "       [16.59844  ]], dtype=float32)"
            ]
          },
          "metadata": {
            "tags": []
          },
          "execution_count": 338
        }
      ]
    },
    {
      "cell_type": "markdown",
      "metadata": {
        "id": "lEjN0sRdrGmK"
      },
      "source": [
        "##**6-Análise dos resuldatos**"
      ]
    },
    {
      "cell_type": "code",
      "metadata": {
        "id": "beWuUgy2Uoe_",
        "colab": {
          "base_uri": "https://localhost:8080/",
          "height": 485
        },
        "outputId": "8491f64e-6fc4-4e0b-c14a-6ccef6b70113"
      },
      "source": [
        "#Visualizando o gráfico da Previsão da rede\n",
        "plt.plot(preco_real_teste, color = 'red', label = 'Preço real')\n",
        "plt.plot(previsoes, color = 'blue', label = 'Previsões')\n",
        "plt.title('Previsão do preço das ações')\n",
        "plt.xlabel('Tempo em dias')\n",
        "plt.ylabel('Preço das ações')\n",
        "plt.legend()\n",
        "plt.show()"
      ],
      "execution_count": 339,
      "outputs": [
        {
          "output_type": "display_data",
          "data": {
            "image/png": "[encoded data removed]",
            "text/plain": [
              "<Figure size 1800x864 with 1 Axes>"
            ]
          },
          "metadata": {
            "tags": []
          }
        }
      ]
    },
    {
      "cell_type": "code",
      "metadata": {
        "id": "hKA0-lbgUtH-",
        "colab": {
          "base_uri": "https://localhost:8080/",
          "height": 297
        },
        "outputId": "3e86a015-5c0d-4b18-e414-918fec45d471"
      },
      "source": [
        "#estatísticas do preço real comparado com a previsão\n",
        "df1 = pd.DataFrame(preco_real_teste).T\n",
        "df2 = pd.DataFrame(previsoes).T\n",
        "\n",
        "df3 = pd.concat([df1,df2]).T\n",
        "df3.columns = ['Preco real', 'Previsoes']\n",
        "df3.describe()"
      ],
      "execution_count": 341,
      "outputs": [
        {
          "output_type": "execute_result",
          "data": {
            "text/html": [
              "<div>\n",
              "<style scoped>\n",
              "    .dataframe tbody tr th:only-of-type {\n",
              "        vertical-align: middle;\n",
              "    }\n",
              "\n",
              "    .dataframe tbody tr th {\n",
              "        vertical-align: top;\n",
              "    }\n",
              "\n",
              "    .dataframe thead th {\n",
              "        text-align: right;\n",
              "    }\n",
              "</style>\n",
              "<table border=\"1\" class=\"dataframe\">\n",
              "  <thead>\n",
              "    <tr style=\"text-align: right;\">\n",
              "      <th></th>\n",
              "      <th>Preco real</th>\n",
              "      <th>Previsoes</th>\n",
              "    </tr>\n",
              "  </thead>\n",
              "  <tbody>\n",
              "    <tr>\n",
              "      <th>count</th>\n",
              "      <td>248.000000</td>\n",
              "      <td>248.000000</td>\n",
              "    </tr>\n",
              "    <tr>\n",
              "      <th>mean</th>\n",
              "      <td>16.922753</td>\n",
              "      <td>15.540317</td>\n",
              "    </tr>\n",
              "    <tr>\n",
              "      <th>std</th>\n",
              "      <td>2.465849</td>\n",
              "      <td>1.255854</td>\n",
              "    </tr>\n",
              "    <tr>\n",
              "      <th>min</th>\n",
              "      <td>11.540000</td>\n",
              "      <td>12.199219</td>\n",
              "    </tr>\n",
              "    <tr>\n",
              "      <th>25%</th>\n",
              "      <td>14.480000</td>\n",
              "      <td>14.391599</td>\n",
              "    </tr>\n",
              "    <tr>\n",
              "      <th>50%</th>\n",
              "      <td>17.450001</td>\n",
              "      <td>16.399694</td>\n",
              "    </tr>\n",
              "    <tr>\n",
              "      <th>75%</th>\n",
              "      <td>18.700001</td>\n",
              "      <td>16.530655</td>\n",
              "    </tr>\n",
              "    <tr>\n",
              "      <th>max</th>\n",
              "      <td>22.639999</td>\n",
              "      <td>16.601208</td>\n",
              "    </tr>\n",
              "  </tbody>\n",
              "</table>\n",
              "</div>"
            ],
            "text/plain": [
              "       Preco real   Previsoes\n",
              "count  248.000000  248.000000\n",
              "mean    16.922753   15.540317\n",
              "std      2.465849    1.255854\n",
              "min     11.540000   12.199219\n",
              "25%     14.480000   14.391599\n",
              "50%     17.450001   16.399694\n",
              "75%     18.700001   16.530655\n",
              "max     22.639999   16.601208"
            ]
          },
          "metadata": {
            "tags": []
          },
          "execution_count": 341
        }
      ]
    },
    {
      "cell_type": "code",
      "metadata": {
        "id": "ZjIrFF8Y_M9N"
      },
      "source": [
        "#df2 = pd.DataFrame(previsoes)\n",
        "#df2.describe()"
      ],
      "execution_count": null,
      "outputs": []
    },
    {
      "cell_type": "code",
      "metadata": {
        "id": "TKfgSJAIV5a_"
      },
      "source": [
        "#df1 = pd.DataFrame(preco_real_teste)\n",
        "#df1.describe()"
      ],
      "execution_count": null,
      "outputs": []
    }
  ]
}