{
  "nbformat": 4,
  "nbformat_minor": 0,
  "metadata": {
    "colab": {
      "name": "stock-market-prediction.ipynb",
      "provenance": [],
      "collapsed_sections": [
        "UiXZAchqFuC-",
        "SuPg1RFvQyMS",
        "8MLClRMWPwTL",
        "hCiQYMqPGHuG",
        "4IDwP-XV_Ohd",
        "RtFahmEgGAzZ"
      ],
      "toc_visible": true,
      "authorship_tag": "ABX9TyNzYrgOwkQQRvN9/atoFa4k",
      "include_colab_link": true
    },
    "kernelspec": {
      "name": "python3",
      "display_name": "Python 3"
    },
    "accelerator": "GPU"
  },
  "cells": [
    {
      "cell_type": "markdown",
      "metadata": {
        "id": "view-in-github",
        "colab_type": "text"
      },
      "source": [
        "<a href=\"https://colab.research.google.com/github/claubermartins/Stock-market-prediction/blob/main/stock_market_prediction-mrv.ipynb\" target=\"_parent\"><img src=\"https://colab.research.google.com/assets/colab-badge.svg\" alt=\"Open In Colab\"/></a>"
      ]
    },
    {
      "cell_type": "code",
      "metadata": {
        "colab": {
          "base_uri": "https://localhost:8080/"
        },
        "id": "XjlKRgiDRdpq",
        "outputId": "12900346-e173-41d8-d50f-f8b1983f2b08"
      },
      "source": [
        "pip install inflection"
      ],
      "execution_count": 1,
      "outputs": [
        {
          "output_type": "stream",
          "name": "stdout",
          "text": [
            "Collecting inflection\n",
            "  Downloading inflection-0.5.1-py2.py3-none-any.whl (9.5 kB)\n",
            "Installing collected packages: inflection\n",
            "Successfully installed inflection-0.5.1\n"
          ]
        }
      ]
    },
    {
      "cell_type": "markdown",
      "metadata": {
        "id": "UiXZAchqFuC-"
      },
      "source": [
        "#**1-Importando bibliotecas**"
      ]
    },
    {
      "cell_type": "code",
      "metadata": {
        "id": "ZjQg-8c_--wP"
      },
      "source": [
        "from tensorflow.keras.models import Sequential \n",
        "from tensorflow.keras.layers import Dense, Dropout, LSTM\n",
        "from tensorflow.keras.callbacks import EarlyStopping \n",
        "from sklearn.preprocessing import MinMaxScaler\n",
        "from sklearn.impute import SimpleImputer\n",
        "import numpy as np\n",
        "import pandas as pd\n",
        "import matplotlib.pyplot as plt\n",
        "import tensorflow as tf\n",
        "import math\n",
        "import seaborn as sns\n",
        "import datetime\n",
        "import inflection\n",
        "from IPython.core.display import HTML"
      ],
      "execution_count": 2,
      "outputs": []
    },
    {
      "cell_type": "markdown",
      "metadata": {
        "id": "SuPg1RFvQyMS"
      },
      "source": [
        "#**2-Funções auxiliares para o Jupyter Notebook**"
      ]
    },
    {
      "cell_type": "code",
      "metadata": {
        "id": "2vKvPdvDPJHc"
      },
      "source": [
        "def jupyter_settings():\n",
        "    %matplotlib inline\n",
        "    %pylab inline\n",
        "    \n",
        "    plt.style.use( 'bmh' )\n",
        "    plt.rcParams['figure.figsize'] = [25, 12]\n",
        "    plt.rcParams['font.size'] = 24\n",
        "    \n",
        "    display( HTML( '<style>.container { width:100% !important; }</style>') )\n",
        "    pd.options.display.max_columns = None\n",
        "    pd.options.display.max_rows = None\n",
        "    pd.set_option( 'display.expand_frame_repr', False )\n",
        "    \n",
        "    sns.set()"
      ],
      "execution_count": 3,
      "outputs": []
    },
    {
      "cell_type": "code",
      "metadata": {
        "colab": {
          "base_uri": "https://localhost:8080/",
          "height": 34
        },
        "id": "PGJn-AaoMxuy",
        "outputId": "8f8a4086-c210-45b6-856e-fb905b02d6b4"
      },
      "source": [
        "jupyter_settings()"
      ],
      "execution_count": 4,
      "outputs": [
        {
          "output_type": "stream",
          "name": "stdout",
          "text": [
            "Populating the interactive namespace from numpy and matplotlib\n"
          ]
        },
        {
          "output_type": "display_data",
          "data": {
            "text/html": [
              "<style>.container { width:100% !important; }</style>"
            ],
            "text/plain": [
              "<IPython.core.display.HTML object>"
            ]
          },
          "metadata": {}
        }
      ]
    },
    {
      "cell_type": "markdown",
      "metadata": {
        "id": "c_3core8Shq6"
      },
      "source": [
        "##**2.1Método de importação de arquivos do Google Colab**"
      ]
    },
    {
      "cell_type": "code",
      "metadata": {
        "id": "cTk_YEVdyms3",
        "colab": {
          "resources": {
            "http://localhost:8080/nbextensions/google.colab/files.js": {
              "data": "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",
              "ok": true,
              "headers": [
                [
                  "content-type",
                  "application/javascript"
                ]
              ],
              "status": 200,
              "status_text": ""
            }
          },
          "base_uri": "https://localhost:8080/",
          "height": 157
        },
        "outputId": "5e218944-c567-46c6-ead3-01df60a0adb3"
      },
      "source": [
        "from google.colab import files\n",
        "upload = files.upload()\n",
        "print(\"downloaded files: \")\n",
        "print(*upload, sep = \"\\n\")"
      ],
      "execution_count": 5,
      "outputs": [
        {
          "output_type": "display_data",
          "data": {
            "text/html": [
              "\n",
              "     <input type=\"file\" id=\"files-34559e97-ac87-40d8-8360-9179f45b8bd9\" name=\"files[]\" multiple disabled\n",
              "        style=\"border:none\" />\n",
              "     <output id=\"result-34559e97-ac87-40d8-8360-9179f45b8bd9\">\n",
              "      Upload widget is only available when the cell has been executed in the\n",
              "      current browser session. Please rerun this cell to enable.\n",
              "      </output>\n",
              "      <script src=\"/nbextensions/google.colab/files.js\"></script> "
            ],
            "text/plain": [
              "<IPython.core.display.HTML object>"
            ]
          },
          "metadata": {}
        },
        {
          "output_type": "stream",
          "name": "stdout",
          "text": [
            "Saving MRVE3-teste.csv to MRVE3-teste.csv\n",
            "Saving MRVE3-treinamento.csv to MRVE3-treinamento.csv\n",
            "downloaded files: \n",
            "MRVE3-teste.csv\n",
            "MRVE3-treinamento.csv\n"
          ]
        }
      ]
    },
    {
      "cell_type": "markdown",
      "metadata": {
        "id": "8MLClRMWPwTL"
      },
      "source": [
        "#**3-Tratamento dos dados**"
      ]
    },
    {
      "cell_type": "markdown",
      "metadata": {
        "id": "DOJanakhS-s2"
      },
      "source": [
        "##**3.1-Importando os dados**"
      ]
    },
    {
      "cell_type": "code",
      "metadata": {
        "id": "vYFCwA5GTB2j"
      },
      "source": [
        "base = pd.read_csv('MRVE3-treinamento.csv')\n",
        "base = base.drop('Date', axis = 1)"
      ],
      "execution_count": 9,
      "outputs": []
    },
    {
      "cell_type": "code",
      "metadata": {
        "colab": {
          "base_uri": "https://localhost:8080/",
          "height": 297
        },
        "id": "SD9oSvK-NE0Y",
        "outputId": "6f4a77c9-0927-4b6c-a3be-8e01a99f5ce7"
      },
      "source": [
        "#valores estatísticos\n",
        "base.describe()"
      ],
      "execution_count": 10,
      "outputs": [
        {
          "output_type": "execute_result",
          "data": {
            "text/html": [
              "<div>\n",
              "<style scoped>\n",
              "    .dataframe tbody tr th:only-of-type {\n",
              "        vertical-align: middle;\n",
              "    }\n",
              "\n",
              "    .dataframe tbody tr th {\n",
              "        vertical-align: top;\n",
              "    }\n",
              "\n",
              "    .dataframe thead th {\n",
              "        text-align: right;\n",
              "    }\n",
              "</style>\n",
              "<table border=\"1\" class=\"dataframe\">\n",
              "  <thead>\n",
              "    <tr style=\"text-align: right;\">\n",
              "      <th></th>\n",
              "      <th>Open</th>\n",
              "      <th>High</th>\n",
              "      <th>Low</th>\n",
              "      <th>Close</th>\n",
              "      <th>Adj Close</th>\n",
              "      <th>Volume</th>\n",
              "      <th>media_movel</th>\n",
              "    </tr>\n",
              "  </thead>\n",
              "  <tbody>\n",
              "    <tr>\n",
              "      <th>count</th>\n",
              "      <td>2231.000000</td>\n",
              "      <td>2231.000000</td>\n",
              "      <td>2231.000000</td>\n",
              "      <td>2231.000000</td>\n",
              "      <td>2231.000000</td>\n",
              "      <td>2.231000e+03</td>\n",
              "      <td>2231.000000</td>\n",
              "    </tr>\n",
              "    <tr>\n",
              "      <th>mean</th>\n",
              "      <td>10.283918</td>\n",
              "      <td>10.469918</td>\n",
              "      <td>10.090187</td>\n",
              "      <td>10.274600</td>\n",
              "      <td>7.154917</td>\n",
              "      <td>4.074749e+06</td>\n",
              "      <td>10.284116</td>\n",
              "    </tr>\n",
              "    <tr>\n",
              "      <th>std</th>\n",
              "      <td>2.559057</td>\n",
              "      <td>2.579387</td>\n",
              "      <td>2.523019</td>\n",
              "      <td>2.551348</td>\n",
              "      <td>2.040824</td>\n",
              "      <td>2.699636e+06</td>\n",
              "      <td>2.552865</td>\n",
              "    </tr>\n",
              "    <tr>\n",
              "      <th>min</th>\n",
              "      <td>5.500065</td>\n",
              "      <td>5.590975</td>\n",
              "      <td>5.372790</td>\n",
              "      <td>5.500065</td>\n",
              "      <td>3.675109</td>\n",
              "      <td>0.000000e+00</td>\n",
              "      <td>5.587945</td>\n",
              "    </tr>\n",
              "    <tr>\n",
              "      <th>25%</th>\n",
              "      <td>7.841001</td>\n",
              "      <td>7.986458</td>\n",
              "      <td>7.681908</td>\n",
              "      <td>7.818274</td>\n",
              "      <td>5.337414</td>\n",
              "      <td>2.459295e+06</td>\n",
              "      <td>7.827365</td>\n",
              "    </tr>\n",
              "    <tr>\n",
              "      <th>50%</th>\n",
              "      <td>10.691035</td>\n",
              "      <td>10.881946</td>\n",
              "      <td>10.481942</td>\n",
              "      <td>10.691035</td>\n",
              "      <td>6.869619</td>\n",
              "      <td>3.558457e+06</td>\n",
              "      <td>10.681944</td>\n",
              "    </tr>\n",
              "    <tr>\n",
              "      <th>75%</th>\n",
              "      <td>12.231962</td>\n",
              "      <td>12.409237</td>\n",
              "      <td>12.018323</td>\n",
              "      <td>12.227417</td>\n",
              "      <td>8.821945</td>\n",
              "      <td>5.068960e+06</td>\n",
              "      <td>12.227417</td>\n",
              "    </tr>\n",
              "    <tr>\n",
              "      <th>max</th>\n",
              "      <td>16.636560</td>\n",
              "      <td>16.982018</td>\n",
              "      <td>16.591105</td>\n",
              "      <td>16.636560</td>\n",
              "      <td>12.112385</td>\n",
              "      <td>4.379862e+07</td>\n",
              "      <td>16.415345</td>\n",
              "    </tr>\n",
              "  </tbody>\n",
              "</table>\n",
              "</div>"
            ],
            "text/plain": [
              "              Open         High          Low        Close    Adj Close        Volume  media_movel\n",
              "count  2231.000000  2231.000000  2231.000000  2231.000000  2231.000000  2.231000e+03  2231.000000\n",
              "mean     10.283918    10.469918    10.090187    10.274600     7.154917  4.074749e+06    10.284116\n",
              "std       2.559057     2.579387     2.523019     2.551348     2.040824  2.699636e+06     2.552865\n",
              "min       5.500065     5.590975     5.372790     5.500065     3.675109  0.000000e+00     5.587945\n",
              "25%       7.841001     7.986458     7.681908     7.818274     5.337414  2.459295e+06     7.827365\n",
              "50%      10.691035    10.881946    10.481942    10.691035     6.869619  3.558457e+06    10.681944\n",
              "75%      12.231962    12.409237    12.018323    12.227417     8.821945  5.068960e+06    12.227417\n",
              "max      16.636560    16.982018    16.591105    16.636560    12.112385  4.379862e+07    16.415345"
            ]
          },
          "metadata": {},
          "execution_count": 10
        }
      ]
    },
    {
      "cell_type": "code",
      "metadata": {
        "colab": {
          "base_uri": "https://localhost:8080/"
        },
        "id": "fbKUPwPSNJqm",
        "outputId": "072a270c-6f34-42db-e7c8-d0ef0411d0f6"
      },
      "source": [
        "base.dtypes"
      ],
      "execution_count": 11,
      "outputs": [
        {
          "output_type": "execute_result",
          "data": {
            "text/plain": [
              "Open           float64\n",
              "High           float64\n",
              "Low            float64\n",
              "Close          float64\n",
              "Adj Close      float64\n",
              "Volume           int64\n",
              "media_movel    float64\n",
              "dtype: object"
            ]
          },
          "metadata": {},
          "execution_count": 11
        }
      ]
    },
    {
      "cell_type": "markdown",
      "metadata": {
        "id": "bCTD3wo2TfZF"
      },
      "source": [
        "##**3.2-Tratando os Valores Faltantes**"
      ]
    },
    {
      "cell_type": "code",
      "metadata": {
        "colab": {
          "base_uri": "https://localhost:8080/"
        },
        "id": "H60SOo8MTjjP",
        "outputId": "9565d109-18df-4597-8d47-13636616b826"
      },
      "source": [
        "#valores faltantes\n",
        "base.isna().sum()"
      ],
      "execution_count": 12,
      "outputs": [
        {
          "output_type": "execute_result",
          "data": {
            "text/plain": [
              "Open           0\n",
              "High           0\n",
              "Low            0\n",
              "Close          0\n",
              "Adj Close      0\n",
              "Volume         0\n",
              "media_movel    0\n",
              "dtype: int64"
            ]
          },
          "metadata": {},
          "execution_count": 12
        }
      ]
    },
    {
      "cell_type": "code",
      "metadata": {
        "colab": {
          "base_uri": "https://localhost:8080/",
          "height": 0
        },
        "id": "H-DMfyHXTkdi",
        "outputId": "4d72a727-7e2e-4186-a0c1-3d9768f3a956"
      },
      "source": [
        "#encontrando onde os valores faltantes estão\n",
        "base.loc[pd.isnull(base['Open'])]\n",
        "base.loc[pd.isnull(base['High'])]\n",
        "base.loc[pd.isnull(base['Low'])]\n",
        "base.loc[pd.isnull(base['Close'])]\n",
        "base.loc[pd.isnull(base['Adj Close'])]\n",
        "base.loc[pd.isnull(base['Volume'])]\n",
        "base.loc[pd.isnull(base['media_movel'])]"
      ],
      "execution_count": 13,
      "outputs": [
        {
          "output_type": "execute_result",
          "data": {
            "text/html": [
              "<div>\n",
              "<style scoped>\n",
              "    .dataframe tbody tr th:only-of-type {\n",
              "        vertical-align: middle;\n",
              "    }\n",
              "\n",
              "    .dataframe tbody tr th {\n",
              "        vertical-align: top;\n",
              "    }\n",
              "\n",
              "    .dataframe thead th {\n",
              "        text-align: right;\n",
              "    }\n",
              "</style>\n",
              "<table border=\"1\" class=\"dataframe\">\n",
              "  <thead>\n",
              "    <tr style=\"text-align: right;\">\n",
              "      <th></th>\n",
              "      <th>Open</th>\n",
              "      <th>High</th>\n",
              "      <th>Low</th>\n",
              "      <th>Close</th>\n",
              "      <th>Adj Close</th>\n",
              "      <th>Volume</th>\n",
              "      <th>media_movel</th>\n",
              "    </tr>\n",
              "  </thead>\n",
              "  <tbody>\n",
              "  </tbody>\n",
              "</table>\n",
              "</div>"
            ],
            "text/plain": [
              "Empty DataFrame\n",
              "Columns: [Open, High, Low, Close, Adj Close, Volume, media_movel]\n",
              "Index: []"
            ]
          },
          "metadata": {},
          "execution_count": 13
        }
      ]
    },
    {
      "cell_type": "code",
      "metadata": {
        "id": "6q0YFzy9TmPD"
      },
      "source": [
        "#preenchendo os valores nulos com o valor médio\n",
        "imputer = SimpleImputer(missing_values=np.nan, strategy='mean',verbose=0)\n",
        "imputer = imputer.fit(base.iloc[:,0:7])\n",
        "base.iloc[:,0:7] = imputer.transform(base.iloc[:,0:7])"
      ],
      "execution_count": 14,
      "outputs": []
    },
    {
      "cell_type": "code",
      "metadata": {
        "colab": {
          "base_uri": "https://localhost:8080/",
          "height": 0
        },
        "id": "gQC2HfFnTpe2",
        "outputId": "26139bcb-76ad-4801-855a-3657f3e929c9"
      },
      "source": [
        "#verificando novamente se ainda temos valores faltantes\n",
        "base.loc[pd.isnull(base['Open'])]\n",
        "base.loc[pd.isnull(base['High'])]\n",
        "base.loc[pd.isnull(base['Low'])]\n",
        "base.loc[pd.isnull(base['Close'])]\n",
        "base.loc[pd.isnull(base['Adj Close'])]\n",
        "base.loc[pd.isnull(base['Volume'])]\n",
        "base.loc[pd.isnull(base['media_movel'])]"
      ],
      "execution_count": 15,
      "outputs": [
        {
          "output_type": "execute_result",
          "data": {
            "text/html": [
              "<div>\n",
              "<style scoped>\n",
              "    .dataframe tbody tr th:only-of-type {\n",
              "        vertical-align: middle;\n",
              "    }\n",
              "\n",
              "    .dataframe tbody tr th {\n",
              "        vertical-align: top;\n",
              "    }\n",
              "\n",
              "    .dataframe thead th {\n",
              "        text-align: right;\n",
              "    }\n",
              "</style>\n",
              "<table border=\"1\" class=\"dataframe\">\n",
              "  <thead>\n",
              "    <tr style=\"text-align: right;\">\n",
              "      <th></th>\n",
              "      <th>Open</th>\n",
              "      <th>High</th>\n",
              "      <th>Low</th>\n",
              "      <th>Close</th>\n",
              "      <th>Adj Close</th>\n",
              "      <th>Volume</th>\n",
              "      <th>media_movel</th>\n",
              "    </tr>\n",
              "  </thead>\n",
              "  <tbody>\n",
              "  </tbody>\n",
              "</table>\n",
              "</div>"
            ],
            "text/plain": [
              "Empty DataFrame\n",
              "Columns: [Open, High, Low, Close, Adj Close, Volume, media_movel]\n",
              "Index: []"
            ]
          },
          "metadata": {},
          "execution_count": 15
        }
      ]
    },
    {
      "cell_type": "markdown",
      "metadata": {
        "id": "_WuI_UbmTt3W"
      },
      "source": [
        "##**3.3-Tratamento dos valores nulos (iguais a 0)**"
      ]
    },
    {
      "cell_type": "code",
      "metadata": {
        "colab": {
          "base_uri": "https://localhost:8080/"
        },
        "id": "hyRiBN32Twb2",
        "outputId": "c8c6fd85-562c-48f3-bc71-dd3d50bc7f42"
      },
      "source": [
        "#valores nulos\n",
        "(base == 0).sum()"
      ],
      "execution_count": 16,
      "outputs": [
        {
          "output_type": "execute_result",
          "data": {
            "text/plain": [
              "Open            0\n",
              "High            0\n",
              "Low             0\n",
              "Close           0\n",
              "Adj Close       0\n",
              "Volume         30\n",
              "media_movel     0\n",
              "dtype: int64"
            ]
          },
          "metadata": {},
          "execution_count": 16
        }
      ]
    },
    {
      "cell_type": "code",
      "metadata": {
        "colab": {
          "base_uri": "https://localhost:8080/",
          "height": 0
        },
        "id": "nQPTB9_TT3Dy",
        "outputId": "e6c608ae-1ddd-48e2-f90a-d9213908ed6d"
      },
      "source": [
        "#Encontrando os valores nulos\n",
        "base.loc[base['Volume'] == 0]"
      ],
      "execution_count": 17,
      "outputs": [
        {
          "output_type": "execute_result",
          "data": {
            "text/html": [
              "<div>\n",
              "<style scoped>\n",
              "    .dataframe tbody tr th:only-of-type {\n",
              "        vertical-align: middle;\n",
              "    }\n",
              "\n",
              "    .dataframe tbody tr th {\n",
              "        vertical-align: top;\n",
              "    }\n",
              "\n",
              "    .dataframe thead th {\n",
              "        text-align: right;\n",
              "    }\n",
              "</style>\n",
              "<table border=\"1\" class=\"dataframe\">\n",
              "  <thead>\n",
              "    <tr style=\"text-align: right;\">\n",
              "      <th></th>\n",
              "      <th>Open</th>\n",
              "      <th>High</th>\n",
              "      <th>Low</th>\n",
              "      <th>Close</th>\n",
              "      <th>Adj Close</th>\n",
              "      <th>Volume</th>\n",
              "      <th>media_movel</th>\n",
              "    </tr>\n",
              "  </thead>\n",
              "  <tbody>\n",
              "    <tr>\n",
              "      <th>284</th>\n",
              "      <td>12.018323</td>\n",
              "      <td>12.018323</td>\n",
              "      <td>12.018323</td>\n",
              "      <td>12.018323</td>\n",
              "      <td>7.226080</td>\n",
              "      <td>0.0</td>\n",
              "      <td>12.015293</td>\n",
              "    </tr>\n",
              "    <tr>\n",
              "      <th>291</th>\n",
              "      <td>12.181962</td>\n",
              "      <td>12.181962</td>\n",
              "      <td>12.181962</td>\n",
              "      <td>12.181962</td>\n",
              "      <td>7.324469</td>\n",
              "      <td>0.0</td>\n",
              "      <td>12.172871</td>\n",
              "    </tr>\n",
              "    <tr>\n",
              "      <th>308</th>\n",
              "      <td>11.709229</td>\n",
              "      <td>11.709229</td>\n",
              "      <td>11.709229</td>\n",
              "      <td>11.709229</td>\n",
              "      <td>7.040236</td>\n",
              "      <td>0.0</td>\n",
              "      <td>11.775896</td>\n",
              "    </tr>\n",
              "    <tr>\n",
              "      <th>319</th>\n",
              "      <td>11.954686</td>\n",
              "      <td>11.954686</td>\n",
              "      <td>11.954686</td>\n",
              "      <td>11.954686</td>\n",
              "      <td>7.187818</td>\n",
              "      <td>0.0</td>\n",
              "      <td>12.051657</td>\n",
              "    </tr>\n",
              "    <tr>\n",
              "      <th>333</th>\n",
              "      <td>12.500147</td>\n",
              "      <td>12.500147</td>\n",
              "      <td>12.500147</td>\n",
              "      <td>12.500147</td>\n",
              "      <td>7.515780</td>\n",
              "      <td>0.0</td>\n",
              "      <td>12.197113</td>\n",
              "    </tr>\n",
              "    <tr>\n",
              "      <th>337</th>\n",
              "      <td>13.709252</td>\n",
              "      <td>13.709252</td>\n",
              "      <td>13.709252</td>\n",
              "      <td>13.709252</td>\n",
              "      <td>8.242761</td>\n",
              "      <td>0.0</td>\n",
              "      <td>13.248641</td>\n",
              "    </tr>\n",
              "    <tr>\n",
              "      <th>450</th>\n",
              "      <td>10.691035</td>\n",
              "      <td>10.691035</td>\n",
              "      <td>10.691035</td>\n",
              "      <td>10.691035</td>\n",
              "      <td>6.515060</td>\n",
              "      <td>0.0</td>\n",
              "      <td>10.527397</td>\n",
              "    </tr>\n",
              "    <tr>\n",
              "      <th>451</th>\n",
              "      <td>10.691035</td>\n",
              "      <td>10.691035</td>\n",
              "      <td>10.691035</td>\n",
              "      <td>10.691035</td>\n",
              "      <td>6.515060</td>\n",
              "      <td>0.0</td>\n",
              "      <td>10.630428</td>\n",
              "    </tr>\n",
              "    <tr>\n",
              "      <th>452</th>\n",
              "      <td>10.691035</td>\n",
              "      <td>10.691035</td>\n",
              "      <td>10.691035</td>\n",
              "      <td>10.691035</td>\n",
              "      <td>6.515060</td>\n",
              "      <td>0.0</td>\n",
              "      <td>10.691035</td>\n",
              "    </tr>\n",
              "    <tr>\n",
              "      <th>461</th>\n",
              "      <td>9.909208</td>\n",
              "      <td>9.909208</td>\n",
              "      <td>9.909208</td>\n",
              "      <td>9.909208</td>\n",
              "      <td>6.038619</td>\n",
              "      <td>0.0</td>\n",
              "      <td>10.236484</td>\n",
              "    </tr>\n",
              "    <tr>\n",
              "      <th>482</th>\n",
              "      <td>10.936492</td>\n",
              "      <td>10.936492</td>\n",
              "      <td>10.936492</td>\n",
              "      <td>10.936492</td>\n",
              "      <td>6.664640</td>\n",
              "      <td>0.0</td>\n",
              "      <td>10.978917</td>\n",
              "    </tr>\n",
              "    <tr>\n",
              "      <th>507</th>\n",
              "      <td>11.109222</td>\n",
              "      <td>11.109222</td>\n",
              "      <td>11.109222</td>\n",
              "      <td>11.109222</td>\n",
              "      <td>6.769902</td>\n",
              "      <td>0.0</td>\n",
              "      <td>11.175889</td>\n",
              "    </tr>\n",
              "    <tr>\n",
              "      <th>525</th>\n",
              "      <td>12.291054</td>\n",
              "      <td>12.291054</td>\n",
              "      <td>12.291054</td>\n",
              "      <td>12.291054</td>\n",
              "      <td>7.490102</td>\n",
              "      <td>0.0</td>\n",
              "      <td>12.242568</td>\n",
              "    </tr>\n",
              "    <tr>\n",
              "      <th>547</th>\n",
              "      <td>13.063790</td>\n",
              "      <td>13.063790</td>\n",
              "      <td>13.063790</td>\n",
              "      <td>13.063790</td>\n",
              "      <td>7.961003</td>\n",
              "      <td>0.0</td>\n",
              "      <td>13.063790</td>\n",
              "    </tr>\n",
              "    <tr>\n",
              "      <th>587</th>\n",
              "      <td>8.572828</td>\n",
              "      <td>8.572828</td>\n",
              "      <td>8.572828</td>\n",
              "      <td>8.572828</td>\n",
              "      <td>5.224236</td>\n",
              "      <td>0.0</td>\n",
              "      <td>9.475869</td>\n",
              "    </tr>\n",
              "    <tr>\n",
              "      <th>590</th>\n",
              "      <td>8.963742</td>\n",
              "      <td>8.963742</td>\n",
              "      <td>8.963742</td>\n",
              "      <td>8.963742</td>\n",
              "      <td>5.703623</td>\n",
              "      <td>0.0</td>\n",
              "      <td>8.866771</td>\n",
              "    </tr>\n",
              "    <tr>\n",
              "      <th>609</th>\n",
              "      <td>8.272825</td>\n",
              "      <td>8.272825</td>\n",
              "      <td>8.272825</td>\n",
              "      <td>8.272825</td>\n",
              "      <td>5.263993</td>\n",
              "      <td>0.0</td>\n",
              "      <td>8.030398</td>\n",
              "    </tr>\n",
              "    <tr>\n",
              "      <th>628</th>\n",
              "      <td>9.163744</td>\n",
              "      <td>9.163744</td>\n",
              "      <td>9.163744</td>\n",
              "      <td>9.163744</td>\n",
              "      <td>5.830884</td>\n",
              "      <td>0.0</td>\n",
              "      <td>9.024349</td>\n",
              "    </tr>\n",
              "    <tr>\n",
              "      <th>819</th>\n",
              "      <td>7.727364</td>\n",
              "      <td>7.727364</td>\n",
              "      <td>7.727364</td>\n",
              "      <td>7.727364</td>\n",
              "      <td>4.916917</td>\n",
              "      <td>0.0</td>\n",
              "      <td>7.884941</td>\n",
              "    </tr>\n",
              "    <tr>\n",
              "      <th>881</th>\n",
              "      <td>6.336438</td>\n",
              "      <td>6.336438</td>\n",
              "      <td>6.336438</td>\n",
              "      <td>6.336438</td>\n",
              "      <td>4.213077</td>\n",
              "      <td>0.0</td>\n",
              "      <td>6.315226</td>\n",
              "    </tr>\n",
              "    <tr>\n",
              "      <th>1831</th>\n",
              "      <td>12.345600</td>\n",
              "      <td>12.345600</td>\n",
              "      <td>12.345600</td>\n",
              "      <td>12.345600</td>\n",
              "      <td>9.879048</td>\n",
              "      <td>0.0</td>\n",
              "      <td>12.257720</td>\n",
              "    </tr>\n",
              "    <tr>\n",
              "      <th>1844</th>\n",
              "      <td>11.909231</td>\n",
              "      <td>11.909231</td>\n",
              "      <td>11.909231</td>\n",
              "      <td>11.909231</td>\n",
              "      <td>9.529862</td>\n",
              "      <td>0.0</td>\n",
              "      <td>11.851655</td>\n",
              "    </tr>\n",
              "    <tr>\n",
              "      <th>1904</th>\n",
              "      <td>12.981971</td>\n",
              "      <td>12.981971</td>\n",
              "      <td>12.981971</td>\n",
              "      <td>12.981971</td>\n",
              "      <td>10.388279</td>\n",
              "      <td>0.0</td>\n",
              "      <td>12.703180</td>\n",
              "    </tr>\n",
              "    <tr>\n",
              "      <th>1929</th>\n",
              "      <td>13.009244</td>\n",
              "      <td>13.009244</td>\n",
              "      <td>13.009244</td>\n",
              "      <td>13.009244</td>\n",
              "      <td>10.410102</td>\n",
              "      <td>0.0</td>\n",
              "      <td>12.903182</td>\n",
              "    </tr>\n",
              "    <tr>\n",
              "      <th>1944</th>\n",
              "      <td>11.909231</td>\n",
              "      <td>11.909231</td>\n",
              "      <td>11.909231</td>\n",
              "      <td>11.909231</td>\n",
              "      <td>9.529862</td>\n",
              "      <td>0.0</td>\n",
              "      <td>11.784987</td>\n",
              "    </tr>\n",
              "    <tr>\n",
              "      <th>1953</th>\n",
              "      <td>11.600137</td>\n",
              "      <td>11.600137</td>\n",
              "      <td>11.600137</td>\n",
              "      <td>11.600137</td>\n",
              "      <td>9.282523</td>\n",
              "      <td>0.0</td>\n",
              "      <td>11.630440</td>\n",
              "    </tr>\n",
              "    <tr>\n",
              "      <th>1956</th>\n",
              "      <td>12.163780</td>\n",
              "      <td>12.163780</td>\n",
              "      <td>12.163780</td>\n",
              "      <td>12.163780</td>\n",
              "      <td>9.733554</td>\n",
              "      <td>0.0</td>\n",
              "      <td>11.954686</td>\n",
              "    </tr>\n",
              "    <tr>\n",
              "      <th>1981</th>\n",
              "      <td>13.118336</td>\n",
              "      <td>13.118336</td>\n",
              "      <td>13.118336</td>\n",
              "      <td>13.118336</td>\n",
              "      <td>10.497398</td>\n",
              "      <td>0.0</td>\n",
              "      <td>12.957728</td>\n",
              "    </tr>\n",
              "    <tr>\n",
              "      <th>1985</th>\n",
              "      <td>13.672888</td>\n",
              "      <td>13.672888</td>\n",
              "      <td>13.672888</td>\n",
              "      <td>13.672888</td>\n",
              "      <td>10.941155</td>\n",
              "      <td>0.0</td>\n",
              "      <td>13.403188</td>\n",
              "    </tr>\n",
              "    <tr>\n",
              "      <th>2003</th>\n",
              "      <td>13.881982</td>\n",
              "      <td>13.881982</td>\n",
              "      <td>13.881982</td>\n",
              "      <td>13.881982</td>\n",
              "      <td>11.108475</td>\n",
              "      <td>0.0</td>\n",
              "      <td>13.894103</td>\n",
              "    </tr>\n",
              "  </tbody>\n",
              "</table>\n",
              "</div>"
            ],
            "text/plain": [
              "           Open       High        Low      Close  Adj Close  Volume  media_movel\n",
              "284   12.018323  12.018323  12.018323  12.018323   7.226080     0.0    12.015293\n",
              "291   12.181962  12.181962  12.181962  12.181962   7.324469     0.0    12.172871\n",
              "308   11.709229  11.709229  11.709229  11.709229   7.040236     0.0    11.775896\n",
              "319   11.954686  11.954686  11.954686  11.954686   7.187818     0.0    12.051657\n",
              "333   12.500147  12.500147  12.500147  12.500147   7.515780     0.0    12.197113\n",
              "337   13.709252  13.709252  13.709252  13.709252   8.242761     0.0    13.248641\n",
              "450   10.691035  10.691035  10.691035  10.691035   6.515060     0.0    10.527397\n",
              "451   10.691035  10.691035  10.691035  10.691035   6.515060     0.0    10.630428\n",
              "452   10.691035  10.691035  10.691035  10.691035   6.515060     0.0    10.691035\n",
              "461    9.909208   9.909208   9.909208   9.909208   6.038619     0.0    10.236484\n",
              "482   10.936492  10.936492  10.936492  10.936492   6.664640     0.0    10.978917\n",
              "507   11.109222  11.109222  11.109222  11.109222   6.769902     0.0    11.175889\n",
              "525   12.291054  12.291054  12.291054  12.291054   7.490102     0.0    12.242568\n",
              "547   13.063790  13.063790  13.063790  13.063790   7.961003     0.0    13.063790\n",
              "587    8.572828   8.572828   8.572828   8.572828   5.224236     0.0     9.475869\n",
              "590    8.963742   8.963742   8.963742   8.963742   5.703623     0.0     8.866771\n",
              "609    8.272825   8.272825   8.272825   8.272825   5.263993     0.0     8.030398\n",
              "628    9.163744   9.163744   9.163744   9.163744   5.830884     0.0     9.024349\n",
              "819    7.727364   7.727364   7.727364   7.727364   4.916917     0.0     7.884941\n",
              "881    6.336438   6.336438   6.336438   6.336438   4.213077     0.0     6.315226\n",
              "1831  12.345600  12.345600  12.345600  12.345600   9.879048     0.0    12.257720\n",
              "1844  11.909231  11.909231  11.909231  11.909231   9.529862     0.0    11.851655\n",
              "1904  12.981971  12.981971  12.981971  12.981971  10.388279     0.0    12.703180\n",
              "1929  13.009244  13.009244  13.009244  13.009244  10.410102     0.0    12.903182\n",
              "1944  11.909231  11.909231  11.909231  11.909231   9.529862     0.0    11.784987\n",
              "1953  11.600137  11.600137  11.600137  11.600137   9.282523     0.0    11.630440\n",
              "1956  12.163780  12.163780  12.163780  12.163780   9.733554     0.0    11.954686\n",
              "1981  13.118336  13.118336  13.118336  13.118336  10.497398     0.0    12.957728\n",
              "1985  13.672888  13.672888  13.672888  13.672888  10.941155     0.0    13.403188\n",
              "2003  13.881982  13.881982  13.881982  13.881982  11.108475     0.0    13.894103"
            ]
          },
          "metadata": {},
          "execution_count": 17
        }
      ]
    },
    {
      "cell_type": "code",
      "metadata": {
        "id": "352jPyV0T5JJ"
      },
      "source": [
        "#preenchendo os valores nulos com o valor médio\n",
        "imputer = SimpleImputer(missing_values=0, strategy='mean',verbose=0)\n",
        "imputer = imputer.fit(base.iloc[:,0:7])\n",
        "base.iloc[:,0:7] = imputer.transform(base.iloc[:,0:7])"
      ],
      "execution_count": 18,
      "outputs": []
    },
    {
      "cell_type": "code",
      "metadata": {
        "colab": {
          "base_uri": "https://localhost:8080/",
          "height": 49
        },
        "id": "xI5JdDykT66_",
        "outputId": "0beba25f-2d5c-420f-8526-3b3854968ef4"
      },
      "source": [
        "#Verificando novamente se ainda temos valores nulos\n",
        "base.loc[base['Volume'] == 0]"
      ],
      "execution_count": 19,
      "outputs": [
        {
          "output_type": "execute_result",
          "data": {
            "text/html": [
              "<div>\n",
              "<style scoped>\n",
              "    .dataframe tbody tr th:only-of-type {\n",
              "        vertical-align: middle;\n",
              "    }\n",
              "\n",
              "    .dataframe tbody tr th {\n",
              "        vertical-align: top;\n",
              "    }\n",
              "\n",
              "    .dataframe thead th {\n",
              "        text-align: right;\n",
              "    }\n",
              "</style>\n",
              "<table border=\"1\" class=\"dataframe\">\n",
              "  <thead>\n",
              "    <tr style=\"text-align: right;\">\n",
              "      <th></th>\n",
              "      <th>Open</th>\n",
              "      <th>High</th>\n",
              "      <th>Low</th>\n",
              "      <th>Close</th>\n",
              "      <th>Adj Close</th>\n",
              "      <th>Volume</th>\n",
              "      <th>media_movel</th>\n",
              "    </tr>\n",
              "  </thead>\n",
              "  <tbody>\n",
              "  </tbody>\n",
              "</table>\n",
              "</div>"
            ],
            "text/plain": [
              "Empty DataFrame\n",
              "Columns: [Open, High, Low, Close, Adj Close, Volume, media_movel]\n",
              "Index: []"
            ]
          },
          "metadata": {},
          "execution_count": 19
        }
      ]
    },
    {
      "cell_type": "code",
      "metadata": {
        "id": "NYW0UUz0T9Kq"
      },
      "source": [
        "#base = base.dropna()"
      ],
      "execution_count": 20,
      "outputs": []
    },
    {
      "cell_type": "code",
      "metadata": {
        "id": "ceOotOwsT_Er"
      },
      "source": [
        "#base.sample()"
      ],
      "execution_count": 21,
      "outputs": []
    },
    {
      "cell_type": "markdown",
      "metadata": {
        "id": "hCiQYMqPGHuG"
      },
      "source": [
        "#**-Descrição dos dados** IGNORE ESTA CÉLULA"
      ]
    },
    {
      "cell_type": "code",
      "metadata": {
        "id": "xalwLdRSGLRD"
      },
      "source": [
        "#Tendencia central - mean, median\n",
        "ct1 = pd.DataFrame(base.apply(np.mean)).T #T transpondo \n",
        "ct2 = pd.DataFrame(base.apply(np.median)).T\n",
        "#Dispersão - std(desvio padrão), min, max, range\n",
        "d1 = pd.DataFrame(base.apply(np.std)).T\n",
        "d2 = pd.DataFrame(base.apply(min)).T\n",
        "d3 = pd.DataFrame(base.apply(max)).T\n",
        "d4 = pd.DataFrame(base.apply(lambda x: x.max() - x.min())).T\n",
        "#concatenate\n",
        "m = pd.concat([d2,d3,d4,ct1,ct2,d1]).T.reset_index()\n",
        "m.columns = ['attributes','min','max','range', 'mean', 'median', 'std']\n",
        "m"
      ],
      "execution_count": null,
      "outputs": []
    },
    {
      "cell_type": "code",
      "metadata": {
        "colab": {
          "base_uri": "https://localhost:8080/"
        },
        "id": "j62Bj8jOQz_G",
        "outputId": "9e5055ec-b49f-4f7d-e3c1-b3fc2b1dae42"
      },
      "source": [
        "base.shape[0]"
      ],
      "execution_count": null,
      "outputs": [
        {
          "output_type": "execute_result",
          "data": {
            "text/plain": [
              "2478"
            ]
          },
          "metadata": {
            "tags": []
          },
          "execution_count": 20
        }
      ]
    },
    {
      "cell_type": "markdown",
      "metadata": {
        "id": "4IDwP-XV_Ohd"
      },
      "source": [
        "#**4-Treinamento da rede**"
      ]
    },
    {
      "cell_type": "code",
      "metadata": {
        "id": "mpo6RlDsUHNJ"
      },
      "source": [
        "#normalizando a base de dados com o MinMaxScaler\n",
        "base_treinamento = base.iloc[:, 0:7].values\n",
        "normalizador = MinMaxScaler(feature_range=(0,1))\n",
        "base_treinamento_normalizada = normalizador.fit_transform(base_treinamento)"
      ],
      "execution_count": 22,
      "outputs": []
    },
    {
      "cell_type": "code",
      "metadata": {
        "id": "d-LD4OEaUNf7"
      },
      "source": [
        "#Comparando a predição com o preço real\n",
        "previsores = []\n",
        "preco_real = []\n",
        "for i in range(90, 2231):\n",
        "    previsores.append(base_treinamento_normalizada[i-90:i, 0:7])\n",
        "    preco_real.append(base_treinamento_normalizada[i, 3:4])\n",
        "previsores, preco_real = np.array(previsores), np.array(preco_real)\n"
      ],
      "execution_count": 23,
      "outputs": []
    },
    {
      "cell_type": "code",
      "metadata": {
        "colab": {
          "base_uri": "https://localhost:8080/"
        },
        "id": "ZftXowA9URdt",
        "outputId": "fb9e5168-b067-4d0c-d97b-b0ac79524382"
      },
      "source": [
        "#estrutura da rede neural \n",
        "regressor = Sequential()\n",
        "regressor.add(LSTM(units = 90, return_sequences = True, input_shape = (previsores.shape[1], 7)))\n",
        "regressor.add(Dropout(0.3))\n",
        "\n",
        "regressor.add(LSTM(units = 90, return_sequences = True))\n",
        "regressor.add(Dropout(0.3))\n",
        "\n",
        "regressor.add(LSTM(units = 90, return_sequences = True))\n",
        "regressor.add(Dropout(0.3))\n",
        "\n",
        "regressor.add(LSTM(units = 90))\n",
        "regressor.add(Dropout(0.3))\n",
        "\n",
        "regressor.add(Dense(units = 1, activation = 'sigmoid'))\n",
        "\n",
        "es = EarlyStopping(monitor = 'loss', min_delta = 1e-15, patience = 20, verbose = 1)\n",
        "\n",
        "#regressor.compile(optimizer = 'RMSprop', loss = 'mean_squared_error',\n",
        "#                  metrics = ['mean_absolute_error'])\n",
        "opt = tf.keras.optimizers.Adam(amsgrad=True)\n",
        "regressor.compile(optimizer = opt, loss = 'mean_squared_error',\n",
        "                  metrics = ['mean_absolute_error'])\n",
        "#opt = tf.keras.optimizers.RMSprop(centered=True)\n",
        "#regressor.compile(optimizer = opt, loss = 'mean_squared_error',\n",
        "#                 metrics = ['mean_absolute_error'])\n",
        "\n",
        "regressor.fit(previsores, preco_real, epochs = 600, batch_size = 32,\n",
        "              callbacks = [es])\n",
        "#regressor.fit(previsores, preco_real, epochs = 600, batch_size = 32)"
      ],
      "execution_count": 24,
      "outputs": [
        {
          "output_type": "stream",
          "name": "stdout",
          "text": [
            "Epoch 1/600\n",
            "67/67 [==============================] - 18s 97ms/step - loss: 0.0133 - mean_absolute_error: 0.0845\n",
            "Epoch 2/600\n",
            "67/67 [==============================] - 7s 97ms/step - loss: 0.0052 - mean_absolute_error: 0.0560\n",
            "Epoch 3/600\n",
            "67/67 [==============================] - 7s 98ms/step - loss: 0.0048 - mean_absolute_error: 0.0545\n",
            "Epoch 4/600\n",
            "67/67 [==============================] - 7s 98ms/step - loss: 0.0037 - mean_absolute_error: 0.0477\n",
            "Epoch 5/600\n",
            "67/67 [==============================] - 7s 98ms/step - loss: 0.0032 - mean_absolute_error: 0.0439\n",
            "Epoch 6/600\n",
            "67/67 [==============================] - 7s 98ms/step - loss: 0.0033 - mean_absolute_error: 0.0456\n",
            "Epoch 7/600\n",
            "67/67 [==============================] - 7s 98ms/step - loss: 0.0029 - mean_absolute_error: 0.0419\n",
            "Epoch 8/600\n",
            "67/67 [==============================] - 7s 99ms/step - loss: 0.0028 - mean_absolute_error: 0.0413\n",
            "Epoch 9/600\n",
            "67/67 [==============================] - 7s 98ms/step - loss: 0.0026 - mean_absolute_error: 0.0397\n",
            "Epoch 10/600\n",
            "67/67 [==============================] - 7s 98ms/step - loss: 0.0024 - mean_absolute_error: 0.0378\n",
            "Epoch 11/600\n",
            "67/67 [==============================] - 7s 98ms/step - loss: 0.0024 - mean_absolute_error: 0.0382\n",
            "Epoch 12/600\n",
            "67/67 [==============================] - 7s 98ms/step - loss: 0.0021 - mean_absolute_error: 0.0358\n",
            "Epoch 13/600\n",
            "67/67 [==============================] - 7s 97ms/step - loss: 0.0021 - mean_absolute_error: 0.0351\n",
            "Epoch 14/600\n",
            "67/67 [==============================] - 7s 97ms/step - loss: 0.0020 - mean_absolute_error: 0.0348\n",
            "Epoch 15/600\n",
            "67/67 [==============================] - 7s 98ms/step - loss: 0.0019 - mean_absolute_error: 0.0335\n",
            "Epoch 16/600\n",
            "67/67 [==============================] - 7s 97ms/step - loss: 0.0019 - mean_absolute_error: 0.0333\n",
            "Epoch 17/600\n",
            "67/67 [==============================] - 7s 97ms/step - loss: 0.0017 - mean_absolute_error: 0.0322\n",
            "Epoch 18/600\n",
            "67/67 [==============================] - 7s 98ms/step - loss: 0.0018 - mean_absolute_error: 0.0332\n",
            "Epoch 19/600\n",
            "67/67 [==============================] - 7s 98ms/step - loss: 0.0017 - mean_absolute_error: 0.0315\n",
            "Epoch 20/600\n",
            "67/67 [==============================] - 7s 98ms/step - loss: 0.0015 - mean_absolute_error: 0.0301\n",
            "Epoch 21/600\n",
            "67/67 [==============================] - 7s 98ms/step - loss: 0.0015 - mean_absolute_error: 0.0304\n",
            "Epoch 22/600\n",
            "67/67 [==============================] - 7s 98ms/step - loss: 0.0016 - mean_absolute_error: 0.0306\n",
            "Epoch 23/600\n",
            "67/67 [==============================] - 7s 98ms/step - loss: 0.0014 - mean_absolute_error: 0.0293\n",
            "Epoch 24/600\n",
            "67/67 [==============================] - 7s 97ms/step - loss: 0.0015 - mean_absolute_error: 0.0300\n",
            "Epoch 25/600\n",
            "67/67 [==============================] - 7s 97ms/step - loss: 0.0014 - mean_absolute_error: 0.0293\n",
            "Epoch 26/600\n",
            "67/67 [==============================] - 7s 98ms/step - loss: 0.0014 - mean_absolute_error: 0.0293\n",
            "Epoch 27/600\n",
            "67/67 [==============================] - 7s 97ms/step - loss: 0.0014 - mean_absolute_error: 0.0283\n",
            "Epoch 28/600\n",
            "67/67 [==============================] - 7s 97ms/step - loss: 0.0013 - mean_absolute_error: 0.0280\n",
            "Epoch 29/600\n",
            "67/67 [==============================] - 7s 98ms/step - loss: 0.0015 - mean_absolute_error: 0.0305\n",
            "Epoch 30/600\n",
            "67/67 [==============================] - 7s 97ms/step - loss: 0.0014 - mean_absolute_error: 0.0291\n",
            "Epoch 31/600\n",
            "67/67 [==============================] - 7s 98ms/step - loss: 0.0013 - mean_absolute_error: 0.0284\n",
            "Epoch 32/600\n",
            "67/67 [==============================] - 7s 98ms/step - loss: 0.0013 - mean_absolute_error: 0.0280\n",
            "Epoch 33/600\n",
            "67/67 [==============================] - 7s 98ms/step - loss: 0.0013 - mean_absolute_error: 0.0280\n",
            "Epoch 34/600\n",
            "67/67 [==============================] - 7s 98ms/step - loss: 0.0013 - mean_absolute_error: 0.0283\n",
            "Epoch 35/600\n",
            "67/67 [==============================] - 7s 98ms/step - loss: 0.0014 - mean_absolute_error: 0.0288\n",
            "Epoch 36/600\n",
            "67/67 [==============================] - 7s 98ms/step - loss: 0.0013 - mean_absolute_error: 0.0275\n",
            "Epoch 37/600\n",
            "67/67 [==============================] - 7s 98ms/step - loss: 0.0013 - mean_absolute_error: 0.0283\n",
            "Epoch 38/600\n",
            "67/67 [==============================] - 7s 98ms/step - loss: 0.0012 - mean_absolute_error: 0.0273\n",
            "Epoch 39/600\n",
            "67/67 [==============================] - 7s 98ms/step - loss: 0.0012 - mean_absolute_error: 0.0267\n",
            "Epoch 40/600\n",
            "67/67 [==============================] - 7s 98ms/step - loss: 0.0012 - mean_absolute_error: 0.0268\n",
            "Epoch 41/600\n",
            "67/67 [==============================] - 7s 98ms/step - loss: 0.0012 - mean_absolute_error: 0.0262\n",
            "Epoch 42/600\n",
            "67/67 [==============================] - 7s 98ms/step - loss: 0.0012 - mean_absolute_error: 0.0268\n",
            "Epoch 43/600\n",
            "67/67 [==============================] - 7s 98ms/step - loss: 0.0012 - mean_absolute_error: 0.0264\n",
            "Epoch 44/600\n",
            "67/67 [==============================] - 7s 98ms/step - loss: 0.0011 - mean_absolute_error: 0.0259\n",
            "Epoch 45/600\n",
            "67/67 [==============================] - 7s 98ms/step - loss: 0.0012 - mean_absolute_error: 0.0265\n",
            "Epoch 46/600\n",
            "67/67 [==============================] - 7s 98ms/step - loss: 0.0011 - mean_absolute_error: 0.0255\n",
            "Epoch 47/600\n",
            "67/67 [==============================] - 7s 98ms/step - loss: 0.0012 - mean_absolute_error: 0.0269\n",
            "Epoch 48/600\n",
            "67/67 [==============================] - 7s 98ms/step - loss: 0.0012 - mean_absolute_error: 0.0271\n",
            "Epoch 49/600\n",
            "67/67 [==============================] - 7s 98ms/step - loss: 0.0011 - mean_absolute_error: 0.0263\n",
            "Epoch 50/600\n",
            "67/67 [==============================] - 7s 99ms/step - loss: 0.0011 - mean_absolute_error: 0.0259\n",
            "Epoch 51/600\n",
            "67/67 [==============================] - 7s 98ms/step - loss: 0.0011 - mean_absolute_error: 0.0258\n",
            "Epoch 52/600\n",
            "67/67 [==============================] - 7s 98ms/step - loss: 0.0011 - mean_absolute_error: 0.0255\n",
            "Epoch 53/600\n",
            "67/67 [==============================] - 7s 98ms/step - loss: 0.0010 - mean_absolute_error: 0.0252\n",
            "Epoch 54/600\n",
            "67/67 [==============================] - 7s 98ms/step - loss: 0.0011 - mean_absolute_error: 0.0258\n",
            "Epoch 55/600\n",
            "67/67 [==============================] - 7s 98ms/step - loss: 0.0011 - mean_absolute_error: 0.0253\n",
            "Epoch 56/600\n",
            "67/67 [==============================] - 7s 98ms/step - loss: 0.0011 - mean_absolute_error: 0.0254\n",
            "Epoch 57/600\n",
            "67/67 [==============================] - 7s 98ms/step - loss: 0.0011 - mean_absolute_error: 0.0261\n",
            "Epoch 58/600\n",
            "67/67 [==============================] - 7s 97ms/step - loss: 0.0011 - mean_absolute_error: 0.0254\n",
            "Epoch 59/600\n",
            "67/67 [==============================] - 7s 98ms/step - loss: 0.0010 - mean_absolute_error: 0.0246\n",
            "Epoch 60/600\n",
            "67/67 [==============================] - 7s 98ms/step - loss: 0.0010 - mean_absolute_error: 0.0250\n",
            "Epoch 61/600\n",
            "67/67 [==============================] - 7s 97ms/step - loss: 0.0011 - mean_absolute_error: 0.0253\n",
            "Epoch 62/600\n",
            "67/67 [==============================] - 7s 98ms/step - loss: 0.0011 - mean_absolute_error: 0.0261\n",
            "Epoch 63/600\n",
            "67/67 [==============================] - 7s 98ms/step - loss: 0.0011 - mean_absolute_error: 0.0257\n",
            "Epoch 64/600\n",
            "67/67 [==============================] - 7s 98ms/step - loss: 0.0010 - mean_absolute_error: 0.0248\n",
            "Epoch 65/600\n",
            "67/67 [==============================] - 7s 98ms/step - loss: 0.0010 - mean_absolute_error: 0.0250\n",
            "Epoch 66/600\n",
            "67/67 [==============================] - 7s 98ms/step - loss: 0.0011 - mean_absolute_error: 0.0251\n",
            "Epoch 67/600\n",
            "67/67 [==============================] - 7s 98ms/step - loss: 0.0011 - mean_absolute_error: 0.0256\n",
            "Epoch 68/600\n",
            "67/67 [==============================] - 7s 98ms/step - loss: 0.0010 - mean_absolute_error: 0.0248\n",
            "Epoch 69/600\n",
            "67/67 [==============================] - 7s 98ms/step - loss: 0.0010 - mean_absolute_error: 0.0246\n",
            "Epoch 70/600\n",
            "67/67 [==============================] - 7s 98ms/step - loss: 0.0010 - mean_absolute_error: 0.0248\n",
            "Epoch 71/600\n",
            "67/67 [==============================] - 7s 98ms/step - loss: 9.5901e-04 - mean_absolute_error: 0.0238\n",
            "Epoch 72/600\n",
            "67/67 [==============================] - 7s 98ms/step - loss: 9.8236e-04 - mean_absolute_error: 0.0242\n",
            "Epoch 73/600\n",
            "67/67 [==============================] - 7s 98ms/step - loss: 0.0011 - mean_absolute_error: 0.0257\n",
            "Epoch 74/600\n",
            "67/67 [==============================] - 7s 98ms/step - loss: 0.0010 - mean_absolute_error: 0.0247\n",
            "Epoch 75/600\n",
            "67/67 [==============================] - 7s 98ms/step - loss: 0.0011 - mean_absolute_error: 0.0252\n",
            "Epoch 76/600\n",
            "67/67 [==============================] - 7s 97ms/step - loss: 9.8847e-04 - mean_absolute_error: 0.0242\n",
            "Epoch 77/600\n",
            "67/67 [==============================] - 7s 98ms/step - loss: 9.5233e-04 - mean_absolute_error: 0.0239\n",
            "Epoch 78/600\n",
            "67/67 [==============================] - 7s 98ms/step - loss: 0.0010 - mean_absolute_error: 0.0243\n",
            "Epoch 79/600\n",
            "67/67 [==============================] - 7s 98ms/step - loss: 0.0010 - mean_absolute_error: 0.0245\n",
            "Epoch 80/600\n",
            "67/67 [==============================] - 7s 98ms/step - loss: 9.4335e-04 - mean_absolute_error: 0.0236\n",
            "Epoch 81/600\n",
            "67/67 [==============================] - 7s 98ms/step - loss: 9.3278e-04 - mean_absolute_error: 0.0236\n",
            "Epoch 82/600\n",
            "67/67 [==============================] - 7s 98ms/step - loss: 0.0010 - mean_absolute_error: 0.0250\n",
            "Epoch 83/600\n",
            "67/67 [==============================] - 7s 98ms/step - loss: 9.7465e-04 - mean_absolute_error: 0.0246\n",
            "Epoch 84/600\n",
            "67/67 [==============================] - 7s 98ms/step - loss: 9.9621e-04 - mean_absolute_error: 0.0246\n",
            "Epoch 85/600\n",
            "67/67 [==============================] - 7s 98ms/step - loss: 9.9224e-04 - mean_absolute_error: 0.0242\n",
            "Epoch 86/600\n",
            "67/67 [==============================] - 7s 98ms/step - loss: 9.7390e-04 - mean_absolute_error: 0.0243\n",
            "Epoch 87/600\n",
            "67/67 [==============================] - 7s 98ms/step - loss: 0.0010 - mean_absolute_error: 0.0244\n",
            "Epoch 88/600\n",
            "67/67 [==============================] - 7s 98ms/step - loss: 9.6435e-04 - mean_absolute_error: 0.0239\n",
            "Epoch 89/600\n",
            "67/67 [==============================] - 7s 98ms/step - loss: 0.0010 - mean_absolute_error: 0.0245\n",
            "Epoch 90/600\n",
            "67/67 [==============================] - 7s 98ms/step - loss: 9.5405e-04 - mean_absolute_error: 0.0238\n",
            "Epoch 91/600\n",
            "67/67 [==============================] - 7s 98ms/step - loss: 0.0010 - mean_absolute_error: 0.0247\n",
            "Epoch 92/600\n",
            "67/67 [==============================] - 7s 98ms/step - loss: 9.0080e-04 - mean_absolute_error: 0.0232\n",
            "Epoch 93/600\n",
            "67/67 [==============================] - 7s 99ms/step - loss: 9.6921e-04 - mean_absolute_error: 0.0242\n",
            "Epoch 94/600\n",
            "67/67 [==============================] - 7s 98ms/step - loss: 0.0010 - mean_absolute_error: 0.0248\n",
            "Epoch 95/600\n",
            "67/67 [==============================] - 7s 98ms/step - loss: 9.4558e-04 - mean_absolute_error: 0.0237\n",
            "Epoch 96/600\n",
            "67/67 [==============================] - 7s 98ms/step - loss: 9.3097e-04 - mean_absolute_error: 0.0235\n",
            "Epoch 97/600\n",
            "67/67 [==============================] - 7s 98ms/step - loss: 9.9247e-04 - mean_absolute_error: 0.0245\n",
            "Epoch 98/600\n",
            "67/67 [==============================] - 7s 98ms/step - loss: 8.9103e-04 - mean_absolute_error: 0.0230\n",
            "Epoch 99/600\n",
            "67/67 [==============================] - 7s 99ms/step - loss: 0.0010 - mean_absolute_error: 0.0247\n",
            "Epoch 100/600\n",
            "67/67 [==============================] - 7s 98ms/step - loss: 9.4487e-04 - mean_absolute_error: 0.0234\n",
            "Epoch 101/600\n",
            "67/67 [==============================] - 7s 98ms/step - loss: 9.3869e-04 - mean_absolute_error: 0.0235\n",
            "Epoch 102/600\n",
            "67/67 [==============================] - 7s 99ms/step - loss: 9.7173e-04 - mean_absolute_error: 0.0240\n",
            "Epoch 103/600\n",
            "67/67 [==============================] - 7s 98ms/step - loss: 9.4565e-04 - mean_absolute_error: 0.0239\n",
            "Epoch 104/600\n",
            "67/67 [==============================] - 7s 98ms/step - loss: 9.3561e-04 - mean_absolute_error: 0.0237\n",
            "Epoch 105/600\n",
            "67/67 [==============================] - 7s 98ms/step - loss: 9.5342e-04 - mean_absolute_error: 0.0240\n",
            "Epoch 106/600\n",
            "67/67 [==============================] - 7s 98ms/step - loss: 9.1079e-04 - mean_absolute_error: 0.0233\n",
            "Epoch 107/600\n",
            "67/67 [==============================] - 7s 99ms/step - loss: 9.0194e-04 - mean_absolute_error: 0.0233\n",
            "Epoch 108/600\n",
            "67/67 [==============================] - 7s 98ms/step - loss: 9.4204e-04 - mean_absolute_error: 0.0235\n",
            "Epoch 109/600\n",
            "67/67 [==============================] - 7s 98ms/step - loss: 9.4964e-04 - mean_absolute_error: 0.0239\n",
            "Epoch 110/600\n",
            "67/67 [==============================] - 7s 98ms/step - loss: 9.6166e-04 - mean_absolute_error: 0.0241\n",
            "Epoch 111/600\n",
            "67/67 [==============================] - 7s 98ms/step - loss: 9.2184e-04 - mean_absolute_error: 0.0233\n",
            "Epoch 112/600\n",
            "67/67 [==============================] - 7s 98ms/step - loss: 9.2455e-04 - mean_absolute_error: 0.0234\n",
            "Epoch 113/600\n",
            "67/67 [==============================] - 7s 98ms/step - loss: 8.9106e-04 - mean_absolute_error: 0.0229\n",
            "Epoch 114/600\n",
            "67/67 [==============================] - 7s 98ms/step - loss: 9.4567e-04 - mean_absolute_error: 0.0237\n",
            "Epoch 115/600\n",
            "67/67 [==============================] - 7s 98ms/step - loss: 8.5484e-04 - mean_absolute_error: 0.0224\n",
            "Epoch 116/600\n",
            "67/67 [==============================] - 7s 99ms/step - loss: 9.1994e-04 - mean_absolute_error: 0.0233\n",
            "Epoch 117/600\n",
            "67/67 [==============================] - 7s 98ms/step - loss: 9.3870e-04 - mean_absolute_error: 0.0236\n",
            "Epoch 118/600\n",
            "67/67 [==============================] - 7s 99ms/step - loss: 8.6132e-04 - mean_absolute_error: 0.0228\n",
            "Epoch 119/600\n",
            "67/67 [==============================] - 7s 98ms/step - loss: 8.4233e-04 - mean_absolute_error: 0.0224\n",
            "Epoch 120/600\n",
            "67/67 [==============================] - 7s 98ms/step - loss: 9.3635e-04 - mean_absolute_error: 0.0234\n",
            "Epoch 121/600\n",
            "67/67 [==============================] - 7s 98ms/step - loss: 9.5891e-04 - mean_absolute_error: 0.0239\n",
            "Epoch 122/600\n",
            "67/67 [==============================] - 7s 98ms/step - loss: 9.3211e-04 - mean_absolute_error: 0.0237\n",
            "Epoch 123/600\n",
            "67/67 [==============================] - 7s 98ms/step - loss: 9.2687e-04 - mean_absolute_error: 0.0237\n",
            "Epoch 124/600\n",
            "67/67 [==============================] - 7s 98ms/step - loss: 0.0010 - mean_absolute_error: 0.0245\n",
            "Epoch 125/600\n",
            "67/67 [==============================] - 7s 98ms/step - loss: 9.0814e-04 - mean_absolute_error: 0.0233\n",
            "Epoch 126/600\n",
            "67/67 [==============================] - 7s 99ms/step - loss: 8.9750e-04 - mean_absolute_error: 0.0233\n",
            "Epoch 127/600\n",
            "67/67 [==============================] - 7s 99ms/step - loss: 9.5039e-04 - mean_absolute_error: 0.0240\n",
            "Epoch 128/600\n",
            "67/67 [==============================] - 7s 98ms/step - loss: 9.0634e-04 - mean_absolute_error: 0.0232\n",
            "Epoch 129/600\n",
            "67/67 [==============================] - 7s 99ms/step - loss: 9.1098e-04 - mean_absolute_error: 0.0234\n",
            "Epoch 130/600\n",
            "67/67 [==============================] - 7s 98ms/step - loss: 9.2974e-04 - mean_absolute_error: 0.0237\n",
            "Epoch 131/600\n",
            "67/67 [==============================] - 7s 99ms/step - loss: 8.7164e-04 - mean_absolute_error: 0.0226\n",
            "Epoch 132/600\n",
            "67/67 [==============================] - 7s 98ms/step - loss: 8.8213e-04 - mean_absolute_error: 0.0226\n",
            "Epoch 133/600\n",
            "67/67 [==============================] - 7s 99ms/step - loss: 8.6003e-04 - mean_absolute_error: 0.0228\n",
            "Epoch 134/600\n",
            "67/67 [==============================] - 7s 98ms/step - loss: 9.3043e-04 - mean_absolute_error: 0.0239\n",
            "Epoch 135/600\n",
            "67/67 [==============================] - 7s 99ms/step - loss: 9.2649e-04 - mean_absolute_error: 0.0233\n",
            "Epoch 136/600\n",
            "67/67 [==============================] - 7s 99ms/step - loss: 8.9999e-04 - mean_absolute_error: 0.0233\n",
            "Epoch 137/600\n",
            "67/67 [==============================] - 7s 99ms/step - loss: 9.0983e-04 - mean_absolute_error: 0.0235\n",
            "Epoch 138/600\n",
            "67/67 [==============================] - 7s 99ms/step - loss: 8.6306e-04 - mean_absolute_error: 0.0229\n",
            "Epoch 139/600\n",
            "67/67 [==============================] - 7s 99ms/step - loss: 8.9936e-04 - mean_absolute_error: 0.0232\n",
            "Epoch 00139: early stopping\n"
          ]
        },
        {
          "output_type": "execute_result",
          "data": {
            "text/plain": [
              "<keras.callbacks.History at 0x7fae4a195450>"
            ]
          },
          "metadata": {},
          "execution_count": 24
        }
      ]
    },
    {
      "cell_type": "markdown",
      "metadata": {
        "id": "RtFahmEgGAzZ"
      },
      "source": [
        "#**5-Teste da rede**"
      ]
    },
    {
      "cell_type": "markdown",
      "metadata": {
        "id": "QSWSKW8nqeA0"
      },
      "source": [
        "##**5.1-Importando os dados para teste**"
      ]
    },
    {
      "cell_type": "code",
      "metadata": {
        "id": "4X6-ArtKUdpD"
      },
      "source": [
        "#criando a base de dados teste\n",
        "base_teste = pd.read_csv('MRVE3-teste.csv')\n",
        "base_teste = base_teste.drop('Date', axis = 1)"
      ],
      "execution_count": 25,
      "outputs": []
    },
    {
      "cell_type": "code",
      "metadata": {
        "colab": {
          "base_uri": "https://localhost:8080/",
          "height": 0
        },
        "id": "dXOp2vDcpAvA",
        "outputId": "9a8dc462-7857-4efb-ac2e-5f89375685e6"
      },
      "source": [
        "#valores estatísticos\n",
        "base_teste.describe()"
      ],
      "execution_count": 26,
      "outputs": [
        {
          "output_type": "execute_result",
          "data": {
            "text/html": [
              "<div>\n",
              "<style scoped>\n",
              "    .dataframe tbody tr th:only-of-type {\n",
              "        vertical-align: middle;\n",
              "    }\n",
              "\n",
              "    .dataframe tbody tr th {\n",
              "        vertical-align: top;\n",
              "    }\n",
              "\n",
              "    .dataframe thead th {\n",
              "        text-align: right;\n",
              "    }\n",
              "</style>\n",
              "<table border=\"1\" class=\"dataframe\">\n",
              "  <thead>\n",
              "    <tr style=\"text-align: right;\">\n",
              "      <th></th>\n",
              "      <th>Open</th>\n",
              "      <th>High</th>\n",
              "      <th>Low</th>\n",
              "      <th>Close</th>\n",
              "      <th>Adj Close</th>\n",
              "      <th>Volume</th>\n",
              "      <th>media_movel</th>\n",
              "    </tr>\n",
              "  </thead>\n",
              "  <tbody>\n",
              "    <tr>\n",
              "      <th>count</th>\n",
              "      <td>247.000000</td>\n",
              "      <td>247.000000</td>\n",
              "      <td>247.000000</td>\n",
              "      <td>247.000000</td>\n",
              "      <td>247.000000</td>\n",
              "      <td>2.470000e+02</td>\n",
              "      <td>247.000000</td>\n",
              "    </tr>\n",
              "    <tr>\n",
              "      <th>mean</th>\n",
              "      <td>16.921538</td>\n",
              "      <td>17.216154</td>\n",
              "      <td>16.611417</td>\n",
              "      <td>16.922753</td>\n",
              "      <td>15.287639</td>\n",
              "      <td>5.124278e+06</td>\n",
              "      <td>16.883603</td>\n",
              "    </tr>\n",
              "    <tr>\n",
              "      <th>std</th>\n",
              "      <td>2.473257</td>\n",
              "      <td>2.513617</td>\n",
              "      <td>2.411601</td>\n",
              "      <td>2.470855</td>\n",
              "      <td>2.644206</td>\n",
              "      <td>2.523092e+06</td>\n",
              "      <td>2.450173</td>\n",
              "    </tr>\n",
              "    <tr>\n",
              "      <th>min</th>\n",
              "      <td>12.390000</td>\n",
              "      <td>12.660000</td>\n",
              "      <td>11.510000</td>\n",
              "      <td>11.540000</td>\n",
              "      <td>10.060345</td>\n",
              "      <td>1.478500e+06</td>\n",
              "      <td>12.540000</td>\n",
              "    </tr>\n",
              "    <tr>\n",
              "      <th>25%</th>\n",
              "      <td>14.485000</td>\n",
              "      <td>14.660000</td>\n",
              "      <td>14.240000</td>\n",
              "      <td>14.480000</td>\n",
              "      <td>12.623378</td>\n",
              "      <td>3.591750e+06</td>\n",
              "      <td>14.443333</td>\n",
              "    </tr>\n",
              "    <tr>\n",
              "      <th>50%</th>\n",
              "      <td>17.500000</td>\n",
              "      <td>17.850000</td>\n",
              "      <td>17.200001</td>\n",
              "      <td>17.450001</td>\n",
              "      <td>15.962334</td>\n",
              "      <td>4.461100e+06</td>\n",
              "      <td>17.533333</td>\n",
              "    </tr>\n",
              "    <tr>\n",
              "      <th>75%</th>\n",
              "      <td>18.745000</td>\n",
              "      <td>19.030000</td>\n",
              "      <td>18.224999</td>\n",
              "      <td>18.700001</td>\n",
              "      <td>17.114864</td>\n",
              "      <td>6.006200e+06</td>\n",
              "      <td>18.756667</td>\n",
              "    </tr>\n",
              "    <tr>\n",
              "      <th>max</th>\n",
              "      <td>22.379999</td>\n",
              "      <td>22.780001</td>\n",
              "      <td>21.790001</td>\n",
              "      <td>22.639999</td>\n",
              "      <td>21.697758</td>\n",
              "      <td>1.864060e+07</td>\n",
              "      <td>22.163333</td>\n",
              "    </tr>\n",
              "  </tbody>\n",
              "</table>\n",
              "</div>"
            ],
            "text/plain": [
              "             Open        High         Low       Close   Adj Close        Volume  media_movel\n",
              "count  247.000000  247.000000  247.000000  247.000000  247.000000  2.470000e+02   247.000000\n",
              "mean    16.921538   17.216154   16.611417   16.922753   15.287639  5.124278e+06    16.883603\n",
              "std      2.473257    2.513617    2.411601    2.470855    2.644206  2.523092e+06     2.450173\n",
              "min     12.390000   12.660000   11.510000   11.540000   10.060345  1.478500e+06    12.540000\n",
              "25%     14.485000   14.660000   14.240000   14.480000   12.623378  3.591750e+06    14.443333\n",
              "50%     17.500000   17.850000   17.200001   17.450001   15.962334  4.461100e+06    17.533333\n",
              "75%     18.745000   19.030000   18.224999   18.700001   17.114864  6.006200e+06    18.756667\n",
              "max     22.379999   22.780001   21.790001   22.639999   21.697758  1.864060e+07    22.163333"
            ]
          },
          "metadata": {},
          "execution_count": 26
        }
      ]
    },
    {
      "cell_type": "markdown",
      "metadata": {
        "id": "Cw-NIb9EpatP"
      },
      "source": [
        "##**5.2-Tratando os Valores Faltantes**"
      ]
    },
    {
      "cell_type": "code",
      "metadata": {
        "colab": {
          "base_uri": "https://localhost:8080/"
        },
        "id": "lthEX_TZniHb",
        "outputId": "13d524ed-f5d8-46e1-9b26-8ea486ae5194"
      },
      "source": [
        "#valores faltantes\n",
        "base_teste.isna().sum()"
      ],
      "execution_count": 27,
      "outputs": [
        {
          "output_type": "execute_result",
          "data": {
            "text/plain": [
              "Open           0\n",
              "High           0\n",
              "Low            0\n",
              "Close          0\n",
              "Adj Close      0\n",
              "Volume         0\n",
              "media_movel    0\n",
              "dtype: int64"
            ]
          },
          "metadata": {},
          "execution_count": 27
        }
      ]
    },
    {
      "cell_type": "code",
      "metadata": {
        "colab": {
          "base_uri": "https://localhost:8080/",
          "height": 0
        },
        "id": "uiH2j_UNpjqk",
        "outputId": "9b1ab0d2-8593-464e-a657-2aa295510bfa"
      },
      "source": [
        "#encontrando onde os valores faltantes estão\n",
        "base_teste.loc[pd.isnull(base_teste['Open'])]\n",
        "base_teste.loc[pd.isnull(base_teste['High'])]\n",
        "base_teste.loc[pd.isnull(base_teste['Low'])]\n",
        "base_teste.loc[pd.isnull(base_teste['Close'])]\n",
        "base_teste.loc[pd.isnull(base_teste['Adj Close'])]\n",
        "base_teste.loc[pd.isnull(base_teste['Volume'])]\n",
        "base_teste.loc[pd.isnull(base['media_movel'])]"
      ],
      "execution_count": 28,
      "outputs": [
        {
          "output_type": "execute_result",
          "data": {
            "text/html": [
              "<div>\n",
              "<style scoped>\n",
              "    .dataframe tbody tr th:only-of-type {\n",
              "        vertical-align: middle;\n",
              "    }\n",
              "\n",
              "    .dataframe tbody tr th {\n",
              "        vertical-align: top;\n",
              "    }\n",
              "\n",
              "    .dataframe thead th {\n",
              "        text-align: right;\n",
              "    }\n",
              "</style>\n",
              "<table border=\"1\" class=\"dataframe\">\n",
              "  <thead>\n",
              "    <tr style=\"text-align: right;\">\n",
              "      <th></th>\n",
              "      <th>Open</th>\n",
              "      <th>High</th>\n",
              "      <th>Low</th>\n",
              "      <th>Close</th>\n",
              "      <th>Adj Close</th>\n",
              "      <th>Volume</th>\n",
              "      <th>media_movel</th>\n",
              "    </tr>\n",
              "  </thead>\n",
              "  <tbody>\n",
              "  </tbody>\n",
              "</table>\n",
              "</div>"
            ],
            "text/plain": [
              "Empty DataFrame\n",
              "Columns: [Open, High, Low, Close, Adj Close, Volume, media_movel]\n",
              "Index: []"
            ]
          },
          "metadata": {},
          "execution_count": 28
        }
      ]
    },
    {
      "cell_type": "code",
      "metadata": {
        "id": "Bbw7axJ75lpn"
      },
      "source": [
        "#preenchendo os valores faltantes com o valor médio\n",
        "imputer = SimpleImputer(missing_values=np.nan, strategy='mean',verbose=0)\n",
        "imputer = imputer.fit(base_teste.iloc[:,0:7])\n",
        "base_teste.iloc[:,0:7] = imputer.transform(base_teste.iloc[:,0:7])"
      ],
      "execution_count": 29,
      "outputs": []
    },
    {
      "cell_type": "code",
      "metadata": {
        "colab": {
          "base_uri": "https://localhost:8080/",
          "height": 0
        },
        "id": "CXAi4QV8pw2x",
        "outputId": "3bcd189e-a950-4411-d8bd-284376ddca7e"
      },
      "source": [
        "#verificando novamente se ainda temos valores faltantes\n",
        "base_teste.loc[pd.isnull(base_teste['Open'])]\n",
        "base_teste.loc[pd.isnull(base_teste['High'])]\n",
        "base_teste.loc[pd.isnull(base_teste['Low'])]\n",
        "base_teste.loc[pd.isnull(base_teste['Close'])]\n",
        "base_teste.loc[pd.isnull(base_teste['Adj Close'])]\n",
        "base_teste.loc[pd.isnull(base_teste['Volume'])]\n",
        "base_teste.loc[pd.isnull(base['media_movel'])]"
      ],
      "execution_count": 30,
      "outputs": [
        {
          "output_type": "execute_result",
          "data": {
            "text/html": [
              "<div>\n",
              "<style scoped>\n",
              "    .dataframe tbody tr th:only-of-type {\n",
              "        vertical-align: middle;\n",
              "    }\n",
              "\n",
              "    .dataframe tbody tr th {\n",
              "        vertical-align: top;\n",
              "    }\n",
              "\n",
              "    .dataframe thead th {\n",
              "        text-align: right;\n",
              "    }\n",
              "</style>\n",
              "<table border=\"1\" class=\"dataframe\">\n",
              "  <thead>\n",
              "    <tr style=\"text-align: right;\">\n",
              "      <th></th>\n",
              "      <th>Open</th>\n",
              "      <th>High</th>\n",
              "      <th>Low</th>\n",
              "      <th>Close</th>\n",
              "      <th>Adj Close</th>\n",
              "      <th>Volume</th>\n",
              "      <th>media_movel</th>\n",
              "    </tr>\n",
              "  </thead>\n",
              "  <tbody>\n",
              "  </tbody>\n",
              "</table>\n",
              "</div>"
            ],
            "text/plain": [
              "Empty DataFrame\n",
              "Columns: [Open, High, Low, Close, Adj Close, Volume, media_movel]\n",
              "Index: []"
            ]
          },
          "metadata": {},
          "execution_count": 30
        }
      ]
    },
    {
      "cell_type": "markdown",
      "metadata": {
        "id": "X1nZpS8Rp2zr"
      },
      "source": [
        "##**5.3-Tratamento dos valores nulos (iguais a 0)**"
      ]
    },
    {
      "cell_type": "code",
      "metadata": {
        "colab": {
          "base_uri": "https://localhost:8080/"
        },
        "id": "XYwer-dip-KB",
        "outputId": "2fc15b4a-cbb2-433a-c4fe-c1d8e6c90ea0"
      },
      "source": [
        "#valores nulos\n",
        "(base_teste == 0).sum()"
      ],
      "execution_count": 31,
      "outputs": [
        {
          "output_type": "execute_result",
          "data": {
            "text/plain": [
              "Open           0\n",
              "High           0\n",
              "Low            0\n",
              "Close          0\n",
              "Adj Close      0\n",
              "Volume         0\n",
              "media_movel    0\n",
              "dtype: int64"
            ]
          },
          "metadata": {},
          "execution_count": 31
        }
      ]
    },
    {
      "cell_type": "code",
      "metadata": {
        "colab": {
          "base_uri": "https://localhost:8080/",
          "height": 0
        },
        "id": "sFBo6iR5qEpS",
        "outputId": "f5578cc4-85b3-4273-a6ea-e57964852895"
      },
      "source": [
        "#Encontrando os valores nulos\n",
        "base_teste.loc[base_teste['Volume'] == 0]"
      ],
      "execution_count": 32,
      "outputs": [
        {
          "output_type": "execute_result",
          "data": {
            "text/html": [
              "<div>\n",
              "<style scoped>\n",
              "    .dataframe tbody tr th:only-of-type {\n",
              "        vertical-align: middle;\n",
              "    }\n",
              "\n",
              "    .dataframe tbody tr th {\n",
              "        vertical-align: top;\n",
              "    }\n",
              "\n",
              "    .dataframe thead th {\n",
              "        text-align: right;\n",
              "    }\n",
              "</style>\n",
              "<table border=\"1\" class=\"dataframe\">\n",
              "  <thead>\n",
              "    <tr style=\"text-align: right;\">\n",
              "      <th></th>\n",
              "      <th>Open</th>\n",
              "      <th>High</th>\n",
              "      <th>Low</th>\n",
              "      <th>Close</th>\n",
              "      <th>Adj Close</th>\n",
              "      <th>Volume</th>\n",
              "      <th>media_movel</th>\n",
              "    </tr>\n",
              "  </thead>\n",
              "  <tbody>\n",
              "  </tbody>\n",
              "</table>\n",
              "</div>"
            ],
            "text/plain": [
              "Empty DataFrame\n",
              "Columns: [Open, High, Low, Close, Adj Close, Volume, media_movel]\n",
              "Index: []"
            ]
          },
          "metadata": {},
          "execution_count": 32
        }
      ]
    },
    {
      "cell_type": "code",
      "metadata": {
        "id": "ofkU-XjcqOQE"
      },
      "source": [
        "#preenchendo os valores nulos com o valor médio\n",
        "imputer = SimpleImputer(missing_values=0, strategy='mean',verbose=0)\n",
        "imputer = imputer.fit(base_teste.iloc[:,0:7])\n",
        "base_teste.iloc[:,0:7] = imputer.transform(base_teste.iloc[:,0:7])"
      ],
      "execution_count": 33,
      "outputs": []
    },
    {
      "cell_type": "code",
      "metadata": {
        "id": "pYUeIwbnppRT",
        "colab": {
          "base_uri": "https://localhost:8080/",
          "height": 0
        },
        "outputId": "fe65b4f3-e309-4ae6-b7cd-f804ae0f14d0"
      },
      "source": [
        "#Verificando novamente se tem valores nulos\n",
        "base_teste.loc[base_teste['Volume'] == 0]"
      ],
      "execution_count": 34,
      "outputs": [
        {
          "output_type": "execute_result",
          "data": {
            "text/html": [
              "<div>\n",
              "<style scoped>\n",
              "    .dataframe tbody tr th:only-of-type {\n",
              "        vertical-align: middle;\n",
              "    }\n",
              "\n",
              "    .dataframe tbody tr th {\n",
              "        vertical-align: top;\n",
              "    }\n",
              "\n",
              "    .dataframe thead th {\n",
              "        text-align: right;\n",
              "    }\n",
              "</style>\n",
              "<table border=\"1\" class=\"dataframe\">\n",
              "  <thead>\n",
              "    <tr style=\"text-align: right;\">\n",
              "      <th></th>\n",
              "      <th>Open</th>\n",
              "      <th>High</th>\n",
              "      <th>Low</th>\n",
              "      <th>Close</th>\n",
              "      <th>Adj Close</th>\n",
              "      <th>Volume</th>\n",
              "      <th>media_movel</th>\n",
              "    </tr>\n",
              "  </thead>\n",
              "  <tbody>\n",
              "  </tbody>\n",
              "</table>\n",
              "</div>"
            ],
            "text/plain": [
              "Empty DataFrame\n",
              "Columns: [Open, High, Low, Close, Adj Close, Volume, media_movel]\n",
              "Index: []"
            ]
          },
          "metadata": {},
          "execution_count": 34
        }
      ]
    },
    {
      "cell_type": "markdown",
      "metadata": {
        "id": "N79Bjk6Yq6ci"
      },
      "source": [
        "##**5.4-Preparando a estrutura para teste**"
      ]
    },
    {
      "cell_type": "code",
      "metadata": {
        "id": "UFINH9OzUfDk"
      },
      "source": [
        "#concatenando a base de dados teste com o base de treinamento\n",
        "preco_real_teste = base_teste.iloc[:, 3:4].values\n",
        "frames = [base, base_teste]\n",
        "base_completa = pd.concat(frames)"
      ],
      "execution_count": 35,
      "outputs": []
    },
    {
      "cell_type": "code",
      "metadata": {
        "id": "-CdLW8IZUhLY"
      },
      "source": [
        "#pegando os 90 registros anteriores para percorrer a base teste e colocando no\n",
        "#no formato np.array\n",
        "entradas = base_completa[len(base_completa) - len(base_teste) - 90:].values\n",
        "entradas = normalizador.transform(entradas)\n",
        "Percorrer_teste = []\n",
        "for i in range(90, 338): \n",
        "    Percorrer_teste.append(entradas[i-90:i, 0:7])\n",
        "Percorrer_teste = np.array(Percorrer_teste)"
      ],
      "execution_count": 36,
      "outputs": []
    },
    {
      "cell_type": "code",
      "metadata": {
        "id": "_YdD2ZcaUi1w"
      },
      "source": [
        "#resultado da predição no formato MinMaxScaler\n",
        "previsoes = regressor.predict(Percorrer_teste)"
      ],
      "execution_count": 37,
      "outputs": []
    },
    {
      "cell_type": "code",
      "metadata": {
        "colab": {
          "base_uri": "https://localhost:8080/"
        },
        "id": "jQS0Ql4tUk2Z",
        "outputId": "dd006d3a-aec8-4a84-cc6a-6ffa338d71ca"
      },
      "source": [
        "#convertendo para a escala MinMaxScaler \n",
        "normalizador_previsao = MinMaxScaler(feature_range=(0,1))\n",
        "normalizador_previsao.fit_transform(base_treinamento[:,3:4])"
      ],
      "execution_count": 38,
      "outputs": [
        {
          "output_type": "execute_result",
          "data": {
            "text/plain": [
              "array([[0.62857138],\n",
              "       [0.61387753],\n",
              "       [0.632653  ],\n",
              "       ...,\n",
              "       [0.55582434],\n",
              "       [0.59533408],\n",
              "       [0.6159869 ]])"
            ]
          },
          "metadata": {},
          "execution_count": 38
        }
      ]
    },
    {
      "cell_type": "code",
      "metadata": {
        "id": "MP_GBjYJUnFe",
        "colab": {
          "base_uri": "https://localhost:8080/"
        },
        "outputId": "376ed7d4-c6b6-4046-f813-908c2db5bcb2"
      },
      "source": [
        "#colocando a previsão no formato original para preparar a visualização no gráfico\n",
        "previsoes = normalizador_previsao.inverse_transform(previsoes)\n",
        "previsoes"
      ],
      "execution_count": 39,
      "outputs": [
        {
          "output_type": "execute_result",
          "data": {
            "text/plain": [
              "array([[12.402915 ],\n",
              "       [12.663782 ],\n",
              "       [12.6635895],\n",
              "       [12.59802  ],\n",
              "       [12.693374 ],\n",
              "       [13.04711  ],\n",
              "       [13.473087 ],\n",
              "       [13.400888 ],\n",
              "       [13.41654  ],\n",
              "       [13.81858  ],\n",
              "       [13.793104 ],\n",
              "       [13.7597065],\n",
              "       [13.534599 ],\n",
              "       [12.232148 ],\n",
              "       [13.481191 ],\n",
              "       [13.555665 ],\n",
              "       [14.061717 ],\n",
              "       [14.540892 ],\n",
              "       [14.853287 ],\n",
              "       [14.746295 ],\n",
              "       [14.7504835],\n",
              "       [14.8664875],\n",
              "       [14.755632 ],\n",
              "       [14.702597 ],\n",
              "       [14.795291 ],\n",
              "       [14.52301  ],\n",
              "       [14.389186 ],\n",
              "       [14.431825 ],\n",
              "       [14.405329 ],\n",
              "       [14.226025 ],\n",
              "       [14.062817 ],\n",
              "       [14.196352 ],\n",
              "       [13.939728 ],\n",
              "       [14.065104 ],\n",
              "       [14.047718 ],\n",
              "       [13.795714 ],\n",
              "       [13.829396 ],\n",
              "       [13.80089  ],\n",
              "       [13.881097 ],\n",
              "       [13.560805 ],\n",
              "       [13.687044 ],\n",
              "       [13.685836 ],\n",
              "       [13.9082   ],\n",
              "       [13.987249 ],\n",
              "       [14.270349 ],\n",
              "       [14.529609 ],\n",
              "       [14.621481 ],\n",
              "       [14.673041 ],\n",
              "       [14.611472 ],\n",
              "       [14.516966 ],\n",
              "       [14.555519 ],\n",
              "       [14.577574 ],\n",
              "       [14.353044 ],\n",
              "       [14.091999 ],\n",
              "       [13.687221 ],\n",
              "       [13.575054 ],\n",
              "       [13.838461 ],\n",
              "       [13.455506 ],\n",
              "       [13.657886 ],\n",
              "       [13.830001 ],\n",
              "       [13.96596  ],\n",
              "       [13.891906 ],\n",
              "       [13.778724 ],\n",
              "       [13.918966 ],\n",
              "       [14.126499 ],\n",
              "       [14.034307 ],\n",
              "       [13.955117 ],\n",
              "       [14.128379 ],\n",
              "       [13.815422 ],\n",
              "       [13.691108 ],\n",
              "       [13.775777 ],\n",
              "       [13.809627 ],\n",
              "       [14.023406 ],\n",
              "       [14.266057 ],\n",
              "       [14.456491 ],\n",
              "       [14.605169 ],\n",
              "       [14.328316 ],\n",
              "       [14.465949 ],\n",
              "       [14.492369 ],\n",
              "       [14.623333 ],\n",
              "       [14.561358 ],\n",
              "       [14.370277 ],\n",
              "       [14.469144 ],\n",
              "       [14.433457 ],\n",
              "       [14.585371 ],\n",
              "       [14.739182 ],\n",
              "       [15.098737 ],\n",
              "       [15.158437 ],\n",
              "       [15.108323 ],\n",
              "       [15.217041 ],\n",
              "       [15.168243 ],\n",
              "       [14.9266815],\n",
              "       [14.851522 ],\n",
              "       [15.148296 ],\n",
              "       [15.379207 ],\n",
              "       [15.467647 ],\n",
              "       [15.464587 ],\n",
              "       [15.461205 ],\n",
              "       [15.712233 ],\n",
              "       [15.908554 ],\n",
              "       [15.936424 ],\n",
              "       [15.924946 ],\n",
              "       [15.986631 ],\n",
              "       [15.815307 ],\n",
              "       [15.901321 ],\n",
              "       [15.932898 ],\n",
              "       [16.074812 ],\n",
              "       [16.127987 ],\n",
              "       [16.044733 ],\n",
              "       [16.061913 ],\n",
              "       [15.929432 ],\n",
              "       [15.944551 ],\n",
              "       [16.022717 ],\n",
              "       [16.119572 ],\n",
              "       [16.256823 ],\n",
              "       [16.27757  ],\n",
              "       [16.390396 ],\n",
              "       [16.43758  ],\n",
              "       [16.384531 ],\n",
              "       [16.427011 ],\n",
              "       [16.441242 ],\n",
              "       [16.474846 ],\n",
              "       [16.443956 ],\n",
              "       [16.44901  ],\n",
              "       [16.430508 ],\n",
              "       [16.428432 ],\n",
              "       [16.448338 ],\n",
              "       [16.46723  ],\n",
              "       [16.501127 ],\n",
              "       [16.49332  ],\n",
              "       [16.45206  ],\n",
              "       [16.432938 ],\n",
              "       [16.457182 ],\n",
              "       [16.42654  ],\n",
              "       [16.46562  ],\n",
              "       [16.3953   ],\n",
              "       [16.324894 ],\n",
              "       [16.367914 ],\n",
              "       [16.375227 ],\n",
              "       [16.34995  ],\n",
              "       [16.419456 ],\n",
              "       [16.456245 ],\n",
              "       [16.495028 ],\n",
              "       [16.518719 ],\n",
              "       [16.546896 ],\n",
              "       [16.551727 ],\n",
              "       [16.539476 ],\n",
              "       [16.56186  ],\n",
              "       [16.576103 ],\n",
              "       [16.589716 ],\n",
              "       [16.570946 ],\n",
              "       [16.560087 ],\n",
              "       [16.548285 ],\n",
              "       [16.483206 ],\n",
              "       [16.42951  ],\n",
              "       [16.397308 ],\n",
              "       [16.340454 ],\n",
              "       [16.25722  ],\n",
              "       [16.373629 ],\n",
              "       [16.428053 ],\n",
              "       [16.327412 ],\n",
              "       [16.133753 ],\n",
              "       [16.242111 ],\n",
              "       [16.224867 ],\n",
              "       [16.383474 ],\n",
              "       [16.437273 ],\n",
              "       [16.481644 ],\n",
              "       [16.411716 ],\n",
              "       [16.143944 ],\n",
              "       [16.206522 ],\n",
              "       [16.167906 ],\n",
              "       [16.06162  ],\n",
              "       [16.03808  ],\n",
              "       [16.279232 ],\n",
              "       [16.295607 ],\n",
              "       [16.280561 ],\n",
              "       [16.24699  ],\n",
              "       [16.377111 ],\n",
              "       [16.340115 ],\n",
              "       [16.389252 ],\n",
              "       [16.404913 ],\n",
              "       [16.37829  ],\n",
              "       [16.334333 ],\n",
              "       [16.246864 ],\n",
              "       [16.264471 ],\n",
              "       [16.262592 ],\n",
              "       [16.247784 ],\n",
              "       [16.27441  ],\n",
              "       [16.184837 ],\n",
              "       [16.213877 ],\n",
              "       [16.248333 ],\n",
              "       [16.11745  ],\n",
              "       [16.062382 ],\n",
              "       [16.154642 ],\n",
              "       [16.18057  ],\n",
              "       [16.189632 ],\n",
              "       [16.199043 ],\n",
              "       [16.074005 ],\n",
              "       [16.064438 ],\n",
              "       [16.087734 ],\n",
              "       [16.13777  ],\n",
              "       [16.165209 ],\n",
              "       [16.238754 ],\n",
              "       [16.192411 ],\n",
              "       [16.109137 ],\n",
              "       [16.14166  ],\n",
              "       [16.17246  ],\n",
              "       [16.281708 ],\n",
              "       [16.308655 ],\n",
              "       [16.232168 ],\n",
              "       [16.315207 ],\n",
              "       [16.427448 ],\n",
              "       [16.418217 ],\n",
              "       [16.422901 ],\n",
              "       [16.413322 ],\n",
              "       [16.32135  ],\n",
              "       [16.295357 ],\n",
              "       [16.242184 ],\n",
              "       [16.206972 ],\n",
              "       [15.961487 ],\n",
              "       [15.910866 ],\n",
              "       [15.989406 ],\n",
              "       [16.087381 ],\n",
              "       [16.221277 ],\n",
              "       [16.272192 ],\n",
              "       [16.22952  ],\n",
              "       [16.095003 ],\n",
              "       [16.131105 ],\n",
              "       [16.156208 ],\n",
              "       [16.1378   ],\n",
              "       [16.309057 ],\n",
              "       [16.345978 ],\n",
              "       [16.358816 ],\n",
              "       [16.441912 ],\n",
              "       [16.471601 ],\n",
              "       [16.48692  ],\n",
              "       [16.50565  ],\n",
              "       [16.545284 ],\n",
              "       [16.575388 ],\n",
              "       [16.587015 ],\n",
              "       [16.583193 ],\n",
              "       [16.574194 ],\n",
              "       [16.573376 ],\n",
              "       [16.551582 ],\n",
              "       [16.545723 ],\n",
              "       [16.558891 ],\n",
              "       [16.570356 ],\n",
              "       [16.559057 ]], dtype=float32)"
            ]
          },
          "metadata": {},
          "execution_count": 39
        }
      ]
    },
    {
      "cell_type": "markdown",
      "metadata": {
        "id": "lEjN0sRdrGmK"
      },
      "source": [
        "#**6-Análise dos resuldatos**"
      ]
    },
    {
      "cell_type": "code",
      "metadata": {
        "id": "beWuUgy2Uoe_",
        "colab": {
          "base_uri": "https://localhost:8080/",
          "height": 485
        },
        "outputId": "48bdb2db-7cc1-45f3-dd08-bf7e6f8bfdc6"
      },
      "source": [
        "#Visualizando o gráfico da Previsão da rede\n",
        "plt.plot(preco_real_teste, color = 'red', label = 'Preço real')\n",
        "plt.plot(previsoes, color = 'blue', label = 'Previsões')\n",
        "plt.title('Previsão do preço das ações')\n",
        "plt.xlabel('Tempo em dias')\n",
        "plt.ylabel('Preço das ações')\n",
        "plt.legend()\n",
        "plt.show()"
      ],
      "execution_count": 40,
      "outputs": [
        {
          "output_type": "display_data",
          "data": {
            "image/png": "[encoded data removed]",
            "text/plain": [
              "<Figure size 1800x864 with 1 Axes>"
            ]
          },
          "metadata": {}
        }
      ]
    },
    {
      "cell_type": "code",
      "metadata": {
        "id": "hKA0-lbgUtH-",
        "colab": {
          "base_uri": "https://localhost:8080/",
          "height": 297
        },
        "outputId": "df8b765f-c961-4303-daa8-ee7e251bc336"
      },
      "source": [
        "#estatísticas do preço real comparado com a previsão\n",
        "df1 = pd.DataFrame(preco_real_teste).T\n",
        "df2 = pd.DataFrame(previsoes).T\n",
        "\n",
        "df3 = pd.concat([df1,df2]).T\n",
        "df3.columns = ['Preco real', 'Previsoes']\n",
        "df3.describe()"
      ],
      "execution_count": 41,
      "outputs": [
        {
          "output_type": "execute_result",
          "data": {
            "text/html": [
              "<div>\n",
              "<style scoped>\n",
              "    .dataframe tbody tr th:only-of-type {\n",
              "        vertical-align: middle;\n",
              "    }\n",
              "\n",
              "    .dataframe tbody tr th {\n",
              "        vertical-align: top;\n",
              "    }\n",
              "\n",
              "    .dataframe thead th {\n",
              "        text-align: right;\n",
              "    }\n",
              "</style>\n",
              "<table border=\"1\" class=\"dataframe\">\n",
              "  <thead>\n",
              "    <tr style=\"text-align: right;\">\n",
              "      <th></th>\n",
              "      <th>Preco real</th>\n",
              "      <th>Previsoes</th>\n",
              "    </tr>\n",
              "  </thead>\n",
              "  <tbody>\n",
              "    <tr>\n",
              "      <th>count</th>\n",
              "      <td>247.000000</td>\n",
              "      <td>248.000000</td>\n",
              "    </tr>\n",
              "    <tr>\n",
              "      <th>mean</th>\n",
              "      <td>16.922753</td>\n",
              "      <td>15.453885</td>\n",
              "    </tr>\n",
              "    <tr>\n",
              "      <th>std</th>\n",
              "      <td>2.470855</td>\n",
              "      <td>1.140000</td>\n",
              "    </tr>\n",
              "    <tr>\n",
              "      <th>min</th>\n",
              "      <td>11.540000</td>\n",
              "      <td>12.232148</td>\n",
              "    </tr>\n",
              "    <tr>\n",
              "      <th>25%</th>\n",
              "      <td>14.480000</td>\n",
              "      <td>14.463585</td>\n",
              "    </tr>\n",
              "    <tr>\n",
              "      <th>50%</th>\n",
              "      <td>17.450001</td>\n",
              "      <td>16.113294</td>\n",
              "    </tr>\n",
              "    <tr>\n",
              "      <th>75%</th>\n",
              "      <td>18.700001</td>\n",
              "      <td>16.379586</td>\n",
              "    </tr>\n",
              "    <tr>\n",
              "      <th>max</th>\n",
              "      <td>22.639999</td>\n",
              "      <td>16.589716</td>\n",
              "    </tr>\n",
              "  </tbody>\n",
              "</table>\n",
              "</div>"
            ],
            "text/plain": [
              "       Preco real   Previsoes\n",
              "count  247.000000  248.000000\n",
              "mean    16.922753   15.453885\n",
              "std      2.470855    1.140000\n",
              "min     11.540000   12.232148\n",
              "25%     14.480000   14.463585\n",
              "50%     17.450001   16.113294\n",
              "75%     18.700001   16.379586\n",
              "max     22.639999   16.589716"
            ]
          },
          "metadata": {},
          "execution_count": 41
        }
      ]
    },
    {
      "cell_type": "code",
      "metadata": {
        "id": "ZjIrFF8Y_M9N"
      },
      "source": [
        "#df2 = pd.DataFrame(previsoes)\n",
        "#df2.describe()"
      ],
      "execution_count": null,
      "outputs": []
    },
    {
      "cell_type": "code",
      "metadata": {
        "id": "TKfgSJAIV5a_"
      },
      "source": [
        "#df1 = pd.DataFrame(preco_real_teste)\n",
        "#df1.describe()"
      ],
      "execution_count": null,
      "outputs": []
    }
  ]
}