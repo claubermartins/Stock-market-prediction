{
  "nbformat": 4,
  "nbformat_minor": 0,
  "metadata": {
    "colab": {
      "name": "stock-market-prediction.ipynb",
      "provenance": [],
      "collapsed_sections": [
        "UiXZAchqFuC-",
        "SuPg1RFvQyMS",
        "8MLClRMWPwTL",
        "hCiQYMqPGHuG",
        "4IDwP-XV_Ohd",
        "RtFahmEgGAzZ"
      ],
      "authorship_tag": "ABX9TyNzYrgOwkQQRvN9/atoFa4k",
      "include_colab_link": true
    },
    "kernelspec": {
      "name": "python3",
      "display_name": "Python 3"
    },
    "accelerator": "GPU"
  },
  "cells": [
    {
      "cell_type": "markdown",
      "metadata": {
        "id": "view-in-github",
        "colab_type": "text"
      },
      "source": [
        "<a href=\"https://colab.research.google.com/github/claubermartins/Stock-market-prediction/blob/main/stock_market_prediction-mrv.ipynb\" target=\"_parent\"><img src=\"https://colab.research.google.com/assets/colab-badge.svg\" alt=\"Open In Colab\"/></a>"
      ]
    },
    {
      "cell_type": "code",
      "metadata": {
        "colab": {
          "base_uri": "https://localhost:8080/"
        },
        "id": "XjlKRgiDRdpq",
        "outputId": "af816a8e-bb43-44da-dbc9-35a91040672b"
      },
      "source": [
        "pip install inflection"
      ],
      "execution_count": 1,
      "outputs": [
        {
          "output_type": "stream",
          "name": "stdout",
          "text": [
            "Collecting inflection\n",
            "  Downloading inflection-0.5.1-py2.py3-none-any.whl (9.5 kB)\n",
            "Installing collected packages: inflection\n",
            "Successfully installed inflection-0.5.1\n"
          ]
        }
      ]
    },
    {
      "cell_type": "markdown",
      "metadata": {
        "id": "UiXZAchqFuC-"
      },
      "source": [
        "#**1-Importando bibliotecas**"
      ]
    },
    {
      "cell_type": "code",
      "metadata": {
        "id": "ZjQg-8c_--wP"
      },
      "source": [
        "from tensorflow.keras.models import Sequential \n",
        "from tensorflow.keras.layers import Dense, Dropout, LSTM\n",
        "from tensorflow.keras.callbacks import EarlyStopping \n",
        "from sklearn.preprocessing import MinMaxScaler\n",
        "from sklearn.impute import SimpleImputer\n",
        "import numpy as np\n",
        "import pandas as pd\n",
        "import matplotlib.pyplot as plt\n",
        "import tensorflow as tf\n",
        "import math\n",
        "import seaborn as sns\n",
        "import datetime\n",
        "import inflection\n",
        "from IPython.core.display import HTML"
      ],
      "execution_count": 2,
      "outputs": []
    },
    {
      "cell_type": "markdown",
      "metadata": {
        "id": "SuPg1RFvQyMS"
      },
      "source": [
        "#**2-Funções auxiliares para o Jupyter Notebook**"
      ]
    },
    {
      "cell_type": "code",
      "metadata": {
        "id": "2vKvPdvDPJHc"
      },
      "source": [
        "def jupyter_settings():\n",
        "    %matplotlib inline\n",
        "    %pylab inline\n",
        "    \n",
        "    plt.style.use( 'bmh' )\n",
        "    plt.rcParams['figure.figsize'] = [25, 12]\n",
        "    plt.rcParams['font.size'] = 24\n",
        "    \n",
        "    display( HTML( '<style>.container { width:100% !important; }</style>') )\n",
        "    pd.options.display.max_columns = None\n",
        "    pd.options.display.max_rows = None\n",
        "    pd.set_option( 'display.expand_frame_repr', False )\n",
        "    \n",
        "    sns.set()"
      ],
      "execution_count": 3,
      "outputs": []
    },
    {
      "cell_type": "code",
      "metadata": {
        "colab": {
          "base_uri": "https://localhost:8080/",
          "height": 34
        },
        "id": "PGJn-AaoMxuy",
        "outputId": "206c9b75-c174-4d4d-cedc-fadef78b55a1"
      },
      "source": [
        "jupyter_settings()"
      ],
      "execution_count": 4,
      "outputs": [
        {
          "output_type": "stream",
          "name": "stdout",
          "text": [
            "Populating the interactive namespace from numpy and matplotlib\n"
          ]
        },
        {
          "output_type": "display_data",
          "data": {
            "text/html": [
              "<style>.container { width:100% !important; }</style>"
            ],
            "text/plain": [
              "<IPython.core.display.HTML object>"
            ]
          },
          "metadata": {}
        }
      ]
    },
    {
      "cell_type": "markdown",
      "metadata": {
        "id": "c_3core8Shq6"
      },
      "source": [
        "##**2.1Método de importação de arquivos do Google Colab**"
      ]
    },
    {
      "cell_type": "code",
      "metadata": {
        "id": "cTk_YEVdyms3",
        "colab": {
          "resources": {
            "http://localhost:8080/nbextensions/google.colab/files.js": {
              "data": "Ly8gQ29weXJpZ2h0IDIwMTcgR29vZ2xlIExMQwovLwovLyBMaWNlbnNlZCB1bmRlciB0aGUgQXBhY2hlIExpY2Vuc2UsIFZlcnNpb24gMi4wICh0aGUgIkxpY2Vuc2UiKTsKLy8geW91IG1heSBub3QgdXNlIHRoaXMgZmlsZSBleGNlcHQgaW4gY29tcGxpYW5jZSB3aXRoIHRoZSBMaWNlbnNlLgovLyBZb3UgbWF5IG9idGFpbiBhIGNvcHkgb2YgdGhlIExpY2Vuc2UgYXQKLy8KLy8gICAgICBodHRwOi8vd3d3LmFwYWNoZS5vcmcvbGljZW5zZXMvTElDRU5TRS0yLjAKLy8KLy8gVW5sZXNzIHJlcXVpcmVkIGJ5IGFwcGxpY2FibGUgbGF3IG9yIGFncmVlZCB0byBpbiB3cml0aW5nLCBzb2Z0d2FyZQovLyBkaXN0cmlidXRlZCB1bmRlciB0aGUgTGljZW5zZSBpcyBkaXN0cmlidXRlZCBvbiBhbiAiQVMgSVMiIEJBU0lTLAovLyBXSVRIT1VUIFdBUlJBTlRJRVMgT1IgQ09ORElUSU9OUyBPRiBBTlkgS0lORCwgZWl0aGVyIGV4cHJlc3Mgb3IgaW1wbGllZC4KLy8gU2VlIHRoZSBMaWNlbnNlIGZvciB0aGUgc3BlY2lmaWMgbGFuZ3VhZ2UgZ292ZXJuaW5nIHBlcm1pc3Npb25zIGFuZAovLyBsaW1pdGF0aW9ucyB1bmRlciB0aGUgTGljZW5zZS4KCi8qKgogKiBAZmlsZW92ZXJ2aWV3IEhlbHBlcnMgZm9yIGdvb2dsZS5jb2xhYiBQeXRob24gbW9kdWxlLgogKi8KKGZ1bmN0aW9uKHNjb3BlKSB7CmZ1bmN0aW9uIHNwYW4odGV4dCwgc3R5bGVBdHRyaWJ1dGVzID0ge30pIHsKICBjb25zdCBlbGVtZW50ID0gZG9jdW1lbnQuY3JlYXRlRWxlbWVudCgnc3BhbicpOwogIGVsZW1lbnQudGV4dENvbnRlbnQgPSB0ZXh0OwogIGZvciAoY29uc3Qga2V5IG9mIE9iamVjdC5rZXlzKHN0eWxlQXR0cmlidXRlcykpIHsKICAgIGVsZW1lbnQuc3R5bGVba2V5XSA9IHN0eWxlQXR0cmlidXRlc1trZXldOwogIH0KICByZXR1cm4gZWxlbWVudDsKfQoKLy8gTWF4IG51bWJlciBvZiBieXRlcyB3aGljaCB3aWxsIGJlIHVwbG9hZGVkIGF0IGEgdGltZS4KY29uc3QgTUFYX1BBWUxPQURfU0laRSA9IDEwMCAqIDEwMjQ7CgpmdW5jdGlvbiBfdXBsb2FkRmlsZXMoaW5wdXRJZCwgb3V0cHV0SWQpIHsKICBjb25zdCBzdGVwcyA9IHVwbG9hZEZpbGVzU3RlcChpbnB1dElkLCBvdXRwdXRJZCk7CiAgY29uc3Qgb3V0cHV0RWxlbWVudCA9IGRvY3VtZW50LmdldEVsZW1lbnRCeUlkKG91dHB1dElkKTsKICAvLyBDYWNoZSBzdGVwcyBvbiB0aGUgb3V0cHV0RWxlbWVudCB0byBtYWtlIGl0IGF2YWlsYWJsZSBmb3IgdGhlIG5leHQgY2FsbAogIC8vIHRvIHVwbG9hZEZpbGVzQ29udGludWUgZnJvbSBQeXRob24uCiAgb3V0cHV0RWxlbWVudC5zdGVwcyA9IHN0ZXBzOwoKICByZXR1cm4gX3VwbG9hZEZpbGVzQ29udGludWUob3V0cHV0SWQpOwp9CgovLyBUaGlzIGlzIHJvdWdobHkgYW4gYXN5bmMgZ2VuZXJhdG9yIChub3Qgc3VwcG9ydGVkIGluIHRoZSBicm93c2VyIHlldCksCi8vIHdoZXJlIHRoZXJlIGFyZSBtdWx0aXBsZSBhc3luY2hyb25vdXMgc3RlcHMgYW5kIHRoZSBQeXRob24gc2lkZSBpcyBnb2luZwovLyB0byBwb2xsIGZvciBjb21wbGV0aW9uIG9mIGVhY2ggc3RlcC4KLy8gVGhpcyB1c2VzIGEgUHJvbWlzZSB0byBibG9jayB0aGUgcHl0aG9uIHNpZGUgb24gY29tcGxldGlvbiBvZiBlYWNoIHN0ZXAsCi8vIHRoZW4gcGFzc2VzIHRoZSByZXN1bHQgb2YgdGhlIHByZXZpb3VzIHN0ZXAgYXMgdGhlIGlucHV0IHRvIHRoZSBuZXh0IHN0ZXAuCmZ1bmN0aW9uIF91cGxvYWRGaWxlc0NvbnRpbnVlKG91dHB1dElkKSB7CiAgY29uc3Qgb3V0cHV0RWxlbWVudCA9IGRvY3VtZW50LmdldEVsZW1lbnRCeUlkKG91dHB1dElkKTsKICBjb25zdCBzdGVwcyA9IG91dHB1dEVsZW1lbnQuc3RlcHM7CgogIGNvbnN0IG5leHQgPSBzdGVwcy5uZXh0KG91dHB1dEVsZW1lbnQubGFzdFByb21pc2VWYWx1ZSk7CiAgcmV0dXJuIFByb21pc2UucmVzb2x2ZShuZXh0LnZhbHVlLnByb21pc2UpLnRoZW4oKHZhbHVlKSA9PiB7CiAgICAvLyBDYWNoZSB0aGUgbGFzdCBwcm9taXNlIHZhbHVlIHRvIG1ha2UgaXQgYXZhaWxhYmxlIHRvIHRoZSBuZXh0CiAgICAvLyBzdGVwIG9mIHRoZSBnZW5lcmF0b3IuCiAgICBvdXRwdXRFbGVtZW50Lmxhc3RQcm9taXNlVmFsdWUgPSB2YWx1ZTsKICAgIHJldHVybiBuZXh0LnZhbHVlLnJlc3BvbnNlOwogIH0pOwp9CgovKioKICogR2VuZXJhdG9yIGZ1bmN0aW9uIHdoaWNoIGlzIGNhbGxlZCBiZXR3ZWVuIGVhY2ggYXN5bmMgc3RlcCBvZiB0aGUgdXBsb2FkCiAqIHByb2Nlc3MuCiAqIEBwYXJhbSB7c3RyaW5nfSBpbnB1dElkIEVsZW1lbnQgSUQgb2YgdGhlIGlucHV0IGZpbGUgcGlja2VyIGVsZW1lbnQuCiAqIEBwYXJhbSB7c3RyaW5nfSBvdXRwdXRJZCBFbGVtZW50IElEIG9mIHRoZSBvdXRwdXQgZGlzcGxheS4KICogQHJldHVybiB7IUl0ZXJhYmxlPCFPYmplY3Q+fSBJdGVyYWJsZSBvZiBuZXh0IHN0ZXBzLgogKi8KZnVuY3Rpb24qIHVwbG9hZEZpbGVzU3RlcChpbnB1dElkLCBvdXRwdXRJZCkgewogIGNvbnN0IGlucHV0RWxlbWVudCA9IGRvY3VtZW50LmdldEVsZW1lbnRCeUlkKGlucHV0SWQpOwogIGlucHV0RWxlbWVudC5kaXNhYmxlZCA9IGZhbHNlOwoKICBjb25zdCBvdXRwdXRFbGVtZW50ID0gZG9jdW1lbnQuZ2V0RWxlbWVudEJ5SWQob3V0cHV0SWQpOwogIG91dHB1dEVsZW1lbnQuaW5uZXJIVE1MID0gJyc7CgogIGNvbnN0IHBpY2tlZFByb21pc2UgPSBuZXcgUHJvbWlzZSgocmVzb2x2ZSkgPT4gewogICAgaW5wdXRFbGVtZW50LmFkZEV2ZW50TGlzdGVuZXIoJ2NoYW5nZScsIChlKSA9PiB7CiAgICAgIHJlc29sdmUoZS50YXJnZXQuZmlsZXMpOwogICAgfSk7CiAgfSk7CgogIGNvbnN0IGNhbmNlbCA9IGRvY3VtZW50LmNyZWF0ZUVsZW1lbnQoJ2J1dHRvbicpOwogIGlucHV0RWxlbWVudC5wYXJlbnRFbGVtZW50LmFwcGVuZENoaWxkKGNhbmNlbCk7CiAgY2FuY2VsLnRleHRDb250ZW50ID0gJ0NhbmNlbCB1cGxvYWQnOwogIGNvbnN0IGNhbmNlbFByb21pc2UgPSBuZXcgUHJvbWlzZSgocmVzb2x2ZSkgPT4gewogICAgY2FuY2VsLm9uY2xpY2sgPSAoKSA9PiB7CiAgICAgIHJlc29sdmUobnVsbCk7CiAgICB9OwogIH0pOwoKICAvLyBXYWl0IGZvciB0aGUgdXNlciB0byBwaWNrIHRoZSBmaWxlcy4KICBjb25zdCBmaWxlcyA9IHlpZWxkIHsKICAgIHByb21pc2U6IFByb21pc2UucmFjZShbcGlja2VkUHJvbWlzZSwgY2FuY2VsUHJvbWlzZV0pLAogICAgcmVzcG9uc2U6IHsKICAgICAgYWN0aW9uOiAnc3RhcnRpbmcnLAogICAgfQogIH07CgogIGNhbmNlbC5yZW1vdmUoKTsKCiAgLy8gRGlzYWJsZSB0aGUgaW5wdXQgZWxlbWVudCBzaW5jZSBmdXJ0aGVyIHBpY2tzIGFyZSBub3QgYWxsb3dlZC4KICBpbnB1dEVsZW1lbnQuZGlzYWJsZWQgPSB0cnVlOwoKICBpZiAoIWZpbGVzKSB7CiAgICByZXR1cm4gewogICAgICByZXNwb25zZTogewogICAgICAgIGFjdGlvbjogJ2NvbXBsZXRlJywKICAgICAgfQogICAgfTsKICB9CgogIGZvciAoY29uc3QgZmlsZSBvZiBmaWxlcykgewogICAgY29uc3QgbGkgPSBkb2N1bWVudC5jcmVhdGVFbGVtZW50KCdsaScpOwogICAgbGkuYXBwZW5kKHNwYW4oZmlsZS5uYW1lLCB7Zm9udFdlaWdodDogJ2JvbGQnfSkpOwogICAgbGkuYXBwZW5kKHNwYW4oCiAgICAgICAgYCgke2ZpbGUudHlwZSB8fCAnbi9hJ30pIC0gJHtmaWxlLnNpemV9IGJ5dGVzLCBgICsKICAgICAgICBgbGFzdCBtb2RpZmllZDogJHsKICAgICAgICAgICAgZmlsZS5sYXN0TW9kaWZpZWREYXRlID8gZmlsZS5sYXN0TW9kaWZpZWREYXRlLnRvTG9jYWxlRGF0ZVN0cmluZygpIDoKICAgICAgICAgICAgICAgICAgICAgICAgICAgICAgICAgICAgJ24vYSd9IC0gYCkpOwogICAgY29uc3QgcGVyY2VudCA9IHNwYW4oJzAlIGRvbmUnKTsKICAgIGxpLmFwcGVuZENoaWxkKHBlcmNlbnQpOwoKICAgIG91dHB1dEVsZW1lbnQuYXBwZW5kQ2hpbGQobGkpOwoKICAgIGNvbnN0IGZpbGVEYXRhUHJvbWlzZSA9IG5ldyBQcm9taXNlKChyZXNvbHZlKSA9PiB7CiAgICAgIGNvbnN0IHJlYWRlciA9IG5ldyBGaWxlUmVhZGVyKCk7CiAgICAgIHJlYWRlci5vbmxvYWQgPSAoZSkgPT4gewogICAgICAgIHJlc29sdmUoZS50YXJnZXQucmVzdWx0KTsKICAgICAgfTsKICAgICAgcmVhZGVyLnJlYWRBc0FycmF5QnVmZmVyKGZpbGUpOwogICAgfSk7CiAgICAvLyBXYWl0IGZvciB0aGUgZGF0YSB0byBiZSByZWFkeS4KICAgIGxldCBmaWxlRGF0YSA9IHlpZWxkIHsKICAgICAgcHJvbWlzZTogZmlsZURhdGFQcm9taXNlLAogICAgICByZXNwb25zZTogewogICAgICAgIGFjdGlvbjogJ2NvbnRpbnVlJywKICAgICAgfQogICAgfTsKCiAgICAvLyBVc2UgYSBjaHVua2VkIHNlbmRpbmcgdG8gYXZvaWQgbWVzc2FnZSBzaXplIGxpbWl0cy4gU2VlIGIvNjIxMTU2NjAuCiAgICBsZXQgcG9zaXRpb24gPSAwOwogICAgZG8gewogICAgICBjb25zdCBsZW5ndGggPSBNYXRoLm1pbihmaWxlRGF0YS5ieXRlTGVuZ3RoIC0gcG9zaXRpb24sIE1BWF9QQVlMT0FEX1NJWkUpOwogICAgICBjb25zdCBjaHVuayA9IG5ldyBVaW50OEFycmF5KGZpbGVEYXRhLCBwb3NpdGlvbiwgbGVuZ3RoKTsKICAgICAgcG9zaXRpb24gKz0gbGVuZ3RoOwoKICAgICAgY29uc3QgYmFzZTY0ID0gYnRvYShTdHJpbmcuZnJvbUNoYXJDb2RlLmFwcGx5KG51bGwsIGNodW5rKSk7CiAgICAgIHlpZWxkIHsKICAgICAgICByZXNwb25zZTogewogICAgICAgICAgYWN0aW9uOiAnYXBwZW5kJywKICAgICAgICAgIGZpbGU6IGZpbGUubmFtZSwKICAgICAgICAgIGRhdGE6IGJhc2U2NCwKICAgICAgICB9LAogICAgICB9OwoKICAgICAgbGV0IHBlcmNlbnREb25lID0gZmlsZURhdGEuYnl0ZUxlbmd0aCA9PT0gMCA/CiAgICAgICAgICAxMDAgOgogICAgICAgICAgTWF0aC5yb3VuZCgocG9zaXRpb24gLyBmaWxlRGF0YS5ieXRlTGVuZ3RoKSAqIDEwMCk7CiAgICAgIHBlcmNlbnQudGV4dENvbnRlbnQgPSBgJHtwZXJjZW50RG9uZX0lIGRvbmVgOwoKICAgIH0gd2hpbGUgKHBvc2l0aW9uIDwgZmlsZURhdGEuYnl0ZUxlbmd0aCk7CiAgfQoKICAvLyBBbGwgZG9uZS4KICB5aWVsZCB7CiAgICByZXNwb25zZTogewogICAgICBhY3Rpb246ICdjb21wbGV0ZScsCiAgICB9CiAgfTsKfQoKc2NvcGUuZ29vZ2xlID0gc2NvcGUuZ29vZ2xlIHx8IHt9OwpzY29wZS5nb29nbGUuY29sYWIgPSBzY29wZS5nb29nbGUuY29sYWIgfHwge307CnNjb3BlLmdvb2dsZS5jb2xhYi5fZmlsZXMgPSB7CiAgX3VwbG9hZEZpbGVzLAogIF91cGxvYWRGaWxlc0NvbnRpbnVlLAp9Owp9KShzZWxmKTsK",
              "ok": true,
              "headers": [
                [
                  "content-type",
                  "application/javascript"
                ]
              ],
              "status": 200,
              "status_text": ""
            }
          },
          "base_uri": "https://localhost:8080/",
          "height": 157
        },
        "outputId": "9b5a81cf-87da-4ce4-c223-163b16d046c9"
      },
      "source": [
        "from google.colab import files\n",
        "upload = files.upload()\n",
        "print(\"downloaded files: \")\n",
        "print(*upload, sep = \"\\n\")"
      ],
      "execution_count": 5,
      "outputs": [
        {
          "output_type": "display_data",
          "data": {
            "text/html": [
              "\n",
              "     <input type=\"file\" id=\"files-7386a833-b4fe-44a7-bcd7-7f4dfa70361a\" name=\"files[]\" multiple disabled\n",
              "        style=\"border:none\" />\n",
              "     <output id=\"result-7386a833-b4fe-44a7-bcd7-7f4dfa70361a\">\n",
              "      Upload widget is only available when the cell has been executed in the\n",
              "      current browser session. Please rerun this cell to enable.\n",
              "      </output>\n",
              "      <script src=\"/nbextensions/google.colab/files.js\"></script> "
            ],
            "text/plain": [
              "<IPython.core.display.HTML object>"
            ]
          },
          "metadata": {}
        },
        {
          "output_type": "stream",
          "name": "stdout",
          "text": [
            "Saving MRVE3-teste.csv to MRVE3-teste.csv\n",
            "Saving MRVE3-treinamento.csv to MRVE3-treinamento.csv\n",
            "downloaded files: \n",
            "MRVE3-teste.csv\n",
            "MRVE3-treinamento.csv\n"
          ]
        }
      ]
    },
    {
      "cell_type": "markdown",
      "metadata": {
        "id": "8MLClRMWPwTL"
      },
      "source": [
        "#**3-Tratamento dos dados**"
      ]
    },
    {
      "cell_type": "markdown",
      "metadata": {
        "id": "DOJanakhS-s2"
      },
      "source": [
        "##**3.1-Importando os dados**"
      ]
    },
    {
      "cell_type": "code",
      "metadata": {
        "id": "vYFCwA5GTB2j"
      },
      "source": [
        "base = pd.read_csv('MRVE3-treinamento.csv')\n",
        "base = base.drop('Date', axis = 1)"
      ],
      "execution_count": 6,
      "outputs": []
    },
    {
      "cell_type": "code",
      "metadata": {
        "colab": {
          "base_uri": "https://localhost:8080/",
          "height": 297
        },
        "id": "SD9oSvK-NE0Y",
        "outputId": "ecc2f8bd-b778-4be6-ce92-22baceb6cdbf"
      },
      "source": [
        "#valores estatísticos\n",
        "base.describe()"
      ],
      "execution_count": 7,
      "outputs": [
        {
          "output_type": "execute_result",
          "data": {
            "text/html": [
              "<div>\n",
              "<style scoped>\n",
              "    .dataframe tbody tr th:only-of-type {\n",
              "        vertical-align: middle;\n",
              "    }\n",
              "\n",
              "    .dataframe tbody tr th {\n",
              "        vertical-align: top;\n",
              "    }\n",
              "\n",
              "    .dataframe thead th {\n",
              "        text-align: right;\n",
              "    }\n",
              "</style>\n",
              "<table border=\"1\" class=\"dataframe\">\n",
              "  <thead>\n",
              "    <tr style=\"text-align: right;\">\n",
              "      <th></th>\n",
              "      <th>Open</th>\n",
              "      <th>High</th>\n",
              "      <th>Low</th>\n",
              "      <th>Close</th>\n",
              "      <th>Adj Close</th>\n",
              "      <th>Volume</th>\n",
              "      <th>media_movel</th>\n",
              "    </tr>\n",
              "  </thead>\n",
              "  <tbody>\n",
              "    <tr>\n",
              "      <th>count</th>\n",
              "      <td>2231.000000</td>\n",
              "      <td>2231.000000</td>\n",
              "      <td>2231.000000</td>\n",
              "      <td>2231.000000</td>\n",
              "      <td>2231.000000</td>\n",
              "      <td>2.231000e+03</td>\n",
              "      <td>2231.000000</td>\n",
              "    </tr>\n",
              "    <tr>\n",
              "      <th>mean</th>\n",
              "      <td>10.283918</td>\n",
              "      <td>10.469918</td>\n",
              "      <td>10.090187</td>\n",
              "      <td>10.274600</td>\n",
              "      <td>7.154917</td>\n",
              "      <td>4.074749e+06</td>\n",
              "      <td>10.284116</td>\n",
              "    </tr>\n",
              "    <tr>\n",
              "      <th>std</th>\n",
              "      <td>2.559057</td>\n",
              "      <td>2.579387</td>\n",
              "      <td>2.523019</td>\n",
              "      <td>2.551348</td>\n",
              "      <td>2.040824</td>\n",
              "      <td>2.699636e+06</td>\n",
              "      <td>2.552865</td>\n",
              "    </tr>\n",
              "    <tr>\n",
              "      <th>min</th>\n",
              "      <td>5.500065</td>\n",
              "      <td>5.590975</td>\n",
              "      <td>5.372790</td>\n",
              "      <td>5.500065</td>\n",
              "      <td>3.675109</td>\n",
              "      <td>0.000000e+00</td>\n",
              "      <td>5.587945</td>\n",
              "    </tr>\n",
              "    <tr>\n",
              "      <th>25%</th>\n",
              "      <td>7.841001</td>\n",
              "      <td>7.986458</td>\n",
              "      <td>7.681908</td>\n",
              "      <td>7.818274</td>\n",
              "      <td>5.337414</td>\n",
              "      <td>2.459295e+06</td>\n",
              "      <td>7.827365</td>\n",
              "    </tr>\n",
              "    <tr>\n",
              "      <th>50%</th>\n",
              "      <td>10.691035</td>\n",
              "      <td>10.881946</td>\n",
              "      <td>10.481942</td>\n",
              "      <td>10.691035</td>\n",
              "      <td>6.869619</td>\n",
              "      <td>3.558457e+06</td>\n",
              "      <td>10.681944</td>\n",
              "    </tr>\n",
              "    <tr>\n",
              "      <th>75%</th>\n",
              "      <td>12.231962</td>\n",
              "      <td>12.409237</td>\n",
              "      <td>12.018323</td>\n",
              "      <td>12.227417</td>\n",
              "      <td>8.821945</td>\n",
              "      <td>5.068960e+06</td>\n",
              "      <td>12.227417</td>\n",
              "    </tr>\n",
              "    <tr>\n",
              "      <th>max</th>\n",
              "      <td>16.636560</td>\n",
              "      <td>16.982018</td>\n",
              "      <td>16.591105</td>\n",
              "      <td>16.636560</td>\n",
              "      <td>12.112385</td>\n",
              "      <td>4.379862e+07</td>\n",
              "      <td>16.415345</td>\n",
              "    </tr>\n",
              "  </tbody>\n",
              "</table>\n",
              "</div>"
            ],
            "text/plain": [
              "              Open         High          Low        Close    Adj Close        Volume  media_movel\n",
              "count  2231.000000  2231.000000  2231.000000  2231.000000  2231.000000  2.231000e+03  2231.000000\n",
              "mean     10.283918    10.469918    10.090187    10.274600     7.154917  4.074749e+06    10.284116\n",
              "std       2.559057     2.579387     2.523019     2.551348     2.040824  2.699636e+06     2.552865\n",
              "min       5.500065     5.590975     5.372790     5.500065     3.675109  0.000000e+00     5.587945\n",
              "25%       7.841001     7.986458     7.681908     7.818274     5.337414  2.459295e+06     7.827365\n",
              "50%      10.691035    10.881946    10.481942    10.691035     6.869619  3.558457e+06    10.681944\n",
              "75%      12.231962    12.409237    12.018323    12.227417     8.821945  5.068960e+06    12.227417\n",
              "max      16.636560    16.982018    16.591105    16.636560    12.112385  4.379862e+07    16.415345"
            ]
          },
          "metadata": {},
          "execution_count": 7
        }
      ]
    },
    {
      "cell_type": "code",
      "metadata": {
        "colab": {
          "base_uri": "https://localhost:8080/"
        },
        "id": "fbKUPwPSNJqm",
        "outputId": "e750b889-0e9a-46a4-ef74-7b675131a306"
      },
      "source": [
        "base.dtypes"
      ],
      "execution_count": 8,
      "outputs": [
        {
          "output_type": "execute_result",
          "data": {
            "text/plain": [
              "Open           float64\n",
              "High           float64\n",
              "Low            float64\n",
              "Close          float64\n",
              "Adj Close      float64\n",
              "Volume           int64\n",
              "media_movel    float64\n",
              "dtype: object"
            ]
          },
          "metadata": {},
          "execution_count": 8
        }
      ]
    },
    {
      "cell_type": "markdown",
      "metadata": {
        "id": "bCTD3wo2TfZF"
      },
      "source": [
        "##**3.2-Tratando os Valores Faltantes**"
      ]
    },
    {
      "cell_type": "code",
      "metadata": {
        "colab": {
          "base_uri": "https://localhost:8080/"
        },
        "id": "H60SOo8MTjjP",
        "outputId": "8cb9bb6d-babd-49fe-9d3b-b9a5f1b2e6fd"
      },
      "source": [
        "#valores faltantes\n",
        "base.isna().sum()"
      ],
      "execution_count": 9,
      "outputs": [
        {
          "output_type": "execute_result",
          "data": {
            "text/plain": [
              "Open           0\n",
              "High           0\n",
              "Low            0\n",
              "Close          0\n",
              "Adj Close      0\n",
              "Volume         0\n",
              "media_movel    0\n",
              "dtype: int64"
            ]
          },
          "metadata": {},
          "execution_count": 9
        }
      ]
    },
    {
      "cell_type": "code",
      "metadata": {
        "colab": {
          "base_uri": "https://localhost:8080/",
          "height": 49
        },
        "id": "H-DMfyHXTkdi",
        "outputId": "7f1d8eca-7b0a-4b5c-fc98-57bacfa72631"
      },
      "source": [
        "#encontrando onde os valores faltantes estão\n",
        "base.loc[pd.isnull(base['Open'])]\n",
        "base.loc[pd.isnull(base['High'])]\n",
        "base.loc[pd.isnull(base['Low'])]\n",
        "base.loc[pd.isnull(base['Close'])]\n",
        "base.loc[pd.isnull(base['Adj Close'])]\n",
        "base.loc[pd.isnull(base['Volume'])]\n",
        "base.loc[pd.isnull(base['media_movel'])]"
      ],
      "execution_count": 10,
      "outputs": [
        {
          "output_type": "execute_result",
          "data": {
            "text/html": [
              "<div>\n",
              "<style scoped>\n",
              "    .dataframe tbody tr th:only-of-type {\n",
              "        vertical-align: middle;\n",
              "    }\n",
              "\n",
              "    .dataframe tbody tr th {\n",
              "        vertical-align: top;\n",
              "    }\n",
              "\n",
              "    .dataframe thead th {\n",
              "        text-align: right;\n",
              "    }\n",
              "</style>\n",
              "<table border=\"1\" class=\"dataframe\">\n",
              "  <thead>\n",
              "    <tr style=\"text-align: right;\">\n",
              "      <th></th>\n",
              "      <th>Open</th>\n",
              "      <th>High</th>\n",
              "      <th>Low</th>\n",
              "      <th>Close</th>\n",
              "      <th>Adj Close</th>\n",
              "      <th>Volume</th>\n",
              "      <th>media_movel</th>\n",
              "    </tr>\n",
              "  </thead>\n",
              "  <tbody>\n",
              "  </tbody>\n",
              "</table>\n",
              "</div>"
            ],
            "text/plain": [
              "Empty DataFrame\n",
              "Columns: [Open, High, Low, Close, Adj Close, Volume, media_movel]\n",
              "Index: []"
            ]
          },
          "metadata": {},
          "execution_count": 10
        }
      ]
    },
    {
      "cell_type": "code",
      "metadata": {
        "id": "6q0YFzy9TmPD"
      },
      "source": [
        "#preenchendo os valores nulos com o valor médio\n",
        "imputer = SimpleImputer(missing_values=np.nan, strategy='mean',verbose=0)\n",
        "imputer = imputer.fit(base.iloc[:,0:7])\n",
        "base.iloc[:,0:7] = imputer.transform(base.iloc[:,0:7])"
      ],
      "execution_count": 11,
      "outputs": []
    },
    {
      "cell_type": "code",
      "metadata": {
        "colab": {
          "base_uri": "https://localhost:8080/",
          "height": 49
        },
        "id": "gQC2HfFnTpe2",
        "outputId": "543017bb-db39-4226-ad13-bd5de5a9ab33"
      },
      "source": [
        "#verificando novamente se ainda temos valores faltantes\n",
        "base.loc[pd.isnull(base['Open'])]\n",
        "base.loc[pd.isnull(base['High'])]\n",
        "base.loc[pd.isnull(base['Low'])]\n",
        "base.loc[pd.isnull(base['Close'])]\n",
        "base.loc[pd.isnull(base['Adj Close'])]\n",
        "base.loc[pd.isnull(base['Volume'])]\n",
        "base.loc[pd.isnull(base['media_movel'])]"
      ],
      "execution_count": 12,
      "outputs": [
        {
          "output_type": "execute_result",
          "data": {
            "text/html": [
              "<div>\n",
              "<style scoped>\n",
              "    .dataframe tbody tr th:only-of-type {\n",
              "        vertical-align: middle;\n",
              "    }\n",
              "\n",
              "    .dataframe tbody tr th {\n",
              "        vertical-align: top;\n",
              "    }\n",
              "\n",
              "    .dataframe thead th {\n",
              "        text-align: right;\n",
              "    }\n",
              "</style>\n",
              "<table border=\"1\" class=\"dataframe\">\n",
              "  <thead>\n",
              "    <tr style=\"text-align: right;\">\n",
              "      <th></th>\n",
              "      <th>Open</th>\n",
              "      <th>High</th>\n",
              "      <th>Low</th>\n",
              "      <th>Close</th>\n",
              "      <th>Adj Close</th>\n",
              "      <th>Volume</th>\n",
              "      <th>media_movel</th>\n",
              "    </tr>\n",
              "  </thead>\n",
              "  <tbody>\n",
              "  </tbody>\n",
              "</table>\n",
              "</div>"
            ],
            "text/plain": [
              "Empty DataFrame\n",
              "Columns: [Open, High, Low, Close, Adj Close, Volume, media_movel]\n",
              "Index: []"
            ]
          },
          "metadata": {},
          "execution_count": 12
        }
      ]
    },
    {
      "cell_type": "markdown",
      "metadata": {
        "id": "_WuI_UbmTt3W"
      },
      "source": [
        "##**3.3-Tratamento dos valores nulos (iguais a 0)**"
      ]
    },
    {
      "cell_type": "code",
      "metadata": {
        "colab": {
          "base_uri": "https://localhost:8080/"
        },
        "id": "hyRiBN32Twb2",
        "outputId": "3ac691f2-8e0a-475d-b430-e45459e33bd8"
      },
      "source": [
        "#valores nulos\n",
        "(base == 0).sum()"
      ],
      "execution_count": 13,
      "outputs": [
        {
          "output_type": "execute_result",
          "data": {
            "text/plain": [
              "Open            0\n",
              "High            0\n",
              "Low             0\n",
              "Close           0\n",
              "Adj Close       0\n",
              "Volume         30\n",
              "media_movel     0\n",
              "dtype: int64"
            ]
          },
          "metadata": {},
          "execution_count": 13
        }
      ]
    },
    {
      "cell_type": "code",
      "metadata": {
        "colab": {
          "base_uri": "https://localhost:8080/",
          "height": 979
        },
        "id": "nQPTB9_TT3Dy",
        "outputId": "416a8edf-7ffb-459e-f189-afc95e63920f"
      },
      "source": [
        "#Encontrando os valores nulos\n",
        "base.loc[base['Volume'] == 0]"
      ],
      "execution_count": 14,
      "outputs": [
        {
          "output_type": "execute_result",
          "data": {
            "text/html": [
              "<div>\n",
              "<style scoped>\n",
              "    .dataframe tbody tr th:only-of-type {\n",
              "        vertical-align: middle;\n",
              "    }\n",
              "\n",
              "    .dataframe tbody tr th {\n",
              "        vertical-align: top;\n",
              "    }\n",
              "\n",
              "    .dataframe thead th {\n",
              "        text-align: right;\n",
              "    }\n",
              "</style>\n",
              "<table border=\"1\" class=\"dataframe\">\n",
              "  <thead>\n",
              "    <tr style=\"text-align: right;\">\n",
              "      <th></th>\n",
              "      <th>Open</th>\n",
              "      <th>High</th>\n",
              "      <th>Low</th>\n",
              "      <th>Close</th>\n",
              "      <th>Adj Close</th>\n",
              "      <th>Volume</th>\n",
              "      <th>media_movel</th>\n",
              "    </tr>\n",
              "  </thead>\n",
              "  <tbody>\n",
              "    <tr>\n",
              "      <th>284</th>\n",
              "      <td>12.018323</td>\n",
              "      <td>12.018323</td>\n",
              "      <td>12.018323</td>\n",
              "      <td>12.018323</td>\n",
              "      <td>7.226080</td>\n",
              "      <td>0.0</td>\n",
              "      <td>12.015293</td>\n",
              "    </tr>\n",
              "    <tr>\n",
              "      <th>291</th>\n",
              "      <td>12.181962</td>\n",
              "      <td>12.181962</td>\n",
              "      <td>12.181962</td>\n",
              "      <td>12.181962</td>\n",
              "      <td>7.324469</td>\n",
              "      <td>0.0</td>\n",
              "      <td>12.172871</td>\n",
              "    </tr>\n",
              "    <tr>\n",
              "      <th>308</th>\n",
              "      <td>11.709229</td>\n",
              "      <td>11.709229</td>\n",
              "      <td>11.709229</td>\n",
              "      <td>11.709229</td>\n",
              "      <td>7.040236</td>\n",
              "      <td>0.0</td>\n",
              "      <td>11.775896</td>\n",
              "    </tr>\n",
              "    <tr>\n",
              "      <th>319</th>\n",
              "      <td>11.954686</td>\n",
              "      <td>11.954686</td>\n",
              "      <td>11.954686</td>\n",
              "      <td>11.954686</td>\n",
              "      <td>7.187818</td>\n",
              "      <td>0.0</td>\n",
              "      <td>12.051657</td>\n",
              "    </tr>\n",
              "    <tr>\n",
              "      <th>333</th>\n",
              "      <td>12.500147</td>\n",
              "      <td>12.500147</td>\n",
              "      <td>12.500147</td>\n",
              "      <td>12.500147</td>\n",
              "      <td>7.515780</td>\n",
              "      <td>0.0</td>\n",
              "      <td>12.197113</td>\n",
              "    </tr>\n",
              "    <tr>\n",
              "      <th>337</th>\n",
              "      <td>13.709252</td>\n",
              "      <td>13.709252</td>\n",
              "      <td>13.709252</td>\n",
              "      <td>13.709252</td>\n",
              "      <td>8.242761</td>\n",
              "      <td>0.0</td>\n",
              "      <td>13.248641</td>\n",
              "    </tr>\n",
              "    <tr>\n",
              "      <th>450</th>\n",
              "      <td>10.691035</td>\n",
              "      <td>10.691035</td>\n",
              "      <td>10.691035</td>\n",
              "      <td>10.691035</td>\n",
              "      <td>6.515060</td>\n",
              "      <td>0.0</td>\n",
              "      <td>10.527397</td>\n",
              "    </tr>\n",
              "    <tr>\n",
              "      <th>451</th>\n",
              "      <td>10.691035</td>\n",
              "      <td>10.691035</td>\n",
              "      <td>10.691035</td>\n",
              "      <td>10.691035</td>\n",
              "      <td>6.515060</td>\n",
              "      <td>0.0</td>\n",
              "      <td>10.630428</td>\n",
              "    </tr>\n",
              "    <tr>\n",
              "      <th>452</th>\n",
              "      <td>10.691035</td>\n",
              "      <td>10.691035</td>\n",
              "      <td>10.691035</td>\n",
              "      <td>10.691035</td>\n",
              "      <td>6.515060</td>\n",
              "      <td>0.0</td>\n",
              "      <td>10.691035</td>\n",
              "    </tr>\n",
              "    <tr>\n",
              "      <th>461</th>\n",
              "      <td>9.909208</td>\n",
              "      <td>9.909208</td>\n",
              "      <td>9.909208</td>\n",
              "      <td>9.909208</td>\n",
              "      <td>6.038619</td>\n",
              "      <td>0.0</td>\n",
              "      <td>10.236484</td>\n",
              "    </tr>\n",
              "    <tr>\n",
              "      <th>482</th>\n",
              "      <td>10.936492</td>\n",
              "      <td>10.936492</td>\n",
              "      <td>10.936492</td>\n",
              "      <td>10.936492</td>\n",
              "      <td>6.664640</td>\n",
              "      <td>0.0</td>\n",
              "      <td>10.978917</td>\n",
              "    </tr>\n",
              "    <tr>\n",
              "      <th>507</th>\n",
              "      <td>11.109222</td>\n",
              "      <td>11.109222</td>\n",
              "      <td>11.109222</td>\n",
              "      <td>11.109222</td>\n",
              "      <td>6.769902</td>\n",
              "      <td>0.0</td>\n",
              "      <td>11.175889</td>\n",
              "    </tr>\n",
              "    <tr>\n",
              "      <th>525</th>\n",
              "      <td>12.291054</td>\n",
              "      <td>12.291054</td>\n",
              "      <td>12.291054</td>\n",
              "      <td>12.291054</td>\n",
              "      <td>7.490102</td>\n",
              "      <td>0.0</td>\n",
              "      <td>12.242568</td>\n",
              "    </tr>\n",
              "    <tr>\n",
              "      <th>547</th>\n",
              "      <td>13.063790</td>\n",
              "      <td>13.063790</td>\n",
              "      <td>13.063790</td>\n",
              "      <td>13.063790</td>\n",
              "      <td>7.961003</td>\n",
              "      <td>0.0</td>\n",
              "      <td>13.063790</td>\n",
              "    </tr>\n",
              "    <tr>\n",
              "      <th>587</th>\n",
              "      <td>8.572828</td>\n",
              "      <td>8.572828</td>\n",
              "      <td>8.572828</td>\n",
              "      <td>8.572828</td>\n",
              "      <td>5.224236</td>\n",
              "      <td>0.0</td>\n",
              "      <td>9.475869</td>\n",
              "    </tr>\n",
              "    <tr>\n",
              "      <th>590</th>\n",
              "      <td>8.963742</td>\n",
              "      <td>8.963742</td>\n",
              "      <td>8.963742</td>\n",
              "      <td>8.963742</td>\n",
              "      <td>5.703623</td>\n",
              "      <td>0.0</td>\n",
              "      <td>8.866771</td>\n",
              "    </tr>\n",
              "    <tr>\n",
              "      <th>609</th>\n",
              "      <td>8.272825</td>\n",
              "      <td>8.272825</td>\n",
              "      <td>8.272825</td>\n",
              "      <td>8.272825</td>\n",
              "      <td>5.263993</td>\n",
              "      <td>0.0</td>\n",
              "      <td>8.030398</td>\n",
              "    </tr>\n",
              "    <tr>\n",
              "      <th>628</th>\n",
              "      <td>9.163744</td>\n",
              "      <td>9.163744</td>\n",
              "      <td>9.163744</td>\n",
              "      <td>9.163744</td>\n",
              "      <td>5.830884</td>\n",
              "      <td>0.0</td>\n",
              "      <td>9.024349</td>\n",
              "    </tr>\n",
              "    <tr>\n",
              "      <th>819</th>\n",
              "      <td>7.727364</td>\n",
              "      <td>7.727364</td>\n",
              "      <td>7.727364</td>\n",
              "      <td>7.727364</td>\n",
              "      <td>4.916917</td>\n",
              "      <td>0.0</td>\n",
              "      <td>7.884941</td>\n",
              "    </tr>\n",
              "    <tr>\n",
              "      <th>881</th>\n",
              "      <td>6.336438</td>\n",
              "      <td>6.336438</td>\n",
              "      <td>6.336438</td>\n",
              "      <td>6.336438</td>\n",
              "      <td>4.213077</td>\n",
              "      <td>0.0</td>\n",
              "      <td>6.315226</td>\n",
              "    </tr>\n",
              "    <tr>\n",
              "      <th>1831</th>\n",
              "      <td>12.345600</td>\n",
              "      <td>12.345600</td>\n",
              "      <td>12.345600</td>\n",
              "      <td>12.345600</td>\n",
              "      <td>9.879048</td>\n",
              "      <td>0.0</td>\n",
              "      <td>12.257720</td>\n",
              "    </tr>\n",
              "    <tr>\n",
              "      <th>1844</th>\n",
              "      <td>11.909231</td>\n",
              "      <td>11.909231</td>\n",
              "      <td>11.909231</td>\n",
              "      <td>11.909231</td>\n",
              "      <td>9.529862</td>\n",
              "      <td>0.0</td>\n",
              "      <td>11.851655</td>\n",
              "    </tr>\n",
              "    <tr>\n",
              "      <th>1904</th>\n",
              "      <td>12.981971</td>\n",
              "      <td>12.981971</td>\n",
              "      <td>12.981971</td>\n",
              "      <td>12.981971</td>\n",
              "      <td>10.388279</td>\n",
              "      <td>0.0</td>\n",
              "      <td>12.703180</td>\n",
              "    </tr>\n",
              "    <tr>\n",
              "      <th>1929</th>\n",
              "      <td>13.009244</td>\n",
              "      <td>13.009244</td>\n",
              "      <td>13.009244</td>\n",
              "      <td>13.009244</td>\n",
              "      <td>10.410102</td>\n",
              "      <td>0.0</td>\n",
              "      <td>12.903182</td>\n",
              "    </tr>\n",
              "    <tr>\n",
              "      <th>1944</th>\n",
              "      <td>11.909231</td>\n",
              "      <td>11.909231</td>\n",
              "      <td>11.909231</td>\n",
              "      <td>11.909231</td>\n",
              "      <td>9.529862</td>\n",
              "      <td>0.0</td>\n",
              "      <td>11.784987</td>\n",
              "    </tr>\n",
              "    <tr>\n",
              "      <th>1953</th>\n",
              "      <td>11.600137</td>\n",
              "      <td>11.600137</td>\n",
              "      <td>11.600137</td>\n",
              "      <td>11.600137</td>\n",
              "      <td>9.282523</td>\n",
              "      <td>0.0</td>\n",
              "      <td>11.630440</td>\n",
              "    </tr>\n",
              "    <tr>\n",
              "      <th>1956</th>\n",
              "      <td>12.163780</td>\n",
              "      <td>12.163780</td>\n",
              "      <td>12.163780</td>\n",
              "      <td>12.163780</td>\n",
              "      <td>9.733554</td>\n",
              "      <td>0.0</td>\n",
              "      <td>11.954686</td>\n",
              "    </tr>\n",
              "    <tr>\n",
              "      <th>1981</th>\n",
              "      <td>13.118336</td>\n",
              "      <td>13.118336</td>\n",
              "      <td>13.118336</td>\n",
              "      <td>13.118336</td>\n",
              "      <td>10.497398</td>\n",
              "      <td>0.0</td>\n",
              "      <td>12.957728</td>\n",
              "    </tr>\n",
              "    <tr>\n",
              "      <th>1985</th>\n",
              "      <td>13.672888</td>\n",
              "      <td>13.672888</td>\n",
              "      <td>13.672888</td>\n",
              "      <td>13.672888</td>\n",
              "      <td>10.941155</td>\n",
              "      <td>0.0</td>\n",
              "      <td>13.403188</td>\n",
              "    </tr>\n",
              "    <tr>\n",
              "      <th>2003</th>\n",
              "      <td>13.881982</td>\n",
              "      <td>13.881982</td>\n",
              "      <td>13.881982</td>\n",
              "      <td>13.881982</td>\n",
              "      <td>11.108475</td>\n",
              "      <td>0.0</td>\n",
              "      <td>13.894103</td>\n",
              "    </tr>\n",
              "  </tbody>\n",
              "</table>\n",
              "</div>"
            ],
            "text/plain": [
              "           Open       High        Low      Close  Adj Close  Volume  media_movel\n",
              "284   12.018323  12.018323  12.018323  12.018323   7.226080     0.0    12.015293\n",
              "291   12.181962  12.181962  12.181962  12.181962   7.324469     0.0    12.172871\n",
              "308   11.709229  11.709229  11.709229  11.709229   7.040236     0.0    11.775896\n",
              "319   11.954686  11.954686  11.954686  11.954686   7.187818     0.0    12.051657\n",
              "333   12.500147  12.500147  12.500147  12.500147   7.515780     0.0    12.197113\n",
              "337   13.709252  13.709252  13.709252  13.709252   8.242761     0.0    13.248641\n",
              "450   10.691035  10.691035  10.691035  10.691035   6.515060     0.0    10.527397\n",
              "451   10.691035  10.691035  10.691035  10.691035   6.515060     0.0    10.630428\n",
              "452   10.691035  10.691035  10.691035  10.691035   6.515060     0.0    10.691035\n",
              "461    9.909208   9.909208   9.909208   9.909208   6.038619     0.0    10.236484\n",
              "482   10.936492  10.936492  10.936492  10.936492   6.664640     0.0    10.978917\n",
              "507   11.109222  11.109222  11.109222  11.109222   6.769902     0.0    11.175889\n",
              "525   12.291054  12.291054  12.291054  12.291054   7.490102     0.0    12.242568\n",
              "547   13.063790  13.063790  13.063790  13.063790   7.961003     0.0    13.063790\n",
              "587    8.572828   8.572828   8.572828   8.572828   5.224236     0.0     9.475869\n",
              "590    8.963742   8.963742   8.963742   8.963742   5.703623     0.0     8.866771\n",
              "609    8.272825   8.272825   8.272825   8.272825   5.263993     0.0     8.030398\n",
              "628    9.163744   9.163744   9.163744   9.163744   5.830884     0.0     9.024349\n",
              "819    7.727364   7.727364   7.727364   7.727364   4.916917     0.0     7.884941\n",
              "881    6.336438   6.336438   6.336438   6.336438   4.213077     0.0     6.315226\n",
              "1831  12.345600  12.345600  12.345600  12.345600   9.879048     0.0    12.257720\n",
              "1844  11.909231  11.909231  11.909231  11.909231   9.529862     0.0    11.851655\n",
              "1904  12.981971  12.981971  12.981971  12.981971  10.388279     0.0    12.703180\n",
              "1929  13.009244  13.009244  13.009244  13.009244  10.410102     0.0    12.903182\n",
              "1944  11.909231  11.909231  11.909231  11.909231   9.529862     0.0    11.784987\n",
              "1953  11.600137  11.600137  11.600137  11.600137   9.282523     0.0    11.630440\n",
              "1956  12.163780  12.163780  12.163780  12.163780   9.733554     0.0    11.954686\n",
              "1981  13.118336  13.118336  13.118336  13.118336  10.497398     0.0    12.957728\n",
              "1985  13.672888  13.672888  13.672888  13.672888  10.941155     0.0    13.403188\n",
              "2003  13.881982  13.881982  13.881982  13.881982  11.108475     0.0    13.894103"
            ]
          },
          "metadata": {},
          "execution_count": 14
        }
      ]
    },
    {
      "cell_type": "code",
      "metadata": {
        "id": "352jPyV0T5JJ"
      },
      "source": [
        "#preenchendo os valores nulos com o valor médio\n",
        "imputer = SimpleImputer(missing_values=0, strategy='mean',verbose=0)\n",
        "imputer = imputer.fit(base.iloc[:,0:7])\n",
        "base.iloc[:,0:7] = imputer.transform(base.iloc[:,0:7])"
      ],
      "execution_count": 15,
      "outputs": []
    },
    {
      "cell_type": "code",
      "metadata": {
        "colab": {
          "base_uri": "https://localhost:8080/",
          "height": 49
        },
        "id": "xI5JdDykT66_",
        "outputId": "dbec57e0-1e3e-456f-cf9a-a5af95cf83e6"
      },
      "source": [
        "#Verificando novamente se ainda temos valores nulos\n",
        "base.loc[base['Volume'] == 0]"
      ],
      "execution_count": 16,
      "outputs": [
        {
          "output_type": "execute_result",
          "data": {
            "text/html": [
              "<div>\n",
              "<style scoped>\n",
              "    .dataframe tbody tr th:only-of-type {\n",
              "        vertical-align: middle;\n",
              "    }\n",
              "\n",
              "    .dataframe tbody tr th {\n",
              "        vertical-align: top;\n",
              "    }\n",
              "\n",
              "    .dataframe thead th {\n",
              "        text-align: right;\n",
              "    }\n",
              "</style>\n",
              "<table border=\"1\" class=\"dataframe\">\n",
              "  <thead>\n",
              "    <tr style=\"text-align: right;\">\n",
              "      <th></th>\n",
              "      <th>Open</th>\n",
              "      <th>High</th>\n",
              "      <th>Low</th>\n",
              "      <th>Close</th>\n",
              "      <th>Adj Close</th>\n",
              "      <th>Volume</th>\n",
              "      <th>media_movel</th>\n",
              "    </tr>\n",
              "  </thead>\n",
              "  <tbody>\n",
              "  </tbody>\n",
              "</table>\n",
              "</div>"
            ],
            "text/plain": [
              "Empty DataFrame\n",
              "Columns: [Open, High, Low, Close, Adj Close, Volume, media_movel]\n",
              "Index: []"
            ]
          },
          "metadata": {},
          "execution_count": 16
        }
      ]
    },
    {
      "cell_type": "code",
      "metadata": {
        "id": "NYW0UUz0T9Kq"
      },
      "source": [
        "#base = base.dropna()"
      ],
      "execution_count": 17,
      "outputs": []
    },
    {
      "cell_type": "code",
      "metadata": {
        "id": "ceOotOwsT_Er"
      },
      "source": [
        "#base.sample()"
      ],
      "execution_count": 18,
      "outputs": []
    },
    {
      "cell_type": "markdown",
      "metadata": {
        "id": "hCiQYMqPGHuG"
      },
      "source": [
        "#**-Descrição dos dados** IGNORE ESTA CÉLULA"
      ]
    },
    {
      "cell_type": "code",
      "metadata": {
        "id": "xalwLdRSGLRD"
      },
      "source": [
        "#Tendencia central - mean, median\n",
        "ct1 = pd.DataFrame(base.apply(np.mean)).T #T transpondo \n",
        "ct2 = pd.DataFrame(base.apply(np.median)).T\n",
        "#Dispersão - std(desvio padrão), min, max, range\n",
        "d1 = pd.DataFrame(base.apply(np.std)).T\n",
        "d2 = pd.DataFrame(base.apply(min)).T\n",
        "d3 = pd.DataFrame(base.apply(max)).T\n",
        "d4 = pd.DataFrame(base.apply(lambda x: x.max() - x.min())).T\n",
        "#concatenate\n",
        "m = pd.concat([d2,d3,d4,ct1,ct2,d1]).T.reset_index()\n",
        "m.columns = ['attributes','min','max','range', 'mean', 'median', 'std']\n",
        "m"
      ],
      "execution_count": null,
      "outputs": []
    },
    {
      "cell_type": "code",
      "metadata": {
        "colab": {
          "base_uri": "https://localhost:8080/"
        },
        "id": "j62Bj8jOQz_G",
        "outputId": "9e5055ec-b49f-4f7d-e3c1-b3fc2b1dae42"
      },
      "source": [
        "base.shape[0]"
      ],
      "execution_count": null,
      "outputs": [
        {
          "output_type": "execute_result",
          "data": {
            "text/plain": [
              "2478"
            ]
          },
          "metadata": {
            "tags": []
          },
          "execution_count": 20
        }
      ]
    },
    {
      "cell_type": "markdown",
      "metadata": {
        "id": "4IDwP-XV_Ohd"
      },
      "source": [
        "#**4-Treinamento da rede**"
      ]
    },
    {
      "cell_type": "code",
      "metadata": {
        "id": "mpo6RlDsUHNJ"
      },
      "source": [
        "#normalizando a base de dados com o MinMaxScaler\n",
        "base_treinamento = base.iloc[:, 0:7].values\n",
        "normalizador = MinMaxScaler(feature_range=(0,1))\n",
        "base_treinamento_normalizada = normalizador.fit_transform(base_treinamento)"
      ],
      "execution_count": 58,
      "outputs": []
    },
    {
      "cell_type": "code",
      "metadata": {
        "id": "d-LD4OEaUNf7"
      },
      "source": [
        "#Comparando a predição com o preço real\n",
        "previsores = []\n",
        "preco_real = []\n",
        "for i in range(90, 2231):\n",
        "    previsores.append(base_treinamento_normalizada[i-90:i, 0:7])\n",
        "    preco_real.append(base_treinamento_normalizada[i, 3:4])\n",
        "previsores, preco_real = np.array(previsores), np.array(preco_real)\n"
      ],
      "execution_count": 59,
      "outputs": []
    },
    {
      "cell_type": "code",
      "metadata": {
        "colab": {
          "base_uri": "https://localhost:8080/"
        },
        "id": "ZftXowA9URdt",
        "outputId": "a991d24a-a236-46a9-d5e1-bc7e2eddd003"
      },
      "source": [
        "#estrutura da rede neural \n",
        "regressor = Sequential()\n",
        "regressor.add(LSTM(units = 90, return_sequences = True, input_shape = (previsores.shape[1], 7)))\n",
        "regressor.add(Dropout(0.3))\n",
        "\n",
        "regressor.add(LSTM(units = 90, return_sequences = True))\n",
        "regressor.add(Dropout(0.3))\n",
        "\n",
        "regressor.add(LSTM(units = 90, return_sequences = True))\n",
        "regressor.add(Dropout(0.3))\n",
        "\n",
        "regressor.add(LSTM(units = 90))\n",
        "regressor.add(Dropout(0.3))\n",
        "\n",
        "regressor.add(Dense(units = 1, activation = 'sigmoid'))\n",
        "\n",
        "es = EarlyStopping(monitor = 'loss', min_delta = 1e-15, patience = 20, verbose = 1)\n",
        "\n",
        "#regressor.compile(optimizer = 'RMSprop', loss = 'mean_squared_error',\n",
        "#                  metrics = ['mean_absolute_error'])\n",
        "opt = tf.keras.optimizers.Adam(amsgrad=True)\n",
        "regressor.compile(optimizer = opt, loss = 'mean_squared_error',\n",
        "                  metrics = ['mean_absolute_error'])\n",
        "#opt = tf.keras.optimizers.RMSprop(centered=True)\n",
        "#regressor.compile(optimizer = opt, loss = 'mean_squared_error',\n",
        "#                 metrics = ['mean_absolute_error'])\n",
        "\n",
        "regressor.fit(previsores, preco_real, epochs = 600, batch_size = 32,\n",
        "              callbacks = [es])\n",
        "#regressor.fit(previsores, preco_real, epochs = 600, batch_size = 32)"
      ],
      "execution_count": 60,
      "outputs": [
        {
          "output_type": "stream",
          "name": "stdout",
          "text": [
            "Epoch 1/600\n",
            "67/67 [==============================] - 13s 97ms/step - loss: 0.0140 - mean_absolute_error: 0.0885\n",
            "Epoch 2/600\n",
            "67/67 [==============================] - 7s 97ms/step - loss: 0.0057 - mean_absolute_error: 0.0603\n",
            "Epoch 3/600\n",
            "67/67 [==============================] - 7s 98ms/step - loss: 0.0045 - mean_absolute_error: 0.0522\n",
            "Epoch 4/600\n",
            "67/67 [==============================] - 7s 98ms/step - loss: 0.0037 - mean_absolute_error: 0.0473\n",
            "Epoch 5/600\n",
            "67/67 [==============================] - 7s 97ms/step - loss: 0.0032 - mean_absolute_error: 0.0441\n",
            "Epoch 6/600\n",
            "67/67 [==============================] - 7s 97ms/step - loss: 0.0031 - mean_absolute_error: 0.0441\n",
            "Epoch 7/600\n",
            "67/67 [==============================] - 7s 97ms/step - loss: 0.0029 - mean_absolute_error: 0.0422\n",
            "Epoch 8/600\n",
            "67/67 [==============================] - 7s 97ms/step - loss: 0.0027 - mean_absolute_error: 0.0404\n",
            "Epoch 9/600\n",
            "67/67 [==============================] - 7s 98ms/step - loss: 0.0028 - mean_absolute_error: 0.0411\n",
            "Epoch 10/600\n",
            "67/67 [==============================] - 7s 97ms/step - loss: 0.0024 - mean_absolute_error: 0.0384\n",
            "Epoch 11/600\n",
            "67/67 [==============================] - 7s 98ms/step - loss: 0.0023 - mean_absolute_error: 0.0376\n",
            "Epoch 12/600\n",
            "67/67 [==============================] - 7s 98ms/step - loss: 0.0022 - mean_absolute_error: 0.0363\n",
            "Epoch 13/600\n",
            "67/67 [==============================] - 7s 97ms/step - loss: 0.0023 - mean_absolute_error: 0.0371\n",
            "Epoch 14/600\n",
            "67/67 [==============================] - 7s 97ms/step - loss: 0.0021 - mean_absolute_error: 0.0357\n",
            "Epoch 15/600\n",
            "67/67 [==============================] - 6s 97ms/step - loss: 0.0021 - mean_absolute_error: 0.0358\n",
            "Epoch 16/600\n",
            "67/67 [==============================] - 7s 98ms/step - loss: 0.0018 - mean_absolute_error: 0.0332\n",
            "Epoch 17/600\n",
            "67/67 [==============================] - 7s 97ms/step - loss: 0.0018 - mean_absolute_error: 0.0338\n",
            "Epoch 18/600\n",
            "67/67 [==============================] - 7s 98ms/step - loss: 0.0016 - mean_absolute_error: 0.0313\n",
            "Epoch 19/600\n",
            "67/67 [==============================] - 6s 97ms/step - loss: 0.0017 - mean_absolute_error: 0.0314\n",
            "Epoch 20/600\n",
            "67/67 [==============================] - 7s 98ms/step - loss: 0.0016 - mean_absolute_error: 0.0312\n",
            "Epoch 21/600\n",
            "67/67 [==============================] - 7s 98ms/step - loss: 0.0017 - mean_absolute_error: 0.0315\n",
            "Epoch 22/600\n",
            "67/67 [==============================] - 7s 97ms/step - loss: 0.0015 - mean_absolute_error: 0.0298\n",
            "Epoch 23/600\n",
            "67/67 [==============================] - 7s 97ms/step - loss: 0.0015 - mean_absolute_error: 0.0307\n",
            "Epoch 24/600\n",
            "67/67 [==============================] - 6s 97ms/step - loss: 0.0015 - mean_absolute_error: 0.0294\n",
            "Epoch 25/600\n",
            "67/67 [==============================] - 7s 98ms/step - loss: 0.0014 - mean_absolute_error: 0.0289\n",
            "Epoch 26/600\n",
            "67/67 [==============================] - 7s 97ms/step - loss: 0.0014 - mean_absolute_error: 0.0293\n",
            "Epoch 27/600\n",
            "67/67 [==============================] - 7s 98ms/step - loss: 0.0014 - mean_absolute_error: 0.0297\n",
            "Epoch 28/600\n",
            "67/67 [==============================] - 7s 97ms/step - loss: 0.0014 - mean_absolute_error: 0.0284\n",
            "Epoch 29/600\n",
            "67/67 [==============================] - 7s 97ms/step - loss: 0.0015 - mean_absolute_error: 0.0295\n",
            "Epoch 30/600\n",
            "67/67 [==============================] - 7s 97ms/step - loss: 0.0013 - mean_absolute_error: 0.0277\n",
            "Epoch 31/600\n",
            "67/67 [==============================] - 7s 98ms/step - loss: 0.0013 - mean_absolute_error: 0.0282\n",
            "Epoch 32/600\n",
            "67/67 [==============================] - 7s 98ms/step - loss: 0.0013 - mean_absolute_error: 0.0279\n",
            "Epoch 33/600\n",
            "67/67 [==============================] - 7s 97ms/step - loss: 0.0012 - mean_absolute_error: 0.0264\n",
            "Epoch 34/600\n",
            "67/67 [==============================] - 7s 97ms/step - loss: 0.0013 - mean_absolute_error: 0.0276\n",
            "Epoch 35/600\n",
            "67/67 [==============================] - 7s 97ms/step - loss: 0.0012 - mean_absolute_error: 0.0271\n",
            "Epoch 36/600\n",
            "67/67 [==============================] - 7s 98ms/step - loss: 0.0012 - mean_absolute_error: 0.0266\n",
            "Epoch 37/600\n",
            "67/67 [==============================] - 7s 98ms/step - loss: 0.0012 - mean_absolute_error: 0.0271\n",
            "Epoch 38/600\n",
            "67/67 [==============================] - 7s 98ms/step - loss: 0.0012 - mean_absolute_error: 0.0271\n",
            "Epoch 39/600\n",
            "67/67 [==============================] - 7s 98ms/step - loss: 0.0013 - mean_absolute_error: 0.0283\n",
            "Epoch 40/600\n",
            "67/67 [==============================] - 7s 97ms/step - loss: 0.0012 - mean_absolute_error: 0.0271\n",
            "Epoch 41/600\n",
            "67/67 [==============================] - 7s 98ms/step - loss: 0.0012 - mean_absolute_error: 0.0270\n",
            "Epoch 42/600\n",
            "67/67 [==============================] - 7s 98ms/step - loss: 0.0012 - mean_absolute_error: 0.0270\n",
            "Epoch 43/600\n",
            "67/67 [==============================] - 7s 98ms/step - loss: 0.0012 - mean_absolute_error: 0.0271\n",
            "Epoch 44/600\n",
            "67/67 [==============================] - 7s 98ms/step - loss: 0.0012 - mean_absolute_error: 0.0264\n",
            "Epoch 45/600\n",
            "67/67 [==============================] - 7s 98ms/step - loss: 0.0012 - mean_absolute_error: 0.0269\n",
            "Epoch 46/600\n",
            "67/67 [==============================] - 7s 98ms/step - loss: 0.0012 - mean_absolute_error: 0.0266\n",
            "Epoch 47/600\n",
            "67/67 [==============================] - 7s 98ms/step - loss: 0.0012 - mean_absolute_error: 0.0264\n",
            "Epoch 48/600\n",
            "67/67 [==============================] - 7s 98ms/step - loss: 0.0011 - mean_absolute_error: 0.0265\n",
            "Epoch 49/600\n",
            "67/67 [==============================] - 7s 98ms/step - loss: 0.0012 - mean_absolute_error: 0.0274\n",
            "Epoch 50/600\n",
            "67/67 [==============================] - 7s 98ms/step - loss: 0.0013 - mean_absolute_error: 0.0279\n",
            "Epoch 51/600\n",
            "67/67 [==============================] - 7s 98ms/step - loss: 0.0011 - mean_absolute_error: 0.0263\n",
            "Epoch 52/600\n",
            "67/67 [==============================] - 7s 98ms/step - loss: 0.0011 - mean_absolute_error: 0.0256\n",
            "Epoch 53/600\n",
            "67/67 [==============================] - 7s 98ms/step - loss: 0.0011 - mean_absolute_error: 0.0261\n",
            "Epoch 54/600\n",
            "67/67 [==============================] - 7s 98ms/step - loss: 0.0010 - mean_absolute_error: 0.0249\n",
            "Epoch 55/600\n",
            "67/67 [==============================] - 7s 98ms/step - loss: 0.0011 - mean_absolute_error: 0.0256\n",
            "Epoch 56/600\n",
            "67/67 [==============================] - 7s 98ms/step - loss: 0.0011 - mean_absolute_error: 0.0258\n",
            "Epoch 57/600\n",
            "67/67 [==============================] - 7s 98ms/step - loss: 0.0011 - mean_absolute_error: 0.0251\n",
            "Epoch 58/600\n",
            "67/67 [==============================] - 7s 98ms/step - loss: 0.0011 - mean_absolute_error: 0.0259\n",
            "Epoch 59/600\n",
            "67/67 [==============================] - 7s 98ms/step - loss: 0.0011 - mean_absolute_error: 0.0253\n",
            "Epoch 60/600\n",
            "67/67 [==============================] - 7s 98ms/step - loss: 0.0012 - mean_absolute_error: 0.0265\n",
            "Epoch 61/600\n",
            "67/67 [==============================] - 7s 97ms/step - loss: 0.0010 - mean_absolute_error: 0.0249\n",
            "Epoch 62/600\n",
            "67/67 [==============================] - 7s 98ms/step - loss: 0.0010 - mean_absolute_error: 0.0248\n",
            "Epoch 63/600\n",
            "67/67 [==============================] - 7s 97ms/step - loss: 0.0011 - mean_absolute_error: 0.0256\n",
            "Epoch 64/600\n",
            "67/67 [==============================] - 7s 97ms/step - loss: 0.0011 - mean_absolute_error: 0.0260\n",
            "Epoch 65/600\n",
            "67/67 [==============================] - 7s 98ms/step - loss: 0.0011 - mean_absolute_error: 0.0249\n",
            "Epoch 66/600\n",
            "67/67 [==============================] - 7s 98ms/step - loss: 0.0011 - mean_absolute_error: 0.0253\n",
            "Epoch 67/600\n",
            "67/67 [==============================] - 7s 98ms/step - loss: 0.0010 - mean_absolute_error: 0.0248\n",
            "Epoch 68/600\n",
            "67/67 [==============================] - 7s 98ms/step - loss: 0.0012 - mean_absolute_error: 0.0268\n",
            "Epoch 69/600\n",
            "67/67 [==============================] - 7s 98ms/step - loss: 9.9614e-04 - mean_absolute_error: 0.0245\n",
            "Epoch 70/600\n",
            "67/67 [==============================] - 7s 98ms/step - loss: 0.0010 - mean_absolute_error: 0.0246\n",
            "Epoch 71/600\n",
            "67/67 [==============================] - 7s 98ms/step - loss: 9.5720e-04 - mean_absolute_error: 0.0239\n",
            "Epoch 72/600\n",
            "67/67 [==============================] - 7s 98ms/step - loss: 9.8023e-04 - mean_absolute_error: 0.0242\n",
            "Epoch 73/600\n",
            "67/67 [==============================] - 7s 98ms/step - loss: 0.0011 - mean_absolute_error: 0.0253\n",
            "Epoch 74/600\n",
            "67/67 [==============================] - 7s 98ms/step - loss: 0.0010 - mean_absolute_error: 0.0248\n",
            "Epoch 75/600\n",
            "67/67 [==============================] - 7s 98ms/step - loss: 9.8202e-04 - mean_absolute_error: 0.0243\n",
            "Epoch 76/600\n",
            "67/67 [==============================] - 7s 98ms/step - loss: 0.0010 - mean_absolute_error: 0.0248\n",
            "Epoch 77/600\n",
            "67/67 [==============================] - 7s 98ms/step - loss: 0.0010 - mean_absolute_error: 0.0243\n",
            "Epoch 78/600\n",
            "67/67 [==============================] - 7s 98ms/step - loss: 0.0010 - mean_absolute_error: 0.0248\n",
            "Epoch 79/600\n",
            "67/67 [==============================] - 7s 98ms/step - loss: 9.9492e-04 - mean_absolute_error: 0.0245\n",
            "Epoch 80/600\n",
            "67/67 [==============================] - 7s 98ms/step - loss: 0.0010 - mean_absolute_error: 0.0246\n",
            "Epoch 81/600\n",
            "67/67 [==============================] - 7s 98ms/step - loss: 0.0010 - mean_absolute_error: 0.0250\n",
            "Epoch 82/600\n",
            "67/67 [==============================] - 7s 98ms/step - loss: 9.9695e-04 - mean_absolute_error: 0.0241\n",
            "Epoch 83/600\n",
            "67/67 [==============================] - 7s 98ms/step - loss: 0.0010 - mean_absolute_error: 0.0245\n",
            "Epoch 84/600\n",
            "67/67 [==============================] - 7s 98ms/step - loss: 0.0010 - mean_absolute_error: 0.0246\n",
            "Epoch 85/600\n",
            "67/67 [==============================] - 7s 98ms/step - loss: 9.9171e-04 - mean_absolute_error: 0.0245\n",
            "Epoch 86/600\n",
            "67/67 [==============================] - 7s 99ms/step - loss: 9.9561e-04 - mean_absolute_error: 0.0245\n",
            "Epoch 87/600\n",
            "67/67 [==============================] - 7s 98ms/step - loss: 9.9841e-04 - mean_absolute_error: 0.0245\n",
            "Epoch 88/600\n",
            "67/67 [==============================] - 7s 98ms/step - loss: 9.8701e-04 - mean_absolute_error: 0.0242\n",
            "Epoch 89/600\n",
            "67/67 [==============================] - 7s 98ms/step - loss: 0.0010 - mean_absolute_error: 0.0251\n",
            "Epoch 90/600\n",
            "67/67 [==============================] - 7s 99ms/step - loss: 9.4108e-04 - mean_absolute_error: 0.0240\n",
            "Epoch 91/600\n",
            "67/67 [==============================] - 7s 98ms/step - loss: 0.0010 - mean_absolute_error: 0.0247\n",
            "Epoch 92/600\n",
            "67/67 [==============================] - 7s 99ms/step - loss: 0.0010 - mean_absolute_error: 0.0244\n",
            "Epoch 93/600\n",
            "67/67 [==============================] - 7s 99ms/step - loss: 9.6659e-04 - mean_absolute_error: 0.0238\n",
            "Epoch 94/600\n",
            "67/67 [==============================] - 7s 99ms/step - loss: 9.4954e-04 - mean_absolute_error: 0.0237\n",
            "Epoch 95/600\n",
            "67/67 [==============================] - 7s 98ms/step - loss: 9.7527e-04 - mean_absolute_error: 0.0243\n",
            "Epoch 96/600\n",
            "67/67 [==============================] - 7s 98ms/step - loss: 9.2419e-04 - mean_absolute_error: 0.0232\n",
            "Epoch 97/600\n",
            "67/67 [==============================] - 7s 99ms/step - loss: 0.0010 - mean_absolute_error: 0.0243\n",
            "Epoch 98/600\n",
            "67/67 [==============================] - 7s 99ms/step - loss: 9.4311e-04 - mean_absolute_error: 0.0238\n",
            "Epoch 99/600\n",
            "67/67 [==============================] - 7s 99ms/step - loss: 9.5847e-04 - mean_absolute_error: 0.0239\n",
            "Epoch 100/600\n",
            "67/67 [==============================] - 7s 99ms/step - loss: 0.0010 - mean_absolute_error: 0.0245\n",
            "Epoch 101/600\n",
            "67/67 [==============================] - 7s 99ms/step - loss: 9.5263e-04 - mean_absolute_error: 0.0239\n",
            "Epoch 102/600\n",
            "67/67 [==============================] - 7s 99ms/step - loss: 9.5016e-04 - mean_absolute_error: 0.0238\n",
            "Epoch 103/600\n",
            "67/67 [==============================] - 7s 98ms/step - loss: 9.5390e-04 - mean_absolute_error: 0.0240\n",
            "Epoch 104/600\n",
            "67/67 [==============================] - 7s 98ms/step - loss: 9.6800e-04 - mean_absolute_error: 0.0241\n",
            "Epoch 105/600\n",
            "67/67 [==============================] - 7s 98ms/step - loss: 9.2542e-04 - mean_absolute_error: 0.0234\n",
            "Epoch 106/600\n",
            "67/67 [==============================] - 7s 99ms/step - loss: 9.4773e-04 - mean_absolute_error: 0.0237\n",
            "Epoch 107/600\n",
            "67/67 [==============================] - 7s 98ms/step - loss: 9.8682e-04 - mean_absolute_error: 0.0245\n",
            "Epoch 108/600\n",
            "67/67 [==============================] - 7s 98ms/step - loss: 9.6602e-04 - mean_absolute_error: 0.0241\n",
            "Epoch 109/600\n",
            "67/67 [==============================] - 7s 99ms/step - loss: 9.0173e-04 - mean_absolute_error: 0.0232\n",
            "Epoch 110/600\n",
            "67/67 [==============================] - 7s 98ms/step - loss: 9.6808e-04 - mean_absolute_error: 0.0240\n",
            "Epoch 111/600\n",
            "67/67 [==============================] - 7s 98ms/step - loss: 9.7385e-04 - mean_absolute_error: 0.0242\n",
            "Epoch 112/600\n",
            "67/67 [==============================] - 7s 98ms/step - loss: 9.8682e-04 - mean_absolute_error: 0.0249\n",
            "Epoch 113/600\n",
            "67/67 [==============================] - 7s 99ms/step - loss: 9.0347e-04 - mean_absolute_error: 0.0233\n",
            "Epoch 114/600\n",
            "67/67 [==============================] - 7s 98ms/step - loss: 9.6076e-04 - mean_absolute_error: 0.0240\n",
            "Epoch 115/600\n",
            "67/67 [==============================] - 7s 99ms/step - loss: 9.7286e-04 - mean_absolute_error: 0.0243\n",
            "Epoch 116/600\n",
            "67/67 [==============================] - 7s 98ms/step - loss: 9.3987e-04 - mean_absolute_error: 0.0234\n",
            "Epoch 117/600\n",
            "67/67 [==============================] - 7s 98ms/step - loss: 8.9167e-04 - mean_absolute_error: 0.0232\n",
            "Epoch 118/600\n",
            "67/67 [==============================] - 7s 99ms/step - loss: 9.2226e-04 - mean_absolute_error: 0.0236\n",
            "Epoch 119/600\n",
            "67/67 [==============================] - 7s 99ms/step - loss: 9.8184e-04 - mean_absolute_error: 0.0242\n",
            "Epoch 120/600\n",
            "67/67 [==============================] - 7s 98ms/step - loss: 8.8053e-04 - mean_absolute_error: 0.0230\n",
            "Epoch 121/600\n",
            "67/67 [==============================] - 7s 99ms/step - loss: 9.1869e-04 - mean_absolute_error: 0.0234\n",
            "Epoch 122/600\n",
            "67/67 [==============================] - 7s 99ms/step - loss: 9.7826e-04 - mean_absolute_error: 0.0243\n",
            "Epoch 123/600\n",
            "67/67 [==============================] - 7s 99ms/step - loss: 9.1771e-04 - mean_absolute_error: 0.0232\n",
            "Epoch 124/600\n",
            "67/67 [==============================] - 7s 99ms/step - loss: 9.4151e-04 - mean_absolute_error: 0.0241\n",
            "Epoch 125/600\n",
            "67/67 [==============================] - 7s 98ms/step - loss: 9.7551e-04 - mean_absolute_error: 0.0241\n",
            "Epoch 126/600\n",
            "67/67 [==============================] - 7s 99ms/step - loss: 9.4571e-04 - mean_absolute_error: 0.0236\n",
            "Epoch 127/600\n",
            "67/67 [==============================] - 7s 98ms/step - loss: 9.3679e-04 - mean_absolute_error: 0.0236\n",
            "Epoch 128/600\n",
            "67/67 [==============================] - 7s 98ms/step - loss: 9.1421e-04 - mean_absolute_error: 0.0233\n",
            "Epoch 129/600\n",
            "67/67 [==============================] - 7s 98ms/step - loss: 9.0280e-04 - mean_absolute_error: 0.0233\n",
            "Epoch 130/600\n",
            "67/67 [==============================] - 7s 98ms/step - loss: 9.0783e-04 - mean_absolute_error: 0.0231\n",
            "Epoch 131/600\n",
            "67/67 [==============================] - 7s 98ms/step - loss: 8.3846e-04 - mean_absolute_error: 0.0226\n",
            "Epoch 132/600\n",
            "67/67 [==============================] - 7s 98ms/step - loss: 8.9392e-04 - mean_absolute_error: 0.0230\n",
            "Epoch 133/600\n",
            "67/67 [==============================] - 7s 99ms/step - loss: 9.3368e-04 - mean_absolute_error: 0.0236\n",
            "Epoch 134/600\n",
            "67/67 [==============================] - 7s 99ms/step - loss: 9.1099e-04 - mean_absolute_error: 0.0232\n",
            "Epoch 135/600\n",
            "67/67 [==============================] - 7s 99ms/step - loss: 9.3419e-04 - mean_absolute_error: 0.0237\n",
            "Epoch 136/600\n",
            "67/67 [==============================] - 7s 99ms/step - loss: 9.4197e-04 - mean_absolute_error: 0.0234\n",
            "Epoch 137/600\n",
            "67/67 [==============================] - 7s 99ms/step - loss: 9.2277e-04 - mean_absolute_error: 0.0235\n",
            "Epoch 138/600\n",
            "67/67 [==============================] - 7s 100ms/step - loss: 9.5237e-04 - mean_absolute_error: 0.0239\n",
            "Epoch 139/600\n",
            "67/67 [==============================] - 7s 100ms/step - loss: 8.5588e-04 - mean_absolute_error: 0.0229\n",
            "Epoch 140/600\n",
            "67/67 [==============================] - 7s 99ms/step - loss: 9.8284e-04 - mean_absolute_error: 0.0245\n",
            "Epoch 141/600\n",
            "67/67 [==============================] - 7s 99ms/step - loss: 8.9387e-04 - mean_absolute_error: 0.0231\n",
            "Epoch 142/600\n",
            "67/67 [==============================] - 7s 99ms/step - loss: 8.9334e-04 - mean_absolute_error: 0.0230\n",
            "Epoch 143/600\n",
            "67/67 [==============================] - 7s 99ms/step - loss: 9.2453e-04 - mean_absolute_error: 0.0236\n",
            "Epoch 144/600\n",
            "67/67 [==============================] - 7s 99ms/step - loss: 9.5137e-04 - mean_absolute_error: 0.0240\n",
            "Epoch 145/600\n",
            "67/67 [==============================] - 7s 99ms/step - loss: 8.8083e-04 - mean_absolute_error: 0.0230\n",
            "Epoch 146/600\n",
            "67/67 [==============================] - 7s 99ms/step - loss: 9.2440e-04 - mean_absolute_error: 0.0233\n",
            "Epoch 147/600\n",
            "67/67 [==============================] - 7s 99ms/step - loss: 9.5296e-04 - mean_absolute_error: 0.0239\n",
            "Epoch 148/600\n",
            "67/67 [==============================] - 7s 99ms/step - loss: 9.1112e-04 - mean_absolute_error: 0.0237\n",
            "Epoch 149/600\n",
            "67/67 [==============================] - 7s 99ms/step - loss: 9.4295e-04 - mean_absolute_error: 0.0236\n",
            "Epoch 150/600\n",
            "67/67 [==============================] - 7s 99ms/step - loss: 9.0557e-04 - mean_absolute_error: 0.0230\n",
            "Epoch 151/600\n",
            "67/67 [==============================] - 7s 99ms/step - loss: 8.7838e-04 - mean_absolute_error: 0.0228\n",
            "Epoch 00151: early stopping\n"
          ]
        },
        {
          "output_type": "execute_result",
          "data": {
            "text/plain": [
              "<keras.callbacks.History at 0x7f94e88d48d0>"
            ]
          },
          "metadata": {},
          "execution_count": 60
        }
      ]
    },
    {
      "cell_type": "markdown",
      "metadata": {
        "id": "RtFahmEgGAzZ"
      },
      "source": [
        "#**5-Teste da rede**"
      ]
    },
    {
      "cell_type": "markdown",
      "metadata": {
        "id": "QSWSKW8nqeA0"
      },
      "source": [
        "##**5.1-Importando os dados para teste**"
      ]
    },
    {
      "cell_type": "code",
      "metadata": {
        "id": "4X6-ArtKUdpD"
      },
      "source": [
        "#criando a base de dados teste\n",
        "base_teste = pd.read_csv('MRVE3-teste.csv')\n",
        "base_teste = base_teste.drop('Date', axis = 1)"
      ],
      "execution_count": 61,
      "outputs": []
    },
    {
      "cell_type": "code",
      "metadata": {
        "colab": {
          "base_uri": "https://localhost:8080/",
          "height": 0
        },
        "id": "dXOp2vDcpAvA",
        "outputId": "add3450b-6855-42b6-89f1-1a7dcec6aa51"
      },
      "source": [
        "#valores estatísticos\n",
        "base_teste.describe()"
      ],
      "execution_count": 62,
      "outputs": [
        {
          "output_type": "execute_result",
          "data": {
            "text/html": [
              "<div>\n",
              "<style scoped>\n",
              "    .dataframe tbody tr th:only-of-type {\n",
              "        vertical-align: middle;\n",
              "    }\n",
              "\n",
              "    .dataframe tbody tr th {\n",
              "        vertical-align: top;\n",
              "    }\n",
              "\n",
              "    .dataframe thead th {\n",
              "        text-align: right;\n",
              "    }\n",
              "</style>\n",
              "<table border=\"1\" class=\"dataframe\">\n",
              "  <thead>\n",
              "    <tr style=\"text-align: right;\">\n",
              "      <th></th>\n",
              "      <th>Open</th>\n",
              "      <th>High</th>\n",
              "      <th>Low</th>\n",
              "      <th>Close</th>\n",
              "      <th>Adj Close</th>\n",
              "      <th>Volume</th>\n",
              "      <th>media_movel</th>\n",
              "    </tr>\n",
              "  </thead>\n",
              "  <tbody>\n",
              "    <tr>\n",
              "      <th>count</th>\n",
              "      <td>247.000000</td>\n",
              "      <td>247.000000</td>\n",
              "      <td>247.000000</td>\n",
              "      <td>247.000000</td>\n",
              "      <td>247.000000</td>\n",
              "      <td>2.470000e+02</td>\n",
              "      <td>247.000000</td>\n",
              "    </tr>\n",
              "    <tr>\n",
              "      <th>mean</th>\n",
              "      <td>16.921538</td>\n",
              "      <td>17.216154</td>\n",
              "      <td>16.611417</td>\n",
              "      <td>16.922753</td>\n",
              "      <td>15.287639</td>\n",
              "      <td>5.124278e+06</td>\n",
              "      <td>16.883603</td>\n",
              "    </tr>\n",
              "    <tr>\n",
              "      <th>std</th>\n",
              "      <td>2.473257</td>\n",
              "      <td>2.513617</td>\n",
              "      <td>2.411601</td>\n",
              "      <td>2.470855</td>\n",
              "      <td>2.644206</td>\n",
              "      <td>2.523092e+06</td>\n",
              "      <td>2.450173</td>\n",
              "    </tr>\n",
              "    <tr>\n",
              "      <th>min</th>\n",
              "      <td>12.390000</td>\n",
              "      <td>12.660000</td>\n",
              "      <td>11.510000</td>\n",
              "      <td>11.540000</td>\n",
              "      <td>10.060345</td>\n",
              "      <td>1.478500e+06</td>\n",
              "      <td>12.540000</td>\n",
              "    </tr>\n",
              "    <tr>\n",
              "      <th>25%</th>\n",
              "      <td>14.485000</td>\n",
              "      <td>14.660000</td>\n",
              "      <td>14.240000</td>\n",
              "      <td>14.480000</td>\n",
              "      <td>12.623378</td>\n",
              "      <td>3.591750e+06</td>\n",
              "      <td>14.443333</td>\n",
              "    </tr>\n",
              "    <tr>\n",
              "      <th>50%</th>\n",
              "      <td>17.500000</td>\n",
              "      <td>17.850000</td>\n",
              "      <td>17.200001</td>\n",
              "      <td>17.450001</td>\n",
              "      <td>15.962334</td>\n",
              "      <td>4.461100e+06</td>\n",
              "      <td>17.533333</td>\n",
              "    </tr>\n",
              "    <tr>\n",
              "      <th>75%</th>\n",
              "      <td>18.745000</td>\n",
              "      <td>19.030000</td>\n",
              "      <td>18.224999</td>\n",
              "      <td>18.700001</td>\n",
              "      <td>17.114864</td>\n",
              "      <td>6.006200e+06</td>\n",
              "      <td>18.756667</td>\n",
              "    </tr>\n",
              "    <tr>\n",
              "      <th>max</th>\n",
              "      <td>22.379999</td>\n",
              "      <td>22.780001</td>\n",
              "      <td>21.790001</td>\n",
              "      <td>22.639999</td>\n",
              "      <td>21.697758</td>\n",
              "      <td>1.864060e+07</td>\n",
              "      <td>22.163333</td>\n",
              "    </tr>\n",
              "  </tbody>\n",
              "</table>\n",
              "</div>"
            ],
            "text/plain": [
              "             Open        High         Low       Close   Adj Close        Volume  media_movel\n",
              "count  247.000000  247.000000  247.000000  247.000000  247.000000  2.470000e+02   247.000000\n",
              "mean    16.921538   17.216154   16.611417   16.922753   15.287639  5.124278e+06    16.883603\n",
              "std      2.473257    2.513617    2.411601    2.470855    2.644206  2.523092e+06     2.450173\n",
              "min     12.390000   12.660000   11.510000   11.540000   10.060345  1.478500e+06    12.540000\n",
              "25%     14.485000   14.660000   14.240000   14.480000   12.623378  3.591750e+06    14.443333\n",
              "50%     17.500000   17.850000   17.200001   17.450001   15.962334  4.461100e+06    17.533333\n",
              "75%     18.745000   19.030000   18.224999   18.700001   17.114864  6.006200e+06    18.756667\n",
              "max     22.379999   22.780001   21.790001   22.639999   21.697758  1.864060e+07    22.163333"
            ]
          },
          "metadata": {},
          "execution_count": 62
        }
      ]
    },
    {
      "cell_type": "markdown",
      "metadata": {
        "id": "Cw-NIb9EpatP"
      },
      "source": [
        "##**5.2-Tratando os Valores Faltantes**"
      ]
    },
    {
      "cell_type": "code",
      "metadata": {
        "colab": {
          "base_uri": "https://localhost:8080/"
        },
        "id": "lthEX_TZniHb",
        "outputId": "223c8626-ca0d-46a8-8397-2c9494d58a2c"
      },
      "source": [
        "#valores faltantes\n",
        "base_teste.isna().sum()"
      ],
      "execution_count": 63,
      "outputs": [
        {
          "output_type": "execute_result",
          "data": {
            "text/plain": [
              "Open           1\n",
              "High           1\n",
              "Low            1\n",
              "Close          1\n",
              "Adj Close      1\n",
              "Volume         1\n",
              "media_movel    1\n",
              "dtype: int64"
            ]
          },
          "metadata": {},
          "execution_count": 63
        }
      ]
    },
    {
      "cell_type": "code",
      "metadata": {
        "colab": {
          "base_uri": "https://localhost:8080/",
          "height": 0
        },
        "id": "uiH2j_UNpjqk",
        "outputId": "d070b0ad-cd5d-488a-88b0-66abdbbb34d5"
      },
      "source": [
        "#encontrando onde os valores faltantes estão\n",
        "base_teste.loc[pd.isnull(base_teste['Open'])]\n",
        "base_teste.loc[pd.isnull(base_teste['High'])]\n",
        "base_teste.loc[pd.isnull(base_teste['Low'])]\n",
        "base_teste.loc[pd.isnull(base_teste['Close'])]\n",
        "base_teste.loc[pd.isnull(base_teste['Adj Close'])]\n",
        "base_teste.loc[pd.isnull(base_teste['Volume'])]\n",
        "base_teste.loc[pd.isnull(base['media_movel'])]"
      ],
      "execution_count": 64,
      "outputs": [
        {
          "output_type": "execute_result",
          "data": {
            "text/html": [
              "<div>\n",
              "<style scoped>\n",
              "    .dataframe tbody tr th:only-of-type {\n",
              "        vertical-align: middle;\n",
              "    }\n",
              "\n",
              "    .dataframe tbody tr th {\n",
              "        vertical-align: top;\n",
              "    }\n",
              "\n",
              "    .dataframe thead th {\n",
              "        text-align: right;\n",
              "    }\n",
              "</style>\n",
              "<table border=\"1\" class=\"dataframe\">\n",
              "  <thead>\n",
              "    <tr style=\"text-align: right;\">\n",
              "      <th></th>\n",
              "      <th>Open</th>\n",
              "      <th>High</th>\n",
              "      <th>Low</th>\n",
              "      <th>Close</th>\n",
              "      <th>Adj Close</th>\n",
              "      <th>Volume</th>\n",
              "      <th>media_movel</th>\n",
              "    </tr>\n",
              "  </thead>\n",
              "  <tbody>\n",
              "  </tbody>\n",
              "</table>\n",
              "</div>"
            ],
            "text/plain": [
              "Empty DataFrame\n",
              "Columns: [Open, High, Low, Close, Adj Close, Volume, media_movel]\n",
              "Index: []"
            ]
          },
          "metadata": {},
          "execution_count": 64
        }
      ]
    },
    {
      "cell_type": "code",
      "metadata": {
        "id": "Bbw7axJ75lpn"
      },
      "source": [
        "#preenchendo os valores faltantes com o valor médio\n",
        "imputer = SimpleImputer(missing_values=np.nan, strategy='mean',verbose=0)\n",
        "imputer = imputer.fit(base_teste.iloc[:,0:7])\n",
        "base_teste.iloc[:,0:7] = imputer.transform(base_teste.iloc[:,0:7])"
      ],
      "execution_count": 65,
      "outputs": []
    },
    {
      "cell_type": "code",
      "metadata": {
        "colab": {
          "base_uri": "https://localhost:8080/",
          "height": 0
        },
        "id": "CXAi4QV8pw2x",
        "outputId": "bdd0f36b-70e5-4b0c-9527-7329affa7ee3"
      },
      "source": [
        "#verificando novamente se ainda temos valores faltantes\n",
        "base_teste.loc[pd.isnull(base_teste['Open'])]\n",
        "base_teste.loc[pd.isnull(base_teste['High'])]\n",
        "base_teste.loc[pd.isnull(base_teste['Low'])]\n",
        "base_teste.loc[pd.isnull(base_teste['Close'])]\n",
        "base_teste.loc[pd.isnull(base_teste['Adj Close'])]\n",
        "base_teste.loc[pd.isnull(base_teste['Volume'])]\n",
        "base_teste.loc[pd.isnull(base['media_movel'])]"
      ],
      "execution_count": 66,
      "outputs": [
        {
          "output_type": "execute_result",
          "data": {
            "text/html": [
              "<div>\n",
              "<style scoped>\n",
              "    .dataframe tbody tr th:only-of-type {\n",
              "        vertical-align: middle;\n",
              "    }\n",
              "\n",
              "    .dataframe tbody tr th {\n",
              "        vertical-align: top;\n",
              "    }\n",
              "\n",
              "    .dataframe thead th {\n",
              "        text-align: right;\n",
              "    }\n",
              "</style>\n",
              "<table border=\"1\" class=\"dataframe\">\n",
              "  <thead>\n",
              "    <tr style=\"text-align: right;\">\n",
              "      <th></th>\n",
              "      <th>Open</th>\n",
              "      <th>High</th>\n",
              "      <th>Low</th>\n",
              "      <th>Close</th>\n",
              "      <th>Adj Close</th>\n",
              "      <th>Volume</th>\n",
              "      <th>media_movel</th>\n",
              "    </tr>\n",
              "  </thead>\n",
              "  <tbody>\n",
              "  </tbody>\n",
              "</table>\n",
              "</div>"
            ],
            "text/plain": [
              "Empty DataFrame\n",
              "Columns: [Open, High, Low, Close, Adj Close, Volume, media_movel]\n",
              "Index: []"
            ]
          },
          "metadata": {},
          "execution_count": 66
        }
      ]
    },
    {
      "cell_type": "markdown",
      "metadata": {
        "id": "X1nZpS8Rp2zr"
      },
      "source": [
        "##**5.3-Tratamento dos valores nulos (iguais a 0)**"
      ]
    },
    {
      "cell_type": "code",
      "metadata": {
        "colab": {
          "base_uri": "https://localhost:8080/"
        },
        "id": "XYwer-dip-KB",
        "outputId": "d9e4e547-4c41-4370-be2f-821ab0faca12"
      },
      "source": [
        "#valores nulos\n",
        "(base_teste == 0).sum()"
      ],
      "execution_count": 67,
      "outputs": [
        {
          "output_type": "execute_result",
          "data": {
            "text/plain": [
              "Open           0\n",
              "High           0\n",
              "Low            0\n",
              "Close          0\n",
              "Adj Close      0\n",
              "Volume         0\n",
              "media_movel    0\n",
              "dtype: int64"
            ]
          },
          "metadata": {},
          "execution_count": 67
        }
      ]
    },
    {
      "cell_type": "code",
      "metadata": {
        "colab": {
          "base_uri": "https://localhost:8080/",
          "height": 0
        },
        "id": "sFBo6iR5qEpS",
        "outputId": "e439c48f-f1a6-49b3-b00d-16cdd3e65966"
      },
      "source": [
        "#Encontrando os valores nulos\n",
        "base_teste.loc[base_teste['Volume'] == 0]"
      ],
      "execution_count": 68,
      "outputs": [
        {
          "output_type": "execute_result",
          "data": {
            "text/html": [
              "<div>\n",
              "<style scoped>\n",
              "    .dataframe tbody tr th:only-of-type {\n",
              "        vertical-align: middle;\n",
              "    }\n",
              "\n",
              "    .dataframe tbody tr th {\n",
              "        vertical-align: top;\n",
              "    }\n",
              "\n",
              "    .dataframe thead th {\n",
              "        text-align: right;\n",
              "    }\n",
              "</style>\n",
              "<table border=\"1\" class=\"dataframe\">\n",
              "  <thead>\n",
              "    <tr style=\"text-align: right;\">\n",
              "      <th></th>\n",
              "      <th>Open</th>\n",
              "      <th>High</th>\n",
              "      <th>Low</th>\n",
              "      <th>Close</th>\n",
              "      <th>Adj Close</th>\n",
              "      <th>Volume</th>\n",
              "      <th>media_movel</th>\n",
              "    </tr>\n",
              "  </thead>\n",
              "  <tbody>\n",
              "  </tbody>\n",
              "</table>\n",
              "</div>"
            ],
            "text/plain": [
              "Empty DataFrame\n",
              "Columns: [Open, High, Low, Close, Adj Close, Volume, media_movel]\n",
              "Index: []"
            ]
          },
          "metadata": {},
          "execution_count": 68
        }
      ]
    },
    {
      "cell_type": "code",
      "metadata": {
        "id": "ofkU-XjcqOQE"
      },
      "source": [
        "#preenchendo os valores nulos com o valor médio\n",
        "imputer = SimpleImputer(missing_values=0, strategy='mean',verbose=0)\n",
        "imputer = imputer.fit(base_teste.iloc[:,0:7])\n",
        "base_teste.iloc[:,0:7] = imputer.transform(base_teste.iloc[:,0:7])"
      ],
      "execution_count": 69,
      "outputs": []
    },
    {
      "cell_type": "code",
      "metadata": {
        "id": "pYUeIwbnppRT",
        "colab": {
          "base_uri": "https://localhost:8080/",
          "height": 0
        },
        "outputId": "69e3bacf-82ad-46db-8d1e-a53fd429ce80"
      },
      "source": [
        "#Verificando novamente se tem valores nulos\n",
        "base_teste.loc[base_teste['Volume'] == 0]"
      ],
      "execution_count": 70,
      "outputs": [
        {
          "output_type": "execute_result",
          "data": {
            "text/html": [
              "<div>\n",
              "<style scoped>\n",
              "    .dataframe tbody tr th:only-of-type {\n",
              "        vertical-align: middle;\n",
              "    }\n",
              "\n",
              "    .dataframe tbody tr th {\n",
              "        vertical-align: top;\n",
              "    }\n",
              "\n",
              "    .dataframe thead th {\n",
              "        text-align: right;\n",
              "    }\n",
              "</style>\n",
              "<table border=\"1\" class=\"dataframe\">\n",
              "  <thead>\n",
              "    <tr style=\"text-align: right;\">\n",
              "      <th></th>\n",
              "      <th>Open</th>\n",
              "      <th>High</th>\n",
              "      <th>Low</th>\n",
              "      <th>Close</th>\n",
              "      <th>Adj Close</th>\n",
              "      <th>Volume</th>\n",
              "      <th>media_movel</th>\n",
              "    </tr>\n",
              "  </thead>\n",
              "  <tbody>\n",
              "  </tbody>\n",
              "</table>\n",
              "</div>"
            ],
            "text/plain": [
              "Empty DataFrame\n",
              "Columns: [Open, High, Low, Close, Adj Close, Volume, media_movel]\n",
              "Index: []"
            ]
          },
          "metadata": {},
          "execution_count": 70
        }
      ]
    },
    {
      "cell_type": "markdown",
      "metadata": {
        "id": "N79Bjk6Yq6ci"
      },
      "source": [
        "##**5.4-Preparando a estrutura para teste**"
      ]
    },
    {
      "cell_type": "code",
      "metadata": {
        "id": "UFINH9OzUfDk"
      },
      "source": [
        "#concatenando a base de dados teste com o base de treinamento\n",
        "preco_real_teste = base_teste.iloc[:, 3:4].values\n",
        "frames = [base, base_teste]\n",
        "base_completa = pd.concat(frames)"
      ],
      "execution_count": 71,
      "outputs": []
    },
    {
      "cell_type": "code",
      "metadata": {
        "id": "-CdLW8IZUhLY"
      },
      "source": [
        "#pegando os 90 registros anteriores para percorrer a base teste e colocando no\n",
        "#no formato np.array\n",
        "entradas = base_completa[len(base_completa) - len(base_teste) - 90:].values\n",
        "entradas = normalizador.transform(entradas)\n",
        "Percorrer_teste = []\n",
        "for i in range(90, 338): \n",
        "    Percorrer_teste.append(entradas[i-90:i, 0:7])\n",
        "Percorrer_teste = np.array(Percorrer_teste)"
      ],
      "execution_count": 72,
      "outputs": []
    },
    {
      "cell_type": "code",
      "metadata": {
        "id": "_YdD2ZcaUi1w"
      },
      "source": [
        "#resultado da predição no formato MinMaxScaler\n",
        "previsoes = regressor.predict(Percorrer_teste)"
      ],
      "execution_count": 73,
      "outputs": []
    },
    {
      "cell_type": "code",
      "metadata": {
        "colab": {
          "base_uri": "https://localhost:8080/"
        },
        "id": "jQS0Ql4tUk2Z",
        "outputId": "88fcab28-eff8-4be5-9e62-1f14cb61f0f7"
      },
      "source": [
        "#convertendo para a escala MinMaxScaler \n",
        "normalizador_previsao = MinMaxScaler(feature_range=(0,1))\n",
        "normalizador_previsao.fit_transform(base_treinamento[:,3:4])"
      ],
      "execution_count": 74,
      "outputs": [
        {
          "output_type": "execute_result",
          "data": {
            "text/plain": [
              "array([[0.62857138],\n",
              "       [0.61387753],\n",
              "       [0.632653  ],\n",
              "       ...,\n",
              "       [0.55582434],\n",
              "       [0.59533408],\n",
              "       [0.6159869 ]])"
            ]
          },
          "metadata": {},
          "execution_count": 74
        }
      ]
    },
    {
      "cell_type": "code",
      "metadata": {
        "id": "MP_GBjYJUnFe",
        "colab": {
          "base_uri": "https://localhost:8080/"
        },
        "outputId": "7ad7e07b-6940-4f73-c24c-398e3dfff2a2"
      },
      "source": [
        "#colocando a previsão no formato original para preparar a visualização no gráfico\n",
        "previsoes = normalizador_previsao.inverse_transform(previsoes)\n",
        "previsoes"
      ],
      "execution_count": 75,
      "outputs": [
        {
          "output_type": "execute_result",
          "data": {
            "text/plain": [
              "array([[12.291066 ],\n",
              "       [12.570775 ],\n",
              "       [12.55611  ],\n",
              "       [12.501314 ],\n",
              "       [12.615093 ],\n",
              "       [12.995086 ],\n",
              "       [13.437636 ],\n",
              "       [13.340871 ],\n",
              "       [13.379523 ],\n",
              "       [13.832471 ],\n",
              "       [13.797455 ],\n",
              "       [13.771241 ],\n",
              "       [13.526137 ],\n",
              "       [12.217543 ],\n",
              "       [13.556461 ],\n",
              "       [13.588749 ],\n",
              "       [14.165433 ],\n",
              "       [14.615413 ],\n",
              "       [14.941426 ],\n",
              "       [14.78042  ],\n",
              "       [14.787318 ],\n",
              "       [14.925386 ],\n",
              "       [14.78108  ],\n",
              "       [14.716392 ],\n",
              "       [14.827569 ],\n",
              "       [14.501856 ],\n",
              "       [14.377781 ],\n",
              "       [14.448432 ],\n",
              "       [14.44109  ],\n",
              "       [14.256558 ],\n",
              "       [14.100934 ],\n",
              "       [14.283094 ],\n",
              "       [14.006668 ],\n",
              "       [14.153897 ],\n",
              "       [14.127412 ],\n",
              "       [13.874322 ],\n",
              "       [13.897426 ],\n",
              "       [13.856111 ],\n",
              "       [13.929532 ],\n",
              "       [13.569098 ],\n",
              "       [13.69754  ],\n",
              "       [13.673023 ],\n",
              "       [13.907325 ],\n",
              "       [15.353035 ],\n",
              "       [13.601626 ],\n",
              "       [14.112413 ],\n",
              "       [14.519948 ],\n",
              "       [14.423152 ],\n",
              "       [14.577798 ],\n",
              "       [14.476955 ],\n",
              "       [14.393361 ],\n",
              "       [14.464703 ],\n",
              "       [14.50505  ],\n",
              "       [14.280407 ],\n",
              "       [14.020843 ],\n",
              "       [13.615533 ],\n",
              "       [13.5536585],\n",
              "       [13.882192 ],\n",
              "       [13.490639 ],\n",
              "       [13.746414 ],\n",
              "       [13.932477 ],\n",
              "       [14.1022415],\n",
              "       [14.006789 ],\n",
              "       [13.889874 ],\n",
              "       [14.023666 ],\n",
              "       [14.220288 ],\n",
              "       [14.085937 ],\n",
              "       [13.979995 ],\n",
              "       [14.153731 ],\n",
              "       [13.795777 ],\n",
              "       [13.65624  ],\n",
              "       [13.736758 ],\n",
              "       [13.780915 ],\n",
              "       [14.006106 ],\n",
              "       [14.2635765],\n",
              "       [14.471721 ],\n",
              "       [14.632277 ],\n",
              "       [14.325245 ],\n",
              "       [14.495667 ],\n",
              "       [14.513058 ],\n",
              "       [14.668895 ],\n",
              "       [14.57813  ],\n",
              "       [14.37316  ],\n",
              "       [14.501071 ],\n",
              "       [14.461076 ],\n",
              "       [14.641835 ],\n",
              "       [14.809964 ],\n",
              "       [15.217025 ],\n",
              "       [15.259198 ],\n",
              "       [15.208536 ],\n",
              "       [15.33045  ],\n",
              "       [15.265653 ],\n",
              "       [14.966163 ],\n",
              "       [14.898608 ],\n",
              "       [15.244356 ],\n",
              "       [15.477123 ],\n",
              "       [15.563271 ],\n",
              "       [15.548916 ],\n",
              "       [15.557997 ],\n",
              "       [15.845332 ],\n",
              "       [16.029892 ],\n",
              "       [16.040674 ],\n",
              "       [16.02502  ],\n",
              "       [16.100481 ],\n",
              "       [15.868412 ],\n",
              "       [15.992092 ],\n",
              "       [16.015795 ],\n",
              "       [16.172718 ],\n",
              "       [16.210579 ],\n",
              "       [16.11398  ],\n",
              "       [16.153465 ],\n",
              "       [15.992476 ],\n",
              "       [16.044716 ],\n",
              "       [16.139574 ],\n",
              "       [16.241343 ],\n",
              "       [16.36901  ],\n",
              "       [16.37848  ],\n",
              "       [16.475052 ],\n",
              "       [16.508823 ],\n",
              "       [16.453903 ],\n",
              "       [16.49618  ],\n",
              "       [16.505178 ],\n",
              "       [16.528229 ],\n",
              "       [16.488089 ],\n",
              "       [16.496906 ],\n",
              "       [16.480669 ],\n",
              "       [16.482262 ],\n",
              "       [16.50398  ],\n",
              "       [16.522173 ],\n",
              "       [16.55092  ],\n",
              "       [16.54391  ],\n",
              "       [16.511944 ],\n",
              "       [16.502117 ],\n",
              "       [16.526525 ],\n",
              "       [16.499779 ],\n",
              "       [16.530584 ],\n",
              "       [16.469831 ],\n",
              "       [16.410973 ],\n",
              "       [16.462124 ],\n",
              "       [16.472422 ],\n",
              "       [16.451933 ],\n",
              "       [16.507711 ],\n",
              "       [16.535343 ],\n",
              "       [16.558615 ],\n",
              "       [16.572302 ],\n",
              "       [16.586702 ],\n",
              "       [16.587795 ],\n",
              "       [16.573654 ],\n",
              "       [16.588305 ],\n",
              "       [16.598204 ],\n",
              "       [16.604889 ],\n",
              "       [16.584145 ],\n",
              "       [16.572466 ],\n",
              "       [16.565384 ],\n",
              "       [16.485905 ],\n",
              "       [16.415577 ],\n",
              "       [16.388645 ],\n",
              "       [16.338572 ],\n",
              "       [16.261616 ],\n",
              "       [16.411972 ],\n",
              "       [16.485674 ],\n",
              "       [16.435514 ],\n",
              "       [16.29585  ],\n",
              "       [16.403574 ],\n",
              "       [16.419977 ],\n",
              "       [16.516634 ],\n",
              "       [16.548319 ],\n",
              "       [16.566952 ],\n",
              "       [16.514294 ],\n",
              "       [16.29558  ],\n",
              "       [16.378609 ],\n",
              "       [16.333202 ],\n",
              "       [16.226517 ],\n",
              "       [16.214802 ],\n",
              "       [16.421808 ],\n",
              "       [16.42221  ],\n",
              "       [16.40743  ],\n",
              "       [16.378597 ],\n",
              "       [16.484304 ],\n",
              "       [16.427328 ],\n",
              "       [16.471367 ],\n",
              "       [16.479755 ],\n",
              "       [16.45238  ],\n",
              "       [16.408697 ],\n",
              "       [16.322344 ],\n",
              "       [16.363491 ],\n",
              "       [16.364697 ],\n",
              "       [16.360886 ],\n",
              "       [16.402607 ],\n",
              "       [16.32199  ],\n",
              "       [16.374979 ],\n",
              "       [16.41573  ],\n",
              "       [16.297909 ],\n",
              "       [16.278805 ],\n",
              "       [16.374376 ],\n",
              "       [16.391205 ],\n",
              "       [16.391157 ],\n",
              "       [16.395584 ],\n",
              "       [16.280642 ],\n",
              "       [16.288397 ],\n",
              "       [16.3045   ],\n",
              "       [16.335594 ],\n",
              "       [16.34263  ],\n",
              "       [16.393353 ],\n",
              "       [16.331804 ],\n",
              "       [16.252932 ],\n",
              "       [16.286087 ],\n",
              "       [16.304276 ],\n",
              "       [16.395552 ],\n",
              "       [16.401915 ],\n",
              "       [16.31538  ],\n",
              "       [16.407484 ],\n",
              "       [16.500776 ],\n",
              "       [16.476057 ],\n",
              "       [16.479074 ],\n",
              "       [16.473736 ],\n",
              "       [16.37101  ],\n",
              "       [16.356295 ],\n",
              "       [16.302658 ],\n",
              "       [16.276861 ],\n",
              "       [15.992145 ],\n",
              "       [16.014288 ],\n",
              "       [16.12699  ],\n",
              "       [16.258017 ],\n",
              "       [16.387463 ],\n",
              "       [16.42759  ],\n",
              "       [16.403154 ],\n",
              "       [16.294006 ],\n",
              "       [16.343658 ],\n",
              "       [16.353027 ],\n",
              "       [16.322372 ],\n",
              "       [16.45097  ],\n",
              "       [16.45613  ],\n",
              "       [16.455284 ],\n",
              "       [16.51851  ],\n",
              "       [16.532824 ],\n",
              "       [16.53715  ],\n",
              "       [16.54943  ],\n",
              "       [16.5783   ],\n",
              "       [16.599083 ],\n",
              "       [16.605442 ],\n",
              "       [16.601044 ],\n",
              "       [16.59529  ],\n",
              "       [16.597315 ],\n",
              "       [16.577631 ],\n",
              "       [16.573145 ],\n",
              "       [16.588789 ],\n",
              "       [16.597408 ]], dtype=float32)"
            ]
          },
          "metadata": {},
          "execution_count": 75
        }
      ]
    },
    {
      "cell_type": "markdown",
      "metadata": {
        "id": "lEjN0sRdrGmK"
      },
      "source": [
        "#**6-Análise dos resuldatos**"
      ]
    },
    {
      "cell_type": "code",
      "metadata": {
        "id": "beWuUgy2Uoe_",
        "colab": {
          "base_uri": "https://localhost:8080/",
          "height": 485
        },
        "outputId": "7fec6fc6-3a4e-47c7-816c-b2cea2e4c572"
      },
      "source": [
        "#Visualizando o gráfico da Previsão da rede\n",
        "plt.plot(preco_real_teste, color = 'red', label = 'Preço real')\n",
        "plt.plot(previsoes, color = 'blue', label = 'Previsões')\n",
        "plt.title('Previsão do preço das ações')\n",
        "plt.xlabel('Tempo em dias')\n",
        "plt.ylabel('Preço das ações')\n",
        "plt.legend()\n",
        "plt.show()"
      ],
      "execution_count": 76,
      "outputs": [
        {
          "output_type": "display_data",
          "data": {
            "image/png": "[encoded data removed]",
            "text/plain": [
              "<Figure size 1800x864 with 1 Axes>"
            ]
          },
          "metadata": {}
        }
      ]
    },
    {
      "cell_type": "code",
      "metadata": {
        "id": "hKA0-lbgUtH-",
        "colab": {
          "base_uri": "https://localhost:8080/",
          "height": 297
        },
        "outputId": "e87dc3e8-60d1-4847-b1a5-62f0772f6a79"
      },
      "source": [
        "#estatísticas do preço real comparado com a previsão\n",
        "df1 = pd.DataFrame(preco_real_teste).T\n",
        "df2 = pd.DataFrame(previsoes).T\n",
        "\n",
        "df3 = pd.concat([df1,df2]).T\n",
        "df3.columns = ['Preco real', 'Previsoes']\n",
        "df3.describe()"
      ],
      "execution_count": 77,
      "outputs": [
        {
          "output_type": "execute_result",
          "data": {
            "text/html": [
              "<div>\n",
              "<style scoped>\n",
              "    .dataframe tbody tr th:only-of-type {\n",
              "        vertical-align: middle;\n",
              "    }\n",
              "\n",
              "    .dataframe tbody tr th {\n",
              "        vertical-align: top;\n",
              "    }\n",
              "\n",
              "    .dataframe thead th {\n",
              "        text-align: right;\n",
              "    }\n",
              "</style>\n",
              "<table border=\"1\" class=\"dataframe\">\n",
              "  <thead>\n",
              "    <tr style=\"text-align: right;\">\n",
              "      <th></th>\n",
              "      <th>Preco real</th>\n",
              "      <th>Previsoes</th>\n",
              "    </tr>\n",
              "  </thead>\n",
              "  <tbody>\n",
              "    <tr>\n",
              "      <th>count</th>\n",
              "      <td>248.000000</td>\n",
              "      <td>248.000000</td>\n",
              "    </tr>\n",
              "    <tr>\n",
              "      <th>mean</th>\n",
              "      <td>16.922753</td>\n",
              "      <td>15.511639</td>\n",
              "    </tr>\n",
              "    <tr>\n",
              "      <th>std</th>\n",
              "      <td>2.465849</td>\n",
              "      <td>1.179757</td>\n",
              "    </tr>\n",
              "    <tr>\n",
              "      <th>min</th>\n",
              "      <td>11.540000</td>\n",
              "      <td>12.217543</td>\n",
              "    </tr>\n",
              "    <tr>\n",
              "      <th>25%</th>\n",
              "      <td>14.480000</td>\n",
              "      <td>14.457915</td>\n",
              "    </tr>\n",
              "    <tr>\n",
              "      <th>50%</th>\n",
              "      <td>17.450001</td>\n",
              "      <td>16.277833</td>\n",
              "    </tr>\n",
              "    <tr>\n",
              "      <th>75%</th>\n",
              "      <td>18.700001</td>\n",
              "      <td>16.455495</td>\n",
              "    </tr>\n",
              "    <tr>\n",
              "      <th>max</th>\n",
              "      <td>22.639999</td>\n",
              "      <td>16.605442</td>\n",
              "    </tr>\n",
              "  </tbody>\n",
              "</table>\n",
              "</div>"
            ],
            "text/plain": [
              "       Preco real   Previsoes\n",
              "count  248.000000  248.000000\n",
              "mean    16.922753   15.511639\n",
              "std      2.465849    1.179757\n",
              "min     11.540000   12.217543\n",
              "25%     14.480000   14.457915\n",
              "50%     17.450001   16.277833\n",
              "75%     18.700001   16.455495\n",
              "max     22.639999   16.605442"
            ]
          },
          "metadata": {},
          "execution_count": 77
        }
      ]
    },
    {
      "cell_type": "code",
      "metadata": {
        "id": "ZjIrFF8Y_M9N"
      },
      "source": [
        "#df2 = pd.DataFrame(previsoes)\n",
        "#df2.describe()"
      ],
      "execution_count": null,
      "outputs": []
    },
    {
      "cell_type": "code",
      "metadata": {
        "id": "TKfgSJAIV5a_"
      },
      "source": [
        "#df1 = pd.DataFrame(preco_real_teste)\n",
        "#df1.describe()"
      ],
      "execution_count": null,
      "outputs": []
    }
  ]
}