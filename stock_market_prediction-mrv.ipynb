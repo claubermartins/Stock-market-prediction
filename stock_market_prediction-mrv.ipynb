{
  "nbformat": 4,
  "nbformat_minor": 0,
  "metadata": {
    "colab": {
      "name": "stock-market-prediction.ipynb",
      "provenance": [],
      "collapsed_sections": [
        "UiXZAchqFuC-",
        "SuPg1RFvQyMS",
        "8MLClRMWPwTL",
        "hCiQYMqPGHuG",
        "4IDwP-XV_Ohd",
        "RtFahmEgGAzZ"
      ],
      "authorship_tag": "ABX9TyMvynAqugnTuYVxhnqP+CwV",
      "include_colab_link": true
    },
    "kernelspec": {
      "name": "python3",
      "display_name": "Python 3"
    },
    "accelerator": "GPU"
  },
  "cells": [
    {
      "cell_type": "markdown",
      "metadata": {
        "id": "view-in-github",
        "colab_type": "text"
      },
      "source": [
        "<a href=\"https://colab.research.google.com/github/claubermartins/Stock-market-prediction/blob/main/stock_market_prediction-mrv.ipynb\" target=\"_parent\"><img src=\"https://colab.research.google.com/assets/colab-badge.svg\" alt=\"Open In Colab\"/></a>"
      ]
    },
    {
      "cell_type": "code",
      "metadata": {
        "colab": {
          "base_uri": "https://localhost:8080/"
        },
        "id": "XjlKRgiDRdpq",
        "outputId": "7cde4848-ea5e-4156-c6a2-b5e3760d39a9"
      },
      "source": [
        "pip install inflection"
      ],
      "execution_count": 1,
      "outputs": [
        {
          "output_type": "stream",
          "text": [
            "Collecting inflection\n",
            "  Downloading https://files.pythonhosted.org/packages/59/91/aa6bde563e0085a02a435aa99b49ef75b0a4b062635e606dab23ce18d720/inflection-0.5.1-py2.py3-none-any.whl\n",
            "Installing collected packages: inflection\n",
            "Successfully installed inflection-0.5.1\n"
          ],
          "name": "stdout"
        }
      ]
    },
    {
      "cell_type": "markdown",
      "metadata": {
        "id": "UiXZAchqFuC-"
      },
      "source": [
        "#**1-Importando bibliotecas**"
      ]
    },
    {
      "cell_type": "code",
      "metadata": {
        "id": "ZjQg-8c_--wP"
      },
      "source": [
        "from tensorflow.keras.models import Sequential \n",
        "from tensorflow.keras.layers import Dense, Dropout, LSTM\n",
        "from tensorflow.keras.callbacks import EarlyStopping \n",
        "from sklearn.preprocessing import MinMaxScaler\n",
        "from sklearn.impute import SimpleImputer\n",
        "import numpy as np\n",
        "import pandas as pd\n",
        "import matplotlib.pyplot as plt\n",
        "import tensorflow as tf\n",
        "import math\n",
        "import seaborn as sns\n",
        "import datetime\n",
        "import inflection\n",
        "from IPython.core.display import HTML"
      ],
      "execution_count": 2,
      "outputs": []
    },
    {
      "cell_type": "markdown",
      "metadata": {
        "id": "SuPg1RFvQyMS"
      },
      "source": [
        "#**2-Funções auxiliares para o Jupyter Notebook**"
      ]
    },
    {
      "cell_type": "code",
      "metadata": {
        "id": "2vKvPdvDPJHc"
      },
      "source": [
        "def jupyter_settings():\n",
        "    %matplotlib inline\n",
        "    %pylab inline\n",
        "    \n",
        "    plt.style.use( 'bmh' )\n",
        "    plt.rcParams['figure.figsize'] = [25, 12]\n",
        "    plt.rcParams['font.size'] = 24\n",
        "    \n",
        "    display( HTML( '<style>.container { width:100% !important; }</style>') )\n",
        "    pd.options.display.max_columns = None\n",
        "    pd.options.display.max_rows = None\n",
        "    pd.set_option( 'display.expand_frame_repr', False )\n",
        "    \n",
        "    sns.set()"
      ],
      "execution_count": 3,
      "outputs": []
    },
    {
      "cell_type": "code",
      "metadata": {
        "colab": {
          "base_uri": "https://localhost:8080/",
          "height": 0
        },
        "id": "PGJn-AaoMxuy",
        "outputId": "d87bd6fd-4360-4464-abd1-22a864a44436"
      },
      "source": [
        "jupyter_settings()"
      ],
      "execution_count": 4,
      "outputs": [
        {
          "output_type": "stream",
          "text": [
            "Populating the interactive namespace from numpy and matplotlib\n"
          ],
          "name": "stdout"
        },
        {
          "output_type": "display_data",
          "data": {
            "text/html": [
              "<style>.container { width:100% !important; }</style>"
            ],
            "text/plain": [
              "<IPython.core.display.HTML object>"
            ]
          },
          "metadata": {
            "tags": []
          }
        }
      ]
    },
    {
      "cell_type": "markdown",
      "metadata": {
        "id": "c_3core8Shq6"
      },
      "source": [
        "#**2.1Método de importação de arquivos do Google Colab**"
      ]
    },
    {
      "cell_type": "code",
      "metadata": {
        "id": "cTk_YEVdyms3",
        "colab": {
          "resources": {
            "http://localhost:8080/nbextensions/google.colab/files.js": {
              "data": "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",
              "ok": true,
              "headers": [
                [
                  "content-type",
                  "application/javascript"
                ]
              ],
              "status": 200,
              "status_text": ""
            }
          },
          "base_uri": "https://localhost:8080/",
          "height": 157
        },
        "outputId": "058d1733-226a-44af-be40-abe82271fe88"
      },
      "source": [
        "from google.colab import files\n",
        "upload = files.upload()\n",
        "print(\"downloaded files: \")\n",
        "print(*upload, sep = \"\\n\")"
      ],
      "execution_count": 5,
      "outputs": [
        {
          "output_type": "display_data",
          "data": {
            "text/html": [
              "\n",
              "     <input type=\"file\" id=\"files-fddde512-ee74-4ad5-9592-f4d5853a7f67\" name=\"files[]\" multiple disabled\n",
              "        style=\"border:none\" />\n",
              "     <output id=\"result-fddde512-ee74-4ad5-9592-f4d5853a7f67\">\n",
              "      Upload widget is only available when the cell has been executed in the\n",
              "      current browser session. Please rerun this cell to enable.\n",
              "      </output>\n",
              "      <script src=\"/nbextensions/google.colab/files.js\"></script> "
            ],
            "text/plain": [
              "<IPython.core.display.HTML object>"
            ]
          },
          "metadata": {
            "tags": []
          }
        },
        {
          "output_type": "stream",
          "text": [
            "Saving MRVE3-teste.csv to MRVE3-teste.csv\n",
            "Saving MRVE3-treinamento.csv to MRVE3-treinamento.csv\n",
            "downloaded files: \n",
            "MRVE3-teste.csv\n",
            "MRVE3-treinamento.csv\n"
          ],
          "name": "stdout"
        }
      ]
    },
    {
      "cell_type": "markdown",
      "metadata": {
        "id": "8MLClRMWPwTL"
      },
      "source": [
        "#**3-Tratamento dos dados**"
      ]
    },
    {
      "cell_type": "markdown",
      "metadata": {
        "id": "DOJanakhS-s2"
      },
      "source": [
        "##**3.1-Importando os dados**"
      ]
    },
    {
      "cell_type": "code",
      "metadata": {
        "id": "vYFCwA5GTB2j"
      },
      "source": [
        "base = pd.read_csv('MRVE3-treinamento.csv')\n",
        "base = base.drop('Date', axis = 1)"
      ],
      "execution_count": 6,
      "outputs": []
    },
    {
      "cell_type": "code",
      "metadata": {
        "colab": {
          "base_uri": "https://localhost:8080/",
          "height": 0
        },
        "id": "SD9oSvK-NE0Y",
        "outputId": "a22d4a13-25eb-4cd3-c110-5f6152ca1a1d"
      },
      "source": [
        "#valores estatísticos\n",
        "base.describe()"
      ],
      "execution_count": 7,
      "outputs": [
        {
          "output_type": "execute_result",
          "data": {
            "text/html": [
              "<div>\n",
              "<style scoped>\n",
              "    .dataframe tbody tr th:only-of-type {\n",
              "        vertical-align: middle;\n",
              "    }\n",
              "\n",
              "    .dataframe tbody tr th {\n",
              "        vertical-align: top;\n",
              "    }\n",
              "\n",
              "    .dataframe thead th {\n",
              "        text-align: right;\n",
              "    }\n",
              "</style>\n",
              "<table border=\"1\" class=\"dataframe\">\n",
              "  <thead>\n",
              "    <tr style=\"text-align: right;\">\n",
              "      <th></th>\n",
              "      <th>Open</th>\n",
              "      <th>High</th>\n",
              "      <th>Low</th>\n",
              "      <th>Close</th>\n",
              "      <th>Adj Close</th>\n",
              "      <th>Volume</th>\n",
              "    </tr>\n",
              "  </thead>\n",
              "  <tbody>\n",
              "    <tr>\n",
              "      <th>count</th>\n",
              "      <td>2231.000000</td>\n",
              "      <td>2231.000000</td>\n",
              "      <td>2231.000000</td>\n",
              "      <td>2231.000000</td>\n",
              "      <td>2231.000000</td>\n",
              "      <td>2.231000e+03</td>\n",
              "    </tr>\n",
              "    <tr>\n",
              "      <th>mean</th>\n",
              "      <td>10.283918</td>\n",
              "      <td>10.469918</td>\n",
              "      <td>10.090187</td>\n",
              "      <td>10.274600</td>\n",
              "      <td>7.154917</td>\n",
              "      <td>4.074749e+06</td>\n",
              "    </tr>\n",
              "    <tr>\n",
              "      <th>std</th>\n",
              "      <td>2.559057</td>\n",
              "      <td>2.579387</td>\n",
              "      <td>2.523019</td>\n",
              "      <td>2.551348</td>\n",
              "      <td>2.040824</td>\n",
              "      <td>2.699636e+06</td>\n",
              "    </tr>\n",
              "    <tr>\n",
              "      <th>min</th>\n",
              "      <td>5.500065</td>\n",
              "      <td>5.590975</td>\n",
              "      <td>5.372790</td>\n",
              "      <td>5.500065</td>\n",
              "      <td>3.675109</td>\n",
              "      <td>0.000000e+00</td>\n",
              "    </tr>\n",
              "    <tr>\n",
              "      <th>25%</th>\n",
              "      <td>7.841001</td>\n",
              "      <td>7.986458</td>\n",
              "      <td>7.681908</td>\n",
              "      <td>7.818274</td>\n",
              "      <td>5.337414</td>\n",
              "      <td>2.459295e+06</td>\n",
              "    </tr>\n",
              "    <tr>\n",
              "      <th>50%</th>\n",
              "      <td>10.691035</td>\n",
              "      <td>10.881946</td>\n",
              "      <td>10.481942</td>\n",
              "      <td>10.691035</td>\n",
              "      <td>6.869619</td>\n",
              "      <td>3.558457e+06</td>\n",
              "    </tr>\n",
              "    <tr>\n",
              "      <th>75%</th>\n",
              "      <td>12.231962</td>\n",
              "      <td>12.409237</td>\n",
              "      <td>12.018323</td>\n",
              "      <td>12.227417</td>\n",
              "      <td>8.821945</td>\n",
              "      <td>5.068960e+06</td>\n",
              "    </tr>\n",
              "    <tr>\n",
              "      <th>max</th>\n",
              "      <td>16.636560</td>\n",
              "      <td>16.982018</td>\n",
              "      <td>16.591105</td>\n",
              "      <td>16.636560</td>\n",
              "      <td>12.112385</td>\n",
              "      <td>4.379862e+07</td>\n",
              "    </tr>\n",
              "  </tbody>\n",
              "</table>\n",
              "</div>"
            ],
            "text/plain": [
              "              Open         High          Low        Close    Adj Close        Volume\n",
              "count  2231.000000  2231.000000  2231.000000  2231.000000  2231.000000  2.231000e+03\n",
              "mean     10.283918    10.469918    10.090187    10.274600     7.154917  4.074749e+06\n",
              "std       2.559057     2.579387     2.523019     2.551348     2.040824  2.699636e+06\n",
              "min       5.500065     5.590975     5.372790     5.500065     3.675109  0.000000e+00\n",
              "25%       7.841001     7.986458     7.681908     7.818274     5.337414  2.459295e+06\n",
              "50%      10.691035    10.881946    10.481942    10.691035     6.869619  3.558457e+06\n",
              "75%      12.231962    12.409237    12.018323    12.227417     8.821945  5.068960e+06\n",
              "max      16.636560    16.982018    16.591105    16.636560    12.112385  4.379862e+07"
            ]
          },
          "metadata": {
            "tags": []
          },
          "execution_count": 7
        }
      ]
    },
    {
      "cell_type": "code",
      "metadata": {
        "colab": {
          "base_uri": "https://localhost:8080/"
        },
        "id": "fbKUPwPSNJqm",
        "outputId": "9d829a06-c975-4105-e12c-2c931330f601"
      },
      "source": [
        "base.dtypes"
      ],
      "execution_count": 8,
      "outputs": [
        {
          "output_type": "execute_result",
          "data": {
            "text/plain": [
              "Open         float64\n",
              "High         float64\n",
              "Low          float64\n",
              "Close        float64\n",
              "Adj Close    float64\n",
              "Volume       float64\n",
              "dtype: object"
            ]
          },
          "metadata": {
            "tags": []
          },
          "execution_count": 8
        }
      ]
    },
    {
      "cell_type": "markdown",
      "metadata": {
        "id": "bCTD3wo2TfZF"
      },
      "source": [
        "##**3.2-Tratando os Valores Faltantes**"
      ]
    },
    {
      "cell_type": "code",
      "metadata": {
        "colab": {
          "base_uri": "https://localhost:8080/"
        },
        "id": "H60SOo8MTjjP",
        "outputId": "81de33f2-8c8e-4f18-b47e-b8dac273d9ab"
      },
      "source": [
        "#valores faltantes\n",
        "base.isna().sum()"
      ],
      "execution_count": 9,
      "outputs": [
        {
          "output_type": "execute_result",
          "data": {
            "text/plain": [
              "Open         1\n",
              "High         1\n",
              "Low          1\n",
              "Close        1\n",
              "Adj Close    1\n",
              "Volume       1\n",
              "dtype: int64"
            ]
          },
          "metadata": {
            "tags": []
          },
          "execution_count": 9
        }
      ]
    },
    {
      "cell_type": "code",
      "metadata": {
        "colab": {
          "base_uri": "https://localhost:8080/",
          "height": 0
        },
        "id": "H-DMfyHXTkdi",
        "outputId": "0852238e-4a8b-49fa-9c47-971e410fe73f"
      },
      "source": [
        "#encontrando onde os valores faltantes estão\n",
        "base.loc[pd.isnull(base['Open'])]\n",
        "base.loc[pd.isnull(base['High'])]\n",
        "base.loc[pd.isnull(base['Low'])]\n",
        "base.loc[pd.isnull(base['Close'])]\n",
        "base.loc[pd.isnull(base['Adj Close'])]\n",
        "base.loc[pd.isnull(base['Volume'])]"
      ],
      "execution_count": 10,
      "outputs": [
        {
          "output_type": "execute_result",
          "data": {
            "text/html": [
              "<div>\n",
              "<style scoped>\n",
              "    .dataframe tbody tr th:only-of-type {\n",
              "        vertical-align: middle;\n",
              "    }\n",
              "\n",
              "    .dataframe tbody tr th {\n",
              "        vertical-align: top;\n",
              "    }\n",
              "\n",
              "    .dataframe thead th {\n",
              "        text-align: right;\n",
              "    }\n",
              "</style>\n",
              "<table border=\"1\" class=\"dataframe\">\n",
              "  <thead>\n",
              "    <tr style=\"text-align: right;\">\n",
              "      <th></th>\n",
              "      <th>Open</th>\n",
              "      <th>High</th>\n",
              "      <th>Low</th>\n",
              "      <th>Close</th>\n",
              "      <th>Adj Close</th>\n",
              "      <th>Volume</th>\n",
              "    </tr>\n",
              "  </thead>\n",
              "  <tbody>\n",
              "    <tr>\n",
              "      <th>2015</th>\n",
              "      <td>NaN</td>\n",
              "      <td>NaN</td>\n",
              "      <td>NaN</td>\n",
              "      <td>NaN</td>\n",
              "      <td>NaN</td>\n",
              "      <td>NaN</td>\n",
              "    </tr>\n",
              "  </tbody>\n",
              "</table>\n",
              "</div>"
            ],
            "text/plain": [
              "      Open  High  Low  Close  Adj Close  Volume\n",
              "2015   NaN   NaN  NaN    NaN        NaN     NaN"
            ]
          },
          "metadata": {
            "tags": []
          },
          "execution_count": 10
        }
      ]
    },
    {
      "cell_type": "code",
      "metadata": {
        "id": "6q0YFzy9TmPD"
      },
      "source": [
        "#preenchendo os valores nulos com o valor médio\n",
        "imputer = SimpleImputer(missing_values=np.nan, strategy='mean',verbose=0)\n",
        "imputer = imputer.fit(base.iloc[:,0:6])\n",
        "base.iloc[:,0:6] = imputer.transform(base.iloc[:,0:6])"
      ],
      "execution_count": 11,
      "outputs": []
    },
    {
      "cell_type": "code",
      "metadata": {
        "colab": {
          "base_uri": "https://localhost:8080/",
          "height": 0
        },
        "id": "gQC2HfFnTpe2",
        "outputId": "1a6e8aaa-7607-4395-c29a-6178022d9266"
      },
      "source": [
        "#verificando novamente se ainda temos valores faltantes\n",
        "base.loc[pd.isnull(base['Open'])]\n",
        "base.loc[pd.isnull(base['High'])]\n",
        "base.loc[pd.isnull(base['Low'])]\n",
        "base.loc[pd.isnull(base['Close'])]\n",
        "base.loc[pd.isnull(base['Adj Close'])]\n",
        "base.loc[pd.isnull(base['Volume'])]"
      ],
      "execution_count": 12,
      "outputs": [
        {
          "output_type": "execute_result",
          "data": {
            "text/html": [
              "<div>\n",
              "<style scoped>\n",
              "    .dataframe tbody tr th:only-of-type {\n",
              "        vertical-align: middle;\n",
              "    }\n",
              "\n",
              "    .dataframe tbody tr th {\n",
              "        vertical-align: top;\n",
              "    }\n",
              "\n",
              "    .dataframe thead th {\n",
              "        text-align: right;\n",
              "    }\n",
              "</style>\n",
              "<table border=\"1\" class=\"dataframe\">\n",
              "  <thead>\n",
              "    <tr style=\"text-align: right;\">\n",
              "      <th></th>\n",
              "      <th>Open</th>\n",
              "      <th>High</th>\n",
              "      <th>Low</th>\n",
              "      <th>Close</th>\n",
              "      <th>Adj Close</th>\n",
              "      <th>Volume</th>\n",
              "    </tr>\n",
              "  </thead>\n",
              "  <tbody>\n",
              "  </tbody>\n",
              "</table>\n",
              "</div>"
            ],
            "text/plain": [
              "Empty DataFrame\n",
              "Columns: [Open, High, Low, Close, Adj Close, Volume]\n",
              "Index: []"
            ]
          },
          "metadata": {
            "tags": []
          },
          "execution_count": 12
        }
      ]
    },
    {
      "cell_type": "markdown",
      "metadata": {
        "id": "_WuI_UbmTt3W"
      },
      "source": [
        "#**3.3-Tratamento dos valores nulos (iguais a 0)**"
      ]
    },
    {
      "cell_type": "code",
      "metadata": {
        "colab": {
          "base_uri": "https://localhost:8080/"
        },
        "id": "hyRiBN32Twb2",
        "outputId": "81da8aaa-8701-44e7-9160-95ebdffd3d80"
      },
      "source": [
        "#valores nulos\n",
        "(base == 0).sum()"
      ],
      "execution_count": 13,
      "outputs": [
        {
          "output_type": "execute_result",
          "data": {
            "text/plain": [
              "Open          0\n",
              "High          0\n",
              "Low           0\n",
              "Close         0\n",
              "Adj Close     0\n",
              "Volume       30\n",
              "dtype: int64"
            ]
          },
          "metadata": {
            "tags": []
          },
          "execution_count": 13
        }
      ]
    },
    {
      "cell_type": "code",
      "metadata": {
        "colab": {
          "base_uri": "https://localhost:8080/",
          "height": 979
        },
        "id": "nQPTB9_TT3Dy",
        "outputId": "f493f885-b064-4763-e403-0e498b1eec92"
      },
      "source": [
        "#Encontrando os valores nulos\n",
        "base.loc[base['Volume'] == 0]"
      ],
      "execution_count": 14,
      "outputs": [
        {
          "output_type": "execute_result",
          "data": {
            "text/html": [
              "<div>\n",
              "<style scoped>\n",
              "    .dataframe tbody tr th:only-of-type {\n",
              "        vertical-align: middle;\n",
              "    }\n",
              "\n",
              "    .dataframe tbody tr th {\n",
              "        vertical-align: top;\n",
              "    }\n",
              "\n",
              "    .dataframe thead th {\n",
              "        text-align: right;\n",
              "    }\n",
              "</style>\n",
              "<table border=\"1\" class=\"dataframe\">\n",
              "  <thead>\n",
              "    <tr style=\"text-align: right;\">\n",
              "      <th></th>\n",
              "      <th>Open</th>\n",
              "      <th>High</th>\n",
              "      <th>Low</th>\n",
              "      <th>Close</th>\n",
              "      <th>Adj Close</th>\n",
              "      <th>Volume</th>\n",
              "    </tr>\n",
              "  </thead>\n",
              "  <tbody>\n",
              "    <tr>\n",
              "      <th>284</th>\n",
              "      <td>12.018323</td>\n",
              "      <td>12.018323</td>\n",
              "      <td>12.018323</td>\n",
              "      <td>12.018323</td>\n",
              "      <td>7.226080</td>\n",
              "      <td>0.0</td>\n",
              "    </tr>\n",
              "    <tr>\n",
              "      <th>291</th>\n",
              "      <td>12.181962</td>\n",
              "      <td>12.181962</td>\n",
              "      <td>12.181962</td>\n",
              "      <td>12.181962</td>\n",
              "      <td>7.324469</td>\n",
              "      <td>0.0</td>\n",
              "    </tr>\n",
              "    <tr>\n",
              "      <th>308</th>\n",
              "      <td>11.709229</td>\n",
              "      <td>11.709229</td>\n",
              "      <td>11.709229</td>\n",
              "      <td>11.709229</td>\n",
              "      <td>7.040236</td>\n",
              "      <td>0.0</td>\n",
              "    </tr>\n",
              "    <tr>\n",
              "      <th>319</th>\n",
              "      <td>11.954686</td>\n",
              "      <td>11.954686</td>\n",
              "      <td>11.954686</td>\n",
              "      <td>11.954686</td>\n",
              "      <td>7.187818</td>\n",
              "      <td>0.0</td>\n",
              "    </tr>\n",
              "    <tr>\n",
              "      <th>333</th>\n",
              "      <td>12.500147</td>\n",
              "      <td>12.500147</td>\n",
              "      <td>12.500147</td>\n",
              "      <td>12.500147</td>\n",
              "      <td>7.515780</td>\n",
              "      <td>0.0</td>\n",
              "    </tr>\n",
              "    <tr>\n",
              "      <th>337</th>\n",
              "      <td>13.709252</td>\n",
              "      <td>13.709252</td>\n",
              "      <td>13.709252</td>\n",
              "      <td>13.709252</td>\n",
              "      <td>8.242761</td>\n",
              "      <td>0.0</td>\n",
              "    </tr>\n",
              "    <tr>\n",
              "      <th>450</th>\n",
              "      <td>10.691035</td>\n",
              "      <td>10.691035</td>\n",
              "      <td>10.691035</td>\n",
              "      <td>10.691035</td>\n",
              "      <td>6.515060</td>\n",
              "      <td>0.0</td>\n",
              "    </tr>\n",
              "    <tr>\n",
              "      <th>451</th>\n",
              "      <td>10.691035</td>\n",
              "      <td>10.691035</td>\n",
              "      <td>10.691035</td>\n",
              "      <td>10.691035</td>\n",
              "      <td>6.515060</td>\n",
              "      <td>0.0</td>\n",
              "    </tr>\n",
              "    <tr>\n",
              "      <th>452</th>\n",
              "      <td>10.691035</td>\n",
              "      <td>10.691035</td>\n",
              "      <td>10.691035</td>\n",
              "      <td>10.691035</td>\n",
              "      <td>6.515060</td>\n",
              "      <td>0.0</td>\n",
              "    </tr>\n",
              "    <tr>\n",
              "      <th>461</th>\n",
              "      <td>9.909208</td>\n",
              "      <td>9.909208</td>\n",
              "      <td>9.909208</td>\n",
              "      <td>9.909208</td>\n",
              "      <td>6.038619</td>\n",
              "      <td>0.0</td>\n",
              "    </tr>\n",
              "    <tr>\n",
              "      <th>482</th>\n",
              "      <td>10.936492</td>\n",
              "      <td>10.936492</td>\n",
              "      <td>10.936492</td>\n",
              "      <td>10.936492</td>\n",
              "      <td>6.664640</td>\n",
              "      <td>0.0</td>\n",
              "    </tr>\n",
              "    <tr>\n",
              "      <th>507</th>\n",
              "      <td>11.109222</td>\n",
              "      <td>11.109222</td>\n",
              "      <td>11.109222</td>\n",
              "      <td>11.109222</td>\n",
              "      <td>6.769902</td>\n",
              "      <td>0.0</td>\n",
              "    </tr>\n",
              "    <tr>\n",
              "      <th>525</th>\n",
              "      <td>12.291054</td>\n",
              "      <td>12.291054</td>\n",
              "      <td>12.291054</td>\n",
              "      <td>12.291054</td>\n",
              "      <td>7.490102</td>\n",
              "      <td>0.0</td>\n",
              "    </tr>\n",
              "    <tr>\n",
              "      <th>547</th>\n",
              "      <td>13.063790</td>\n",
              "      <td>13.063790</td>\n",
              "      <td>13.063790</td>\n",
              "      <td>13.063790</td>\n",
              "      <td>7.961003</td>\n",
              "      <td>0.0</td>\n",
              "    </tr>\n",
              "    <tr>\n",
              "      <th>587</th>\n",
              "      <td>8.572828</td>\n",
              "      <td>8.572828</td>\n",
              "      <td>8.572828</td>\n",
              "      <td>8.572828</td>\n",
              "      <td>5.224236</td>\n",
              "      <td>0.0</td>\n",
              "    </tr>\n",
              "    <tr>\n",
              "      <th>590</th>\n",
              "      <td>8.963742</td>\n",
              "      <td>8.963742</td>\n",
              "      <td>8.963742</td>\n",
              "      <td>8.963742</td>\n",
              "      <td>5.703623</td>\n",
              "      <td>0.0</td>\n",
              "    </tr>\n",
              "    <tr>\n",
              "      <th>609</th>\n",
              "      <td>8.272825</td>\n",
              "      <td>8.272825</td>\n",
              "      <td>8.272825</td>\n",
              "      <td>8.272825</td>\n",
              "      <td>5.263993</td>\n",
              "      <td>0.0</td>\n",
              "    </tr>\n",
              "    <tr>\n",
              "      <th>628</th>\n",
              "      <td>9.163744</td>\n",
              "      <td>9.163744</td>\n",
              "      <td>9.163744</td>\n",
              "      <td>9.163744</td>\n",
              "      <td>5.830884</td>\n",
              "      <td>0.0</td>\n",
              "    </tr>\n",
              "    <tr>\n",
              "      <th>819</th>\n",
              "      <td>7.727364</td>\n",
              "      <td>7.727364</td>\n",
              "      <td>7.727364</td>\n",
              "      <td>7.727364</td>\n",
              "      <td>4.916917</td>\n",
              "      <td>0.0</td>\n",
              "    </tr>\n",
              "    <tr>\n",
              "      <th>881</th>\n",
              "      <td>6.336438</td>\n",
              "      <td>6.336438</td>\n",
              "      <td>6.336438</td>\n",
              "      <td>6.336438</td>\n",
              "      <td>4.213077</td>\n",
              "      <td>0.0</td>\n",
              "    </tr>\n",
              "    <tr>\n",
              "      <th>1831</th>\n",
              "      <td>12.345600</td>\n",
              "      <td>12.345600</td>\n",
              "      <td>12.345600</td>\n",
              "      <td>12.345600</td>\n",
              "      <td>9.879048</td>\n",
              "      <td>0.0</td>\n",
              "    </tr>\n",
              "    <tr>\n",
              "      <th>1844</th>\n",
              "      <td>11.909231</td>\n",
              "      <td>11.909231</td>\n",
              "      <td>11.909231</td>\n",
              "      <td>11.909231</td>\n",
              "      <td>9.529862</td>\n",
              "      <td>0.0</td>\n",
              "    </tr>\n",
              "    <tr>\n",
              "      <th>1904</th>\n",
              "      <td>12.981971</td>\n",
              "      <td>12.981971</td>\n",
              "      <td>12.981971</td>\n",
              "      <td>12.981971</td>\n",
              "      <td>10.388279</td>\n",
              "      <td>0.0</td>\n",
              "    </tr>\n",
              "    <tr>\n",
              "      <th>1929</th>\n",
              "      <td>13.009244</td>\n",
              "      <td>13.009244</td>\n",
              "      <td>13.009244</td>\n",
              "      <td>13.009244</td>\n",
              "      <td>10.410102</td>\n",
              "      <td>0.0</td>\n",
              "    </tr>\n",
              "    <tr>\n",
              "      <th>1944</th>\n",
              "      <td>11.909231</td>\n",
              "      <td>11.909231</td>\n",
              "      <td>11.909231</td>\n",
              "      <td>11.909231</td>\n",
              "      <td>9.529862</td>\n",
              "      <td>0.0</td>\n",
              "    </tr>\n",
              "    <tr>\n",
              "      <th>1953</th>\n",
              "      <td>11.600137</td>\n",
              "      <td>11.600137</td>\n",
              "      <td>11.600137</td>\n",
              "      <td>11.600137</td>\n",
              "      <td>9.282523</td>\n",
              "      <td>0.0</td>\n",
              "    </tr>\n",
              "    <tr>\n",
              "      <th>1956</th>\n",
              "      <td>12.163780</td>\n",
              "      <td>12.163780</td>\n",
              "      <td>12.163780</td>\n",
              "      <td>12.163780</td>\n",
              "      <td>9.733554</td>\n",
              "      <td>0.0</td>\n",
              "    </tr>\n",
              "    <tr>\n",
              "      <th>1981</th>\n",
              "      <td>13.118336</td>\n",
              "      <td>13.118336</td>\n",
              "      <td>13.118336</td>\n",
              "      <td>13.118336</td>\n",
              "      <td>10.497398</td>\n",
              "      <td>0.0</td>\n",
              "    </tr>\n",
              "    <tr>\n",
              "      <th>1985</th>\n",
              "      <td>13.672888</td>\n",
              "      <td>13.672888</td>\n",
              "      <td>13.672888</td>\n",
              "      <td>13.672888</td>\n",
              "      <td>10.941155</td>\n",
              "      <td>0.0</td>\n",
              "    </tr>\n",
              "    <tr>\n",
              "      <th>2003</th>\n",
              "      <td>13.881982</td>\n",
              "      <td>13.881982</td>\n",
              "      <td>13.881982</td>\n",
              "      <td>13.881982</td>\n",
              "      <td>11.108475</td>\n",
              "      <td>0.0</td>\n",
              "    </tr>\n",
              "  </tbody>\n",
              "</table>\n",
              "</div>"
            ],
            "text/plain": [
              "           Open       High        Low      Close  Adj Close  Volume\n",
              "284   12.018323  12.018323  12.018323  12.018323   7.226080     0.0\n",
              "291   12.181962  12.181962  12.181962  12.181962   7.324469     0.0\n",
              "308   11.709229  11.709229  11.709229  11.709229   7.040236     0.0\n",
              "319   11.954686  11.954686  11.954686  11.954686   7.187818     0.0\n",
              "333   12.500147  12.500147  12.500147  12.500147   7.515780     0.0\n",
              "337   13.709252  13.709252  13.709252  13.709252   8.242761     0.0\n",
              "450   10.691035  10.691035  10.691035  10.691035   6.515060     0.0\n",
              "451   10.691035  10.691035  10.691035  10.691035   6.515060     0.0\n",
              "452   10.691035  10.691035  10.691035  10.691035   6.515060     0.0\n",
              "461    9.909208   9.909208   9.909208   9.909208   6.038619     0.0\n",
              "482   10.936492  10.936492  10.936492  10.936492   6.664640     0.0\n",
              "507   11.109222  11.109222  11.109222  11.109222   6.769902     0.0\n",
              "525   12.291054  12.291054  12.291054  12.291054   7.490102     0.0\n",
              "547   13.063790  13.063790  13.063790  13.063790   7.961003     0.0\n",
              "587    8.572828   8.572828   8.572828   8.572828   5.224236     0.0\n",
              "590    8.963742   8.963742   8.963742   8.963742   5.703623     0.0\n",
              "609    8.272825   8.272825   8.272825   8.272825   5.263993     0.0\n",
              "628    9.163744   9.163744   9.163744   9.163744   5.830884     0.0\n",
              "819    7.727364   7.727364   7.727364   7.727364   4.916917     0.0\n",
              "881    6.336438   6.336438   6.336438   6.336438   4.213077     0.0\n",
              "1831  12.345600  12.345600  12.345600  12.345600   9.879048     0.0\n",
              "1844  11.909231  11.909231  11.909231  11.909231   9.529862     0.0\n",
              "1904  12.981971  12.981971  12.981971  12.981971  10.388279     0.0\n",
              "1929  13.009244  13.009244  13.009244  13.009244  10.410102     0.0\n",
              "1944  11.909231  11.909231  11.909231  11.909231   9.529862     0.0\n",
              "1953  11.600137  11.600137  11.600137  11.600137   9.282523     0.0\n",
              "1956  12.163780  12.163780  12.163780  12.163780   9.733554     0.0\n",
              "1981  13.118336  13.118336  13.118336  13.118336  10.497398     0.0\n",
              "1985  13.672888  13.672888  13.672888  13.672888  10.941155     0.0\n",
              "2003  13.881982  13.881982  13.881982  13.881982  11.108475     0.0"
            ]
          },
          "metadata": {
            "tags": []
          },
          "execution_count": 14
        }
      ]
    },
    {
      "cell_type": "code",
      "metadata": {
        "id": "352jPyV0T5JJ"
      },
      "source": [
        "#preenchendo os valores nulos com o valor médio\n",
        "imputer = SimpleImputer(missing_values=0, strategy='mean',verbose=0)\n",
        "imputer = imputer.fit(base.iloc[:,0:6])\n",
        "base.iloc[:,0:6] = imputer.transform(base.iloc[:,0:6])"
      ],
      "execution_count": 15,
      "outputs": []
    },
    {
      "cell_type": "code",
      "metadata": {
        "colab": {
          "base_uri": "https://localhost:8080/",
          "height": 49
        },
        "id": "xI5JdDykT66_",
        "outputId": "1a6300bc-86d5-467f-fc94-ee2b56ae2f8f"
      },
      "source": [
        "#Verificando novamente se ainda temos valores nulos\n",
        "base.loc[base['Volume'] == 0]"
      ],
      "execution_count": 16,
      "outputs": [
        {
          "output_type": "execute_result",
          "data": {
            "text/html": [
              "<div>\n",
              "<style scoped>\n",
              "    .dataframe tbody tr th:only-of-type {\n",
              "        vertical-align: middle;\n",
              "    }\n",
              "\n",
              "    .dataframe tbody tr th {\n",
              "        vertical-align: top;\n",
              "    }\n",
              "\n",
              "    .dataframe thead th {\n",
              "        text-align: right;\n",
              "    }\n",
              "</style>\n",
              "<table border=\"1\" class=\"dataframe\">\n",
              "  <thead>\n",
              "    <tr style=\"text-align: right;\">\n",
              "      <th></th>\n",
              "      <th>Open</th>\n",
              "      <th>High</th>\n",
              "      <th>Low</th>\n",
              "      <th>Close</th>\n",
              "      <th>Adj Close</th>\n",
              "      <th>Volume</th>\n",
              "    </tr>\n",
              "  </thead>\n",
              "  <tbody>\n",
              "  </tbody>\n",
              "</table>\n",
              "</div>"
            ],
            "text/plain": [
              "Empty DataFrame\n",
              "Columns: [Open, High, Low, Close, Adj Close, Volume]\n",
              "Index: []"
            ]
          },
          "metadata": {
            "tags": []
          },
          "execution_count": 16
        }
      ]
    },
    {
      "cell_type": "code",
      "metadata": {
        "id": "NYW0UUz0T9Kq"
      },
      "source": [
        "#base = base.dropna()"
      ],
      "execution_count": null,
      "outputs": []
    },
    {
      "cell_type": "code",
      "metadata": {
        "id": "ceOotOwsT_Er"
      },
      "source": [
        "#base.sample()"
      ],
      "execution_count": null,
      "outputs": []
    },
    {
      "cell_type": "markdown",
      "metadata": {
        "id": "hCiQYMqPGHuG"
      },
      "source": [
        "#**-Descrição dos dados** IGNORE ESTA CÉLULA"
      ]
    },
    {
      "cell_type": "code",
      "metadata": {
        "id": "xalwLdRSGLRD"
      },
      "source": [
        "#Tendencia central - mean, median\n",
        "ct1 = pd.DataFrame(base.apply(np.mean)).T #T transpondo \n",
        "ct2 = pd.DataFrame(base.apply(np.median)).T\n",
        "#Dispersão - std(desvio padrão), min, max, range\n",
        "d1 = pd.DataFrame(base.apply(np.std)).T\n",
        "d2 = pd.DataFrame(base.apply(min)).T\n",
        "d3 = pd.DataFrame(base.apply(max)).T\n",
        "d4 = pd.DataFrame(base.apply(lambda x: x.max() - x.min())).T\n",
        "#concatenate\n",
        "m = pd.concat([d2,d3,d4,ct1,ct2,d1]).T.reset_index()\n",
        "m.columns = ['attributes','min','max','range', 'mean', 'median', 'std']\n",
        "m"
      ],
      "execution_count": null,
      "outputs": []
    },
    {
      "cell_type": "code",
      "metadata": {
        "colab": {
          "base_uri": "https://localhost:8080/"
        },
        "id": "j62Bj8jOQz_G",
        "outputId": "9e5055ec-b49f-4f7d-e3c1-b3fc2b1dae42"
      },
      "source": [
        "base.shape[0]"
      ],
      "execution_count": null,
      "outputs": [
        {
          "output_type": "execute_result",
          "data": {
            "text/plain": [
              "2478"
            ]
          },
          "metadata": {
            "tags": []
          },
          "execution_count": 20
        }
      ]
    },
    {
      "cell_type": "markdown",
      "metadata": {
        "id": "4IDwP-XV_Ohd"
      },
      "source": [
        "#**4-Treinamento da rede**"
      ]
    },
    {
      "cell_type": "code",
      "metadata": {
        "id": "mpo6RlDsUHNJ"
      },
      "source": [
        "#normalizando a base de dados com o MinMaxScaler\n",
        "base_treinamento = base.iloc[:, 0:6].values\n",
        "normalizador = MinMaxScaler(feature_range=(0,1))\n",
        "base_treinamento_normalizada = normalizador.fit_transform(base_treinamento)"
      ],
      "execution_count": 17,
      "outputs": []
    },
    {
      "cell_type": "code",
      "metadata": {
        "id": "d-LD4OEaUNf7"
      },
      "source": [
        "#Comparando a predição com o preço real\n",
        "previsores = []\n",
        "preco_real = []\n",
        "for i in range(90, 2232):\n",
        "    previsores.append(base_treinamento_normalizada[i-90:i, 0:6])\n",
        "    preco_real.append(base_treinamento_normalizada[i, 3:4])\n",
        "previsores, preco_real = np.array(previsores), np.array(preco_real)\n"
      ],
      "execution_count": 18,
      "outputs": []
    },
    {
      "cell_type": "code",
      "metadata": {
        "colab": {
          "base_uri": "https://localhost:8080/"
        },
        "id": "ZftXowA9URdt",
        "outputId": "c8006a53-f806-4b15-da90-8dc9e88f3ee3"
      },
      "source": [
        "#estrutura da rede neural \n",
        "regressor = Sequential()\n",
        "regressor.add(LSTM(units = 128, return_sequences = True, input_shape = (previsores.shape[1], 6)))\n",
        "regressor.add(Dropout(0.3))\n",
        "\n",
        "regressor.add(LSTM(units = 50, return_sequences = True))\n",
        "regressor.add(Dropout(0.3))\n",
        "\n",
        "regressor.add(LSTM(units = 50, return_sequences = True))\n",
        "regressor.add(Dropout(0.3))\n",
        "\n",
        "regressor.add(LSTM(units = 50))\n",
        "regressor.add(Dropout(0.3))\n",
        "\n",
        "regressor.add(Dense(units = 1, activation = 'sigmoid'))\n",
        "\n",
        "es = EarlyStopping(monitor = 'loss', min_delta = 1e-15, patience = 20, verbose = 1)\n",
        "\n",
        "#regressor.compile(optimizer = 'RMSprop', loss = 'mean_squared_error',\n",
        "#                  metrics = ['mean_absolute_error'])\n",
        "opt = tf.keras.optimizers.Adam(amsgrad=True)\n",
        "regressor.compile(optimizer = opt, loss = 'mean_squared_error',\n",
        "                  metrics = ['mean_absolute_error'])\n",
        "#opt = tf.keras.optimizers.RMSprop(centered=True)\n",
        "#regressor.compile(optimizer = opt, loss = 'mean_squared_error',\n",
        "#                 metrics = ['mean_absolute_error'])\n",
        "\n",
        "regressor.fit(previsores, preco_real, epochs = 600, batch_size = 32,\n",
        "              callbacks = [es])\n",
        "#regressor.fit(previsores, preco_real, epochs = 600, batch_size = 32)"
      ],
      "execution_count": 19,
      "outputs": [
        {
          "output_type": "stream",
          "text": [
            "Epoch 1/600\n",
            "67/67 [==============================] - 37s 19ms/step - loss: 0.0301 - mean_absolute_error: 0.1325\n",
            "Epoch 2/600\n",
            "67/67 [==============================] - 1s 16ms/step - loss: 0.0065 - mean_absolute_error: 0.0628\n",
            "Epoch 3/600\n",
            "67/67 [==============================] - 1s 16ms/step - loss: 0.0058 - mean_absolute_error: 0.0603\n",
            "Epoch 4/600\n",
            "67/67 [==============================] - 1s 16ms/step - loss: 0.0045 - mean_absolute_error: 0.0517\n",
            "Epoch 5/600\n",
            "67/67 [==============================] - 1s 16ms/step - loss: 0.0034 - mean_absolute_error: 0.0454\n",
            "Epoch 6/600\n",
            "67/67 [==============================] - 1s 16ms/step - loss: 0.0034 - mean_absolute_error: 0.0455\n",
            "Epoch 7/600\n",
            "67/67 [==============================] - 1s 16ms/step - loss: 0.0033 - mean_absolute_error: 0.0446\n",
            "Epoch 8/600\n",
            "67/67 [==============================] - 1s 16ms/step - loss: 0.0030 - mean_absolute_error: 0.0432\n",
            "Epoch 9/600\n",
            "67/67 [==============================] - 1s 16ms/step - loss: 0.0031 - mean_absolute_error: 0.0435\n",
            "Epoch 10/600\n",
            "67/67 [==============================] - 1s 16ms/step - loss: 0.0028 - mean_absolute_error: 0.0411\n",
            "Epoch 11/600\n",
            "67/67 [==============================] - 1s 16ms/step - loss: 0.0026 - mean_absolute_error: 0.0395\n",
            "Epoch 12/600\n",
            "67/67 [==============================] - 1s 16ms/step - loss: 0.0026 - mean_absolute_error: 0.0393\n",
            "Epoch 13/600\n",
            "67/67 [==============================] - 1s 16ms/step - loss: 0.0024 - mean_absolute_error: 0.0374\n",
            "Epoch 14/600\n",
            "67/67 [==============================] - 1s 18ms/step - loss: 0.0026 - mean_absolute_error: 0.0403\n",
            "Epoch 15/600\n",
            "67/67 [==============================] - 1s 17ms/step - loss: 0.0023 - mean_absolute_error: 0.0376\n",
            "Epoch 16/600\n",
            "67/67 [==============================] - 1s 16ms/step - loss: 0.0019 - mean_absolute_error: 0.0336\n",
            "Epoch 17/600\n",
            "67/67 [==============================] - 1s 16ms/step - loss: 0.0021 - mean_absolute_error: 0.0351\n",
            "Epoch 18/600\n",
            "67/67 [==============================] - 1s 16ms/step - loss: 0.0018 - mean_absolute_error: 0.0333\n",
            "Epoch 19/600\n",
            "67/67 [==============================] - 1s 17ms/step - loss: 0.0021 - mean_absolute_error: 0.0349\n",
            "Epoch 20/600\n",
            "67/67 [==============================] - 1s 17ms/step - loss: 0.0017 - mean_absolute_error: 0.0321\n",
            "Epoch 21/600\n",
            "67/67 [==============================] - 1s 17ms/step - loss: 0.0017 - mean_absolute_error: 0.0318\n",
            "Epoch 22/600\n",
            "67/67 [==============================] - 1s 16ms/step - loss: 0.0018 - mean_absolute_error: 0.0328\n",
            "Epoch 23/600\n",
            "67/67 [==============================] - 1s 17ms/step - loss: 0.0016 - mean_absolute_error: 0.0307\n",
            "Epoch 24/600\n",
            "67/67 [==============================] - 1s 16ms/step - loss: 0.0018 - mean_absolute_error: 0.0325\n",
            "Epoch 25/600\n",
            "67/67 [==============================] - 1s 16ms/step - loss: 0.0016 - mean_absolute_error: 0.0307\n",
            "Epoch 26/600\n",
            "67/67 [==============================] - 1s 16ms/step - loss: 0.0017 - mean_absolute_error: 0.0314\n",
            "Epoch 27/600\n",
            "67/67 [==============================] - 1s 16ms/step - loss: 0.0017 - mean_absolute_error: 0.0319\n",
            "Epoch 28/600\n",
            "67/67 [==============================] - 1s 16ms/step - loss: 0.0014 - mean_absolute_error: 0.0294\n",
            "Epoch 29/600\n",
            "67/67 [==============================] - 1s 16ms/step - loss: 0.0014 - mean_absolute_error: 0.0290\n",
            "Epoch 30/600\n",
            "67/67 [==============================] - 1s 16ms/step - loss: 0.0016 - mean_absolute_error: 0.0301\n",
            "Epoch 31/600\n",
            "67/67 [==============================] - 1s 16ms/step - loss: 0.0015 - mean_absolute_error: 0.0296\n",
            "Epoch 32/600\n",
            "67/67 [==============================] - 1s 16ms/step - loss: 0.0013 - mean_absolute_error: 0.0277\n",
            "Epoch 33/600\n",
            "67/67 [==============================] - 1s 16ms/step - loss: 0.0014 - mean_absolute_error: 0.0282\n",
            "Epoch 34/600\n",
            "67/67 [==============================] - 1s 17ms/step - loss: 0.0014 - mean_absolute_error: 0.0290\n",
            "Epoch 35/600\n",
            "67/67 [==============================] - 1s 16ms/step - loss: 0.0015 - mean_absolute_error: 0.0302\n",
            "Epoch 36/600\n",
            "67/67 [==============================] - 1s 16ms/step - loss: 0.0013 - mean_absolute_error: 0.0275\n",
            "Epoch 37/600\n",
            "67/67 [==============================] - 1s 17ms/step - loss: 0.0015 - mean_absolute_error: 0.0293\n",
            "Epoch 38/600\n",
            "67/67 [==============================] - 1s 17ms/step - loss: 0.0015 - mean_absolute_error: 0.0292\n",
            "Epoch 39/600\n",
            "67/67 [==============================] - 1s 16ms/step - loss: 0.0013 - mean_absolute_error: 0.0275\n",
            "Epoch 40/600\n",
            "67/67 [==============================] - 1s 16ms/step - loss: 0.0013 - mean_absolute_error: 0.0283\n",
            "Epoch 41/600\n",
            "67/67 [==============================] - 1s 16ms/step - loss: 0.0016 - mean_absolute_error: 0.0289\n",
            "Epoch 42/600\n",
            "67/67 [==============================] - 1s 16ms/step - loss: 0.0014 - mean_absolute_error: 0.0288\n",
            "Epoch 43/600\n",
            "67/67 [==============================] - 1s 16ms/step - loss: 0.0014 - mean_absolute_error: 0.0282\n",
            "Epoch 44/600\n",
            "67/67 [==============================] - 1s 17ms/step - loss: 0.0014 - mean_absolute_error: 0.0289\n",
            "Epoch 45/600\n",
            "67/67 [==============================] - 1s 16ms/step - loss: 0.0014 - mean_absolute_error: 0.0290\n",
            "Epoch 46/600\n",
            "67/67 [==============================] - 1s 16ms/step - loss: 0.0013 - mean_absolute_error: 0.0283\n",
            "Epoch 47/600\n",
            "67/67 [==============================] - 1s 16ms/step - loss: 0.0013 - mean_absolute_error: 0.0273\n",
            "Epoch 48/600\n",
            "67/67 [==============================] - 1s 17ms/step - loss: 0.0012 - mean_absolute_error: 0.0269\n",
            "Epoch 49/600\n",
            "67/67 [==============================] - 1s 16ms/step - loss: 0.0012 - mean_absolute_error: 0.0275\n",
            "Epoch 50/600\n",
            "67/67 [==============================] - 1s 16ms/step - loss: 0.0013 - mean_absolute_error: 0.0275\n",
            "Epoch 51/600\n",
            "67/67 [==============================] - 1s 16ms/step - loss: 0.0013 - mean_absolute_error: 0.0282\n",
            "Epoch 52/600\n",
            "67/67 [==============================] - 1s 17ms/step - loss: 0.0013 - mean_absolute_error: 0.0272\n",
            "Epoch 53/600\n",
            "67/67 [==============================] - 1s 16ms/step - loss: 0.0013 - mean_absolute_error: 0.0272\n",
            "Epoch 54/600\n",
            "67/67 [==============================] - 1s 16ms/step - loss: 0.0014 - mean_absolute_error: 0.0279\n",
            "Epoch 55/600\n",
            "67/67 [==============================] - 1s 17ms/step - loss: 0.0013 - mean_absolute_error: 0.0280\n",
            "Epoch 56/600\n",
            "67/67 [==============================] - 1s 17ms/step - loss: 0.0012 - mean_absolute_error: 0.0268\n",
            "Epoch 57/600\n",
            "67/67 [==============================] - 1s 16ms/step - loss: 0.0013 - mean_absolute_error: 0.0273\n",
            "Epoch 58/600\n",
            "67/67 [==============================] - 1s 16ms/step - loss: 0.0012 - mean_absolute_error: 0.0267\n",
            "Epoch 59/600\n",
            "67/67 [==============================] - 1s 16ms/step - loss: 0.0012 - mean_absolute_error: 0.0266\n",
            "Epoch 60/600\n",
            "67/67 [==============================] - 1s 16ms/step - loss: 0.0013 - mean_absolute_error: 0.0270\n",
            "Epoch 61/600\n",
            "67/67 [==============================] - 1s 16ms/step - loss: 0.0012 - mean_absolute_error: 0.0267\n",
            "Epoch 62/600\n",
            "67/67 [==============================] - 1s 16ms/step - loss: 0.0012 - mean_absolute_error: 0.0267\n",
            "Epoch 63/600\n",
            "67/67 [==============================] - 1s 16ms/step - loss: 0.0011 - mean_absolute_error: 0.0251\n",
            "Epoch 64/600\n",
            "67/67 [==============================] - 1s 16ms/step - loss: 0.0014 - mean_absolute_error: 0.0281\n",
            "Epoch 65/600\n",
            "67/67 [==============================] - 1s 16ms/step - loss: 0.0012 - mean_absolute_error: 0.0267\n",
            "Epoch 66/600\n",
            "67/67 [==============================] - 1s 16ms/step - loss: 0.0012 - mean_absolute_error: 0.0271\n",
            "Epoch 67/600\n",
            "67/67 [==============================] - 1s 16ms/step - loss: 0.0013 - mean_absolute_error: 0.0259\n",
            "Epoch 68/600\n",
            "67/67 [==============================] - 1s 16ms/step - loss: 0.0012 - mean_absolute_error: 0.0265\n",
            "Epoch 69/600\n",
            "67/67 [==============================] - 1s 16ms/step - loss: 0.0010 - mean_absolute_error: 0.0251\n",
            "Epoch 70/600\n",
            "67/67 [==============================] - 1s 16ms/step - loss: 0.0011 - mean_absolute_error: 0.0260\n",
            "Epoch 71/600\n",
            "67/67 [==============================] - 1s 16ms/step - loss: 0.0012 - mean_absolute_error: 0.0266\n",
            "Epoch 72/600\n",
            "67/67 [==============================] - 1s 16ms/step - loss: 0.0012 - mean_absolute_error: 0.0259\n",
            "Epoch 73/600\n",
            "67/67 [==============================] - 1s 16ms/step - loss: 0.0012 - mean_absolute_error: 0.0266\n",
            "Epoch 74/600\n",
            "67/67 [==============================] - 1s 16ms/step - loss: 0.0010 - mean_absolute_error: 0.0248\n",
            "Epoch 75/600\n",
            "67/67 [==============================] - 1s 16ms/step - loss: 0.0012 - mean_absolute_error: 0.0260\n",
            "Epoch 76/600\n",
            "67/67 [==============================] - 1s 17ms/step - loss: 0.0011 - mean_absolute_error: 0.0251\n",
            "Epoch 77/600\n",
            "67/67 [==============================] - 1s 16ms/step - loss: 0.0011 - mean_absolute_error: 0.0255\n",
            "Epoch 78/600\n",
            "67/67 [==============================] - 1s 16ms/step - loss: 0.0011 - mean_absolute_error: 0.0263\n",
            "Epoch 79/600\n",
            "67/67 [==============================] - 1s 16ms/step - loss: 0.0011 - mean_absolute_error: 0.0255\n",
            "Epoch 80/600\n",
            "67/67 [==============================] - 1s 17ms/step - loss: 0.0012 - mean_absolute_error: 0.0272\n",
            "Epoch 81/600\n",
            "67/67 [==============================] - 1s 16ms/step - loss: 0.0012 - mean_absolute_error: 0.0264\n",
            "Epoch 82/600\n",
            "67/67 [==============================] - 1s 16ms/step - loss: 0.0011 - mean_absolute_error: 0.0256\n",
            "Epoch 83/600\n",
            "67/67 [==============================] - 1s 16ms/step - loss: 0.0013 - mean_absolute_error: 0.0263\n",
            "Epoch 84/600\n",
            "67/67 [==============================] - 1s 16ms/step - loss: 0.0012 - mean_absolute_error: 0.0273\n",
            "Epoch 85/600\n",
            "67/67 [==============================] - 1s 16ms/step - loss: 0.0011 - mean_absolute_error: 0.0254\n",
            "Epoch 86/600\n",
            "67/67 [==============================] - 1s 16ms/step - loss: 0.0011 - mean_absolute_error: 0.0256\n",
            "Epoch 87/600\n",
            "67/67 [==============================] - 1s 16ms/step - loss: 0.0011 - mean_absolute_error: 0.0255\n",
            "Epoch 88/600\n",
            "67/67 [==============================] - 1s 16ms/step - loss: 0.0012 - mean_absolute_error: 0.0268\n",
            "Epoch 89/600\n",
            "67/67 [==============================] - 1s 17ms/step - loss: 0.0011 - mean_absolute_error: 0.0254\n",
            "Epoch 90/600\n",
            "67/67 [==============================] - 1s 16ms/step - loss: 9.8647e-04 - mean_absolute_error: 0.0240\n",
            "Epoch 91/600\n",
            "67/67 [==============================] - 1s 16ms/step - loss: 0.0012 - mean_absolute_error: 0.0256\n",
            "Epoch 92/600\n",
            "67/67 [==============================] - 1s 16ms/step - loss: 0.0011 - mean_absolute_error: 0.0248\n",
            "Epoch 93/600\n",
            "67/67 [==============================] - 1s 16ms/step - loss: 9.6956e-04 - mean_absolute_error: 0.0241\n",
            "Epoch 94/600\n",
            "67/67 [==============================] - 1s 16ms/step - loss: 0.0012 - mean_absolute_error: 0.0262\n",
            "Epoch 95/600\n",
            "67/67 [==============================] - 1s 16ms/step - loss: 0.0012 - mean_absolute_error: 0.0268\n",
            "Epoch 96/600\n",
            "67/67 [==============================] - 1s 16ms/step - loss: 0.0011 - mean_absolute_error: 0.0255\n",
            "Epoch 97/600\n",
            "67/67 [==============================] - 1s 16ms/step - loss: 0.0010 - mean_absolute_error: 0.0245\n",
            "Epoch 98/600\n",
            "67/67 [==============================] - 1s 17ms/step - loss: 9.7942e-04 - mean_absolute_error: 0.0241\n",
            "Epoch 99/600\n",
            "67/67 [==============================] - 1s 16ms/step - loss: 0.0011 - mean_absolute_error: 0.0261\n",
            "Epoch 100/600\n",
            "67/67 [==============================] - 1s 16ms/step - loss: 0.0011 - mean_absolute_error: 0.0253\n",
            "Epoch 101/600\n",
            "67/67 [==============================] - 1s 16ms/step - loss: 0.0011 - mean_absolute_error: 0.0259\n",
            "Epoch 102/600\n",
            "67/67 [==============================] - 1s 17ms/step - loss: 0.0011 - mean_absolute_error: 0.0250\n",
            "Epoch 103/600\n",
            "67/67 [==============================] - 1s 17ms/step - loss: 0.0011 - mean_absolute_error: 0.0257\n",
            "Epoch 104/600\n",
            "67/67 [==============================] - 1s 16ms/step - loss: 0.0011 - mean_absolute_error: 0.0252\n",
            "Epoch 105/600\n",
            "67/67 [==============================] - 1s 17ms/step - loss: 0.0011 - mean_absolute_error: 0.0258\n",
            "Epoch 106/600\n",
            "67/67 [==============================] - 1s 17ms/step - loss: 0.0010 - mean_absolute_error: 0.0247\n",
            "Epoch 107/600\n",
            "67/67 [==============================] - 1s 16ms/step - loss: 0.0012 - mean_absolute_error: 0.0266\n",
            "Epoch 108/600\n",
            "67/67 [==============================] - 1s 16ms/step - loss: 0.0010 - mean_absolute_error: 0.0246\n",
            "Epoch 109/600\n",
            "67/67 [==============================] - 1s 16ms/step - loss: 0.0011 - mean_absolute_error: 0.0250\n",
            "Epoch 110/600\n",
            "67/67 [==============================] - 1s 16ms/step - loss: 0.0011 - mean_absolute_error: 0.0254\n",
            "Epoch 111/600\n",
            "67/67 [==============================] - 1s 17ms/step - loss: 0.0010 - mean_absolute_error: 0.0245\n",
            "Epoch 112/600\n",
            "67/67 [==============================] - 1s 16ms/step - loss: 0.0010 - mean_absolute_error: 0.0249\n",
            "Epoch 113/600\n",
            "67/67 [==============================] - 1s 16ms/step - loss: 0.0011 - mean_absolute_error: 0.0251\n",
            "Epoch 114/600\n",
            "67/67 [==============================] - 1s 17ms/step - loss: 0.0011 - mean_absolute_error: 0.0255\n",
            "Epoch 115/600\n",
            "67/67 [==============================] - 1s 16ms/step - loss: 0.0011 - mean_absolute_error: 0.0253\n",
            "Epoch 116/600\n",
            "67/67 [==============================] - 1s 16ms/step - loss: 0.0012 - mean_absolute_error: 0.0257\n",
            "Epoch 117/600\n",
            "67/67 [==============================] - 1s 16ms/step - loss: 0.0011 - mean_absolute_error: 0.0251\n",
            "Epoch 118/600\n",
            "67/67 [==============================] - 1s 16ms/step - loss: 9.5890e-04 - mean_absolute_error: 0.0234\n",
            "Epoch 119/600\n",
            "67/67 [==============================] - 1s 16ms/step - loss: 9.8192e-04 - mean_absolute_error: 0.0238\n",
            "Epoch 120/600\n",
            "67/67 [==============================] - 1s 16ms/step - loss: 0.0011 - mean_absolute_error: 0.0250\n",
            "Epoch 121/600\n",
            "67/67 [==============================] - 1s 16ms/step - loss: 0.0011 - mean_absolute_error: 0.0249\n",
            "Epoch 122/600\n",
            "67/67 [==============================] - 1s 16ms/step - loss: 0.0011 - mean_absolute_error: 0.0252\n",
            "Epoch 123/600\n",
            "67/67 [==============================] - 1s 17ms/step - loss: 0.0010 - mean_absolute_error: 0.0250\n",
            "Epoch 124/600\n",
            "67/67 [==============================] - 1s 17ms/step - loss: 0.0011 - mean_absolute_error: 0.0251\n",
            "Epoch 125/600\n",
            "67/67 [==============================] - 1s 17ms/step - loss: 9.9099e-04 - mean_absolute_error: 0.0235\n",
            "Epoch 126/600\n",
            "67/67 [==============================] - 1s 16ms/step - loss: 0.0010 - mean_absolute_error: 0.0240\n",
            "Epoch 127/600\n",
            "67/67 [==============================] - 1s 16ms/step - loss: 0.0010 - mean_absolute_error: 0.0249\n",
            "Epoch 128/600\n",
            "67/67 [==============================] - 1s 16ms/step - loss: 0.0011 - mean_absolute_error: 0.0258\n",
            "Epoch 129/600\n",
            "67/67 [==============================] - 1s 16ms/step - loss: 0.0012 - mean_absolute_error: 0.0263\n",
            "Epoch 130/600\n",
            "67/67 [==============================] - 1s 16ms/step - loss: 0.0011 - mean_absolute_error: 0.0249\n",
            "Epoch 131/600\n",
            "67/67 [==============================] - 1s 16ms/step - loss: 0.0010 - mean_absolute_error: 0.0246\n",
            "Epoch 132/600\n",
            "67/67 [==============================] - 1s 16ms/step - loss: 0.0011 - mean_absolute_error: 0.0252\n",
            "Epoch 133/600\n",
            "67/67 [==============================] - 1s 17ms/step - loss: 0.0010 - mean_absolute_error: 0.0249\n",
            "Epoch 134/600\n",
            "67/67 [==============================] - 1s 16ms/step - loss: 0.0011 - mean_absolute_error: 0.0248\n",
            "Epoch 135/600\n",
            "67/67 [==============================] - 1s 16ms/step - loss: 0.0011 - mean_absolute_error: 0.0248\n",
            "Epoch 136/600\n",
            "67/67 [==============================] - 1s 16ms/step - loss: 0.0010 - mean_absolute_error: 0.0247\n",
            "Epoch 137/600\n",
            "67/67 [==============================] - 1s 17ms/step - loss: 0.0012 - mean_absolute_error: 0.0250\n",
            "Epoch 138/600\n",
            "67/67 [==============================] - 1s 16ms/step - loss: 0.0011 - mean_absolute_error: 0.0248\n",
            "Epoch 139/600\n",
            "67/67 [==============================] - 1s 16ms/step - loss: 0.0011 - mean_absolute_error: 0.0251\n",
            "Epoch 140/600\n",
            "67/67 [==============================] - 1s 16ms/step - loss: 0.0011 - mean_absolute_error: 0.0255\n",
            "Epoch 141/600\n",
            "67/67 [==============================] - 1s 16ms/step - loss: 0.0011 - mean_absolute_error: 0.0255\n",
            "Epoch 142/600\n",
            "67/67 [==============================] - 1s 17ms/step - loss: 0.0011 - mean_absolute_error: 0.0246\n",
            "Epoch 143/600\n",
            "67/67 [==============================] - 1s 16ms/step - loss: 9.8350e-04 - mean_absolute_error: 0.0243\n",
            "Epoch 144/600\n",
            "67/67 [==============================] - 1s 17ms/step - loss: 0.0010 - mean_absolute_error: 0.0242\n",
            "Epoch 145/600\n",
            "67/67 [==============================] - 1s 16ms/step - loss: 0.0010 - mean_absolute_error: 0.0245\n",
            "Epoch 00145: early stopping\n"
          ],
          "name": "stdout"
        },
        {
          "output_type": "execute_result",
          "data": {
            "text/plain": [
              "<tensorflow.python.keras.callbacks.History at 0x7f66e0185d50>"
            ]
          },
          "metadata": {
            "tags": []
          },
          "execution_count": 19
        }
      ]
    },
    {
      "cell_type": "markdown",
      "metadata": {
        "id": "RtFahmEgGAzZ"
      },
      "source": [
        "#**5-Teste da rede**"
      ]
    },
    {
      "cell_type": "markdown",
      "metadata": {
        "id": "QSWSKW8nqeA0"
      },
      "source": [
        "##**5.1-Importando os dados para teste**"
      ]
    },
    {
      "cell_type": "code",
      "metadata": {
        "id": "4X6-ArtKUdpD"
      },
      "source": [
        "#criando a base de dados teste\n",
        "base_teste = pd.read_csv('MRVE3-teste.csv')\n",
        "base_teste = base_teste.drop('Date', axis = 1)"
      ],
      "execution_count": 20,
      "outputs": []
    },
    {
      "cell_type": "code",
      "metadata": {
        "colab": {
          "base_uri": "https://localhost:8080/",
          "height": 0
        },
        "id": "dXOp2vDcpAvA",
        "outputId": "f6d5af56-8a3a-4939-fd75-cadce4cbeff9"
      },
      "source": [
        "#valores estatísticos\n",
        "base_teste.describe()"
      ],
      "execution_count": 21,
      "outputs": [
        {
          "output_type": "execute_result",
          "data": {
            "text/html": [
              "<div>\n",
              "<style scoped>\n",
              "    .dataframe tbody tr th:only-of-type {\n",
              "        vertical-align: middle;\n",
              "    }\n",
              "\n",
              "    .dataframe tbody tr th {\n",
              "        vertical-align: top;\n",
              "    }\n",
              "\n",
              "    .dataframe thead th {\n",
              "        text-align: right;\n",
              "    }\n",
              "</style>\n",
              "<table border=\"1\" class=\"dataframe\">\n",
              "  <thead>\n",
              "    <tr style=\"text-align: right;\">\n",
              "      <th></th>\n",
              "      <th>Open</th>\n",
              "      <th>High</th>\n",
              "      <th>Low</th>\n",
              "      <th>Close</th>\n",
              "      <th>Adj Close</th>\n",
              "      <th>Volume</th>\n",
              "    </tr>\n",
              "  </thead>\n",
              "  <tbody>\n",
              "    <tr>\n",
              "      <th>count</th>\n",
              "      <td>247.000000</td>\n",
              "      <td>247.000000</td>\n",
              "      <td>247.000000</td>\n",
              "      <td>247.000000</td>\n",
              "      <td>247.000000</td>\n",
              "      <td>2.470000e+02</td>\n",
              "    </tr>\n",
              "    <tr>\n",
              "      <th>mean</th>\n",
              "      <td>16.921538</td>\n",
              "      <td>17.216154</td>\n",
              "      <td>16.611417</td>\n",
              "      <td>16.922753</td>\n",
              "      <td>15.287639</td>\n",
              "      <td>5.124278e+06</td>\n",
              "    </tr>\n",
              "    <tr>\n",
              "      <th>std</th>\n",
              "      <td>2.473257</td>\n",
              "      <td>2.513617</td>\n",
              "      <td>2.411601</td>\n",
              "      <td>2.470855</td>\n",
              "      <td>2.644206</td>\n",
              "      <td>2.523092e+06</td>\n",
              "    </tr>\n",
              "    <tr>\n",
              "      <th>min</th>\n",
              "      <td>12.390000</td>\n",
              "      <td>12.660000</td>\n",
              "      <td>11.510000</td>\n",
              "      <td>11.540000</td>\n",
              "      <td>10.060345</td>\n",
              "      <td>1.478500e+06</td>\n",
              "    </tr>\n",
              "    <tr>\n",
              "      <th>25%</th>\n",
              "      <td>14.485000</td>\n",
              "      <td>14.660000</td>\n",
              "      <td>14.240000</td>\n",
              "      <td>14.480000</td>\n",
              "      <td>12.623378</td>\n",
              "      <td>3.591750e+06</td>\n",
              "    </tr>\n",
              "    <tr>\n",
              "      <th>50%</th>\n",
              "      <td>17.500000</td>\n",
              "      <td>17.850000</td>\n",
              "      <td>17.200001</td>\n",
              "      <td>17.450001</td>\n",
              "      <td>15.962334</td>\n",
              "      <td>4.461100e+06</td>\n",
              "    </tr>\n",
              "    <tr>\n",
              "      <th>75%</th>\n",
              "      <td>18.745000</td>\n",
              "      <td>19.030000</td>\n",
              "      <td>18.224999</td>\n",
              "      <td>18.700001</td>\n",
              "      <td>17.114864</td>\n",
              "      <td>6.006200e+06</td>\n",
              "    </tr>\n",
              "    <tr>\n",
              "      <th>max</th>\n",
              "      <td>22.379999</td>\n",
              "      <td>22.780001</td>\n",
              "      <td>21.790001</td>\n",
              "      <td>22.639999</td>\n",
              "      <td>21.697758</td>\n",
              "      <td>1.864060e+07</td>\n",
              "    </tr>\n",
              "  </tbody>\n",
              "</table>\n",
              "</div>"
            ],
            "text/plain": [
              "             Open        High         Low       Close   Adj Close        Volume\n",
              "count  247.000000  247.000000  247.000000  247.000000  247.000000  2.470000e+02\n",
              "mean    16.921538   17.216154   16.611417   16.922753   15.287639  5.124278e+06\n",
              "std      2.473257    2.513617    2.411601    2.470855    2.644206  2.523092e+06\n",
              "min     12.390000   12.660000   11.510000   11.540000   10.060345  1.478500e+06\n",
              "25%     14.485000   14.660000   14.240000   14.480000   12.623378  3.591750e+06\n",
              "50%     17.500000   17.850000   17.200001   17.450001   15.962334  4.461100e+06\n",
              "75%     18.745000   19.030000   18.224999   18.700001   17.114864  6.006200e+06\n",
              "max     22.379999   22.780001   21.790001   22.639999   21.697758  1.864060e+07"
            ]
          },
          "metadata": {
            "tags": []
          },
          "execution_count": 21
        }
      ]
    },
    {
      "cell_type": "markdown",
      "metadata": {
        "id": "Cw-NIb9EpatP"
      },
      "source": [
        "##**5.2-Tratando os Valores Faltantes**"
      ]
    },
    {
      "cell_type": "code",
      "metadata": {
        "colab": {
          "base_uri": "https://localhost:8080/"
        },
        "id": "lthEX_TZniHb",
        "outputId": "ba988ed0-41ea-454a-cf3f-5e75c8e767e2"
      },
      "source": [
        "#valores faltantes\n",
        "base_teste.isna().sum()"
      ],
      "execution_count": 22,
      "outputs": [
        {
          "output_type": "execute_result",
          "data": {
            "text/plain": [
              "Open         1\n",
              "High         1\n",
              "Low          1\n",
              "Close        1\n",
              "Adj Close    1\n",
              "Volume       1\n",
              "dtype: int64"
            ]
          },
          "metadata": {
            "tags": []
          },
          "execution_count": 22
        }
      ]
    },
    {
      "cell_type": "code",
      "metadata": {
        "colab": {
          "base_uri": "https://localhost:8080/",
          "height": 0
        },
        "id": "uiH2j_UNpjqk",
        "outputId": "7d148721-4725-4d0a-d5be-0a28fcc07999"
      },
      "source": [
        "#encontrando onde os valores faltantes estão\n",
        "base_teste.loc[pd.isnull(base_teste['Open'])]\n",
        "base_teste.loc[pd.isnull(base_teste['High'])]\n",
        "base_teste.loc[pd.isnull(base_teste['Low'])]\n",
        "base_teste.loc[pd.isnull(base_teste['Close'])]\n",
        "base_teste.loc[pd.isnull(base_teste['Adj Close'])]\n",
        "base_teste.loc[pd.isnull(base_teste['Volume'])]"
      ],
      "execution_count": 23,
      "outputs": [
        {
          "output_type": "execute_result",
          "data": {
            "text/html": [
              "<div>\n",
              "<style scoped>\n",
              "    .dataframe tbody tr th:only-of-type {\n",
              "        vertical-align: middle;\n",
              "    }\n",
              "\n",
              "    .dataframe tbody tr th {\n",
              "        vertical-align: top;\n",
              "    }\n",
              "\n",
              "    .dataframe thead th {\n",
              "        text-align: right;\n",
              "    }\n",
              "</style>\n",
              "<table border=\"1\" class=\"dataframe\">\n",
              "  <thead>\n",
              "    <tr style=\"text-align: right;\">\n",
              "      <th></th>\n",
              "      <th>Open</th>\n",
              "      <th>High</th>\n",
              "      <th>Low</th>\n",
              "      <th>Close</th>\n",
              "      <th>Adj Close</th>\n",
              "      <th>Volume</th>\n",
              "    </tr>\n",
              "  </thead>\n",
              "  <tbody>\n",
              "    <tr>\n",
              "      <th>42</th>\n",
              "      <td>NaN</td>\n",
              "      <td>NaN</td>\n",
              "      <td>NaN</td>\n",
              "      <td>NaN</td>\n",
              "      <td>NaN</td>\n",
              "      <td>NaN</td>\n",
              "    </tr>\n",
              "  </tbody>\n",
              "</table>\n",
              "</div>"
            ],
            "text/plain": [
              "    Open  High  Low  Close  Adj Close  Volume\n",
              "42   NaN   NaN  NaN    NaN        NaN     NaN"
            ]
          },
          "metadata": {
            "tags": []
          },
          "execution_count": 23
        }
      ]
    },
    {
      "cell_type": "code",
      "metadata": {
        "id": "Bbw7axJ75lpn"
      },
      "source": [
        "#preenchendo os valores faltantes com o valor médio\n",
        "imputer = SimpleImputer(missing_values=np.nan, strategy='mean',verbose=0)\n",
        "imputer = imputer.fit(base_teste.iloc[:,0:6])\n",
        "base_teste.iloc[:,0:6] = imputer.transform(base_teste.iloc[:,0:6])"
      ],
      "execution_count": 24,
      "outputs": []
    },
    {
      "cell_type": "code",
      "metadata": {
        "colab": {
          "base_uri": "https://localhost:8080/",
          "height": 0
        },
        "id": "CXAi4QV8pw2x",
        "outputId": "a5bd241d-4e37-4630-ea0c-4c0b97e573fa"
      },
      "source": [
        "#verificando novamente se ainda temos valores faltantes\n",
        "base_teste.loc[pd.isnull(base_teste['Open'])]\n",
        "base_teste.loc[pd.isnull(base_teste['High'])]\n",
        "base_teste.loc[pd.isnull(base_teste['Low'])]\n",
        "base_teste.loc[pd.isnull(base_teste['Close'])]\n",
        "base_teste.loc[pd.isnull(base_teste['Adj Close'])]\n",
        "base_teste.loc[pd.isnull(base_teste['Volume'])]"
      ],
      "execution_count": 25,
      "outputs": [
        {
          "output_type": "execute_result",
          "data": {
            "text/html": [
              "<div>\n",
              "<style scoped>\n",
              "    .dataframe tbody tr th:only-of-type {\n",
              "        vertical-align: middle;\n",
              "    }\n",
              "\n",
              "    .dataframe tbody tr th {\n",
              "        vertical-align: top;\n",
              "    }\n",
              "\n",
              "    .dataframe thead th {\n",
              "        text-align: right;\n",
              "    }\n",
              "</style>\n",
              "<table border=\"1\" class=\"dataframe\">\n",
              "  <thead>\n",
              "    <tr style=\"text-align: right;\">\n",
              "      <th></th>\n",
              "      <th>Open</th>\n",
              "      <th>High</th>\n",
              "      <th>Low</th>\n",
              "      <th>Close</th>\n",
              "      <th>Adj Close</th>\n",
              "      <th>Volume</th>\n",
              "    </tr>\n",
              "  </thead>\n",
              "  <tbody>\n",
              "  </tbody>\n",
              "</table>\n",
              "</div>"
            ],
            "text/plain": [
              "Empty DataFrame\n",
              "Columns: [Open, High, Low, Close, Adj Close, Volume]\n",
              "Index: []"
            ]
          },
          "metadata": {
            "tags": []
          },
          "execution_count": 25
        }
      ]
    },
    {
      "cell_type": "markdown",
      "metadata": {
        "id": "X1nZpS8Rp2zr"
      },
      "source": [
        "#**5.3-Tratamento dos valores nulos (iguais a 0)**"
      ]
    },
    {
      "cell_type": "code",
      "metadata": {
        "colab": {
          "base_uri": "https://localhost:8080/"
        },
        "id": "XYwer-dip-KB",
        "outputId": "58953277-bcb3-4d35-e3ca-52d6aa8ac776"
      },
      "source": [
        "#valores nulos\n",
        "(base_teste == 0).sum()"
      ],
      "execution_count": 26,
      "outputs": [
        {
          "output_type": "execute_result",
          "data": {
            "text/plain": [
              "Open         0\n",
              "High         0\n",
              "Low          0\n",
              "Close        0\n",
              "Adj Close    0\n",
              "Volume       0\n",
              "dtype: int64"
            ]
          },
          "metadata": {
            "tags": []
          },
          "execution_count": 26
        }
      ]
    },
    {
      "cell_type": "code",
      "metadata": {
        "colab": {
          "base_uri": "https://localhost:8080/",
          "height": 49
        },
        "id": "sFBo6iR5qEpS",
        "outputId": "5f4f5b86-9089-4d71-fc65-59b1873defe5"
      },
      "source": [
        "#Encontrando os valores nulos\n",
        "base_teste.loc[base_teste['Volume'] == 0]"
      ],
      "execution_count": null,
      "outputs": [
        {
          "output_type": "execute_result",
          "data": {
            "text/html": [
              "<div>\n",
              "<style scoped>\n",
              "    .dataframe tbody tr th:only-of-type {\n",
              "        vertical-align: middle;\n",
              "    }\n",
              "\n",
              "    .dataframe tbody tr th {\n",
              "        vertical-align: top;\n",
              "    }\n",
              "\n",
              "    .dataframe thead th {\n",
              "        text-align: right;\n",
              "    }\n",
              "</style>\n",
              "<table border=\"1\" class=\"dataframe\">\n",
              "  <thead>\n",
              "    <tr style=\"text-align: right;\">\n",
              "      <th></th>\n",
              "      <th>Open</th>\n",
              "      <th>High</th>\n",
              "      <th>Low</th>\n",
              "      <th>Close</th>\n",
              "      <th>Adj Close</th>\n",
              "      <th>Volume</th>\n",
              "    </tr>\n",
              "  </thead>\n",
              "  <tbody>\n",
              "  </tbody>\n",
              "</table>\n",
              "</div>"
            ],
            "text/plain": [
              "Empty DataFrame\n",
              "Columns: [Open, High, Low, Close, Adj Close, Volume]\n",
              "Index: []"
            ]
          },
          "metadata": {
            "tags": []
          },
          "execution_count": 333
        }
      ]
    },
    {
      "cell_type": "code",
      "metadata": {
        "id": "ofkU-XjcqOQE"
      },
      "source": [
        "#preenchendo os valores nulos com o valor médio\n",
        "imputer = SimpleImputer(missing_values=0, strategy='mean',verbose=0)\n",
        "imputer = imputer.fit(base_teste.iloc[:,0:6])\n",
        "base_teste.iloc[:,0:6] = imputer.transform(base_teste.iloc[:,0:6])"
      ],
      "execution_count": null,
      "outputs": []
    },
    {
      "cell_type": "code",
      "metadata": {
        "id": "pYUeIwbnppRT"
      },
      "source": [
        "#Verificando novamente se tem valores nulos\n",
        "base_teste.loc[base_teste['Volume'] == 0]"
      ],
      "execution_count": null,
      "outputs": []
    },
    {
      "cell_type": "markdown",
      "metadata": {
        "id": "N79Bjk6Yq6ci"
      },
      "source": [
        "##**5.4-Preparando a estrutura para teste**"
      ]
    },
    {
      "cell_type": "code",
      "metadata": {
        "id": "UFINH9OzUfDk"
      },
      "source": [
        "#concatenando a base de dados teste com o base de treinamento\n",
        "preco_real_teste = base_teste.iloc[:, 3:4].values\n",
        "frames = [base, base_teste]\n",
        "base_completa = pd.concat(frames)"
      ],
      "execution_count": 27,
      "outputs": []
    },
    {
      "cell_type": "code",
      "metadata": {
        "id": "-CdLW8IZUhLY"
      },
      "source": [
        "#pegando os 90 registros anteriores para percorrer a base teste e colocando no\n",
        "#no formato np.array\n",
        "entradas = base_completa[len(base_completa) - len(base_teste) - 90:].values\n",
        "entradas = normalizador.transform(entradas)\n",
        "Percorrer_teste = []\n",
        "for i in range(90, 338): \n",
        "    Percorrer_teste.append(entradas[i-90:i, 0:6])\n",
        "Percorrer_teste = np.array(Percorrer_teste)"
      ],
      "execution_count": 28,
      "outputs": []
    },
    {
      "cell_type": "code",
      "metadata": {
        "id": "_YdD2ZcaUi1w"
      },
      "source": [
        "#resultado da predição no formato MinMaxScaler\n",
        "previsoes = regressor.predict(Percorrer_teste)"
      ],
      "execution_count": 29,
      "outputs": []
    },
    {
      "cell_type": "code",
      "metadata": {
        "colab": {
          "base_uri": "https://localhost:8080/"
        },
        "id": "jQS0Ql4tUk2Z",
        "outputId": "95143b28-aaef-43b4-b203-db6e5367de7f"
      },
      "source": [
        "#convertendo para a escala MinMaxScaler \n",
        "normalizador_previsao = MinMaxScaler(feature_range=(0,1))\n",
        "normalizador_previsao.fit_transform(base_treinamento[:,3:4])"
      ],
      "execution_count": 30,
      "outputs": [
        {
          "output_type": "execute_result",
          "data": {
            "text/plain": [
              "array([[0.62857138],\n",
              "       [0.61387753],\n",
              "       [0.632653  ],\n",
              "       ...,\n",
              "       [0.55582434],\n",
              "       [0.59533408],\n",
              "       [0.6159869 ]])"
            ]
          },
          "metadata": {
            "tags": []
          },
          "execution_count": 30
        }
      ]
    },
    {
      "cell_type": "code",
      "metadata": {
        "id": "MP_GBjYJUnFe",
        "colab": {
          "base_uri": "https://localhost:8080/"
        },
        "outputId": "e7a0ee6a-0b6e-4c03-d5cc-5a57b40a8424"
      },
      "source": [
        "#colocando a previsão no formato original para preparar a visualização no gráfico\n",
        "previsoes = normalizador_previsao.inverse_transform(previsoes)\n",
        "previsoes"
      ],
      "execution_count": 31,
      "outputs": [
        {
          "output_type": "execute_result",
          "data": {
            "text/plain": [
              "array([[12.262634 ],\n",
              "       [12.531581 ],\n",
              "       [12.505779 ],\n",
              "       [12.425731 ],\n",
              "       [12.503644 ],\n",
              "       [12.838841 ],\n",
              "       [13.2515545],\n",
              "       [13.192706 ],\n",
              "       [13.212551 ],\n",
              "       [13.62162  ],\n",
              "       [13.56277  ],\n",
              "       [13.542277 ],\n",
              "       [13.35693  ],\n",
              "       [12.498674 ],\n",
              "       [13.806677 ],\n",
              "       [13.74366  ],\n",
              "       [14.055679 ],\n",
              "       [14.389989 ],\n",
              "       [14.821199 ],\n",
              "       [14.547953 ],\n",
              "       [14.611957 ],\n",
              "       [14.632882 ],\n",
              "       [14.531753 ],\n",
              "       [14.416523 ],\n",
              "       [14.553541 ],\n",
              "       [14.246121 ],\n",
              "       [14.120355 ],\n",
              "       [14.133065 ],\n",
              "       [14.137342 ],\n",
              "       [13.956612 ],\n",
              "       [13.843147 ],\n",
              "       [13.964375 ],\n",
              "       [13.695765 ],\n",
              "       [13.927201 ],\n",
              "       [13.840541 ],\n",
              "       [13.632026 ],\n",
              "       [13.617066 ],\n",
              "       [13.613016 ],\n",
              "       [13.67281  ],\n",
              "       [13.349857 ],\n",
              "       [13.4426775],\n",
              "       [13.409775 ],\n",
              "       [13.665155 ],\n",
              "       [15.326798 ],\n",
              "       [14.730362 ],\n",
              "       [14.632319 ],\n",
              "       [14.403546 ],\n",
              "       [14.414893 ],\n",
              "       [14.339278 ],\n",
              "       [14.31019  ],\n",
              "       [14.149736 ],\n",
              "       [14.184684 ],\n",
              "       [14.201347 ],\n",
              "       [13.985397 ],\n",
              "       [13.745485 ],\n",
              "       [13.395763 ],\n",
              "       [13.256825 ],\n",
              "       [13.5918865],\n",
              "       [13.259213 ],\n",
              "       [13.471521 ],\n",
              "       [13.631891 ],\n",
              "       [13.850355 ],\n",
              "       [13.731815 ],\n",
              "       [13.642783 ],\n",
              "       [13.7515545],\n",
              "       [13.942772 ],\n",
              "       [13.826476 ],\n",
              "       [13.73851  ],\n",
              "       [13.89351  ],\n",
              "       [13.562505 ],\n",
              "       [13.4250345],\n",
              "       [13.487615 ],\n",
              "       [13.530983 ],\n",
              "       [13.752333 ],\n",
              "       [13.9925995],\n",
              "       [14.232927 ],\n",
              "       [14.369137 ],\n",
              "       [14.090022 ],\n",
              "       [14.265915 ],\n",
              "       [14.232763 ],\n",
              "       [14.41534  ],\n",
              "       [14.321622 ],\n",
              "       [14.134499 ],\n",
              "       [14.229373 ],\n",
              "       [14.173272 ],\n",
              "       [14.3610735],\n",
              "       [14.5096035],\n",
              "       [14.984014 ],\n",
              "       [14.962516 ],\n",
              "       [15.004999 ],\n",
              "       [15.081559 ],\n",
              "       [15.034603 ],\n",
              "       [14.727174 ],\n",
              "       [14.623403 ],\n",
              "       [14.976312 ],\n",
              "       [15.225412 ],\n",
              "       [15.361937 ],\n",
              "       [15.365083 ],\n",
              "       [15.362652 ],\n",
              "       [15.651131 ],\n",
              "       [15.855934 ],\n",
              "       [15.902246 ],\n",
              "       [15.906864 ],\n",
              "       [15.9488535],\n",
              "       [15.781316 ],\n",
              "       [15.866363 ],\n",
              "       [15.87785  ],\n",
              "       [16.053703 ],\n",
              "       [16.084425 ],\n",
              "       [16.043926 ],\n",
              "       [16.060902 ],\n",
              "       [15.91664  ],\n",
              "       [15.9400015],\n",
              "       [15.984672 ],\n",
              "       [16.109442 ],\n",
              "       [16.233204 ],\n",
              "       [16.278208 ],\n",
              "       [16.376928 ],\n",
              "       [16.416157 ],\n",
              "       [16.417635 ],\n",
              "       [16.439964 ],\n",
              "       [16.450022 ],\n",
              "       [16.468964 ],\n",
              "       [16.459429 ],\n",
              "       [16.464497 ],\n",
              "       [16.447819 ],\n",
              "       [16.448065 ],\n",
              "       [16.451113 ],\n",
              "       [16.463402 ],\n",
              "       [16.48385  ],\n",
              "       [16.490911 ],\n",
              "       [16.48205  ],\n",
              "       [16.470078 ],\n",
              "       [16.471436 ],\n",
              "       [16.454773 ],\n",
              "       [16.466629 ],\n",
              "       [16.439867 ],\n",
              "       [16.409597 ],\n",
              "       [16.382547 ],\n",
              "       [16.391882 ],\n",
              "       [16.359833 ],\n",
              "       [16.39959  ],\n",
              "       [16.42872  ],\n",
              "       [16.461447 ],\n",
              "       [16.482689 ],\n",
              "       [16.50279  ],\n",
              "       [16.514488 ],\n",
              "       [16.519156 ],\n",
              "       [16.527481 ],\n",
              "       [16.534735 ],\n",
              "       [16.541563 ],\n",
              "       [16.542591 ],\n",
              "       [16.542183 ],\n",
              "       [16.537933 ],\n",
              "       [16.525517 ],\n",
              "       [16.486149 ],\n",
              "       [16.447779 ],\n",
              "       [16.37377  ],\n",
              "       [16.303247 ],\n",
              "       [16.343636 ],\n",
              "       [16.380705 ],\n",
              "       [16.328608 ],\n",
              "       [16.155466 ],\n",
              "       [16.21764  ],\n",
              "       [16.166716 ],\n",
              "       [16.323257 ],\n",
              "       [16.356104 ],\n",
              "       [16.424313 ],\n",
              "       [16.401224 ],\n",
              "       [16.251823 ],\n",
              "       [16.194937 ],\n",
              "       [16.185911 ],\n",
              "       [16.041752 ],\n",
              "       [15.950206 ],\n",
              "       [16.18966  ],\n",
              "       [16.17928  ],\n",
              "       [16.238483 ],\n",
              "       [16.147207 ],\n",
              "       [16.289047 ],\n",
              "       [16.214762 ],\n",
              "       [16.317947 ],\n",
              "       [16.30846  ],\n",
              "       [16.345387 ],\n",
              "       [16.255434 ],\n",
              "       [16.22671  ],\n",
              "       [16.20408  ],\n",
              "       [16.225636 ],\n",
              "       [16.213413 ],\n",
              "       [16.25072  ],\n",
              "       [16.175539 ],\n",
              "       [16.228554 ],\n",
              "       [16.239357 ],\n",
              "       [16.184319 ],\n",
              "       [16.11042  ],\n",
              "       [16.196093 ],\n",
              "       [16.205658 ],\n",
              "       [16.243128 ],\n",
              "       [16.244463 ],\n",
              "       [16.155708 ],\n",
              "       [16.10978  ],\n",
              "       [16.103605 ],\n",
              "       [16.152763 ],\n",
              "       [16.15121  ],\n",
              "       [16.235146 ],\n",
              "       [16.160923 ],\n",
              "       [16.105263 ],\n",
              "       [16.09841  ],\n",
              "       [16.123524 ],\n",
              "       [16.218552 ],\n",
              "       [16.23701  ],\n",
              "       [16.194393 ],\n",
              "       [16.264273 ],\n",
              "       [16.363514 ],\n",
              "       [16.372253 ],\n",
              "       [16.397501 ],\n",
              "       [16.385727 ],\n",
              "       [16.337772 ],\n",
              "       [16.283201 ],\n",
              "       [16.230661 ],\n",
              "       [16.182129 ],\n",
              "       [15.910265 ],\n",
              "       [15.810986 ],\n",
              "       [15.89715  ],\n",
              "       [15.978998 ],\n",
              "       [16.149492 ],\n",
              "       [16.239027 ],\n",
              "       [16.235186 ],\n",
              "       [16.121243 ],\n",
              "       [16.146185 ],\n",
              "       [16.166632 ],\n",
              "       [16.145422 ],\n",
              "       [16.284275 ],\n",
              "       [16.313047 ],\n",
              "       [16.355478 ],\n",
              "       [16.411684 ],\n",
              "       [16.441559 ],\n",
              "       [16.460665 ],\n",
              "       [16.478016 ],\n",
              "       [16.502108 ],\n",
              "       [16.522652 ],\n",
              "       [16.535055 ],\n",
              "       [16.541424 ],\n",
              "       [16.544603 ],\n",
              "       [16.54645  ],\n",
              "       [16.545916 ],\n",
              "       [16.54452  ],\n",
              "       [16.544819 ],\n",
              "       [16.546474 ]], dtype=float32)"
            ]
          },
          "metadata": {
            "tags": []
          },
          "execution_count": 31
        }
      ]
    },
    {
      "cell_type": "markdown",
      "metadata": {
        "id": "lEjN0sRdrGmK"
      },
      "source": [
        "##**6-Análise dos resuldatos**"
      ]
    },
    {
      "cell_type": "code",
      "metadata": {
        "id": "beWuUgy2Uoe_",
        "colab": {
          "base_uri": "https://localhost:8080/",
          "height": 485
        },
        "outputId": "182687d2-ce01-480e-f184-cc611787b09a"
      },
      "source": [
        "#Visualizando o gráfico da Previsão da rede\n",
        "plt.plot(preco_real_teste, color = 'red', label = 'Preço real')\n",
        "plt.plot(previsoes, color = 'blue', label = 'Previsões')\n",
        "plt.title('Previsão do preço das ações')\n",
        "plt.xlabel('Tempo em dias')\n",
        "plt.ylabel('Preço das ações')\n",
        "plt.legend()\n",
        "plt.show()"
      ],
      "execution_count": 32,
      "outputs": [
        {
          "output_type": "display_data",
          "data": {
            "image/png": "[encoded data removed]",
            "text/plain": [
              "<Figure size 1800x864 with 1 Axes>"
            ]
          },
          "metadata": {
            "tags": []
          }
        }
      ]
    },
    {
      "cell_type": "code",
      "metadata": {
        "id": "hKA0-lbgUtH-",
        "colab": {
          "base_uri": "https://localhost:8080/",
          "height": 297
        },
        "outputId": "7c63f29f-1680-403e-a711-7ed204db0b5f"
      },
      "source": [
        "#estatísticas do preço real comparado com a previsão\n",
        "df1 = pd.DataFrame(preco_real_teste).T\n",
        "df2 = pd.DataFrame(previsoes).T\n",
        "\n",
        "df3 = pd.concat([df1,df2]).T\n",
        "df3.columns = ['Preco real', 'Previsoes']\n",
        "df3.describe()"
      ],
      "execution_count": 33,
      "outputs": [
        {
          "output_type": "execute_result",
          "data": {
            "text/html": [
              "<div>\n",
              "<style scoped>\n",
              "    .dataframe tbody tr th:only-of-type {\n",
              "        vertical-align: middle;\n",
              "    }\n",
              "\n",
              "    .dataframe tbody tr th {\n",
              "        vertical-align: top;\n",
              "    }\n",
              "\n",
              "    .dataframe thead th {\n",
              "        text-align: right;\n",
              "    }\n",
              "</style>\n",
              "<table border=\"1\" class=\"dataframe\">\n",
              "  <thead>\n",
              "    <tr style=\"text-align: right;\">\n",
              "      <th></th>\n",
              "      <th>Preco real</th>\n",
              "      <th>Previsoes</th>\n",
              "    </tr>\n",
              "  </thead>\n",
              "  <tbody>\n",
              "    <tr>\n",
              "      <th>count</th>\n",
              "      <td>248.000000</td>\n",
              "      <td>248.000000</td>\n",
              "    </tr>\n",
              "    <tr>\n",
              "      <th>mean</th>\n",
              "      <td>16.922753</td>\n",
              "      <td>15.365342</td>\n",
              "    </tr>\n",
              "    <tr>\n",
              "      <th>std</th>\n",
              "      <td>2.465849</td>\n",
              "      <td>1.212856</td>\n",
              "    </tr>\n",
              "    <tr>\n",
              "      <th>min</th>\n",
              "      <td>11.540000</td>\n",
              "      <td>12.262634</td>\n",
              "    </tr>\n",
              "    <tr>\n",
              "      <th>25%</th>\n",
              "      <td>14.480000</td>\n",
              "      <td>14.222367</td>\n",
              "    </tr>\n",
              "    <tr>\n",
              "      <th>50%</th>\n",
              "      <td>17.450001</td>\n",
              "      <td>16.109611</td>\n",
              "    </tr>\n",
              "    <tr>\n",
              "      <th>75%</th>\n",
              "      <td>18.700001</td>\n",
              "      <td>16.357036</td>\n",
              "    </tr>\n",
              "    <tr>\n",
              "      <th>max</th>\n",
              "      <td>22.639999</td>\n",
              "      <td>16.546474</td>\n",
              "    </tr>\n",
              "  </tbody>\n",
              "</table>\n",
              "</div>"
            ],
            "text/plain": [
              "       Preco real   Previsoes\n",
              "count  248.000000  248.000000\n",
              "mean    16.922753   15.365342\n",
              "std      2.465849    1.212856\n",
              "min     11.540000   12.262634\n",
              "25%     14.480000   14.222367\n",
              "50%     17.450001   16.109611\n",
              "75%     18.700001   16.357036\n",
              "max     22.639999   16.546474"
            ]
          },
          "metadata": {
            "tags": []
          },
          "execution_count": 33
        }
      ]
    },
    {
      "cell_type": "code",
      "metadata": {
        "id": "ZjIrFF8Y_M9N"
      },
      "source": [
        "#df2 = pd.DataFrame(previsoes)\n",
        "#df2.describe()"
      ],
      "execution_count": null,
      "outputs": []
    },
    {
      "cell_type": "code",
      "metadata": {
        "id": "TKfgSJAIV5a_"
      },
      "source": [
        "#df1 = pd.DataFrame(preco_real_teste)\n",
        "#df1.describe()"
      ],
      "execution_count": null,
      "outputs": []
    }
  ]
}