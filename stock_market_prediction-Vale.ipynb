{
  "nbformat": 4,
  "nbformat_minor": 0,
  "metadata": {
    "colab": {
      "name": "stock-market-prediction.ipynb",
      "provenance": [],
      "collapsed_sections": [
        "UiXZAchqFuC-",
        "SuPg1RFvQyMS",
        "8MLClRMWPwTL",
        "hCiQYMqPGHuG",
        "4IDwP-XV_Ohd",
        "RtFahmEgGAzZ"
      ],
      "toc_visible": true,
      "authorship_tag": "ABX9TyNg0s68j0I53gA9xmuKjK6S",
      "include_colab_link": true
    },
    "kernelspec": {
      "name": "python3",
      "display_name": "Python 3"
    },
    "accelerator": "GPU"
  },
  "cells": [
    {
      "cell_type": "markdown",
      "metadata": {
        "id": "view-in-github",
        "colab_type": "text"
      },
      "source": [
        "<a href=\"https://colab.research.google.com/github/claubermartins/Stock-market-prediction/blob/main/stock_market_prediction-Vale.ipynb\" target=\"_parent\"><img src=\"https://colab.research.google.com/assets/colab-badge.svg\" alt=\"Open In Colab\"/></a>"
      ]
    },
    {
      "cell_type": "code",
      "metadata": {
        "colab": {
          "base_uri": "https://localhost:8080/"
        },
        "id": "XjlKRgiDRdpq",
        "outputId": "500ff1c8-936c-48ff-ab27-ffbcbfe38d2a"
      },
      "source": [
        "pip install inflection"
      ],
      "execution_count": 1,
      "outputs": [
        {
          "output_type": "stream",
          "text": [
            "Collecting inflection\n",
            "  Downloading https://files.pythonhosted.org/packages/59/91/aa6bde563e0085a02a435aa99b49ef75b0a4b062635e606dab23ce18d720/inflection-0.5.1-py2.py3-none-any.whl\n",
            "Installing collected packages: inflection\n",
            "Successfully installed inflection-0.5.1\n"
          ],
          "name": "stdout"
        }
      ]
    },
    {
      "cell_type": "markdown",
      "metadata": {
        "id": "UiXZAchqFuC-"
      },
      "source": [
        "#**1-Importando bibliotecas**"
      ]
    },
    {
      "cell_type": "code",
      "metadata": {
        "id": "ZjQg-8c_--wP"
      },
      "source": [
        "from tensorflow.keras.models import Sequential \n",
        "from tensorflow.keras.layers import Dense, Dropout, LSTM\n",
        "from tensorflow.keras.callbacks import EarlyStopping \n",
        "from sklearn.preprocessing import MinMaxScaler\n",
        "from sklearn.impute import SimpleImputer\n",
        "import numpy as np\n",
        "import pandas as pd\n",
        "import matplotlib.pyplot as plt\n",
        "import tensorflow as tf\n",
        "import math\n",
        "import seaborn as sns\n",
        "import datetime\n",
        "import inflection\n",
        "from IPython.core.display import HTML"
      ],
      "execution_count": 2,
      "outputs": []
    },
    {
      "cell_type": "markdown",
      "metadata": {
        "id": "SuPg1RFvQyMS"
      },
      "source": [
        "#**2-Funções auxiliares para o Jupyter Notebook**"
      ]
    },
    {
      "cell_type": "code",
      "metadata": {
        "id": "2vKvPdvDPJHc"
      },
      "source": [
        "def jupyter_settings():\n",
        "    %matplotlib inline\n",
        "    %pylab inline\n",
        "    \n",
        "    plt.style.use( 'bmh' )\n",
        "    plt.rcParams['figure.figsize'] = [25, 12]\n",
        "    plt.rcParams['font.size'] = 24\n",
        "    \n",
        "    display( HTML( '<style>.container { width:100% !important; }</style>') )\n",
        "    pd.options.display.max_columns = None\n",
        "    pd.options.display.max_rows = None\n",
        "    pd.set_option( 'display.expand_frame_repr', False )\n",
        "    \n",
        "    sns.set()"
      ],
      "execution_count": 3,
      "outputs": []
    },
    {
      "cell_type": "code",
      "metadata": {
        "colab": {
          "base_uri": "https://localhost:8080/",
          "height": 34
        },
        "id": "PGJn-AaoMxuy",
        "outputId": "015e7b6d-8d99-4ccf-fdff-06f008114742"
      },
      "source": [
        "jupyter_settings()"
      ],
      "execution_count": 4,
      "outputs": [
        {
          "output_type": "stream",
          "text": [
            "Populating the interactive namespace from numpy and matplotlib\n"
          ],
          "name": "stdout"
        },
        {
          "output_type": "display_data",
          "data": {
            "text/html": [
              "<style>.container { width:100% !important; }</style>"
            ],
            "text/plain": [
              "<IPython.core.display.HTML object>"
            ]
          },
          "metadata": {
            "tags": []
          }
        }
      ]
    },
    {
      "cell_type": "markdown",
      "metadata": {
        "id": "c_3core8Shq6"
      },
      "source": [
        "##**2.1Método de importação de arquivos do Google Colab**"
      ]
    },
    {
      "cell_type": "code",
      "metadata": {
        "id": "cTk_YEVdyms3",
        "colab": {
          "resources": {
            "http://localhost:8080/nbextensions/google.colab/files.js": {
              "data": "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",
              "ok": true,
              "headers": [
                [
                  "content-type",
                  "application/javascript"
                ]
              ],
              "status": 200,
              "status_text": ""
            }
          },
          "base_uri": "https://localhost:8080/",
          "height": 157
        },
        "outputId": "9aadc800-ee92-477b-f7ac-cc37606afb6e"
      },
      "source": [
        "from google.colab import files\n",
        "upload = files.upload()\n",
        "print(\"downloaded files: \")\n",
        "print(*upload, sep = \"\\n\")"
      ],
      "execution_count": 5,
      "outputs": [
        {
          "output_type": "display_data",
          "data": {
            "text/html": [
              "\n",
              "     <input type=\"file\" id=\"files-ea0b938a-c69f-4245-8138-0d64b4ea6148\" name=\"files[]\" multiple disabled\n",
              "        style=\"border:none\" />\n",
              "     <output id=\"result-ea0b938a-c69f-4245-8138-0d64b4ea6148\">\n",
              "      Upload widget is only available when the cell has been executed in the\n",
              "      current browser session. Please rerun this cell to enable.\n",
              "      </output>\n",
              "      <script src=\"/nbextensions/google.colab/files.js\"></script> "
            ],
            "text/plain": [
              "<IPython.core.display.HTML object>"
            ]
          },
          "metadata": {
            "tags": []
          }
        },
        {
          "output_type": "stream",
          "text": [
            "Saving VALE-teste.csv to VALE-teste.csv\n",
            "Saving VALE-treinamento.csv to VALE-treinamento.csv\n",
            "downloaded files: \n",
            "VALE-teste.csv\n",
            "VALE-treinamento.csv\n"
          ],
          "name": "stdout"
        }
      ]
    },
    {
      "cell_type": "markdown",
      "metadata": {
        "id": "8MLClRMWPwTL"
      },
      "source": [
        "#**3-Tratamento dos dados**"
      ]
    },
    {
      "cell_type": "markdown",
      "metadata": {
        "id": "DOJanakhS-s2"
      },
      "source": [
        "##**3.1-Importando os dados**"
      ]
    },
    {
      "cell_type": "code",
      "metadata": {
        "id": "vYFCwA5GTB2j"
      },
      "source": [
        "base = pd.read_csv('VALE-treinamento.csv')\n",
        "base = base.drop('Date', axis = 1)"
      ],
      "execution_count": 6,
      "outputs": []
    },
    {
      "cell_type": "code",
      "metadata": {
        "colab": {
          "base_uri": "https://localhost:8080/",
          "height": 0
        },
        "id": "SD9oSvK-NE0Y",
        "outputId": "26cf9702-c356-4fd0-db49-1017ebb5b075"
      },
      "source": [
        "#valores estatísticos\n",
        "base.describe()"
      ],
      "execution_count": 7,
      "outputs": [
        {
          "output_type": "execute_result",
          "data": {
            "text/html": [
              "<div>\n",
              "<style scoped>\n",
              "    .dataframe tbody tr th:only-of-type {\n",
              "        vertical-align: middle;\n",
              "    }\n",
              "\n",
              "    .dataframe tbody tr th {\n",
              "        vertical-align: top;\n",
              "    }\n",
              "\n",
              "    .dataframe thead th {\n",
              "        text-align: right;\n",
              "    }\n",
              "</style>\n",
              "<table border=\"1\" class=\"dataframe\">\n",
              "  <thead>\n",
              "    <tr style=\"text-align: right;\">\n",
              "      <th></th>\n",
              "      <th>Open</th>\n",
              "      <th>High</th>\n",
              "      <th>Low</th>\n",
              "      <th>Close</th>\n",
              "      <th>Adj Close</th>\n",
              "      <th>Volume</th>\n",
              "    </tr>\n",
              "  </thead>\n",
              "  <tbody>\n",
              "    <tr>\n",
              "      <th>count</th>\n",
              "      <td>2264.000000</td>\n",
              "      <td>2264.000000</td>\n",
              "      <td>2264.000000</td>\n",
              "      <td>2264.000000</td>\n",
              "      <td>2264.000000</td>\n",
              "      <td>2.264000e+03</td>\n",
              "    </tr>\n",
              "    <tr>\n",
              "      <th>mean</th>\n",
              "      <td>15.857491</td>\n",
              "      <td>16.065362</td>\n",
              "      <td>15.619223</td>\n",
              "      <td>15.844717</td>\n",
              "      <td>11.276752</td>\n",
              "      <td>2.345833e+07</td>\n",
              "    </tr>\n",
              "    <tr>\n",
              "      <th>std</th>\n",
              "      <td>8.949669</td>\n",
              "      <td>9.028926</td>\n",
              "      <td>8.842143</td>\n",
              "      <td>8.943359</td>\n",
              "      <td>5.237754</td>\n",
              "      <td>1.004303e+07</td>\n",
              "    </tr>\n",
              "    <tr>\n",
              "      <th>min</th>\n",
              "      <td>2.190000</td>\n",
              "      <td>2.240000</td>\n",
              "      <td>2.130000</td>\n",
              "      <td>2.150000</td>\n",
              "      <td>1.756097</td>\n",
              "      <td>4.499500e+06</td>\n",
              "    </tr>\n",
              "    <tr>\n",
              "      <th>25%</th>\n",
              "      <td>8.690000</td>\n",
              "      <td>8.827500</td>\n",
              "      <td>8.500000</td>\n",
              "      <td>8.687500</td>\n",
              "      <td>7.142096</td>\n",
              "      <td>1.646215e+07</td>\n",
              "    </tr>\n",
              "    <tr>\n",
              "      <th>50%</th>\n",
              "      <td>13.900000</td>\n",
              "      <td>14.060000</td>\n",
              "      <td>13.720000</td>\n",
              "      <td>13.900000</td>\n",
              "      <td>11.197578</td>\n",
              "      <td>2.146040e+07</td>\n",
              "    </tr>\n",
              "    <tr>\n",
              "      <th>75%</th>\n",
              "      <td>22.380001</td>\n",
              "      <td>22.680000</td>\n",
              "      <td>22.032501</td>\n",
              "      <td>22.340000</td>\n",
              "      <td>14.926006</td>\n",
              "      <td>2.797898e+07</td>\n",
              "    </tr>\n",
              "    <tr>\n",
              "      <th>max</th>\n",
              "      <td>37.060001</td>\n",
              "      <td>37.250000</td>\n",
              "      <td>36.480000</td>\n",
              "      <td>37.080002</td>\n",
              "      <td>23.379416</td>\n",
              "      <td>8.622050e+07</td>\n",
              "    </tr>\n",
              "  </tbody>\n",
              "</table>\n",
              "</div>"
            ],
            "text/plain": [
              "              Open         High          Low        Close    Adj Close        Volume\n",
              "count  2264.000000  2264.000000  2264.000000  2264.000000  2264.000000  2.264000e+03\n",
              "mean     15.857491    16.065362    15.619223    15.844717    11.276752  2.345833e+07\n",
              "std       8.949669     9.028926     8.842143     8.943359     5.237754  1.004303e+07\n",
              "min       2.190000     2.240000     2.130000     2.150000     1.756097  4.499500e+06\n",
              "25%       8.690000     8.827500     8.500000     8.687500     7.142096  1.646215e+07\n",
              "50%      13.900000    14.060000    13.720000    13.900000    11.197578  2.146040e+07\n",
              "75%      22.380001    22.680000    22.032501    22.340000    14.926006  2.797898e+07\n",
              "max      37.060001    37.250000    36.480000    37.080002    23.379416  8.622050e+07"
            ]
          },
          "metadata": {
            "tags": []
          },
          "execution_count": 7
        }
      ]
    },
    {
      "cell_type": "code",
      "metadata": {
        "colab": {
          "base_uri": "https://localhost:8080/"
        },
        "id": "fbKUPwPSNJqm",
        "outputId": "371a05b0-729c-4237-eaf8-7dc593b81348"
      },
      "source": [
        "base.dtypes"
      ],
      "execution_count": 8,
      "outputs": [
        {
          "output_type": "execute_result",
          "data": {
            "text/plain": [
              "Open         float64\n",
              "High         float64\n",
              "Low          float64\n",
              "Close        float64\n",
              "Adj Close    float64\n",
              "Volume         int64\n",
              "dtype: object"
            ]
          },
          "metadata": {
            "tags": []
          },
          "execution_count": 8
        }
      ]
    },
    {
      "cell_type": "markdown",
      "metadata": {
        "id": "bCTD3wo2TfZF"
      },
      "source": [
        "##**3.2-Tratando os Valores Faltantes**"
      ]
    },
    {
      "cell_type": "code",
      "metadata": {
        "colab": {
          "base_uri": "https://localhost:8080/"
        },
        "id": "H60SOo8MTjjP",
        "outputId": "bb287c13-55d3-48fb-98ab-49440d2dcb02"
      },
      "source": [
        "#valores faltantes\n",
        "base.isna().sum()"
      ],
      "execution_count": 9,
      "outputs": [
        {
          "output_type": "execute_result",
          "data": {
            "text/plain": [
              "Open         0\n",
              "High         0\n",
              "Low          0\n",
              "Close        0\n",
              "Adj Close    0\n",
              "Volume       0\n",
              "dtype: int64"
            ]
          },
          "metadata": {
            "tags": []
          },
          "execution_count": 9
        }
      ]
    },
    {
      "cell_type": "code",
      "metadata": {
        "id": "H-DMfyHXTkdi",
        "colab": {
          "base_uri": "https://localhost:8080/",
          "height": 0
        },
        "outputId": "9728bf1a-7a95-4299-d110-3a8362c43567"
      },
      "source": [
        "#encontrando onde os valores faltantes estão\n",
        "base.loc[pd.isnull(base['Open'])]\n",
        "base.loc[pd.isnull(base['High'])]\n",
        "base.loc[pd.isnull(base['Low'])]\n",
        "base.loc[pd.isnull(base['Close'])]\n",
        "base.loc[pd.isnull(base['Adj Close'])]\n",
        "base.loc[pd.isnull(base['Volume'])]"
      ],
      "execution_count": 10,
      "outputs": [
        {
          "output_type": "execute_result",
          "data": {
            "text/html": [
              "<div>\n",
              "<style scoped>\n",
              "    .dataframe tbody tr th:only-of-type {\n",
              "        vertical-align: middle;\n",
              "    }\n",
              "\n",
              "    .dataframe tbody tr th {\n",
              "        vertical-align: top;\n",
              "    }\n",
              "\n",
              "    .dataframe thead th {\n",
              "        text-align: right;\n",
              "    }\n",
              "</style>\n",
              "<table border=\"1\" class=\"dataframe\">\n",
              "  <thead>\n",
              "    <tr style=\"text-align: right;\">\n",
              "      <th></th>\n",
              "      <th>Open</th>\n",
              "      <th>High</th>\n",
              "      <th>Low</th>\n",
              "      <th>Close</th>\n",
              "      <th>Adj Close</th>\n",
              "      <th>Volume</th>\n",
              "    </tr>\n",
              "  </thead>\n",
              "  <tbody>\n",
              "  </tbody>\n",
              "</table>\n",
              "</div>"
            ],
            "text/plain": [
              "Empty DataFrame\n",
              "Columns: [Open, High, Low, Close, Adj Close, Volume]\n",
              "Index: []"
            ]
          },
          "metadata": {
            "tags": []
          },
          "execution_count": 10
        }
      ]
    },
    {
      "cell_type": "code",
      "metadata": {
        "id": "6q0YFzy9TmPD"
      },
      "source": [
        "#preenchendo os valores nulos com o valor médio\n",
        "imputer = SimpleImputer(missing_values=np.nan, strategy='mean',verbose=0)\n",
        "imputer = imputer.fit(base.iloc[:,0:6])\n",
        "base.iloc[:,0:6] = imputer.transform(base.iloc[:,0:6])"
      ],
      "execution_count": 11,
      "outputs": []
    },
    {
      "cell_type": "code",
      "metadata": {
        "id": "gQC2HfFnTpe2",
        "colab": {
          "base_uri": "https://localhost:8080/",
          "height": 0
        },
        "outputId": "d6c80f55-9462-4fb1-9625-de91518b9a8c"
      },
      "source": [
        "#verificando novamente se ainda temos valores faltantes\n",
        "base.loc[pd.isnull(base['Open'])]\n",
        "base.loc[pd.isnull(base['High'])]\n",
        "base.loc[pd.isnull(base['Low'])]\n",
        "base.loc[pd.isnull(base['Close'])]\n",
        "base.loc[pd.isnull(base['Adj Close'])]\n",
        "base.loc[pd.isnull(base['Volume'])]"
      ],
      "execution_count": 12,
      "outputs": [
        {
          "output_type": "execute_result",
          "data": {
            "text/html": [
              "<div>\n",
              "<style scoped>\n",
              "    .dataframe tbody tr th:only-of-type {\n",
              "        vertical-align: middle;\n",
              "    }\n",
              "\n",
              "    .dataframe tbody tr th {\n",
              "        vertical-align: top;\n",
              "    }\n",
              "\n",
              "    .dataframe thead th {\n",
              "        text-align: right;\n",
              "    }\n",
              "</style>\n",
              "<table border=\"1\" class=\"dataframe\">\n",
              "  <thead>\n",
              "    <tr style=\"text-align: right;\">\n",
              "      <th></th>\n",
              "      <th>Open</th>\n",
              "      <th>High</th>\n",
              "      <th>Low</th>\n",
              "      <th>Close</th>\n",
              "      <th>Adj Close</th>\n",
              "      <th>Volume</th>\n",
              "    </tr>\n",
              "  </thead>\n",
              "  <tbody>\n",
              "  </tbody>\n",
              "</table>\n",
              "</div>"
            ],
            "text/plain": [
              "Empty DataFrame\n",
              "Columns: [Open, High, Low, Close, Adj Close, Volume]\n",
              "Index: []"
            ]
          },
          "metadata": {
            "tags": []
          },
          "execution_count": 12
        }
      ]
    },
    {
      "cell_type": "markdown",
      "metadata": {
        "id": "_WuI_UbmTt3W"
      },
      "source": [
        "##**3.3-Tratamento dos valores nulos (iguais a 0)**"
      ]
    },
    {
      "cell_type": "code",
      "metadata": {
        "colab": {
          "base_uri": "https://localhost:8080/"
        },
        "id": "hyRiBN32Twb2",
        "outputId": "49c2e3d5-3b23-45de-d1bc-79e2eebcf020"
      },
      "source": [
        "#valores nulos\n",
        "(base == 0).sum()"
      ],
      "execution_count": 13,
      "outputs": [
        {
          "output_type": "execute_result",
          "data": {
            "text/plain": [
              "Open         0\n",
              "High         0\n",
              "Low          0\n",
              "Close        0\n",
              "Adj Close    0\n",
              "Volume       0\n",
              "dtype: int64"
            ]
          },
          "metadata": {
            "tags": []
          },
          "execution_count": 13
        }
      ]
    },
    {
      "cell_type": "code",
      "metadata": {
        "id": "nQPTB9_TT3Dy",
        "outputId": "156e4d9c-d1f0-4085-bcb2-26f0858470a9",
        "colab": {
          "base_uri": "https://localhost:8080/",
          "height": 0
        }
      },
      "source": [
        "#Encontrando os valores nulos\n",
        "base.loc[base['Volume'] == 0]"
      ],
      "execution_count": 14,
      "outputs": [
        {
          "output_type": "execute_result",
          "data": {
            "text/html": [
              "<div>\n",
              "<style scoped>\n",
              "    .dataframe tbody tr th:only-of-type {\n",
              "        vertical-align: middle;\n",
              "    }\n",
              "\n",
              "    .dataframe tbody tr th {\n",
              "        vertical-align: top;\n",
              "    }\n",
              "\n",
              "    .dataframe thead th {\n",
              "        text-align: right;\n",
              "    }\n",
              "</style>\n",
              "<table border=\"1\" class=\"dataframe\">\n",
              "  <thead>\n",
              "    <tr style=\"text-align: right;\">\n",
              "      <th></th>\n",
              "      <th>Open</th>\n",
              "      <th>High</th>\n",
              "      <th>Low</th>\n",
              "      <th>Close</th>\n",
              "      <th>Adj Close</th>\n",
              "      <th>Volume</th>\n",
              "    </tr>\n",
              "  </thead>\n",
              "  <tbody>\n",
              "  </tbody>\n",
              "</table>\n",
              "</div>"
            ],
            "text/plain": [
              "Empty DataFrame\n",
              "Columns: [Open, High, Low, Close, Adj Close, Volume]\n",
              "Index: []"
            ]
          },
          "metadata": {
            "tags": []
          },
          "execution_count": 14
        }
      ]
    },
    {
      "cell_type": "code",
      "metadata": {
        "id": "352jPyV0T5JJ"
      },
      "source": [
        "#preenchendo os valores nulos com o valor médio\n",
        "imputer = SimpleImputer(missing_values=0, strategy='mean',verbose=0)\n",
        "imputer = imputer.fit(base.iloc[:,0:6])\n",
        "base.iloc[:,0:6] = imputer.transform(base.iloc[:,0:6])"
      ],
      "execution_count": 15,
      "outputs": []
    },
    {
      "cell_type": "code",
      "metadata": {
        "id": "xI5JdDykT66_",
        "outputId": "de4b057a-8a7e-442f-d33f-deb0d3de181f",
        "colab": {
          "base_uri": "https://localhost:8080/",
          "height": 0
        }
      },
      "source": [
        "#Verificando novamente se ainda temos valores nulos\n",
        "base.loc[base['Volume'] == 0]"
      ],
      "execution_count": 16,
      "outputs": [
        {
          "output_type": "execute_result",
          "data": {
            "text/html": [
              "<div>\n",
              "<style scoped>\n",
              "    .dataframe tbody tr th:only-of-type {\n",
              "        vertical-align: middle;\n",
              "    }\n",
              "\n",
              "    .dataframe tbody tr th {\n",
              "        vertical-align: top;\n",
              "    }\n",
              "\n",
              "    .dataframe thead th {\n",
              "        text-align: right;\n",
              "    }\n",
              "</style>\n",
              "<table border=\"1\" class=\"dataframe\">\n",
              "  <thead>\n",
              "    <tr style=\"text-align: right;\">\n",
              "      <th></th>\n",
              "      <th>Open</th>\n",
              "      <th>High</th>\n",
              "      <th>Low</th>\n",
              "      <th>Close</th>\n",
              "      <th>Adj Close</th>\n",
              "      <th>Volume</th>\n",
              "    </tr>\n",
              "  </thead>\n",
              "  <tbody>\n",
              "  </tbody>\n",
              "</table>\n",
              "</div>"
            ],
            "text/plain": [
              "Empty DataFrame\n",
              "Columns: [Open, High, Low, Close, Adj Close, Volume]\n",
              "Index: []"
            ]
          },
          "metadata": {
            "tags": []
          },
          "execution_count": 16
        }
      ]
    },
    {
      "cell_type": "code",
      "metadata": {
        "id": "NYW0UUz0T9Kq"
      },
      "source": [
        "#base = base.dropna()"
      ],
      "execution_count": 17,
      "outputs": []
    },
    {
      "cell_type": "code",
      "metadata": {
        "id": "ceOotOwsT_Er"
      },
      "source": [
        "#base.sample()"
      ],
      "execution_count": 18,
      "outputs": []
    },
    {
      "cell_type": "markdown",
      "metadata": {
        "id": "hCiQYMqPGHuG"
      },
      "source": [
        "#**-Descrição dos dados** IGNORE ESTA CÉLULA"
      ]
    },
    {
      "cell_type": "code",
      "metadata": {
        "id": "xalwLdRSGLRD"
      },
      "source": [
        "#Tendencia central - mean, median\n",
        "ct1 = pd.DataFrame(base.apply(np.mean)).T #T transpondo \n",
        "ct2 = pd.DataFrame(base.apply(np.median)).T\n",
        "#Dispersão - std(desvio padrão), min, max, range\n",
        "d1 = pd.DataFrame(base.apply(np.std)).T\n",
        "d2 = pd.DataFrame(base.apply(min)).T\n",
        "d3 = pd.DataFrame(base.apply(max)).T\n",
        "d4 = pd.DataFrame(base.apply(lambda x: x.max() - x.min())).T\n",
        "#concatenate\n",
        "m = pd.concat([d2,d3,d4,ct1,ct2,d1]).T.reset_index()\n",
        "m.columns = ['attributes','min','max','range', 'mean', 'median', 'std']\n",
        "m"
      ],
      "execution_count": null,
      "outputs": []
    },
    {
      "cell_type": "code",
      "metadata": {
        "colab": {
          "base_uri": "https://localhost:8080/"
        },
        "id": "j62Bj8jOQz_G",
        "outputId": "9e5055ec-b49f-4f7d-e3c1-b3fc2b1dae42"
      },
      "source": [
        "base.shape[0]"
      ],
      "execution_count": null,
      "outputs": [
        {
          "output_type": "execute_result",
          "data": {
            "text/plain": [
              "2478"
            ]
          },
          "metadata": {
            "tags": []
          },
          "execution_count": 20
        }
      ]
    },
    {
      "cell_type": "markdown",
      "metadata": {
        "id": "4IDwP-XV_Ohd"
      },
      "source": [
        "#**4-Treinamento da rede**"
      ]
    },
    {
      "cell_type": "code",
      "metadata": {
        "id": "mpo6RlDsUHNJ"
      },
      "source": [
        "#normalizando a base de dados com o MinMaxScaler\n",
        "base_treinamento = base.iloc[:, 0:6].values\n",
        "normalizador = MinMaxScaler(feature_range=(0,1))\n",
        "base_treinamento_normalizada = normalizador.fit_transform(base_treinamento)"
      ],
      "execution_count": 19,
      "outputs": []
    },
    {
      "cell_type": "code",
      "metadata": {
        "id": "d-LD4OEaUNf7"
      },
      "source": [
        "#Comparando a predição com o preço real\n",
        "previsores = []\n",
        "preco_real = []\n",
        "for i in range(90, 2264):\n",
        "    previsores.append(base_treinamento_normalizada[i-90:i, 0:6])\n",
        "    preco_real.append(base_treinamento_normalizada[i, 3:4])\n",
        "previsores, preco_real = np.array(previsores), np.array(preco_real)\n"
      ],
      "execution_count": 49,
      "outputs": []
    },
    {
      "cell_type": "code",
      "metadata": {
        "colab": {
          "base_uri": "https://localhost:8080/"
        },
        "id": "ZftXowA9URdt",
        "outputId": "bc80726f-9040-4a40-9e49-25cef394dbf3"
      },
      "source": [
        "#estrutura da rede neural \n",
        "regressor = Sequential()\n",
        "regressor.add(LSTM(units = 90, return_sequences = True, input_shape = (previsores.shape[1], 6)))\n",
        "regressor.add(Dropout(0.3))\n",
        "\n",
        "regressor.add(LSTM(units = 90, return_sequences = True))\n",
        "regressor.add(Dropout(0.3))\n",
        "\n",
        "regressor.add(LSTM(units = 90, return_sequences = True))\n",
        "regressor.add(Dropout(0.3))\n",
        "\n",
        "regressor.add(LSTM(units = 90))\n",
        "regressor.add(Dropout(0.3))\n",
        "\n",
        "regressor.add(Dense(units = 1, activation = 'sigmoid'))\n",
        "\n",
        "es = EarlyStopping(monitor = 'loss', min_delta = 1e-15, patience = 20, verbose = 1)\n",
        "\n",
        "#regressor.compile(optimizer = 'RMSprop', loss = 'mean_squared_error',\n",
        "#                  metrics = ['mean_absolute_error'])\n",
        "opt = tf.keras.optimizers.Adam(amsgrad=True)\n",
        "regressor.compile(optimizer = opt, loss = 'mean_squared_error',\n",
        "                  metrics = ['mean_absolute_error'])\n",
        "#opt = tf.keras.optimizers.RMSprop(centered=True)\n",
        "#regressor.compile(optimizer = opt, loss = 'mean_squared_error',\n",
        "#                 metrics = ['mean_absolute_error'])\n",
        "\n",
        "regressor.fit(previsores, preco_real, epochs = 600, batch_size = 32,\n",
        "              callbacks = [es])\n",
        "#regressor.fit(previsores, preco_real, epochs = 600, batch_size = 32)"
      ],
      "execution_count": 50,
      "outputs": [
        {
          "output_type": "stream",
          "text": [
            "Epoch 1/600\n",
            "68/68 [==============================] - 6s 27ms/step - loss: 0.0251 - mean_absolute_error: 0.1155\n",
            "Epoch 2/600\n",
            "68/68 [==============================] - 2s 26ms/step - loss: 0.0025 - mean_absolute_error: 0.0388\n",
            "Epoch 3/600\n",
            "68/68 [==============================] - 2s 26ms/step - loss: 0.0021 - mean_absolute_error: 0.0342\n",
            "Epoch 4/600\n",
            "68/68 [==============================] - 2s 26ms/step - loss: 0.0017 - mean_absolute_error: 0.0323\n",
            "Epoch 5/600\n",
            "68/68 [==============================] - 2s 26ms/step - loss: 0.0016 - mean_absolute_error: 0.0308\n",
            "Epoch 6/600\n",
            "68/68 [==============================] - 2s 27ms/step - loss: 0.0016 - mean_absolute_error: 0.0304\n",
            "Epoch 7/600\n",
            "68/68 [==============================] - 2s 26ms/step - loss: 0.0014 - mean_absolute_error: 0.0281\n",
            "Epoch 8/600\n",
            "68/68 [==============================] - 2s 26ms/step - loss: 0.0013 - mean_absolute_error: 0.0272\n",
            "Epoch 9/600\n",
            "68/68 [==============================] - 2s 26ms/step - loss: 0.0012 - mean_absolute_error: 0.0261\n",
            "Epoch 10/600\n",
            "68/68 [==============================] - 2s 27ms/step - loss: 0.0011 - mean_absolute_error: 0.0250\n",
            "Epoch 11/600\n",
            "68/68 [==============================] - 2s 26ms/step - loss: 0.0012 - mean_absolute_error: 0.0262\n",
            "Epoch 12/600\n",
            "68/68 [==============================] - 2s 26ms/step - loss: 0.0010 - mean_absolute_error: 0.0245\n",
            "Epoch 13/600\n",
            "68/68 [==============================] - 2s 26ms/step - loss: 0.0020 - mean_absolute_error: 0.0329\n",
            "Epoch 14/600\n",
            "68/68 [==============================] - 2s 26ms/step - loss: 0.0011 - mean_absolute_error: 0.0243\n",
            "Epoch 15/600\n",
            "68/68 [==============================] - 2s 27ms/step - loss: 0.0010 - mean_absolute_error: 0.0245\n",
            "Epoch 16/600\n",
            "68/68 [==============================] - 2s 26ms/step - loss: 9.7994e-04 - mean_absolute_error: 0.0242\n",
            "Epoch 17/600\n",
            "68/68 [==============================] - 2s 26ms/step - loss: 9.1782e-04 - mean_absolute_error: 0.0228\n",
            "Epoch 18/600\n",
            "68/68 [==============================] - 2s 26ms/step - loss: 8.9097e-04 - mean_absolute_error: 0.0222\n",
            "Epoch 19/600\n",
            "68/68 [==============================] - 2s 27ms/step - loss: 8.6724e-04 - mean_absolute_error: 0.0223\n",
            "Epoch 20/600\n",
            "68/68 [==============================] - 2s 26ms/step - loss: 8.3440e-04 - mean_absolute_error: 0.0220\n",
            "Epoch 21/600\n",
            "68/68 [==============================] - 2s 26ms/step - loss: 0.0010 - mean_absolute_error: 0.0247\n",
            "Epoch 22/600\n",
            "68/68 [==============================] - 2s 26ms/step - loss: 9.8573e-04 - mean_absolute_error: 0.0239\n",
            "Epoch 23/600\n",
            "68/68 [==============================] - 2s 26ms/step - loss: 8.4939e-04 - mean_absolute_error: 0.0215\n",
            "Epoch 24/600\n",
            "68/68 [==============================] - 2s 27ms/step - loss: 8.8236e-04 - mean_absolute_error: 0.0226\n",
            "Epoch 25/600\n",
            "68/68 [==============================] - 2s 27ms/step - loss: 9.0458e-04 - mean_absolute_error: 0.0227\n",
            "Epoch 26/600\n",
            "68/68 [==============================] - 2s 27ms/step - loss: 7.6912e-04 - mean_absolute_error: 0.0214\n",
            "Epoch 27/600\n",
            "68/68 [==============================] - 2s 27ms/step - loss: 7.9414e-04 - mean_absolute_error: 0.0210\n",
            "Epoch 28/600\n",
            "68/68 [==============================] - 2s 26ms/step - loss: 7.1181e-04 - mean_absolute_error: 0.0203\n",
            "Epoch 29/600\n",
            "68/68 [==============================] - 2s 26ms/step - loss: 7.2012e-04 - mean_absolute_error: 0.0203\n",
            "Epoch 30/600\n",
            "68/68 [==============================] - 2s 27ms/step - loss: 8.3880e-04 - mean_absolute_error: 0.0213\n",
            "Epoch 31/600\n",
            "68/68 [==============================] - 2s 27ms/step - loss: 7.7021e-04 - mean_absolute_error: 0.0207\n",
            "Epoch 32/600\n",
            "68/68 [==============================] - 2s 26ms/step - loss: 7.0035e-04 - mean_absolute_error: 0.0201\n",
            "Epoch 33/600\n",
            "68/68 [==============================] - 2s 26ms/step - loss: 8.0567e-04 - mean_absolute_error: 0.0208\n",
            "Epoch 34/600\n",
            "68/68 [==============================] - 2s 26ms/step - loss: 6.7016e-04 - mean_absolute_error: 0.0197\n",
            "Epoch 35/600\n",
            "68/68 [==============================] - 2s 27ms/step - loss: 7.5324e-04 - mean_absolute_error: 0.0205\n",
            "Epoch 36/600\n",
            "68/68 [==============================] - 2s 27ms/step - loss: 6.5154e-04 - mean_absolute_error: 0.0194\n",
            "Epoch 37/600\n",
            "68/68 [==============================] - 2s 26ms/step - loss: 6.4328e-04 - mean_absolute_error: 0.0190\n",
            "Epoch 38/600\n",
            "68/68 [==============================] - 2s 27ms/step - loss: 6.8693e-04 - mean_absolute_error: 0.0197\n",
            "Epoch 39/600\n",
            "68/68 [==============================] - 2s 26ms/step - loss: 6.2843e-04 - mean_absolute_error: 0.0190\n",
            "Epoch 40/600\n",
            "68/68 [==============================] - 2s 26ms/step - loss: 6.6088e-04 - mean_absolute_error: 0.0198\n",
            "Epoch 41/600\n",
            "68/68 [==============================] - 2s 27ms/step - loss: 5.9742e-04 - mean_absolute_error: 0.0187\n",
            "Epoch 42/600\n",
            "68/68 [==============================] - 2s 26ms/step - loss: 6.1711e-04 - mean_absolute_error: 0.0186\n",
            "Epoch 43/600\n",
            "68/68 [==============================] - 2s 26ms/step - loss: 5.9213e-04 - mean_absolute_error: 0.0184\n",
            "Epoch 44/600\n",
            "68/68 [==============================] - 2s 26ms/step - loss: 5.9257e-04 - mean_absolute_error: 0.0183\n",
            "Epoch 45/600\n",
            "68/68 [==============================] - 2s 26ms/step - loss: 5.9572e-04 - mean_absolute_error: 0.0187\n",
            "Epoch 46/600\n",
            "68/68 [==============================] - 2s 26ms/step - loss: 6.1449e-04 - mean_absolute_error: 0.0188\n",
            "Epoch 47/600\n",
            "68/68 [==============================] - 2s 26ms/step - loss: 5.3278e-04 - mean_absolute_error: 0.0176\n",
            "Epoch 48/600\n",
            "68/68 [==============================] - 2s 26ms/step - loss: 5.7014e-04 - mean_absolute_error: 0.0181\n",
            "Epoch 49/600\n",
            "68/68 [==============================] - 2s 26ms/step - loss: 5.7907e-04 - mean_absolute_error: 0.0178\n",
            "Epoch 50/600\n",
            "68/68 [==============================] - 2s 26ms/step - loss: 5.4972e-04 - mean_absolute_error: 0.0181\n",
            "Epoch 51/600\n",
            "68/68 [==============================] - 2s 27ms/step - loss: 5.4305e-04 - mean_absolute_error: 0.0181\n",
            "Epoch 52/600\n",
            "68/68 [==============================] - 2s 26ms/step - loss: 6.0048e-04 - mean_absolute_error: 0.0187\n",
            "Epoch 53/600\n",
            "68/68 [==============================] - 2s 26ms/step - loss: 5.7289e-04 - mean_absolute_error: 0.0181\n",
            "Epoch 54/600\n",
            "68/68 [==============================] - 2s 26ms/step - loss: 6.0150e-04 - mean_absolute_error: 0.0183\n",
            "Epoch 55/600\n",
            "68/68 [==============================] - 2s 27ms/step - loss: 5.6140e-04 - mean_absolute_error: 0.0177\n",
            "Epoch 56/600\n",
            "68/68 [==============================] - 2s 26ms/step - loss: 5.2882e-04 - mean_absolute_error: 0.0176\n",
            "Epoch 57/600\n",
            "68/68 [==============================] - 2s 26ms/step - loss: 5.0624e-04 - mean_absolute_error: 0.0170\n",
            "Epoch 58/600\n",
            "68/68 [==============================] - 2s 27ms/step - loss: 5.0660e-04 - mean_absolute_error: 0.0171\n",
            "Epoch 59/600\n",
            "68/68 [==============================] - 2s 27ms/step - loss: 5.8268e-04 - mean_absolute_error: 0.0182\n",
            "Epoch 60/600\n",
            "68/68 [==============================] - 2s 27ms/step - loss: 5.6087e-04 - mean_absolute_error: 0.0181\n",
            "Epoch 61/600\n",
            "68/68 [==============================] - 2s 26ms/step - loss: 5.0495e-04 - mean_absolute_error: 0.0170\n",
            "Epoch 62/600\n",
            "68/68 [==============================] - 2s 27ms/step - loss: 4.9519e-04 - mean_absolute_error: 0.0171\n",
            "Epoch 63/600\n",
            "68/68 [==============================] - 2s 26ms/step - loss: 5.9089e-04 - mean_absolute_error: 0.0184\n",
            "Epoch 64/600\n",
            "68/68 [==============================] - 2s 26ms/step - loss: 4.5766e-04 - mean_absolute_error: 0.0164\n",
            "Epoch 65/600\n",
            "68/68 [==============================] - 2s 27ms/step - loss: 4.3849e-04 - mean_absolute_error: 0.0162\n",
            "Epoch 66/600\n",
            "68/68 [==============================] - 2s 27ms/step - loss: 5.2650e-04 - mean_absolute_error: 0.0173\n",
            "Epoch 67/600\n",
            "68/68 [==============================] - 2s 27ms/step - loss: 4.7404e-04 - mean_absolute_error: 0.0166\n",
            "Epoch 68/600\n",
            "68/68 [==============================] - 2s 27ms/step - loss: 4.4202e-04 - mean_absolute_error: 0.0159\n",
            "Epoch 69/600\n",
            "68/68 [==============================] - 2s 26ms/step - loss: 5.0004e-04 - mean_absolute_error: 0.0169\n",
            "Epoch 70/600\n",
            "68/68 [==============================] - 2s 26ms/step - loss: 5.2100e-04 - mean_absolute_error: 0.0173\n",
            "Epoch 71/600\n",
            "68/68 [==============================] - 2s 26ms/step - loss: 4.9578e-04 - mean_absolute_error: 0.0167\n",
            "Epoch 72/600\n",
            "68/68 [==============================] - 2s 26ms/step - loss: 4.9874e-04 - mean_absolute_error: 0.0172\n",
            "Epoch 73/600\n",
            "68/68 [==============================] - 2s 26ms/step - loss: 5.0176e-04 - mean_absolute_error: 0.0170\n",
            "Epoch 74/600\n",
            "68/68 [==============================] - 2s 27ms/step - loss: 4.8275e-04 - mean_absolute_error: 0.0166\n",
            "Epoch 75/600\n",
            "68/68 [==============================] - 2s 27ms/step - loss: 4.7795e-04 - mean_absolute_error: 0.0164\n",
            "Epoch 76/600\n",
            "68/68 [==============================] - 2s 26ms/step - loss: 5.2783e-04 - mean_absolute_error: 0.0171\n",
            "Epoch 77/600\n",
            "68/68 [==============================] - 2s 27ms/step - loss: 4.6755e-04 - mean_absolute_error: 0.0164\n",
            "Epoch 78/600\n",
            "68/68 [==============================] - 2s 26ms/step - loss: 4.2924e-04 - mean_absolute_error: 0.0161\n",
            "Epoch 79/600\n",
            "68/68 [==============================] - 2s 27ms/step - loss: 5.2622e-04 - mean_absolute_error: 0.0174\n",
            "Epoch 80/600\n",
            "68/68 [==============================] - 2s 26ms/step - loss: 5.7782e-04 - mean_absolute_error: 0.0181\n",
            "Epoch 81/600\n",
            "68/68 [==============================] - 2s 27ms/step - loss: 4.8636e-04 - mean_absolute_error: 0.0168\n",
            "Epoch 82/600\n",
            "68/68 [==============================] - 2s 26ms/step - loss: 4.6336e-04 - mean_absolute_error: 0.0162\n",
            "Epoch 83/600\n",
            "68/68 [==============================] - 2s 26ms/step - loss: 4.8208e-04 - mean_absolute_error: 0.0168\n",
            "Epoch 84/600\n",
            "68/68 [==============================] - 2s 27ms/step - loss: 5.0315e-04 - mean_absolute_error: 0.0169\n",
            "Epoch 85/600\n",
            "68/68 [==============================] - 2s 26ms/step - loss: 4.9803e-04 - mean_absolute_error: 0.0166\n",
            "Epoch 00085: early stopping\n"
          ],
          "name": "stdout"
        },
        {
          "output_type": "execute_result",
          "data": {
            "text/plain": [
              "<tensorflow.python.keras.callbacks.History at 0x7f268467b510>"
            ]
          },
          "metadata": {
            "tags": []
          },
          "execution_count": 50
        }
      ]
    },
    {
      "cell_type": "markdown",
      "metadata": {
        "id": "RtFahmEgGAzZ"
      },
      "source": [
        "#**5-Teste da rede**"
      ]
    },
    {
      "cell_type": "markdown",
      "metadata": {
        "id": "QSWSKW8nqeA0"
      },
      "source": [
        "##**5.1-Importando os dados para teste**"
      ]
    },
    {
      "cell_type": "code",
      "metadata": {
        "id": "4X6-ArtKUdpD"
      },
      "source": [
        "#criando a base de dados teste\n",
        "base_teste = pd.read_csv('VALE-teste.csv')\n",
        "base_teste = base_teste.drop('Date', axis = 1)"
      ],
      "execution_count": 51,
      "outputs": []
    },
    {
      "cell_type": "code",
      "metadata": {
        "colab": {
          "base_uri": "https://localhost:8080/",
          "height": 297
        },
        "id": "dXOp2vDcpAvA",
        "outputId": "5f7610e9-51ea-4e09-c120-e45cbfb7ac1d"
      },
      "source": [
        "#valores estatísticos\n",
        "base_teste.describe()"
      ],
      "execution_count": 52,
      "outputs": [
        {
          "output_type": "execute_result",
          "data": {
            "text/html": [
              "<div>\n",
              "<style scoped>\n",
              "    .dataframe tbody tr th:only-of-type {\n",
              "        vertical-align: middle;\n",
              "    }\n",
              "\n",
              "    .dataframe tbody tr th {\n",
              "        vertical-align: top;\n",
              "    }\n",
              "\n",
              "    .dataframe thead th {\n",
              "        text-align: right;\n",
              "    }\n",
              "</style>\n",
              "<table border=\"1\" class=\"dataframe\">\n",
              "  <thead>\n",
              "    <tr style=\"text-align: right;\">\n",
              "      <th></th>\n",
              "      <th>Open</th>\n",
              "      <th>High</th>\n",
              "      <th>Low</th>\n",
              "      <th>Close</th>\n",
              "      <th>Adj Close</th>\n",
              "      <th>Volume</th>\n",
              "    </tr>\n",
              "  </thead>\n",
              "  <tbody>\n",
              "    <tr>\n",
              "      <th>count</th>\n",
              "      <td>252.000000</td>\n",
              "      <td>252.000000</td>\n",
              "      <td>252.000000</td>\n",
              "      <td>252.000000</td>\n",
              "      <td>252.000000</td>\n",
              "      <td>2.520000e+02</td>\n",
              "    </tr>\n",
              "    <tr>\n",
              "      <th>mean</th>\n",
              "      <td>12.474802</td>\n",
              "      <td>12.618056</td>\n",
              "      <td>12.319722</td>\n",
              "      <td>12.468333</td>\n",
              "      <td>11.141986</td>\n",
              "      <td>2.334522e+07</td>\n",
              "    </tr>\n",
              "    <tr>\n",
              "      <th>std</th>\n",
              "      <td>0.991542</td>\n",
              "      <td>0.989100</td>\n",
              "      <td>0.973310</td>\n",
              "      <td>0.980194</td>\n",
              "      <td>0.879070</td>\n",
              "      <td>1.629729e+07</td>\n",
              "    </tr>\n",
              "    <tr>\n",
              "      <th>min</th>\n",
              "      <td>10.300000</td>\n",
              "      <td>10.500000</td>\n",
              "      <td>10.200000</td>\n",
              "      <td>10.280000</td>\n",
              "      <td>9.183385</td>\n",
              "      <td>5.251400e+06</td>\n",
              "    </tr>\n",
              "    <tr>\n",
              "      <th>25%</th>\n",
              "      <td>11.670000</td>\n",
              "      <td>11.807500</td>\n",
              "      <td>11.485000</td>\n",
              "      <td>11.632500</td>\n",
              "      <td>10.391608</td>\n",
              "      <td>1.531358e+07</td>\n",
              "    </tr>\n",
              "    <tr>\n",
              "      <th>50%</th>\n",
              "      <td>12.405000</td>\n",
              "      <td>12.585000</td>\n",
              "      <td>12.320000</td>\n",
              "      <td>12.450000</td>\n",
              "      <td>11.121901</td>\n",
              "      <td>1.972140e+07</td>\n",
              "    </tr>\n",
              "    <tr>\n",
              "      <th>75%</th>\n",
              "      <td>13.300000</td>\n",
              "      <td>13.412500</td>\n",
              "      <td>13.142500</td>\n",
              "      <td>13.270000</td>\n",
              "      <td>11.863361</td>\n",
              "      <td>2.617838e+07</td>\n",
              "    </tr>\n",
              "    <tr>\n",
              "      <th>max</th>\n",
              "      <td>15.180000</td>\n",
              "      <td>15.450000</td>\n",
              "      <td>14.700000</td>\n",
              "      <td>14.860000</td>\n",
              "      <td>13.274816</td>\n",
              "      <td>1.574684e+08</td>\n",
              "    </tr>\n",
              "  </tbody>\n",
              "</table>\n",
              "</div>"
            ],
            "text/plain": [
              "             Open        High         Low       Close   Adj Close        Volume\n",
              "count  252.000000  252.000000  252.000000  252.000000  252.000000  2.520000e+02\n",
              "mean    12.474802   12.618056   12.319722   12.468333   11.141986  2.334522e+07\n",
              "std      0.991542    0.989100    0.973310    0.980194    0.879070  1.629729e+07\n",
              "min     10.300000   10.500000   10.200000   10.280000    9.183385  5.251400e+06\n",
              "25%     11.670000   11.807500   11.485000   11.632500   10.391608  1.531358e+07\n",
              "50%     12.405000   12.585000   12.320000   12.450000   11.121901  1.972140e+07\n",
              "75%     13.300000   13.412500   13.142500   13.270000   11.863361  2.617838e+07\n",
              "max     15.180000   15.450000   14.700000   14.860000   13.274816  1.574684e+08"
            ]
          },
          "metadata": {
            "tags": []
          },
          "execution_count": 52
        }
      ]
    },
    {
      "cell_type": "markdown",
      "metadata": {
        "id": "Cw-NIb9EpatP"
      },
      "source": [
        "##**5.2-Tratando os Valores Faltantes**"
      ]
    },
    {
      "cell_type": "code",
      "metadata": {
        "colab": {
          "base_uri": "https://localhost:8080/"
        },
        "id": "lthEX_TZniHb",
        "outputId": "de2f6a54-ac11-41c4-fba7-1b8c511fd00a"
      },
      "source": [
        "#valores faltantes\n",
        "base_teste.isna().sum()"
      ],
      "execution_count": 53,
      "outputs": [
        {
          "output_type": "execute_result",
          "data": {
            "text/plain": [
              "Open         0\n",
              "High         0\n",
              "Low          0\n",
              "Close        0\n",
              "Adj Close    0\n",
              "Volume       0\n",
              "dtype: int64"
            ]
          },
          "metadata": {
            "tags": []
          },
          "execution_count": 53
        }
      ]
    },
    {
      "cell_type": "code",
      "metadata": {
        "colab": {
          "base_uri": "https://localhost:8080/",
          "height": 49
        },
        "id": "uiH2j_UNpjqk",
        "outputId": "37c942a3-086d-4f16-9d86-54a122aba413"
      },
      "source": [
        "#encontrando onde os valores faltantes estão\n",
        "base_teste.loc[pd.isnull(base_teste['Open'])]\n",
        "base_teste.loc[pd.isnull(base_teste['High'])]\n",
        "base_teste.loc[pd.isnull(base_teste['Low'])]\n",
        "base_teste.loc[pd.isnull(base_teste['Close'])]\n",
        "base_teste.loc[pd.isnull(base_teste['Adj Close'])]\n",
        "base_teste.loc[pd.isnull(base_teste['Volume'])]"
      ],
      "execution_count": 54,
      "outputs": [
        {
          "output_type": "execute_result",
          "data": {
            "text/html": [
              "<div>\n",
              "<style scoped>\n",
              "    .dataframe tbody tr th:only-of-type {\n",
              "        vertical-align: middle;\n",
              "    }\n",
              "\n",
              "    .dataframe tbody tr th {\n",
              "        vertical-align: top;\n",
              "    }\n",
              "\n",
              "    .dataframe thead th {\n",
              "        text-align: right;\n",
              "    }\n",
              "</style>\n",
              "<table border=\"1\" class=\"dataframe\">\n",
              "  <thead>\n",
              "    <tr style=\"text-align: right;\">\n",
              "      <th></th>\n",
              "      <th>Open</th>\n",
              "      <th>High</th>\n",
              "      <th>Low</th>\n",
              "      <th>Close</th>\n",
              "      <th>Adj Close</th>\n",
              "      <th>Volume</th>\n",
              "    </tr>\n",
              "  </thead>\n",
              "  <tbody>\n",
              "  </tbody>\n",
              "</table>\n",
              "</div>"
            ],
            "text/plain": [
              "Empty DataFrame\n",
              "Columns: [Open, High, Low, Close, Adj Close, Volume]\n",
              "Index: []"
            ]
          },
          "metadata": {
            "tags": []
          },
          "execution_count": 54
        }
      ]
    },
    {
      "cell_type": "code",
      "metadata": {
        "id": "Bbw7axJ75lpn"
      },
      "source": [
        "#preenchendo os valores faltantes com o valor médio\n",
        "imputer = SimpleImputer(missing_values=np.nan, strategy='mean',verbose=0)\n",
        "imputer = imputer.fit(base_teste.iloc[:,0:6])\n",
        "base_teste.iloc[:,0:6] = imputer.transform(base_teste.iloc[:,0:6])"
      ],
      "execution_count": 55,
      "outputs": []
    },
    {
      "cell_type": "code",
      "metadata": {
        "colab": {
          "base_uri": "https://localhost:8080/",
          "height": 49
        },
        "id": "CXAi4QV8pw2x",
        "outputId": "999ab80f-635b-4772-f3e3-2d9470d6d8e6"
      },
      "source": [
        "#verificando novamente se ainda temos valores faltantes\n",
        "base_teste.loc[pd.isnull(base_teste['Open'])]\n",
        "base_teste.loc[pd.isnull(base_teste['High'])]\n",
        "base_teste.loc[pd.isnull(base_teste['Low'])]\n",
        "base_teste.loc[pd.isnull(base_teste['Close'])]\n",
        "base_teste.loc[pd.isnull(base_teste['Adj Close'])]\n",
        "base_teste.loc[pd.isnull(base_teste['Volume'])]"
      ],
      "execution_count": 56,
      "outputs": [
        {
          "output_type": "execute_result",
          "data": {
            "text/html": [
              "<div>\n",
              "<style scoped>\n",
              "    .dataframe tbody tr th:only-of-type {\n",
              "        vertical-align: middle;\n",
              "    }\n",
              "\n",
              "    .dataframe tbody tr th {\n",
              "        vertical-align: top;\n",
              "    }\n",
              "\n",
              "    .dataframe thead th {\n",
              "        text-align: right;\n",
              "    }\n",
              "</style>\n",
              "<table border=\"1\" class=\"dataframe\">\n",
              "  <thead>\n",
              "    <tr style=\"text-align: right;\">\n",
              "      <th></th>\n",
              "      <th>Open</th>\n",
              "      <th>High</th>\n",
              "      <th>Low</th>\n",
              "      <th>Close</th>\n",
              "      <th>Adj Close</th>\n",
              "      <th>Volume</th>\n",
              "    </tr>\n",
              "  </thead>\n",
              "  <tbody>\n",
              "  </tbody>\n",
              "</table>\n",
              "</div>"
            ],
            "text/plain": [
              "Empty DataFrame\n",
              "Columns: [Open, High, Low, Close, Adj Close, Volume]\n",
              "Index: []"
            ]
          },
          "metadata": {
            "tags": []
          },
          "execution_count": 56
        }
      ]
    },
    {
      "cell_type": "markdown",
      "metadata": {
        "id": "X1nZpS8Rp2zr"
      },
      "source": [
        "##**5.3-Tratamento dos valores nulos (iguais a 0)**"
      ]
    },
    {
      "cell_type": "code",
      "metadata": {
        "colab": {
          "base_uri": "https://localhost:8080/"
        },
        "id": "XYwer-dip-KB",
        "outputId": "6620bddb-138e-40a1-db87-7a88d5365213"
      },
      "source": [
        "#valores nulos\n",
        "(base_teste == 0).sum()"
      ],
      "execution_count": 57,
      "outputs": [
        {
          "output_type": "execute_result",
          "data": {
            "text/plain": [
              "Open         0\n",
              "High         0\n",
              "Low          0\n",
              "Close        0\n",
              "Adj Close    0\n",
              "Volume       0\n",
              "dtype: int64"
            ]
          },
          "metadata": {
            "tags": []
          },
          "execution_count": 57
        }
      ]
    },
    {
      "cell_type": "code",
      "metadata": {
        "colab": {
          "base_uri": "https://localhost:8080/",
          "height": 49
        },
        "id": "sFBo6iR5qEpS",
        "outputId": "9b750cef-a7d7-4a45-ffaa-341a3db1aefd"
      },
      "source": [
        "#Encontrando os valores nulos\n",
        "base_teste.loc[base_teste['Volume'] == 0]"
      ],
      "execution_count": 58,
      "outputs": [
        {
          "output_type": "execute_result",
          "data": {
            "text/html": [
              "<div>\n",
              "<style scoped>\n",
              "    .dataframe tbody tr th:only-of-type {\n",
              "        vertical-align: middle;\n",
              "    }\n",
              "\n",
              "    .dataframe tbody tr th {\n",
              "        vertical-align: top;\n",
              "    }\n",
              "\n",
              "    .dataframe thead th {\n",
              "        text-align: right;\n",
              "    }\n",
              "</style>\n",
              "<table border=\"1\" class=\"dataframe\">\n",
              "  <thead>\n",
              "    <tr style=\"text-align: right;\">\n",
              "      <th></th>\n",
              "      <th>Open</th>\n",
              "      <th>High</th>\n",
              "      <th>Low</th>\n",
              "      <th>Close</th>\n",
              "      <th>Adj Close</th>\n",
              "      <th>Volume</th>\n",
              "    </tr>\n",
              "  </thead>\n",
              "  <tbody>\n",
              "  </tbody>\n",
              "</table>\n",
              "</div>"
            ],
            "text/plain": [
              "Empty DataFrame\n",
              "Columns: [Open, High, Low, Close, Adj Close, Volume]\n",
              "Index: []"
            ]
          },
          "metadata": {
            "tags": []
          },
          "execution_count": 58
        }
      ]
    },
    {
      "cell_type": "code",
      "metadata": {
        "id": "ofkU-XjcqOQE"
      },
      "source": [
        "#preenchendo os valores nulos com o valor médio\n",
        "imputer = SimpleImputer(missing_values=0, strategy='mean',verbose=0)\n",
        "imputer = imputer.fit(base_teste.iloc[:,0:6])\n",
        "base_teste.iloc[:,0:6] = imputer.transform(base_teste.iloc[:,0:6])"
      ],
      "execution_count": 59,
      "outputs": []
    },
    {
      "cell_type": "code",
      "metadata": {
        "colab": {
          "base_uri": "https://localhost:8080/",
          "height": 49
        },
        "id": "pYUeIwbnppRT",
        "outputId": "fa47fa8e-9a19-452a-f15f-bb5c72a5f22a"
      },
      "source": [
        "#Verificando novamente se tem valores nulos\n",
        "base_teste.loc[base_teste['Volume'] == 0]"
      ],
      "execution_count": 60,
      "outputs": [
        {
          "output_type": "execute_result",
          "data": {
            "text/html": [
              "<div>\n",
              "<style scoped>\n",
              "    .dataframe tbody tr th:only-of-type {\n",
              "        vertical-align: middle;\n",
              "    }\n",
              "\n",
              "    .dataframe tbody tr th {\n",
              "        vertical-align: top;\n",
              "    }\n",
              "\n",
              "    .dataframe thead th {\n",
              "        text-align: right;\n",
              "    }\n",
              "</style>\n",
              "<table border=\"1\" class=\"dataframe\">\n",
              "  <thead>\n",
              "    <tr style=\"text-align: right;\">\n",
              "      <th></th>\n",
              "      <th>Open</th>\n",
              "      <th>High</th>\n",
              "      <th>Low</th>\n",
              "      <th>Close</th>\n",
              "      <th>Adj Close</th>\n",
              "      <th>Volume</th>\n",
              "    </tr>\n",
              "  </thead>\n",
              "  <tbody>\n",
              "  </tbody>\n",
              "</table>\n",
              "</div>"
            ],
            "text/plain": [
              "Empty DataFrame\n",
              "Columns: [Open, High, Low, Close, Adj Close, Volume]\n",
              "Index: []"
            ]
          },
          "metadata": {
            "tags": []
          },
          "execution_count": 60
        }
      ]
    },
    {
      "cell_type": "markdown",
      "metadata": {
        "id": "N79Bjk6Yq6ci"
      },
      "source": [
        "##**5.4-Preparando a estrutura para teste**"
      ]
    },
    {
      "cell_type": "code",
      "metadata": {
        "id": "UFINH9OzUfDk"
      },
      "source": [
        "#concatenando a base de dados teste com o base de treinamento\n",
        "preco_real_teste = base_teste.iloc[:, 3:4].values\n",
        "frames = [base, base_teste]\n",
        "base_completa = pd.concat(frames)"
      ],
      "execution_count": 61,
      "outputs": []
    },
    {
      "cell_type": "code",
      "metadata": {
        "id": "-CdLW8IZUhLY"
      },
      "source": [
        "#pegando os 90 registros anteriores para percorrer a base teste e colocando no\n",
        "#no formato np.array\n",
        "entradas = base_completa[len(base_completa) - len(base_teste) - 90:].values\n",
        "entradas = normalizador.transform(entradas)\n",
        "Percorrer_teste = []\n",
        "for i in range(90, 342): \n",
        "    Percorrer_teste.append(entradas[i-90:i, 0:6])\n",
        "Percorrer_teste = np.array(Percorrer_teste)"
      ],
      "execution_count": 62,
      "outputs": []
    },
    {
      "cell_type": "code",
      "metadata": {
        "id": "_YdD2ZcaUi1w"
      },
      "source": [
        "#resultado da predição no formato MinMaxScaler\n",
        "previsoes = regressor.predict(Percorrer_teste)"
      ],
      "execution_count": 63,
      "outputs": []
    },
    {
      "cell_type": "code",
      "metadata": {
        "colab": {
          "base_uri": "https://localhost:8080/"
        },
        "id": "jQS0Ql4tUk2Z",
        "outputId": "b17494e1-de89-403b-90f0-dc5338bdb1f6"
      },
      "source": [
        "#convertendo para a escala MinMaxScaler \n",
        "normalizador_previsao = MinMaxScaler(feature_range=(0,1))\n",
        "normalizador_previsao.fit_transform(base_treinamento[:,3:4])"
      ],
      "execution_count": 64,
      "outputs": [
        {
          "output_type": "execute_result",
          "data": {
            "text/plain": [
              "array([[0.80446603],\n",
              "       [0.81362721],\n",
              "       [0.82765523],\n",
              "       ...,\n",
              "       [0.31033494],\n",
              "       [0.3111938 ],\n",
              "       [0.31606067]])"
            ]
          },
          "metadata": {
            "tags": []
          },
          "execution_count": 64
        }
      ]
    },
    {
      "cell_type": "code",
      "metadata": {
        "id": "MP_GBjYJUnFe",
        "colab": {
          "base_uri": "https://localhost:8080/"
        },
        "outputId": "95a8cdf5-95cf-43d5-fbc7-4c6a5d4ef953"
      },
      "source": [
        "#colocando a previsão no formato original para preparar a visualização no gráfico\n",
        "previsoes = normalizador_previsao.inverse_transform(previsoes)\n",
        "previsoes"
      ],
      "execution_count": 65,
      "outputs": [
        {
          "output_type": "execute_result",
          "data": {
            "text/plain": [
              "array([[12.943894 ],\n",
              "       [13.0537   ],\n",
              "       [12.924635 ],\n",
              "       [13.17628  ],\n",
              "       [13.57328  ],\n",
              "       [13.832799 ],\n",
              "       [14.10833  ],\n",
              "       [14.177441 ],\n",
              "       [14.021093 ],\n",
              "       [13.860071 ],\n",
              "       [13.782436 ],\n",
              "       [13.805553 ],\n",
              "       [13.944066 ],\n",
              "       [14.208174 ],\n",
              "       [14.253365 ],\n",
              "       [14.345985 ],\n",
              "       [14.443244 ],\n",
              "       [13.598355 ],\n",
              "       [12.25818  ],\n",
              "       [12.062426 ],\n",
              "       [12.765012 ],\n",
              "       [13.215771 ],\n",
              "       [13.074204 ],\n",
              "       [12.296709 ],\n",
              "       [11.710266 ],\n",
              "       [11.062483 ],\n",
              "       [10.626308 ],\n",
              "       [10.496264 ],\n",
              "       [10.54033  ],\n",
              "       [10.728711 ],\n",
              "       [11.009894 ],\n",
              "       [11.163185 ],\n",
              "       [11.240732 ],\n",
              "       [11.216127 ],\n",
              "       [11.202002 ],\n",
              "       [11.146873 ],\n",
              "       [11.33291  ],\n",
              "       [11.604689 ],\n",
              "       [11.798305 ],\n",
              "       [11.854434 ],\n",
              "       [11.848119 ],\n",
              "       [11.764587 ],\n",
              "       [11.756747 ],\n",
              "       [11.95938  ],\n",
              "       [12.1021805],\n",
              "       [12.180657 ],\n",
              "       [12.1875725],\n",
              "       [12.335738 ],\n",
              "       [12.513129 ],\n",
              "       [12.698784 ],\n",
              "       [12.770145 ],\n",
              "       [12.754241 ],\n",
              "       [12.741463 ],\n",
              "       [12.952411 ],\n",
              "       [13.10984  ],\n",
              "       [13.116883 ],\n",
              "       [12.779704 ],\n",
              "       [12.514008 ],\n",
              "       [12.531495 ],\n",
              "       [12.451416 ],\n",
              "       [12.334164 ],\n",
              "       [12.449939 ],\n",
              "       [12.857717 ],\n",
              "       [13.1272335],\n",
              "       [13.102076 ],\n",
              "       [13.01631  ],\n",
              "       [12.986891 ],\n",
              "       [13.154705 ],\n",
              "       [13.2674055],\n",
              "       [13.243028 ],\n",
              "       [13.158715 ],\n",
              "       [13.094723 ],\n",
              "       [13.0496645],\n",
              "       [13.103792 ],\n",
              "       [13.145379 ],\n",
              "       [13.168987 ],\n",
              "       [13.037338 ],\n",
              "       [12.92533  ],\n",
              "       [12.671985 ],\n",
              "       [12.508756 ],\n",
              "       [12.535873 ],\n",
              "       [12.632942 ],\n",
              "       [12.676272 ],\n",
              "       [12.542251 ],\n",
              "       [12.360955 ],\n",
              "       [12.4232025],\n",
              "       [12.454514 ],\n",
              "       [12.415155 ],\n",
              "       [12.408066 ],\n",
              "       [12.300731 ],\n",
              "       [12.284936 ],\n",
              "       [12.160679 ],\n",
              "       [12.064451 ],\n",
              "       [12.004766 ],\n",
              "       [11.771289 ],\n",
              "       [11.606885 ],\n",
              "       [11.53361  ],\n",
              "       [11.5467825],\n",
              "       [11.680714 ],\n",
              "       [11.723688 ],\n",
              "       [11.798558 ],\n",
              "       [12.015053 ],\n",
              "       [12.181684 ],\n",
              "       [12.287652 ],\n",
              "       [12.27223  ],\n",
              "       [12.254119 ],\n",
              "       [12.30231  ],\n",
              "       [12.303832 ],\n",
              "       [12.31471  ],\n",
              "       [12.331794 ],\n",
              "       [12.307548 ],\n",
              "       [12.561381 ],\n",
              "       [12.922001 ],\n",
              "       [13.192975 ],\n",
              "       [13.128537 ],\n",
              "       [12.874915 ],\n",
              "       [12.890285 ],\n",
              "       [13.06806  ],\n",
              "       [13.359841 ],\n",
              "       [13.427153 ],\n",
              "       [13.421277 ],\n",
              "       [13.265244 ],\n",
              "       [13.172722 ],\n",
              "       [13.15726  ],\n",
              "       [13.204499 ],\n",
              "       [13.454517 ],\n",
              "       [13.339073 ],\n",
              "       [13.227481 ],\n",
              "       [13.024648 ],\n",
              "       [13.038556 ],\n",
              "       [13.11783  ],\n",
              "       [13.365053 ],\n",
              "       [13.608868 ],\n",
              "       [13.708781 ],\n",
              "       [13.758457 ],\n",
              "       [13.79156  ],\n",
              "       [13.76247  ],\n",
              "       [13.737471 ],\n",
              "       [13.790674 ],\n",
              "       [13.778186 ],\n",
              "       [13.652294 ],\n",
              "       [13.416226 ],\n",
              "       [13.215945 ],\n",
              "       [13.170944 ],\n",
              "       [13.140035 ],\n",
              "       [13.11379  ],\n",
              "       [13.014732 ],\n",
              "       [12.734454 ],\n",
              "       [12.441177 ],\n",
              "       [11.979347 ],\n",
              "       [11.753855 ],\n",
              "       [11.661357 ],\n",
              "       [11.792265 ],\n",
              "       [11.793144 ],\n",
              "       [11.588454 ],\n",
              "       [11.473157 ],\n",
              "       [11.292665 ],\n",
              "       [11.088736 ],\n",
              "       [10.965475 ],\n",
              "       [10.852915 ],\n",
              "       [10.794559 ],\n",
              "       [10.805536 ],\n",
              "       [10.827524 ],\n",
              "       [10.72711  ],\n",
              "       [10.551252 ],\n",
              "       [10.421199 ],\n",
              "       [10.409668 ],\n",
              "       [10.529376 ],\n",
              "       [10.762835 ],\n",
              "       [10.922044 ],\n",
              "       [11.07338  ],\n",
              "       [11.214682 ],\n",
              "       [11.278305 ],\n",
              "       [11.351646 ],\n",
              "       [11.460139 ],\n",
              "       [11.597172 ],\n",
              "       [11.8068905],\n",
              "       [11.99967  ],\n",
              "       [11.960801 ],\n",
              "       [11.849049 ],\n",
              "       [11.731024 ],\n",
              "       [11.600727 ],\n",
              "       [11.513829 ],\n",
              "       [11.448122 ],\n",
              "       [11.3245   ],\n",
              "       [11.272498 ],\n",
              "       [11.312998 ],\n",
              "       [11.360003 ],\n",
              "       [11.378896 ],\n",
              "       [11.377467 ],\n",
              "       [11.143633 ],\n",
              "       [10.9778   ],\n",
              "       [11.100194 ],\n",
              "       [11.260237 ],\n",
              "       [11.24142  ],\n",
              "       [11.170397 ],\n",
              "       [11.190695 ],\n",
              "       [11.416383 ],\n",
              "       [11.555453 ],\n",
              "       [11.517564 ],\n",
              "       [11.322944 ],\n",
              "       [11.186204 ],\n",
              "       [11.1397915],\n",
              "       [11.208984 ],\n",
              "       [11.3614   ],\n",
              "       [11.515614 ],\n",
              "       [11.556744 ],\n",
              "       [11.685584 ],\n",
              "       [11.912451 ],\n",
              "       [12.039509 ],\n",
              "       [12.028822 ],\n",
              "       [11.859352 ],\n",
              "       [11.843014 ],\n",
              "       [12.043125 ],\n",
              "       [12.238043 ],\n",
              "       [12.206726 ],\n",
              "       [12.118489 ],\n",
              "       [11.903784 ],\n",
              "       [11.587283 ],\n",
              "       [11.48575  ],\n",
              "       [11.403976 ],\n",
              "       [11.316888 ],\n",
              "       [11.32104  ],\n",
              "       [11.305705 ],\n",
              "       [11.304008 ],\n",
              "       [11.244317 ],\n",
              "       [11.234295 ],\n",
              "       [11.407615 ],\n",
              "       [11.686594 ],\n",
              "       [11.837773 ],\n",
              "       [11.830695 ],\n",
              "       [11.759449 ],\n",
              "       [11.809849 ],\n",
              "       [11.864583 ],\n",
              "       [11.95561  ],\n",
              "       [12.018546 ],\n",
              "       [12.131004 ],\n",
              "       [12.212276 ],\n",
              "       [12.273875 ],\n",
              "       [12.374262 ],\n",
              "       [12.533419 ],\n",
              "       [12.721727 ],\n",
              "       [12.935819 ],\n",
              "       [12.990847 ],\n",
              "       [12.9269285],\n",
              "       [12.93836  ],\n",
              "       [12.9837675],\n",
              "       [13.05424  ],\n",
              "       [13.196423 ],\n",
              "       [13.266924 ],\n",
              "       [13.199125 ],\n",
              "       [13.143741 ]], dtype=float32)"
            ]
          },
          "metadata": {
            "tags": []
          },
          "execution_count": 65
        }
      ]
    },
    {
      "cell_type": "markdown",
      "metadata": {
        "id": "lEjN0sRdrGmK"
      },
      "source": [
        "##**6-Análise dos resuldatos**"
      ]
    },
    {
      "cell_type": "code",
      "metadata": {
        "id": "beWuUgy2Uoe_",
        "colab": {
          "base_uri": "https://localhost:8080/",
          "height": 485
        },
        "outputId": "aeaec3e3-8e46-4e19-86e1-dcd99e616ca5"
      },
      "source": [
        "#Visualizando o gráfico da Previsão da rede\n",
        "plt.plot(preco_real_teste, color = 'red', label = 'Preço real')\n",
        "plt.plot(previsoes, color = 'blue', label = 'Previsões')\n",
        "plt.title('Previsão do preço das ações')\n",
        "plt.xlabel('Tempo em dias')\n",
        "plt.ylabel('Preço das ações')\n",
        "plt.legend()\n",
        "plt.show()"
      ],
      "execution_count": 66,
      "outputs": [
        {
          "output_type": "display_data",
          "data": {
            "image/png": "[encoded data removed]",
            "text/plain": [
              "<Figure size 1800x864 with 1 Axes>"
            ]
          },
          "metadata": {
            "tags": []
          }
        }
      ]
    },
    {
      "cell_type": "code",
      "metadata": {
        "id": "hKA0-lbgUtH-",
        "colab": {
          "base_uri": "https://localhost:8080/",
          "height": 297
        },
        "outputId": "d2c91287-96dd-4d6a-b3f0-e609286a52fe"
      },
      "source": [
        "#estatísticas do preço real comparado com a previsão\n",
        "df1 = pd.DataFrame(preco_real_teste).T\n",
        "df2 = pd.DataFrame(previsoes).T\n",
        "\n",
        "df3 = pd.concat([df1,df2]).T\n",
        "df3.columns = ['Preco real', 'Previsoes']\n",
        "df3.describe()"
      ],
      "execution_count": 71,
      "outputs": [
        {
          "output_type": "execute_result",
          "data": {
            "text/html": [
              "<div>\n",
              "<style scoped>\n",
              "    .dataframe tbody tr th:only-of-type {\n",
              "        vertical-align: middle;\n",
              "    }\n",
              "\n",
              "    .dataframe tbody tr th {\n",
              "        vertical-align: top;\n",
              "    }\n",
              "\n",
              "    .dataframe thead th {\n",
              "        text-align: right;\n",
              "    }\n",
              "</style>\n",
              "<table border=\"1\" class=\"dataframe\">\n",
              "  <thead>\n",
              "    <tr style=\"text-align: right;\">\n",
              "      <th></th>\n",
              "      <th>Preco real</th>\n",
              "      <th>Previsoes</th>\n",
              "    </tr>\n",
              "  </thead>\n",
              "  <tbody>\n",
              "    <tr>\n",
              "      <th>count</th>\n",
              "      <td>252.000000</td>\n",
              "      <td>252.000000</td>\n",
              "    </tr>\n",
              "    <tr>\n",
              "      <th>mean</th>\n",
              "      <td>12.468333</td>\n",
              "      <td>12.271362</td>\n",
              "    </tr>\n",
              "    <tr>\n",
              "      <th>std</th>\n",
              "      <td>0.980194</td>\n",
              "      <td>0.918051</td>\n",
              "    </tr>\n",
              "    <tr>\n",
              "      <th>min</th>\n",
              "      <td>10.280000</td>\n",
              "      <td>10.409668</td>\n",
              "    </tr>\n",
              "    <tr>\n",
              "      <th>25%</th>\n",
              "      <td>11.632500</td>\n",
              "      <td>11.517076</td>\n",
              "    </tr>\n",
              "    <tr>\n",
              "      <th>50%</th>\n",
              "      <td>12.450000</td>\n",
              "      <td>12.256149</td>\n",
              "    </tr>\n",
              "    <tr>\n",
              "      <th>75%</th>\n",
              "      <td>13.270000</td>\n",
              "      <td>13.053835</td>\n",
              "    </tr>\n",
              "    <tr>\n",
              "      <th>max</th>\n",
              "      <td>14.860000</td>\n",
              "      <td>14.443244</td>\n",
              "    </tr>\n",
              "  </tbody>\n",
              "</table>\n",
              "</div>"
            ],
            "text/plain": [
              "       Preco real   Previsoes\n",
              "count  252.000000  252.000000\n",
              "mean    12.468333   12.271362\n",
              "std      0.980194    0.918051\n",
              "min     10.280000   10.409668\n",
              "25%     11.632500   11.517076\n",
              "50%     12.450000   12.256149\n",
              "75%     13.270000   13.053835\n",
              "max     14.860000   14.443244"
            ]
          },
          "metadata": {
            "tags": []
          },
          "execution_count": 71
        }
      ]
    },
    {
      "cell_type": "code",
      "metadata": {
        "id": "ZjIrFF8Y_M9N"
      },
      "source": [
        "#df2 = pd.DataFrame(previsoes)\n",
        "#df2.describe()"
      ],
      "execution_count": 68,
      "outputs": []
    },
    {
      "cell_type": "code",
      "metadata": {
        "id": "TKfgSJAIV5a_"
      },
      "source": [
        "#df1 = pd.DataFrame(preco_real_teste)\n",
        "#df1.describe()"
      ],
      "execution_count": 69,
      "outputs": []
    }
  ]
}