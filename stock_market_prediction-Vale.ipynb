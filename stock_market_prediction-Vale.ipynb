{
  "nbformat": 4,
  "nbformat_minor": 0,
  "metadata": {
    "colab": {
      "name": "stock-market-prediction.ipynb",
      "provenance": [],
      "collapsed_sections": [
        "UiXZAchqFuC-",
        "SuPg1RFvQyMS",
        "8MLClRMWPwTL",
        "hCiQYMqPGHuG",
        "4IDwP-XV_Ohd",
        "RtFahmEgGAzZ"
      ],
      "authorship_tag": "ABX9TyMOynx05tPsXg0558RO855d",
      "include_colab_link": true
    },
    "kernelspec": {
      "name": "python3",
      "display_name": "Python 3"
    },
    "accelerator": "GPU"
  },
  "cells": [
    {
      "cell_type": "markdown",
      "metadata": {
        "id": "view-in-github",
        "colab_type": "text"
      },
      "source": [
        "<a href=\"https://colab.research.google.com/github/claubermartins/Stock-market-prediction/blob/main/stock_market_prediction-Vale.ipynb\" target=\"_parent\"><img src=\"https://colab.research.google.com/assets/colab-badge.svg\" alt=\"Open In Colab\"/></a>"
      ]
    },
    {
      "cell_type": "code",
      "metadata": {
        "colab": {
          "base_uri": "https://localhost:8080/"
        },
        "id": "XjlKRgiDRdpq",
        "outputId": "79e69921-015b-48b6-8f26-9d5f08ef29cf"
      },
      "source": [
        "pip install inflection"
      ],
      "execution_count": 1,
      "outputs": [
        {
          "output_type": "stream",
          "text": [
            "Collecting inflection\n",
            "  Downloading https://files.pythonhosted.org/packages/59/91/aa6bde563e0085a02a435aa99b49ef75b0a4b062635e606dab23ce18d720/inflection-0.5.1-py2.py3-none-any.whl\n",
            "Installing collected packages: inflection\n",
            "Successfully installed inflection-0.5.1\n"
          ],
          "name": "stdout"
        }
      ]
    },
    {
      "cell_type": "markdown",
      "metadata": {
        "id": "UiXZAchqFuC-"
      },
      "source": [
        "#**1-Importando bibliotecas**"
      ]
    },
    {
      "cell_type": "code",
      "metadata": {
        "id": "ZjQg-8c_--wP"
      },
      "source": [
        "from tensorflow.keras.models import Sequential \n",
        "from tensorflow.keras.layers import Dense, Dropout, LSTM\n",
        "from tensorflow.keras.callbacks import EarlyStopping \n",
        "from sklearn.preprocessing import MinMaxScaler\n",
        "from sklearn.impute import SimpleImputer\n",
        "import numpy as np\n",
        "import pandas as pd\n",
        "import matplotlib.pyplot as plt\n",
        "import tensorflow as tf\n",
        "import math\n",
        "import seaborn as sns\n",
        "import datetime\n",
        "import inflection\n",
        "from IPython.core.display import HTML"
      ],
      "execution_count": 2,
      "outputs": []
    },
    {
      "cell_type": "markdown",
      "metadata": {
        "id": "SuPg1RFvQyMS"
      },
      "source": [
        "#**2-Funções auxiliares para o Jupyter Notebook**"
      ]
    },
    {
      "cell_type": "code",
      "metadata": {
        "id": "2vKvPdvDPJHc"
      },
      "source": [
        "def jupyter_settings():\n",
        "    %matplotlib inline\n",
        "    %pylab inline\n",
        "    \n",
        "    plt.style.use( 'bmh' )\n",
        "    plt.rcParams['figure.figsize'] = [25, 12]\n",
        "    plt.rcParams['font.size'] = 24\n",
        "    \n",
        "    display( HTML( '<style>.container { width:100% !important; }</style>') )\n",
        "    pd.options.display.max_columns = None\n",
        "    pd.options.display.max_rows = None\n",
        "    pd.set_option( 'display.expand_frame_repr', False )\n",
        "    \n",
        "    sns.set()"
      ],
      "execution_count": 3,
      "outputs": []
    },
    {
      "cell_type": "code",
      "metadata": {
        "colab": {
          "base_uri": "https://localhost:8080/",
          "height": 0
        },
        "id": "PGJn-AaoMxuy",
        "outputId": "00d53865-3e18-434e-bc27-6e4b18504a46"
      },
      "source": [
        "jupyter_settings()"
      ],
      "execution_count": 4,
      "outputs": [
        {
          "output_type": "stream",
          "text": [
            "Populating the interactive namespace from numpy and matplotlib\n"
          ],
          "name": "stdout"
        },
        {
          "output_type": "display_data",
          "data": {
            "text/html": [
              "<style>.container { width:100% !important; }</style>"
            ],
            "text/plain": [
              "<IPython.core.display.HTML object>"
            ]
          },
          "metadata": {
            "tags": []
          }
        }
      ]
    },
    {
      "cell_type": "markdown",
      "metadata": {
        "id": "c_3core8Shq6"
      },
      "source": [
        "#**2.1Método de importação de arquivos do Google Colab**"
      ]
    },
    {
      "cell_type": "code",
      "metadata": {
        "id": "cTk_YEVdyms3",
        "colab": {
          "resources": {
            "http://localhost:8080/nbextensions/google.colab/files.js": {
              "data": "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",
              "ok": true,
              "headers": [
                [
                  "content-type",
                  "application/javascript"
                ]
              ],
              "status": 200,
              "status_text": ""
            }
          },
          "base_uri": "https://localhost:8080/",
          "height": 157
        },
        "outputId": "da6a5da9-6160-4eef-c571-396c15d91e7f"
      },
      "source": [
        "from google.colab import files\n",
        "upload = files.upload()\n",
        "print(\"downloaded files: \")\n",
        "print(*upload, sep = \"\\n\")"
      ],
      "execution_count": 5,
      "outputs": [
        {
          "output_type": "display_data",
          "data": {
            "text/html": [
              "\n",
              "     <input type=\"file\" id=\"files-5f488763-7b43-4d83-9535-d50556cf0f46\" name=\"files[]\" multiple disabled\n",
              "        style=\"border:none\" />\n",
              "     <output id=\"result-5f488763-7b43-4d83-9535-d50556cf0f46\">\n",
              "      Upload widget is only available when the cell has been executed in the\n",
              "      current browser session. Please rerun this cell to enable.\n",
              "      </output>\n",
              "      <script src=\"/nbextensions/google.colab/files.js\"></script> "
            ],
            "text/plain": [
              "<IPython.core.display.HTML object>"
            ]
          },
          "metadata": {
            "tags": []
          }
        },
        {
          "output_type": "stream",
          "text": [
            "Saving VALE-teste.csv to VALE-teste.csv\n",
            "Saving VALE-treinamento.csv to VALE-treinamento.csv\n",
            "downloaded files: \n",
            "VALE-teste.csv\n",
            "VALE-treinamento.csv\n"
          ],
          "name": "stdout"
        }
      ]
    },
    {
      "cell_type": "markdown",
      "metadata": {
        "id": "8MLClRMWPwTL"
      },
      "source": [
        "#**3-Tratamento dos dados**"
      ]
    },
    {
      "cell_type": "markdown",
      "metadata": {
        "id": "DOJanakhS-s2"
      },
      "source": [
        "##**3.1-Importando os dados**"
      ]
    },
    {
      "cell_type": "code",
      "metadata": {
        "id": "vYFCwA5GTB2j"
      },
      "source": [
        "base = pd.read_csv('VALE-treinamento.csv')\n",
        "base = base.drop('Date', axis = 1)"
      ],
      "execution_count": 6,
      "outputs": []
    },
    {
      "cell_type": "code",
      "metadata": {
        "colab": {
          "base_uri": "https://localhost:8080/",
          "height": 0
        },
        "id": "SD9oSvK-NE0Y",
        "outputId": "aa3241ca-0c59-4ced-b63c-7fbd49998c5c"
      },
      "source": [
        "#valores estatísticos\n",
        "base.describe()"
      ],
      "execution_count": 7,
      "outputs": [
        {
          "output_type": "execute_result",
          "data": {
            "text/html": [
              "<div>\n",
              "<style scoped>\n",
              "    .dataframe tbody tr th:only-of-type {\n",
              "        vertical-align: middle;\n",
              "    }\n",
              "\n",
              "    .dataframe tbody tr th {\n",
              "        vertical-align: top;\n",
              "    }\n",
              "\n",
              "    .dataframe thead th {\n",
              "        text-align: right;\n",
              "    }\n",
              "</style>\n",
              "<table border=\"1\" class=\"dataframe\">\n",
              "  <thead>\n",
              "    <tr style=\"text-align: right;\">\n",
              "      <th></th>\n",
              "      <th>Open</th>\n",
              "      <th>High</th>\n",
              "      <th>Low</th>\n",
              "      <th>Close</th>\n",
              "      <th>Adj Close</th>\n",
              "      <th>Volume</th>\n",
              "    </tr>\n",
              "  </thead>\n",
              "  <tbody>\n",
              "    <tr>\n",
              "      <th>count</th>\n",
              "      <td>2264.000000</td>\n",
              "      <td>2264.000000</td>\n",
              "      <td>2264.000000</td>\n",
              "      <td>2264.000000</td>\n",
              "      <td>2264.000000</td>\n",
              "      <td>2.264000e+03</td>\n",
              "    </tr>\n",
              "    <tr>\n",
              "      <th>mean</th>\n",
              "      <td>15.857491</td>\n",
              "      <td>16.065362</td>\n",
              "      <td>15.619223</td>\n",
              "      <td>15.844717</td>\n",
              "      <td>11.276752</td>\n",
              "      <td>2.345833e+07</td>\n",
              "    </tr>\n",
              "    <tr>\n",
              "      <th>std</th>\n",
              "      <td>8.949669</td>\n",
              "      <td>9.028926</td>\n",
              "      <td>8.842143</td>\n",
              "      <td>8.943359</td>\n",
              "      <td>5.237754</td>\n",
              "      <td>1.004303e+07</td>\n",
              "    </tr>\n",
              "    <tr>\n",
              "      <th>min</th>\n",
              "      <td>2.190000</td>\n",
              "      <td>2.240000</td>\n",
              "      <td>2.130000</td>\n",
              "      <td>2.150000</td>\n",
              "      <td>1.756097</td>\n",
              "      <td>4.499500e+06</td>\n",
              "    </tr>\n",
              "    <tr>\n",
              "      <th>25%</th>\n",
              "      <td>8.690000</td>\n",
              "      <td>8.827500</td>\n",
              "      <td>8.500000</td>\n",
              "      <td>8.687500</td>\n",
              "      <td>7.142096</td>\n",
              "      <td>1.646215e+07</td>\n",
              "    </tr>\n",
              "    <tr>\n",
              "      <th>50%</th>\n",
              "      <td>13.900000</td>\n",
              "      <td>14.060000</td>\n",
              "      <td>13.720000</td>\n",
              "      <td>13.900000</td>\n",
              "      <td>11.197578</td>\n",
              "      <td>2.146040e+07</td>\n",
              "    </tr>\n",
              "    <tr>\n",
              "      <th>75%</th>\n",
              "      <td>22.380001</td>\n",
              "      <td>22.680000</td>\n",
              "      <td>22.032501</td>\n",
              "      <td>22.340000</td>\n",
              "      <td>14.926006</td>\n",
              "      <td>2.797898e+07</td>\n",
              "    </tr>\n",
              "    <tr>\n",
              "      <th>max</th>\n",
              "      <td>37.060001</td>\n",
              "      <td>37.250000</td>\n",
              "      <td>36.480000</td>\n",
              "      <td>37.080002</td>\n",
              "      <td>23.379416</td>\n",
              "      <td>8.622050e+07</td>\n",
              "    </tr>\n",
              "  </tbody>\n",
              "</table>\n",
              "</div>"
            ],
            "text/plain": [
              "              Open         High          Low        Close    Adj Close        Volume\n",
              "count  2264.000000  2264.000000  2264.000000  2264.000000  2264.000000  2.264000e+03\n",
              "mean     15.857491    16.065362    15.619223    15.844717    11.276752  2.345833e+07\n",
              "std       8.949669     9.028926     8.842143     8.943359     5.237754  1.004303e+07\n",
              "min       2.190000     2.240000     2.130000     2.150000     1.756097  4.499500e+06\n",
              "25%       8.690000     8.827500     8.500000     8.687500     7.142096  1.646215e+07\n",
              "50%      13.900000    14.060000    13.720000    13.900000    11.197578  2.146040e+07\n",
              "75%      22.380001    22.680000    22.032501    22.340000    14.926006  2.797898e+07\n",
              "max      37.060001    37.250000    36.480000    37.080002    23.379416  8.622050e+07"
            ]
          },
          "metadata": {
            "tags": []
          },
          "execution_count": 7
        }
      ]
    },
    {
      "cell_type": "code",
      "metadata": {
        "colab": {
          "base_uri": "https://localhost:8080/"
        },
        "id": "fbKUPwPSNJqm",
        "outputId": "4f6dc877-afe9-4aac-e481-2dd5d861ae2f"
      },
      "source": [
        "base.dtypes"
      ],
      "execution_count": 8,
      "outputs": [
        {
          "output_type": "execute_result",
          "data": {
            "text/plain": [
              "Open         float64\n",
              "High         float64\n",
              "Low          float64\n",
              "Close        float64\n",
              "Adj Close    float64\n",
              "Volume         int64\n",
              "dtype: object"
            ]
          },
          "metadata": {
            "tags": []
          },
          "execution_count": 8
        }
      ]
    },
    {
      "cell_type": "markdown",
      "metadata": {
        "id": "bCTD3wo2TfZF"
      },
      "source": [
        "##**3.2-Tratando os Valores Faltantes**"
      ]
    },
    {
      "cell_type": "code",
      "metadata": {
        "colab": {
          "base_uri": "https://localhost:8080/"
        },
        "id": "H60SOo8MTjjP",
        "outputId": "1e63d739-e96c-4341-a12f-f6f04055f73c"
      },
      "source": [
        "#valores faltantes\n",
        "base.isna().sum()"
      ],
      "execution_count": 9,
      "outputs": [
        {
          "output_type": "execute_result",
          "data": {
            "text/plain": [
              "Open         0\n",
              "High         0\n",
              "Low          0\n",
              "Close        0\n",
              "Adj Close    0\n",
              "Volume       0\n",
              "dtype: int64"
            ]
          },
          "metadata": {
            "tags": []
          },
          "execution_count": 9
        }
      ]
    },
    {
      "cell_type": "code",
      "metadata": {
        "id": "H-DMfyHXTkdi",
        "outputId": "b2d7358a-9e1a-4ba4-b2cb-15320b283be9",
        "colab": {
          "base_uri": "https://localhost:8080/",
          "height": 0
        }
      },
      "source": [
        "#encontrando onde os valores faltantes estão\n",
        "base.loc[pd.isnull(base['Open'])]\n",
        "base.loc[pd.isnull(base['High'])]\n",
        "base.loc[pd.isnull(base['Low'])]\n",
        "base.loc[pd.isnull(base['Close'])]\n",
        "base.loc[pd.isnull(base['Adj Close'])]\n",
        "base.loc[pd.isnull(base['Volume'])]"
      ],
      "execution_count": 10,
      "outputs": [
        {
          "output_type": "execute_result",
          "data": {
            "text/html": [
              "<div>\n",
              "<style scoped>\n",
              "    .dataframe tbody tr th:only-of-type {\n",
              "        vertical-align: middle;\n",
              "    }\n",
              "\n",
              "    .dataframe tbody tr th {\n",
              "        vertical-align: top;\n",
              "    }\n",
              "\n",
              "    .dataframe thead th {\n",
              "        text-align: right;\n",
              "    }\n",
              "</style>\n",
              "<table border=\"1\" class=\"dataframe\">\n",
              "  <thead>\n",
              "    <tr style=\"text-align: right;\">\n",
              "      <th></th>\n",
              "      <th>Open</th>\n",
              "      <th>High</th>\n",
              "      <th>Low</th>\n",
              "      <th>Close</th>\n",
              "      <th>Adj Close</th>\n",
              "      <th>Volume</th>\n",
              "    </tr>\n",
              "  </thead>\n",
              "  <tbody>\n",
              "  </tbody>\n",
              "</table>\n",
              "</div>"
            ],
            "text/plain": [
              "Empty DataFrame\n",
              "Columns: [Open, High, Low, Close, Adj Close, Volume]\n",
              "Index: []"
            ]
          },
          "metadata": {
            "tags": []
          },
          "execution_count": 10
        }
      ]
    },
    {
      "cell_type": "code",
      "metadata": {
        "id": "6q0YFzy9TmPD"
      },
      "source": [
        "#preenchendo os valores nulos com o valor médio\n",
        "imputer = SimpleImputer(missing_values=np.nan, strategy='mean',verbose=0)\n",
        "imputer = imputer.fit(base.iloc[:,0:6])\n",
        "base.iloc[:,0:6] = imputer.transform(base.iloc[:,0:6])"
      ],
      "execution_count": 11,
      "outputs": []
    },
    {
      "cell_type": "code",
      "metadata": {
        "id": "gQC2HfFnTpe2",
        "outputId": "d85b9f4a-cd4f-493d-f795-b4be9afb1e88",
        "colab": {
          "base_uri": "https://localhost:8080/",
          "height": 0
        }
      },
      "source": [
        "#verificando novamente se ainda temos valores faltantes\n",
        "base.loc[pd.isnull(base['Open'])]\n",
        "base.loc[pd.isnull(base['High'])]\n",
        "base.loc[pd.isnull(base['Low'])]\n",
        "base.loc[pd.isnull(base['Close'])]\n",
        "base.loc[pd.isnull(base['Adj Close'])]\n",
        "base.loc[pd.isnull(base['Volume'])]"
      ],
      "execution_count": 12,
      "outputs": [
        {
          "output_type": "execute_result",
          "data": {
            "text/html": [
              "<div>\n",
              "<style scoped>\n",
              "    .dataframe tbody tr th:only-of-type {\n",
              "        vertical-align: middle;\n",
              "    }\n",
              "\n",
              "    .dataframe tbody tr th {\n",
              "        vertical-align: top;\n",
              "    }\n",
              "\n",
              "    .dataframe thead th {\n",
              "        text-align: right;\n",
              "    }\n",
              "</style>\n",
              "<table border=\"1\" class=\"dataframe\">\n",
              "  <thead>\n",
              "    <tr style=\"text-align: right;\">\n",
              "      <th></th>\n",
              "      <th>Open</th>\n",
              "      <th>High</th>\n",
              "      <th>Low</th>\n",
              "      <th>Close</th>\n",
              "      <th>Adj Close</th>\n",
              "      <th>Volume</th>\n",
              "    </tr>\n",
              "  </thead>\n",
              "  <tbody>\n",
              "  </tbody>\n",
              "</table>\n",
              "</div>"
            ],
            "text/plain": [
              "Empty DataFrame\n",
              "Columns: [Open, High, Low, Close, Adj Close, Volume]\n",
              "Index: []"
            ]
          },
          "metadata": {
            "tags": []
          },
          "execution_count": 12
        }
      ]
    },
    {
      "cell_type": "markdown",
      "metadata": {
        "id": "_WuI_UbmTt3W"
      },
      "source": [
        "#**3.3-Tratamento dos valores nulos (iguais a 0)**"
      ]
    },
    {
      "cell_type": "code",
      "metadata": {
        "colab": {
          "base_uri": "https://localhost:8080/"
        },
        "id": "hyRiBN32Twb2",
        "outputId": "a812a883-4ade-4e89-f0ef-05df15bbfce2"
      },
      "source": [
        "#valores nulos\n",
        "(base == 0).sum()"
      ],
      "execution_count": 13,
      "outputs": [
        {
          "output_type": "execute_result",
          "data": {
            "text/plain": [
              "Open         0\n",
              "High         0\n",
              "Low          0\n",
              "Close        0\n",
              "Adj Close    0\n",
              "Volume       0\n",
              "dtype: int64"
            ]
          },
          "metadata": {
            "tags": []
          },
          "execution_count": 13
        }
      ]
    },
    {
      "cell_type": "code",
      "metadata": {
        "id": "nQPTB9_TT3Dy"
      },
      "source": [
        "#Encontrando os valores nulos\n",
        "base.loc[base['Volume'] == 0]"
      ],
      "execution_count": null,
      "outputs": []
    },
    {
      "cell_type": "code",
      "metadata": {
        "id": "352jPyV0T5JJ"
      },
      "source": [
        "#preenchendo os valores nulos com o valor médio\n",
        "imputer = SimpleImputer(missing_values=0, strategy='mean',verbose=0)\n",
        "imputer = imputer.fit(base.iloc[:,0:6])\n",
        "base.iloc[:,0:6] = imputer.transform(base.iloc[:,0:6])"
      ],
      "execution_count": null,
      "outputs": []
    },
    {
      "cell_type": "code",
      "metadata": {
        "id": "xI5JdDykT66_"
      },
      "source": [
        "#Verificando novamente se ainda temos valores nulos\n",
        "base.loc[base['Volume'] == 0]"
      ],
      "execution_count": null,
      "outputs": []
    },
    {
      "cell_type": "code",
      "metadata": {
        "id": "NYW0UUz0T9Kq"
      },
      "source": [
        "#base = base.dropna()"
      ],
      "execution_count": null,
      "outputs": []
    },
    {
      "cell_type": "code",
      "metadata": {
        "id": "ceOotOwsT_Er"
      },
      "source": [
        "#base.sample()"
      ],
      "execution_count": null,
      "outputs": []
    },
    {
      "cell_type": "markdown",
      "metadata": {
        "id": "hCiQYMqPGHuG"
      },
      "source": [
        "#**-Descrição dos dados** IGNORE ESTA CÉLULA"
      ]
    },
    {
      "cell_type": "code",
      "metadata": {
        "id": "xalwLdRSGLRD"
      },
      "source": [
        "#Tendencia central - mean, median\n",
        "ct1 = pd.DataFrame(base.apply(np.mean)).T #T transpondo \n",
        "ct2 = pd.DataFrame(base.apply(np.median)).T\n",
        "#Dispersão - std(desvio padrão), min, max, range\n",
        "d1 = pd.DataFrame(base.apply(np.std)).T\n",
        "d2 = pd.DataFrame(base.apply(min)).T\n",
        "d3 = pd.DataFrame(base.apply(max)).T\n",
        "d4 = pd.DataFrame(base.apply(lambda x: x.max() - x.min())).T\n",
        "#concatenate\n",
        "m = pd.concat([d2,d3,d4,ct1,ct2,d1]).T.reset_index()\n",
        "m.columns = ['attributes','min','max','range', 'mean', 'median', 'std']\n",
        "m"
      ],
      "execution_count": null,
      "outputs": []
    },
    {
      "cell_type": "code",
      "metadata": {
        "colab": {
          "base_uri": "https://localhost:8080/"
        },
        "id": "j62Bj8jOQz_G",
        "outputId": "9e5055ec-b49f-4f7d-e3c1-b3fc2b1dae42"
      },
      "source": [
        "base.shape[0]"
      ],
      "execution_count": null,
      "outputs": [
        {
          "output_type": "execute_result",
          "data": {
            "text/plain": [
              "2478"
            ]
          },
          "metadata": {
            "tags": []
          },
          "execution_count": 20
        }
      ]
    },
    {
      "cell_type": "markdown",
      "metadata": {
        "id": "4IDwP-XV_Ohd"
      },
      "source": [
        "#**4-Treinamento da rede**"
      ]
    },
    {
      "cell_type": "code",
      "metadata": {
        "id": "mpo6RlDsUHNJ"
      },
      "source": [
        "#normalizando a base de dados com o MinMaxScaler\n",
        "base_treinamento = base.iloc[:, 0:6].values\n",
        "normalizador = MinMaxScaler(feature_range=(0,1))\n",
        "base_treinamento_normalizada = normalizador.fit_transform(base_treinamento)"
      ],
      "execution_count": 14,
      "outputs": []
    },
    {
      "cell_type": "code",
      "metadata": {
        "id": "d-LD4OEaUNf7"
      },
      "source": [
        "#Comparando a predição com o preço real\n",
        "previsores = []\n",
        "preco_real = []\n",
        "for i in range(90, 2264):\n",
        "    previsores.append(base_treinamento_normalizada[i-90:i, 0:6])\n",
        "    preco_real.append(base_treinamento_normalizada[i, 3:4])\n",
        "previsores, preco_real = np.array(previsores), np.array(preco_real)\n"
      ],
      "execution_count": 18,
      "outputs": []
    },
    {
      "cell_type": "code",
      "metadata": {
        "colab": {
          "base_uri": "https://localhost:8080/"
        },
        "id": "ZftXowA9URdt",
        "outputId": "13d62b44-ee95-44e8-c5eb-5f97234dbb41"
      },
      "source": [
        "#estrutura da rede neural \n",
        "regressor = Sequential()\n",
        "regressor.add(LSTM(units = 100, return_sequences = True, input_shape = (previsores.shape[1], 6)))\n",
        "regressor.add(Dropout(0.3))\n",
        "\n",
        "regressor.add(LSTM(units = 50, return_sequences = True))\n",
        "regressor.add(Dropout(0.3))\n",
        "\n",
        "regressor.add(LSTM(units = 50, return_sequences = True))\n",
        "regressor.add(Dropout(0.3))\n",
        "\n",
        "regressor.add(LSTM(units = 50))\n",
        "regressor.add(Dropout(0.3))\n",
        "\n",
        "regressor.add(Dense(units = 1, activation = 'sigmoid'))\n",
        "\n",
        "es = EarlyStopping(monitor = 'loss', min_delta = 1e-15, patience = 20, verbose = 1)\n",
        "\n",
        "#regressor.compile(optimizer = 'RMSprop', loss = 'mean_squared_error',\n",
        "#                  metrics = ['mean_absolute_error'])\n",
        "opt = tf.keras.optimizers.Adam(amsgrad=True)\n",
        "regressor.compile(optimizer = opt, loss = 'mean_squared_error',\n",
        "                  metrics = ['mean_absolute_error'])\n",
        "#opt = tf.keras.optimizers.RMSprop(centered=True)\n",
        "#regressor.compile(optimizer = opt, loss = 'mean_squared_error',\n",
        "#                 metrics = ['mean_absolute_error'])\n",
        "\n",
        "regressor.fit(previsores, preco_real, epochs = 600, batch_size = 32,\n",
        "              callbacks = [es])\n",
        "#regressor.fit(previsores, preco_real, epochs = 600, batch_size = 32)"
      ],
      "execution_count": 19,
      "outputs": [
        {
          "output_type": "stream",
          "text": [
            "Epoch 1/600\n",
            "68/68 [==============================] - 5s 18ms/step - loss: 0.0303 - mean_absolute_error: 0.1321\n",
            "Epoch 2/600\n",
            "68/68 [==============================] - 1s 16ms/step - loss: 0.0034 - mean_absolute_error: 0.0455\n",
            "Epoch 3/600\n",
            "68/68 [==============================] - 1s 16ms/step - loss: 0.0025 - mean_absolute_error: 0.0387\n",
            "Epoch 4/600\n",
            "68/68 [==============================] - 1s 15ms/step - loss: 0.0023 - mean_absolute_error: 0.0360\n",
            "Epoch 5/600\n",
            "68/68 [==============================] - 1s 15ms/step - loss: 0.0018 - mean_absolute_error: 0.0322\n",
            "Epoch 6/600\n",
            "68/68 [==============================] - 1s 16ms/step - loss: 0.0020 - mean_absolute_error: 0.0335\n",
            "Epoch 7/600\n",
            "68/68 [==============================] - 1s 15ms/step - loss: 0.0017 - mean_absolute_error: 0.0310\n",
            "Epoch 8/600\n",
            "68/68 [==============================] - 1s 15ms/step - loss: 0.0016 - mean_absolute_error: 0.0304\n",
            "Epoch 9/600\n",
            "68/68 [==============================] - 1s 15ms/step - loss: 0.0015 - mean_absolute_error: 0.0297\n",
            "Epoch 10/600\n",
            "68/68 [==============================] - 1s 15ms/step - loss: 0.0017 - mean_absolute_error: 0.0310\n",
            "Epoch 11/600\n",
            "68/68 [==============================] - 1s 16ms/step - loss: 0.0013 - mean_absolute_error: 0.0271\n",
            "Epoch 12/600\n",
            "68/68 [==============================] - 1s 15ms/step - loss: 0.0013 - mean_absolute_error: 0.0276\n",
            "Epoch 13/600\n",
            "68/68 [==============================] - 1s 16ms/step - loss: 0.0014 - mean_absolute_error: 0.0275\n",
            "Epoch 14/600\n",
            "68/68 [==============================] - 1s 16ms/step - loss: 0.0012 - mean_absolute_error: 0.0274\n",
            "Epoch 15/600\n",
            "68/68 [==============================] - 1s 15ms/step - loss: 0.0013 - mean_absolute_error: 0.0274\n",
            "Epoch 16/600\n",
            "68/68 [==============================] - 1s 16ms/step - loss: 0.0012 - mean_absolute_error: 0.0266\n",
            "Epoch 17/600\n",
            "68/68 [==============================] - 1s 16ms/step - loss: 0.0011 - mean_absolute_error: 0.0254\n",
            "Epoch 18/600\n",
            "68/68 [==============================] - 1s 16ms/step - loss: 0.0011 - mean_absolute_error: 0.0247\n",
            "Epoch 19/600\n",
            "68/68 [==============================] - 1s 16ms/step - loss: 0.0011 - mean_absolute_error: 0.0257\n",
            "Epoch 20/600\n",
            "68/68 [==============================] - 1s 16ms/step - loss: 0.0011 - mean_absolute_error: 0.0247\n",
            "Epoch 21/600\n",
            "68/68 [==============================] - 1s 16ms/step - loss: 0.0011 - mean_absolute_error: 0.0258\n",
            "Epoch 22/600\n",
            "68/68 [==============================] - 1s 15ms/step - loss: 0.0011 - mean_absolute_error: 0.0247\n",
            "Epoch 23/600\n",
            "68/68 [==============================] - 1s 16ms/step - loss: 0.0011 - mean_absolute_error: 0.0250\n",
            "Epoch 24/600\n",
            "68/68 [==============================] - 1s 16ms/step - loss: 0.0011 - mean_absolute_error: 0.0249\n",
            "Epoch 25/600\n",
            "68/68 [==============================] - 1s 16ms/step - loss: 9.6166e-04 - mean_absolute_error: 0.0236\n",
            "Epoch 26/600\n",
            "68/68 [==============================] - 1s 16ms/step - loss: 0.0010 - mean_absolute_error: 0.0245\n",
            "Epoch 27/600\n",
            "68/68 [==============================] - 1s 16ms/step - loss: 9.7859e-04 - mean_absolute_error: 0.0240\n",
            "Epoch 28/600\n",
            "68/68 [==============================] - 1s 16ms/step - loss: 8.7592e-04 - mean_absolute_error: 0.0226\n",
            "Epoch 29/600\n",
            "68/68 [==============================] - 1s 16ms/step - loss: 9.4840e-04 - mean_absolute_error: 0.0232\n",
            "Epoch 30/600\n",
            "68/68 [==============================] - 1s 15ms/step - loss: 9.4007e-04 - mean_absolute_error: 0.0230\n",
            "Epoch 31/600\n",
            "68/68 [==============================] - 1s 16ms/step - loss: 0.0010 - mean_absolute_error: 0.0240\n",
            "Epoch 32/600\n",
            "68/68 [==============================] - 1s 15ms/step - loss: 9.2599e-04 - mean_absolute_error: 0.0229\n",
            "Epoch 33/600\n",
            "68/68 [==============================] - 1s 16ms/step - loss: 9.5673e-04 - mean_absolute_error: 0.0236\n",
            "Epoch 34/600\n",
            "68/68 [==============================] - 1s 16ms/step - loss: 8.3653e-04 - mean_absolute_error: 0.0223\n",
            "Epoch 35/600\n",
            "68/68 [==============================] - 1s 16ms/step - loss: 8.2900e-04 - mean_absolute_error: 0.0218\n",
            "Epoch 36/600\n",
            "68/68 [==============================] - 1s 16ms/step - loss: 9.7426e-04 - mean_absolute_error: 0.0234\n",
            "Epoch 37/600\n",
            "68/68 [==============================] - 1s 16ms/step - loss: 9.4148e-04 - mean_absolute_error: 0.0229\n",
            "Epoch 38/600\n",
            "68/68 [==============================] - 1s 16ms/step - loss: 9.2984e-04 - mean_absolute_error: 0.0227\n",
            "Epoch 39/600\n",
            "68/68 [==============================] - 1s 16ms/step - loss: 8.3466e-04 - mean_absolute_error: 0.0217\n",
            "Epoch 40/600\n",
            "68/68 [==============================] - 1s 16ms/step - loss: 8.4277e-04 - mean_absolute_error: 0.0219\n",
            "Epoch 41/600\n",
            "68/68 [==============================] - 1s 16ms/step - loss: 7.7471e-04 - mean_absolute_error: 0.0209\n",
            "Epoch 42/600\n",
            "68/68 [==============================] - 1s 16ms/step - loss: 7.9632e-04 - mean_absolute_error: 0.0214\n",
            "Epoch 43/600\n",
            "68/68 [==============================] - 1s 16ms/step - loss: 8.9934e-04 - mean_absolute_error: 0.0229\n",
            "Epoch 44/600\n",
            "68/68 [==============================] - 1s 16ms/step - loss: 8.3781e-04 - mean_absolute_error: 0.0219\n",
            "Epoch 45/600\n",
            "68/68 [==============================] - 1s 16ms/step - loss: 7.8125e-04 - mean_absolute_error: 0.0215\n",
            "Epoch 46/600\n",
            "68/68 [==============================] - 1s 15ms/step - loss: 7.5561e-04 - mean_absolute_error: 0.0207\n",
            "Epoch 47/600\n",
            "68/68 [==============================] - 1s 15ms/step - loss: 9.2187e-04 - mean_absolute_error: 0.0230\n",
            "Epoch 48/600\n",
            "68/68 [==============================] - 1s 16ms/step - loss: 8.4928e-04 - mean_absolute_error: 0.0226\n",
            "Epoch 49/600\n",
            "68/68 [==============================] - 1s 16ms/step - loss: 7.7087e-04 - mean_absolute_error: 0.0211\n",
            "Epoch 50/600\n",
            "68/68 [==============================] - 1s 16ms/step - loss: 9.1632e-04 - mean_absolute_error: 0.0228\n",
            "Epoch 51/600\n",
            "68/68 [==============================] - 1s 16ms/step - loss: 7.5006e-04 - mean_absolute_error: 0.0204\n",
            "Epoch 52/600\n",
            "68/68 [==============================] - 1s 16ms/step - loss: 6.5372e-04 - mean_absolute_error: 0.0197\n",
            "Epoch 53/600\n",
            "68/68 [==============================] - 1s 16ms/step - loss: 7.7194e-04 - mean_absolute_error: 0.0211\n",
            "Epoch 54/600\n",
            "68/68 [==============================] - 1s 16ms/step - loss: 6.8630e-04 - mean_absolute_error: 0.0200\n",
            "Epoch 55/600\n",
            "68/68 [==============================] - 1s 16ms/step - loss: 7.4950e-04 - mean_absolute_error: 0.0210\n",
            "Epoch 56/600\n",
            "68/68 [==============================] - 1s 16ms/step - loss: 7.6243e-04 - mean_absolute_error: 0.0208\n",
            "Epoch 57/600\n",
            "68/68 [==============================] - 1s 16ms/step - loss: 6.6991e-04 - mean_absolute_error: 0.0200\n",
            "Epoch 58/600\n",
            "68/68 [==============================] - 1s 16ms/step - loss: 7.3777e-04 - mean_absolute_error: 0.0205\n",
            "Epoch 59/600\n",
            "68/68 [==============================] - 1s 16ms/step - loss: 6.6651e-04 - mean_absolute_error: 0.0197\n",
            "Epoch 60/600\n",
            "68/68 [==============================] - 1s 15ms/step - loss: 7.0904e-04 - mean_absolute_error: 0.0204\n",
            "Epoch 61/600\n",
            "68/68 [==============================] - 1s 16ms/step - loss: 6.3780e-04 - mean_absolute_error: 0.0193\n",
            "Epoch 62/600\n",
            "68/68 [==============================] - 1s 16ms/step - loss: 6.5008e-04 - mean_absolute_error: 0.0192\n",
            "Epoch 63/600\n",
            "68/68 [==============================] - 1s 15ms/step - loss: 6.3238e-04 - mean_absolute_error: 0.0193\n",
            "Epoch 64/600\n",
            "68/68 [==============================] - 1s 16ms/step - loss: 6.7914e-04 - mean_absolute_error: 0.0200\n",
            "Epoch 65/600\n",
            "68/68 [==============================] - 1s 16ms/step - loss: 6.9021e-04 - mean_absolute_error: 0.0200\n",
            "Epoch 66/600\n",
            "68/68 [==============================] - 1s 15ms/step - loss: 7.0291e-04 - mean_absolute_error: 0.0204\n",
            "Epoch 67/600\n",
            "68/68 [==============================] - 1s 16ms/step - loss: 6.7693e-04 - mean_absolute_error: 0.0200\n",
            "Epoch 68/600\n",
            "68/68 [==============================] - 1s 16ms/step - loss: 6.0319e-04 - mean_absolute_error: 0.0186\n",
            "Epoch 69/600\n",
            "68/68 [==============================] - 1s 16ms/step - loss: 6.2491e-04 - mean_absolute_error: 0.0188\n",
            "Epoch 70/600\n",
            "68/68 [==============================] - 1s 16ms/step - loss: 6.8269e-04 - mean_absolute_error: 0.0195\n",
            "Epoch 71/600\n",
            "68/68 [==============================] - 1s 16ms/step - loss: 6.3715e-04 - mean_absolute_error: 0.0191\n",
            "Epoch 72/600\n",
            "68/68 [==============================] - 1s 16ms/step - loss: 7.7397e-04 - mean_absolute_error: 0.0211\n",
            "Epoch 73/600\n",
            "68/68 [==============================] - 1s 16ms/step - loss: 6.2058e-04 - mean_absolute_error: 0.0192\n",
            "Epoch 74/600\n",
            "68/68 [==============================] - 1s 16ms/step - loss: 6.2849e-04 - mean_absolute_error: 0.0189\n",
            "Epoch 75/600\n",
            "68/68 [==============================] - 1s 16ms/step - loss: 6.6112e-04 - mean_absolute_error: 0.0191\n",
            "Epoch 76/600\n",
            "68/68 [==============================] - 1s 16ms/step - loss: 6.8567e-04 - mean_absolute_error: 0.0199\n",
            "Epoch 77/600\n",
            "68/68 [==============================] - 1s 16ms/step - loss: 6.2482e-04 - mean_absolute_error: 0.0193\n",
            "Epoch 78/600\n",
            "68/68 [==============================] - 1s 16ms/step - loss: 6.7736e-04 - mean_absolute_error: 0.0201\n",
            "Epoch 79/600\n",
            "68/68 [==============================] - 1s 16ms/step - loss: 6.0052e-04 - mean_absolute_error: 0.0186\n",
            "Epoch 80/600\n",
            "68/68 [==============================] - 1s 16ms/step - loss: 5.9054e-04 - mean_absolute_error: 0.0186\n",
            "Epoch 81/600\n",
            "68/68 [==============================] - 1s 16ms/step - loss: 6.2060e-04 - mean_absolute_error: 0.0189\n",
            "Epoch 82/600\n",
            "68/68 [==============================] - 1s 16ms/step - loss: 6.0977e-04 - mean_absolute_error: 0.0190\n",
            "Epoch 83/600\n",
            "68/68 [==============================] - 1s 16ms/step - loss: 6.0917e-04 - mean_absolute_error: 0.0188\n",
            "Epoch 84/600\n",
            "68/68 [==============================] - 1s 15ms/step - loss: 5.7109e-04 - mean_absolute_error: 0.0183\n",
            "Epoch 85/600\n",
            "68/68 [==============================] - 1s 15ms/step - loss: 6.2174e-04 - mean_absolute_error: 0.0187\n",
            "Epoch 86/600\n",
            "68/68 [==============================] - 1s 16ms/step - loss: 6.4021e-04 - mean_absolute_error: 0.0197\n",
            "Epoch 87/600\n",
            "68/68 [==============================] - 1s 15ms/step - loss: 5.7396e-04 - mean_absolute_error: 0.0183\n",
            "Epoch 88/600\n",
            "68/68 [==============================] - 1s 16ms/step - loss: 5.5127e-04 - mean_absolute_error: 0.0182\n",
            "Epoch 89/600\n",
            "68/68 [==============================] - 1s 16ms/step - loss: 5.9143e-04 - mean_absolute_error: 0.0186\n",
            "Epoch 90/600\n",
            "68/68 [==============================] - 1s 15ms/step - loss: 5.8932e-04 - mean_absolute_error: 0.0182\n",
            "Epoch 91/600\n",
            "68/68 [==============================] - 1s 16ms/step - loss: 5.3430e-04 - mean_absolute_error: 0.0175\n",
            "Epoch 92/600\n",
            "68/68 [==============================] - 1s 16ms/step - loss: 7.2317e-04 - mean_absolute_error: 0.0200\n",
            "Epoch 93/600\n",
            "68/68 [==============================] - 1s 16ms/step - loss: 5.6497e-04 - mean_absolute_error: 0.0178\n",
            "Epoch 94/600\n",
            "68/68 [==============================] - 1s 16ms/step - loss: 5.9480e-04 - mean_absolute_error: 0.0182\n",
            "Epoch 95/600\n",
            "68/68 [==============================] - 1s 16ms/step - loss: 6.3975e-04 - mean_absolute_error: 0.0191\n",
            "Epoch 96/600\n",
            "68/68 [==============================] - 1s 16ms/step - loss: 5.9087e-04 - mean_absolute_error: 0.0179\n",
            "Epoch 97/600\n",
            "68/68 [==============================] - 1s 16ms/step - loss: 6.1173e-04 - mean_absolute_error: 0.0186\n",
            "Epoch 98/600\n",
            "68/68 [==============================] - 1s 16ms/step - loss: 6.0478e-04 - mean_absolute_error: 0.0184\n",
            "Epoch 99/600\n",
            "68/68 [==============================] - 1s 16ms/step - loss: 5.6951e-04 - mean_absolute_error: 0.0182\n",
            "Epoch 100/600\n",
            "68/68 [==============================] - 1s 16ms/step - loss: 5.6925e-04 - mean_absolute_error: 0.0182\n",
            "Epoch 101/600\n",
            "68/68 [==============================] - 1s 16ms/step - loss: 5.4286e-04 - mean_absolute_error: 0.0178\n",
            "Epoch 102/600\n",
            "68/68 [==============================] - 1s 16ms/step - loss: 5.2194e-04 - mean_absolute_error: 0.0174\n",
            "Epoch 103/600\n",
            "68/68 [==============================] - 1s 16ms/step - loss: 5.6130e-04 - mean_absolute_error: 0.0179\n",
            "Epoch 104/600\n",
            "68/68 [==============================] - 1s 16ms/step - loss: 6.1195e-04 - mean_absolute_error: 0.0187\n",
            "Epoch 105/600\n",
            "68/68 [==============================] - 1s 15ms/step - loss: 5.2349e-04 - mean_absolute_error: 0.0175\n",
            "Epoch 106/600\n",
            "68/68 [==============================] - 1s 16ms/step - loss: 5.2044e-04 - mean_absolute_error: 0.0175\n",
            "Epoch 107/600\n",
            "68/68 [==============================] - 1s 16ms/step - loss: 5.6439e-04 - mean_absolute_error: 0.0183\n",
            "Epoch 108/600\n",
            "68/68 [==============================] - 1s 16ms/step - loss: 6.1386e-04 - mean_absolute_error: 0.0191\n",
            "Epoch 109/600\n",
            "68/68 [==============================] - 1s 16ms/step - loss: 5.3366e-04 - mean_absolute_error: 0.0174\n",
            "Epoch 110/600\n",
            "68/68 [==============================] - 1s 16ms/step - loss: 5.4733e-04 - mean_absolute_error: 0.0178\n",
            "Epoch 111/600\n",
            "68/68 [==============================] - 1s 16ms/step - loss: 5.9963e-04 - mean_absolute_error: 0.0180\n",
            "Epoch 112/600\n",
            "68/68 [==============================] - 1s 16ms/step - loss: 5.7610e-04 - mean_absolute_error: 0.0184\n",
            "Epoch 113/600\n",
            "68/68 [==============================] - 1s 16ms/step - loss: 5.2998e-04 - mean_absolute_error: 0.0177\n",
            "Epoch 114/600\n",
            "68/68 [==============================] - 1s 16ms/step - loss: 5.4176e-04 - mean_absolute_error: 0.0176\n",
            "Epoch 115/600\n",
            "68/68 [==============================] - 1s 15ms/step - loss: 5.9052e-04 - mean_absolute_error: 0.0181\n",
            "Epoch 116/600\n",
            "68/68 [==============================] - 1s 16ms/step - loss: 5.6931e-04 - mean_absolute_error: 0.0179\n",
            "Epoch 117/600\n",
            "68/68 [==============================] - 1s 16ms/step - loss: 4.6536e-04 - mean_absolute_error: 0.0164\n",
            "Epoch 118/600\n",
            "68/68 [==============================] - 1s 16ms/step - loss: 5.9563e-04 - mean_absolute_error: 0.0184\n",
            "Epoch 119/600\n",
            "68/68 [==============================] - 1s 15ms/step - loss: 5.5834e-04 - mean_absolute_error: 0.0178\n",
            "Epoch 120/600\n",
            "68/68 [==============================] - 1s 15ms/step - loss: 5.8504e-04 - mean_absolute_error: 0.0185\n",
            "Epoch 121/600\n",
            "68/68 [==============================] - 1s 15ms/step - loss: 5.1298e-04 - mean_absolute_error: 0.0172\n",
            "Epoch 122/600\n",
            "68/68 [==============================] - 1s 16ms/step - loss: 5.2956e-04 - mean_absolute_error: 0.0176\n",
            "Epoch 123/600\n",
            "68/68 [==============================] - 1s 16ms/step - loss: 5.5244e-04 - mean_absolute_error: 0.0178\n",
            "Epoch 124/600\n",
            "68/68 [==============================] - 1s 16ms/step - loss: 6.0237e-04 - mean_absolute_error: 0.0192\n",
            "Epoch 125/600\n",
            "68/68 [==============================] - 1s 16ms/step - loss: 4.9796e-04 - mean_absolute_error: 0.0170\n",
            "Epoch 126/600\n",
            "68/68 [==============================] - 1s 16ms/step - loss: 5.2762e-04 - mean_absolute_error: 0.0176\n",
            "Epoch 127/600\n",
            "68/68 [==============================] - 1s 16ms/step - loss: 4.9775e-04 - mean_absolute_error: 0.0173\n",
            "Epoch 128/600\n",
            "68/68 [==============================] - 1s 16ms/step - loss: 6.3044e-04 - mean_absolute_error: 0.0187\n",
            "Epoch 129/600\n",
            "68/68 [==============================] - 1s 16ms/step - loss: 5.4404e-04 - mean_absolute_error: 0.0177\n",
            "Epoch 130/600\n",
            "68/68 [==============================] - 1s 16ms/step - loss: 5.5334e-04 - mean_absolute_error: 0.0176\n",
            "Epoch 131/600\n",
            "68/68 [==============================] - 1s 16ms/step - loss: 5.6165e-04 - mean_absolute_error: 0.0178\n",
            "Epoch 132/600\n",
            "68/68 [==============================] - 1s 16ms/step - loss: 5.7062e-04 - mean_absolute_error: 0.0181\n",
            "Epoch 133/600\n",
            "68/68 [==============================] - 1s 16ms/step - loss: 4.9915e-04 - mean_absolute_error: 0.0169\n",
            "Epoch 134/600\n",
            "68/68 [==============================] - 1s 16ms/step - loss: 5.0540e-04 - mean_absolute_error: 0.0169\n",
            "Epoch 135/600\n",
            "68/68 [==============================] - 1s 16ms/step - loss: 5.9530e-04 - mean_absolute_error: 0.0187\n",
            "Epoch 136/600\n",
            "68/68 [==============================] - 1s 16ms/step - loss: 5.3646e-04 - mean_absolute_error: 0.0178\n",
            "Epoch 137/600\n",
            "68/68 [==============================] - 1s 16ms/step - loss: 5.6463e-04 - mean_absolute_error: 0.0179\n",
            "Epoch 00137: early stopping\n"
          ],
          "name": "stdout"
        },
        {
          "output_type": "execute_result",
          "data": {
            "text/plain": [
              "<tensorflow.python.keras.callbacks.History at 0x7f1773dee810>"
            ]
          },
          "metadata": {
            "tags": []
          },
          "execution_count": 19
        }
      ]
    },
    {
      "cell_type": "markdown",
      "metadata": {
        "id": "RtFahmEgGAzZ"
      },
      "source": [
        "#**5-Teste da rede**"
      ]
    },
    {
      "cell_type": "markdown",
      "metadata": {
        "id": "QSWSKW8nqeA0"
      },
      "source": [
        "##**5.1-Importando os dados para teste**"
      ]
    },
    {
      "cell_type": "code",
      "metadata": {
        "id": "4X6-ArtKUdpD"
      },
      "source": [
        "#criando a base de dados teste\n",
        "base_teste = pd.read_csv('VALE-teste.csv')\n",
        "base_teste = base_teste.drop('Date', axis = 1)"
      ],
      "execution_count": 20,
      "outputs": []
    },
    {
      "cell_type": "code",
      "metadata": {
        "colab": {
          "base_uri": "https://localhost:8080/",
          "height": 0
        },
        "id": "dXOp2vDcpAvA",
        "outputId": "cc3db687-b898-49e4-c6f9-c0e72570ed18"
      },
      "source": [
        "#valores estatísticos\n",
        "base_teste.describe()"
      ],
      "execution_count": 21,
      "outputs": [
        {
          "output_type": "execute_result",
          "data": {
            "text/html": [
              "<div>\n",
              "<style scoped>\n",
              "    .dataframe tbody tr th:only-of-type {\n",
              "        vertical-align: middle;\n",
              "    }\n",
              "\n",
              "    .dataframe tbody tr th {\n",
              "        vertical-align: top;\n",
              "    }\n",
              "\n",
              "    .dataframe thead th {\n",
              "        text-align: right;\n",
              "    }\n",
              "</style>\n",
              "<table border=\"1\" class=\"dataframe\">\n",
              "  <thead>\n",
              "    <tr style=\"text-align: right;\">\n",
              "      <th></th>\n",
              "      <th>Open</th>\n",
              "      <th>High</th>\n",
              "      <th>Low</th>\n",
              "      <th>Close</th>\n",
              "      <th>Adj Close</th>\n",
              "      <th>Volume</th>\n",
              "    </tr>\n",
              "  </thead>\n",
              "  <tbody>\n",
              "    <tr>\n",
              "      <th>count</th>\n",
              "      <td>252.000000</td>\n",
              "      <td>252.000000</td>\n",
              "      <td>252.000000</td>\n",
              "      <td>252.000000</td>\n",
              "      <td>252.000000</td>\n",
              "      <td>2.520000e+02</td>\n",
              "    </tr>\n",
              "    <tr>\n",
              "      <th>mean</th>\n",
              "      <td>12.474802</td>\n",
              "      <td>12.618056</td>\n",
              "      <td>12.319722</td>\n",
              "      <td>12.468333</td>\n",
              "      <td>11.141986</td>\n",
              "      <td>2.334522e+07</td>\n",
              "    </tr>\n",
              "    <tr>\n",
              "      <th>std</th>\n",
              "      <td>0.991542</td>\n",
              "      <td>0.989100</td>\n",
              "      <td>0.973310</td>\n",
              "      <td>0.980194</td>\n",
              "      <td>0.879070</td>\n",
              "      <td>1.629729e+07</td>\n",
              "    </tr>\n",
              "    <tr>\n",
              "      <th>min</th>\n",
              "      <td>10.300000</td>\n",
              "      <td>10.500000</td>\n",
              "      <td>10.200000</td>\n",
              "      <td>10.280000</td>\n",
              "      <td>9.183385</td>\n",
              "      <td>5.251400e+06</td>\n",
              "    </tr>\n",
              "    <tr>\n",
              "      <th>25%</th>\n",
              "      <td>11.670000</td>\n",
              "      <td>11.807500</td>\n",
              "      <td>11.485000</td>\n",
              "      <td>11.632500</td>\n",
              "      <td>10.391608</td>\n",
              "      <td>1.531358e+07</td>\n",
              "    </tr>\n",
              "    <tr>\n",
              "      <th>50%</th>\n",
              "      <td>12.405000</td>\n",
              "      <td>12.585000</td>\n",
              "      <td>12.320000</td>\n",
              "      <td>12.450000</td>\n",
              "      <td>11.121901</td>\n",
              "      <td>1.972140e+07</td>\n",
              "    </tr>\n",
              "    <tr>\n",
              "      <th>75%</th>\n",
              "      <td>13.300000</td>\n",
              "      <td>13.412500</td>\n",
              "      <td>13.142500</td>\n",
              "      <td>13.270000</td>\n",
              "      <td>11.863361</td>\n",
              "      <td>2.617838e+07</td>\n",
              "    </tr>\n",
              "    <tr>\n",
              "      <th>max</th>\n",
              "      <td>15.180000</td>\n",
              "      <td>15.450000</td>\n",
              "      <td>14.700000</td>\n",
              "      <td>14.860000</td>\n",
              "      <td>13.274816</td>\n",
              "      <td>1.574684e+08</td>\n",
              "    </tr>\n",
              "  </tbody>\n",
              "</table>\n",
              "</div>"
            ],
            "text/plain": [
              "             Open        High         Low       Close   Adj Close        Volume\n",
              "count  252.000000  252.000000  252.000000  252.000000  252.000000  2.520000e+02\n",
              "mean    12.474802   12.618056   12.319722   12.468333   11.141986  2.334522e+07\n",
              "std      0.991542    0.989100    0.973310    0.980194    0.879070  1.629729e+07\n",
              "min     10.300000   10.500000   10.200000   10.280000    9.183385  5.251400e+06\n",
              "25%     11.670000   11.807500   11.485000   11.632500   10.391608  1.531358e+07\n",
              "50%     12.405000   12.585000   12.320000   12.450000   11.121901  1.972140e+07\n",
              "75%     13.300000   13.412500   13.142500   13.270000   11.863361  2.617838e+07\n",
              "max     15.180000   15.450000   14.700000   14.860000   13.274816  1.574684e+08"
            ]
          },
          "metadata": {
            "tags": []
          },
          "execution_count": 21
        }
      ]
    },
    {
      "cell_type": "markdown",
      "metadata": {
        "id": "Cw-NIb9EpatP"
      },
      "source": [
        "##**5.2-Tratando os Valores Faltantes**"
      ]
    },
    {
      "cell_type": "code",
      "metadata": {
        "colab": {
          "base_uri": "https://localhost:8080/"
        },
        "id": "lthEX_TZniHb",
        "outputId": "7a6de1f3-6118-42d7-c4a5-65632266f88a"
      },
      "source": [
        "#valores faltantes\n",
        "base_teste.isna().sum()"
      ],
      "execution_count": 22,
      "outputs": [
        {
          "output_type": "execute_result",
          "data": {
            "text/plain": [
              "Open         0\n",
              "High         0\n",
              "Low          0\n",
              "Close        0\n",
              "Adj Close    0\n",
              "Volume       0\n",
              "dtype: int64"
            ]
          },
          "metadata": {
            "tags": []
          },
          "execution_count": 22
        }
      ]
    },
    {
      "cell_type": "code",
      "metadata": {
        "colab": {
          "base_uri": "https://localhost:8080/",
          "height": 0
        },
        "id": "uiH2j_UNpjqk",
        "outputId": "021abb31-092e-48c8-b9a5-8b797b262072"
      },
      "source": [
        "#encontrando onde os valores faltantes estão\n",
        "base_teste.loc[pd.isnull(base_teste['Open'])]\n",
        "base_teste.loc[pd.isnull(base_teste['High'])]\n",
        "base_teste.loc[pd.isnull(base_teste['Low'])]\n",
        "base_teste.loc[pd.isnull(base_teste['Close'])]\n",
        "base_teste.loc[pd.isnull(base_teste['Adj Close'])]\n",
        "base_teste.loc[pd.isnull(base_teste['Volume'])]"
      ],
      "execution_count": 23,
      "outputs": [
        {
          "output_type": "execute_result",
          "data": {
            "text/html": [
              "<div>\n",
              "<style scoped>\n",
              "    .dataframe tbody tr th:only-of-type {\n",
              "        vertical-align: middle;\n",
              "    }\n",
              "\n",
              "    .dataframe tbody tr th {\n",
              "        vertical-align: top;\n",
              "    }\n",
              "\n",
              "    .dataframe thead th {\n",
              "        text-align: right;\n",
              "    }\n",
              "</style>\n",
              "<table border=\"1\" class=\"dataframe\">\n",
              "  <thead>\n",
              "    <tr style=\"text-align: right;\">\n",
              "      <th></th>\n",
              "      <th>Open</th>\n",
              "      <th>High</th>\n",
              "      <th>Low</th>\n",
              "      <th>Close</th>\n",
              "      <th>Adj Close</th>\n",
              "      <th>Volume</th>\n",
              "    </tr>\n",
              "  </thead>\n",
              "  <tbody>\n",
              "  </tbody>\n",
              "</table>\n",
              "</div>"
            ],
            "text/plain": [
              "Empty DataFrame\n",
              "Columns: [Open, High, Low, Close, Adj Close, Volume]\n",
              "Index: []"
            ]
          },
          "metadata": {
            "tags": []
          },
          "execution_count": 23
        }
      ]
    },
    {
      "cell_type": "code",
      "metadata": {
        "id": "Bbw7axJ75lpn"
      },
      "source": [
        "#preenchendo os valores faltantes com o valor médio\n",
        "imputer = SimpleImputer(missing_values=np.nan, strategy='mean',verbose=0)\n",
        "imputer = imputer.fit(base_teste.iloc[:,0:6])\n",
        "base_teste.iloc[:,0:6] = imputer.transform(base_teste.iloc[:,0:6])"
      ],
      "execution_count": 24,
      "outputs": []
    },
    {
      "cell_type": "code",
      "metadata": {
        "colab": {
          "base_uri": "https://localhost:8080/",
          "height": 0
        },
        "id": "CXAi4QV8pw2x",
        "outputId": "198aef92-4937-4004-9a86-3170407aec09"
      },
      "source": [
        "#verificando novamente se ainda temos valores faltantes\n",
        "base_teste.loc[pd.isnull(base_teste['Open'])]\n",
        "base_teste.loc[pd.isnull(base_teste['High'])]\n",
        "base_teste.loc[pd.isnull(base_teste['Low'])]\n",
        "base_teste.loc[pd.isnull(base_teste['Close'])]\n",
        "base_teste.loc[pd.isnull(base_teste['Adj Close'])]\n",
        "base_teste.loc[pd.isnull(base_teste['Volume'])]"
      ],
      "execution_count": 25,
      "outputs": [
        {
          "output_type": "execute_result",
          "data": {
            "text/html": [
              "<div>\n",
              "<style scoped>\n",
              "    .dataframe tbody tr th:only-of-type {\n",
              "        vertical-align: middle;\n",
              "    }\n",
              "\n",
              "    .dataframe tbody tr th {\n",
              "        vertical-align: top;\n",
              "    }\n",
              "\n",
              "    .dataframe thead th {\n",
              "        text-align: right;\n",
              "    }\n",
              "</style>\n",
              "<table border=\"1\" class=\"dataframe\">\n",
              "  <thead>\n",
              "    <tr style=\"text-align: right;\">\n",
              "      <th></th>\n",
              "      <th>Open</th>\n",
              "      <th>High</th>\n",
              "      <th>Low</th>\n",
              "      <th>Close</th>\n",
              "      <th>Adj Close</th>\n",
              "      <th>Volume</th>\n",
              "    </tr>\n",
              "  </thead>\n",
              "  <tbody>\n",
              "  </tbody>\n",
              "</table>\n",
              "</div>"
            ],
            "text/plain": [
              "Empty DataFrame\n",
              "Columns: [Open, High, Low, Close, Adj Close, Volume]\n",
              "Index: []"
            ]
          },
          "metadata": {
            "tags": []
          },
          "execution_count": 25
        }
      ]
    },
    {
      "cell_type": "markdown",
      "metadata": {
        "id": "X1nZpS8Rp2zr"
      },
      "source": [
        "#**5.3-Tratamento dos valores nulos (iguais a 0)**"
      ]
    },
    {
      "cell_type": "code",
      "metadata": {
        "colab": {
          "base_uri": "https://localhost:8080/"
        },
        "id": "XYwer-dip-KB",
        "outputId": "9cb9a0c1-5801-49d3-a7ad-e183ab8c4499"
      },
      "source": [
        "#valores nulos\n",
        "(base_teste == 0).sum()"
      ],
      "execution_count": 26,
      "outputs": [
        {
          "output_type": "execute_result",
          "data": {
            "text/plain": [
              "Open         0\n",
              "High         0\n",
              "Low          0\n",
              "Close        0\n",
              "Adj Close    0\n",
              "Volume       0\n",
              "dtype: int64"
            ]
          },
          "metadata": {
            "tags": []
          },
          "execution_count": 26
        }
      ]
    },
    {
      "cell_type": "code",
      "metadata": {
        "colab": {
          "base_uri": "https://localhost:8080/",
          "height": 49
        },
        "id": "sFBo6iR5qEpS",
        "outputId": "056b3f04-94a0-4bf5-aca8-38bdaf7ef84e"
      },
      "source": [
        "#Encontrando os valores nulos\n",
        "base_teste.loc[base_teste['Volume'] == 0]"
      ],
      "execution_count": null,
      "outputs": [
        {
          "output_type": "execute_result",
          "data": {
            "text/html": [
              "<div>\n",
              "<style scoped>\n",
              "    .dataframe tbody tr th:only-of-type {\n",
              "        vertical-align: middle;\n",
              "    }\n",
              "\n",
              "    .dataframe tbody tr th {\n",
              "        vertical-align: top;\n",
              "    }\n",
              "\n",
              "    .dataframe thead th {\n",
              "        text-align: right;\n",
              "    }\n",
              "</style>\n",
              "<table border=\"1\" class=\"dataframe\">\n",
              "  <thead>\n",
              "    <tr style=\"text-align: right;\">\n",
              "      <th></th>\n",
              "      <th>Open</th>\n",
              "      <th>High</th>\n",
              "      <th>Low</th>\n",
              "      <th>Close</th>\n",
              "      <th>Adj Close</th>\n",
              "      <th>Volume</th>\n",
              "    </tr>\n",
              "  </thead>\n",
              "  <tbody>\n",
              "  </tbody>\n",
              "</table>\n",
              "</div>"
            ],
            "text/plain": [
              "Empty DataFrame\n",
              "Columns: [Open, High, Low, Close, Adj Close, Volume]\n",
              "Index: []"
            ]
          },
          "metadata": {
            "tags": []
          },
          "execution_count": 61
        }
      ]
    },
    {
      "cell_type": "code",
      "metadata": {
        "id": "ofkU-XjcqOQE"
      },
      "source": [
        "#preenchendo os valores nulos com o valor médio\n",
        "imputer = SimpleImputer(missing_values=0, strategy='mean',verbose=0)\n",
        "imputer = imputer.fit(base_teste.iloc[:,0:6])\n",
        "base_teste.iloc[:,0:6] = imputer.transform(base_teste.iloc[:,0:6])"
      ],
      "execution_count": null,
      "outputs": []
    },
    {
      "cell_type": "code",
      "metadata": {
        "colab": {
          "base_uri": "https://localhost:8080/",
          "height": 49
        },
        "id": "pYUeIwbnppRT",
        "outputId": "e499e4a6-4eee-4551-e5d4-7ea7aa74e6d1"
      },
      "source": [
        "#Verificando novamente se tem valores nulos\n",
        "base_teste.loc[base_teste['Volume'] == 0]"
      ],
      "execution_count": null,
      "outputs": [
        {
          "output_type": "execute_result",
          "data": {
            "text/html": [
              "<div>\n",
              "<style scoped>\n",
              "    .dataframe tbody tr th:only-of-type {\n",
              "        vertical-align: middle;\n",
              "    }\n",
              "\n",
              "    .dataframe tbody tr th {\n",
              "        vertical-align: top;\n",
              "    }\n",
              "\n",
              "    .dataframe thead th {\n",
              "        text-align: right;\n",
              "    }\n",
              "</style>\n",
              "<table border=\"1\" class=\"dataframe\">\n",
              "  <thead>\n",
              "    <tr style=\"text-align: right;\">\n",
              "      <th></th>\n",
              "      <th>Open</th>\n",
              "      <th>High</th>\n",
              "      <th>Low</th>\n",
              "      <th>Close</th>\n",
              "      <th>Adj Close</th>\n",
              "      <th>Volume</th>\n",
              "    </tr>\n",
              "  </thead>\n",
              "  <tbody>\n",
              "  </tbody>\n",
              "</table>\n",
              "</div>"
            ],
            "text/plain": [
              "Empty DataFrame\n",
              "Columns: [Open, High, Low, Close, Adj Close, Volume]\n",
              "Index: []"
            ]
          },
          "metadata": {
            "tags": []
          },
          "execution_count": 30
        }
      ]
    },
    {
      "cell_type": "markdown",
      "metadata": {
        "id": "N79Bjk6Yq6ci"
      },
      "source": [
        "##**5.4-Preparando a estrutura para teste**"
      ]
    },
    {
      "cell_type": "code",
      "metadata": {
        "id": "UFINH9OzUfDk"
      },
      "source": [
        "#concatenando a base de dados teste com o base de treinamento\n",
        "preco_real_teste = base_teste.iloc[:, 3:4].values\n",
        "frames = [base, base_teste]\n",
        "base_completa = pd.concat(frames)"
      ],
      "execution_count": 27,
      "outputs": []
    },
    {
      "cell_type": "code",
      "metadata": {
        "id": "-CdLW8IZUhLY"
      },
      "source": [
        "#pegando os 90 registros anteriores para percorrer a base teste e colocando no\n",
        "#no formato np.array\n",
        "entradas = base_completa[len(base_completa) - len(base_teste) - 90:].values\n",
        "entradas = normalizador.transform(entradas)\n",
        "Percorrer_teste = []\n",
        "for i in range(90, 342): \n",
        "    Percorrer_teste.append(entradas[i-90:i, 0:6])\n",
        "Percorrer_teste = np.array(Percorrer_teste)"
      ],
      "execution_count": 28,
      "outputs": []
    },
    {
      "cell_type": "code",
      "metadata": {
        "id": "_YdD2ZcaUi1w"
      },
      "source": [
        "#resultado da predição no formato MinMaxScaler\n",
        "previsoes = regressor.predict(Percorrer_teste)"
      ],
      "execution_count": 29,
      "outputs": []
    },
    {
      "cell_type": "code",
      "metadata": {
        "colab": {
          "base_uri": "https://localhost:8080/"
        },
        "id": "jQS0Ql4tUk2Z",
        "outputId": "e020ec85-2166-4c17-ac3d-9ca0ea36737a"
      },
      "source": [
        "#convertendo para a escala MinMaxScaler \n",
        "normalizador_previsao = MinMaxScaler(feature_range=(0,1))\n",
        "normalizador_previsao.fit_transform(base_treinamento[:,3:4])"
      ],
      "execution_count": 30,
      "outputs": [
        {
          "output_type": "execute_result",
          "data": {
            "text/plain": [
              "array([[0.80446603],\n",
              "       [0.81362721],\n",
              "       [0.82765523],\n",
              "       ...,\n",
              "       [0.31033494],\n",
              "       [0.3111938 ],\n",
              "       [0.31606067]])"
            ]
          },
          "metadata": {
            "tags": []
          },
          "execution_count": 30
        }
      ]
    },
    {
      "cell_type": "code",
      "metadata": {
        "id": "MP_GBjYJUnFe",
        "colab": {
          "base_uri": "https://localhost:8080/"
        },
        "outputId": "38f4babc-ffe6-4141-b4c2-90453adb51ce"
      },
      "source": [
        "#colocando a previsão no formato original para preparar a visualização no gráfico\n",
        "previsoes = normalizador_previsao.inverse_transform(previsoes)\n",
        "previsoes"
      ],
      "execution_count": 31,
      "outputs": [
        {
          "output_type": "execute_result",
          "data": {
            "text/plain": [
              "array([[13.267985 ],\n",
              "       [13.385642 ],\n",
              "       [13.25007  ],\n",
              "       [13.566933 ],\n",
              "       [13.947702 ],\n",
              "       [14.131854 ],\n",
              "       [14.397855 ],\n",
              "       [14.450643 ],\n",
              "       [14.279356 ],\n",
              "       [14.1484785],\n",
              "       [14.111794 ],\n",
              "       [14.152727 ],\n",
              "       [14.295529 ],\n",
              "       [14.529227 ],\n",
              "       [14.520074 ],\n",
              "       [14.596071 ],\n",
              "       [14.715334 ],\n",
              "       [14.123526 ],\n",
              "       [12.883493 ],\n",
              "       [12.392969 ],\n",
              "       [12.80694  ],\n",
              "       [13.102516 ],\n",
              "       [12.8201885],\n",
              "       [12.098066 ],\n",
              "       [11.651105 ],\n",
              "       [11.152558 ],\n",
              "       [10.775339 ],\n",
              "       [10.619771 ],\n",
              "       [10.609114 ],\n",
              "       [10.786481 ],\n",
              "       [11.111683 ],\n",
              "       [11.330219 ],\n",
              "       [11.485304 ],\n",
              "       [11.541872 ],\n",
              "       [11.5919695],\n",
              "       [11.576554 ],\n",
              "       [11.779795 ],\n",
              "       [12.03394  ],\n",
              "       [12.181231 ],\n",
              "       [12.194892 ],\n",
              "       [12.167919 ],\n",
              "       [12.081555 ],\n",
              "       [12.061563 ],\n",
              "       [12.239333 ],\n",
              "       [12.352432 ],\n",
              "       [12.397356 ],\n",
              "       [12.358505 ],\n",
              "       [12.506955 ],\n",
              "       [12.720252 ],\n",
              "       [12.914558 ],\n",
              "       [12.94799  ],\n",
              "       [12.941688 ],\n",
              "       [12.965586 ],\n",
              "       [13.218313 ],\n",
              "       [13.347457 ],\n",
              "       [13.310021 ],\n",
              "       [12.975708 ],\n",
              "       [12.750432 ],\n",
              "       [12.791524 ],\n",
              "       [12.717512 ],\n",
              "       [12.590905 ],\n",
              "       [12.717579 ],\n",
              "       [13.159753 ],\n",
              "       [13.407816 ],\n",
              "       [13.348387 ],\n",
              "       [13.275152 ],\n",
              "       [13.269334 ],\n",
              "       [13.490419 ],\n",
              "       [13.61147  ],\n",
              "       [13.579271 ],\n",
              "       [13.455161 ],\n",
              "       [13.352583 ],\n",
              "       [13.304147 ],\n",
              "       [13.393853 ],\n",
              "       [13.438845 ],\n",
              "       [13.426908 ],\n",
              "       [13.259997 ],\n",
              "       [13.16824  ],\n",
              "       [12.940374 ],\n",
              "       [12.780016 ],\n",
              "       [12.7970495],\n",
              "       [12.890744 ],\n",
              "       [12.932117 ],\n",
              "       [12.78616  ],\n",
              "       [12.602229 ],\n",
              "       [12.690551 ],\n",
              "       [12.734944 ],\n",
              "       [12.689915 ],\n",
              "       [12.682399 ],\n",
              "       [12.576141 ],\n",
              "       [12.571413 ],\n",
              "       [12.445983 ],\n",
              "       [12.342056 ],\n",
              "       [12.271495 ],\n",
              "       [12.071017 ],\n",
              "       [11.919578 ],\n",
              "       [11.803184 ],\n",
              "       [11.796705 ],\n",
              "       [11.939413 ],\n",
              "       [11.9933815],\n",
              "       [12.097021 ],\n",
              "       [12.355669 ],\n",
              "       [12.520265 ],\n",
              "       [12.6042185],\n",
              "       [12.60954  ],\n",
              "       [12.618754 ],\n",
              "       [12.686832 ],\n",
              "       [12.681291 ],\n",
              "       [12.682263 ],\n",
              "       [12.695995 ],\n",
              "       [12.670782 ],\n",
              "       [12.974773 ],\n",
              "       [13.309951 ],\n",
              "       [13.501972 ],\n",
              "       [13.3817425],\n",
              "       [13.137377 ],\n",
              "       [13.236604 ],\n",
              "       [13.476048 ],\n",
              "       [13.746825 ],\n",
              "       [13.73604  ],\n",
              "       [13.682936 ],\n",
              "       [13.5283785],\n",
              "       [13.47574  ],\n",
              "       [13.485134 ],\n",
              "       [13.537504 ],\n",
              "       [13.80909  ],\n",
              "       [13.66228  ],\n",
              "       [13.493751 ],\n",
              "       [13.266894 ],\n",
              "       [13.315032 ],\n",
              "       [13.409315 ],\n",
              "       [13.691376 ],\n",
              "       [13.919057 ],\n",
              "       [13.958851 ],\n",
              "       [13.998434 ],\n",
              "       [14.061217 ],\n",
              "       [14.055132 ],\n",
              "       [14.051702 ],\n",
              "       [14.109383 ],\n",
              "       [14.078109 ],\n",
              "       [13.935093 ],\n",
              "       [13.694062 ],\n",
              "       [13.492519 ],\n",
              "       [13.447429 ],\n",
              "       [13.416862 ],\n",
              "       [13.385084 ],\n",
              "       [13.276387 ],\n",
              "       [12.981561 ],\n",
              "       [12.667716 ],\n",
              "       [12.203105 ],\n",
              "       [11.987494 ],\n",
              "       [11.901    ],\n",
              "       [12.035142 ],\n",
              "       [12.019574 ],\n",
              "       [11.781221 ],\n",
              "       [11.681408 ],\n",
              "       [11.537428 ],\n",
              "       [11.355399 ],\n",
              "       [11.239868 ],\n",
              "       [11.134499 ],\n",
              "       [11.079164 ],\n",
              "       [11.086598 ],\n",
              "       [11.101946 ],\n",
              "       [11.000274 ],\n",
              "       [10.817507 ],\n",
              "       [10.690062 ],\n",
              "       [10.684646 ],\n",
              "       [10.824158 ],\n",
              "       [11.088758 ],\n",
              "       [11.237535 ],\n",
              "       [11.358785 ],\n",
              "       [11.494914 ],\n",
              "       [11.576259 ],\n",
              "       [11.676638 ],\n",
              "       [11.808567 ],\n",
              "       [11.955259 ],\n",
              "       [12.1786175],\n",
              "       [12.359481 ],\n",
              "       [12.272624 ],\n",
              "       [12.135415 ],\n",
              "       [12.032091 ],\n",
              "       [11.928516 ],\n",
              "       [11.85345  ],\n",
              "       [11.782078 ],\n",
              "       [11.634635 ],\n",
              "       [11.565676 ],\n",
              "       [11.60208  ],\n",
              "       [11.652752 ],\n",
              "       [11.672258 ],\n",
              "       [11.675791 ],\n",
              "       [11.453356 ],\n",
              "       [11.288856 ],\n",
              "       [11.407502 ],\n",
              "       [11.559889 ],\n",
              "       [11.527091 ],\n",
              "       [11.437605 ],\n",
              "       [11.471084 ],\n",
              "       [11.736934 ],\n",
              "       [11.877102 ],\n",
              "       [11.81474  ],\n",
              "       [11.61401  ],\n",
              "       [11.486522 ],\n",
              "       [11.454221 ],\n",
              "       [11.533993 ],\n",
              "       [11.698497 ],\n",
              "       [11.845916 ],\n",
              "       [11.865958 ],\n",
              "       [12.005895 ],\n",
              "       [12.245204 ],\n",
              "       [12.358261 ],\n",
              "       [12.3299675],\n",
              "       [12.160439 ],\n",
              "       [12.189599 ],\n",
              "       [12.416654 ],\n",
              "       [12.598797 ],\n",
              "       [12.524125 ],\n",
              "       [12.414696 ],\n",
              "       [12.196944 ],\n",
              "       [11.940156 ],\n",
              "       [11.835694 ],\n",
              "       [11.692053 ],\n",
              "       [11.564268 ],\n",
              "       [11.568226 ],\n",
              "       [11.568835 ],\n",
              "       [11.581326 ],\n",
              "       [11.522311 ],\n",
              "       [11.520742 ],\n",
              "       [11.741204 ],\n",
              "       [12.047432 ],\n",
              "       [12.180672 ],\n",
              "       [12.133334 ],\n",
              "       [12.042876 ],\n",
              "       [12.132965 ],\n",
              "       [12.229586 ],\n",
              "       [12.315515 ],\n",
              "       [12.347677 ],\n",
              "       [12.456544 ],\n",
              "       [12.564703 ],\n",
              "       [12.589573 ],\n",
              "       [12.647846 ],\n",
              "       [12.830954 ],\n",
              "       [13.073273 ],\n",
              "       [13.285942 ],\n",
              "       [13.291291 ],\n",
              "       [13.20535  ],\n",
              "       [13.2414465],\n",
              "       [13.3373   ],\n",
              "       [13.424221 ],\n",
              "       [13.520337 ],\n",
              "       [13.559129 ],\n",
              "       [13.493655 ],\n",
              "       [13.446562 ]], dtype=float32)"
            ]
          },
          "metadata": {
            "tags": []
          },
          "execution_count": 31
        }
      ]
    },
    {
      "cell_type": "markdown",
      "metadata": {
        "id": "lEjN0sRdrGmK"
      },
      "source": [
        "##**6-Análise dos resuldatos**"
      ]
    },
    {
      "cell_type": "code",
      "metadata": {
        "id": "beWuUgy2Uoe_",
        "colab": {
          "base_uri": "https://localhost:8080/",
          "height": 485
        },
        "outputId": "7b4af14a-9ba7-404f-f8f2-0b96cd2c59c9"
      },
      "source": [
        "#Visualizando o gráfico da Previsão da rede\n",
        "plt.plot(preco_real_teste, color = 'red', label = 'Preço real')\n",
        "plt.plot(previsoes, color = 'blue', label = 'Previsões')\n",
        "plt.title('Previsão do preço das ações')\n",
        "plt.xlabel('Tempo em dias')\n",
        "plt.ylabel('Preço das ações')\n",
        "plt.legend()\n",
        "plt.show()"
      ],
      "execution_count": 32,
      "outputs": [
        {
          "output_type": "display_data",
          "data": {
            "image/png": "[encoded data removed]",
            "text/plain": [
              "<Figure size 1800x864 with 1 Axes>"
            ]
          },
          "metadata": {
            "tags": []
          }
        }
      ]
    },
    {
      "cell_type": "code",
      "metadata": {
        "id": "hKA0-lbgUtH-",
        "colab": {
          "base_uri": "https://localhost:8080/",
          "height": 297
        },
        "outputId": "8c368f2e-010d-48da-ddd6-cdc5b5a75488"
      },
      "source": [
        "#estatísticas do preço real comparado com a previsão\n",
        "df1 = pd.DataFrame(preco_real_teste).T\n",
        "df2 = pd.DataFrame(previsoes).T\n",
        "\n",
        "df3 = pd.concat([df1,df2]).T\n",
        "df3.columns = ['Preco real', 'Previsoes']\n",
        "df3.describe()"
      ],
      "execution_count": 33,
      "outputs": [
        {
          "output_type": "execute_result",
          "data": {
            "text/html": [
              "<div>\n",
              "<style scoped>\n",
              "    .dataframe tbody tr th:only-of-type {\n",
              "        vertical-align: middle;\n",
              "    }\n",
              "\n",
              "    .dataframe tbody tr th {\n",
              "        vertical-align: top;\n",
              "    }\n",
              "\n",
              "    .dataframe thead th {\n",
              "        text-align: right;\n",
              "    }\n",
              "</style>\n",
              "<table border=\"1\" class=\"dataframe\">\n",
              "  <thead>\n",
              "    <tr style=\"text-align: right;\">\n",
              "      <th></th>\n",
              "      <th>Preco real</th>\n",
              "      <th>Previsoes</th>\n",
              "    </tr>\n",
              "  </thead>\n",
              "  <tbody>\n",
              "    <tr>\n",
              "      <th>count</th>\n",
              "      <td>252.000000</td>\n",
              "      <td>252.000000</td>\n",
              "    </tr>\n",
              "    <tr>\n",
              "      <th>mean</th>\n",
              "      <td>12.468333</td>\n",
              "      <td>12.557261</td>\n",
              "    </tr>\n",
              "    <tr>\n",
              "      <th>std</th>\n",
              "      <td>0.980194</td>\n",
              "      <td>0.925580</td>\n",
              "    </tr>\n",
              "    <tr>\n",
              "      <th>min</th>\n",
              "      <td>10.280000</td>\n",
              "      <td>10.609114</td>\n",
              "    </tr>\n",
              "    <tr>\n",
              "      <th>25%</th>\n",
              "      <td>11.632500</td>\n",
              "      <td>11.807221</td>\n",
              "    </tr>\n",
              "    <tr>\n",
              "      <th>50%</th>\n",
              "      <td>12.450000</td>\n",
              "      <td>12.568058</td>\n",
              "    </tr>\n",
              "    <tr>\n",
              "      <th>75%</th>\n",
              "      <td>13.270000</td>\n",
              "      <td>13.311274</td>\n",
              "    </tr>\n",
              "    <tr>\n",
              "      <th>max</th>\n",
              "      <td>14.860000</td>\n",
              "      <td>14.715334</td>\n",
              "    </tr>\n",
              "  </tbody>\n",
              "</table>\n",
              "</div>"
            ],
            "text/plain": [
              "       Preco real   Previsoes\n",
              "count  252.000000  252.000000\n",
              "mean    12.468333   12.557261\n",
              "std      0.980194    0.925580\n",
              "min     10.280000   10.609114\n",
              "25%     11.632500   11.807221\n",
              "50%     12.450000   12.568058\n",
              "75%     13.270000   13.311274\n",
              "max     14.860000   14.715334"
            ]
          },
          "metadata": {
            "tags": []
          },
          "execution_count": 33
        }
      ]
    },
    {
      "cell_type": "code",
      "metadata": {
        "id": "ZjIrFF8Y_M9N"
      },
      "source": [
        "#df2 = pd.DataFrame(previsoes)\n",
        "#df2.describe()"
      ],
      "execution_count": null,
      "outputs": []
    },
    {
      "cell_type": "code",
      "metadata": {
        "id": "TKfgSJAIV5a_"
      },
      "source": [
        "#df1 = pd.DataFrame(preco_real_teste)\n",
        "#df1.describe()"
      ],
      "execution_count": null,
      "outputs": []
    }
  ]
}