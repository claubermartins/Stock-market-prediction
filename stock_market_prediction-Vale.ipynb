{
  "nbformat": 4,
  "nbformat_minor": 0,
  "metadata": {
    "colab": {
      "name": "stock-market-prediction.ipynb",
      "provenance": [],
      "collapsed_sections": [
        "UiXZAchqFuC-",
        "SuPg1RFvQyMS",
        "8MLClRMWPwTL",
        "hCiQYMqPGHuG",
        "4IDwP-XV_Ohd",
        "RtFahmEgGAzZ"
      ],
      "authorship_tag": "ABX9TyO2EDBwiG1D2hAeWSaceGq1",
      "include_colab_link": true
    },
    "kernelspec": {
      "name": "python3",
      "display_name": "Python 3"
    },
    "accelerator": "GPU"
  },
  "cells": [
    {
      "cell_type": "markdown",
      "metadata": {
        "id": "view-in-github",
        "colab_type": "text"
      },
      "source": [
        "<a href=\"https://colab.research.google.com/github/claubermartins/Stock-market-prediction/blob/main/stock_market_prediction-Vale.ipynb\" target=\"_parent\"><img src=\"https://colab.research.google.com/assets/colab-badge.svg\" alt=\"Open In Colab\"/></a>"
      ]
    },
    {
      "cell_type": "code",
      "metadata": {
        "colab": {
          "base_uri": "https://localhost:8080/"
        },
        "id": "XjlKRgiDRdpq",
        "outputId": "b106e0bb-192b-41ec-cb8d-42d2165aaaa3"
      },
      "source": [
        "pip install inflection"
      ],
      "execution_count": 1,
      "outputs": [
        {
          "output_type": "stream",
          "text": [
            "Collecting inflection\n",
            "  Downloading https://files.pythonhosted.org/packages/59/91/aa6bde563e0085a02a435aa99b49ef75b0a4b062635e606dab23ce18d720/inflection-0.5.1-py2.py3-none-any.whl\n",
            "Installing collected packages: inflection\n",
            "Successfully installed inflection-0.5.1\n"
          ],
          "name": "stdout"
        }
      ]
    },
    {
      "cell_type": "markdown",
      "metadata": {
        "id": "UiXZAchqFuC-"
      },
      "source": [
        "#**1-Importando bibliotecas**"
      ]
    },
    {
      "cell_type": "code",
      "metadata": {
        "id": "ZjQg-8c_--wP"
      },
      "source": [
        "from tensorflow.keras.models import Sequential \n",
        "from tensorflow.keras.layers import Dense, Dropout, LSTM\n",
        "from tensorflow.keras.callbacks import EarlyStopping \n",
        "from sklearn.preprocessing import MinMaxScaler\n",
        "from sklearn.impute import SimpleImputer\n",
        "import numpy as np\n",
        "import pandas as pd\n",
        "import matplotlib.pyplot as plt\n",
        "import tensorflow as tf\n",
        "import math\n",
        "import seaborn as sns\n",
        "import datetime\n",
        "import inflection\n",
        "from IPython.core.display import HTML"
      ],
      "execution_count": 3,
      "outputs": []
    },
    {
      "cell_type": "markdown",
      "metadata": {
        "id": "SuPg1RFvQyMS"
      },
      "source": [
        "#**2-Funções auxiliares para o Jupyter Notebook**"
      ]
    },
    {
      "cell_type": "code",
      "metadata": {
        "id": "2vKvPdvDPJHc"
      },
      "source": [
        "def jupyter_settings():\n",
        "    %matplotlib inline\n",
        "    %pylab inline\n",
        "    \n",
        "    plt.style.use( 'bmh' )\n",
        "    plt.rcParams['figure.figsize'] = [25, 12]\n",
        "    plt.rcParams['font.size'] = 24\n",
        "    \n",
        "    display( HTML( '<style>.container { width:100% !important; }</style>') )\n",
        "    pd.options.display.max_columns = None\n",
        "    pd.options.display.max_rows = None\n",
        "    pd.set_option( 'display.expand_frame_repr', False )\n",
        "    \n",
        "    sns.set()"
      ],
      "execution_count": 4,
      "outputs": []
    },
    {
      "cell_type": "code",
      "metadata": {
        "colab": {
          "base_uri": "https://localhost:8080/",
          "height": 34
        },
        "id": "PGJn-AaoMxuy",
        "outputId": "99c0d7e7-68ae-4e99-f123-98f7c1e25bfb"
      },
      "source": [
        "jupyter_settings()"
      ],
      "execution_count": 5,
      "outputs": [
        {
          "output_type": "stream",
          "text": [
            "Populating the interactive namespace from numpy and matplotlib\n"
          ],
          "name": "stdout"
        },
        {
          "output_type": "display_data",
          "data": {
            "text/html": [
              "<style>.container { width:100% !important; }</style>"
            ],
            "text/plain": [
              "<IPython.core.display.HTML object>"
            ]
          },
          "metadata": {
            "tags": []
          }
        }
      ]
    },
    {
      "cell_type": "markdown",
      "metadata": {
        "id": "c_3core8Shq6"
      },
      "source": [
        "#**2.1Método de importação de arquivos do Google Colab**"
      ]
    },
    {
      "cell_type": "code",
      "metadata": {
        "id": "cTk_YEVdyms3",
        "colab": {
          "resources": {
            "http://localhost:8080/nbextensions/google.colab/files.js": {
              "data": "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",
              "ok": true,
              "headers": [
                [
                  "content-type",
                  "application/javascript"
                ]
              ],
              "status": 200,
              "status_text": ""
            }
          },
          "base_uri": "https://localhost:8080/",
          "height": 157
        },
        "outputId": "33c2811a-2d4d-4661-e79e-53a6b783037f"
      },
      "source": [
        "from google.colab import files\n",
        "upload = files.upload()\n",
        "print(\"downloaded files: \")\n",
        "print(*upload, sep = \"\\n\")"
      ],
      "execution_count": 6,
      "outputs": [
        {
          "output_type": "display_data",
          "data": {
            "text/html": [
              "\n",
              "     <input type=\"file\" id=\"files-e7374675-db11-4ea8-bf99-edf3807b5893\" name=\"files[]\" multiple disabled\n",
              "        style=\"border:none\" />\n",
              "     <output id=\"result-e7374675-db11-4ea8-bf99-edf3807b5893\">\n",
              "      Upload widget is only available when the cell has been executed in the\n",
              "      current browser session. Please rerun this cell to enable.\n",
              "      </output>\n",
              "      <script src=\"/nbextensions/google.colab/files.js\"></script> "
            ],
            "text/plain": [
              "<IPython.core.display.HTML object>"
            ]
          },
          "metadata": {
            "tags": []
          }
        },
        {
          "output_type": "stream",
          "text": [
            "Saving VALE-teste.csv to VALE-teste.csv\n",
            "Saving VALE-treinamento.csv to VALE-treinamento.csv\n",
            "downloaded files: \n",
            "VALE-teste.csv\n",
            "VALE-treinamento.csv\n"
          ],
          "name": "stdout"
        }
      ]
    },
    {
      "cell_type": "markdown",
      "metadata": {
        "id": "8MLClRMWPwTL"
      },
      "source": [
        "#**3-Tratamento dos dados**"
      ]
    },
    {
      "cell_type": "markdown",
      "metadata": {
        "id": "DOJanakhS-s2"
      },
      "source": [
        "##**3.1-Importando os dados**"
      ]
    },
    {
      "cell_type": "code",
      "metadata": {
        "id": "vYFCwA5GTB2j"
      },
      "source": [
        "base = pd.read_csv('VALE-treinamento.csv')\n",
        "base = base.drop('Date', axis = 1)"
      ],
      "execution_count": 7,
      "outputs": []
    },
    {
      "cell_type": "code",
      "metadata": {
        "colab": {
          "base_uri": "https://localhost:8080/",
          "height": 297
        },
        "id": "SD9oSvK-NE0Y",
        "outputId": "2ec7927b-d57b-499c-ac65-2603f05c217e"
      },
      "source": [
        "#valores estatísticos\n",
        "base.describe()"
      ],
      "execution_count": 8,
      "outputs": [
        {
          "output_type": "execute_result",
          "data": {
            "text/html": [
              "<div>\n",
              "<style scoped>\n",
              "    .dataframe tbody tr th:only-of-type {\n",
              "        vertical-align: middle;\n",
              "    }\n",
              "\n",
              "    .dataframe tbody tr th {\n",
              "        vertical-align: top;\n",
              "    }\n",
              "\n",
              "    .dataframe thead th {\n",
              "        text-align: right;\n",
              "    }\n",
              "</style>\n",
              "<table border=\"1\" class=\"dataframe\">\n",
              "  <thead>\n",
              "    <tr style=\"text-align: right;\">\n",
              "      <th></th>\n",
              "      <th>Open</th>\n",
              "      <th>High</th>\n",
              "      <th>Low</th>\n",
              "      <th>Close</th>\n",
              "      <th>Adj Close</th>\n",
              "      <th>Volume</th>\n",
              "    </tr>\n",
              "  </thead>\n",
              "  <tbody>\n",
              "    <tr>\n",
              "      <th>count</th>\n",
              "      <td>2264.000000</td>\n",
              "      <td>2264.000000</td>\n",
              "      <td>2264.000000</td>\n",
              "      <td>2264.000000</td>\n",
              "      <td>2264.000000</td>\n",
              "      <td>2.264000e+03</td>\n",
              "    </tr>\n",
              "    <tr>\n",
              "      <th>mean</th>\n",
              "      <td>15.857491</td>\n",
              "      <td>16.065362</td>\n",
              "      <td>15.619223</td>\n",
              "      <td>15.844717</td>\n",
              "      <td>11.276752</td>\n",
              "      <td>2.345833e+07</td>\n",
              "    </tr>\n",
              "    <tr>\n",
              "      <th>std</th>\n",
              "      <td>8.949669</td>\n",
              "      <td>9.028926</td>\n",
              "      <td>8.842143</td>\n",
              "      <td>8.943359</td>\n",
              "      <td>5.237754</td>\n",
              "      <td>1.004303e+07</td>\n",
              "    </tr>\n",
              "    <tr>\n",
              "      <th>min</th>\n",
              "      <td>2.190000</td>\n",
              "      <td>2.240000</td>\n",
              "      <td>2.130000</td>\n",
              "      <td>2.150000</td>\n",
              "      <td>1.756097</td>\n",
              "      <td>4.499500e+06</td>\n",
              "    </tr>\n",
              "    <tr>\n",
              "      <th>25%</th>\n",
              "      <td>8.690000</td>\n",
              "      <td>8.827500</td>\n",
              "      <td>8.500000</td>\n",
              "      <td>8.687500</td>\n",
              "      <td>7.142096</td>\n",
              "      <td>1.646215e+07</td>\n",
              "    </tr>\n",
              "    <tr>\n",
              "      <th>50%</th>\n",
              "      <td>13.900000</td>\n",
              "      <td>14.060000</td>\n",
              "      <td>13.720000</td>\n",
              "      <td>13.900000</td>\n",
              "      <td>11.197578</td>\n",
              "      <td>2.146040e+07</td>\n",
              "    </tr>\n",
              "    <tr>\n",
              "      <th>75%</th>\n",
              "      <td>22.380001</td>\n",
              "      <td>22.680000</td>\n",
              "      <td>22.032501</td>\n",
              "      <td>22.340000</td>\n",
              "      <td>14.926006</td>\n",
              "      <td>2.797898e+07</td>\n",
              "    </tr>\n",
              "    <tr>\n",
              "      <th>max</th>\n",
              "      <td>37.060001</td>\n",
              "      <td>37.250000</td>\n",
              "      <td>36.480000</td>\n",
              "      <td>37.080002</td>\n",
              "      <td>23.379416</td>\n",
              "      <td>8.622050e+07</td>\n",
              "    </tr>\n",
              "  </tbody>\n",
              "</table>\n",
              "</div>"
            ],
            "text/plain": [
              "              Open         High          Low        Close    Adj Close        Volume\n",
              "count  2264.000000  2264.000000  2264.000000  2264.000000  2264.000000  2.264000e+03\n",
              "mean     15.857491    16.065362    15.619223    15.844717    11.276752  2.345833e+07\n",
              "std       8.949669     9.028926     8.842143     8.943359     5.237754  1.004303e+07\n",
              "min       2.190000     2.240000     2.130000     2.150000     1.756097  4.499500e+06\n",
              "25%       8.690000     8.827500     8.500000     8.687500     7.142096  1.646215e+07\n",
              "50%      13.900000    14.060000    13.720000    13.900000    11.197578  2.146040e+07\n",
              "75%      22.380001    22.680000    22.032501    22.340000    14.926006  2.797898e+07\n",
              "max      37.060001    37.250000    36.480000    37.080002    23.379416  8.622050e+07"
            ]
          },
          "metadata": {
            "tags": []
          },
          "execution_count": 8
        }
      ]
    },
    {
      "cell_type": "code",
      "metadata": {
        "colab": {
          "base_uri": "https://localhost:8080/"
        },
        "id": "fbKUPwPSNJqm",
        "outputId": "3075841f-90c3-4bfd-f36b-8947fcaf03bc"
      },
      "source": [
        "base.dtypes"
      ],
      "execution_count": 9,
      "outputs": [
        {
          "output_type": "execute_result",
          "data": {
            "text/plain": [
              "Open         float64\n",
              "High         float64\n",
              "Low          float64\n",
              "Close        float64\n",
              "Adj Close    float64\n",
              "Volume         int64\n",
              "dtype: object"
            ]
          },
          "metadata": {
            "tags": []
          },
          "execution_count": 9
        }
      ]
    },
    {
      "cell_type": "markdown",
      "metadata": {
        "id": "bCTD3wo2TfZF"
      },
      "source": [
        "##**3.2-Tratando os Valores Faltantes**"
      ]
    },
    {
      "cell_type": "code",
      "metadata": {
        "colab": {
          "base_uri": "https://localhost:8080/"
        },
        "id": "H60SOo8MTjjP",
        "outputId": "4031cc03-d400-4ecc-ea18-c5cf116739ab"
      },
      "source": [
        "#valores faltantes\n",
        "base.isna().sum()"
      ],
      "execution_count": 10,
      "outputs": [
        {
          "output_type": "execute_result",
          "data": {
            "text/plain": [
              "Open         0\n",
              "High         0\n",
              "Low          0\n",
              "Close        0\n",
              "Adj Close    0\n",
              "Volume       0\n",
              "dtype: int64"
            ]
          },
          "metadata": {
            "tags": []
          },
          "execution_count": 10
        }
      ]
    },
    {
      "cell_type": "code",
      "metadata": {
        "id": "H-DMfyHXTkdi"
      },
      "source": [
        "#encontrando onde os valores faltantes estão\n",
        "base.loc[pd.isnull(base['Open'])]\n",
        "base.loc[pd.isnull(base['High'])]\n",
        "base.loc[pd.isnull(base['Low'])]\n",
        "base.loc[pd.isnull(base['Close'])]\n",
        "base.loc[pd.isnull(base['Adj Close'])]\n",
        "base.loc[pd.isnull(base['Volume'])]"
      ],
      "execution_count": null,
      "outputs": []
    },
    {
      "cell_type": "code",
      "metadata": {
        "id": "6q0YFzy9TmPD"
      },
      "source": [
        "#preenchendo os valores nulos com o valor médio\n",
        "imputer = SimpleImputer(missing_values=np.nan, strategy='mean',verbose=0)\n",
        "imputer = imputer.fit(base.iloc[:,0:6])\n",
        "base.iloc[:,0:6] = imputer.transform(base.iloc[:,0:6])"
      ],
      "execution_count": null,
      "outputs": []
    },
    {
      "cell_type": "code",
      "metadata": {
        "id": "gQC2HfFnTpe2"
      },
      "source": [
        "#verificando novamente se ainda temos valores faltantes\n",
        "base.loc[pd.isnull(base['Open'])]\n",
        "base.loc[pd.isnull(base['High'])]\n",
        "base.loc[pd.isnull(base['Low'])]\n",
        "base.loc[pd.isnull(base['Close'])]\n",
        "base.loc[pd.isnull(base['Adj Close'])]\n",
        "base.loc[pd.isnull(base['Volume'])]"
      ],
      "execution_count": null,
      "outputs": []
    },
    {
      "cell_type": "markdown",
      "metadata": {
        "id": "_WuI_UbmTt3W"
      },
      "source": [
        "#**3.3-Tratamento dos valores nulos (iguais a 0)**"
      ]
    },
    {
      "cell_type": "code",
      "metadata": {
        "colab": {
          "base_uri": "https://localhost:8080/"
        },
        "id": "hyRiBN32Twb2",
        "outputId": "b1248e04-6886-41c5-8827-cfa16aea6037"
      },
      "source": [
        "#valores nulos\n",
        "(base == 0).sum()"
      ],
      "execution_count": 11,
      "outputs": [
        {
          "output_type": "execute_result",
          "data": {
            "text/plain": [
              "Open         0\n",
              "High         0\n",
              "Low          0\n",
              "Close        0\n",
              "Adj Close    0\n",
              "Volume       0\n",
              "dtype: int64"
            ]
          },
          "metadata": {
            "tags": []
          },
          "execution_count": 11
        }
      ]
    },
    {
      "cell_type": "code",
      "metadata": {
        "id": "nQPTB9_TT3Dy"
      },
      "source": [
        "#Encontrando os valores nulos\n",
        "base.loc[base['Volume'] == 0]"
      ],
      "execution_count": null,
      "outputs": []
    },
    {
      "cell_type": "code",
      "metadata": {
        "id": "352jPyV0T5JJ"
      },
      "source": [
        "#preenchendo os valores nulos com o valor médio\n",
        "imputer = SimpleImputer(missing_values=0, strategy='mean',verbose=0)\n",
        "imputer = imputer.fit(base.iloc[:,0:6])\n",
        "base.iloc[:,0:6] = imputer.transform(base.iloc[:,0:6])"
      ],
      "execution_count": null,
      "outputs": []
    },
    {
      "cell_type": "code",
      "metadata": {
        "id": "xI5JdDykT66_"
      },
      "source": [
        "#Verificando novamente se ainda temos valores nulos\n",
        "base.loc[base['Volume'] == 0]"
      ],
      "execution_count": null,
      "outputs": []
    },
    {
      "cell_type": "code",
      "metadata": {
        "id": "NYW0UUz0T9Kq"
      },
      "source": [
        "#base = base.dropna()"
      ],
      "execution_count": null,
      "outputs": []
    },
    {
      "cell_type": "code",
      "metadata": {
        "id": "ceOotOwsT_Er"
      },
      "source": [
        "#base.sample()"
      ],
      "execution_count": null,
      "outputs": []
    },
    {
      "cell_type": "markdown",
      "metadata": {
        "id": "hCiQYMqPGHuG"
      },
      "source": [
        "#**-Descrição dos dados** IGNORE ESTA CÉLULA"
      ]
    },
    {
      "cell_type": "code",
      "metadata": {
        "id": "xalwLdRSGLRD"
      },
      "source": [
        "#Tendencia central - mean, median\n",
        "ct1 = pd.DataFrame(base.apply(np.mean)).T #T transpondo \n",
        "ct2 = pd.DataFrame(base.apply(np.median)).T\n",
        "#Dispersão - std(desvio padrão), min, max, range\n",
        "d1 = pd.DataFrame(base.apply(np.std)).T\n",
        "d2 = pd.DataFrame(base.apply(min)).T\n",
        "d3 = pd.DataFrame(base.apply(max)).T\n",
        "d4 = pd.DataFrame(base.apply(lambda x: x.max() - x.min())).T\n",
        "#concatenate\n",
        "m = pd.concat([d2,d3,d4,ct1,ct2,d1]).T.reset_index()\n",
        "m.columns = ['attributes','min','max','range', 'mean', 'median', 'std']\n",
        "m"
      ],
      "execution_count": null,
      "outputs": []
    },
    {
      "cell_type": "code",
      "metadata": {
        "colab": {
          "base_uri": "https://localhost:8080/"
        },
        "id": "j62Bj8jOQz_G",
        "outputId": "9e5055ec-b49f-4f7d-e3c1-b3fc2b1dae42"
      },
      "source": [
        "base.shape[0]"
      ],
      "execution_count": null,
      "outputs": [
        {
          "output_type": "execute_result",
          "data": {
            "text/plain": [
              "2478"
            ]
          },
          "metadata": {
            "tags": []
          },
          "execution_count": 20
        }
      ]
    },
    {
      "cell_type": "markdown",
      "metadata": {
        "id": "4IDwP-XV_Ohd"
      },
      "source": [
        "#**4-Treinamento da rede**"
      ]
    },
    {
      "cell_type": "code",
      "metadata": {
        "id": "mpo6RlDsUHNJ"
      },
      "source": [
        "#normalizando a base de dados com o MinMaxScaler\n",
        "base_treinamento = base.iloc[:, 0:6].values\n",
        "normalizador = MinMaxScaler(feature_range=(0,1))\n",
        "base_treinamento_normalizada = normalizador.fit_transform(base_treinamento)"
      ],
      "execution_count": 12,
      "outputs": []
    },
    {
      "cell_type": "code",
      "metadata": {
        "id": "d-LD4OEaUNf7"
      },
      "source": [
        "#Comparando a predição com o preço real\n",
        "previsores = []\n",
        "preco_real = []\n",
        "for i in range(90, 2264):\n",
        "    previsores.append(base_treinamento_normalizada[i-90:i, 0:6])\n",
        "    preco_real.append(base_treinamento_normalizada[i, 0])\n",
        "previsores, preco_real = np.array(previsores), np.array(preco_real)\n"
      ],
      "execution_count": 13,
      "outputs": []
    },
    {
      "cell_type": "code",
      "metadata": {
        "colab": {
          "base_uri": "https://localhost:8080/"
        },
        "id": "ZftXowA9URdt",
        "outputId": "9d1ef562-9024-4122-bf84-3aa73119047f"
      },
      "source": [
        "#estrutura da rede neural \n",
        "regressor = Sequential()\n",
        "regressor.add(LSTM(units = 100, return_sequences = True, input_shape = (previsores.shape[1], 6)))\n",
        "regressor.add(Dropout(0.3))\n",
        "\n",
        "regressor.add(LSTM(units = 50, return_sequences = True))\n",
        "regressor.add(Dropout(0.3))\n",
        "\n",
        "regressor.add(LSTM(units = 50, return_sequences = True))\n",
        "regressor.add(Dropout(0.3))\n",
        "\n",
        "regressor.add(LSTM(units = 50))\n",
        "regressor.add(Dropout(0.3))\n",
        "\n",
        "regressor.add(Dense(units = 1, activation = 'sigmoid'))\n",
        "\n",
        "#es = EarlyStopping(monitor = 'loss', min_delta = 1e-15, patience = 20, verbose = 1)\n",
        "\n",
        "#regressor.compile(optimizer = 'RMSprop', loss = 'mean_squared_error',\n",
        "#                  metrics = ['mean_absolute_error'])\n",
        "opt = tf.keras.optimizers.Adam(amsgrad=True)\n",
        "regressor.compile(optimizer = opt, loss = 'mean_squared_error',\n",
        "                  metrics = ['mean_absolute_error'])\n",
        "#opt = tf.keras.optimizers.RMSprop(centered=True)\n",
        "#regressor.compile(optimizer = opt, loss = 'mean_squared_error',\n",
        "#                 metrics = ['mean_absolute_error'])\n",
        "\n",
        "#regressor.fit(previsores, preco_real, epochs = 600, batch_size = 32,\n",
        "#              callbacks = [es])\n",
        "regressor.fit(previsores, preco_real, epochs = 600, batch_size = 32\n",
        "              )"
      ],
      "execution_count": 14,
      "outputs": [
        {
          "output_type": "stream",
          "text": [
            "Epoch 1/600\n",
            "68/68 [==============================] - 37s 17ms/step - loss: 0.0281 - mean_absolute_error: 0.1264\n",
            "Epoch 2/600\n",
            "68/68 [==============================] - 1s 15ms/step - loss: 0.0032 - mean_absolute_error: 0.0444\n",
            "Epoch 3/600\n",
            "68/68 [==============================] - 1s 16ms/step - loss: 0.0025 - mean_absolute_error: 0.0378\n",
            "Epoch 4/600\n",
            "68/68 [==============================] - 1s 15ms/step - loss: 0.0020 - mean_absolute_error: 0.0342\n",
            "Epoch 5/600\n",
            "68/68 [==============================] - 1s 16ms/step - loss: 0.0019 - mean_absolute_error: 0.0334\n",
            "Epoch 6/600\n",
            "68/68 [==============================] - 1s 16ms/step - loss: 0.0016 - mean_absolute_error: 0.0305\n",
            "Epoch 7/600\n",
            "68/68 [==============================] - 1s 16ms/step - loss: 0.0018 - mean_absolute_error: 0.0321\n",
            "Epoch 8/600\n",
            "68/68 [==============================] - 1s 15ms/step - loss: 0.0013 - mean_absolute_error: 0.0280\n",
            "Epoch 9/600\n",
            "68/68 [==============================] - 1s 15ms/step - loss: 0.0015 - mean_absolute_error: 0.0292\n",
            "Epoch 10/600\n",
            "68/68 [==============================] - 1s 16ms/step - loss: 0.0014 - mean_absolute_error: 0.0280\n",
            "Epoch 11/600\n",
            "68/68 [==============================] - 1s 15ms/step - loss: 0.0013 - mean_absolute_error: 0.0276\n",
            "Epoch 12/600\n",
            "68/68 [==============================] - 1s 15ms/step - loss: 0.0013 - mean_absolute_error: 0.0274\n",
            "Epoch 13/600\n",
            "68/68 [==============================] - 1s 16ms/step - loss: 0.0012 - mean_absolute_error: 0.0268\n",
            "Epoch 14/600\n",
            "68/68 [==============================] - 1s 15ms/step - loss: 0.0014 - mean_absolute_error: 0.0281\n",
            "Epoch 15/600\n",
            "68/68 [==============================] - 1s 15ms/step - loss: 0.0012 - mean_absolute_error: 0.0260\n",
            "Epoch 16/600\n",
            "68/68 [==============================] - 1s 16ms/step - loss: 0.0013 - mean_absolute_error: 0.0271\n",
            "Epoch 17/600\n",
            "68/68 [==============================] - 1s 15ms/step - loss: 0.0011 - mean_absolute_error: 0.0247\n",
            "Epoch 18/600\n",
            "68/68 [==============================] - 1s 15ms/step - loss: 9.6809e-04 - mean_absolute_error: 0.0241\n",
            "Epoch 19/600\n",
            "68/68 [==============================] - 1s 15ms/step - loss: 0.0010 - mean_absolute_error: 0.0249\n",
            "Epoch 20/600\n",
            "68/68 [==============================] - 1s 16ms/step - loss: 0.0011 - mean_absolute_error: 0.0262\n",
            "Epoch 21/600\n",
            "68/68 [==============================] - 1s 15ms/step - loss: 9.3775e-04 - mean_absolute_error: 0.0236\n",
            "Epoch 22/600\n",
            "68/68 [==============================] - 1s 16ms/step - loss: 9.6521e-04 - mean_absolute_error: 0.0237\n",
            "Epoch 23/600\n",
            "68/68 [==============================] - 1s 15ms/step - loss: 9.4415e-04 - mean_absolute_error: 0.0235\n",
            "Epoch 24/600\n",
            "68/68 [==============================] - 1s 16ms/step - loss: 9.7691e-04 - mean_absolute_error: 0.0232\n",
            "Epoch 25/600\n",
            "68/68 [==============================] - 1s 15ms/step - loss: 9.9236e-04 - mean_absolute_error: 0.0240\n",
            "Epoch 26/600\n",
            "68/68 [==============================] - 1s 16ms/step - loss: 9.0713e-04 - mean_absolute_error: 0.0233\n",
            "Epoch 27/600\n",
            "68/68 [==============================] - 1s 16ms/step - loss: 9.6588e-04 - mean_absolute_error: 0.0236\n",
            "Epoch 28/600\n",
            "68/68 [==============================] - 1s 16ms/step - loss: 9.2667e-04 - mean_absolute_error: 0.0233\n",
            "Epoch 29/600\n",
            "68/68 [==============================] - 1s 16ms/step - loss: 9.2262e-04 - mean_absolute_error: 0.0228\n",
            "Epoch 30/600\n",
            "68/68 [==============================] - 1s 16ms/step - loss: 8.8358e-04 - mean_absolute_error: 0.0228\n",
            "Epoch 31/600\n",
            "68/68 [==============================] - 1s 16ms/step - loss: 8.6861e-04 - mean_absolute_error: 0.0224\n",
            "Epoch 32/600\n",
            "68/68 [==============================] - 1s 16ms/step - loss: 8.5840e-04 - mean_absolute_error: 0.0221\n",
            "Epoch 33/600\n",
            "68/68 [==============================] - 1s 16ms/step - loss: 9.1122e-04 - mean_absolute_error: 0.0229\n",
            "Epoch 34/600\n",
            "68/68 [==============================] - 1s 15ms/step - loss: 8.4987e-04 - mean_absolute_error: 0.0228\n",
            "Epoch 35/600\n",
            "68/68 [==============================] - 1s 15ms/step - loss: 7.3944e-04 - mean_absolute_error: 0.0208\n",
            "Epoch 36/600\n",
            "68/68 [==============================] - 1s 16ms/step - loss: 7.7028e-04 - mean_absolute_error: 0.0213\n",
            "Epoch 37/600\n",
            "68/68 [==============================] - 1s 16ms/step - loss: 7.6231e-04 - mean_absolute_error: 0.0212\n",
            "Epoch 38/600\n",
            "68/68 [==============================] - 1s 16ms/step - loss: 7.6670e-04 - mean_absolute_error: 0.0209\n",
            "Epoch 39/600\n",
            "68/68 [==============================] - 1s 15ms/step - loss: 7.5306e-04 - mean_absolute_error: 0.0211\n",
            "Epoch 40/600\n",
            "68/68 [==============================] - 1s 16ms/step - loss: 7.6128e-04 - mean_absolute_error: 0.0211\n",
            "Epoch 41/600\n",
            "68/68 [==============================] - 1s 16ms/step - loss: 7.2532e-04 - mean_absolute_error: 0.0205\n",
            "Epoch 42/600\n",
            "68/68 [==============================] - 1s 16ms/step - loss: 6.8336e-04 - mean_absolute_error: 0.0201\n",
            "Epoch 43/600\n",
            "68/68 [==============================] - 1s 15ms/step - loss: 6.8802e-04 - mean_absolute_error: 0.0200\n",
            "Epoch 44/600\n",
            "68/68 [==============================] - 1s 16ms/step - loss: 6.8908e-04 - mean_absolute_error: 0.0203\n",
            "Epoch 45/600\n",
            "68/68 [==============================] - 1s 16ms/step - loss: 6.4620e-04 - mean_absolute_error: 0.0194\n",
            "Epoch 46/600\n",
            "68/68 [==============================] - 1s 16ms/step - loss: 6.5658e-04 - mean_absolute_error: 0.0199\n",
            "Epoch 47/600\n",
            "68/68 [==============================] - 1s 16ms/step - loss: 6.2439e-04 - mean_absolute_error: 0.0190\n",
            "Epoch 48/600\n",
            "68/68 [==============================] - 1s 16ms/step - loss: 6.9408e-04 - mean_absolute_error: 0.0199\n",
            "Epoch 49/600\n",
            "68/68 [==============================] - 1s 15ms/step - loss: 6.3713e-04 - mean_absolute_error: 0.0191\n",
            "Epoch 50/600\n",
            "68/68 [==============================] - 1s 15ms/step - loss: 6.4429e-04 - mean_absolute_error: 0.0188\n",
            "Epoch 51/600\n",
            "68/68 [==============================] - 1s 15ms/step - loss: 6.1979e-04 - mean_absolute_error: 0.0193\n",
            "Epoch 52/600\n",
            "68/68 [==============================] - 1s 15ms/step - loss: 6.6226e-04 - mean_absolute_error: 0.0195\n",
            "Epoch 53/600\n",
            "68/68 [==============================] - 1s 16ms/step - loss: 5.8907e-04 - mean_absolute_error: 0.0185\n",
            "Epoch 54/600\n",
            "68/68 [==============================] - 1s 15ms/step - loss: 6.0648e-04 - mean_absolute_error: 0.0188\n",
            "Epoch 55/600\n",
            "68/68 [==============================] - 1s 16ms/step - loss: 6.0697e-04 - mean_absolute_error: 0.0191\n",
            "Epoch 56/600\n",
            "68/68 [==============================] - 1s 16ms/step - loss: 6.2228e-04 - mean_absolute_error: 0.0194\n",
            "Epoch 57/600\n",
            "68/68 [==============================] - 1s 16ms/step - loss: 6.0794e-04 - mean_absolute_error: 0.0186\n",
            "Epoch 58/600\n",
            "68/68 [==============================] - 1s 16ms/step - loss: 6.1081e-04 - mean_absolute_error: 0.0185\n",
            "Epoch 59/600\n",
            "68/68 [==============================] - 1s 16ms/step - loss: 5.9753e-04 - mean_absolute_error: 0.0189\n",
            "Epoch 60/600\n",
            "68/68 [==============================] - 1s 16ms/step - loss: 5.7089e-04 - mean_absolute_error: 0.0181\n",
            "Epoch 61/600\n",
            "68/68 [==============================] - 1s 16ms/step - loss: 5.9877e-04 - mean_absolute_error: 0.0182\n",
            "Epoch 62/600\n",
            "68/68 [==============================] - 1s 16ms/step - loss: 5.7803e-04 - mean_absolute_error: 0.0182\n",
            "Epoch 63/600\n",
            "68/68 [==============================] - 1s 16ms/step - loss: 6.6839e-04 - mean_absolute_error: 0.0194\n",
            "Epoch 64/600\n",
            "68/68 [==============================] - 1s 16ms/step - loss: 5.3682e-04 - mean_absolute_error: 0.0178\n",
            "Epoch 65/600\n",
            "68/68 [==============================] - 1s 16ms/step - loss: 5.7812e-04 - mean_absolute_error: 0.0183\n",
            "Epoch 66/600\n",
            "68/68 [==============================] - 1s 16ms/step - loss: 5.7405e-04 - mean_absolute_error: 0.0180\n",
            "Epoch 67/600\n",
            "68/68 [==============================] - 1s 16ms/step - loss: 5.8759e-04 - mean_absolute_error: 0.0182\n",
            "Epoch 68/600\n",
            "68/68 [==============================] - 1s 16ms/step - loss: 5.2019e-04 - mean_absolute_error: 0.0172\n",
            "Epoch 69/600\n",
            "68/68 [==============================] - 1s 16ms/step - loss: 5.3677e-04 - mean_absolute_error: 0.0176\n",
            "Epoch 70/600\n",
            "68/68 [==============================] - 1s 16ms/step - loss: 5.6208e-04 - mean_absolute_error: 0.0180\n",
            "Epoch 71/600\n",
            "68/68 [==============================] - 1s 16ms/step - loss: 6.0337e-04 - mean_absolute_error: 0.0186\n",
            "Epoch 72/600\n",
            "68/68 [==============================] - 1s 16ms/step - loss: 5.7226e-04 - mean_absolute_error: 0.0184\n",
            "Epoch 73/600\n",
            "68/68 [==============================] - 1s 16ms/step - loss: 5.6245e-04 - mean_absolute_error: 0.0181\n",
            "Epoch 74/600\n",
            "68/68 [==============================] - 1s 16ms/step - loss: 5.0489e-04 - mean_absolute_error: 0.0173\n",
            "Epoch 75/600\n",
            "68/68 [==============================] - 1s 16ms/step - loss: 6.0841e-04 - mean_absolute_error: 0.0188\n",
            "Epoch 76/600\n",
            "68/68 [==============================] - 1s 16ms/step - loss: 5.6519e-04 - mean_absolute_error: 0.0182\n",
            "Epoch 77/600\n",
            "68/68 [==============================] - 1s 16ms/step - loss: 5.4625e-04 - mean_absolute_error: 0.0178\n",
            "Epoch 78/600\n",
            "68/68 [==============================] - 1s 16ms/step - loss: 5.1841e-04 - mean_absolute_error: 0.0173\n",
            "Epoch 79/600\n",
            "68/68 [==============================] - 1s 16ms/step - loss: 4.9763e-04 - mean_absolute_error: 0.0170\n",
            "Epoch 80/600\n",
            "68/68 [==============================] - 1s 16ms/step - loss: 6.1687e-04 - mean_absolute_error: 0.0185\n",
            "Epoch 81/600\n",
            "68/68 [==============================] - 1s 16ms/step - loss: 4.9957e-04 - mean_absolute_error: 0.0171\n",
            "Epoch 82/600\n",
            "68/68 [==============================] - 1s 16ms/step - loss: 6.1638e-04 - mean_absolute_error: 0.0186\n",
            "Epoch 83/600\n",
            "68/68 [==============================] - 1s 16ms/step - loss: 5.5724e-04 - mean_absolute_error: 0.0181\n",
            "Epoch 84/600\n",
            "68/68 [==============================] - 1s 16ms/step - loss: 5.7222e-04 - mean_absolute_error: 0.0179\n",
            "Epoch 85/600\n",
            "68/68 [==============================] - 1s 16ms/step - loss: 5.0165e-04 - mean_absolute_error: 0.0171\n",
            "Epoch 86/600\n",
            "68/68 [==============================] - 1s 15ms/step - loss: 5.1478e-04 - mean_absolute_error: 0.0172\n",
            "Epoch 87/600\n",
            "68/68 [==============================] - 1s 15ms/step - loss: 5.3205e-04 - mean_absolute_error: 0.0175\n",
            "Epoch 88/600\n",
            "68/68 [==============================] - 1s 16ms/step - loss: 5.7231e-04 - mean_absolute_error: 0.0181\n",
            "Epoch 89/600\n",
            "68/68 [==============================] - 1s 16ms/step - loss: 4.5409e-04 - mean_absolute_error: 0.0163\n",
            "Epoch 90/600\n",
            "68/68 [==============================] - 1s 16ms/step - loss: 5.3584e-04 - mean_absolute_error: 0.0182\n",
            "Epoch 91/600\n",
            "68/68 [==============================] - 1s 16ms/step - loss: 5.5826e-04 - mean_absolute_error: 0.0181\n",
            "Epoch 92/600\n",
            "68/68 [==============================] - 1s 16ms/step - loss: 5.1277e-04 - mean_absolute_error: 0.0173\n",
            "Epoch 93/600\n",
            "68/68 [==============================] - 1s 16ms/step - loss: 5.5296e-04 - mean_absolute_error: 0.0179\n",
            "Epoch 94/600\n",
            "68/68 [==============================] - 1s 16ms/step - loss: 5.5066e-04 - mean_absolute_error: 0.0175\n",
            "Epoch 95/600\n",
            "68/68 [==============================] - 1s 16ms/step - loss: 5.5308e-04 - mean_absolute_error: 0.0177\n",
            "Epoch 96/600\n",
            "68/68 [==============================] - 1s 16ms/step - loss: 5.4328e-04 - mean_absolute_error: 0.0175\n",
            "Epoch 97/600\n",
            "68/68 [==============================] - 1s 16ms/step - loss: 4.9264e-04 - mean_absolute_error: 0.0168\n",
            "Epoch 98/600\n",
            "68/68 [==============================] - 1s 16ms/step - loss: 4.7744e-04 - mean_absolute_error: 0.0165\n",
            "Epoch 99/600\n",
            "68/68 [==============================] - 1s 16ms/step - loss: 4.6108e-04 - mean_absolute_error: 0.0166\n",
            "Epoch 100/600\n",
            "68/68 [==============================] - 1s 16ms/step - loss: 5.2603e-04 - mean_absolute_error: 0.0172\n",
            "Epoch 101/600\n",
            "68/68 [==============================] - 1s 16ms/step - loss: 5.1661e-04 - mean_absolute_error: 0.0172\n",
            "Epoch 102/600\n",
            "68/68 [==============================] - 1s 16ms/step - loss: 5.2263e-04 - mean_absolute_error: 0.0171\n",
            "Epoch 103/600\n",
            "68/68 [==============================] - 1s 16ms/step - loss: 4.7963e-04 - mean_absolute_error: 0.0167\n",
            "Epoch 104/600\n",
            "68/68 [==============================] - 1s 16ms/step - loss: 4.9828e-04 - mean_absolute_error: 0.0170\n",
            "Epoch 105/600\n",
            "68/68 [==============================] - 1s 16ms/step - loss: 6.3097e-04 - mean_absolute_error: 0.0186\n",
            "Epoch 106/600\n",
            "68/68 [==============================] - 1s 16ms/step - loss: 5.2345e-04 - mean_absolute_error: 0.0168\n",
            "Epoch 107/600\n",
            "68/68 [==============================] - 1s 16ms/step - loss: 5.0166e-04 - mean_absolute_error: 0.0170\n",
            "Epoch 108/600\n",
            "68/68 [==============================] - 1s 16ms/step - loss: 4.9090e-04 - mean_absolute_error: 0.0172\n",
            "Epoch 109/600\n",
            "68/68 [==============================] - 1s 16ms/step - loss: 4.7010e-04 - mean_absolute_error: 0.0168\n",
            "Epoch 110/600\n",
            "68/68 [==============================] - 1s 16ms/step - loss: 5.0452e-04 - mean_absolute_error: 0.0166\n",
            "Epoch 111/600\n",
            "68/68 [==============================] - 1s 16ms/step - loss: 4.9949e-04 - mean_absolute_error: 0.0173\n",
            "Epoch 112/600\n",
            "68/68 [==============================] - 1s 16ms/step - loss: 5.3582e-04 - mean_absolute_error: 0.0178\n",
            "Epoch 113/600\n",
            "68/68 [==============================] - 1s 16ms/step - loss: 4.4490e-04 - mean_absolute_error: 0.0160\n",
            "Epoch 114/600\n",
            "68/68 [==============================] - 1s 16ms/step - loss: 4.3152e-04 - mean_absolute_error: 0.0158\n",
            "Epoch 115/600\n",
            "68/68 [==============================] - 1s 16ms/step - loss: 4.6794e-04 - mean_absolute_error: 0.0161\n",
            "Epoch 116/600\n",
            "68/68 [==============================] - 1s 16ms/step - loss: 4.8922e-04 - mean_absolute_error: 0.0166\n",
            "Epoch 117/600\n",
            "68/68 [==============================] - 1s 16ms/step - loss: 4.9758e-04 - mean_absolute_error: 0.0166\n",
            "Epoch 118/600\n",
            "68/68 [==============================] - 1s 16ms/step - loss: 4.7887e-04 - mean_absolute_error: 0.0166\n",
            "Epoch 119/600\n",
            "68/68 [==============================] - 1s 16ms/step - loss: 4.9430e-04 - mean_absolute_error: 0.0169\n",
            "Epoch 120/600\n",
            "68/68 [==============================] - 1s 16ms/step - loss: 4.7377e-04 - mean_absolute_error: 0.0166\n",
            "Epoch 121/600\n",
            "68/68 [==============================] - 1s 16ms/step - loss: 5.5881e-04 - mean_absolute_error: 0.0177\n",
            "Epoch 122/600\n",
            "68/68 [==============================] - 1s 16ms/step - loss: 4.6238e-04 - mean_absolute_error: 0.0162\n",
            "Epoch 123/600\n",
            "68/68 [==============================] - 1s 16ms/step - loss: 4.6426e-04 - mean_absolute_error: 0.0163\n",
            "Epoch 124/600\n",
            "68/68 [==============================] - 1s 16ms/step - loss: 4.6974e-04 - mean_absolute_error: 0.0161\n",
            "Epoch 125/600\n",
            "68/68 [==============================] - 1s 16ms/step - loss: 4.5164e-04 - mean_absolute_error: 0.0162\n",
            "Epoch 126/600\n",
            "68/68 [==============================] - 1s 15ms/step - loss: 5.1286e-04 - mean_absolute_error: 0.0170\n",
            "Epoch 127/600\n",
            "68/68 [==============================] - 1s 16ms/step - loss: 4.2708e-04 - mean_absolute_error: 0.0160\n",
            "Epoch 128/600\n",
            "68/68 [==============================] - 1s 16ms/step - loss: 4.2848e-04 - mean_absolute_error: 0.0159\n",
            "Epoch 129/600\n",
            "68/68 [==============================] - 1s 16ms/step - loss: 4.6031e-04 - mean_absolute_error: 0.0159\n",
            "Epoch 130/600\n",
            "68/68 [==============================] - 1s 16ms/step - loss: 4.3709e-04 - mean_absolute_error: 0.0156\n",
            "Epoch 131/600\n",
            "68/68 [==============================] - 1s 16ms/step - loss: 4.1358e-04 - mean_absolute_error: 0.0154\n",
            "Epoch 132/600\n",
            "68/68 [==============================] - 1s 16ms/step - loss: 4.4125e-04 - mean_absolute_error: 0.0163\n",
            "Epoch 133/600\n",
            "68/68 [==============================] - 1s 16ms/step - loss: 4.3326e-04 - mean_absolute_error: 0.0160\n",
            "Epoch 134/600\n",
            "68/68 [==============================] - 1s 16ms/step - loss: 4.5308e-04 - mean_absolute_error: 0.0162\n",
            "Epoch 135/600\n",
            "68/68 [==============================] - 1s 16ms/step - loss: 4.4877e-04 - mean_absolute_error: 0.0160\n",
            "Epoch 136/600\n",
            "68/68 [==============================] - 1s 16ms/step - loss: 4.6051e-04 - mean_absolute_error: 0.0161\n",
            "Epoch 137/600\n",
            "68/68 [==============================] - 1s 16ms/step - loss: 4.6295e-04 - mean_absolute_error: 0.0161\n",
            "Epoch 138/600\n",
            "68/68 [==============================] - 1s 16ms/step - loss: 4.2665e-04 - mean_absolute_error: 0.0153\n",
            "Epoch 139/600\n",
            "68/68 [==============================] - 1s 16ms/step - loss: 4.0695e-04 - mean_absolute_error: 0.0153\n",
            "Epoch 140/600\n",
            "68/68 [==============================] - 1s 16ms/step - loss: 4.8289e-04 - mean_absolute_error: 0.0165\n",
            "Epoch 141/600\n",
            "68/68 [==============================] - 1s 16ms/step - loss: 3.8642e-04 - mean_absolute_error: 0.0150\n",
            "Epoch 142/600\n",
            "68/68 [==============================] - 1s 16ms/step - loss: 4.2666e-04 - mean_absolute_error: 0.0159\n",
            "Epoch 143/600\n",
            "68/68 [==============================] - 1s 16ms/step - loss: 4.7221e-04 - mean_absolute_error: 0.0164\n",
            "Epoch 144/600\n",
            "68/68 [==============================] - 1s 16ms/step - loss: 4.8330e-04 - mean_absolute_error: 0.0164\n",
            "Epoch 145/600\n",
            "68/68 [==============================] - 1s 16ms/step - loss: 4.6924e-04 - mean_absolute_error: 0.0162\n",
            "Epoch 146/600\n",
            "68/68 [==============================] - 1s 16ms/step - loss: 4.2453e-04 - mean_absolute_error: 0.0156\n",
            "Epoch 147/600\n",
            "68/68 [==============================] - 1s 16ms/step - loss: 4.4968e-04 - mean_absolute_error: 0.0161\n",
            "Epoch 148/600\n",
            "68/68 [==============================] - 1s 16ms/step - loss: 4.3629e-04 - mean_absolute_error: 0.0156\n",
            "Epoch 149/600\n",
            "68/68 [==============================] - 1s 16ms/step - loss: 4.1957e-04 - mean_absolute_error: 0.0154\n",
            "Epoch 150/600\n",
            "68/68 [==============================] - 1s 16ms/step - loss: 4.4640e-04 - mean_absolute_error: 0.0158\n",
            "Epoch 151/600\n",
            "68/68 [==============================] - 1s 16ms/step - loss: 4.1413e-04 - mean_absolute_error: 0.0154\n",
            "Epoch 152/600\n",
            "68/68 [==============================] - 1s 16ms/step - loss: 4.5232e-04 - mean_absolute_error: 0.0158\n",
            "Epoch 153/600\n",
            "68/68 [==============================] - 1s 16ms/step - loss: 4.4062e-04 - mean_absolute_error: 0.0155\n",
            "Epoch 154/600\n",
            "68/68 [==============================] - 1s 16ms/step - loss: 4.8664e-04 - mean_absolute_error: 0.0164\n",
            "Epoch 155/600\n",
            "68/68 [==============================] - 1s 16ms/step - loss: 4.7317e-04 - mean_absolute_error: 0.0169\n",
            "Epoch 156/600\n",
            "68/68 [==============================] - 1s 16ms/step - loss: 4.2894e-04 - mean_absolute_error: 0.0156\n",
            "Epoch 157/600\n",
            "68/68 [==============================] - 1s 16ms/step - loss: 4.5380e-04 - mean_absolute_error: 0.0162\n",
            "Epoch 158/600\n",
            "68/68 [==============================] - 1s 16ms/step - loss: 4.3391e-04 - mean_absolute_error: 0.0156\n",
            "Epoch 159/600\n",
            "68/68 [==============================] - 1s 16ms/step - loss: 4.2235e-04 - mean_absolute_error: 0.0154\n",
            "Epoch 160/600\n",
            "68/68 [==============================] - 1s 16ms/step - loss: 4.3866e-04 - mean_absolute_error: 0.0158\n",
            "Epoch 161/600\n",
            "68/68 [==============================] - 1s 16ms/step - loss: 3.9176e-04 - mean_absolute_error: 0.0149\n",
            "Epoch 162/600\n",
            "68/68 [==============================] - 1s 16ms/step - loss: 4.4321e-04 - mean_absolute_error: 0.0157\n",
            "Epoch 163/600\n",
            "68/68 [==============================] - 1s 16ms/step - loss: 4.6052e-04 - mean_absolute_error: 0.0163\n",
            "Epoch 164/600\n",
            "68/68 [==============================] - 1s 16ms/step - loss: 4.0224e-04 - mean_absolute_error: 0.0151\n",
            "Epoch 165/600\n",
            "68/68 [==============================] - 1s 16ms/step - loss: 4.3983e-04 - mean_absolute_error: 0.0154\n",
            "Epoch 166/600\n",
            "68/68 [==============================] - 1s 16ms/step - loss: 4.5113e-04 - mean_absolute_error: 0.0158\n",
            "Epoch 167/600\n",
            "68/68 [==============================] - 1s 16ms/step - loss: 3.9354e-04 - mean_absolute_error: 0.0148\n",
            "Epoch 168/600\n",
            "68/68 [==============================] - 1s 16ms/step - loss: 4.6847e-04 - mean_absolute_error: 0.0161\n",
            "Epoch 169/600\n",
            "68/68 [==============================] - 1s 16ms/step - loss: 4.2040e-04 - mean_absolute_error: 0.0151\n",
            "Epoch 170/600\n",
            "68/68 [==============================] - 1s 16ms/step - loss: 4.6183e-04 - mean_absolute_error: 0.0160\n",
            "Epoch 171/600\n",
            "68/68 [==============================] - 1s 16ms/step - loss: 4.0259e-04 - mean_absolute_error: 0.0151\n",
            "Epoch 172/600\n",
            "68/68 [==============================] - 1s 16ms/step - loss: 4.2642e-04 - mean_absolute_error: 0.0156\n",
            "Epoch 173/600\n",
            "68/68 [==============================] - 1s 16ms/step - loss: 3.9526e-04 - mean_absolute_error: 0.0148\n",
            "Epoch 174/600\n",
            "68/68 [==============================] - 1s 16ms/step - loss: 3.8549e-04 - mean_absolute_error: 0.0151\n",
            "Epoch 175/600\n",
            "68/68 [==============================] - 1s 16ms/step - loss: 4.1863e-04 - mean_absolute_error: 0.0152\n",
            "Epoch 176/600\n",
            "68/68 [==============================] - 1s 16ms/step - loss: 3.9190e-04 - mean_absolute_error: 0.0149\n",
            "Epoch 177/600\n",
            "68/68 [==============================] - 1s 16ms/step - loss: 4.6349e-04 - mean_absolute_error: 0.0163\n",
            "Epoch 178/600\n",
            "68/68 [==============================] - 1s 16ms/step - loss: 4.6565e-04 - mean_absolute_error: 0.0156\n",
            "Epoch 179/600\n",
            "68/68 [==============================] - 1s 16ms/step - loss: 4.3572e-04 - mean_absolute_error: 0.0159\n",
            "Epoch 180/600\n",
            "68/68 [==============================] - 1s 16ms/step - loss: 4.4968e-04 - mean_absolute_error: 0.0158\n",
            "Epoch 181/600\n",
            "68/68 [==============================] - 1s 16ms/step - loss: 4.3293e-04 - mean_absolute_error: 0.0152\n",
            "Epoch 182/600\n",
            "68/68 [==============================] - 1s 16ms/step - loss: 4.0545e-04 - mean_absolute_error: 0.0150\n",
            "Epoch 183/600\n",
            "68/68 [==============================] - 1s 16ms/step - loss: 4.1005e-04 - mean_absolute_error: 0.0151\n",
            "Epoch 184/600\n",
            "68/68 [==============================] - 1s 16ms/step - loss: 4.6369e-04 - mean_absolute_error: 0.0158\n",
            "Epoch 185/600\n",
            "68/68 [==============================] - 1s 16ms/step - loss: 4.0538e-04 - mean_absolute_error: 0.0152\n",
            "Epoch 186/600\n",
            "68/68 [==============================] - 1s 16ms/step - loss: 4.0636e-04 - mean_absolute_error: 0.0150\n",
            "Epoch 187/600\n",
            "68/68 [==============================] - 1s 16ms/step - loss: 4.2813e-04 - mean_absolute_error: 0.0155\n",
            "Epoch 188/600\n",
            "68/68 [==============================] - 1s 16ms/step - loss: 4.0073e-04 - mean_absolute_error: 0.0149\n",
            "Epoch 189/600\n",
            "68/68 [==============================] - 1s 16ms/step - loss: 4.1940e-04 - mean_absolute_error: 0.0151\n",
            "Epoch 190/600\n",
            "68/68 [==============================] - 1s 16ms/step - loss: 4.2545e-04 - mean_absolute_error: 0.0154\n",
            "Epoch 191/600\n",
            "68/68 [==============================] - 1s 16ms/step - loss: 4.2606e-04 - mean_absolute_error: 0.0152\n",
            "Epoch 192/600\n",
            "68/68 [==============================] - 1s 16ms/step - loss: 4.2611e-04 - mean_absolute_error: 0.0155\n",
            "Epoch 193/600\n",
            "68/68 [==============================] - 1s 18ms/step - loss: 4.6241e-04 - mean_absolute_error: 0.0156\n",
            "Epoch 194/600\n",
            "68/68 [==============================] - 1s 16ms/step - loss: 5.1531e-04 - mean_absolute_error: 0.0170\n",
            "Epoch 195/600\n",
            "68/68 [==============================] - 1s 17ms/step - loss: 4.3132e-04 - mean_absolute_error: 0.0157\n",
            "Epoch 196/600\n",
            "68/68 [==============================] - 1s 16ms/step - loss: 4.3470e-04 - mean_absolute_error: 0.0158\n",
            "Epoch 197/600\n",
            "68/68 [==============================] - 1s 16ms/step - loss: 4.3224e-04 - mean_absolute_error: 0.0158\n",
            "Epoch 198/600\n",
            "68/68 [==============================] - 1s 16ms/step - loss: 4.4498e-04 - mean_absolute_error: 0.0154\n",
            "Epoch 199/600\n",
            "68/68 [==============================] - 1s 16ms/step - loss: 4.2597e-04 - mean_absolute_error: 0.0154\n",
            "Epoch 200/600\n",
            "68/68 [==============================] - 1s 16ms/step - loss: 4.3102e-04 - mean_absolute_error: 0.0155\n",
            "Epoch 201/600\n",
            "68/68 [==============================] - 1s 16ms/step - loss: 4.1175e-04 - mean_absolute_error: 0.0153\n",
            "Epoch 202/600\n",
            "68/68 [==============================] - 1s 18ms/step - loss: 4.6234e-04 - mean_absolute_error: 0.0158\n",
            "Epoch 203/600\n",
            "68/68 [==============================] - 1s 16ms/step - loss: 4.0143e-04 - mean_absolute_error: 0.0151\n",
            "Epoch 204/600\n",
            "68/68 [==============================] - 1s 16ms/step - loss: 3.9265e-04 - mean_absolute_error: 0.0148\n",
            "Epoch 205/600\n",
            "68/68 [==============================] - 1s 15ms/step - loss: 4.3536e-04 - mean_absolute_error: 0.0153\n",
            "Epoch 206/600\n",
            "68/68 [==============================] - 1s 16ms/step - loss: 3.7146e-04 - mean_absolute_error: 0.0145\n",
            "Epoch 207/600\n",
            "68/68 [==============================] - 1s 16ms/step - loss: 4.1983e-04 - mean_absolute_error: 0.0156\n",
            "Epoch 208/600\n",
            "68/68 [==============================] - 1s 16ms/step - loss: 4.1481e-04 - mean_absolute_error: 0.0152\n",
            "Epoch 209/600\n",
            "68/68 [==============================] - 1s 16ms/step - loss: 4.0860e-04 - mean_absolute_error: 0.0150\n",
            "Epoch 210/600\n",
            "68/68 [==============================] - 1s 16ms/step - loss: 4.2030e-04 - mean_absolute_error: 0.0152\n",
            "Epoch 211/600\n",
            "68/68 [==============================] - 1s 16ms/step - loss: 4.3602e-04 - mean_absolute_error: 0.0164\n",
            "Epoch 212/600\n",
            "68/68 [==============================] - 1s 16ms/step - loss: 3.9962e-04 - mean_absolute_error: 0.0150\n",
            "Epoch 213/600\n",
            "68/68 [==============================] - 1s 16ms/step - loss: 3.8669e-04 - mean_absolute_error: 0.0148\n",
            "Epoch 214/600\n",
            "68/68 [==============================] - 1s 16ms/step - loss: 4.1487e-04 - mean_absolute_error: 0.0151\n",
            "Epoch 215/600\n",
            "68/68 [==============================] - 1s 16ms/step - loss: 3.9828e-04 - mean_absolute_error: 0.0150\n",
            "Epoch 216/600\n",
            "68/68 [==============================] - 1s 16ms/step - loss: 4.3970e-04 - mean_absolute_error: 0.0156\n",
            "Epoch 217/600\n",
            "68/68 [==============================] - 1s 16ms/step - loss: 4.3308e-04 - mean_absolute_error: 0.0154\n",
            "Epoch 218/600\n",
            "68/68 [==============================] - 1s 16ms/step - loss: 4.0587e-04 - mean_absolute_error: 0.0153\n",
            "Epoch 219/600\n",
            "68/68 [==============================] - 1s 17ms/step - loss: 3.8741e-04 - mean_absolute_error: 0.0151\n",
            "Epoch 220/600\n",
            "68/68 [==============================] - 1s 16ms/step - loss: 4.3334e-04 - mean_absolute_error: 0.0152\n",
            "Epoch 221/600\n",
            "68/68 [==============================] - 1s 16ms/step - loss: 3.6844e-04 - mean_absolute_error: 0.0144\n",
            "Epoch 222/600\n",
            "68/68 [==============================] - 1s 16ms/step - loss: 3.7613e-04 - mean_absolute_error: 0.0146\n",
            "Epoch 223/600\n",
            "68/68 [==============================] - 1s 16ms/step - loss: 4.1869e-04 - mean_absolute_error: 0.0151\n",
            "Epoch 224/600\n",
            "68/68 [==============================] - 1s 16ms/step - loss: 4.1527e-04 - mean_absolute_error: 0.0152\n",
            "Epoch 225/600\n",
            "68/68 [==============================] - 1s 16ms/step - loss: 3.7128e-04 - mean_absolute_error: 0.0144\n",
            "Epoch 226/600\n",
            "68/68 [==============================] - 1s 16ms/step - loss: 4.4535e-04 - mean_absolute_error: 0.0156\n",
            "Epoch 227/600\n",
            "68/68 [==============================] - 1s 16ms/step - loss: 3.8451e-04 - mean_absolute_error: 0.0147\n",
            "Epoch 228/600\n",
            "68/68 [==============================] - 1s 16ms/step - loss: 3.7700e-04 - mean_absolute_error: 0.0144\n",
            "Epoch 229/600\n",
            "68/68 [==============================] - 1s 17ms/step - loss: 4.1325e-04 - mean_absolute_error: 0.0151\n",
            "Epoch 230/600\n",
            "68/68 [==============================] - 1s 16ms/step - loss: 3.9386e-04 - mean_absolute_error: 0.0149\n",
            "Epoch 231/600\n",
            "68/68 [==============================] - 1s 16ms/step - loss: 4.7521e-04 - mean_absolute_error: 0.0161\n",
            "Epoch 232/600\n",
            "68/68 [==============================] - 1s 17ms/step - loss: 4.1517e-04 - mean_absolute_error: 0.0152\n",
            "Epoch 233/600\n",
            "68/68 [==============================] - 1s 16ms/step - loss: 4.1747e-04 - mean_absolute_error: 0.0153\n",
            "Epoch 234/600\n",
            "68/68 [==============================] - 1s 17ms/step - loss: 3.8665e-04 - mean_absolute_error: 0.0148\n",
            "Epoch 235/600\n",
            "68/68 [==============================] - 1s 17ms/step - loss: 4.0472e-04 - mean_absolute_error: 0.0151\n",
            "Epoch 236/600\n",
            "68/68 [==============================] - 1s 16ms/step - loss: 4.0387e-04 - mean_absolute_error: 0.0148\n",
            "Epoch 237/600\n",
            "68/68 [==============================] - 1s 17ms/step - loss: 4.0451e-04 - mean_absolute_error: 0.0149\n",
            "Epoch 238/600\n",
            "68/68 [==============================] - 1s 16ms/step - loss: 4.0962e-04 - mean_absolute_error: 0.0149\n",
            "Epoch 239/600\n",
            "68/68 [==============================] - 1s 16ms/step - loss: 4.1958e-04 - mean_absolute_error: 0.0153\n",
            "Epoch 240/600\n",
            "68/68 [==============================] - 1s 16ms/step - loss: 4.0336e-04 - mean_absolute_error: 0.0150\n",
            "Epoch 241/600\n",
            "68/68 [==============================] - 1s 17ms/step - loss: 3.7915e-04 - mean_absolute_error: 0.0147\n",
            "Epoch 242/600\n",
            "68/68 [==============================] - 1s 16ms/step - loss: 4.1203e-04 - mean_absolute_error: 0.0149\n",
            "Epoch 243/600\n",
            "68/68 [==============================] - 1s 17ms/step - loss: 4.0447e-04 - mean_absolute_error: 0.0148\n",
            "Epoch 244/600\n",
            "68/68 [==============================] - 1s 16ms/step - loss: 3.6740e-04 - mean_absolute_error: 0.0144\n",
            "Epoch 245/600\n",
            "68/68 [==============================] - 1s 17ms/step - loss: 3.7073e-04 - mean_absolute_error: 0.0143\n",
            "Epoch 246/600\n",
            "68/68 [==============================] - 1s 17ms/step - loss: 4.2579e-04 - mean_absolute_error: 0.0151\n",
            "Epoch 247/600\n",
            "68/68 [==============================] - 1s 17ms/step - loss: 3.5605e-04 - mean_absolute_error: 0.0143\n",
            "Epoch 248/600\n",
            "68/68 [==============================] - 1s 17ms/step - loss: 3.9246e-04 - mean_absolute_error: 0.0151\n",
            "Epoch 249/600\n",
            "68/68 [==============================] - 1s 17ms/step - loss: 3.9771e-04 - mean_absolute_error: 0.0150\n",
            "Epoch 250/600\n",
            "68/68 [==============================] - 1s 17ms/step - loss: 4.2514e-04 - mean_absolute_error: 0.0155\n",
            "Epoch 251/600\n",
            "68/68 [==============================] - 1s 17ms/step - loss: 3.6716e-04 - mean_absolute_error: 0.0144\n",
            "Epoch 252/600\n",
            "68/68 [==============================] - 1s 16ms/step - loss: 3.8420e-04 - mean_absolute_error: 0.0145\n",
            "Epoch 253/600\n",
            "68/68 [==============================] - 1s 16ms/step - loss: 4.1079e-04 - mean_absolute_error: 0.0155\n",
            "Epoch 254/600\n",
            "68/68 [==============================] - 1s 16ms/step - loss: 3.8581e-04 - mean_absolute_error: 0.0142\n",
            "Epoch 255/600\n",
            "68/68 [==============================] - 1s 17ms/step - loss: 4.1154e-04 - mean_absolute_error: 0.0152\n",
            "Epoch 256/600\n",
            "68/68 [==============================] - 1s 17ms/step - loss: 4.4130e-04 - mean_absolute_error: 0.0157\n",
            "Epoch 257/600\n",
            "68/68 [==============================] - 1s 16ms/step - loss: 4.0607e-04 - mean_absolute_error: 0.0150\n",
            "Epoch 258/600\n",
            "68/68 [==============================] - 1s 16ms/step - loss: 3.8189e-04 - mean_absolute_error: 0.0149\n",
            "Epoch 259/600\n",
            "68/68 [==============================] - 1s 16ms/step - loss: 3.9048e-04 - mean_absolute_error: 0.0147\n",
            "Epoch 260/600\n",
            "68/68 [==============================] - 1s 16ms/step - loss: 3.7498e-04 - mean_absolute_error: 0.0143\n",
            "Epoch 261/600\n",
            "68/68 [==============================] - 1s 16ms/step - loss: 4.0228e-04 - mean_absolute_error: 0.0149\n",
            "Epoch 262/600\n",
            "68/68 [==============================] - 1s 16ms/step - loss: 4.3963e-04 - mean_absolute_error: 0.0156\n",
            "Epoch 263/600\n",
            "68/68 [==============================] - 1s 16ms/step - loss: 4.2367e-04 - mean_absolute_error: 0.0158\n",
            "Epoch 264/600\n",
            "68/68 [==============================] - 1s 16ms/step - loss: 4.2857e-04 - mean_absolute_error: 0.0155\n",
            "Epoch 265/600\n",
            "68/68 [==============================] - 1s 16ms/step - loss: 4.2044e-04 - mean_absolute_error: 0.0149\n",
            "Epoch 266/600\n",
            "68/68 [==============================] - 1s 16ms/step - loss: 3.7822e-04 - mean_absolute_error: 0.0144\n",
            "Epoch 267/600\n",
            "68/68 [==============================] - 1s 16ms/step - loss: 4.0238e-04 - mean_absolute_error: 0.0147\n",
            "Epoch 268/600\n",
            "68/68 [==============================] - 1s 16ms/step - loss: 4.0872e-04 - mean_absolute_error: 0.0148\n",
            "Epoch 269/600\n",
            "68/68 [==============================] - 1s 16ms/step - loss: 4.2089e-04 - mean_absolute_error: 0.0155\n",
            "Epoch 270/600\n",
            "68/68 [==============================] - 1s 16ms/step - loss: 3.8717e-04 - mean_absolute_error: 0.0149\n",
            "Epoch 271/600\n",
            "68/68 [==============================] - 1s 16ms/step - loss: 3.5730e-04 - mean_absolute_error: 0.0141\n",
            "Epoch 272/600\n",
            "68/68 [==============================] - 1s 17ms/step - loss: 3.7198e-04 - mean_absolute_error: 0.0144\n",
            "Epoch 273/600\n",
            "68/68 [==============================] - 1s 16ms/step - loss: 4.3263e-04 - mean_absolute_error: 0.0157\n",
            "Epoch 274/600\n",
            "68/68 [==============================] - 1s 16ms/step - loss: 3.5688e-04 - mean_absolute_error: 0.0139\n",
            "Epoch 275/600\n",
            "68/68 [==============================] - 1s 16ms/step - loss: 4.2681e-04 - mean_absolute_error: 0.0154\n",
            "Epoch 276/600\n",
            "68/68 [==============================] - 1s 16ms/step - loss: 4.1166e-04 - mean_absolute_error: 0.0149\n",
            "Epoch 277/600\n",
            "68/68 [==============================] - 1s 16ms/step - loss: 3.9744e-04 - mean_absolute_error: 0.0149\n",
            "Epoch 278/600\n",
            "68/68 [==============================] - 1s 17ms/step - loss: 4.0551e-04 - mean_absolute_error: 0.0150\n",
            "Epoch 279/600\n",
            "68/68 [==============================] - 1s 16ms/step - loss: 3.6296e-04 - mean_absolute_error: 0.0143\n",
            "Epoch 280/600\n",
            "68/68 [==============================] - 1s 16ms/step - loss: 4.0053e-04 - mean_absolute_error: 0.0150\n",
            "Epoch 281/600\n",
            "68/68 [==============================] - 1s 16ms/step - loss: 4.5302e-04 - mean_absolute_error: 0.0157\n",
            "Epoch 282/600\n",
            "68/68 [==============================] - 1s 16ms/step - loss: 4.0131e-04 - mean_absolute_error: 0.0149\n",
            "Epoch 283/600\n",
            "68/68 [==============================] - 1s 17ms/step - loss: 4.3121e-04 - mean_absolute_error: 0.0159\n",
            "Epoch 284/600\n",
            "68/68 [==============================] - 1s 16ms/step - loss: 3.6046e-04 - mean_absolute_error: 0.0141\n",
            "Epoch 285/600\n",
            "68/68 [==============================] - 1s 16ms/step - loss: 4.1182e-04 - mean_absolute_error: 0.0151\n",
            "Epoch 286/600\n",
            "68/68 [==============================] - 1s 17ms/step - loss: 4.1245e-04 - mean_absolute_error: 0.0151\n",
            "Epoch 287/600\n",
            "68/68 [==============================] - 1s 17ms/step - loss: 4.2822e-04 - mean_absolute_error: 0.0147\n",
            "Epoch 288/600\n",
            "68/68 [==============================] - 1s 17ms/step - loss: 3.5073e-04 - mean_absolute_error: 0.0140\n",
            "Epoch 289/600\n",
            "68/68 [==============================] - 1s 16ms/step - loss: 3.8394e-04 - mean_absolute_error: 0.0150\n",
            "Epoch 290/600\n",
            "68/68 [==============================] - 1s 17ms/step - loss: 3.3916e-04 - mean_absolute_error: 0.0137\n",
            "Epoch 291/600\n",
            "68/68 [==============================] - 1s 16ms/step - loss: 3.9644e-04 - mean_absolute_error: 0.0151\n",
            "Epoch 292/600\n",
            "68/68 [==============================] - 1s 16ms/step - loss: 3.8874e-04 - mean_absolute_error: 0.0148\n",
            "Epoch 293/600\n",
            "68/68 [==============================] - 1s 17ms/step - loss: 3.9601e-04 - mean_absolute_error: 0.0148\n",
            "Epoch 294/600\n",
            "68/68 [==============================] - 1s 17ms/step - loss: 4.7871e-04 - mean_absolute_error: 0.0161\n",
            "Epoch 295/600\n",
            "68/68 [==============================] - 1s 16ms/step - loss: 4.4228e-04 - mean_absolute_error: 0.0157\n",
            "Epoch 296/600\n",
            "68/68 [==============================] - 1s 17ms/step - loss: 3.8150e-04 - mean_absolute_error: 0.0146\n",
            "Epoch 297/600\n",
            "68/68 [==============================] - 1s 17ms/step - loss: 3.7682e-04 - mean_absolute_error: 0.0147\n",
            "Epoch 298/600\n",
            "68/68 [==============================] - 1s 17ms/step - loss: 3.9911e-04 - mean_absolute_error: 0.0149\n",
            "Epoch 299/600\n",
            "68/68 [==============================] - 1s 17ms/step - loss: 4.3928e-04 - mean_absolute_error: 0.0156\n",
            "Epoch 300/600\n",
            "68/68 [==============================] - 1s 17ms/step - loss: 3.9677e-04 - mean_absolute_error: 0.0150\n",
            "Epoch 301/600\n",
            "68/68 [==============================] - 1s 17ms/step - loss: 3.7873e-04 - mean_absolute_error: 0.0144\n",
            "Epoch 302/600\n",
            "68/68 [==============================] - 1s 17ms/step - loss: 3.8681e-04 - mean_absolute_error: 0.0145\n",
            "Epoch 303/600\n",
            "68/68 [==============================] - 1s 17ms/step - loss: 4.1109e-04 - mean_absolute_error: 0.0152\n",
            "Epoch 304/600\n",
            "68/68 [==============================] - 1s 17ms/step - loss: 3.6098e-04 - mean_absolute_error: 0.0142\n",
            "Epoch 305/600\n",
            "68/68 [==============================] - 1s 17ms/step - loss: 4.2564e-04 - mean_absolute_error: 0.0154\n",
            "Epoch 306/600\n",
            "68/68 [==============================] - 1s 17ms/step - loss: 3.8806e-04 - mean_absolute_error: 0.0146\n",
            "Epoch 307/600\n",
            "68/68 [==============================] - 1s 17ms/step - loss: 4.1361e-04 - mean_absolute_error: 0.0151\n",
            "Epoch 308/600\n",
            "68/68 [==============================] - 1s 17ms/step - loss: 4.2425e-04 - mean_absolute_error: 0.0151\n",
            "Epoch 309/600\n",
            "68/68 [==============================] - 1s 17ms/step - loss: 4.0613e-04 - mean_absolute_error: 0.0148\n",
            "Epoch 310/600\n",
            "68/68 [==============================] - 1s 17ms/step - loss: 3.9312e-04 - mean_absolute_error: 0.0147\n",
            "Epoch 311/600\n",
            "68/68 [==============================] - 1s 17ms/step - loss: 3.9558e-04 - mean_absolute_error: 0.0147\n",
            "Epoch 312/600\n",
            "68/68 [==============================] - 1s 17ms/step - loss: 4.1124e-04 - mean_absolute_error: 0.0151\n",
            "Epoch 313/600\n",
            "68/68 [==============================] - 1s 16ms/step - loss: 3.7741e-04 - mean_absolute_error: 0.0147\n",
            "Epoch 314/600\n",
            "68/68 [==============================] - 1s 17ms/step - loss: 4.2482e-04 - mean_absolute_error: 0.0150\n",
            "Epoch 315/600\n",
            "68/68 [==============================] - 1s 17ms/step - loss: 3.7352e-04 - mean_absolute_error: 0.0143\n",
            "Epoch 316/600\n",
            "68/68 [==============================] - 1s 17ms/step - loss: 3.6667e-04 - mean_absolute_error: 0.0143\n",
            "Epoch 317/600\n",
            "68/68 [==============================] - 1s 16ms/step - loss: 3.7979e-04 - mean_absolute_error: 0.0143\n",
            "Epoch 318/600\n",
            "68/68 [==============================] - 1s 17ms/step - loss: 3.7106e-04 - mean_absolute_error: 0.0145\n",
            "Epoch 319/600\n",
            "68/68 [==============================] - 1s 17ms/step - loss: 3.6240e-04 - mean_absolute_error: 0.0140\n",
            "Epoch 320/600\n",
            "68/68 [==============================] - 1s 17ms/step - loss: 3.9974e-04 - mean_absolute_error: 0.0147\n",
            "Epoch 321/600\n",
            "68/68 [==============================] - 1s 17ms/step - loss: 3.8725e-04 - mean_absolute_error: 0.0146\n",
            "Epoch 322/600\n",
            "68/68 [==============================] - 1s 16ms/step - loss: 3.6034e-04 - mean_absolute_error: 0.0137\n",
            "Epoch 323/600\n",
            "68/68 [==============================] - 1s 17ms/step - loss: 3.6427e-04 - mean_absolute_error: 0.0144\n",
            "Epoch 324/600\n",
            "68/68 [==============================] - 1s 17ms/step - loss: 4.1434e-04 - mean_absolute_error: 0.0154\n",
            "Epoch 325/600\n",
            "68/68 [==============================] - 1s 18ms/step - loss: 3.7865e-04 - mean_absolute_error: 0.0146\n",
            "Epoch 326/600\n",
            "68/68 [==============================] - 1s 18ms/step - loss: 3.4841e-04 - mean_absolute_error: 0.0141\n",
            "Epoch 327/600\n",
            "68/68 [==============================] - 1s 17ms/step - loss: 3.8056e-04 - mean_absolute_error: 0.0145\n",
            "Epoch 328/600\n",
            "68/68 [==============================] - 1s 17ms/step - loss: 3.9354e-04 - mean_absolute_error: 0.0146\n",
            "Epoch 329/600\n",
            "68/68 [==============================] - 1s 17ms/step - loss: 3.5826e-04 - mean_absolute_error: 0.0141\n",
            "Epoch 330/600\n",
            "68/68 [==============================] - 1s 17ms/step - loss: 3.5522e-04 - mean_absolute_error: 0.0141\n",
            "Epoch 331/600\n",
            "68/68 [==============================] - 1s 17ms/step - loss: 3.9098e-04 - mean_absolute_error: 0.0147\n",
            "Epoch 332/600\n",
            "68/68 [==============================] - 1s 17ms/step - loss: 3.9110e-04 - mean_absolute_error: 0.0149\n",
            "Epoch 333/600\n",
            "68/68 [==============================] - 1s 17ms/step - loss: 4.1652e-04 - mean_absolute_error: 0.0152\n",
            "Epoch 334/600\n",
            "68/68 [==============================] - 1s 17ms/step - loss: 3.9634e-04 - mean_absolute_error: 0.0147\n",
            "Epoch 335/600\n",
            "68/68 [==============================] - 1s 17ms/step - loss: 3.8794e-04 - mean_absolute_error: 0.0149\n",
            "Epoch 336/600\n",
            "68/68 [==============================] - 1s 17ms/step - loss: 3.5204e-04 - mean_absolute_error: 0.0140\n",
            "Epoch 337/600\n",
            "68/68 [==============================] - 1s 17ms/step - loss: 3.5722e-04 - mean_absolute_error: 0.0143\n",
            "Epoch 338/600\n",
            "68/68 [==============================] - 1s 17ms/step - loss: 3.9052e-04 - mean_absolute_error: 0.0146\n",
            "Epoch 339/600\n",
            "68/68 [==============================] - 1s 17ms/step - loss: 3.7185e-04 - mean_absolute_error: 0.0142\n",
            "Epoch 340/600\n",
            "68/68 [==============================] - 1s 17ms/step - loss: 3.7611e-04 - mean_absolute_error: 0.0146\n",
            "Epoch 341/600\n",
            "68/68 [==============================] - 1s 17ms/step - loss: 3.8725e-04 - mean_absolute_error: 0.0146\n",
            "Epoch 342/600\n",
            "68/68 [==============================] - 1s 17ms/step - loss: 3.8507e-04 - mean_absolute_error: 0.0145\n",
            "Epoch 343/600\n",
            "68/68 [==============================] - 1s 16ms/step - loss: 3.8243e-04 - mean_absolute_error: 0.0146\n",
            "Epoch 344/600\n",
            "68/68 [==============================] - 1s 16ms/step - loss: 3.9501e-04 - mean_absolute_error: 0.0150\n",
            "Epoch 345/600\n",
            "68/68 [==============================] - 1s 16ms/step - loss: 3.9889e-04 - mean_absolute_error: 0.0149\n",
            "Epoch 346/600\n",
            "68/68 [==============================] - 1s 17ms/step - loss: 3.8552e-04 - mean_absolute_error: 0.0146\n",
            "Epoch 347/600\n",
            "68/68 [==============================] - 1s 17ms/step - loss: 3.4887e-04 - mean_absolute_error: 0.0139\n",
            "Epoch 348/600\n",
            "68/68 [==============================] - 1s 17ms/step - loss: 3.8808e-04 - mean_absolute_error: 0.0147\n",
            "Epoch 349/600\n",
            "68/68 [==============================] - 1s 17ms/step - loss: 3.8543e-04 - mean_absolute_error: 0.0147\n",
            "Epoch 350/600\n",
            "68/68 [==============================] - 1s 17ms/step - loss: 4.0448e-04 - mean_absolute_error: 0.0149\n",
            "Epoch 351/600\n",
            "68/68 [==============================] - 1s 16ms/step - loss: 4.0002e-04 - mean_absolute_error: 0.0153\n",
            "Epoch 352/600\n",
            "68/68 [==============================] - 1s 17ms/step - loss: 3.6776e-04 - mean_absolute_error: 0.0147\n",
            "Epoch 353/600\n",
            "68/68 [==============================] - 1s 18ms/step - loss: 3.6776e-04 - mean_absolute_error: 0.0143\n",
            "Epoch 354/600\n",
            "68/68 [==============================] - 1s 17ms/step - loss: 4.0831e-04 - mean_absolute_error: 0.0152\n",
            "Epoch 355/600\n",
            "68/68 [==============================] - 1s 17ms/step - loss: 4.3030e-04 - mean_absolute_error: 0.0155\n",
            "Epoch 356/600\n",
            "68/68 [==============================] - 1s 17ms/step - loss: 3.6421e-04 - mean_absolute_error: 0.0146\n",
            "Epoch 357/600\n",
            "68/68 [==============================] - 1s 17ms/step - loss: 4.4900e-04 - mean_absolute_error: 0.0159\n",
            "Epoch 358/600\n",
            "68/68 [==============================] - 1s 17ms/step - loss: 3.7550e-04 - mean_absolute_error: 0.0145\n",
            "Epoch 359/600\n",
            "68/68 [==============================] - 1s 17ms/step - loss: 4.0370e-04 - mean_absolute_error: 0.0147\n",
            "Epoch 360/600\n",
            "68/68 [==============================] - 1s 17ms/step - loss: 4.1135e-04 - mean_absolute_error: 0.0149\n",
            "Epoch 361/600\n",
            "68/68 [==============================] - 1s 17ms/step - loss: 3.9999e-04 - mean_absolute_error: 0.0152\n",
            "Epoch 362/600\n",
            "68/68 [==============================] - 1s 17ms/step - loss: 3.9218e-04 - mean_absolute_error: 0.0146\n",
            "Epoch 363/600\n",
            "68/68 [==============================] - 1s 17ms/step - loss: 4.0455e-04 - mean_absolute_error: 0.0150\n",
            "Epoch 364/600\n",
            "68/68 [==============================] - 1s 17ms/step - loss: 3.9584e-04 - mean_absolute_error: 0.0146\n",
            "Epoch 365/600\n",
            "68/68 [==============================] - 1s 17ms/step - loss: 3.9966e-04 - mean_absolute_error: 0.0149\n",
            "Epoch 366/600\n",
            "68/68 [==============================] - 1s 17ms/step - loss: 3.7658e-04 - mean_absolute_error: 0.0143\n",
            "Epoch 367/600\n",
            "68/68 [==============================] - 1s 17ms/step - loss: 3.8384e-04 - mean_absolute_error: 0.0146\n",
            "Epoch 368/600\n",
            "68/68 [==============================] - 1s 17ms/step - loss: 3.8616e-04 - mean_absolute_error: 0.0145\n",
            "Epoch 369/600\n",
            "68/68 [==============================] - 1s 17ms/step - loss: 4.4800e-04 - mean_absolute_error: 0.0153\n",
            "Epoch 370/600\n",
            "68/68 [==============================] - 1s 17ms/step - loss: 3.5733e-04 - mean_absolute_error: 0.0140\n",
            "Epoch 371/600\n",
            "68/68 [==============================] - 1s 17ms/step - loss: 4.0190e-04 - mean_absolute_error: 0.0150\n",
            "Epoch 372/600\n",
            "68/68 [==============================] - 1s 17ms/step - loss: 3.2491e-04 - mean_absolute_error: 0.0134\n",
            "Epoch 373/600\n",
            "68/68 [==============================] - 1s 17ms/step - loss: 3.6436e-04 - mean_absolute_error: 0.0139\n",
            "Epoch 374/600\n",
            "68/68 [==============================] - 1s 17ms/step - loss: 3.9519e-04 - mean_absolute_error: 0.0148\n",
            "Epoch 375/600\n",
            "68/68 [==============================] - 1s 17ms/step - loss: 4.0988e-04 - mean_absolute_error: 0.0148\n",
            "Epoch 376/600\n",
            "68/68 [==============================] - 1s 17ms/step - loss: 3.5571e-04 - mean_absolute_error: 0.0137\n",
            "Epoch 377/600\n",
            "68/68 [==============================] - 1s 17ms/step - loss: 3.7264e-04 - mean_absolute_error: 0.0146\n",
            "Epoch 378/600\n",
            "68/68 [==============================] - 1s 17ms/step - loss: 3.4563e-04 - mean_absolute_error: 0.0138\n",
            "Epoch 379/600\n",
            "68/68 [==============================] - 1s 18ms/step - loss: 3.8761e-04 - mean_absolute_error: 0.0147\n",
            "Epoch 380/600\n",
            "68/68 [==============================] - 1s 18ms/step - loss: 3.9850e-04 - mean_absolute_error: 0.0151\n",
            "Epoch 381/600\n",
            "68/68 [==============================] - 1s 18ms/step - loss: 3.8932e-04 - mean_absolute_error: 0.0145\n",
            "Epoch 382/600\n",
            "68/68 [==============================] - 1s 17ms/step - loss: 3.7814e-04 - mean_absolute_error: 0.0144\n",
            "Epoch 383/600\n",
            "68/68 [==============================] - 1s 17ms/step - loss: 3.7614e-04 - mean_absolute_error: 0.0143\n",
            "Epoch 384/600\n",
            "68/68 [==============================] - 1s 17ms/step - loss: 3.8017e-04 - mean_absolute_error: 0.0148\n",
            "Epoch 385/600\n",
            "68/68 [==============================] - 1s 17ms/step - loss: 3.5217e-04 - mean_absolute_error: 0.0139\n",
            "Epoch 386/600\n",
            "68/68 [==============================] - 1s 17ms/step - loss: 3.9455e-04 - mean_absolute_error: 0.0146\n",
            "Epoch 387/600\n",
            "68/68 [==============================] - 1s 17ms/step - loss: 3.8282e-04 - mean_absolute_error: 0.0146\n",
            "Epoch 388/600\n",
            "68/68 [==============================] - 1s 17ms/step - loss: 3.5401e-04 - mean_absolute_error: 0.0139\n",
            "Epoch 389/600\n",
            "68/68 [==============================] - 1s 18ms/step - loss: 3.6549e-04 - mean_absolute_error: 0.0140\n",
            "Epoch 390/600\n",
            "68/68 [==============================] - 1s 17ms/step - loss: 3.6685e-04 - mean_absolute_error: 0.0141\n",
            "Epoch 391/600\n",
            "68/68 [==============================] - 1s 17ms/step - loss: 3.8062e-04 - mean_absolute_error: 0.0143\n",
            "Epoch 392/600\n",
            "68/68 [==============================] - 1s 17ms/step - loss: 3.4685e-04 - mean_absolute_error: 0.0138\n",
            "Epoch 393/600\n",
            "68/68 [==============================] - 1s 18ms/step - loss: 4.0393e-04 - mean_absolute_error: 0.0145\n",
            "Epoch 394/600\n",
            "68/68 [==============================] - 1s 18ms/step - loss: 3.4498e-04 - mean_absolute_error: 0.0139\n",
            "Epoch 395/600\n",
            "68/68 [==============================] - 1s 18ms/step - loss: 4.1987e-04 - mean_absolute_error: 0.0153\n",
            "Epoch 396/600\n",
            "68/68 [==============================] - 1s 18ms/step - loss: 3.5586e-04 - mean_absolute_error: 0.0142\n",
            "Epoch 397/600\n",
            "68/68 [==============================] - 1s 17ms/step - loss: 3.4823e-04 - mean_absolute_error: 0.0143\n",
            "Epoch 398/600\n",
            "68/68 [==============================] - 1s 17ms/step - loss: 3.9460e-04 - mean_absolute_error: 0.0145\n",
            "Epoch 399/600\n",
            "68/68 [==============================] - 1s 17ms/step - loss: 3.9366e-04 - mean_absolute_error: 0.0148\n",
            "Epoch 400/600\n",
            "68/68 [==============================] - 1s 18ms/step - loss: 3.6172e-04 - mean_absolute_error: 0.0141\n",
            "Epoch 401/600\n",
            "68/68 [==============================] - 1s 18ms/step - loss: 3.8501e-04 - mean_absolute_error: 0.0146\n",
            "Epoch 402/600\n",
            "68/68 [==============================] - 1s 17ms/step - loss: 3.7199e-04 - mean_absolute_error: 0.0146\n",
            "Epoch 403/600\n",
            "68/68 [==============================] - 1s 18ms/step - loss: 3.4114e-04 - mean_absolute_error: 0.0139\n",
            "Epoch 404/600\n",
            "68/68 [==============================] - 1s 18ms/step - loss: 3.7857e-04 - mean_absolute_error: 0.0142\n",
            "Epoch 405/600\n",
            "68/68 [==============================] - 1s 17ms/step - loss: 3.6777e-04 - mean_absolute_error: 0.0140\n",
            "Epoch 406/600\n",
            "68/68 [==============================] - 1s 17ms/step - loss: 3.9047e-04 - mean_absolute_error: 0.0144\n",
            "Epoch 407/600\n",
            "68/68 [==============================] - 1s 17ms/step - loss: 3.7292e-04 - mean_absolute_error: 0.0143\n",
            "Epoch 408/600\n",
            "68/68 [==============================] - 1s 17ms/step - loss: 3.7675e-04 - mean_absolute_error: 0.0142\n",
            "Epoch 409/600\n",
            "68/68 [==============================] - 1s 18ms/step - loss: 3.9405e-04 - mean_absolute_error: 0.0146\n",
            "Epoch 410/600\n",
            "68/68 [==============================] - 1s 17ms/step - loss: 3.8435e-04 - mean_absolute_error: 0.0146\n",
            "Epoch 411/600\n",
            "68/68 [==============================] - 1s 17ms/step - loss: 3.5646e-04 - mean_absolute_error: 0.0141\n",
            "Epoch 412/600\n",
            "68/68 [==============================] - 1s 17ms/step - loss: 3.7045e-04 - mean_absolute_error: 0.0141\n",
            "Epoch 413/600\n",
            "68/68 [==============================] - 1s 17ms/step - loss: 3.6446e-04 - mean_absolute_error: 0.0138\n",
            "Epoch 414/600\n",
            "68/68 [==============================] - 1s 17ms/step - loss: 3.8279e-04 - mean_absolute_error: 0.0148\n",
            "Epoch 415/600\n",
            "68/68 [==============================] - 1s 17ms/step - loss: 3.8157e-04 - mean_absolute_error: 0.0140\n",
            "Epoch 416/600\n",
            "68/68 [==============================] - 1s 17ms/step - loss: 3.3981e-04 - mean_absolute_error: 0.0136\n",
            "Epoch 417/600\n",
            "68/68 [==============================] - 1s 17ms/step - loss: 3.8634e-04 - mean_absolute_error: 0.0143\n",
            "Epoch 418/600\n",
            "68/68 [==============================] - 1s 17ms/step - loss: 3.4581e-04 - mean_absolute_error: 0.0138\n",
            "Epoch 419/600\n",
            "68/68 [==============================] - 1s 17ms/step - loss: 3.9022e-04 - mean_absolute_error: 0.0148\n",
            "Epoch 420/600\n",
            "68/68 [==============================] - 1s 17ms/step - loss: 3.7002e-04 - mean_absolute_error: 0.0143\n",
            "Epoch 421/600\n",
            "68/68 [==============================] - 1s 17ms/step - loss: 3.6066e-04 - mean_absolute_error: 0.0139\n",
            "Epoch 422/600\n",
            "68/68 [==============================] - 1s 18ms/step - loss: 3.8455e-04 - mean_absolute_error: 0.0146\n",
            "Epoch 423/600\n",
            "68/68 [==============================] - 1s 17ms/step - loss: 3.4972e-04 - mean_absolute_error: 0.0140\n",
            "Epoch 424/600\n",
            "68/68 [==============================] - 1s 17ms/step - loss: 3.5116e-04 - mean_absolute_error: 0.0140\n",
            "Epoch 425/600\n",
            "68/68 [==============================] - 1s 17ms/step - loss: 3.9737e-04 - mean_absolute_error: 0.0149\n",
            "Epoch 426/600\n",
            "68/68 [==============================] - 1s 18ms/step - loss: 3.8864e-04 - mean_absolute_error: 0.0146\n",
            "Epoch 427/600\n",
            "68/68 [==============================] - 1s 18ms/step - loss: 3.9761e-04 - mean_absolute_error: 0.0151\n",
            "Epoch 428/600\n",
            "68/68 [==============================] - 1s 17ms/step - loss: 4.1878e-04 - mean_absolute_error: 0.0149\n",
            "Epoch 429/600\n",
            "68/68 [==============================] - 1s 17ms/step - loss: 3.7752e-04 - mean_absolute_error: 0.0144\n",
            "Epoch 430/600\n",
            "68/68 [==============================] - 1s 18ms/step - loss: 3.6405e-04 - mean_absolute_error: 0.0139\n",
            "Epoch 431/600\n",
            "68/68 [==============================] - 1s 18ms/step - loss: 3.7639e-04 - mean_absolute_error: 0.0146\n",
            "Epoch 432/600\n",
            "68/68 [==============================] - 1s 18ms/step - loss: 3.9525e-04 - mean_absolute_error: 0.0147\n",
            "Epoch 433/600\n",
            "68/68 [==============================] - 1s 18ms/step - loss: 4.1691e-04 - mean_absolute_error: 0.0146\n",
            "Epoch 434/600\n",
            "68/68 [==============================] - 1s 18ms/step - loss: 3.7941e-04 - mean_absolute_error: 0.0146\n",
            "Epoch 435/600\n",
            "68/68 [==============================] - 1s 18ms/step - loss: 3.7310e-04 - mean_absolute_error: 0.0143\n",
            "Epoch 436/600\n",
            "68/68 [==============================] - 1s 17ms/step - loss: 3.6379e-04 - mean_absolute_error: 0.0142\n",
            "Epoch 437/600\n",
            "68/68 [==============================] - 1s 17ms/step - loss: 3.6527e-04 - mean_absolute_error: 0.0141\n",
            "Epoch 438/600\n",
            "68/68 [==============================] - 1s 17ms/step - loss: 3.6388e-04 - mean_absolute_error: 0.0139\n",
            "Epoch 439/600\n",
            "68/68 [==============================] - 1s 17ms/step - loss: 3.6891e-04 - mean_absolute_error: 0.0140\n",
            "Epoch 440/600\n",
            "68/68 [==============================] - 1s 17ms/step - loss: 3.5397e-04 - mean_absolute_error: 0.0139\n",
            "Epoch 441/600\n",
            "68/68 [==============================] - 1s 17ms/step - loss: 3.7250e-04 - mean_absolute_error: 0.0146\n",
            "Epoch 442/600\n",
            "68/68 [==============================] - 1s 17ms/step - loss: 3.7346e-04 - mean_absolute_error: 0.0145\n",
            "Epoch 443/600\n",
            "68/68 [==============================] - 1s 17ms/step - loss: 3.6675e-04 - mean_absolute_error: 0.0138\n",
            "Epoch 444/600\n",
            "68/68 [==============================] - 1s 17ms/step - loss: 3.5647e-04 - mean_absolute_error: 0.0140\n",
            "Epoch 445/600\n",
            "68/68 [==============================] - 1s 18ms/step - loss: 3.4511e-04 - mean_absolute_error: 0.0138\n",
            "Epoch 446/600\n",
            "68/68 [==============================] - 1s 17ms/step - loss: 3.7124e-04 - mean_absolute_error: 0.0142\n",
            "Epoch 447/600\n",
            "68/68 [==============================] - 1s 17ms/step - loss: 3.7198e-04 - mean_absolute_error: 0.0140\n",
            "Epoch 448/600\n",
            "68/68 [==============================] - 1s 18ms/step - loss: 3.8659e-04 - mean_absolute_error: 0.0147\n",
            "Epoch 449/600\n",
            "68/68 [==============================] - 1s 17ms/step - loss: 3.9700e-04 - mean_absolute_error: 0.0146\n",
            "Epoch 450/600\n",
            "68/68 [==============================] - 1s 17ms/step - loss: 3.7160e-04 - mean_absolute_error: 0.0142\n",
            "Epoch 451/600\n",
            "68/68 [==============================] - 1s 17ms/step - loss: 3.6522e-04 - mean_absolute_error: 0.0142\n",
            "Epoch 452/600\n",
            "68/68 [==============================] - 1s 17ms/step - loss: 3.6869e-04 - mean_absolute_error: 0.0142\n",
            "Epoch 453/600\n",
            "68/68 [==============================] - 1s 17ms/step - loss: 3.3550e-04 - mean_absolute_error: 0.0137\n",
            "Epoch 454/600\n",
            "68/68 [==============================] - 1s 18ms/step - loss: 3.9615e-04 - mean_absolute_error: 0.0147\n",
            "Epoch 455/600\n",
            "68/68 [==============================] - 1s 18ms/step - loss: 3.4388e-04 - mean_absolute_error: 0.0140\n",
            "Epoch 456/600\n",
            "68/68 [==============================] - 1s 17ms/step - loss: 3.5488e-04 - mean_absolute_error: 0.0140\n",
            "Epoch 457/600\n",
            "68/68 [==============================] - 1s 18ms/step - loss: 3.4694e-04 - mean_absolute_error: 0.0138\n",
            "Epoch 458/600\n",
            "68/68 [==============================] - 1s 18ms/step - loss: 3.5920e-04 - mean_absolute_error: 0.0142\n",
            "Epoch 459/600\n",
            "68/68 [==============================] - 1s 18ms/step - loss: 3.4140e-04 - mean_absolute_error: 0.0137\n",
            "Epoch 460/600\n",
            "68/68 [==============================] - 1s 18ms/step - loss: 3.7492e-04 - mean_absolute_error: 0.0144\n",
            "Epoch 461/600\n",
            "68/68 [==============================] - 1s 18ms/step - loss: 3.9252e-04 - mean_absolute_error: 0.0146\n",
            "Epoch 462/600\n",
            "68/68 [==============================] - 1s 18ms/step - loss: 3.5080e-04 - mean_absolute_error: 0.0139\n",
            "Epoch 463/600\n",
            "68/68 [==============================] - 1s 18ms/step - loss: 4.0114e-04 - mean_absolute_error: 0.0149\n",
            "Epoch 464/600\n",
            "68/68 [==============================] - 1s 19ms/step - loss: 3.5115e-04 - mean_absolute_error: 0.0137\n",
            "Epoch 465/600\n",
            "68/68 [==============================] - 1s 18ms/step - loss: 3.8103e-04 - mean_absolute_error: 0.0144\n",
            "Epoch 466/600\n",
            "68/68 [==============================] - 1s 18ms/step - loss: 3.8195e-04 - mean_absolute_error: 0.0141\n",
            "Epoch 467/600\n",
            "68/68 [==============================] - 1s 17ms/step - loss: 3.8726e-04 - mean_absolute_error: 0.0144\n",
            "Epoch 468/600\n",
            "68/68 [==============================] - 1s 18ms/step - loss: 3.9280e-04 - mean_absolute_error: 0.0148\n",
            "Epoch 469/600\n",
            "68/68 [==============================] - 1s 17ms/step - loss: 3.6725e-04 - mean_absolute_error: 0.0141\n",
            "Epoch 470/600\n",
            "68/68 [==============================] - 1s 18ms/step - loss: 3.8611e-04 - mean_absolute_error: 0.0140\n",
            "Epoch 471/600\n",
            "68/68 [==============================] - 1s 18ms/step - loss: 3.4958e-04 - mean_absolute_error: 0.0138\n",
            "Epoch 472/600\n",
            "68/68 [==============================] - 1s 18ms/step - loss: 3.7493e-04 - mean_absolute_error: 0.0146\n",
            "Epoch 473/600\n",
            "68/68 [==============================] - 1s 17ms/step - loss: 4.3335e-04 - mean_absolute_error: 0.0154\n",
            "Epoch 474/600\n",
            "68/68 [==============================] - 1s 17ms/step - loss: 3.6931e-04 - mean_absolute_error: 0.0143\n",
            "Epoch 475/600\n",
            "68/68 [==============================] - 1s 17ms/step - loss: 3.6105e-04 - mean_absolute_error: 0.0143\n",
            "Epoch 476/600\n",
            "68/68 [==============================] - 1s 17ms/step - loss: 3.7209e-04 - mean_absolute_error: 0.0142\n",
            "Epoch 477/600\n",
            "68/68 [==============================] - 1s 18ms/step - loss: 3.6592e-04 - mean_absolute_error: 0.0142\n",
            "Epoch 478/600\n",
            "68/68 [==============================] - 1s 17ms/step - loss: 3.9404e-04 - mean_absolute_error: 0.0142\n",
            "Epoch 479/600\n",
            "68/68 [==============================] - 1s 17ms/step - loss: 3.4900e-04 - mean_absolute_error: 0.0138\n",
            "Epoch 480/600\n",
            "68/68 [==============================] - 1s 17ms/step - loss: 3.8519e-04 - mean_absolute_error: 0.0147\n",
            "Epoch 481/600\n",
            "68/68 [==============================] - 1s 17ms/step - loss: 3.9918e-04 - mean_absolute_error: 0.0146\n",
            "Epoch 482/600\n",
            "68/68 [==============================] - 1s 18ms/step - loss: 4.0012e-04 - mean_absolute_error: 0.0142\n",
            "Epoch 483/600\n",
            "68/68 [==============================] - 1s 18ms/step - loss: 3.5689e-04 - mean_absolute_error: 0.0139\n",
            "Epoch 484/600\n",
            "68/68 [==============================] - 1s 18ms/step - loss: 3.7002e-04 - mean_absolute_error: 0.0144\n",
            "Epoch 485/600\n",
            "68/68 [==============================] - 1s 18ms/step - loss: 3.8673e-04 - mean_absolute_error: 0.0145\n",
            "Epoch 486/600\n",
            "68/68 [==============================] - 1s 18ms/step - loss: 3.4771e-04 - mean_absolute_error: 0.0138\n",
            "Epoch 487/600\n",
            "68/68 [==============================] - 1s 18ms/step - loss: 3.5541e-04 - mean_absolute_error: 0.0140\n",
            "Epoch 488/600\n",
            "68/68 [==============================] - 1s 18ms/step - loss: 3.6198e-04 - mean_absolute_error: 0.0140\n",
            "Epoch 489/600\n",
            "68/68 [==============================] - 1s 18ms/step - loss: 3.8631e-04 - mean_absolute_error: 0.0146\n",
            "Epoch 490/600\n",
            "68/68 [==============================] - 1s 18ms/step - loss: 3.4988e-04 - mean_absolute_error: 0.0137\n",
            "Epoch 491/600\n",
            "68/68 [==============================] - 1s 17ms/step - loss: 3.4442e-04 - mean_absolute_error: 0.0138\n",
            "Epoch 492/600\n",
            "68/68 [==============================] - 1s 18ms/step - loss: 3.6438e-04 - mean_absolute_error: 0.0141\n",
            "Epoch 493/600\n",
            "68/68 [==============================] - 1s 18ms/step - loss: 4.1870e-04 - mean_absolute_error: 0.0149\n",
            "Epoch 494/600\n",
            "68/68 [==============================] - 1s 18ms/step - loss: 3.6381e-04 - mean_absolute_error: 0.0143\n",
            "Epoch 495/600\n",
            "68/68 [==============================] - 1s 18ms/step - loss: 3.7770e-04 - mean_absolute_error: 0.0143\n",
            "Epoch 496/600\n",
            "68/68 [==============================] - 1s 18ms/step - loss: 3.7151e-04 - mean_absolute_error: 0.0142\n",
            "Epoch 497/600\n",
            "68/68 [==============================] - 1s 18ms/step - loss: 3.5784e-04 - mean_absolute_error: 0.0140\n",
            "Epoch 498/600\n",
            "68/68 [==============================] - 1s 18ms/step - loss: 3.6667e-04 - mean_absolute_error: 0.0142\n",
            "Epoch 499/600\n",
            "68/68 [==============================] - 1s 18ms/step - loss: 3.7317e-04 - mean_absolute_error: 0.0141\n",
            "Epoch 500/600\n",
            "68/68 [==============================] - 1s 18ms/step - loss: 3.6199e-04 - mean_absolute_error: 0.0142\n",
            "Epoch 501/600\n",
            "68/68 [==============================] - 1s 18ms/step - loss: 3.6131e-04 - mean_absolute_error: 0.0139\n",
            "Epoch 502/600\n",
            "68/68 [==============================] - 1s 18ms/step - loss: 3.6728e-04 - mean_absolute_error: 0.0143\n",
            "Epoch 503/600\n",
            "68/68 [==============================] - 1s 18ms/step - loss: 3.7709e-04 - mean_absolute_error: 0.0140\n",
            "Epoch 504/600\n",
            "68/68 [==============================] - 1s 18ms/step - loss: 3.7978e-04 - mean_absolute_error: 0.0144\n",
            "Epoch 505/600\n",
            "68/68 [==============================] - 1s 18ms/step - loss: 3.7483e-04 - mean_absolute_error: 0.0144\n",
            "Epoch 506/600\n",
            "68/68 [==============================] - 1s 18ms/step - loss: 3.3313e-04 - mean_absolute_error: 0.0138\n",
            "Epoch 507/600\n",
            "68/68 [==============================] - 1s 18ms/step - loss: 3.4708e-04 - mean_absolute_error: 0.0137\n",
            "Epoch 508/600\n",
            "68/68 [==============================] - 1s 18ms/step - loss: 3.7374e-04 - mean_absolute_error: 0.0143\n",
            "Epoch 509/600\n",
            "68/68 [==============================] - 1s 18ms/step - loss: 3.7019e-04 - mean_absolute_error: 0.0143\n",
            "Epoch 510/600\n",
            "68/68 [==============================] - 1s 18ms/step - loss: 3.8286e-04 - mean_absolute_error: 0.0144\n",
            "Epoch 511/600\n",
            "68/68 [==============================] - 1s 18ms/step - loss: 3.6329e-04 - mean_absolute_error: 0.0142\n",
            "Epoch 512/600\n",
            "68/68 [==============================] - 1s 18ms/step - loss: 3.9282e-04 - mean_absolute_error: 0.0148\n",
            "Epoch 513/600\n",
            "68/68 [==============================] - 1s 18ms/step - loss: 3.9064e-04 - mean_absolute_error: 0.0145\n",
            "Epoch 514/600\n",
            "68/68 [==============================] - 1s 18ms/step - loss: 4.2511e-04 - mean_absolute_error: 0.0151\n",
            "Epoch 515/600\n",
            "68/68 [==============================] - 1s 18ms/step - loss: 3.6882e-04 - mean_absolute_error: 0.0144\n",
            "Epoch 516/600\n",
            "68/68 [==============================] - 1s 18ms/step - loss: 3.4011e-04 - mean_absolute_error: 0.0139\n",
            "Epoch 517/600\n",
            "68/68 [==============================] - 1s 18ms/step - loss: 3.2658e-04 - mean_absolute_error: 0.0132\n",
            "Epoch 518/600\n",
            "68/68 [==============================] - 1s 18ms/step - loss: 3.3271e-04 - mean_absolute_error: 0.0133\n",
            "Epoch 519/600\n",
            "68/68 [==============================] - 1s 17ms/step - loss: 3.1056e-04 - mean_absolute_error: 0.0131\n",
            "Epoch 520/600\n",
            "68/68 [==============================] - 1s 18ms/step - loss: 3.8101e-04 - mean_absolute_error: 0.0145\n",
            "Epoch 521/600\n",
            "68/68 [==============================] - 1s 18ms/step - loss: 3.9991e-04 - mean_absolute_error: 0.0150\n",
            "Epoch 522/600\n",
            "68/68 [==============================] - 1s 18ms/step - loss: 3.5070e-04 - mean_absolute_error: 0.0135\n",
            "Epoch 523/600\n",
            "68/68 [==============================] - 1s 18ms/step - loss: 3.4764e-04 - mean_absolute_error: 0.0137\n",
            "Epoch 524/600\n",
            "68/68 [==============================] - 1s 18ms/step - loss: 3.3979e-04 - mean_absolute_error: 0.0139\n",
            "Epoch 525/600\n",
            "68/68 [==============================] - 1s 18ms/step - loss: 3.4939e-04 - mean_absolute_error: 0.0140\n",
            "Epoch 526/600\n",
            "68/68 [==============================] - 1s 18ms/step - loss: 4.0120e-04 - mean_absolute_error: 0.0146\n",
            "Epoch 527/600\n",
            "68/68 [==============================] - 1s 19ms/step - loss: 3.8914e-04 - mean_absolute_error: 0.0145\n",
            "Epoch 528/600\n",
            "68/68 [==============================] - 1s 18ms/step - loss: 4.0092e-04 - mean_absolute_error: 0.0147\n",
            "Epoch 529/600\n",
            "68/68 [==============================] - 1s 19ms/step - loss: 3.8402e-04 - mean_absolute_error: 0.0145\n",
            "Epoch 530/600\n",
            "68/68 [==============================] - 1s 18ms/step - loss: 3.5142e-04 - mean_absolute_error: 0.0139\n",
            "Epoch 531/600\n",
            "68/68 [==============================] - 1s 19ms/step - loss: 3.6582e-04 - mean_absolute_error: 0.0143\n",
            "Epoch 532/600\n",
            "68/68 [==============================] - 1s 18ms/step - loss: 3.2480e-04 - mean_absolute_error: 0.0134\n",
            "Epoch 533/600\n",
            "68/68 [==============================] - 1s 18ms/step - loss: 3.5659e-04 - mean_absolute_error: 0.0140\n",
            "Epoch 534/600\n",
            "68/68 [==============================] - 1s 18ms/step - loss: 3.4904e-04 - mean_absolute_error: 0.0135\n",
            "Epoch 535/600\n",
            "68/68 [==============================] - 1s 18ms/step - loss: 3.6160e-04 - mean_absolute_error: 0.0141\n",
            "Epoch 536/600\n",
            "68/68 [==============================] - 1s 18ms/step - loss: 3.5558e-04 - mean_absolute_error: 0.0137\n",
            "Epoch 537/600\n",
            "68/68 [==============================] - 1s 18ms/step - loss: 3.8978e-04 - mean_absolute_error: 0.0147\n",
            "Epoch 538/600\n",
            "68/68 [==============================] - 1s 18ms/step - loss: 3.8273e-04 - mean_absolute_error: 0.0142\n",
            "Epoch 539/600\n",
            "68/68 [==============================] - 1s 18ms/step - loss: 3.3653e-04 - mean_absolute_error: 0.0137\n",
            "Epoch 540/600\n",
            "68/68 [==============================] - 1s 18ms/step - loss: 3.3626e-04 - mean_absolute_error: 0.0136\n",
            "Epoch 541/600\n",
            "68/68 [==============================] - 1s 18ms/step - loss: 3.4421e-04 - mean_absolute_error: 0.0138\n",
            "Epoch 542/600\n",
            "68/68 [==============================] - 1s 18ms/step - loss: 3.5151e-04 - mean_absolute_error: 0.0138\n",
            "Epoch 543/600\n",
            "68/68 [==============================] - 1s 18ms/step - loss: 3.5792e-04 - mean_absolute_error: 0.0140\n",
            "Epoch 544/600\n",
            "68/68 [==============================] - 1s 18ms/step - loss: 3.7357e-04 - mean_absolute_error: 0.0143\n",
            "Epoch 545/600\n",
            "68/68 [==============================] - 1s 18ms/step - loss: 3.9709e-04 - mean_absolute_error: 0.0148\n",
            "Epoch 546/600\n",
            "68/68 [==============================] - 1s 18ms/step - loss: 3.5674e-04 - mean_absolute_error: 0.0143\n",
            "Epoch 547/600\n",
            "68/68 [==============================] - 1s 18ms/step - loss: 3.9812e-04 - mean_absolute_error: 0.0149\n",
            "Epoch 548/600\n",
            "68/68 [==============================] - 1s 18ms/step - loss: 3.4119e-04 - mean_absolute_error: 0.0134\n",
            "Epoch 549/600\n",
            "68/68 [==============================] - 1s 18ms/step - loss: 3.3831e-04 - mean_absolute_error: 0.0136\n",
            "Epoch 550/600\n",
            "68/68 [==============================] - 1s 18ms/step - loss: 3.6479e-04 - mean_absolute_error: 0.0141\n",
            "Epoch 551/600\n",
            "68/68 [==============================] - 1s 18ms/step - loss: 3.2621e-04 - mean_absolute_error: 0.0133\n",
            "Epoch 552/600\n",
            "68/68 [==============================] - 1s 19ms/step - loss: 3.3643e-04 - mean_absolute_error: 0.0136\n",
            "Epoch 553/600\n",
            "68/68 [==============================] - 1s 18ms/step - loss: 3.4925e-04 - mean_absolute_error: 0.0139\n",
            "Epoch 554/600\n",
            "68/68 [==============================] - 1s 18ms/step - loss: 3.4898e-04 - mean_absolute_error: 0.0138\n",
            "Epoch 555/600\n",
            "68/68 [==============================] - 1s 18ms/step - loss: 3.1379e-04 - mean_absolute_error: 0.0130\n",
            "Epoch 556/600\n",
            "68/68 [==============================] - 1s 18ms/step - loss: 3.5524e-04 - mean_absolute_error: 0.0141\n",
            "Epoch 557/600\n",
            "68/68 [==============================] - 1s 18ms/step - loss: 3.3284e-04 - mean_absolute_error: 0.0135\n",
            "Epoch 558/600\n",
            "68/68 [==============================] - 1s 18ms/step - loss: 3.6558e-04 - mean_absolute_error: 0.0140\n",
            "Epoch 559/600\n",
            "68/68 [==============================] - 1s 18ms/step - loss: 3.0492e-04 - mean_absolute_error: 0.0131\n",
            "Epoch 560/600\n",
            "68/68 [==============================] - 1s 18ms/step - loss: 3.8581e-04 - mean_absolute_error: 0.0144\n",
            "Epoch 561/600\n",
            "68/68 [==============================] - 1s 18ms/step - loss: 3.7055e-04 - mean_absolute_error: 0.0140\n",
            "Epoch 562/600\n",
            "68/68 [==============================] - 1s 18ms/step - loss: 3.1118e-04 - mean_absolute_error: 0.0132\n",
            "Epoch 563/600\n",
            "68/68 [==============================] - 1s 18ms/step - loss: 3.7433e-04 - mean_absolute_error: 0.0144\n",
            "Epoch 564/600\n",
            "68/68 [==============================] - 1s 18ms/step - loss: 3.8050e-04 - mean_absolute_error: 0.0143\n",
            "Epoch 565/600\n",
            "68/68 [==============================] - 1s 18ms/step - loss: 4.1098e-04 - mean_absolute_error: 0.0151\n",
            "Epoch 566/600\n",
            "68/68 [==============================] - 1s 18ms/step - loss: 3.7429e-04 - mean_absolute_error: 0.0143\n",
            "Epoch 567/600\n",
            "68/68 [==============================] - 1s 18ms/step - loss: 3.5889e-04 - mean_absolute_error: 0.0140\n",
            "Epoch 568/600\n",
            "68/68 [==============================] - 1s 18ms/step - loss: 3.3519e-04 - mean_absolute_error: 0.0139\n",
            "Epoch 569/600\n",
            "68/68 [==============================] - 1s 18ms/step - loss: 3.6820e-04 - mean_absolute_error: 0.0141\n",
            "Epoch 570/600\n",
            "68/68 [==============================] - 1s 18ms/step - loss: 3.3626e-04 - mean_absolute_error: 0.0136\n",
            "Epoch 571/600\n",
            "68/68 [==============================] - 1s 18ms/step - loss: 3.3473e-04 - mean_absolute_error: 0.0138\n",
            "Epoch 572/600\n",
            "68/68 [==============================] - 1s 18ms/step - loss: 3.5151e-04 - mean_absolute_error: 0.0139\n",
            "Epoch 573/600\n",
            "68/68 [==============================] - 1s 18ms/step - loss: 3.8890e-04 - mean_absolute_error: 0.0142\n",
            "Epoch 574/600\n",
            "68/68 [==============================] - 1s 17ms/step - loss: 3.6109e-04 - mean_absolute_error: 0.0138\n",
            "Epoch 575/600\n",
            "68/68 [==============================] - 1s 19ms/step - loss: 3.9595e-04 - mean_absolute_error: 0.0144\n",
            "Epoch 576/600\n",
            "68/68 [==============================] - 1s 18ms/step - loss: 3.5032e-04 - mean_absolute_error: 0.0138\n",
            "Epoch 577/600\n",
            "68/68 [==============================] - 1s 18ms/step - loss: 3.6334e-04 - mean_absolute_error: 0.0141\n",
            "Epoch 578/600\n",
            "68/68 [==============================] - 1s 18ms/step - loss: 3.4686e-04 - mean_absolute_error: 0.0138\n",
            "Epoch 579/600\n",
            "68/68 [==============================] - 1s 18ms/step - loss: 3.4545e-04 - mean_absolute_error: 0.0139\n",
            "Epoch 580/600\n",
            "68/68 [==============================] - 1s 18ms/step - loss: 3.2513e-04 - mean_absolute_error: 0.0135\n",
            "Epoch 581/600\n",
            "68/68 [==============================] - 1s 18ms/step - loss: 3.3462e-04 - mean_absolute_error: 0.0137\n",
            "Epoch 582/600\n",
            "68/68 [==============================] - 1s 18ms/step - loss: 3.6320e-04 - mean_absolute_error: 0.0139\n",
            "Epoch 583/600\n",
            "68/68 [==============================] - 1s 18ms/step - loss: 3.7689e-04 - mean_absolute_error: 0.0144\n",
            "Epoch 584/600\n",
            "68/68 [==============================] - 1s 18ms/step - loss: 3.4409e-04 - mean_absolute_error: 0.0136\n",
            "Epoch 585/600\n",
            "68/68 [==============================] - 1s 18ms/step - loss: 3.1616e-04 - mean_absolute_error: 0.0131\n",
            "Epoch 586/600\n",
            "68/68 [==============================] - 1s 18ms/step - loss: 2.9889e-04 - mean_absolute_error: 0.0129\n",
            "Epoch 587/600\n",
            "68/68 [==============================] - 1s 18ms/step - loss: 3.7489e-04 - mean_absolute_error: 0.0143\n",
            "Epoch 588/600\n",
            "68/68 [==============================] - 1s 18ms/step - loss: 3.5326e-04 - mean_absolute_error: 0.0140\n",
            "Epoch 589/600\n",
            "68/68 [==============================] - 1s 18ms/step - loss: 3.5741e-04 - mean_absolute_error: 0.0137\n",
            "Epoch 590/600\n",
            "68/68 [==============================] - 1s 18ms/step - loss: 3.4244e-04 - mean_absolute_error: 0.0136\n",
            "Epoch 591/600\n",
            "68/68 [==============================] - 1s 18ms/step - loss: 3.5741e-04 - mean_absolute_error: 0.0138\n",
            "Epoch 592/600\n",
            "68/68 [==============================] - 1s 18ms/step - loss: 3.6604e-04 - mean_absolute_error: 0.0141\n",
            "Epoch 593/600\n",
            "68/68 [==============================] - 1s 18ms/step - loss: 3.5594e-04 - mean_absolute_error: 0.0138\n",
            "Epoch 594/600\n",
            "68/68 [==============================] - 1s 18ms/step - loss: 3.1418e-04 - mean_absolute_error: 0.0134\n",
            "Epoch 595/600\n",
            "68/68 [==============================] - 1s 18ms/step - loss: 3.2858e-04 - mean_absolute_error: 0.0135\n",
            "Epoch 596/600\n",
            "68/68 [==============================] - 1s 18ms/step - loss: 3.4299e-04 - mean_absolute_error: 0.0132\n",
            "Epoch 597/600\n",
            "68/68 [==============================] - 1s 19ms/step - loss: 3.4552e-04 - mean_absolute_error: 0.0137\n",
            "Epoch 598/600\n",
            "68/68 [==============================] - 1s 19ms/step - loss: 3.4371e-04 - mean_absolute_error: 0.0136\n",
            "Epoch 599/600\n",
            "68/68 [==============================] - 1s 18ms/step - loss: 3.7698e-04 - mean_absolute_error: 0.0147\n",
            "Epoch 600/600\n",
            "68/68 [==============================] - 1s 19ms/step - loss: 4.1189e-04 - mean_absolute_error: 0.0149\n"
          ],
          "name": "stdout"
        },
        {
          "output_type": "execute_result",
          "data": {
            "text/plain": [
              "<tensorflow.python.keras.callbacks.History at 0x7fb9ed726450>"
            ]
          },
          "metadata": {
            "tags": []
          },
          "execution_count": 0
        }
      ]
    },
    {
      "cell_type": "markdown",
      "metadata": {
        "id": "RtFahmEgGAzZ"
      },
      "source": [
        "#**5-Teste da rede**"
      ]
    },
    {
      "cell_type": "markdown",
      "metadata": {
        "id": "QSWSKW8nqeA0"
      },
      "source": [
        "##**5.1-Importando os dados para teste**"
      ]
    },
    {
      "cell_type": "code",
      "metadata": {
        "id": "4X6-ArtKUdpD"
      },
      "source": [
        "#criando a base de dados teste\n",
        "base_teste = pd.read_csv('VALE-teste.csv')\n",
        "base_teste = base_teste.drop('Date', axis = 1)"
      ],
      "execution_count": 15,
      "outputs": []
    },
    {
      "cell_type": "code",
      "metadata": {
        "colab": {
          "base_uri": "https://localhost:8080/",
          "height": 297
        },
        "id": "dXOp2vDcpAvA",
        "outputId": "d8e4816f-b926-4311-de3b-59370433b261"
      },
      "source": [
        "#valores estatísticos\n",
        "base_teste.describe()"
      ],
      "execution_count": 16,
      "outputs": [
        {
          "output_type": "execute_result",
          "data": {
            "text/html": [
              "<div>\n",
              "<style scoped>\n",
              "    .dataframe tbody tr th:only-of-type {\n",
              "        vertical-align: middle;\n",
              "    }\n",
              "\n",
              "    .dataframe tbody tr th {\n",
              "        vertical-align: top;\n",
              "    }\n",
              "\n",
              "    .dataframe thead th {\n",
              "        text-align: right;\n",
              "    }\n",
              "</style>\n",
              "<table border=\"1\" class=\"dataframe\">\n",
              "  <thead>\n",
              "    <tr style=\"text-align: right;\">\n",
              "      <th></th>\n",
              "      <th>Open</th>\n",
              "      <th>High</th>\n",
              "      <th>Low</th>\n",
              "      <th>Close</th>\n",
              "      <th>Adj Close</th>\n",
              "      <th>Volume</th>\n",
              "    </tr>\n",
              "  </thead>\n",
              "  <tbody>\n",
              "    <tr>\n",
              "      <th>count</th>\n",
              "      <td>252.000000</td>\n",
              "      <td>252.000000</td>\n",
              "      <td>252.000000</td>\n",
              "      <td>252.000000</td>\n",
              "      <td>252.000000</td>\n",
              "      <td>2.520000e+02</td>\n",
              "    </tr>\n",
              "    <tr>\n",
              "      <th>mean</th>\n",
              "      <td>12.474802</td>\n",
              "      <td>12.618056</td>\n",
              "      <td>12.319722</td>\n",
              "      <td>12.468333</td>\n",
              "      <td>11.141986</td>\n",
              "      <td>2.334522e+07</td>\n",
              "    </tr>\n",
              "    <tr>\n",
              "      <th>std</th>\n",
              "      <td>0.991542</td>\n",
              "      <td>0.989100</td>\n",
              "      <td>0.973310</td>\n",
              "      <td>0.980194</td>\n",
              "      <td>0.879070</td>\n",
              "      <td>1.629729e+07</td>\n",
              "    </tr>\n",
              "    <tr>\n",
              "      <th>min</th>\n",
              "      <td>10.300000</td>\n",
              "      <td>10.500000</td>\n",
              "      <td>10.200000</td>\n",
              "      <td>10.280000</td>\n",
              "      <td>9.183385</td>\n",
              "      <td>5.251400e+06</td>\n",
              "    </tr>\n",
              "    <tr>\n",
              "      <th>25%</th>\n",
              "      <td>11.670000</td>\n",
              "      <td>11.807500</td>\n",
              "      <td>11.485000</td>\n",
              "      <td>11.632500</td>\n",
              "      <td>10.391608</td>\n",
              "      <td>1.531358e+07</td>\n",
              "    </tr>\n",
              "    <tr>\n",
              "      <th>50%</th>\n",
              "      <td>12.405000</td>\n",
              "      <td>12.585000</td>\n",
              "      <td>12.320000</td>\n",
              "      <td>12.450000</td>\n",
              "      <td>11.121901</td>\n",
              "      <td>1.972140e+07</td>\n",
              "    </tr>\n",
              "    <tr>\n",
              "      <th>75%</th>\n",
              "      <td>13.300000</td>\n",
              "      <td>13.412500</td>\n",
              "      <td>13.142500</td>\n",
              "      <td>13.270000</td>\n",
              "      <td>11.863361</td>\n",
              "      <td>2.617838e+07</td>\n",
              "    </tr>\n",
              "    <tr>\n",
              "      <th>max</th>\n",
              "      <td>15.180000</td>\n",
              "      <td>15.450000</td>\n",
              "      <td>14.700000</td>\n",
              "      <td>14.860000</td>\n",
              "      <td>13.274816</td>\n",
              "      <td>1.574684e+08</td>\n",
              "    </tr>\n",
              "  </tbody>\n",
              "</table>\n",
              "</div>"
            ],
            "text/plain": [
              "             Open        High         Low       Close   Adj Close        Volume\n",
              "count  252.000000  252.000000  252.000000  252.000000  252.000000  2.520000e+02\n",
              "mean    12.474802   12.618056   12.319722   12.468333   11.141986  2.334522e+07\n",
              "std      0.991542    0.989100    0.973310    0.980194    0.879070  1.629729e+07\n",
              "min     10.300000   10.500000   10.200000   10.280000    9.183385  5.251400e+06\n",
              "25%     11.670000   11.807500   11.485000   11.632500   10.391608  1.531358e+07\n",
              "50%     12.405000   12.585000   12.320000   12.450000   11.121901  1.972140e+07\n",
              "75%     13.300000   13.412500   13.142500   13.270000   11.863361  2.617838e+07\n",
              "max     15.180000   15.450000   14.700000   14.860000   13.274816  1.574684e+08"
            ]
          },
          "metadata": {
            "tags": []
          },
          "execution_count": 16
        }
      ]
    },
    {
      "cell_type": "markdown",
      "metadata": {
        "id": "Cw-NIb9EpatP"
      },
      "source": [
        "##**5.2-Tratando os Valores Faltantes**"
      ]
    },
    {
      "cell_type": "code",
      "metadata": {
        "colab": {
          "base_uri": "https://localhost:8080/"
        },
        "id": "lthEX_TZniHb",
        "outputId": "e3159206-e135-4ee7-c8eb-745d0065c241"
      },
      "source": [
        "#valores faltantes\n",
        "base_teste.isna().sum()"
      ],
      "execution_count": 17,
      "outputs": [
        {
          "output_type": "execute_result",
          "data": {
            "text/plain": [
              "Open         0\n",
              "High         0\n",
              "Low          0\n",
              "Close        0\n",
              "Adj Close    0\n",
              "Volume       0\n",
              "dtype: int64"
            ]
          },
          "metadata": {
            "tags": []
          },
          "execution_count": 17
        }
      ]
    },
    {
      "cell_type": "code",
      "metadata": {
        "colab": {
          "base_uri": "https://localhost:8080/",
          "height": 49
        },
        "id": "uiH2j_UNpjqk",
        "outputId": "a4fba2a5-8e69-467c-b1de-30e8e7143ecc"
      },
      "source": [
        "#encontrando onde os valores faltantes estão\n",
        "base_teste.loc[pd.isnull(base_teste['Open'])]\n",
        "base_teste.loc[pd.isnull(base_teste['High'])]\n",
        "base_teste.loc[pd.isnull(base_teste['Low'])]\n",
        "base_teste.loc[pd.isnull(base_teste['Close'])]\n",
        "base_teste.loc[pd.isnull(base_teste['Adj Close'])]\n",
        "base_teste.loc[pd.isnull(base_teste['Volume'])]"
      ],
      "execution_count": 20,
      "outputs": [
        {
          "output_type": "execute_result",
          "data": {
            "text/html": [
              "<div>\n",
              "<style scoped>\n",
              "    .dataframe tbody tr th:only-of-type {\n",
              "        vertical-align: middle;\n",
              "    }\n",
              "\n",
              "    .dataframe tbody tr th {\n",
              "        vertical-align: top;\n",
              "    }\n",
              "\n",
              "    .dataframe thead th {\n",
              "        text-align: right;\n",
              "    }\n",
              "</style>\n",
              "<table border=\"1\" class=\"dataframe\">\n",
              "  <thead>\n",
              "    <tr style=\"text-align: right;\">\n",
              "      <th></th>\n",
              "      <th>Open</th>\n",
              "      <th>High</th>\n",
              "      <th>Low</th>\n",
              "      <th>Close</th>\n",
              "      <th>Adj Close</th>\n",
              "      <th>Volume</th>\n",
              "    </tr>\n",
              "  </thead>\n",
              "  <tbody>\n",
              "  </tbody>\n",
              "</table>\n",
              "</div>"
            ],
            "text/plain": [
              "Empty DataFrame\n",
              "Columns: [Open, High, Low, Close, Adj Close, Volume]\n",
              "Index: []"
            ]
          },
          "metadata": {
            "tags": []
          },
          "execution_count": 20
        }
      ]
    },
    {
      "cell_type": "code",
      "metadata": {
        "id": "Bbw7axJ75lpn"
      },
      "source": [
        "#preenchendo os valores faltantes com o valor médio\n",
        "imputer = SimpleImputer(missing_values=np.nan, strategy='mean',verbose=0)\n",
        "imputer = imputer.fit(base_teste.iloc[:,0:6])\n",
        "base_teste.iloc[:,0:6] = imputer.transform(base_teste.iloc[:,0:6])"
      ],
      "execution_count": null,
      "outputs": []
    },
    {
      "cell_type": "code",
      "metadata": {
        "colab": {
          "base_uri": "https://localhost:8080/",
          "height": 49
        },
        "id": "CXAi4QV8pw2x",
        "outputId": "96a90159-a8e1-4e1f-8e58-2138e830d86b"
      },
      "source": [
        "#verificando novamente se ainda temos valores faltantes\n",
        "base_teste.loc[pd.isnull(base_teste['Open'])]\n",
        "base_teste.loc[pd.isnull(base_teste['High'])]\n",
        "base_teste.loc[pd.isnull(base_teste['Low'])]\n",
        "base_teste.loc[pd.isnull(base_teste['Close'])]\n",
        "base_teste.loc[pd.isnull(base_teste['Adj Close'])]\n",
        "base_teste.loc[pd.isnull(base_teste['Volume'])]"
      ],
      "execution_count": null,
      "outputs": [
        {
          "output_type": "execute_result",
          "data": {
            "text/html": [
              "<div>\n",
              "<style scoped>\n",
              "    .dataframe tbody tr th:only-of-type {\n",
              "        vertical-align: middle;\n",
              "    }\n",
              "\n",
              "    .dataframe tbody tr th {\n",
              "        vertical-align: top;\n",
              "    }\n",
              "\n",
              "    .dataframe thead th {\n",
              "        text-align: right;\n",
              "    }\n",
              "</style>\n",
              "<table border=\"1\" class=\"dataframe\">\n",
              "  <thead>\n",
              "    <tr style=\"text-align: right;\">\n",
              "      <th></th>\n",
              "      <th>Open</th>\n",
              "      <th>High</th>\n",
              "      <th>Low</th>\n",
              "      <th>Close</th>\n",
              "      <th>Adj Close</th>\n",
              "      <th>Volume</th>\n",
              "    </tr>\n",
              "  </thead>\n",
              "  <tbody>\n",
              "  </tbody>\n",
              "</table>\n",
              "</div>"
            ],
            "text/plain": [
              "Empty DataFrame\n",
              "Columns: [Open, High, Low, Close, Adj Close, Volume]\n",
              "Index: []"
            ]
          },
          "metadata": {
            "tags": []
          },
          "execution_count": 59
        }
      ]
    },
    {
      "cell_type": "markdown",
      "metadata": {
        "id": "X1nZpS8Rp2zr"
      },
      "source": [
        "#**5.3-Tratamento dos valores nulos (iguais a 0)**"
      ]
    },
    {
      "cell_type": "code",
      "metadata": {
        "colab": {
          "base_uri": "https://localhost:8080/"
        },
        "id": "XYwer-dip-KB",
        "outputId": "612f99ed-4abe-4b29-9ebe-8cccabb3d490"
      },
      "source": [
        "#valores nulos\n",
        "(base_teste == 0).sum()"
      ],
      "execution_count": 18,
      "outputs": [
        {
          "output_type": "execute_result",
          "data": {
            "text/plain": [
              "Open         0\n",
              "High         0\n",
              "Low          0\n",
              "Close        0\n",
              "Adj Close    0\n",
              "Volume       0\n",
              "dtype: int64"
            ]
          },
          "metadata": {
            "tags": []
          },
          "execution_count": 18
        }
      ]
    },
    {
      "cell_type": "code",
      "metadata": {
        "colab": {
          "base_uri": "https://localhost:8080/",
          "height": 49
        },
        "id": "sFBo6iR5qEpS",
        "outputId": "056b3f04-94a0-4bf5-aca8-38bdaf7ef84e"
      },
      "source": [
        "#Encontrando os valores nulos\n",
        "base_teste.loc[base_teste['Volume'] == 0]"
      ],
      "execution_count": null,
      "outputs": [
        {
          "output_type": "execute_result",
          "data": {
            "text/html": [
              "<div>\n",
              "<style scoped>\n",
              "    .dataframe tbody tr th:only-of-type {\n",
              "        vertical-align: middle;\n",
              "    }\n",
              "\n",
              "    .dataframe tbody tr th {\n",
              "        vertical-align: top;\n",
              "    }\n",
              "\n",
              "    .dataframe thead th {\n",
              "        text-align: right;\n",
              "    }\n",
              "</style>\n",
              "<table border=\"1\" class=\"dataframe\">\n",
              "  <thead>\n",
              "    <tr style=\"text-align: right;\">\n",
              "      <th></th>\n",
              "      <th>Open</th>\n",
              "      <th>High</th>\n",
              "      <th>Low</th>\n",
              "      <th>Close</th>\n",
              "      <th>Adj Close</th>\n",
              "      <th>Volume</th>\n",
              "    </tr>\n",
              "  </thead>\n",
              "  <tbody>\n",
              "  </tbody>\n",
              "</table>\n",
              "</div>"
            ],
            "text/plain": [
              "Empty DataFrame\n",
              "Columns: [Open, High, Low, Close, Adj Close, Volume]\n",
              "Index: []"
            ]
          },
          "metadata": {
            "tags": []
          },
          "execution_count": 61
        }
      ]
    },
    {
      "cell_type": "code",
      "metadata": {
        "id": "ofkU-XjcqOQE"
      },
      "source": [
        "#preenchendo os valores nulos com o valor médio\n",
        "imputer = SimpleImputer(missing_values=0, strategy='mean',verbose=0)\n",
        "imputer = imputer.fit(base_teste.iloc[:,0:6])\n",
        "base_teste.iloc[:,0:6] = imputer.transform(base_teste.iloc[:,0:6])"
      ],
      "execution_count": null,
      "outputs": []
    },
    {
      "cell_type": "code",
      "metadata": {
        "colab": {
          "base_uri": "https://localhost:8080/",
          "height": 49
        },
        "id": "pYUeIwbnppRT",
        "outputId": "e499e4a6-4eee-4551-e5d4-7ea7aa74e6d1"
      },
      "source": [
        "#Verificando novamente se tem valores nulos\n",
        "base_teste.loc[base_teste['Volume'] == 0]"
      ],
      "execution_count": null,
      "outputs": [
        {
          "output_type": "execute_result",
          "data": {
            "text/html": [
              "<div>\n",
              "<style scoped>\n",
              "    .dataframe tbody tr th:only-of-type {\n",
              "        vertical-align: middle;\n",
              "    }\n",
              "\n",
              "    .dataframe tbody tr th {\n",
              "        vertical-align: top;\n",
              "    }\n",
              "\n",
              "    .dataframe thead th {\n",
              "        text-align: right;\n",
              "    }\n",
              "</style>\n",
              "<table border=\"1\" class=\"dataframe\">\n",
              "  <thead>\n",
              "    <tr style=\"text-align: right;\">\n",
              "      <th></th>\n",
              "      <th>Open</th>\n",
              "      <th>High</th>\n",
              "      <th>Low</th>\n",
              "      <th>Close</th>\n",
              "      <th>Adj Close</th>\n",
              "      <th>Volume</th>\n",
              "    </tr>\n",
              "  </thead>\n",
              "  <tbody>\n",
              "  </tbody>\n",
              "</table>\n",
              "</div>"
            ],
            "text/plain": [
              "Empty DataFrame\n",
              "Columns: [Open, High, Low, Close, Adj Close, Volume]\n",
              "Index: []"
            ]
          },
          "metadata": {
            "tags": []
          },
          "execution_count": 30
        }
      ]
    },
    {
      "cell_type": "markdown",
      "metadata": {
        "id": "N79Bjk6Yq6ci"
      },
      "source": [
        "##**5.4-Preparando a estrutura para teste**"
      ]
    },
    {
      "cell_type": "code",
      "metadata": {
        "id": "UFINH9OzUfDk"
      },
      "source": [
        "#concatenando a base de dados teste com o base de treinamento\n",
        "preco_real_teste = base_teste.iloc[:, 3:4].values\n",
        "frames = [base, base_teste]\n",
        "base_completa = pd.concat(frames)"
      ],
      "execution_count": 19,
      "outputs": []
    },
    {
      "cell_type": "code",
      "metadata": {
        "id": "-CdLW8IZUhLY"
      },
      "source": [
        "#pegando os 90 registros anteriores para percorrer a base teste e colocando no\n",
        "#no formato np.array\n",
        "entradas = base_completa[len(base_completa) - len(base_teste) - 90:].values\n",
        "entradas = normalizador.transform(entradas)\n",
        "Percorrer_teste = []\n",
        "for i in range(90, 342): \n",
        "    Percorrer_teste.append(entradas[i-90:i, 0:6])\n",
        "Percorrer_teste = np.array(Percorrer_teste)"
      ],
      "execution_count": 20,
      "outputs": []
    },
    {
      "cell_type": "code",
      "metadata": {
        "id": "_YdD2ZcaUi1w"
      },
      "source": [
        "#resultado da predição no formato MinMaxScaler\n",
        "previsoes = regressor.predict(Percorrer_teste)"
      ],
      "execution_count": 21,
      "outputs": []
    },
    {
      "cell_type": "code",
      "metadata": {
        "colab": {
          "base_uri": "https://localhost:8080/"
        },
        "id": "jQS0Ql4tUk2Z",
        "outputId": "26eeb175-2b80-4644-8b58-4f04420e2916"
      },
      "source": [
        "#convertendo para a escala MinMaxScaler \n",
        "normalizador_previsao = MinMaxScaler(feature_range=(0,1))\n",
        "normalizador_previsao.fit_transform(base_treinamento[:,3:4])"
      ],
      "execution_count": 22,
      "outputs": [
        {
          "output_type": "execute_result",
          "data": {
            "text/plain": [
              "array([[0.80446603],\n",
              "       [0.81362721],\n",
              "       [0.82765523],\n",
              "       ...,\n",
              "       [0.31033494],\n",
              "       [0.3111938 ],\n",
              "       [0.31606067]])"
            ]
          },
          "metadata": {
            "tags": []
          },
          "execution_count": 22
        }
      ]
    },
    {
      "cell_type": "code",
      "metadata": {
        "id": "MP_GBjYJUnFe",
        "colab": {
          "base_uri": "https://localhost:8080/"
        },
        "outputId": "d1870d7c-7e3b-4932-d3c6-667fc9d59681"
      },
      "source": [
        "#colocando a previsão no formato original para preparar a visualização no gráfico\n",
        "previsoes = normalizador_previsao.inverse_transform(previsoes)\n",
        "previsoes"
      ],
      "execution_count": 23,
      "outputs": [
        {
          "output_type": "execute_result",
          "data": {
            "text/plain": [
              "array([[13.397068 ],\n",
              "       [13.595495 ],\n",
              "       [13.155933 ],\n",
              "       [14.079914 ],\n",
              "       [14.08164  ],\n",
              "       [14.239654 ],\n",
              "       [14.672976 ],\n",
              "       [14.542952 ],\n",
              "       [14.302878 ],\n",
              "       [14.310293 ],\n",
              "       [14.274398 ],\n",
              "       [14.331541 ],\n",
              "       [14.631112 ],\n",
              "       [14.77338  ],\n",
              "       [14.616374 ],\n",
              "       [14.857567 ],\n",
              "       [14.970083 ],\n",
              "       [13.912921 ],\n",
              "       [11.39277  ],\n",
              "       [11.295737 ],\n",
              "       [12.742805 ],\n",
              "       [12.97906  ],\n",
              "       [13.064815 ],\n",
              "       [12.318371 ],\n",
              "       [12.210286 ],\n",
              "       [11.52612  ],\n",
              "       [11.331121 ],\n",
              "       [11.536114 ],\n",
              "       [11.428714 ],\n",
              "       [11.973523 ],\n",
              "       [12.180997 ],\n",
              "       [12.262038 ],\n",
              "       [12.380138 ],\n",
              "       [12.275563 ],\n",
              "       [12.302514 ],\n",
              "       [12.138689 ],\n",
              "       [12.504717 ],\n",
              "       [12.601299 ],\n",
              "       [12.589133 ],\n",
              "       [12.540874 ],\n",
              "       [12.495209 ],\n",
              "       [12.377515 ],\n",
              "       [12.364554 ],\n",
              "       [12.613021 ],\n",
              "       [12.526156 ],\n",
              "       [12.581593 ],\n",
              "       [12.531316 ],\n",
              "       [12.885398 ],\n",
              "       [13.03902  ],\n",
              "       [13.228242 ],\n",
              "       [13.119523 ],\n",
              "       [13.195672 ],\n",
              "       [13.249558 ],\n",
              "       [13.680393 ],\n",
              "       [13.511263 ],\n",
              "       [13.474236 ],\n",
              "       [12.944035 ],\n",
              "       [12.9158945],\n",
              "       [13.077197 ],\n",
              "       [12.827173 ],\n",
              "       [12.733279 ],\n",
              "       [13.121968 ],\n",
              "       [13.649421 ],\n",
              "       [13.615797 ],\n",
              "       [13.485087 ],\n",
              "       [13.553044 ],\n",
              "       [13.50785  ],\n",
              "       [13.886075 ],\n",
              "       [13.756511 ],\n",
              "       [13.719541 ],\n",
              "       [13.541485 ],\n",
              "       [13.439921 ],\n",
              "       [13.426276 ],\n",
              "       [13.657069 ],\n",
              "       [13.492007 ],\n",
              "       [13.479368 ],\n",
              "       [13.240328 ],\n",
              "       [13.292341 ],\n",
              "       [12.853075 ],\n",
              "       [12.827899 ],\n",
              "       [12.949342 ],\n",
              "       [12.978577 ],\n",
              "       [12.978457 ],\n",
              "       [12.691893 ],\n",
              "       [12.582497 ],\n",
              "       [12.940442 ],\n",
              "       [12.769981 ],\n",
              "       [12.689554 ],\n",
              "       [12.702687 ],\n",
              "       [12.513625 ],\n",
              "       [12.671297 ],\n",
              "       [12.309299 ],\n",
              "       [12.288482 ],\n",
              "       [12.254924 ],\n",
              "       [11.91491  ],\n",
              "       [11.841874 ],\n",
              "       [11.691166 ],\n",
              "       [11.905817 ],\n",
              "       [12.045708 ],\n",
              "       [12.029271 ],\n",
              "       [12.263484 ],\n",
              "       [12.652413 ],\n",
              "       [12.689346 ],\n",
              "       [12.759894 ],\n",
              "       [12.778269 ],\n",
              "       [12.752276 ],\n",
              "       [12.878597 ],\n",
              "       [12.738031 ],\n",
              "       [12.797616 ],\n",
              "       [12.81613  ],\n",
              "       [12.735337 ],\n",
              "       [13.43783  ],\n",
              "       [13.485375 ],\n",
              "       [13.638951 ],\n",
              "       [13.374187 ],\n",
              "       [13.15219  ],\n",
              "       [13.617327 ],\n",
              "       [13.75771  ],\n",
              "       [13.968916 ],\n",
              "       [13.796298 ],\n",
              "       [13.837166 ],\n",
              "       [13.607508 ],\n",
              "       [13.65462  ],\n",
              "       [13.655032 ],\n",
              "       [13.685137 ],\n",
              "       [14.127911 ],\n",
              "       [13.600616 ],\n",
              "       [13.565372 ],\n",
              "       [13.301272 ],\n",
              "       [13.510956 ],\n",
              "       [13.553918 ],\n",
              "       [13.980861 ],\n",
              "       [14.049241 ],\n",
              "       [14.012788 ],\n",
              "       [14.170541 ],\n",
              "       [14.229356 ],\n",
              "       [14.160939 ],\n",
              "       [14.207918 ],\n",
              "       [14.26362  ],\n",
              "       [14.156556 ],\n",
              "       [13.95939  ],\n",
              "       [13.685562 ],\n",
              "       [13.517531 ],\n",
              "       [13.531008 ],\n",
              "       [13.471363 ],\n",
              "       [13.411397 ],\n",
              "       [13.260903 ],\n",
              "       [12.819865 ],\n",
              "       [12.531569 ],\n",
              "       [11.883536 ],\n",
              "       [11.95426  ],\n",
              "       [11.875456 ],\n",
              "       [12.169901 ],\n",
              "       [11.897296 ],\n",
              "       [11.593146 ],\n",
              "       [11.857894 ],\n",
              "       [11.441584 ],\n",
              "       [11.26497  ],\n",
              "       [11.211399 ],\n",
              "       [11.073334 ],\n",
              "       [11.1033535],\n",
              "       [11.151618 ],\n",
              "       [11.098348 ],\n",
              "       [10.871926 ],\n",
              "       [10.648274 ],\n",
              "       [10.660443 ],\n",
              "       [10.736169 ],\n",
              "       [10.987147 ],\n",
              "       [11.2906885],\n",
              "       [11.236094 ],\n",
              "       [11.459188 ],\n",
              "       [11.617757 ],\n",
              "       [11.649823 ],\n",
              "       [11.840617 ],\n",
              "       [11.977206 ],\n",
              "       [12.083278 ],\n",
              "       [12.397945 ],\n",
              "       [12.456692 ],\n",
              "       [12.1919155],\n",
              "       [12.170965 ],\n",
              "       [12.068915 ],\n",
              "       [11.915151 ],\n",
              "       [11.880245 ],\n",
              "       [11.792855 ],\n",
              "       [11.554858 ],\n",
              "       [11.665375 ],\n",
              "       [11.699631 ],\n",
              "       [11.704695 ],\n",
              "       [11.726992 ],\n",
              "       [11.729629 ],\n",
              "       [11.270988 ],\n",
              "       [11.295388 ],\n",
              "       [11.643629 ],\n",
              "       [11.59642  ],\n",
              "       [11.406538 ],\n",
              "       [11.391585 ],\n",
              "       [11.649699 ],\n",
              "       [12.041928 ],\n",
              "       [11.895731 ],\n",
              "       [11.753862 ],\n",
              "       [11.534482 ],\n",
              "       [11.497057 ],\n",
              "       [11.50277  ],\n",
              "       [11.652706 ],\n",
              "       [11.848617 ],\n",
              "       [11.924844 ],\n",
              "       [11.845061 ],\n",
              "       [12.237381 ],\n",
              "       [12.454404 ],\n",
              "       [12.41227  ],\n",
              "       [12.35988  ],\n",
              "       [12.076734 ],\n",
              "       [12.381623 ],\n",
              "       [12.612822 ],\n",
              "       [12.6908655],\n",
              "       [12.483933 ],\n",
              "       [12.466203 ],\n",
              "       [12.109749 ],\n",
              "       [11.899901 ],\n",
              "       [11.7668705],\n",
              "       [11.533204 ],\n",
              "       [11.491686 ],\n",
              "       [11.67737  ],\n",
              "       [11.600022 ],\n",
              "       [11.677722 ],\n",
              "       [11.547855 ],\n",
              "       [11.67043  ],\n",
              "       [12.091419 ],\n",
              "       [12.290088 ],\n",
              "       [12.279894 ],\n",
              "       [12.142596 ],\n",
              "       [12.065983 ],\n",
              "       [12.373656 ],\n",
              "       [12.323757 ],\n",
              "       [12.386771 ],\n",
              "       [12.399048 ],\n",
              "       [12.619391 ],\n",
              "       [12.689558 ],\n",
              "       [12.581204 ],\n",
              "       [12.772421 ],\n",
              "       [13.078224 ],\n",
              "       [13.2850275],\n",
              "       [13.408552 ],\n",
              "       [13.331012 ],\n",
              "       [13.2950115],\n",
              "       [13.441267 ],\n",
              "       [13.528125 ],\n",
              "       [13.570268 ],\n",
              "       [13.691203 ],\n",
              "       [13.704789 ],\n",
              "       [13.606768 ],\n",
              "       [13.567462 ]], dtype=float32)"
            ]
          },
          "metadata": {
            "tags": []
          },
          "execution_count": 23
        }
      ]
    },
    {
      "cell_type": "markdown",
      "metadata": {
        "id": "lEjN0sRdrGmK"
      },
      "source": [
        "##**6-Análise dos resuldatos**"
      ]
    },
    {
      "cell_type": "code",
      "metadata": {
        "id": "beWuUgy2Uoe_",
        "colab": {
          "base_uri": "https://localhost:8080/",
          "height": 485
        },
        "outputId": "0ff1c9ae-8cfa-4781-dfbb-d03660832fb5"
      },
      "source": [
        "#Visualizando o gráfico da Previsão da rede\n",
        "plt.plot(preco_real_teste, color = 'red', label = 'Preço real')\n",
        "plt.plot(previsoes, color = 'blue', label = 'Previsões')\n",
        "plt.title('Previsão do preço das ações')\n",
        "plt.xlabel('Tempo em dias')\n",
        "plt.ylabel('Preço das ações')\n",
        "plt.legend()\n",
        "plt.show()"
      ],
      "execution_count": 24,
      "outputs": [
        {
          "output_type": "display_data",
          "data": {
            "image/png": "[encoded data removed]",
            "text/plain": [
              "<Figure size 1800x864 with 1 Axes>"
            ]
          },
          "metadata": {
            "tags": []
          }
        }
      ]
    },
    {
      "cell_type": "code",
      "metadata": {
        "id": "hKA0-lbgUtH-",
        "colab": {
          "base_uri": "https://localhost:8080/",
          "height": 297
        },
        "outputId": "5ca26ed8-7f24-4ed7-a084-a891f9bfbedd"
      },
      "source": [
        "#estatísticas do preço real comparado com a previsão\n",
        "df1 = pd.DataFrame(preco_real_teste).T\n",
        "df2 = pd.DataFrame(previsoes).T\n",
        "\n",
        "df3 = pd.concat([df1,df2]).T\n",
        "df3.columns = ['Preco real', 'Previsoes']\n",
        "df3.describe()"
      ],
      "execution_count": 26,
      "outputs": [
        {
          "output_type": "execute_result",
          "data": {
            "text/html": [
              "<div>\n",
              "<style scoped>\n",
              "    .dataframe tbody tr th:only-of-type {\n",
              "        vertical-align: middle;\n",
              "    }\n",
              "\n",
              "    .dataframe tbody tr th {\n",
              "        vertical-align: top;\n",
              "    }\n",
              "\n",
              "    .dataframe thead th {\n",
              "        text-align: right;\n",
              "    }\n",
              "</style>\n",
              "<table border=\"1\" class=\"dataframe\">\n",
              "  <thead>\n",
              "    <tr style=\"text-align: right;\">\n",
              "      <th></th>\n",
              "      <th>Preco real</th>\n",
              "      <th>Previsoes</th>\n",
              "    </tr>\n",
              "  </thead>\n",
              "  <tbody>\n",
              "    <tr>\n",
              "      <th>count</th>\n",
              "      <td>252.000000</td>\n",
              "      <td>252.000000</td>\n",
              "    </tr>\n",
              "    <tr>\n",
              "      <th>mean</th>\n",
              "      <td>12.468333</td>\n",
              "      <td>12.684973</td>\n",
              "    </tr>\n",
              "    <tr>\n",
              "      <th>std</th>\n",
              "      <td>0.980194</td>\n",
              "      <td>0.941544</td>\n",
              "    </tr>\n",
              "    <tr>\n",
              "      <th>min</th>\n",
              "      <td>10.280000</td>\n",
              "      <td>10.648274</td>\n",
              "    </tr>\n",
              "    <tr>\n",
              "      <th>25%</th>\n",
              "      <td>11.632500</td>\n",
              "      <td>11.904338</td>\n",
              "    </tr>\n",
              "    <tr>\n",
              "      <th>50%</th>\n",
              "      <td>12.450000</td>\n",
              "      <td>12.616206</td>\n",
              "    </tr>\n",
              "    <tr>\n",
              "      <th>75%</th>\n",
              "      <td>13.270000</td>\n",
              "      <td>13.485159</td>\n",
              "    </tr>\n",
              "    <tr>\n",
              "      <th>max</th>\n",
              "      <td>14.860000</td>\n",
              "      <td>14.970083</td>\n",
              "    </tr>\n",
              "  </tbody>\n",
              "</table>\n",
              "</div>"
            ],
            "text/plain": [
              "       Preco real   Previsoes\n",
              "count  252.000000  252.000000\n",
              "mean    12.468333   12.684973\n",
              "std      0.980194    0.941544\n",
              "min     10.280000   10.648274\n",
              "25%     11.632500   11.904338\n",
              "50%     12.450000   12.616206\n",
              "75%     13.270000   13.485159\n",
              "max     14.860000   14.970083"
            ]
          },
          "metadata": {
            "tags": []
          },
          "execution_count": 26
        }
      ]
    },
    {
      "cell_type": "code",
      "metadata": {
        "id": "ZjIrFF8Y_M9N"
      },
      "source": [
        "#df2 = pd.DataFrame(previsoes)\n",
        "#df2.describe()"
      ],
      "execution_count": null,
      "outputs": []
    },
    {
      "cell_type": "code",
      "metadata": {
        "id": "TKfgSJAIV5a_"
      },
      "source": [
        "#df1 = pd.DataFrame(preco_real_teste)\n",
        "#df1.describe()"
      ],
      "execution_count": null,
      "outputs": []
    }
  ]
}