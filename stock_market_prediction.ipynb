{
  "nbformat": 4,
  "nbformat_minor": 0,
  "metadata": {
    "colab": {
      "name": "stock-market-prediction.ipynb",
      "provenance": [],
      "collapsed_sections": [
        "UiXZAchqFuC-",
        "SuPg1RFvQyMS",
        "8MLClRMWPwTL",
        "hCiQYMqPGHuG",
        "4IDwP-XV_Ohd",
        "RtFahmEgGAzZ"
      ],
      "authorship_tag": "ABX9TyNVHyJ+itXET2fxgVjlu7yL",
      "include_colab_link": true
    },
    "kernelspec": {
      "name": "python3",
      "display_name": "Python 3"
    },
    "accelerator": "GPU"
  },
  "cells": [
    {
      "cell_type": "markdown",
      "metadata": {
        "id": "view-in-github",
        "colab_type": "text"
      },
      "source": [
        "<a href=\"https://colab.research.google.com/github/claubermartins/Stock-market-prediction/blob/main/stock_market_prediction.ipynb\" target=\"_parent\"><img src=\"https://colab.research.google.com/assets/colab-badge.svg\" alt=\"Open In Colab\"/></a>"
      ]
    },
    {
      "cell_type": "code",
      "metadata": {
        "colab": {
          "base_uri": "https://localhost:8080/"
        },
        "id": "XjlKRgiDRdpq",
        "outputId": "c8ff8fba-4170-44c1-8706-b9bd9533d69b"
      },
      "source": [
        "pip install inflection"
      ],
      "execution_count": 1,
      "outputs": [
        {
          "output_type": "stream",
          "text": [
            "Collecting inflection\n",
            "  Downloading https://files.pythonhosted.org/packages/59/91/aa6bde563e0085a02a435aa99b49ef75b0a4b062635e606dab23ce18d720/inflection-0.5.1-py2.py3-none-any.whl\n",
            "Installing collected packages: inflection\n",
            "Successfully installed inflection-0.5.1\n"
          ],
          "name": "stdout"
        }
      ]
    },
    {
      "cell_type": "markdown",
      "metadata": {
        "id": "UiXZAchqFuC-"
      },
      "source": [
        "#**1-Importando bibliotecas**"
      ]
    },
    {
      "cell_type": "code",
      "metadata": {
        "id": "ZjQg-8c_--wP"
      },
      "source": [
        "from tensorflow.keras.models import Sequential \n",
        "from tensorflow.keras.layers import Dense, Dropout, LSTM\n",
        "from tensorflow.keras.callbacks import EarlyStopping \n",
        "from sklearn.preprocessing import MinMaxScaler\n",
        "from sklearn.impute import SimpleImputer\n",
        "import numpy as np\n",
        "import pandas as pd\n",
        "import matplotlib.pyplot as plt\n",
        "import tensorflow as tf\n",
        "import math\n",
        "import seaborn as sns\n",
        "import datetime\n",
        "import inflection\n",
        "from IPython.core.display import HTML"
      ],
      "execution_count": 2,
      "outputs": []
    },
    {
      "cell_type": "markdown",
      "metadata": {
        "id": "SuPg1RFvQyMS"
      },
      "source": [
        "#**2-Funções auxiliares para o Jupyter Notebook**"
      ]
    },
    {
      "cell_type": "code",
      "metadata": {
        "id": "2vKvPdvDPJHc"
      },
      "source": [
        "def jupyter_settings():\n",
        "    %matplotlib inline\n",
        "    %pylab inline\n",
        "    \n",
        "    plt.style.use( 'bmh' )\n",
        "    plt.rcParams['figure.figsize'] = [25, 12]\n",
        "    plt.rcParams['font.size'] = 24\n",
        "    \n",
        "    display( HTML( '<style>.container { width:100% !important; }</style>') )\n",
        "    pd.options.display.max_columns = None\n",
        "    pd.options.display.max_rows = None\n",
        "    pd.set_option( 'display.expand_frame_repr', False )\n",
        "    \n",
        "    sns.set()"
      ],
      "execution_count": 3,
      "outputs": []
    },
    {
      "cell_type": "code",
      "metadata": {
        "colab": {
          "base_uri": "https://localhost:8080/",
          "height": 0
        },
        "id": "PGJn-AaoMxuy",
        "outputId": "51dd88f2-33d4-4a34-9bbf-b1f7cc4689ec"
      },
      "source": [
        "jupyter_settings()"
      ],
      "execution_count": 4,
      "outputs": [
        {
          "output_type": "stream",
          "text": [
            "Populating the interactive namespace from numpy and matplotlib\n"
          ],
          "name": "stdout"
        },
        {
          "output_type": "display_data",
          "data": {
            "text/html": [
              "<style>.container { width:100% !important; }</style>"
            ],
            "text/plain": [
              "<IPython.core.display.HTML object>"
            ]
          },
          "metadata": {
            "tags": []
          }
        }
      ]
    },
    {
      "cell_type": "markdown",
      "metadata": {
        "id": "c_3core8Shq6"
      },
      "source": [
        "#**2.1Método de importação de arquivos do Google Colab**"
      ]
    },
    {
      "cell_type": "code",
      "metadata": {
        "id": "cTk_YEVdyms3",
        "colab": {
          "resources": {
            "http://localhost:8080/nbextensions/google.colab/files.js": {
              "data": "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",
              "ok": true,
              "headers": [
                [
                  "content-type",
                  "application/javascript"
                ]
              ],
              "status": 200,
              "status_text": ""
            }
          },
          "base_uri": "https://localhost:8080/",
          "height": 157
        },
        "outputId": "2e68e5f6-53b6-45b6-bad9-b5052b0d4fd5"
      },
      "source": [
        "from google.colab import files\n",
        "upload = files.upload()\n",
        "print(\"downloaded files: \")\n",
        "print(*upload, sep = \"\\n\")"
      ],
      "execution_count": 5,
      "outputs": [
        {
          "output_type": "display_data",
          "data": {
            "text/html": [
              "\n",
              "     <input type=\"file\" id=\"files-3f78b320-310c-445c-b3da-bbb3c3bfafec\" name=\"files[]\" multiple disabled\n",
              "        style=\"border:none\" />\n",
              "     <output id=\"result-3f78b320-310c-445c-b3da-bbb3c3bfafec\">\n",
              "      Upload widget is only available when the cell has been executed in the\n",
              "      current browser session. Please rerun this cell to enable.\n",
              "      </output>\n",
              "      <script src=\"/nbextensions/google.colab/files.js\"></script> "
            ],
            "text/plain": [
              "<IPython.core.display.HTML object>"
            ]
          },
          "metadata": {
            "tags": []
          }
        },
        {
          "output_type": "stream",
          "text": [
            "Saving PETR4-teste.csv to PETR4-teste.csv\n",
            "Saving PETR4-treinamento.csv to PETR4-treinamento.csv\n",
            "downloaded files: \n",
            "PETR4-teste.csv\n",
            "PETR4-treinamento.csv\n"
          ],
          "name": "stdout"
        }
      ]
    },
    {
      "cell_type": "markdown",
      "metadata": {
        "id": "8MLClRMWPwTL"
      },
      "source": [
        "#**3-Tratamento dos dados**"
      ]
    },
    {
      "cell_type": "markdown",
      "metadata": {
        "id": "DOJanakhS-s2"
      },
      "source": [
        "##**3.1-Importando os dados**"
      ]
    },
    {
      "cell_type": "code",
      "metadata": {
        "id": "vYFCwA5GTB2j"
      },
      "source": [
        "base = pd.read_csv('PETR4-treinamento.csv')\n",
        "base = base.drop('Date', axis = 1)"
      ],
      "execution_count": 6,
      "outputs": []
    },
    {
      "cell_type": "code",
      "metadata": {
        "colab": {
          "base_uri": "https://localhost:8080/",
          "height": 0
        },
        "id": "SD9oSvK-NE0Y",
        "outputId": "d63233c4-87f2-4ac2-aa74-6a2289927d47"
      },
      "source": [
        "#valores estatísticos\n",
        "base.describe()"
      ],
      "execution_count": 7,
      "outputs": [
        {
          "output_type": "execute_result",
          "data": {
            "text/html": [
              "<div>\n",
              "<style scoped>\n",
              "    .dataframe tbody tr th:only-of-type {\n",
              "        vertical-align: middle;\n",
              "    }\n",
              "\n",
              "    .dataframe tbody tr th {\n",
              "        vertical-align: top;\n",
              "    }\n",
              "\n",
              "    .dataframe thead th {\n",
              "        text-align: right;\n",
              "    }\n",
              "</style>\n",
              "<table border=\"1\" class=\"dataframe\">\n",
              "  <thead>\n",
              "    <tr style=\"text-align: right;\">\n",
              "      <th></th>\n",
              "      <th>Open</th>\n",
              "      <th>High</th>\n",
              "      <th>Low</th>\n",
              "      <th>Close</th>\n",
              "      <th>Adj Close</th>\n",
              "      <th>Volume</th>\n",
              "    </tr>\n",
              "  </thead>\n",
              "  <tbody>\n",
              "    <tr>\n",
              "      <th>count</th>\n",
              "      <td>2231.000000</td>\n",
              "      <td>2231.000000</td>\n",
              "      <td>2231.000000</td>\n",
              "      <td>2231.000000</td>\n",
              "      <td>2231.000000</td>\n",
              "      <td>2.231000e+03</td>\n",
              "    </tr>\n",
              "    <tr>\n",
              "      <th>mean</th>\n",
              "      <td>18.454940</td>\n",
              "      <td>18.715959</td>\n",
              "      <td>18.171054</td>\n",
              "      <td>18.424593</td>\n",
              "      <td>16.004749</td>\n",
              "      <td>3.986028e+07</td>\n",
              "    </tr>\n",
              "    <tr>\n",
              "      <th>std</th>\n",
              "      <td>6.621185</td>\n",
              "      <td>6.656502</td>\n",
              "      <td>6.574314</td>\n",
              "      <td>6.609528</td>\n",
              "      <td>5.024887</td>\n",
              "      <td>3.092003e+07</td>\n",
              "    </tr>\n",
              "    <tr>\n",
              "      <th>min</th>\n",
              "      <td>4.200000</td>\n",
              "      <td>4.270000</td>\n",
              "      <td>4.120000</td>\n",
              "      <td>4.200000</td>\n",
              "      <td>3.896351</td>\n",
              "      <td>0.000000e+00</td>\n",
              "    </tr>\n",
              "    <tr>\n",
              "      <th>25%</th>\n",
              "      <td>13.925000</td>\n",
              "      <td>14.140000</td>\n",
              "      <td>13.655000</td>\n",
              "      <td>13.950000</td>\n",
              "      <td>12.715022</td>\n",
              "      <td>2.139665e+07</td>\n",
              "    </tr>\n",
              "    <tr>\n",
              "      <th>50%</th>\n",
              "      <td>18.400000</td>\n",
              "      <td>18.680000</td>\n",
              "      <td>18.070000</td>\n",
              "      <td>18.350000</td>\n",
              "      <td>16.090048</td>\n",
              "      <td>3.287650e+07</td>\n",
              "    </tr>\n",
              "    <tr>\n",
              "      <th>75%</th>\n",
              "      <td>22.549999</td>\n",
              "      <td>22.825000</td>\n",
              "      <td>22.290000</td>\n",
              "      <td>22.559999</td>\n",
              "      <td>19.421658</td>\n",
              "      <td>5.199460e+07</td>\n",
              "    </tr>\n",
              "    <tr>\n",
              "      <th>max</th>\n",
              "      <td>37.430000</td>\n",
              "      <td>37.500000</td>\n",
              "      <td>37.070000</td>\n",
              "      <td>37.500000</td>\n",
              "      <td>29.229712</td>\n",
              "      <td>6.989506e+08</td>\n",
              "    </tr>\n",
              "  </tbody>\n",
              "</table>\n",
              "</div>"
            ],
            "text/plain": [
              "              Open         High          Low        Close    Adj Close        Volume\n",
              "count  2231.000000  2231.000000  2231.000000  2231.000000  2231.000000  2.231000e+03\n",
              "mean     18.454940    18.715959    18.171054    18.424593    16.004749  3.986028e+07\n",
              "std       6.621185     6.656502     6.574314     6.609528     5.024887  3.092003e+07\n",
              "min       4.200000     4.270000     4.120000     4.200000     3.896351  0.000000e+00\n",
              "25%      13.925000    14.140000    13.655000    13.950000    12.715022  2.139665e+07\n",
              "50%      18.400000    18.680000    18.070000    18.350000    16.090048  3.287650e+07\n",
              "75%      22.549999    22.825000    22.290000    22.559999    19.421658  5.199460e+07\n",
              "max      37.430000    37.500000    37.070000    37.500000    29.229712  6.989506e+08"
            ]
          },
          "metadata": {
            "tags": []
          },
          "execution_count": 7
        }
      ]
    },
    {
      "cell_type": "code",
      "metadata": {
        "colab": {
          "base_uri": "https://localhost:8080/"
        },
        "id": "fbKUPwPSNJqm",
        "outputId": "34ad4a50-c4c7-444d-c258-02b9f9c591f7"
      },
      "source": [
        "base.dtypes"
      ],
      "execution_count": 8,
      "outputs": [
        {
          "output_type": "execute_result",
          "data": {
            "text/plain": [
              "Open         float64\n",
              "High         float64\n",
              "Low          float64\n",
              "Close        float64\n",
              "Adj Close    float64\n",
              "Volume       float64\n",
              "dtype: object"
            ]
          },
          "metadata": {
            "tags": []
          },
          "execution_count": 8
        }
      ]
    },
    {
      "cell_type": "markdown",
      "metadata": {
        "id": "bCTD3wo2TfZF"
      },
      "source": [
        "##**3.2-Tratando os Valores Faltantes**"
      ]
    },
    {
      "cell_type": "code",
      "metadata": {
        "colab": {
          "base_uri": "https://localhost:8080/"
        },
        "id": "H60SOo8MTjjP",
        "outputId": "8edf272a-41aa-4317-ae14-03ab94134542"
      },
      "source": [
        "#valores faltantes\n",
        "base.isna().sum()"
      ],
      "execution_count": 9,
      "outputs": [
        {
          "output_type": "execute_result",
          "data": {
            "text/plain": [
              "Open         1\n",
              "High         1\n",
              "Low          1\n",
              "Close        1\n",
              "Adj Close    1\n",
              "Volume       1\n",
              "dtype: int64"
            ]
          },
          "metadata": {
            "tags": []
          },
          "execution_count": 9
        }
      ]
    },
    {
      "cell_type": "code",
      "metadata": {
        "colab": {
          "base_uri": "https://localhost:8080/",
          "height": 0
        },
        "id": "H-DMfyHXTkdi",
        "outputId": "51d856f2-7fad-43a5-9325-dc62ee83ca6e"
      },
      "source": [
        "#encontrando onde os valores faltantes estão\n",
        "base.loc[pd.isnull(base['Open'])]\n",
        "base.loc[pd.isnull(base['High'])]\n",
        "base.loc[pd.isnull(base['Low'])]\n",
        "base.loc[pd.isnull(base['Close'])]\n",
        "base.loc[pd.isnull(base['Adj Close'])]\n",
        "base.loc[pd.isnull(base['Volume'])]"
      ],
      "execution_count": 10,
      "outputs": [
        {
          "output_type": "execute_result",
          "data": {
            "text/html": [
              "<div>\n",
              "<style scoped>\n",
              "    .dataframe tbody tr th:only-of-type {\n",
              "        vertical-align: middle;\n",
              "    }\n",
              "\n",
              "    .dataframe tbody tr th {\n",
              "        vertical-align: top;\n",
              "    }\n",
              "\n",
              "    .dataframe thead th {\n",
              "        text-align: right;\n",
              "    }\n",
              "</style>\n",
              "<table border=\"1\" class=\"dataframe\">\n",
              "  <thead>\n",
              "    <tr style=\"text-align: right;\">\n",
              "      <th></th>\n",
              "      <th>Open</th>\n",
              "      <th>High</th>\n",
              "      <th>Low</th>\n",
              "      <th>Close</th>\n",
              "      <th>Adj Close</th>\n",
              "      <th>Volume</th>\n",
              "    </tr>\n",
              "  </thead>\n",
              "  <tbody>\n",
              "    <tr>\n",
              "      <th>2015</th>\n",
              "      <td>NaN</td>\n",
              "      <td>NaN</td>\n",
              "      <td>NaN</td>\n",
              "      <td>NaN</td>\n",
              "      <td>NaN</td>\n",
              "      <td>NaN</td>\n",
              "    </tr>\n",
              "  </tbody>\n",
              "</table>\n",
              "</div>"
            ],
            "text/plain": [
              "      Open  High  Low  Close  Adj Close  Volume\n",
              "2015   NaN   NaN  NaN    NaN        NaN     NaN"
            ]
          },
          "metadata": {
            "tags": []
          },
          "execution_count": 10
        }
      ]
    },
    {
      "cell_type": "code",
      "metadata": {
        "id": "6q0YFzy9TmPD"
      },
      "source": [
        "#preenchendo os valores nulos com o valor médio\n",
        "imputer = SimpleImputer(missing_values=np.nan, strategy='mean',verbose=0)\n",
        "imputer = imputer.fit(base.iloc[:,0:6])\n",
        "base.iloc[:,0:6] = imputer.transform(base.iloc[:,0:6])"
      ],
      "execution_count": 11,
      "outputs": []
    },
    {
      "cell_type": "code",
      "metadata": {
        "colab": {
          "base_uri": "https://localhost:8080/",
          "height": 0
        },
        "id": "gQC2HfFnTpe2",
        "outputId": "f1e028da-6561-4671-c51f-b6c638bd1d96"
      },
      "source": [
        "#verificando novamente se ainda temos valores faltantes\n",
        "base.loc[pd.isnull(base['Open'])]\n",
        "base.loc[pd.isnull(base['High'])]\n",
        "base.loc[pd.isnull(base['Low'])]\n",
        "base.loc[pd.isnull(base['Close'])]\n",
        "base.loc[pd.isnull(base['Adj Close'])]\n",
        "base.loc[pd.isnull(base['Volume'])]"
      ],
      "execution_count": 12,
      "outputs": [
        {
          "output_type": "execute_result",
          "data": {
            "text/html": [
              "<div>\n",
              "<style scoped>\n",
              "    .dataframe tbody tr th:only-of-type {\n",
              "        vertical-align: middle;\n",
              "    }\n",
              "\n",
              "    .dataframe tbody tr th {\n",
              "        vertical-align: top;\n",
              "    }\n",
              "\n",
              "    .dataframe thead th {\n",
              "        text-align: right;\n",
              "    }\n",
              "</style>\n",
              "<table border=\"1\" class=\"dataframe\">\n",
              "  <thead>\n",
              "    <tr style=\"text-align: right;\">\n",
              "      <th></th>\n",
              "      <th>Open</th>\n",
              "      <th>High</th>\n",
              "      <th>Low</th>\n",
              "      <th>Close</th>\n",
              "      <th>Adj Close</th>\n",
              "      <th>Volume</th>\n",
              "    </tr>\n",
              "  </thead>\n",
              "  <tbody>\n",
              "  </tbody>\n",
              "</table>\n",
              "</div>"
            ],
            "text/plain": [
              "Empty DataFrame\n",
              "Columns: [Open, High, Low, Close, Adj Close, Volume]\n",
              "Index: []"
            ]
          },
          "metadata": {
            "tags": []
          },
          "execution_count": 12
        }
      ]
    },
    {
      "cell_type": "markdown",
      "metadata": {
        "id": "_WuI_UbmTt3W"
      },
      "source": [
        "#**3.3-Tratamento dos valores nulos (iguais a 0)**"
      ]
    },
    {
      "cell_type": "code",
      "metadata": {
        "colab": {
          "base_uri": "https://localhost:8080/"
        },
        "id": "hyRiBN32Twb2",
        "outputId": "2353aea2-cb9c-499b-c98d-b33617a7fbda"
      },
      "source": [
        "#valores nulos\n",
        "(base == 0).sum()"
      ],
      "execution_count": 14,
      "outputs": [
        {
          "output_type": "execute_result",
          "data": {
            "text/plain": [
              "Open          0\n",
              "High          0\n",
              "Low           0\n",
              "Close         0\n",
              "Adj Close     0\n",
              "Volume       54\n",
              "dtype: int64"
            ]
          },
          "metadata": {
            "tags": []
          },
          "execution_count": 14
        }
      ]
    },
    {
      "cell_type": "code",
      "metadata": {
        "colab": {
          "base_uri": "https://localhost:8080/",
          "height": 0
        },
        "id": "nQPTB9_TT3Dy",
        "outputId": "03414375-5338-453c-8b91-db0bcee12fdf"
      },
      "source": [
        "#Encontrando os valores nulos\n",
        "base.loc[base['Volume'] == 0]"
      ],
      "execution_count": 15,
      "outputs": [
        {
          "output_type": "execute_result",
          "data": {
            "text/html": [
              "<div>\n",
              "<style scoped>\n",
              "    .dataframe tbody tr th:only-of-type {\n",
              "        vertical-align: middle;\n",
              "    }\n",
              "\n",
              "    .dataframe tbody tr th {\n",
              "        vertical-align: top;\n",
              "    }\n",
              "\n",
              "    .dataframe thead th {\n",
              "        text-align: right;\n",
              "    }\n",
              "</style>\n",
              "<table border=\"1\" class=\"dataframe\">\n",
              "  <thead>\n",
              "    <tr style=\"text-align: right;\">\n",
              "      <th></th>\n",
              "      <th>Open</th>\n",
              "      <th>High</th>\n",
              "      <th>Low</th>\n",
              "      <th>Close</th>\n",
              "      <th>Adj Close</th>\n",
              "      <th>Volume</th>\n",
              "    </tr>\n",
              "  </thead>\n",
              "  <tbody>\n",
              "    <tr>\n",
              "      <th>99</th>\n",
              "      <td>27.809999</td>\n",
              "      <td>27.809999</td>\n",
              "      <td>27.809999</td>\n",
              "      <td>27.809999</td>\n",
              "      <td>21.897339</td>\n",
              "      <td>0.0</td>\n",
              "    </tr>\n",
              "    <tr>\n",
              "      <th>273</th>\n",
              "      <td>26.879999</td>\n",
              "      <td>26.879999</td>\n",
              "      <td>26.879999</td>\n",
              "      <td>26.879999</td>\n",
              "      <td>21.575644</td>\n",
              "      <td>0.0</td>\n",
              "    </tr>\n",
              "    <tr>\n",
              "      <th>274</th>\n",
              "      <td>26.879999</td>\n",
              "      <td>26.879999</td>\n",
              "      <td>26.879999</td>\n",
              "      <td>26.879999</td>\n",
              "      <td>21.575644</td>\n",
              "      <td>0.0</td>\n",
              "    </tr>\n",
              "    <tr>\n",
              "      <th>284</th>\n",
              "      <td>28.709999</td>\n",
              "      <td>28.709999</td>\n",
              "      <td>28.709999</td>\n",
              "      <td>28.709999</td>\n",
              "      <td>23.044519</td>\n",
              "      <td>0.0</td>\n",
              "    </tr>\n",
              "    <tr>\n",
              "      <th>291</th>\n",
              "      <td>29.080000</td>\n",
              "      <td>29.080000</td>\n",
              "      <td>29.080000</td>\n",
              "      <td>29.080000</td>\n",
              "      <td>23.341505</td>\n",
              "      <td>0.0</td>\n",
              "    </tr>\n",
              "    <tr>\n",
              "      <th>301</th>\n",
              "      <td>28.129999</td>\n",
              "      <td>28.129999</td>\n",
              "      <td>28.129999</td>\n",
              "      <td>28.129999</td>\n",
              "      <td>22.719036</td>\n",
              "      <td>0.0</td>\n",
              "    </tr>\n",
              "    <tr>\n",
              "      <th>305</th>\n",
              "      <td>28.350000</td>\n",
              "      <td>28.350000</td>\n",
              "      <td>28.350000</td>\n",
              "      <td>28.350000</td>\n",
              "      <td>22.896719</td>\n",
              "      <td>0.0</td>\n",
              "    </tr>\n",
              "    <tr>\n",
              "      <th>308</th>\n",
              "      <td>28.370001</td>\n",
              "      <td>28.370001</td>\n",
              "      <td>28.370001</td>\n",
              "      <td>28.370001</td>\n",
              "      <td>22.912872</td>\n",
              "      <td>0.0</td>\n",
              "    </tr>\n",
              "    <tr>\n",
              "      <th>319</th>\n",
              "      <td>26.530001</td>\n",
              "      <td>26.530001</td>\n",
              "      <td>26.530001</td>\n",
              "      <td>26.530001</td>\n",
              "      <td>21.426805</td>\n",
              "      <td>0.0</td>\n",
              "    </tr>\n",
              "    <tr>\n",
              "      <th>334</th>\n",
              "      <td>24.600000</td>\n",
              "      <td>24.600000</td>\n",
              "      <td>24.600000</td>\n",
              "      <td>24.600000</td>\n",
              "      <td>19.967300</td>\n",
              "      <td>0.0</td>\n",
              "    </tr>\n",
              "    <tr>\n",
              "      <th>335</th>\n",
              "      <td>24.600000</td>\n",
              "      <td>24.600000</td>\n",
              "      <td>24.600000</td>\n",
              "      <td>24.600000</td>\n",
              "      <td>20.142195</td>\n",
              "      <td>0.0</td>\n",
              "    </tr>\n",
              "    <tr>\n",
              "      <th>336</th>\n",
              "      <td>24.600000</td>\n",
              "      <td>24.600000</td>\n",
              "      <td>24.600000</td>\n",
              "      <td>24.600000</td>\n",
              "      <td>20.142195</td>\n",
              "      <td>0.0</td>\n",
              "    </tr>\n",
              "    <tr>\n",
              "      <th>337</th>\n",
              "      <td>24.600000</td>\n",
              "      <td>24.600000</td>\n",
              "      <td>24.600000</td>\n",
              "      <td>24.600000</td>\n",
              "      <td>20.142195</td>\n",
              "      <td>0.0</td>\n",
              "    </tr>\n",
              "    <tr>\n",
              "      <th>338</th>\n",
              "      <td>24.600000</td>\n",
              "      <td>24.600000</td>\n",
              "      <td>24.600000</td>\n",
              "      <td>24.600000</td>\n",
              "      <td>20.142195</td>\n",
              "      <td>0.0</td>\n",
              "    </tr>\n",
              "    <tr>\n",
              "      <th>339</th>\n",
              "      <td>24.600000</td>\n",
              "      <td>24.600000</td>\n",
              "      <td>24.600000</td>\n",
              "      <td>24.600000</td>\n",
              "      <td>20.142195</td>\n",
              "      <td>0.0</td>\n",
              "    </tr>\n",
              "    <tr>\n",
              "      <th>390</th>\n",
              "      <td>23.500000</td>\n",
              "      <td>23.500000</td>\n",
              "      <td>23.500000</td>\n",
              "      <td>23.500000</td>\n",
              "      <td>19.241526</td>\n",
              "      <td>0.0</td>\n",
              "    </tr>\n",
              "    <tr>\n",
              "      <th>391</th>\n",
              "      <td>23.500000</td>\n",
              "      <td>23.500000</td>\n",
              "      <td>23.500000</td>\n",
              "      <td>23.500000</td>\n",
              "      <td>19.241526</td>\n",
              "      <td>0.0</td>\n",
              "    </tr>\n",
              "    <tr>\n",
              "      <th>392</th>\n",
              "      <td>23.500000</td>\n",
              "      <td>23.500000</td>\n",
              "      <td>23.500000</td>\n",
              "      <td>23.500000</td>\n",
              "      <td>19.241526</td>\n",
              "      <td>0.0</td>\n",
              "    </tr>\n",
              "    <tr>\n",
              "      <th>393</th>\n",
              "      <td>23.500000</td>\n",
              "      <td>23.500000</td>\n",
              "      <td>23.500000</td>\n",
              "      <td>23.500000</td>\n",
              "      <td>19.412769</td>\n",
              "      <td>0.0</td>\n",
              "    </tr>\n",
              "    <tr>\n",
              "      <th>394</th>\n",
              "      <td>23.500000</td>\n",
              "      <td>23.500000</td>\n",
              "      <td>23.500000</td>\n",
              "      <td>23.500000</td>\n",
              "      <td>19.412769</td>\n",
              "      <td>0.0</td>\n",
              "    </tr>\n",
              "    <tr>\n",
              "      <th>395</th>\n",
              "      <td>23.500000</td>\n",
              "      <td>23.500000</td>\n",
              "      <td>23.500000</td>\n",
              "      <td>23.500000</td>\n",
              "      <td>19.412769</td>\n",
              "      <td>0.0</td>\n",
              "    </tr>\n",
              "    <tr>\n",
              "      <th>396</th>\n",
              "      <td>23.500000</td>\n",
              "      <td>23.500000</td>\n",
              "      <td>23.500000</td>\n",
              "      <td>23.500000</td>\n",
              "      <td>19.412769</td>\n",
              "      <td>0.0</td>\n",
              "    </tr>\n",
              "    <tr>\n",
              "      <th>397</th>\n",
              "      <td>23.500000</td>\n",
              "      <td>23.500000</td>\n",
              "      <td>23.500000</td>\n",
              "      <td>23.500000</td>\n",
              "      <td>19.412769</td>\n",
              "      <td>0.0</td>\n",
              "    </tr>\n",
              "    <tr>\n",
              "      <th>398</th>\n",
              "      <td>23.500000</td>\n",
              "      <td>23.500000</td>\n",
              "      <td>23.500000</td>\n",
              "      <td>23.500000</td>\n",
              "      <td>19.412769</td>\n",
              "      <td>0.0</td>\n",
              "    </tr>\n",
              "    <tr>\n",
              "      <th>399</th>\n",
              "      <td>23.500000</td>\n",
              "      <td>23.500000</td>\n",
              "      <td>23.500000</td>\n",
              "      <td>23.500000</td>\n",
              "      <td>19.412769</td>\n",
              "      <td>0.0</td>\n",
              "    </tr>\n",
              "    <tr>\n",
              "      <th>400</th>\n",
              "      <td>23.500000</td>\n",
              "      <td>23.500000</td>\n",
              "      <td>23.500000</td>\n",
              "      <td>23.500000</td>\n",
              "      <td>19.412769</td>\n",
              "      <td>0.0</td>\n",
              "    </tr>\n",
              "    <tr>\n",
              "      <th>401</th>\n",
              "      <td>23.500000</td>\n",
              "      <td>23.500000</td>\n",
              "      <td>23.500000</td>\n",
              "      <td>23.500000</td>\n",
              "      <td>19.412769</td>\n",
              "      <td>0.0</td>\n",
              "    </tr>\n",
              "    <tr>\n",
              "      <th>402</th>\n",
              "      <td>23.500000</td>\n",
              "      <td>23.500000</td>\n",
              "      <td>23.500000</td>\n",
              "      <td>23.500000</td>\n",
              "      <td>19.412769</td>\n",
              "      <td>0.0</td>\n",
              "    </tr>\n",
              "    <tr>\n",
              "      <th>449</th>\n",
              "      <td>19.270000</td>\n",
              "      <td>19.270000</td>\n",
              "      <td>19.270000</td>\n",
              "      <td>19.270000</td>\n",
              "      <td>15.918474</td>\n",
              "      <td>0.0</td>\n",
              "    </tr>\n",
              "    <tr>\n",
              "      <th>450</th>\n",
              "      <td>19.270000</td>\n",
              "      <td>19.270000</td>\n",
              "      <td>19.270000</td>\n",
              "      <td>19.270000</td>\n",
              "      <td>15.918474</td>\n",
              "      <td>0.0</td>\n",
              "    </tr>\n",
              "    <tr>\n",
              "      <th>451</th>\n",
              "      <td>19.270000</td>\n",
              "      <td>19.270000</td>\n",
              "      <td>19.270000</td>\n",
              "      <td>19.270000</td>\n",
              "      <td>15.918474</td>\n",
              "      <td>0.0</td>\n",
              "    </tr>\n",
              "    <tr>\n",
              "      <th>452</th>\n",
              "      <td>19.270000</td>\n",
              "      <td>19.270000</td>\n",
              "      <td>19.270000</td>\n",
              "      <td>19.270000</td>\n",
              "      <td>15.918474</td>\n",
              "      <td>0.0</td>\n",
              "    </tr>\n",
              "    <tr>\n",
              "      <th>461</th>\n",
              "      <td>21.459999</td>\n",
              "      <td>21.459999</td>\n",
              "      <td>21.459999</td>\n",
              "      <td>21.459999</td>\n",
              "      <td>17.727575</td>\n",
              "      <td>0.0</td>\n",
              "    </tr>\n",
              "    <tr>\n",
              "      <th>482</th>\n",
              "      <td>23.020000</td>\n",
              "      <td>23.020000</td>\n",
              "      <td>23.020000</td>\n",
              "      <td>23.020000</td>\n",
              "      <td>19.191036</td>\n",
              "      <td>0.0</td>\n",
              "    </tr>\n",
              "    <tr>\n",
              "      <th>507</th>\n",
              "      <td>23.650000</td>\n",
              "      <td>23.650000</td>\n",
              "      <td>23.650000</td>\n",
              "      <td>23.650000</td>\n",
              "      <td>19.878437</td>\n",
              "      <td>0.0</td>\n",
              "    </tr>\n",
              "    <tr>\n",
              "      <th>525</th>\n",
              "      <td>23.500000</td>\n",
              "      <td>23.500000</td>\n",
              "      <td>23.500000</td>\n",
              "      <td>23.500000</td>\n",
              "      <td>19.752361</td>\n",
              "      <td>0.0</td>\n",
              "    </tr>\n",
              "    <tr>\n",
              "      <th>547</th>\n",
              "      <td>24.350000</td>\n",
              "      <td>24.350000</td>\n",
              "      <td>24.350000</td>\n",
              "      <td>24.350000</td>\n",
              "      <td>20.466808</td>\n",
              "      <td>0.0</td>\n",
              "    </tr>\n",
              "    <tr>\n",
              "      <th>590</th>\n",
              "      <td>19.070000</td>\n",
              "      <td>19.070000</td>\n",
              "      <td>19.070000</td>\n",
              "      <td>19.070000</td>\n",
              "      <td>16.277838</td>\n",
              "      <td>0.0</td>\n",
              "    </tr>\n",
              "    <tr>\n",
              "      <th>609</th>\n",
              "      <td>18.549999</td>\n",
              "      <td>18.549999</td>\n",
              "      <td>18.549999</td>\n",
              "      <td>18.549999</td>\n",
              "      <td>15.833973</td>\n",
              "      <td>0.0</td>\n",
              "    </tr>\n",
              "    <tr>\n",
              "      <th>628</th>\n",
              "      <td>19.549999</td>\n",
              "      <td>19.549999</td>\n",
              "      <td>19.549999</td>\n",
              "      <td>19.549999</td>\n",
              "      <td>16.687557</td>\n",
              "      <td>0.0</td>\n",
              "    </tr>\n",
              "    <tr>\n",
              "      <th>653</th>\n",
              "      <td>21.549999</td>\n",
              "      <td>21.549999</td>\n",
              "      <td>21.549999</td>\n",
              "      <td>21.549999</td>\n",
              "      <td>18.394724</td>\n",
              "      <td>0.0</td>\n",
              "    </tr>\n",
              "    <tr>\n",
              "      <th>799</th>\n",
              "      <td>18.420000</td>\n",
              "      <td>18.420000</td>\n",
              "      <td>18.420000</td>\n",
              "      <td>18.420000</td>\n",
              "      <td>15.723004</td>\n",
              "      <td>0.0</td>\n",
              "    </tr>\n",
              "    <tr>\n",
              "      <th>819</th>\n",
              "      <td>19.170000</td>\n",
              "      <td>19.170000</td>\n",
              "      <td>19.170000</td>\n",
              "      <td>19.170000</td>\n",
              "      <td>16.363195</td>\n",
              "      <td>0.0</td>\n",
              "    </tr>\n",
              "    <tr>\n",
              "      <th>881</th>\n",
              "      <td>16.840000</td>\n",
              "      <td>16.840000</td>\n",
              "      <td>16.840000</td>\n",
              "      <td>16.840000</td>\n",
              "      <td>14.651424</td>\n",
              "      <td>0.0</td>\n",
              "    </tr>\n",
              "    <tr>\n",
              "      <th>1831</th>\n",
              "      <td>13.680000</td>\n",
              "      <td>13.680000</td>\n",
              "      <td>13.680000</td>\n",
              "      <td>13.680000</td>\n",
              "      <td>12.690969</td>\n",
              "      <td>0.0</td>\n",
              "    </tr>\n",
              "    <tr>\n",
              "      <th>1844</th>\n",
              "      <td>12.620000</td>\n",
              "      <td>12.620000</td>\n",
              "      <td>12.620000</td>\n",
              "      <td>12.620000</td>\n",
              "      <td>11.707604</td>\n",
              "      <td>0.0</td>\n",
              "    </tr>\n",
              "    <tr>\n",
              "      <th>1904</th>\n",
              "      <td>15.020000</td>\n",
              "      <td>15.020000</td>\n",
              "      <td>15.020000</td>\n",
              "      <td>15.020000</td>\n",
              "      <td>13.934092</td>\n",
              "      <td>0.0</td>\n",
              "    </tr>\n",
              "    <tr>\n",
              "      <th>1929</th>\n",
              "      <td>16.080000</td>\n",
              "      <td>16.080000</td>\n",
              "      <td>16.080000</td>\n",
              "      <td>16.080000</td>\n",
              "      <td>14.917455</td>\n",
              "      <td>0.0</td>\n",
              "    </tr>\n",
              "    <tr>\n",
              "      <th>1944</th>\n",
              "      <td>16.900000</td>\n",
              "      <td>16.900000</td>\n",
              "      <td>16.900000</td>\n",
              "      <td>16.900000</td>\n",
              "      <td>15.678172</td>\n",
              "      <td>0.0</td>\n",
              "    </tr>\n",
              "    <tr>\n",
              "      <th>1953</th>\n",
              "      <td>15.350000</td>\n",
              "      <td>15.350000</td>\n",
              "      <td>15.350000</td>\n",
              "      <td>15.350000</td>\n",
              "      <td>14.240232</td>\n",
              "      <td>0.0</td>\n",
              "    </tr>\n",
              "    <tr>\n",
              "      <th>1956</th>\n",
              "      <td>16.020000</td>\n",
              "      <td>16.020000</td>\n",
              "      <td>16.020000</td>\n",
              "      <td>16.020000</td>\n",
              "      <td>14.861793</td>\n",
              "      <td>0.0</td>\n",
              "    </tr>\n",
              "    <tr>\n",
              "      <th>1981</th>\n",
              "      <td>15.750000</td>\n",
              "      <td>15.750000</td>\n",
              "      <td>15.750000</td>\n",
              "      <td>15.750000</td>\n",
              "      <td>14.611314</td>\n",
              "      <td>0.0</td>\n",
              "    </tr>\n",
              "    <tr>\n",
              "      <th>1985</th>\n",
              "      <td>16.100000</td>\n",
              "      <td>16.100000</td>\n",
              "      <td>16.100000</td>\n",
              "      <td>16.100000</td>\n",
              "      <td>14.936009</td>\n",
              "      <td>0.0</td>\n",
              "    </tr>\n",
              "    <tr>\n",
              "      <th>2003</th>\n",
              "      <td>19.340000</td>\n",
              "      <td>19.340000</td>\n",
              "      <td>19.340000</td>\n",
              "      <td>19.340000</td>\n",
              "      <td>17.941765</td>\n",
              "      <td>0.0</td>\n",
              "    </tr>\n",
              "  </tbody>\n",
              "</table>\n",
              "</div>"
            ],
            "text/plain": [
              "           Open       High        Low      Close  Adj Close  Volume\n",
              "99    27.809999  27.809999  27.809999  27.809999  21.897339     0.0\n",
              "273   26.879999  26.879999  26.879999  26.879999  21.575644     0.0\n",
              "274   26.879999  26.879999  26.879999  26.879999  21.575644     0.0\n",
              "284   28.709999  28.709999  28.709999  28.709999  23.044519     0.0\n",
              "291   29.080000  29.080000  29.080000  29.080000  23.341505     0.0\n",
              "301   28.129999  28.129999  28.129999  28.129999  22.719036     0.0\n",
              "305   28.350000  28.350000  28.350000  28.350000  22.896719     0.0\n",
              "308   28.370001  28.370001  28.370001  28.370001  22.912872     0.0\n",
              "319   26.530001  26.530001  26.530001  26.530001  21.426805     0.0\n",
              "334   24.600000  24.600000  24.600000  24.600000  19.967300     0.0\n",
              "335   24.600000  24.600000  24.600000  24.600000  20.142195     0.0\n",
              "336   24.600000  24.600000  24.600000  24.600000  20.142195     0.0\n",
              "337   24.600000  24.600000  24.600000  24.600000  20.142195     0.0\n",
              "338   24.600000  24.600000  24.600000  24.600000  20.142195     0.0\n",
              "339   24.600000  24.600000  24.600000  24.600000  20.142195     0.0\n",
              "390   23.500000  23.500000  23.500000  23.500000  19.241526     0.0\n",
              "391   23.500000  23.500000  23.500000  23.500000  19.241526     0.0\n",
              "392   23.500000  23.500000  23.500000  23.500000  19.241526     0.0\n",
              "393   23.500000  23.500000  23.500000  23.500000  19.412769     0.0\n",
              "394   23.500000  23.500000  23.500000  23.500000  19.412769     0.0\n",
              "395   23.500000  23.500000  23.500000  23.500000  19.412769     0.0\n",
              "396   23.500000  23.500000  23.500000  23.500000  19.412769     0.0\n",
              "397   23.500000  23.500000  23.500000  23.500000  19.412769     0.0\n",
              "398   23.500000  23.500000  23.500000  23.500000  19.412769     0.0\n",
              "399   23.500000  23.500000  23.500000  23.500000  19.412769     0.0\n",
              "400   23.500000  23.500000  23.500000  23.500000  19.412769     0.0\n",
              "401   23.500000  23.500000  23.500000  23.500000  19.412769     0.0\n",
              "402   23.500000  23.500000  23.500000  23.500000  19.412769     0.0\n",
              "449   19.270000  19.270000  19.270000  19.270000  15.918474     0.0\n",
              "450   19.270000  19.270000  19.270000  19.270000  15.918474     0.0\n",
              "451   19.270000  19.270000  19.270000  19.270000  15.918474     0.0\n",
              "452   19.270000  19.270000  19.270000  19.270000  15.918474     0.0\n",
              "461   21.459999  21.459999  21.459999  21.459999  17.727575     0.0\n",
              "482   23.020000  23.020000  23.020000  23.020000  19.191036     0.0\n",
              "507   23.650000  23.650000  23.650000  23.650000  19.878437     0.0\n",
              "525   23.500000  23.500000  23.500000  23.500000  19.752361     0.0\n",
              "547   24.350000  24.350000  24.350000  24.350000  20.466808     0.0\n",
              "590   19.070000  19.070000  19.070000  19.070000  16.277838     0.0\n",
              "609   18.549999  18.549999  18.549999  18.549999  15.833973     0.0\n",
              "628   19.549999  19.549999  19.549999  19.549999  16.687557     0.0\n",
              "653   21.549999  21.549999  21.549999  21.549999  18.394724     0.0\n",
              "799   18.420000  18.420000  18.420000  18.420000  15.723004     0.0\n",
              "819   19.170000  19.170000  19.170000  19.170000  16.363195     0.0\n",
              "881   16.840000  16.840000  16.840000  16.840000  14.651424     0.0\n",
              "1831  13.680000  13.680000  13.680000  13.680000  12.690969     0.0\n",
              "1844  12.620000  12.620000  12.620000  12.620000  11.707604     0.0\n",
              "1904  15.020000  15.020000  15.020000  15.020000  13.934092     0.0\n",
              "1929  16.080000  16.080000  16.080000  16.080000  14.917455     0.0\n",
              "1944  16.900000  16.900000  16.900000  16.900000  15.678172     0.0\n",
              "1953  15.350000  15.350000  15.350000  15.350000  14.240232     0.0\n",
              "1956  16.020000  16.020000  16.020000  16.020000  14.861793     0.0\n",
              "1981  15.750000  15.750000  15.750000  15.750000  14.611314     0.0\n",
              "1985  16.100000  16.100000  16.100000  16.100000  14.936009     0.0\n",
              "2003  19.340000  19.340000  19.340000  19.340000  17.941765     0.0"
            ]
          },
          "metadata": {
            "tags": []
          },
          "execution_count": 15
        }
      ]
    },
    {
      "cell_type": "code",
      "metadata": {
        "id": "352jPyV0T5JJ"
      },
      "source": [
        "#preenchendo os valores nulos com o valor médio\n",
        "imputer = SimpleImputer(missing_values=0, strategy='mean',verbose=0)\n",
        "imputer = imputer.fit(base.iloc[:,0:6])\n",
        "base.iloc[:,0:6] = imputer.transform(base.iloc[:,0:6])"
      ],
      "execution_count": 16,
      "outputs": []
    },
    {
      "cell_type": "code",
      "metadata": {
        "colab": {
          "base_uri": "https://localhost:8080/",
          "height": 0
        },
        "id": "xI5JdDykT66_",
        "outputId": "fd463447-acec-45aa-86b2-a8c8e74cffe2"
      },
      "source": [
        "#Verificando novamente se ainda temos valores nulos\n",
        "base.loc[base['Volume'] == 0]"
      ],
      "execution_count": 17,
      "outputs": [
        {
          "output_type": "execute_result",
          "data": {
            "text/html": [
              "<div>\n",
              "<style scoped>\n",
              "    .dataframe tbody tr th:only-of-type {\n",
              "        vertical-align: middle;\n",
              "    }\n",
              "\n",
              "    .dataframe tbody tr th {\n",
              "        vertical-align: top;\n",
              "    }\n",
              "\n",
              "    .dataframe thead th {\n",
              "        text-align: right;\n",
              "    }\n",
              "</style>\n",
              "<table border=\"1\" class=\"dataframe\">\n",
              "  <thead>\n",
              "    <tr style=\"text-align: right;\">\n",
              "      <th></th>\n",
              "      <th>Open</th>\n",
              "      <th>High</th>\n",
              "      <th>Low</th>\n",
              "      <th>Close</th>\n",
              "      <th>Adj Close</th>\n",
              "      <th>Volume</th>\n",
              "    </tr>\n",
              "  </thead>\n",
              "  <tbody>\n",
              "  </tbody>\n",
              "</table>\n",
              "</div>"
            ],
            "text/plain": [
              "Empty DataFrame\n",
              "Columns: [Open, High, Low, Close, Adj Close, Volume]\n",
              "Index: []"
            ]
          },
          "metadata": {
            "tags": []
          },
          "execution_count": 17
        }
      ]
    },
    {
      "cell_type": "code",
      "metadata": {
        "id": "NYW0UUz0T9Kq"
      },
      "source": [
        "#base = base.dropna()"
      ],
      "execution_count": 18,
      "outputs": []
    },
    {
      "cell_type": "code",
      "metadata": {
        "id": "ceOotOwsT_Er"
      },
      "source": [
        "#base.sample()"
      ],
      "execution_count": 19,
      "outputs": []
    },
    {
      "cell_type": "markdown",
      "metadata": {
        "id": "hCiQYMqPGHuG"
      },
      "source": [
        "#**-Descrição dos dados** IGNORE ESTA CÉLULA"
      ]
    },
    {
      "cell_type": "code",
      "metadata": {
        "id": "xalwLdRSGLRD"
      },
      "source": [
        "#Tendencia central - mean, median\n",
        "ct1 = pd.DataFrame(base.apply(np.mean)).T #T transpondo \n",
        "ct2 = pd.DataFrame(base.apply(np.median)).T\n",
        "#Dispersão - std(desvio padrão), min, max, range\n",
        "d1 = pd.DataFrame(base.apply(np.std)).T\n",
        "d2 = pd.DataFrame(base.apply(min)).T\n",
        "d3 = pd.DataFrame(base.apply(max)).T\n",
        "d4 = pd.DataFrame(base.apply(lambda x: x.max() - x.min())).T\n",
        "#concatenate\n",
        "m = pd.concat([d2,d3,d4,ct1,ct2,d1]).T.reset_index()\n",
        "m.columns = ['attributes','min','max','range', 'mean', 'median', 'std']\n",
        "m"
      ],
      "execution_count": null,
      "outputs": []
    },
    {
      "cell_type": "code",
      "metadata": {
        "colab": {
          "base_uri": "https://localhost:8080/"
        },
        "id": "j62Bj8jOQz_G",
        "outputId": "9e5055ec-b49f-4f7d-e3c1-b3fc2b1dae42"
      },
      "source": [
        "base.shape[0]"
      ],
      "execution_count": null,
      "outputs": [
        {
          "output_type": "execute_result",
          "data": {
            "text/plain": [
              "2478"
            ]
          },
          "metadata": {
            "tags": []
          },
          "execution_count": 20
        }
      ]
    },
    {
      "cell_type": "markdown",
      "metadata": {
        "id": "4IDwP-XV_Ohd"
      },
      "source": [
        "#**4-Treinamento da rede**"
      ]
    },
    {
      "cell_type": "code",
      "metadata": {
        "id": "mpo6RlDsUHNJ"
      },
      "source": [
        "#normalizando a base de dados com o MinMaxScaler\n",
        "base_treinamento = base.iloc[:, 0:6].values\n",
        "normalizador = MinMaxScaler(feature_range=(0,1))\n",
        "base_treinamento_normalizada = normalizador.fit_transform(base_treinamento)"
      ],
      "execution_count": 20,
      "outputs": []
    },
    {
      "cell_type": "code",
      "metadata": {
        "id": "d-LD4OEaUNf7"
      },
      "source": [
        "#Comparando a predição com o preço real\n",
        "previsores = []\n",
        "preco_real = []\n",
        "for i in range(90, 2232):\n",
        "    previsores.append(base_treinamento_normalizada[i-90:i, 0:6])\n",
        "    preco_real.append(base_treinamento_normalizada[i, 3:4])\n",
        "previsores, preco_real = np.array(previsores), np.array(preco_real)\n"
      ],
      "execution_count": 22,
      "outputs": []
    },
    {
      "cell_type": "code",
      "metadata": {
        "colab": {
          "base_uri": "https://localhost:8080/"
        },
        "id": "ZftXowA9URdt",
        "outputId": "2d73eafc-807c-4f2b-99f4-0fceec7a67a4"
      },
      "source": [
        "#estrutura da rede neural \n",
        "regressor = Sequential()\n",
        "regressor.add(LSTM(units = 128, return_sequences = True, input_shape = (previsores.shape[1], 6)))\n",
        "regressor.add(Dropout(0.3))\n",
        "\n",
        "regressor.add(LSTM(units = 50, return_sequences = True))\n",
        "regressor.add(Dropout(0.3))\n",
        "\n",
        "regressor.add(LSTM(units = 50, return_sequences = True))\n",
        "regressor.add(Dropout(0.3))\n",
        "\n",
        "regressor.add(LSTM(units = 50))\n",
        "regressor.add(Dropout(0.3))\n",
        "\n",
        "regressor.add(Dense(units = 1, activation = 'sigmoid'))\n",
        "\n",
        "es = EarlyStopping(monitor = 'loss', min_delta = 1e-15, patience = 20, verbose = 1)\n",
        "\n",
        "#regressor.compile(optimizer = 'RMSprop', loss = 'mean_squared_error',\n",
        "#                  metrics = ['mean_absolute_error'])\n",
        "opt = tf.keras.optimizers.Adam(amsgrad=True)\n",
        "regressor.compile(optimizer = opt, loss = 'mean_squared_error',\n",
        "                  metrics = ['mean_absolute_error'])\n",
        "#opt = tf.keras.optimizers.RMSprop(centered=True)\n",
        "#regressor.compile(optimizer = opt, loss = 'mean_squared_error',\n",
        "#                 metrics = ['mean_absolute_error'])\n",
        "\n",
        "regressor.fit(previsores, preco_real, epochs = 600, batch_size = 32,\n",
        "              callbacks = [es])"
      ],
      "execution_count": 23,
      "outputs": [
        {
          "output_type": "stream",
          "text": [
            "Epoch 1/600\n",
            "67/67 [==============================] - 37s 19ms/step - loss: 0.0203 - mean_absolute_error: 0.1094\n",
            "Epoch 2/600\n",
            "67/67 [==============================] - 1s 18ms/step - loss: 0.0035 - mean_absolute_error: 0.0468\n",
            "Epoch 3/600\n",
            "67/67 [==============================] - 1s 18ms/step - loss: 0.0028 - mean_absolute_error: 0.0405\n",
            "Epoch 4/600\n",
            "67/67 [==============================] - 1s 18ms/step - loss: 0.0026 - mean_absolute_error: 0.0395\n",
            "Epoch 5/600\n",
            "67/67 [==============================] - 1s 17ms/step - loss: 0.0022 - mean_absolute_error: 0.0366\n",
            "Epoch 6/600\n",
            "67/67 [==============================] - 1s 18ms/step - loss: 0.0019 - mean_absolute_error: 0.0346\n",
            "Epoch 7/600\n",
            "67/67 [==============================] - 1s 18ms/step - loss: 0.0018 - mean_absolute_error: 0.0330\n",
            "Epoch 8/600\n",
            "67/67 [==============================] - 1s 17ms/step - loss: 0.0015 - mean_absolute_error: 0.0304\n",
            "Epoch 9/600\n",
            "67/67 [==============================] - 1s 18ms/step - loss: 0.0017 - mean_absolute_error: 0.0309\n",
            "Epoch 10/600\n",
            "67/67 [==============================] - 1s 18ms/step - loss: 0.0014 - mean_absolute_error: 0.0286\n",
            "Epoch 11/600\n",
            "67/67 [==============================] - 1s 18ms/step - loss: 0.0013 - mean_absolute_error: 0.0286\n",
            "Epoch 12/600\n",
            "67/67 [==============================] - 1s 18ms/step - loss: 0.0013 - mean_absolute_error: 0.0281\n",
            "Epoch 13/600\n",
            "67/67 [==============================] - 1s 17ms/step - loss: 0.0013 - mean_absolute_error: 0.0280\n",
            "Epoch 14/600\n",
            "67/67 [==============================] - 1s 17ms/step - loss: 0.0013 - mean_absolute_error: 0.0276\n",
            "Epoch 15/600\n",
            "67/67 [==============================] - 1s 18ms/step - loss: 0.0013 - mean_absolute_error: 0.0282\n",
            "Epoch 16/600\n",
            "67/67 [==============================] - 1s 17ms/step - loss: 0.0012 - mean_absolute_error: 0.0270\n",
            "Epoch 17/600\n",
            "67/67 [==============================] - 1s 17ms/step - loss: 0.0010 - mean_absolute_error: 0.0253\n",
            "Epoch 18/600\n",
            "67/67 [==============================] - 1s 17ms/step - loss: 0.0010 - mean_absolute_error: 0.0251\n",
            "Epoch 19/600\n",
            "67/67 [==============================] - 1s 18ms/step - loss: 9.5571e-04 - mean_absolute_error: 0.0239\n",
            "Epoch 20/600\n",
            "67/67 [==============================] - 1s 18ms/step - loss: 9.3066e-04 - mean_absolute_error: 0.0235\n",
            "Epoch 21/600\n",
            "67/67 [==============================] - 1s 18ms/step - loss: 8.9615e-04 - mean_absolute_error: 0.0233\n",
            "Epoch 22/600\n",
            "67/67 [==============================] - 1s 18ms/step - loss: 9.5456e-04 - mean_absolute_error: 0.0242\n",
            "Epoch 23/600\n",
            "67/67 [==============================] - 1s 18ms/step - loss: 8.6465e-04 - mean_absolute_error: 0.0226\n",
            "Epoch 24/600\n",
            "67/67 [==============================] - 1s 18ms/step - loss: 8.9231e-04 - mean_absolute_error: 0.0228\n",
            "Epoch 25/600\n",
            "67/67 [==============================] - 1s 18ms/step - loss: 8.6957e-04 - mean_absolute_error: 0.0229\n",
            "Epoch 26/600\n",
            "67/67 [==============================] - 1s 17ms/step - loss: 8.2897e-04 - mean_absolute_error: 0.0224\n",
            "Epoch 27/600\n",
            "67/67 [==============================] - 1s 18ms/step - loss: 8.1003e-04 - mean_absolute_error: 0.0220\n",
            "Epoch 28/600\n",
            "67/67 [==============================] - 1s 18ms/step - loss: 7.9967e-04 - mean_absolute_error: 0.0220\n",
            "Epoch 29/600\n",
            "67/67 [==============================] - 1s 18ms/step - loss: 8.8547e-04 - mean_absolute_error: 0.0230\n",
            "Epoch 30/600\n",
            "67/67 [==============================] - 1s 18ms/step - loss: 7.4678e-04 - mean_absolute_error: 0.0210\n",
            "Epoch 31/600\n",
            "67/67 [==============================] - 1s 18ms/step - loss: 7.4195e-04 - mean_absolute_error: 0.0212\n",
            "Epoch 32/600\n",
            "67/67 [==============================] - 1s 19ms/step - loss: 7.8639e-04 - mean_absolute_error: 0.0212\n",
            "Epoch 33/600\n",
            "67/67 [==============================] - 1s 18ms/step - loss: 7.0134e-04 - mean_absolute_error: 0.0204\n",
            "Epoch 34/600\n",
            "67/67 [==============================] - 1s 18ms/step - loss: 9.0315e-04 - mean_absolute_error: 0.0237\n",
            "Epoch 35/600\n",
            "67/67 [==============================] - 1s 18ms/step - loss: 7.2799e-04 - mean_absolute_error: 0.0208\n",
            "Epoch 36/600\n",
            "67/67 [==============================] - 1s 18ms/step - loss: 7.5322e-04 - mean_absolute_error: 0.0213\n",
            "Epoch 37/600\n",
            "67/67 [==============================] - 1s 18ms/step - loss: 7.3825e-04 - mean_absolute_error: 0.0206\n",
            "Epoch 38/600\n",
            "67/67 [==============================] - 1s 18ms/step - loss: 7.3001e-04 - mean_absolute_error: 0.0211\n",
            "Epoch 39/600\n",
            "67/67 [==============================] - 1s 18ms/step - loss: 6.8614e-04 - mean_absolute_error: 0.0201\n",
            "Epoch 40/600\n",
            "67/67 [==============================] - 1s 18ms/step - loss: 7.5641e-04 - mean_absolute_error: 0.0212\n",
            "Epoch 41/600\n",
            "67/67 [==============================] - 1s 18ms/step - loss: 7.2832e-04 - mean_absolute_error: 0.0209\n",
            "Epoch 42/600\n",
            "67/67 [==============================] - 1s 18ms/step - loss: 6.9716e-04 - mean_absolute_error: 0.0204\n",
            "Epoch 43/600\n",
            "67/67 [==============================] - 1s 18ms/step - loss: 7.0148e-04 - mean_absolute_error: 0.0205\n",
            "Epoch 44/600\n",
            "67/67 [==============================] - 1s 17ms/step - loss: 6.3714e-04 - mean_absolute_error: 0.0192\n",
            "Epoch 45/600\n",
            "67/67 [==============================] - 1s 18ms/step - loss: 6.8209e-04 - mean_absolute_error: 0.0206\n",
            "Epoch 46/600\n",
            "67/67 [==============================] - 1s 17ms/step - loss: 7.0410e-04 - mean_absolute_error: 0.0201\n",
            "Epoch 47/600\n",
            "67/67 [==============================] - 1s 17ms/step - loss: 6.9870e-04 - mean_absolute_error: 0.0200\n",
            "Epoch 48/600\n",
            "67/67 [==============================] - 1s 18ms/step - loss: 6.4250e-04 - mean_absolute_error: 0.0194\n",
            "Epoch 49/600\n",
            "67/67 [==============================] - 1s 18ms/step - loss: 7.4696e-04 - mean_absolute_error: 0.0213\n",
            "Epoch 50/600\n",
            "67/67 [==============================] - 1s 19ms/step - loss: 6.1655e-04 - mean_absolute_error: 0.0191\n",
            "Epoch 51/600\n",
            "67/67 [==============================] - 1s 18ms/step - loss: 6.8128e-04 - mean_absolute_error: 0.0206\n",
            "Epoch 52/600\n",
            "67/67 [==============================] - 1s 18ms/step - loss: 5.4890e-04 - mean_absolute_error: 0.0181\n",
            "Epoch 53/600\n",
            "67/67 [==============================] - 1s 18ms/step - loss: 6.3093e-04 - mean_absolute_error: 0.0193\n",
            "Epoch 54/600\n",
            "67/67 [==============================] - 1s 18ms/step - loss: 6.2627e-04 - mean_absolute_error: 0.0194\n",
            "Epoch 55/600\n",
            "67/67 [==============================] - 1s 18ms/step - loss: 6.5992e-04 - mean_absolute_error: 0.0196\n",
            "Epoch 56/600\n",
            "67/67 [==============================] - 1s 18ms/step - loss: 5.9641e-04 - mean_absolute_error: 0.0186\n",
            "Epoch 57/600\n",
            "67/67 [==============================] - 1s 18ms/step - loss: 5.7040e-04 - mean_absolute_error: 0.0183\n",
            "Epoch 58/600\n",
            "67/67 [==============================] - 1s 18ms/step - loss: 6.9422e-04 - mean_absolute_error: 0.0202\n",
            "Epoch 59/600\n",
            "67/67 [==============================] - 1s 18ms/step - loss: 6.1508e-04 - mean_absolute_error: 0.0188\n",
            "Epoch 60/600\n",
            "67/67 [==============================] - 1s 18ms/step - loss: 5.8356e-04 - mean_absolute_error: 0.0186\n",
            "Epoch 61/600\n",
            "67/67 [==============================] - 1s 18ms/step - loss: 5.8208e-04 - mean_absolute_error: 0.0186\n",
            "Epoch 62/600\n",
            "67/67 [==============================] - 1s 18ms/step - loss: 6.4671e-04 - mean_absolute_error: 0.0195\n",
            "Epoch 63/600\n",
            "67/67 [==============================] - 1s 19ms/step - loss: 6.0739e-04 - mean_absolute_error: 0.0190\n",
            "Epoch 64/600\n",
            "67/67 [==============================] - 1s 18ms/step - loss: 6.0186e-04 - mean_absolute_error: 0.0195\n",
            "Epoch 65/600\n",
            "67/67 [==============================] - 1s 18ms/step - loss: 6.2556e-04 - mean_absolute_error: 0.0195\n",
            "Epoch 66/600\n",
            "67/67 [==============================] - 1s 18ms/step - loss: 5.7471e-04 - mean_absolute_error: 0.0184\n",
            "Epoch 67/600\n",
            "67/67 [==============================] - 1s 18ms/step - loss: 5.8916e-04 - mean_absolute_error: 0.0189\n",
            "Epoch 68/600\n",
            "67/67 [==============================] - 1s 18ms/step - loss: 5.7356e-04 - mean_absolute_error: 0.0182\n",
            "Epoch 69/600\n",
            "67/67 [==============================] - 1s 18ms/step - loss: 5.8836e-04 - mean_absolute_error: 0.0183\n",
            "Epoch 70/600\n",
            "67/67 [==============================] - 1s 18ms/step - loss: 5.3527e-04 - mean_absolute_error: 0.0182\n",
            "Epoch 71/600\n",
            "67/67 [==============================] - 1s 18ms/step - loss: 6.0590e-04 - mean_absolute_error: 0.0188\n",
            "Epoch 72/600\n",
            "67/67 [==============================] - 1s 18ms/step - loss: 5.7161e-04 - mean_absolute_error: 0.0183\n",
            "Epoch 73/600\n",
            "67/67 [==============================] - 1s 18ms/step - loss: 5.6171e-04 - mean_absolute_error: 0.0184\n",
            "Epoch 74/600\n",
            "67/67 [==============================] - 1s 18ms/step - loss: 5.2077e-04 - mean_absolute_error: 0.0173\n",
            "Epoch 75/600\n",
            "67/67 [==============================] - 1s 18ms/step - loss: 5.5857e-04 - mean_absolute_error: 0.0183\n",
            "Epoch 76/600\n",
            "67/67 [==============================] - 1s 18ms/step - loss: 5.4071e-04 - mean_absolute_error: 0.0178\n",
            "Epoch 77/600\n",
            "67/67 [==============================] - 1s 18ms/step - loss: 5.1578e-04 - mean_absolute_error: 0.0172\n",
            "Epoch 78/600\n",
            "67/67 [==============================] - 1s 18ms/step - loss: 5.6947e-04 - mean_absolute_error: 0.0181\n",
            "Epoch 79/600\n",
            "67/67 [==============================] - 1s 18ms/step - loss: 5.4593e-04 - mean_absolute_error: 0.0180\n",
            "Epoch 80/600\n",
            "67/67 [==============================] - 1s 19ms/step - loss: 5.6779e-04 - mean_absolute_error: 0.0179\n",
            "Epoch 81/600\n",
            "67/67 [==============================] - 1s 18ms/step - loss: 5.9403e-04 - mean_absolute_error: 0.0185\n",
            "Epoch 82/600\n",
            "67/67 [==============================] - 1s 18ms/step - loss: 5.4429e-04 - mean_absolute_error: 0.0177\n",
            "Epoch 83/600\n",
            "67/67 [==============================] - 1s 18ms/step - loss: 5.1695e-04 - mean_absolute_error: 0.0172\n",
            "Epoch 84/600\n",
            "67/67 [==============================] - 1s 19ms/step - loss: 5.0732e-04 - mean_absolute_error: 0.0171\n",
            "Epoch 85/600\n",
            "67/67 [==============================] - 1s 19ms/step - loss: 6.1071e-04 - mean_absolute_error: 0.0186\n",
            "Epoch 86/600\n",
            "67/67 [==============================] - 1s 19ms/step - loss: 5.7119e-04 - mean_absolute_error: 0.0178\n",
            "Epoch 87/600\n",
            "67/67 [==============================] - 1s 18ms/step - loss: 5.8767e-04 - mean_absolute_error: 0.0184\n",
            "Epoch 88/600\n",
            "67/67 [==============================] - 1s 19ms/step - loss: 5.2970e-04 - mean_absolute_error: 0.0174\n",
            "Epoch 89/600\n",
            "67/67 [==============================] - 1s 18ms/step - loss: 5.7136e-04 - mean_absolute_error: 0.0181\n",
            "Epoch 90/600\n",
            "67/67 [==============================] - 1s 18ms/step - loss: 5.8102e-04 - mean_absolute_error: 0.0192\n",
            "Epoch 91/600\n",
            "67/67 [==============================] - 1s 18ms/step - loss: 5.2726e-04 - mean_absolute_error: 0.0178\n",
            "Epoch 92/600\n",
            "67/67 [==============================] - 1s 18ms/step - loss: 5.8237e-04 - mean_absolute_error: 0.0186\n",
            "Epoch 93/600\n",
            "67/67 [==============================] - 1s 18ms/step - loss: 5.8723e-04 - mean_absolute_error: 0.0183\n",
            "Epoch 94/600\n",
            "67/67 [==============================] - 1s 18ms/step - loss: 5.2109e-04 - mean_absolute_error: 0.0175\n",
            "Epoch 95/600\n",
            "67/67 [==============================] - 1s 18ms/step - loss: 5.6431e-04 - mean_absolute_error: 0.0184\n",
            "Epoch 96/600\n",
            "67/67 [==============================] - 1s 18ms/step - loss: 5.7049e-04 - mean_absolute_error: 0.0183\n",
            "Epoch 97/600\n",
            "67/67 [==============================] - 1s 18ms/step - loss: 5.3486e-04 - mean_absolute_error: 0.0177\n",
            "Epoch 98/600\n",
            "67/67 [==============================] - 1s 18ms/step - loss: 5.4101e-04 - mean_absolute_error: 0.0180\n",
            "Epoch 99/600\n",
            "67/67 [==============================] - 1s 18ms/step - loss: 4.8924e-04 - mean_absolute_error: 0.0167\n",
            "Epoch 100/600\n",
            "67/67 [==============================] - 1s 18ms/step - loss: 5.6068e-04 - mean_absolute_error: 0.0182\n",
            "Epoch 101/600\n",
            "67/67 [==============================] - 1s 18ms/step - loss: 5.3079e-04 - mean_absolute_error: 0.0176\n",
            "Epoch 102/600\n",
            "67/67 [==============================] - 1s 18ms/step - loss: 5.5438e-04 - mean_absolute_error: 0.0183\n",
            "Epoch 103/600\n",
            "67/67 [==============================] - 1s 18ms/step - loss: 5.0388e-04 - mean_absolute_error: 0.0173\n",
            "Epoch 104/600\n",
            "67/67 [==============================] - 1s 18ms/step - loss: 5.3574e-04 - mean_absolute_error: 0.0175\n",
            "Epoch 105/600\n",
            "67/67 [==============================] - 1s 18ms/step - loss: 5.3911e-04 - mean_absolute_error: 0.0176\n",
            "Epoch 106/600\n",
            "67/67 [==============================] - 1s 18ms/step - loss: 4.7640e-04 - mean_absolute_error: 0.0166\n",
            "Epoch 107/600\n",
            "67/67 [==============================] - 1s 18ms/step - loss: 5.1086e-04 - mean_absolute_error: 0.0170\n",
            "Epoch 108/600\n",
            "67/67 [==============================] - 1s 18ms/step - loss: 6.0147e-04 - mean_absolute_error: 0.0190\n",
            "Epoch 109/600\n",
            "67/67 [==============================] - 1s 19ms/step - loss: 5.2246e-04 - mean_absolute_error: 0.0175\n",
            "Epoch 110/600\n",
            "67/67 [==============================] - 1s 18ms/step - loss: 4.9155e-04 - mean_absolute_error: 0.0173\n",
            "Epoch 111/600\n",
            "67/67 [==============================] - 1s 18ms/step - loss: 4.8444e-04 - mean_absolute_error: 0.0169\n",
            "Epoch 112/600\n",
            "67/67 [==============================] - 1s 18ms/step - loss: 4.9961e-04 - mean_absolute_error: 0.0167\n",
            "Epoch 113/600\n",
            "67/67 [==============================] - 1s 18ms/step - loss: 5.3724e-04 - mean_absolute_error: 0.0179\n",
            "Epoch 114/600\n",
            "67/67 [==============================] - 1s 18ms/step - loss: 5.3998e-04 - mean_absolute_error: 0.0182\n",
            "Epoch 115/600\n",
            "67/67 [==============================] - 1s 18ms/step - loss: 5.0845e-04 - mean_absolute_error: 0.0170\n",
            "Epoch 116/600\n",
            "67/67 [==============================] - 1s 18ms/step - loss: 5.2397e-04 - mean_absolute_error: 0.0173\n",
            "Epoch 117/600\n",
            "67/67 [==============================] - 1s 18ms/step - loss: 5.3994e-04 - mean_absolute_error: 0.0174\n",
            "Epoch 118/600\n",
            "67/67 [==============================] - 1s 19ms/step - loss: 5.4086e-04 - mean_absolute_error: 0.0177\n",
            "Epoch 119/600\n",
            "67/67 [==============================] - 1s 18ms/step - loss: 5.0276e-04 - mean_absolute_error: 0.0171\n",
            "Epoch 120/600\n",
            "67/67 [==============================] - 1s 18ms/step - loss: 5.1975e-04 - mean_absolute_error: 0.0175\n",
            "Epoch 121/600\n",
            "67/67 [==============================] - 1s 18ms/step - loss: 5.5127e-04 - mean_absolute_error: 0.0179\n",
            "Epoch 122/600\n",
            "67/67 [==============================] - 1s 19ms/step - loss: 5.2444e-04 - mean_absolute_error: 0.0174\n",
            "Epoch 123/600\n",
            "67/67 [==============================] - 1s 18ms/step - loss: 5.2447e-04 - mean_absolute_error: 0.0178\n",
            "Epoch 124/600\n",
            "67/67 [==============================] - 1s 18ms/step - loss: 5.8600e-04 - mean_absolute_error: 0.0182\n",
            "Epoch 125/600\n",
            "67/67 [==============================] - 1s 18ms/step - loss: 5.2331e-04 - mean_absolute_error: 0.0178\n",
            "Epoch 126/600\n",
            "67/67 [==============================] - 1s 18ms/step - loss: 4.8804e-04 - mean_absolute_error: 0.0169\n",
            "Epoch 127/600\n",
            "67/67 [==============================] - 1s 18ms/step - loss: 5.2793e-04 - mean_absolute_error: 0.0173\n",
            "Epoch 128/600\n",
            "67/67 [==============================] - 1s 18ms/step - loss: 5.4339e-04 - mean_absolute_error: 0.0179\n",
            "Epoch 129/600\n",
            "67/67 [==============================] - 1s 18ms/step - loss: 4.7297e-04 - mean_absolute_error: 0.0165\n",
            "Epoch 130/600\n",
            "67/67 [==============================] - 1s 18ms/step - loss: 4.6886e-04 - mean_absolute_error: 0.0167\n",
            "Epoch 131/600\n",
            "67/67 [==============================] - 1s 19ms/step - loss: 5.3363e-04 - mean_absolute_error: 0.0174\n",
            "Epoch 132/600\n",
            "67/67 [==============================] - 1s 19ms/step - loss: 4.7960e-04 - mean_absolute_error: 0.0166\n",
            "Epoch 133/600\n",
            "67/67 [==============================] - 1s 18ms/step - loss: 4.8792e-04 - mean_absolute_error: 0.0169\n",
            "Epoch 134/600\n",
            "67/67 [==============================] - 1s 18ms/step - loss: 4.4336e-04 - mean_absolute_error: 0.0160\n",
            "Epoch 135/600\n",
            "67/67 [==============================] - 1s 18ms/step - loss: 5.0681e-04 - mean_absolute_error: 0.0174\n",
            "Epoch 136/600\n",
            "67/67 [==============================] - 1s 18ms/step - loss: 5.0215e-04 - mean_absolute_error: 0.0171\n",
            "Epoch 137/600\n",
            "67/67 [==============================] - 1s 18ms/step - loss: 4.9974e-04 - mean_absolute_error: 0.0170\n",
            "Epoch 138/600\n",
            "67/67 [==============================] - 1s 19ms/step - loss: 4.5129e-04 - mean_absolute_error: 0.0164\n",
            "Epoch 139/600\n",
            "67/67 [==============================] - 1s 19ms/step - loss: 4.7721e-04 - mean_absolute_error: 0.0165\n",
            "Epoch 140/600\n",
            "67/67 [==============================] - 1s 18ms/step - loss: 4.8160e-04 - mean_absolute_error: 0.0169\n",
            "Epoch 141/600\n",
            "67/67 [==============================] - 1s 18ms/step - loss: 4.9448e-04 - mean_absolute_error: 0.0170\n",
            "Epoch 142/600\n",
            "67/67 [==============================] - 1s 18ms/step - loss: 5.2762e-04 - mean_absolute_error: 0.0176\n",
            "Epoch 143/600\n",
            "67/67 [==============================] - 1s 18ms/step - loss: 5.4664e-04 - mean_absolute_error: 0.0179\n",
            "Epoch 144/600\n",
            "67/67 [==============================] - 1s 19ms/step - loss: 5.1344e-04 - mean_absolute_error: 0.0171\n",
            "Epoch 145/600\n",
            "67/67 [==============================] - 1s 18ms/step - loss: 4.8993e-04 - mean_absolute_error: 0.0172\n",
            "Epoch 146/600\n",
            "67/67 [==============================] - 1s 19ms/step - loss: 4.5195e-04 - mean_absolute_error: 0.0162\n",
            "Epoch 147/600\n",
            "67/67 [==============================] - 1s 19ms/step - loss: 4.6942e-04 - mean_absolute_error: 0.0166\n",
            "Epoch 148/600\n",
            "67/67 [==============================] - 1s 19ms/step - loss: 4.7527e-04 - mean_absolute_error: 0.0165\n",
            "Epoch 149/600\n",
            "67/67 [==============================] - 1s 19ms/step - loss: 4.8244e-04 - mean_absolute_error: 0.0170\n",
            "Epoch 150/600\n",
            "67/67 [==============================] - 1s 19ms/step - loss: 5.5399e-04 - mean_absolute_error: 0.0179\n",
            "Epoch 151/600\n",
            "67/67 [==============================] - 1s 19ms/step - loss: 5.3988e-04 - mean_absolute_error: 0.0178\n",
            "Epoch 152/600\n",
            "67/67 [==============================] - 1s 19ms/step - loss: 5.4790e-04 - mean_absolute_error: 0.0180\n",
            "Epoch 153/600\n",
            "67/67 [==============================] - 1s 18ms/step - loss: 4.8859e-04 - mean_absolute_error: 0.0167\n",
            "Epoch 154/600\n",
            "67/67 [==============================] - 1s 19ms/step - loss: 4.8431e-04 - mean_absolute_error: 0.0169\n",
            "Epoch 00154: early stopping\n"
          ],
          "name": "stdout"
        },
        {
          "output_type": "execute_result",
          "data": {
            "text/plain": [
              "<tensorflow.python.keras.callbacks.History at 0x7fafdc328650>"
            ]
          },
          "metadata": {
            "tags": []
          },
          "execution_count": 23
        }
      ]
    },
    {
      "cell_type": "markdown",
      "metadata": {
        "id": "RtFahmEgGAzZ"
      },
      "source": [
        "#**5-Teste da rede**"
      ]
    },
    {
      "cell_type": "markdown",
      "metadata": {
        "id": "QSWSKW8nqeA0"
      },
      "source": [
        "##**5.1-Importando os dados para teste**"
      ]
    },
    {
      "cell_type": "code",
      "metadata": {
        "id": "4X6-ArtKUdpD"
      },
      "source": [
        "#criando a base de dados teste\n",
        "base_teste = pd.read_csv('PETR4-teste.csv')\n",
        "base_teste = base_teste.drop('Date', axis = 1)"
      ],
      "execution_count": 24,
      "outputs": []
    },
    {
      "cell_type": "code",
      "metadata": {
        "colab": {
          "base_uri": "https://localhost:8080/",
          "height": 297
        },
        "id": "dXOp2vDcpAvA",
        "outputId": "26d586b7-f790-485b-a9d0-0060de38039f"
      },
      "source": [
        "#valores estatísticos\n",
        "base_teste.describe()"
      ],
      "execution_count": 25,
      "outputs": [
        {
          "output_type": "execute_result",
          "data": {
            "text/html": [
              "<div>\n",
              "<style scoped>\n",
              "    .dataframe tbody tr th:only-of-type {\n",
              "        vertical-align: middle;\n",
              "    }\n",
              "\n",
              "    .dataframe tbody tr th {\n",
              "        vertical-align: top;\n",
              "    }\n",
              "\n",
              "    .dataframe thead th {\n",
              "        text-align: right;\n",
              "    }\n",
              "</style>\n",
              "<table border=\"1\" class=\"dataframe\">\n",
              "  <thead>\n",
              "    <tr style=\"text-align: right;\">\n",
              "      <th></th>\n",
              "      <th>Open</th>\n",
              "      <th>High</th>\n",
              "      <th>Low</th>\n",
              "      <th>Close</th>\n",
              "      <th>Adj Close</th>\n",
              "      <th>Volume</th>\n",
              "    </tr>\n",
              "  </thead>\n",
              "  <tbody>\n",
              "    <tr>\n",
              "      <th>count</th>\n",
              "      <td>247.000000</td>\n",
              "      <td>247.000000</td>\n",
              "      <td>247.000000</td>\n",
              "      <td>247.000000</td>\n",
              "      <td>247.000000</td>\n",
              "      <td>2.470000e+02</td>\n",
              "    </tr>\n",
              "    <tr>\n",
              "      <th>mean</th>\n",
              "      <td>27.264291</td>\n",
              "      <td>27.556883</td>\n",
              "      <td>26.938057</td>\n",
              "      <td>27.248988</td>\n",
              "      <td>26.557694</td>\n",
              "      <td>5.283958e+07</td>\n",
              "    </tr>\n",
              "    <tr>\n",
              "      <th>std</th>\n",
              "      <td>1.668801</td>\n",
              "      <td>1.658077</td>\n",
              "      <td>1.648094</td>\n",
              "      <td>1.655566</td>\n",
              "      <td>1.724097</td>\n",
              "      <td>2.451955e+07</td>\n",
              "    </tr>\n",
              "    <tr>\n",
              "      <th>min</th>\n",
              "      <td>22.549999</td>\n",
              "      <td>24.190001</td>\n",
              "      <td>22.280001</td>\n",
              "      <td>23.910000</td>\n",
              "      <td>23.284782</td>\n",
              "      <td>1.904990e+07</td>\n",
              "    </tr>\n",
              "    <tr>\n",
              "      <th>25%</th>\n",
              "      <td>26.155000</td>\n",
              "      <td>26.370001</td>\n",
              "      <td>25.814999</td>\n",
              "      <td>26.064999</td>\n",
              "      <td>25.310672</td>\n",
              "      <td>3.731705e+07</td>\n",
              "    </tr>\n",
              "    <tr>\n",
              "      <th>50%</th>\n",
              "      <td>27.150000</td>\n",
              "      <td>27.430000</td>\n",
              "      <td>26.870001</td>\n",
              "      <td>27.129999</td>\n",
              "      <td>26.422461</td>\n",
              "      <td>4.850220e+07</td>\n",
              "    </tr>\n",
              "    <tr>\n",
              "      <th>75%</th>\n",
              "      <td>28.205000</td>\n",
              "      <td>28.445000</td>\n",
              "      <td>27.870001</td>\n",
              "      <td>28.220001</td>\n",
              "      <td>27.386540</td>\n",
              "      <td>6.118210e+07</td>\n",
              "    </tr>\n",
              "    <tr>\n",
              "      <th>max</th>\n",
              "      <td>30.889999</td>\n",
              "      <td>31.230000</td>\n",
              "      <td>30.500000</td>\n",
              "      <td>30.969999</td>\n",
              "      <td>30.544973</td>\n",
              "      <td>2.273076e+08</td>\n",
              "    </tr>\n",
              "  </tbody>\n",
              "</table>\n",
              "</div>"
            ],
            "text/plain": [
              "             Open        High         Low       Close   Adj Close        Volume\n",
              "count  247.000000  247.000000  247.000000  247.000000  247.000000  2.470000e+02\n",
              "mean    27.264291   27.556883   26.938057   27.248988   26.557694  5.283958e+07\n",
              "std      1.668801    1.658077    1.648094    1.655566    1.724097  2.451955e+07\n",
              "min     22.549999   24.190001   22.280001   23.910000   23.284782  1.904990e+07\n",
              "25%     26.155000   26.370001   25.814999   26.064999   25.310672  3.731705e+07\n",
              "50%     27.150000   27.430000   26.870001   27.129999   26.422461  4.850220e+07\n",
              "75%     28.205000   28.445000   27.870001   28.220001   27.386540  6.118210e+07\n",
              "max     30.889999   31.230000   30.500000   30.969999   30.544973  2.273076e+08"
            ]
          },
          "metadata": {
            "tags": []
          },
          "execution_count": 25
        }
      ]
    },
    {
      "cell_type": "markdown",
      "metadata": {
        "id": "Cw-NIb9EpatP"
      },
      "source": [
        "##**5.2-Tratando os Valores Faltantes**"
      ]
    },
    {
      "cell_type": "code",
      "metadata": {
        "colab": {
          "base_uri": "https://localhost:8080/"
        },
        "id": "lthEX_TZniHb",
        "outputId": "8a8d1f63-f20c-4d6a-f79c-7ac6c741f03c"
      },
      "source": [
        "#valores faltantes\n",
        "base_teste.isna().sum()"
      ],
      "execution_count": 26,
      "outputs": [
        {
          "output_type": "execute_result",
          "data": {
            "text/plain": [
              "Open         1\n",
              "High         1\n",
              "Low          1\n",
              "Close        1\n",
              "Adj Close    1\n",
              "Volume       1\n",
              "dtype: int64"
            ]
          },
          "metadata": {
            "tags": []
          },
          "execution_count": 26
        }
      ]
    },
    {
      "cell_type": "code",
      "metadata": {
        "colab": {
          "base_uri": "https://localhost:8080/",
          "height": 80
        },
        "id": "uiH2j_UNpjqk",
        "outputId": "0f5ea322-e39a-4235-cb5a-c190ef872dbc"
      },
      "source": [
        "#encontrando onde os valores faltantes estão\n",
        "base_teste.loc[pd.isnull(base_teste['Open'])]\n",
        "base_teste.loc[pd.isnull(base_teste['High'])]\n",
        "base_teste.loc[pd.isnull(base_teste['Low'])]\n",
        "base_teste.loc[pd.isnull(base_teste['Close'])]\n",
        "base_teste.loc[pd.isnull(base_teste['Adj Close'])]\n",
        "base_teste.loc[pd.isnull(base_teste['Volume'])]"
      ],
      "execution_count": 27,
      "outputs": [
        {
          "output_type": "execute_result",
          "data": {
            "text/html": [
              "<div>\n",
              "<style scoped>\n",
              "    .dataframe tbody tr th:only-of-type {\n",
              "        vertical-align: middle;\n",
              "    }\n",
              "\n",
              "    .dataframe tbody tr th {\n",
              "        vertical-align: top;\n",
              "    }\n",
              "\n",
              "    .dataframe thead th {\n",
              "        text-align: right;\n",
              "    }\n",
              "</style>\n",
              "<table border=\"1\" class=\"dataframe\">\n",
              "  <thead>\n",
              "    <tr style=\"text-align: right;\">\n",
              "      <th></th>\n",
              "      <th>Open</th>\n",
              "      <th>High</th>\n",
              "      <th>Low</th>\n",
              "      <th>Close</th>\n",
              "      <th>Adj Close</th>\n",
              "      <th>Volume</th>\n",
              "    </tr>\n",
              "  </thead>\n",
              "  <tbody>\n",
              "    <tr>\n",
              "      <th>42</th>\n",
              "      <td>NaN</td>\n",
              "      <td>NaN</td>\n",
              "      <td>NaN</td>\n",
              "      <td>NaN</td>\n",
              "      <td>NaN</td>\n",
              "      <td>NaN</td>\n",
              "    </tr>\n",
              "  </tbody>\n",
              "</table>\n",
              "</div>"
            ],
            "text/plain": [
              "    Open  High  Low  Close  Adj Close  Volume\n",
              "42   NaN   NaN  NaN    NaN        NaN     NaN"
            ]
          },
          "metadata": {
            "tags": []
          },
          "execution_count": 27
        }
      ]
    },
    {
      "cell_type": "code",
      "metadata": {
        "id": "Bbw7axJ75lpn"
      },
      "source": [
        "#preenchendo os valores faltantes com o valor médio\n",
        "imputer = SimpleImputer(missing_values=np.nan, strategy='mean',verbose=0)\n",
        "imputer = imputer.fit(base_teste.iloc[:,0:6])\n",
        "base_teste.iloc[:,0:6] = imputer.transform(base_teste.iloc[:,0:6])"
      ],
      "execution_count": 28,
      "outputs": []
    },
    {
      "cell_type": "code",
      "metadata": {
        "colab": {
          "base_uri": "https://localhost:8080/",
          "height": 49
        },
        "id": "CXAi4QV8pw2x",
        "outputId": "6eb01b31-bc11-47ef-d5ce-94c8df300295"
      },
      "source": [
        "#verificando novamente se ainda temos valores faltantes\n",
        "base_teste.loc[pd.isnull(base_teste['Open'])]\n",
        "base_teste.loc[pd.isnull(base_teste['High'])]\n",
        "base_teste.loc[pd.isnull(base_teste['Low'])]\n",
        "base_teste.loc[pd.isnull(base_teste['Close'])]\n",
        "base_teste.loc[pd.isnull(base_teste['Adj Close'])]\n",
        "base_teste.loc[pd.isnull(base_teste['Volume'])]"
      ],
      "execution_count": 29,
      "outputs": [
        {
          "output_type": "execute_result",
          "data": {
            "text/html": [
              "<div>\n",
              "<style scoped>\n",
              "    .dataframe tbody tr th:only-of-type {\n",
              "        vertical-align: middle;\n",
              "    }\n",
              "\n",
              "    .dataframe tbody tr th {\n",
              "        vertical-align: top;\n",
              "    }\n",
              "\n",
              "    .dataframe thead th {\n",
              "        text-align: right;\n",
              "    }\n",
              "</style>\n",
              "<table border=\"1\" class=\"dataframe\">\n",
              "  <thead>\n",
              "    <tr style=\"text-align: right;\">\n",
              "      <th></th>\n",
              "      <th>Open</th>\n",
              "      <th>High</th>\n",
              "      <th>Low</th>\n",
              "      <th>Close</th>\n",
              "      <th>Adj Close</th>\n",
              "      <th>Volume</th>\n",
              "    </tr>\n",
              "  </thead>\n",
              "  <tbody>\n",
              "  </tbody>\n",
              "</table>\n",
              "</div>"
            ],
            "text/plain": [
              "Empty DataFrame\n",
              "Columns: [Open, High, Low, Close, Adj Close, Volume]\n",
              "Index: []"
            ]
          },
          "metadata": {
            "tags": []
          },
          "execution_count": 29
        }
      ]
    },
    {
      "cell_type": "markdown",
      "metadata": {
        "id": "X1nZpS8Rp2zr"
      },
      "source": [
        "#**5.3-Tratamento dos valores nulos (iguais a 0)**"
      ]
    },
    {
      "cell_type": "code",
      "metadata": {
        "colab": {
          "base_uri": "https://localhost:8080/"
        },
        "id": "XYwer-dip-KB",
        "outputId": "bd0513f6-f993-4211-adfd-350ac5854369"
      },
      "source": [
        "#valores nulos\n",
        "(base_teste == 0).sum()"
      ],
      "execution_count": 30,
      "outputs": [
        {
          "output_type": "execute_result",
          "data": {
            "text/plain": [
              "Open         0\n",
              "High         0\n",
              "Low          0\n",
              "Close        0\n",
              "Adj Close    0\n",
              "Volume       0\n",
              "dtype: int64"
            ]
          },
          "metadata": {
            "tags": []
          },
          "execution_count": 30
        }
      ]
    },
    {
      "cell_type": "code",
      "metadata": {
        "colab": {
          "base_uri": "https://localhost:8080/",
          "height": 49
        },
        "id": "sFBo6iR5qEpS",
        "outputId": "056b3f04-94a0-4bf5-aca8-38bdaf7ef84e"
      },
      "source": [
        "#Encontrando os valores nulos\n",
        "base_teste.loc[base_teste['Volume'] == 0]"
      ],
      "execution_count": null,
      "outputs": [
        {
          "output_type": "execute_result",
          "data": {
            "text/html": [
              "<div>\n",
              "<style scoped>\n",
              "    .dataframe tbody tr th:only-of-type {\n",
              "        vertical-align: middle;\n",
              "    }\n",
              "\n",
              "    .dataframe tbody tr th {\n",
              "        vertical-align: top;\n",
              "    }\n",
              "\n",
              "    .dataframe thead th {\n",
              "        text-align: right;\n",
              "    }\n",
              "</style>\n",
              "<table border=\"1\" class=\"dataframe\">\n",
              "  <thead>\n",
              "    <tr style=\"text-align: right;\">\n",
              "      <th></th>\n",
              "      <th>Open</th>\n",
              "      <th>High</th>\n",
              "      <th>Low</th>\n",
              "      <th>Close</th>\n",
              "      <th>Adj Close</th>\n",
              "      <th>Volume</th>\n",
              "    </tr>\n",
              "  </thead>\n",
              "  <tbody>\n",
              "  </tbody>\n",
              "</table>\n",
              "</div>"
            ],
            "text/plain": [
              "Empty DataFrame\n",
              "Columns: [Open, High, Low, Close, Adj Close, Volume]\n",
              "Index: []"
            ]
          },
          "metadata": {
            "tags": []
          },
          "execution_count": 61
        }
      ]
    },
    {
      "cell_type": "code",
      "metadata": {
        "id": "ofkU-XjcqOQE"
      },
      "source": [
        "#preenchendo os valores nulos com o valor médio\n",
        "imputer = SimpleImputer(missing_values=0, strategy='mean',verbose=0)\n",
        "imputer = imputer.fit(base_teste.iloc[:,0:6])\n",
        "base_teste.iloc[:,0:6] = imputer.transform(base_teste.iloc[:,0:6])"
      ],
      "execution_count": null,
      "outputs": []
    },
    {
      "cell_type": "code",
      "metadata": {
        "colab": {
          "base_uri": "https://localhost:8080/",
          "height": 49
        },
        "id": "pYUeIwbnppRT",
        "outputId": "e499e4a6-4eee-4551-e5d4-7ea7aa74e6d1"
      },
      "source": [
        "#Verificando novamente se tem valores nulos\n",
        "base_teste.loc[base_teste['Volume'] == 0]"
      ],
      "execution_count": null,
      "outputs": [
        {
          "output_type": "execute_result",
          "data": {
            "text/html": [
              "<div>\n",
              "<style scoped>\n",
              "    .dataframe tbody tr th:only-of-type {\n",
              "        vertical-align: middle;\n",
              "    }\n",
              "\n",
              "    .dataframe tbody tr th {\n",
              "        vertical-align: top;\n",
              "    }\n",
              "\n",
              "    .dataframe thead th {\n",
              "        text-align: right;\n",
              "    }\n",
              "</style>\n",
              "<table border=\"1\" class=\"dataframe\">\n",
              "  <thead>\n",
              "    <tr style=\"text-align: right;\">\n",
              "      <th></th>\n",
              "      <th>Open</th>\n",
              "      <th>High</th>\n",
              "      <th>Low</th>\n",
              "      <th>Close</th>\n",
              "      <th>Adj Close</th>\n",
              "      <th>Volume</th>\n",
              "    </tr>\n",
              "  </thead>\n",
              "  <tbody>\n",
              "  </tbody>\n",
              "</table>\n",
              "</div>"
            ],
            "text/plain": [
              "Empty DataFrame\n",
              "Columns: [Open, High, Low, Close, Adj Close, Volume]\n",
              "Index: []"
            ]
          },
          "metadata": {
            "tags": []
          },
          "execution_count": 30
        }
      ]
    },
    {
      "cell_type": "markdown",
      "metadata": {
        "id": "N79Bjk6Yq6ci"
      },
      "source": [
        "##**5.4-Preparando a estrutura para teste**"
      ]
    },
    {
      "cell_type": "code",
      "metadata": {
        "id": "UFINH9OzUfDk"
      },
      "source": [
        "#concatenando a base de dados teste com o base de treinamento\n",
        "preco_real_teste = base_teste.iloc[:, 3:4].values\n",
        "frames = [base, base_teste]\n",
        "base_completa = pd.concat(frames)"
      ],
      "execution_count": 31,
      "outputs": []
    },
    {
      "cell_type": "code",
      "metadata": {
        "id": "-CdLW8IZUhLY"
      },
      "source": [
        "#pegando os 90 registros anteriores para percorrer a base teste e colocando no\n",
        "#no formato np.array\n",
        "entradas = base_completa[len(base_completa) - len(base_teste) - 90:].values\n",
        "entradas = normalizador.transform(entradas)\n",
        "Percorrer_teste = []\n",
        "for i in range(90, 338): \n",
        "    Percorrer_teste.append(entradas[i-90:i, 0:6])\n",
        "Percorrer_teste = np.array(Percorrer_teste)"
      ],
      "execution_count": 33,
      "outputs": []
    },
    {
      "cell_type": "code",
      "metadata": {
        "id": "_YdD2ZcaUi1w"
      },
      "source": [
        "#resultado da predição no formato MinMaxScaler\n",
        "previsoes = regressor.predict(Percorrer_teste)"
      ],
      "execution_count": 34,
      "outputs": []
    },
    {
      "cell_type": "code",
      "metadata": {
        "colab": {
          "base_uri": "https://localhost:8080/"
        },
        "id": "jQS0Ql4tUk2Z",
        "outputId": "62033f52-d439-46c0-8c06-d3048bfce514"
      },
      "source": [
        "#convertendo para a escala MinMaxScaler \n",
        "normalizador_previsao = MinMaxScaler(feature_range=(0,1))\n",
        "normalizador_previsao.fit_transform(base_treinamento[:,3:4])"
      ],
      "execution_count": 35,
      "outputs": [
        {
          "output_type": "execute_result",
          "data": {
            "text/plain": [
              "array([[0.99459459],\n",
              "       [0.98498498],\n",
              "       [1.        ],\n",
              "       ...,\n",
              "       [0.52492492],\n",
              "       [0.52462462],\n",
              "       [0.55495495]])"
            ]
          },
          "metadata": {
            "tags": []
          },
          "execution_count": 35
        }
      ]
    },
    {
      "cell_type": "code",
      "metadata": {
        "id": "MP_GBjYJUnFe",
        "colab": {
          "base_uri": "https://localhost:8080/"
        },
        "outputId": "77dbc1c2-6e9d-43da-977c-db7fe7247f96"
      },
      "source": [
        "#colocando a previsão no formato original para preparar a visualização no gráfico\n",
        "previsoes = normalizador_previsao.inverse_transform(previsoes)\n",
        "previsoes"
      ],
      "execution_count": 36,
      "outputs": [
        {
          "output_type": "execute_result",
          "data": {
            "text/plain": [
              "array([[22.408802],\n",
              "       [23.5237  ],\n",
              "       [24.29591 ],\n",
              "       [24.71219 ],\n",
              "       [25.238012],\n",
              "       [24.968138],\n",
              "       [25.351011],\n",
              "       [24.991621],\n",
              "       [24.735706],\n",
              "       [24.548525],\n",
              "       [24.53256 ],\n",
              "       [24.500435],\n",
              "       [24.831928],\n",
              "       [25.196428],\n",
              "       [25.287666],\n",
              "       [25.182291],\n",
              "       [25.346136],\n",
              "       [25.428425],\n",
              "       [24.95529 ],\n",
              "       [25.311914],\n",
              "       [25.59384 ],\n",
              "       [25.622953],\n",
              "       [25.726225],\n",
              "       [25.930174],\n",
              "       [25.953455],\n",
              "       [25.612955],\n",
              "       [25.236559],\n",
              "       [25.107107],\n",
              "       [24.866983],\n",
              "       [25.551863],\n",
              "       [25.90824 ],\n",
              "       [26.588762],\n",
              "       [26.757153],\n",
              "       [26.71943 ],\n",
              "       [27.137577],\n",
              "       [26.988348],\n",
              "       [27.169691],\n",
              "       [27.112186],\n",
              "       [26.759956],\n",
              "       [26.648462],\n",
              "       [26.893524],\n",
              "       [27.046518],\n",
              "       [26.786644],\n",
              "       [27.261122],\n",
              "       [26.727402],\n",
              "       [26.676128],\n",
              "       [27.341179],\n",
              "       [27.356134],\n",
              "       [27.799158],\n",
              "       [27.95845 ],\n",
              "       [28.097486],\n",
              "       [28.38935 ],\n",
              "       [28.660881],\n",
              "       [28.739756],\n",
              "       [28.443487],\n",
              "       [27.44236 ],\n",
              "       [27.246983],\n",
              "       [27.871634],\n",
              "       [27.256962],\n",
              "       [27.616621],\n",
              "       [27.775639],\n",
              "       [27.835913],\n",
              "       [28.027908],\n",
              "       [27.758873],\n",
              "       [28.083826],\n",
              "       [28.376154],\n",
              "       [28.754156],\n",
              "       [28.812458],\n",
              "       [28.816671],\n",
              "       [28.265509],\n",
              "       [26.70997 ],\n",
              "       [26.035849],\n",
              "       [26.540825],\n",
              "       [26.579748],\n",
              "       [27.28929 ],\n",
              "       [27.313444],\n",
              "       [27.623953],\n",
              "       [27.549112],\n",
              "       [27.671173],\n",
              "       [27.38705 ],\n",
              "       [27.419214],\n",
              "       [27.283232],\n",
              "       [26.865995],\n",
              "       [26.98941 ],\n",
              "       [26.796913],\n",
              "       [26.599861],\n",
              "       [27.158506],\n",
              "       [26.941618],\n",
              "       [26.91981 ],\n",
              "       [26.362589],\n",
              "       [26.259375],\n",
              "       [26.080622],\n",
              "       [25.678942],\n",
              "       [25.175598],\n",
              "       [25.525217],\n",
              "       [26.247356],\n",
              "       [26.332739],\n",
              "       [26.106909],\n",
              "       [26.303808],\n",
              "       [26.392689],\n",
              "       [26.691553],\n",
              "       [26.554407],\n",
              "       [26.470467],\n",
              "       [25.887413],\n",
              "       [26.11516 ],\n",
              "       [26.205849],\n",
              "       [26.012735],\n",
              "       [26.312199],\n",
              "       [26.629158],\n",
              "       [26.668566],\n",
              "       [27.03005 ],\n",
              "       [26.85922 ],\n",
              "       [27.148502],\n",
              "       [27.050468],\n",
              "       [27.119408],\n",
              "       [27.311209],\n",
              "       [27.37843 ],\n",
              "       [27.922344],\n",
              "       [27.991302],\n",
              "       [27.743645],\n",
              "       [27.712011],\n",
              "       [27.343338],\n",
              "       [27.358923],\n",
              "       [27.384941],\n",
              "       [27.009287],\n",
              "       [27.156267],\n",
              "       [27.366096],\n",
              "       [27.364288],\n",
              "       [27.608187],\n",
              "       [27.979214],\n",
              "       [28.219423],\n",
              "       [28.434244],\n",
              "       [28.320847],\n",
              "       [28.080528],\n",
              "       [27.847794],\n",
              "       [27.667637],\n",
              "       [27.503141],\n",
              "       [27.542156],\n",
              "       [27.55741 ],\n",
              "       [27.520445],\n",
              "       [27.270832],\n",
              "       [26.77631 ],\n",
              "       [26.62148 ],\n",
              "       [26.626926],\n",
              "       [26.463266],\n",
              "       [26.545666],\n",
              "       [26.753525],\n",
              "       [26.110552],\n",
              "       [26.251225],\n",
              "       [25.88864 ],\n",
              "       [26.34627 ],\n",
              "       [26.455336],\n",
              "       [25.981462],\n",
              "       [26.059505],\n",
              "       [25.352007],\n",
              "       [24.746927],\n",
              "       [24.470669],\n",
              "       [24.374157],\n",
              "       [24.227531],\n",
              "       [25.285452],\n",
              "       [25.2882  ],\n",
              "       [24.805834],\n",
              "       [24.38753 ],\n",
              "       [24.540453],\n",
              "       [24.529907],\n",
              "       [25.294601],\n",
              "       [25.432713],\n",
              "       [25.387577],\n",
              "       [25.606125],\n",
              "       [26.1192  ],\n",
              "       [26.37759 ],\n",
              "       [26.522495],\n",
              "       [26.825228],\n",
              "       [26.991316],\n",
              "       [26.94097 ],\n",
              "       [26.964231],\n",
              "       [26.874054],\n",
              "       [27.751442],\n",
              "       [27.309736],\n",
              "       [27.337015],\n",
              "       [27.310848],\n",
              "       [27.00452 ],\n",
              "       [27.184032],\n",
              "       [27.156965],\n",
              "       [27.127552],\n",
              "       [27.458284],\n",
              "       [27.540487],\n",
              "       [27.539505],\n",
              "       [27.59003 ],\n",
              "       [27.062016],\n",
              "       [26.911125],\n",
              "       [26.764656],\n",
              "       [26.4352  ],\n",
              "       [26.347084],\n",
              "       [26.618202],\n",
              "       [26.82334 ],\n",
              "       [27.251654],\n",
              "       [27.333801],\n",
              "       [27.647459],\n",
              "       [27.835655],\n",
              "       [27.81497 ],\n",
              "       [27.824688],\n",
              "       [27.845837],\n",
              "       [28.235884],\n",
              "       [28.522877],\n",
              "       [28.456095],\n",
              "       [28.897131],\n",
              "       [29.031992],\n",
              "       [29.227837],\n",
              "       [29.384779],\n",
              "       [29.541082],\n",
              "       [29.715275],\n",
              "       [29.739017],\n",
              "       [29.480822],\n",
              "       [29.302732],\n",
              "       [29.593426],\n",
              "       [29.394455],\n",
              "       [29.465246],\n",
              "       [29.413456],\n",
              "       [29.274754],\n",
              "       [29.073988],\n",
              "       [28.940168],\n",
              "       [28.712929],\n",
              "       [29.11183 ],\n",
              "       [29.309628],\n",
              "       [29.392859],\n",
              "       [29.230236],\n",
              "       [29.18576 ],\n",
              "       [29.208702],\n",
              "       [29.048862],\n",
              "       [29.042067],\n",
              "       [28.92366 ],\n",
              "       [29.202898],\n",
              "       [29.46867 ],\n",
              "       [29.729069],\n",
              "       [29.799023],\n",
              "       [29.85359 ],\n",
              "       [29.894453],\n",
              "       [30.06458 ],\n",
              "       [29.8343  ],\n",
              "       [29.430527],\n",
              "       [29.429504],\n",
              "       [29.602757],\n",
              "       [29.723581],\n",
              "       [29.761854],\n",
              "       [29.734118],\n",
              "       [29.960667],\n",
              "       [29.90601 ]], dtype=float32)"
            ]
          },
          "metadata": {
            "tags": []
          },
          "execution_count": 36
        }
      ]
    },
    {
      "cell_type": "markdown",
      "metadata": {
        "id": "lEjN0sRdrGmK"
      },
      "source": [
        "##**6-Análise dos resuldatos**"
      ]
    },
    {
      "cell_type": "code",
      "metadata": {
        "id": "beWuUgy2Uoe_",
        "colab": {
          "base_uri": "https://localhost:8080/",
          "height": 485
        },
        "outputId": "a8439fb5-4359-44a1-d50d-59f34b876491"
      },
      "source": [
        "#Visualizando o gráfico da Previsão da rede\n",
        "plt.plot(preco_real_teste, color = 'red', label = 'Preço real')\n",
        "plt.plot(previsoes, color = 'blue', label = 'Previsões')\n",
        "plt.title('Previsão do preço das ações')\n",
        "plt.xlabel('Tempo em dias')\n",
        "plt.ylabel('Preço das ações')\n",
        "plt.legend()\n",
        "plt.show()"
      ],
      "execution_count": 37,
      "outputs": [
        {
          "output_type": "display_data",
          "data": {
            "image/png": "[encoded data removed]",
            "text/plain": [
              "<Figure size 1800x864 with 1 Axes>"
            ]
          },
          "metadata": {
            "tags": []
          }
        }
      ]
    },
    {
      "cell_type": "code",
      "metadata": {
        "id": "hKA0-lbgUtH-",
        "colab": {
          "base_uri": "https://localhost:8080/",
          "height": 297
        },
        "outputId": "758e2213-d66c-4fe7-842a-6b93597f0ea0"
      },
      "source": [
        "#estatísticas do preço real comparado com a previsão\n",
        "df1 = pd.DataFrame(preco_real_teste).T\n",
        "df2 = pd.DataFrame(previsoes).T\n",
        "\n",
        "df3 = pd.concat([df1,df2]).T\n",
        "df3.columns = ['Preco real', 'Previsoes']\n",
        "df3.describe()"
      ],
      "execution_count": 38,
      "outputs": [
        {
          "output_type": "execute_result",
          "data": {
            "text/html": [
              "<div>\n",
              "<style scoped>\n",
              "    .dataframe tbody tr th:only-of-type {\n",
              "        vertical-align: middle;\n",
              "    }\n",
              "\n",
              "    .dataframe tbody tr th {\n",
              "        vertical-align: top;\n",
              "    }\n",
              "\n",
              "    .dataframe thead th {\n",
              "        text-align: right;\n",
              "    }\n",
              "</style>\n",
              "<table border=\"1\" class=\"dataframe\">\n",
              "  <thead>\n",
              "    <tr style=\"text-align: right;\">\n",
              "      <th></th>\n",
              "      <th>Preco real</th>\n",
              "      <th>Previsoes</th>\n",
              "    </tr>\n",
              "  </thead>\n",
              "  <tbody>\n",
              "    <tr>\n",
              "      <th>count</th>\n",
              "      <td>248.000000</td>\n",
              "      <td>248.000000</td>\n",
              "    </tr>\n",
              "    <tr>\n",
              "      <th>mean</th>\n",
              "      <td>27.248988</td>\n",
              "      <td>27.138111</td>\n",
              "    </tr>\n",
              "    <tr>\n",
              "      <th>std</th>\n",
              "      <td>1.652212</td>\n",
              "      <td>1.473379</td>\n",
              "    </tr>\n",
              "    <tr>\n",
              "      <th>min</th>\n",
              "      <td>23.910000</td>\n",
              "      <td>22.408802</td>\n",
              "    </tr>\n",
              "    <tr>\n",
              "      <th>25%</th>\n",
              "      <td>26.072500</td>\n",
              "      <td>26.250257</td>\n",
              "    </tr>\n",
              "    <tr>\n",
              "      <th>50%</th>\n",
              "      <td>27.144999</td>\n",
              "      <td>27.132565</td>\n",
              "    </tr>\n",
              "    <tr>\n",
              "      <th>75%</th>\n",
              "      <td>28.205001</td>\n",
              "      <td>27.982236</td>\n",
              "    </tr>\n",
              "    <tr>\n",
              "      <th>max</th>\n",
              "      <td>30.969999</td>\n",
              "      <td>30.064581</td>\n",
              "    </tr>\n",
              "  </tbody>\n",
              "</table>\n",
              "</div>"
            ],
            "text/plain": [
              "       Preco real   Previsoes\n",
              "count  248.000000  248.000000\n",
              "mean    27.248988   27.138111\n",
              "std      1.652212    1.473379\n",
              "min     23.910000   22.408802\n",
              "25%     26.072500   26.250257\n",
              "50%     27.144999   27.132565\n",
              "75%     28.205001   27.982236\n",
              "max     30.969999   30.064581"
            ]
          },
          "metadata": {
            "tags": []
          },
          "execution_count": 38
        }
      ]
    },
    {
      "cell_type": "code",
      "metadata": {
        "id": "ZjIrFF8Y_M9N"
      },
      "source": [
        "#df2 = pd.DataFrame(previsoes)\n",
        "#df2.describe()"
      ],
      "execution_count": null,
      "outputs": []
    },
    {
      "cell_type": "code",
      "metadata": {
        "id": "TKfgSJAIV5a_"
      },
      "source": [
        "#df1 = pd.DataFrame(preco_real_teste)\n",
        "#df1.describe()"
      ],
      "execution_count": null,
      "outputs": []
    }
  ]
}