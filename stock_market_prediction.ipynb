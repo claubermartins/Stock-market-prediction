{
  "nbformat": 4,
  "nbformat_minor": 0,
  "metadata": {
    "colab": {
      "name": "stock-market-prediction.ipynb",
      "provenance": [],
      "collapsed_sections": [
        "UiXZAchqFuC-",
        "SuPg1RFvQyMS",
        "8MLClRMWPwTL",
        "hCiQYMqPGHuG",
        "4IDwP-XV_Ohd",
        "RtFahmEgGAzZ"
      ],
      "authorship_tag": "ABX9TyN3rN3GNFDaFDb66LBV7J/M",
      "include_colab_link": true
    },
    "kernelspec": {
      "name": "python3",
      "display_name": "Python 3"
    },
    "accelerator": "GPU"
  },
  "cells": [
    {
      "cell_type": "markdown",
      "metadata": {
        "id": "view-in-github",
        "colab_type": "text"
      },
      "source": [
        "<a href=\"https://colab.research.google.com/github/claubermartins/Stock-market-prediction/blob/main/stock_market_prediction.ipynb\" target=\"_parent\"><img src=\"https://colab.research.google.com/assets/colab-badge.svg\" alt=\"Open In Colab\"/></a>"
      ]
    },
    {
      "cell_type": "code",
      "metadata": {
        "colab": {
          "base_uri": "https://localhost:8080/"
        },
        "id": "XjlKRgiDRdpq",
        "outputId": "a8b07b9c-7619-4d67-b1d8-355abc0e7f21"
      },
      "source": [
        "pip install inflection"
      ],
      "execution_count": 57,
      "outputs": [
        {
          "output_type": "stream",
          "text": [
            "Requirement already satisfied: inflection in /usr/local/lib/python3.7/dist-packages (0.5.1)\n"
          ],
          "name": "stdout"
        }
      ]
    },
    {
      "cell_type": "markdown",
      "metadata": {
        "id": "UiXZAchqFuC-"
      },
      "source": [
        "#**1-Importando bibliotecas**"
      ]
    },
    {
      "cell_type": "code",
      "metadata": {
        "id": "ZjQg-8c_--wP"
      },
      "source": [
        "from tensorflow.keras.models import Sequential \n",
        "from tensorflow.keras.layers import Dense, Dropout, LSTM\n",
        "from tensorflow.keras.callbacks import EarlyStopping \n",
        "from sklearn.preprocessing import MinMaxScaler\n",
        "from sklearn.impute import SimpleImputer\n",
        "import numpy as np\n",
        "import pandas as pd\n",
        "import matplotlib.pyplot as plt\n",
        "import tensorflow as tf\n",
        "import math\n",
        "import seaborn as sns\n",
        "import datetime\n",
        "import inflection\n",
        "from IPython.core.display import HTML"
      ],
      "execution_count": 135,
      "outputs": []
    },
    {
      "cell_type": "markdown",
      "metadata": {
        "id": "SuPg1RFvQyMS"
      },
      "source": [
        "#**2-Funções auxiliares para o Jupyter Notebook**"
      ]
    },
    {
      "cell_type": "code",
      "metadata": {
        "id": "2vKvPdvDPJHc"
      },
      "source": [
        "def jupyter_settings():\n",
        "    %matplotlib inline\n",
        "    %pylab inline\n",
        "    \n",
        "    plt.style.use( 'bmh' )\n",
        "    plt.rcParams['figure.figsize'] = [25, 12]\n",
        "    plt.rcParams['font.size'] = 24\n",
        "    \n",
        "    display( HTML( '<style>.container { width:100% !important; }</style>') )\n",
        "    pd.options.display.max_columns = None\n",
        "    pd.options.display.max_rows = None\n",
        "    pd.set_option( 'display.expand_frame_repr', False )\n",
        "    \n",
        "    sns.set()"
      ],
      "execution_count": 136,
      "outputs": []
    },
    {
      "cell_type": "code",
      "metadata": {
        "colab": {
          "base_uri": "https://localhost:8080/",
          "height": 34
        },
        "id": "PGJn-AaoMxuy",
        "outputId": "043f579b-b968-4b87-898d-7046cdca7114"
      },
      "source": [
        "jupyter_settings()"
      ],
      "execution_count": 137,
      "outputs": [
        {
          "output_type": "stream",
          "text": [
            "Populating the interactive namespace from numpy and matplotlib\n"
          ],
          "name": "stdout"
        },
        {
          "output_type": "display_data",
          "data": {
            "text/html": [
              "<style>.container { width:100% !important; }</style>"
            ],
            "text/plain": [
              "<IPython.core.display.HTML object>"
            ]
          },
          "metadata": {
            "tags": []
          }
        }
      ]
    },
    {
      "cell_type": "markdown",
      "metadata": {
        "id": "c_3core8Shq6"
      },
      "source": [
        "#**2.1Método de importação de arquivos do Google Colab**"
      ]
    },
    {
      "cell_type": "code",
      "metadata": {
        "id": "cTk_YEVdyms3",
        "colab": {
          "resources": {
            "http://localhost:8080/nbextensions/google.colab/files.js": {
              "data": "Ly8gQ29weXJpZ2h0IDIwMTcgR29vZ2xlIExMQwovLwovLyBMaWNlbnNlZCB1bmRlciB0aGUgQXBhY2hlIExpY2Vuc2UsIFZlcnNpb24gMi4wICh0aGUgIkxpY2Vuc2UiKTsKLy8geW91IG1heSBub3QgdXNlIHRoaXMgZmlsZSBleGNlcHQgaW4gY29tcGxpYW5jZSB3aXRoIHRoZSBMaWNlbnNlLgovLyBZb3UgbWF5IG9idGFpbiBhIGNvcHkgb2YgdGhlIExpY2Vuc2UgYXQKLy8KLy8gICAgICBodHRwOi8vd3d3LmFwYWNoZS5vcmcvbGljZW5zZXMvTElDRU5TRS0yLjAKLy8KLy8gVW5sZXNzIHJlcXVpcmVkIGJ5IGFwcGxpY2FibGUgbGF3IG9yIGFncmVlZCB0byBpbiB3cml0aW5nLCBzb2Z0d2FyZQovLyBkaXN0cmlidXRlZCB1bmRlciB0aGUgTGljZW5zZSBpcyBkaXN0cmlidXRlZCBvbiBhbiAiQVMgSVMiIEJBU0lTLAovLyBXSVRIT1VUIFdBUlJBTlRJRVMgT1IgQ09ORElUSU9OUyBPRiBBTlkgS0lORCwgZWl0aGVyIGV4cHJlc3Mgb3IgaW1wbGllZC4KLy8gU2VlIHRoZSBMaWNlbnNlIGZvciB0aGUgc3BlY2lmaWMgbGFuZ3VhZ2UgZ292ZXJuaW5nIHBlcm1pc3Npb25zIGFuZAovLyBsaW1pdGF0aW9ucyB1bmRlciB0aGUgTGljZW5zZS4KCi8qKgogKiBAZmlsZW92ZXJ2aWV3IEhlbHBlcnMgZm9yIGdvb2dsZS5jb2xhYiBQeXRob24gbW9kdWxlLgogKi8KKGZ1bmN0aW9uKHNjb3BlKSB7CmZ1bmN0aW9uIHNwYW4odGV4dCwgc3R5bGVBdHRyaWJ1dGVzID0ge30pIHsKICBjb25zdCBlbGVtZW50ID0gZG9jdW1lbnQuY3JlYXRlRWxlbWVudCgnc3BhbicpOwogIGVsZW1lbnQudGV4dENvbnRlbnQgPSB0ZXh0OwogIGZvciAoY29uc3Qga2V5IG9mIE9iamVjdC5rZXlzKHN0eWxlQXR0cmlidXRlcykpIHsKICAgIGVsZW1lbnQuc3R5bGVba2V5XSA9IHN0eWxlQXR0cmlidXRlc1trZXldOwogIH0KICByZXR1cm4gZWxlbWVudDsKfQoKLy8gTWF4IG51bWJlciBvZiBieXRlcyB3aGljaCB3aWxsIGJlIHVwbG9hZGVkIGF0IGEgdGltZS4KY29uc3QgTUFYX1BBWUxPQURfU0laRSA9IDEwMCAqIDEwMjQ7CgpmdW5jdGlvbiBfdXBsb2FkRmlsZXMoaW5wdXRJZCwgb3V0cHV0SWQpIHsKICBjb25zdCBzdGVwcyA9IHVwbG9hZEZpbGVzU3RlcChpbnB1dElkLCBvdXRwdXRJZCk7CiAgY29uc3Qgb3V0cHV0RWxlbWVudCA9IGRvY3VtZW50LmdldEVsZW1lbnRCeUlkKG91dHB1dElkKTsKICAvLyBDYWNoZSBzdGVwcyBvbiB0aGUgb3V0cHV0RWxlbWVudCB0byBtYWtlIGl0IGF2YWlsYWJsZSBmb3IgdGhlIG5leHQgY2FsbAogIC8vIHRvIHVwbG9hZEZpbGVzQ29udGludWUgZnJvbSBQeXRob24uCiAgb3V0cHV0RWxlbWVudC5zdGVwcyA9IHN0ZXBzOwoKICByZXR1cm4gX3VwbG9hZEZpbGVzQ29udGludWUob3V0cHV0SWQpOwp9CgovLyBUaGlzIGlzIHJvdWdobHkgYW4gYXN5bmMgZ2VuZXJhdG9yIChub3Qgc3VwcG9ydGVkIGluIHRoZSBicm93c2VyIHlldCksCi8vIHdoZXJlIHRoZXJlIGFyZSBtdWx0aXBsZSBhc3luY2hyb25vdXMgc3RlcHMgYW5kIHRoZSBQeXRob24gc2lkZSBpcyBnb2luZwovLyB0byBwb2xsIGZvciBjb21wbGV0aW9uIG9mIGVhY2ggc3RlcC4KLy8gVGhpcyB1c2VzIGEgUHJvbWlzZSB0byBibG9jayB0aGUgcHl0aG9uIHNpZGUgb24gY29tcGxldGlvbiBvZiBlYWNoIHN0ZXAsCi8vIHRoZW4gcGFzc2VzIHRoZSByZXN1bHQgb2YgdGhlIHByZXZpb3VzIHN0ZXAgYXMgdGhlIGlucHV0IHRvIHRoZSBuZXh0IHN0ZXAuCmZ1bmN0aW9uIF91cGxvYWRGaWxlc0NvbnRpbnVlKG91dHB1dElkKSB7CiAgY29uc3Qgb3V0cHV0RWxlbWVudCA9IGRvY3VtZW50LmdldEVsZW1lbnRCeUlkKG91dHB1dElkKTsKICBjb25zdCBzdGVwcyA9IG91dHB1dEVsZW1lbnQuc3RlcHM7CgogIGNvbnN0IG5leHQgPSBzdGVwcy5uZXh0KG91dHB1dEVsZW1lbnQubGFzdFByb21pc2VWYWx1ZSk7CiAgcmV0dXJuIFByb21pc2UucmVzb2x2ZShuZXh0LnZhbHVlLnByb21pc2UpLnRoZW4oKHZhbHVlKSA9PiB7CiAgICAvLyBDYWNoZSB0aGUgbGFzdCBwcm9taXNlIHZhbHVlIHRvIG1ha2UgaXQgYXZhaWxhYmxlIHRvIHRoZSBuZXh0CiAgICAvLyBzdGVwIG9mIHRoZSBnZW5lcmF0b3IuCiAgICBvdXRwdXRFbGVtZW50Lmxhc3RQcm9taXNlVmFsdWUgPSB2YWx1ZTsKICAgIHJldHVybiBuZXh0LnZhbHVlLnJlc3BvbnNlOwogIH0pOwp9CgovKioKICogR2VuZXJhdG9yIGZ1bmN0aW9uIHdoaWNoIGlzIGNhbGxlZCBiZXR3ZWVuIGVhY2ggYXN5bmMgc3RlcCBvZiB0aGUgdXBsb2FkCiAqIHByb2Nlc3MuCiAqIEBwYXJhbSB7c3RyaW5nfSBpbnB1dElkIEVsZW1lbnQgSUQgb2YgdGhlIGlucHV0IGZpbGUgcGlja2VyIGVsZW1lbnQuCiAqIEBwYXJhbSB7c3RyaW5nfSBvdXRwdXRJZCBFbGVtZW50IElEIG9mIHRoZSBvdXRwdXQgZGlzcGxheS4KICogQHJldHVybiB7IUl0ZXJhYmxlPCFPYmplY3Q+fSBJdGVyYWJsZSBvZiBuZXh0IHN0ZXBzLgogKi8KZnVuY3Rpb24qIHVwbG9hZEZpbGVzU3RlcChpbnB1dElkLCBvdXRwdXRJZCkgewogIGNvbnN0IGlucHV0RWxlbWVudCA9IGRvY3VtZW50LmdldEVsZW1lbnRCeUlkKGlucHV0SWQpOwogIGlucHV0RWxlbWVudC5kaXNhYmxlZCA9IGZhbHNlOwoKICBjb25zdCBvdXRwdXRFbGVtZW50ID0gZG9jdW1lbnQuZ2V0RWxlbWVudEJ5SWQob3V0cHV0SWQpOwogIG91dHB1dEVsZW1lbnQuaW5uZXJIVE1MID0gJyc7CgogIGNvbnN0IHBpY2tlZFByb21pc2UgPSBuZXcgUHJvbWlzZSgocmVzb2x2ZSkgPT4gewogICAgaW5wdXRFbGVtZW50LmFkZEV2ZW50TGlzdGVuZXIoJ2NoYW5nZScsIChlKSA9PiB7CiAgICAgIHJlc29sdmUoZS50YXJnZXQuZmlsZXMpOwogICAgfSk7CiAgfSk7CgogIGNvbnN0IGNhbmNlbCA9IGRvY3VtZW50LmNyZWF0ZUVsZW1lbnQoJ2J1dHRvbicpOwogIGlucHV0RWxlbWVudC5wYXJlbnRFbGVtZW50LmFwcGVuZENoaWxkKGNhbmNlbCk7CiAgY2FuY2VsLnRleHRDb250ZW50ID0gJ0NhbmNlbCB1cGxvYWQnOwogIGNvbnN0IGNhbmNlbFByb21pc2UgPSBuZXcgUHJvbWlzZSgocmVzb2x2ZSkgPT4gewogICAgY2FuY2VsLm9uY2xpY2sgPSAoKSA9PiB7CiAgICAgIHJlc29sdmUobnVsbCk7CiAgICB9OwogIH0pOwoKICAvLyBXYWl0IGZvciB0aGUgdXNlciB0byBwaWNrIHRoZSBmaWxlcy4KICBjb25zdCBmaWxlcyA9IHlpZWxkIHsKICAgIHByb21pc2U6IFByb21pc2UucmFjZShbcGlja2VkUHJvbWlzZSwgY2FuY2VsUHJvbWlzZV0pLAogICAgcmVzcG9uc2U6IHsKICAgICAgYWN0aW9uOiAnc3RhcnRpbmcnLAogICAgfQogIH07CgogIGNhbmNlbC5yZW1vdmUoKTsKCiAgLy8gRGlzYWJsZSB0aGUgaW5wdXQgZWxlbWVudCBzaW5jZSBmdXJ0aGVyIHBpY2tzIGFyZSBub3QgYWxsb3dlZC4KICBpbnB1dEVsZW1lbnQuZGlzYWJsZWQgPSB0cnVlOwoKICBpZiAoIWZpbGVzKSB7CiAgICByZXR1cm4gewogICAgICByZXNwb25zZTogewogICAgICAgIGFjdGlvbjogJ2NvbXBsZXRlJywKICAgICAgfQogICAgfTsKICB9CgogIGZvciAoY29uc3QgZmlsZSBvZiBmaWxlcykgewogICAgY29uc3QgbGkgPSBkb2N1bWVudC5jcmVhdGVFbGVtZW50KCdsaScpOwogICAgbGkuYXBwZW5kKHNwYW4oZmlsZS5uYW1lLCB7Zm9udFdlaWdodDogJ2JvbGQnfSkpOwogICAgbGkuYXBwZW5kKHNwYW4oCiAgICAgICAgYCgke2ZpbGUudHlwZSB8fCAnbi9hJ30pIC0gJHtmaWxlLnNpemV9IGJ5dGVzLCBgICsKICAgICAgICBgbGFzdCBtb2RpZmllZDogJHsKICAgICAgICAgICAgZmlsZS5sYXN0TW9kaWZpZWREYXRlID8gZmlsZS5sYXN0TW9kaWZpZWREYXRlLnRvTG9jYWxlRGF0ZVN0cmluZygpIDoKICAgICAgICAgICAgICAgICAgICAgICAgICAgICAgICAgICAgJ24vYSd9IC0gYCkpOwogICAgY29uc3QgcGVyY2VudCA9IHNwYW4oJzAlIGRvbmUnKTsKICAgIGxpLmFwcGVuZENoaWxkKHBlcmNlbnQpOwoKICAgIG91dHB1dEVsZW1lbnQuYXBwZW5kQ2hpbGQobGkpOwoKICAgIGNvbnN0IGZpbGVEYXRhUHJvbWlzZSA9IG5ldyBQcm9taXNlKChyZXNvbHZlKSA9PiB7CiAgICAgIGNvbnN0IHJlYWRlciA9IG5ldyBGaWxlUmVhZGVyKCk7CiAgICAgIHJlYWRlci5vbmxvYWQgPSAoZSkgPT4gewogICAgICAgIHJlc29sdmUoZS50YXJnZXQucmVzdWx0KTsKICAgICAgfTsKICAgICAgcmVhZGVyLnJlYWRBc0FycmF5QnVmZmVyKGZpbGUpOwogICAgfSk7CiAgICAvLyBXYWl0IGZvciB0aGUgZGF0YSB0byBiZSByZWFkeS4KICAgIGxldCBmaWxlRGF0YSA9IHlpZWxkIHsKICAgICAgcHJvbWlzZTogZmlsZURhdGFQcm9taXNlLAogICAgICByZXNwb25zZTogewogICAgICAgIGFjdGlvbjogJ2NvbnRpbnVlJywKICAgICAgfQogICAgfTsKCiAgICAvLyBVc2UgYSBjaHVua2VkIHNlbmRpbmcgdG8gYXZvaWQgbWVzc2FnZSBzaXplIGxpbWl0cy4gU2VlIGIvNjIxMTU2NjAuCiAgICBsZXQgcG9zaXRpb24gPSAwOwogICAgd2hpbGUgKHBvc2l0aW9uIDwgZmlsZURhdGEuYnl0ZUxlbmd0aCkgewogICAgICBjb25zdCBsZW5ndGggPSBNYXRoLm1pbihmaWxlRGF0YS5ieXRlTGVuZ3RoIC0gcG9zaXRpb24sIE1BWF9QQVlMT0FEX1NJWkUpOwogICAgICBjb25zdCBjaHVuayA9IG5ldyBVaW50OEFycmF5KGZpbGVEYXRhLCBwb3NpdGlvbiwgbGVuZ3RoKTsKICAgICAgcG9zaXRpb24gKz0gbGVuZ3RoOwoKICAgICAgY29uc3QgYmFzZTY0ID0gYnRvYShTdHJpbmcuZnJvbUNoYXJDb2RlLmFwcGx5KG51bGwsIGNodW5rKSk7CiAgICAgIHlpZWxkIHsKICAgICAgICByZXNwb25zZTogewogICAgICAgICAgYWN0aW9uOiAnYXBwZW5kJywKICAgICAgICAgIGZpbGU6IGZpbGUubmFtZSwKICAgICAgICAgIGRhdGE6IGJhc2U2NCwKICAgICAgICB9LAogICAgICB9OwogICAgICBwZXJjZW50LnRleHRDb250ZW50ID0KICAgICAgICAgIGAke01hdGgucm91bmQoKHBvc2l0aW9uIC8gZmlsZURhdGEuYnl0ZUxlbmd0aCkgKiAxMDApfSUgZG9uZWA7CiAgICB9CiAgfQoKICAvLyBBbGwgZG9uZS4KICB5aWVsZCB7CiAgICByZXNwb25zZTogewogICAgICBhY3Rpb246ICdjb21wbGV0ZScsCiAgICB9CiAgfTsKfQoKc2NvcGUuZ29vZ2xlID0gc2NvcGUuZ29vZ2xlIHx8IHt9OwpzY29wZS5nb29nbGUuY29sYWIgPSBzY29wZS5nb29nbGUuY29sYWIgfHwge307CnNjb3BlLmdvb2dsZS5jb2xhYi5fZmlsZXMgPSB7CiAgX3VwbG9hZEZpbGVzLAogIF91cGxvYWRGaWxlc0NvbnRpbnVlLAp9Owp9KShzZWxmKTsK",
              "ok": true,
              "headers": [
                [
                  "content-type",
                  "application/javascript"
                ]
              ],
              "status": 200,
              "status_text": ""
            }
          },
          "base_uri": "https://localhost:8080/",
          "height": 157
        },
        "outputId": "8886d4f2-9d27-4a71-e362-a33f54a5f9bb"
      },
      "source": [
        "from google.colab import files\n",
        "upload = files.upload()\n",
        "print(\"downloaded files: \")\n",
        "print(*upload, sep = \"\\n\")"
      ],
      "execution_count": 138,
      "outputs": [
        {
          "output_type": "display_data",
          "data": {
            "text/html": [
              "\n",
              "     <input type=\"file\" id=\"files-4cd3fa7c-d0e2-49f0-bb35-b0d0d2e14d99\" name=\"files[]\" multiple disabled\n",
              "        style=\"border:none\" />\n",
              "     <output id=\"result-4cd3fa7c-d0e2-49f0-bb35-b0d0d2e14d99\">\n",
              "      Upload widget is only available when the cell has been executed in the\n",
              "      current browser session. Please rerun this cell to enable.\n",
              "      </output>\n",
              "      <script src=\"/nbextensions/google.colab/files.js\"></script> "
            ],
            "text/plain": [
              "<IPython.core.display.HTML object>"
            ]
          },
          "metadata": {
            "tags": []
          }
        },
        {
          "output_type": "stream",
          "text": [
            "Saving PETR4-teste.csv to PETR4-teste.csv\n",
            "Saving PETR4-treinamento.csv to PETR4-treinamento.csv\n",
            "downloaded files: \n",
            "PETR4-teste.csv\n",
            "PETR4-treinamento.csv\n"
          ],
          "name": "stdout"
        }
      ]
    },
    {
      "cell_type": "markdown",
      "metadata": {
        "id": "8MLClRMWPwTL"
      },
      "source": [
        "#**3-Tratamento dos dados**"
      ]
    },
    {
      "cell_type": "markdown",
      "metadata": {
        "id": "DOJanakhS-s2"
      },
      "source": [
        "##**3.1-Importando os dados**"
      ]
    },
    {
      "cell_type": "code",
      "metadata": {
        "id": "vYFCwA5GTB2j"
      },
      "source": [
        "base = pd.read_csv('PETR4-treinamento.csv')\n",
        "base = base.drop('Date', axis = 1)"
      ],
      "execution_count": 139,
      "outputs": []
    },
    {
      "cell_type": "code",
      "metadata": {
        "colab": {
          "base_uri": "https://localhost:8080/",
          "height": 297
        },
        "id": "SD9oSvK-NE0Y",
        "outputId": "7ef6de44-f16b-4fa1-db33-54fac437a08c"
      },
      "source": [
        "#valores estatísticos\n",
        "base.describe()"
      ],
      "execution_count": 140,
      "outputs": [
        {
          "output_type": "execute_result",
          "data": {
            "text/html": [
              "<div>\n",
              "<style scoped>\n",
              "    .dataframe tbody tr th:only-of-type {\n",
              "        vertical-align: middle;\n",
              "    }\n",
              "\n",
              "    .dataframe tbody tr th {\n",
              "        vertical-align: top;\n",
              "    }\n",
              "\n",
              "    .dataframe thead th {\n",
              "        text-align: right;\n",
              "    }\n",
              "</style>\n",
              "<table border=\"1\" class=\"dataframe\">\n",
              "  <thead>\n",
              "    <tr style=\"text-align: right;\">\n",
              "      <th></th>\n",
              "      <th>Open</th>\n",
              "      <th>High</th>\n",
              "      <th>Low</th>\n",
              "      <th>Close</th>\n",
              "      <th>Adj Close</th>\n",
              "      <th>Volume</th>\n",
              "    </tr>\n",
              "  </thead>\n",
              "  <tbody>\n",
              "    <tr>\n",
              "      <th>count</th>\n",
              "      <td>2231.000000</td>\n",
              "      <td>2231.000000</td>\n",
              "      <td>2231.000000</td>\n",
              "      <td>2231.000000</td>\n",
              "      <td>2231.000000</td>\n",
              "      <td>2.231000e+03</td>\n",
              "    </tr>\n",
              "    <tr>\n",
              "      <th>mean</th>\n",
              "      <td>18.454940</td>\n",
              "      <td>18.715959</td>\n",
              "      <td>18.171054</td>\n",
              "      <td>18.424593</td>\n",
              "      <td>16.004749</td>\n",
              "      <td>3.986028e+07</td>\n",
              "    </tr>\n",
              "    <tr>\n",
              "      <th>std</th>\n",
              "      <td>6.621185</td>\n",
              "      <td>6.656502</td>\n",
              "      <td>6.574314</td>\n",
              "      <td>6.609528</td>\n",
              "      <td>5.024887</td>\n",
              "      <td>3.092003e+07</td>\n",
              "    </tr>\n",
              "    <tr>\n",
              "      <th>min</th>\n",
              "      <td>4.200000</td>\n",
              "      <td>4.270000</td>\n",
              "      <td>4.120000</td>\n",
              "      <td>4.200000</td>\n",
              "      <td>3.896351</td>\n",
              "      <td>0.000000e+00</td>\n",
              "    </tr>\n",
              "    <tr>\n",
              "      <th>25%</th>\n",
              "      <td>13.925000</td>\n",
              "      <td>14.140000</td>\n",
              "      <td>13.655000</td>\n",
              "      <td>13.950000</td>\n",
              "      <td>12.715022</td>\n",
              "      <td>2.139665e+07</td>\n",
              "    </tr>\n",
              "    <tr>\n",
              "      <th>50%</th>\n",
              "      <td>18.400000</td>\n",
              "      <td>18.680000</td>\n",
              "      <td>18.070000</td>\n",
              "      <td>18.350000</td>\n",
              "      <td>16.090048</td>\n",
              "      <td>3.287650e+07</td>\n",
              "    </tr>\n",
              "    <tr>\n",
              "      <th>75%</th>\n",
              "      <td>22.549999</td>\n",
              "      <td>22.825000</td>\n",
              "      <td>22.290000</td>\n",
              "      <td>22.559999</td>\n",
              "      <td>19.421658</td>\n",
              "      <td>5.199460e+07</td>\n",
              "    </tr>\n",
              "    <tr>\n",
              "      <th>max</th>\n",
              "      <td>37.430000</td>\n",
              "      <td>37.500000</td>\n",
              "      <td>37.070000</td>\n",
              "      <td>37.500000</td>\n",
              "      <td>29.229712</td>\n",
              "      <td>6.989506e+08</td>\n",
              "    </tr>\n",
              "  </tbody>\n",
              "</table>\n",
              "</div>"
            ],
            "text/plain": [
              "              Open         High          Low        Close    Adj Close        Volume\n",
              "count  2231.000000  2231.000000  2231.000000  2231.000000  2231.000000  2.231000e+03\n",
              "mean     18.454940    18.715959    18.171054    18.424593    16.004749  3.986028e+07\n",
              "std       6.621185     6.656502     6.574314     6.609528     5.024887  3.092003e+07\n",
              "min       4.200000     4.270000     4.120000     4.200000     3.896351  0.000000e+00\n",
              "25%      13.925000    14.140000    13.655000    13.950000    12.715022  2.139665e+07\n",
              "50%      18.400000    18.680000    18.070000    18.350000    16.090048  3.287650e+07\n",
              "75%      22.549999    22.825000    22.290000    22.559999    19.421658  5.199460e+07\n",
              "max      37.430000    37.500000    37.070000    37.500000    29.229712  6.989506e+08"
            ]
          },
          "metadata": {
            "tags": []
          },
          "execution_count": 140
        }
      ]
    },
    {
      "cell_type": "code",
      "metadata": {
        "colab": {
          "base_uri": "https://localhost:8080/"
        },
        "id": "fbKUPwPSNJqm",
        "outputId": "ca84243f-0c5b-480d-c824-f59e921505ba"
      },
      "source": [
        "base.dtypes"
      ],
      "execution_count": 141,
      "outputs": [
        {
          "output_type": "execute_result",
          "data": {
            "text/plain": [
              "Open         float64\n",
              "High         float64\n",
              "Low          float64\n",
              "Close        float64\n",
              "Adj Close    float64\n",
              "Volume       float64\n",
              "dtype: object"
            ]
          },
          "metadata": {
            "tags": []
          },
          "execution_count": 141
        }
      ]
    },
    {
      "cell_type": "markdown",
      "metadata": {
        "id": "bCTD3wo2TfZF"
      },
      "source": [
        "##**3.2-Tratando os Valores Faltantes**"
      ]
    },
    {
      "cell_type": "code",
      "metadata": {
        "colab": {
          "base_uri": "https://localhost:8080/"
        },
        "id": "H60SOo8MTjjP",
        "outputId": "cf6575a7-9876-4e00-eb16-4a25b760c86f"
      },
      "source": [
        "#valores faltantes\n",
        "base.isna().sum()"
      ],
      "execution_count": 142,
      "outputs": [
        {
          "output_type": "execute_result",
          "data": {
            "text/plain": [
              "Open         1\n",
              "High         1\n",
              "Low          1\n",
              "Close        1\n",
              "Adj Close    1\n",
              "Volume       1\n",
              "dtype: int64"
            ]
          },
          "metadata": {
            "tags": []
          },
          "execution_count": 142
        }
      ]
    },
    {
      "cell_type": "code",
      "metadata": {
        "colab": {
          "base_uri": "https://localhost:8080/",
          "height": 80
        },
        "id": "H-DMfyHXTkdi",
        "outputId": "74ac5ba5-8861-4ca2-a6cc-8417e71aa514"
      },
      "source": [
        "#encontrando onde os valores faltantes estão\n",
        "base.loc[pd.isnull(base['Open'])]\n",
        "base.loc[pd.isnull(base['High'])]\n",
        "base.loc[pd.isnull(base['Low'])]\n",
        "base.loc[pd.isnull(base['Close'])]\n",
        "base.loc[pd.isnull(base['Adj Close'])]\n",
        "base.loc[pd.isnull(base['Volume'])]"
      ],
      "execution_count": 143,
      "outputs": [
        {
          "output_type": "execute_result",
          "data": {
            "text/html": [
              "<div>\n",
              "<style scoped>\n",
              "    .dataframe tbody tr th:only-of-type {\n",
              "        vertical-align: middle;\n",
              "    }\n",
              "\n",
              "    .dataframe tbody tr th {\n",
              "        vertical-align: top;\n",
              "    }\n",
              "\n",
              "    .dataframe thead th {\n",
              "        text-align: right;\n",
              "    }\n",
              "</style>\n",
              "<table border=\"1\" class=\"dataframe\">\n",
              "  <thead>\n",
              "    <tr style=\"text-align: right;\">\n",
              "      <th></th>\n",
              "      <th>Open</th>\n",
              "      <th>High</th>\n",
              "      <th>Low</th>\n",
              "      <th>Close</th>\n",
              "      <th>Adj Close</th>\n",
              "      <th>Volume</th>\n",
              "    </tr>\n",
              "  </thead>\n",
              "  <tbody>\n",
              "    <tr>\n",
              "      <th>2015</th>\n",
              "      <td>NaN</td>\n",
              "      <td>NaN</td>\n",
              "      <td>NaN</td>\n",
              "      <td>NaN</td>\n",
              "      <td>NaN</td>\n",
              "      <td>NaN</td>\n",
              "    </tr>\n",
              "  </tbody>\n",
              "</table>\n",
              "</div>"
            ],
            "text/plain": [
              "      Open  High  Low  Close  Adj Close  Volume\n",
              "2015   NaN   NaN  NaN    NaN        NaN     NaN"
            ]
          },
          "metadata": {
            "tags": []
          },
          "execution_count": 143
        }
      ]
    },
    {
      "cell_type": "code",
      "metadata": {
        "id": "6q0YFzy9TmPD"
      },
      "source": [
        "#preenchendo os valores nulos com o valor médio\n",
        "imputer = SimpleImputer(missing_values=np.nan, strategy='mean',verbose=0)\n",
        "imputer = imputer.fit(base.iloc[:,0:6])\n",
        "base.iloc[:,0:6] = imputer.transform(base.iloc[:,0:6])"
      ],
      "execution_count": 144,
      "outputs": []
    },
    {
      "cell_type": "code",
      "metadata": {
        "colab": {
          "base_uri": "https://localhost:8080/",
          "height": 49
        },
        "id": "gQC2HfFnTpe2",
        "outputId": "e656c039-c1ab-4c29-e027-388414afdb5c"
      },
      "source": [
        "#verificando novamente se ainda temos valores faltantes\n",
        "base.loc[pd.isnull(base['Open'])]\n",
        "base.loc[pd.isnull(base['High'])]\n",
        "base.loc[pd.isnull(base['Low'])]\n",
        "base.loc[pd.isnull(base['Close'])]\n",
        "base.loc[pd.isnull(base['Adj Close'])]\n",
        "base.loc[pd.isnull(base['Volume'])]"
      ],
      "execution_count": 145,
      "outputs": [
        {
          "output_type": "execute_result",
          "data": {
            "text/html": [
              "<div>\n",
              "<style scoped>\n",
              "    .dataframe tbody tr th:only-of-type {\n",
              "        vertical-align: middle;\n",
              "    }\n",
              "\n",
              "    .dataframe tbody tr th {\n",
              "        vertical-align: top;\n",
              "    }\n",
              "\n",
              "    .dataframe thead th {\n",
              "        text-align: right;\n",
              "    }\n",
              "</style>\n",
              "<table border=\"1\" class=\"dataframe\">\n",
              "  <thead>\n",
              "    <tr style=\"text-align: right;\">\n",
              "      <th></th>\n",
              "      <th>Open</th>\n",
              "      <th>High</th>\n",
              "      <th>Low</th>\n",
              "      <th>Close</th>\n",
              "      <th>Adj Close</th>\n",
              "      <th>Volume</th>\n",
              "    </tr>\n",
              "  </thead>\n",
              "  <tbody>\n",
              "  </tbody>\n",
              "</table>\n",
              "</div>"
            ],
            "text/plain": [
              "Empty DataFrame\n",
              "Columns: [Open, High, Low, Close, Adj Close, Volume]\n",
              "Index: []"
            ]
          },
          "metadata": {
            "tags": []
          },
          "execution_count": 145
        }
      ]
    },
    {
      "cell_type": "markdown",
      "metadata": {
        "id": "_WuI_UbmTt3W"
      },
      "source": [
        "#**3.3-Tratamento dos valores nulos (iguais a 0)**"
      ]
    },
    {
      "cell_type": "code",
      "metadata": {
        "colab": {
          "base_uri": "https://localhost:8080/"
        },
        "id": "hyRiBN32Twb2",
        "outputId": "21730e36-a6a2-42c9-f17b-2854d9553d51"
      },
      "source": [
        "#valores nulos\n",
        "(base == 0).sum()"
      ],
      "execution_count": 146,
      "outputs": [
        {
          "output_type": "execute_result",
          "data": {
            "text/plain": [
              "Open          0\n",
              "High          0\n",
              "Low           0\n",
              "Close         0\n",
              "Adj Close     0\n",
              "Volume       54\n",
              "dtype: int64"
            ]
          },
          "metadata": {
            "tags": []
          },
          "execution_count": 146
        }
      ]
    },
    {
      "cell_type": "code",
      "metadata": {
        "colab": {
          "base_uri": "https://localhost:8080/",
          "height": 1000
        },
        "id": "nQPTB9_TT3Dy",
        "outputId": "c05baec8-5d57-4367-b045-9a1f6f1007dd"
      },
      "source": [
        "#Encontrando os valores nulos\n",
        "base.loc[base['Volume'] == 0]"
      ],
      "execution_count": 147,
      "outputs": [
        {
          "output_type": "execute_result",
          "data": {
            "text/html": [
              "<div>\n",
              "<style scoped>\n",
              "    .dataframe tbody tr th:only-of-type {\n",
              "        vertical-align: middle;\n",
              "    }\n",
              "\n",
              "    .dataframe tbody tr th {\n",
              "        vertical-align: top;\n",
              "    }\n",
              "\n",
              "    .dataframe thead th {\n",
              "        text-align: right;\n",
              "    }\n",
              "</style>\n",
              "<table border=\"1\" class=\"dataframe\">\n",
              "  <thead>\n",
              "    <tr style=\"text-align: right;\">\n",
              "      <th></th>\n",
              "      <th>Open</th>\n",
              "      <th>High</th>\n",
              "      <th>Low</th>\n",
              "      <th>Close</th>\n",
              "      <th>Adj Close</th>\n",
              "      <th>Volume</th>\n",
              "    </tr>\n",
              "  </thead>\n",
              "  <tbody>\n",
              "    <tr>\n",
              "      <th>99</th>\n",
              "      <td>27.809999</td>\n",
              "      <td>27.809999</td>\n",
              "      <td>27.809999</td>\n",
              "      <td>27.809999</td>\n",
              "      <td>21.897339</td>\n",
              "      <td>0.0</td>\n",
              "    </tr>\n",
              "    <tr>\n",
              "      <th>273</th>\n",
              "      <td>26.879999</td>\n",
              "      <td>26.879999</td>\n",
              "      <td>26.879999</td>\n",
              "      <td>26.879999</td>\n",
              "      <td>21.575644</td>\n",
              "      <td>0.0</td>\n",
              "    </tr>\n",
              "    <tr>\n",
              "      <th>274</th>\n",
              "      <td>26.879999</td>\n",
              "      <td>26.879999</td>\n",
              "      <td>26.879999</td>\n",
              "      <td>26.879999</td>\n",
              "      <td>21.575644</td>\n",
              "      <td>0.0</td>\n",
              "    </tr>\n",
              "    <tr>\n",
              "      <th>284</th>\n",
              "      <td>28.709999</td>\n",
              "      <td>28.709999</td>\n",
              "      <td>28.709999</td>\n",
              "      <td>28.709999</td>\n",
              "      <td>23.044519</td>\n",
              "      <td>0.0</td>\n",
              "    </tr>\n",
              "    <tr>\n",
              "      <th>291</th>\n",
              "      <td>29.080000</td>\n",
              "      <td>29.080000</td>\n",
              "      <td>29.080000</td>\n",
              "      <td>29.080000</td>\n",
              "      <td>23.341505</td>\n",
              "      <td>0.0</td>\n",
              "    </tr>\n",
              "    <tr>\n",
              "      <th>301</th>\n",
              "      <td>28.129999</td>\n",
              "      <td>28.129999</td>\n",
              "      <td>28.129999</td>\n",
              "      <td>28.129999</td>\n",
              "      <td>22.719036</td>\n",
              "      <td>0.0</td>\n",
              "    </tr>\n",
              "    <tr>\n",
              "      <th>305</th>\n",
              "      <td>28.350000</td>\n",
              "      <td>28.350000</td>\n",
              "      <td>28.350000</td>\n",
              "      <td>28.350000</td>\n",
              "      <td>22.896719</td>\n",
              "      <td>0.0</td>\n",
              "    </tr>\n",
              "    <tr>\n",
              "      <th>308</th>\n",
              "      <td>28.370001</td>\n",
              "      <td>28.370001</td>\n",
              "      <td>28.370001</td>\n",
              "      <td>28.370001</td>\n",
              "      <td>22.912872</td>\n",
              "      <td>0.0</td>\n",
              "    </tr>\n",
              "    <tr>\n",
              "      <th>319</th>\n",
              "      <td>26.530001</td>\n",
              "      <td>26.530001</td>\n",
              "      <td>26.530001</td>\n",
              "      <td>26.530001</td>\n",
              "      <td>21.426805</td>\n",
              "      <td>0.0</td>\n",
              "    </tr>\n",
              "    <tr>\n",
              "      <th>334</th>\n",
              "      <td>24.600000</td>\n",
              "      <td>24.600000</td>\n",
              "      <td>24.600000</td>\n",
              "      <td>24.600000</td>\n",
              "      <td>19.967300</td>\n",
              "      <td>0.0</td>\n",
              "    </tr>\n",
              "    <tr>\n",
              "      <th>335</th>\n",
              "      <td>24.600000</td>\n",
              "      <td>24.600000</td>\n",
              "      <td>24.600000</td>\n",
              "      <td>24.600000</td>\n",
              "      <td>20.142195</td>\n",
              "      <td>0.0</td>\n",
              "    </tr>\n",
              "    <tr>\n",
              "      <th>336</th>\n",
              "      <td>24.600000</td>\n",
              "      <td>24.600000</td>\n",
              "      <td>24.600000</td>\n",
              "      <td>24.600000</td>\n",
              "      <td>20.142195</td>\n",
              "      <td>0.0</td>\n",
              "    </tr>\n",
              "    <tr>\n",
              "      <th>337</th>\n",
              "      <td>24.600000</td>\n",
              "      <td>24.600000</td>\n",
              "      <td>24.600000</td>\n",
              "      <td>24.600000</td>\n",
              "      <td>20.142195</td>\n",
              "      <td>0.0</td>\n",
              "    </tr>\n",
              "    <tr>\n",
              "      <th>338</th>\n",
              "      <td>24.600000</td>\n",
              "      <td>24.600000</td>\n",
              "      <td>24.600000</td>\n",
              "      <td>24.600000</td>\n",
              "      <td>20.142195</td>\n",
              "      <td>0.0</td>\n",
              "    </tr>\n",
              "    <tr>\n",
              "      <th>339</th>\n",
              "      <td>24.600000</td>\n",
              "      <td>24.600000</td>\n",
              "      <td>24.600000</td>\n",
              "      <td>24.600000</td>\n",
              "      <td>20.142195</td>\n",
              "      <td>0.0</td>\n",
              "    </tr>\n",
              "    <tr>\n",
              "      <th>390</th>\n",
              "      <td>23.500000</td>\n",
              "      <td>23.500000</td>\n",
              "      <td>23.500000</td>\n",
              "      <td>23.500000</td>\n",
              "      <td>19.241526</td>\n",
              "      <td>0.0</td>\n",
              "    </tr>\n",
              "    <tr>\n",
              "      <th>391</th>\n",
              "      <td>23.500000</td>\n",
              "      <td>23.500000</td>\n",
              "      <td>23.500000</td>\n",
              "      <td>23.500000</td>\n",
              "      <td>19.241526</td>\n",
              "      <td>0.0</td>\n",
              "    </tr>\n",
              "    <tr>\n",
              "      <th>392</th>\n",
              "      <td>23.500000</td>\n",
              "      <td>23.500000</td>\n",
              "      <td>23.500000</td>\n",
              "      <td>23.500000</td>\n",
              "      <td>19.241526</td>\n",
              "      <td>0.0</td>\n",
              "    </tr>\n",
              "    <tr>\n",
              "      <th>393</th>\n",
              "      <td>23.500000</td>\n",
              "      <td>23.500000</td>\n",
              "      <td>23.500000</td>\n",
              "      <td>23.500000</td>\n",
              "      <td>19.412769</td>\n",
              "      <td>0.0</td>\n",
              "    </tr>\n",
              "    <tr>\n",
              "      <th>394</th>\n",
              "      <td>23.500000</td>\n",
              "      <td>23.500000</td>\n",
              "      <td>23.500000</td>\n",
              "      <td>23.500000</td>\n",
              "      <td>19.412769</td>\n",
              "      <td>0.0</td>\n",
              "    </tr>\n",
              "    <tr>\n",
              "      <th>395</th>\n",
              "      <td>23.500000</td>\n",
              "      <td>23.500000</td>\n",
              "      <td>23.500000</td>\n",
              "      <td>23.500000</td>\n",
              "      <td>19.412769</td>\n",
              "      <td>0.0</td>\n",
              "    </tr>\n",
              "    <tr>\n",
              "      <th>396</th>\n",
              "      <td>23.500000</td>\n",
              "      <td>23.500000</td>\n",
              "      <td>23.500000</td>\n",
              "      <td>23.500000</td>\n",
              "      <td>19.412769</td>\n",
              "      <td>0.0</td>\n",
              "    </tr>\n",
              "    <tr>\n",
              "      <th>397</th>\n",
              "      <td>23.500000</td>\n",
              "      <td>23.500000</td>\n",
              "      <td>23.500000</td>\n",
              "      <td>23.500000</td>\n",
              "      <td>19.412769</td>\n",
              "      <td>0.0</td>\n",
              "    </tr>\n",
              "    <tr>\n",
              "      <th>398</th>\n",
              "      <td>23.500000</td>\n",
              "      <td>23.500000</td>\n",
              "      <td>23.500000</td>\n",
              "      <td>23.500000</td>\n",
              "      <td>19.412769</td>\n",
              "      <td>0.0</td>\n",
              "    </tr>\n",
              "    <tr>\n",
              "      <th>399</th>\n",
              "      <td>23.500000</td>\n",
              "      <td>23.500000</td>\n",
              "      <td>23.500000</td>\n",
              "      <td>23.500000</td>\n",
              "      <td>19.412769</td>\n",
              "      <td>0.0</td>\n",
              "    </tr>\n",
              "    <tr>\n",
              "      <th>400</th>\n",
              "      <td>23.500000</td>\n",
              "      <td>23.500000</td>\n",
              "      <td>23.500000</td>\n",
              "      <td>23.500000</td>\n",
              "      <td>19.412769</td>\n",
              "      <td>0.0</td>\n",
              "    </tr>\n",
              "    <tr>\n",
              "      <th>401</th>\n",
              "      <td>23.500000</td>\n",
              "      <td>23.500000</td>\n",
              "      <td>23.500000</td>\n",
              "      <td>23.500000</td>\n",
              "      <td>19.412769</td>\n",
              "      <td>0.0</td>\n",
              "    </tr>\n",
              "    <tr>\n",
              "      <th>402</th>\n",
              "      <td>23.500000</td>\n",
              "      <td>23.500000</td>\n",
              "      <td>23.500000</td>\n",
              "      <td>23.500000</td>\n",
              "      <td>19.412769</td>\n",
              "      <td>0.0</td>\n",
              "    </tr>\n",
              "    <tr>\n",
              "      <th>449</th>\n",
              "      <td>19.270000</td>\n",
              "      <td>19.270000</td>\n",
              "      <td>19.270000</td>\n",
              "      <td>19.270000</td>\n",
              "      <td>15.918474</td>\n",
              "      <td>0.0</td>\n",
              "    </tr>\n",
              "    <tr>\n",
              "      <th>450</th>\n",
              "      <td>19.270000</td>\n",
              "      <td>19.270000</td>\n",
              "      <td>19.270000</td>\n",
              "      <td>19.270000</td>\n",
              "      <td>15.918474</td>\n",
              "      <td>0.0</td>\n",
              "    </tr>\n",
              "    <tr>\n",
              "      <th>451</th>\n",
              "      <td>19.270000</td>\n",
              "      <td>19.270000</td>\n",
              "      <td>19.270000</td>\n",
              "      <td>19.270000</td>\n",
              "      <td>15.918474</td>\n",
              "      <td>0.0</td>\n",
              "    </tr>\n",
              "    <tr>\n",
              "      <th>452</th>\n",
              "      <td>19.270000</td>\n",
              "      <td>19.270000</td>\n",
              "      <td>19.270000</td>\n",
              "      <td>19.270000</td>\n",
              "      <td>15.918474</td>\n",
              "      <td>0.0</td>\n",
              "    </tr>\n",
              "    <tr>\n",
              "      <th>461</th>\n",
              "      <td>21.459999</td>\n",
              "      <td>21.459999</td>\n",
              "      <td>21.459999</td>\n",
              "      <td>21.459999</td>\n",
              "      <td>17.727575</td>\n",
              "      <td>0.0</td>\n",
              "    </tr>\n",
              "    <tr>\n",
              "      <th>482</th>\n",
              "      <td>23.020000</td>\n",
              "      <td>23.020000</td>\n",
              "      <td>23.020000</td>\n",
              "      <td>23.020000</td>\n",
              "      <td>19.191036</td>\n",
              "      <td>0.0</td>\n",
              "    </tr>\n",
              "    <tr>\n",
              "      <th>507</th>\n",
              "      <td>23.650000</td>\n",
              "      <td>23.650000</td>\n",
              "      <td>23.650000</td>\n",
              "      <td>23.650000</td>\n",
              "      <td>19.878437</td>\n",
              "      <td>0.0</td>\n",
              "    </tr>\n",
              "    <tr>\n",
              "      <th>525</th>\n",
              "      <td>23.500000</td>\n",
              "      <td>23.500000</td>\n",
              "      <td>23.500000</td>\n",
              "      <td>23.500000</td>\n",
              "      <td>19.752361</td>\n",
              "      <td>0.0</td>\n",
              "    </tr>\n",
              "    <tr>\n",
              "      <th>547</th>\n",
              "      <td>24.350000</td>\n",
              "      <td>24.350000</td>\n",
              "      <td>24.350000</td>\n",
              "      <td>24.350000</td>\n",
              "      <td>20.466808</td>\n",
              "      <td>0.0</td>\n",
              "    </tr>\n",
              "    <tr>\n",
              "      <th>590</th>\n",
              "      <td>19.070000</td>\n",
              "      <td>19.070000</td>\n",
              "      <td>19.070000</td>\n",
              "      <td>19.070000</td>\n",
              "      <td>16.277838</td>\n",
              "      <td>0.0</td>\n",
              "    </tr>\n",
              "    <tr>\n",
              "      <th>609</th>\n",
              "      <td>18.549999</td>\n",
              "      <td>18.549999</td>\n",
              "      <td>18.549999</td>\n",
              "      <td>18.549999</td>\n",
              "      <td>15.833973</td>\n",
              "      <td>0.0</td>\n",
              "    </tr>\n",
              "    <tr>\n",
              "      <th>628</th>\n",
              "      <td>19.549999</td>\n",
              "      <td>19.549999</td>\n",
              "      <td>19.549999</td>\n",
              "      <td>19.549999</td>\n",
              "      <td>16.687557</td>\n",
              "      <td>0.0</td>\n",
              "    </tr>\n",
              "    <tr>\n",
              "      <th>653</th>\n",
              "      <td>21.549999</td>\n",
              "      <td>21.549999</td>\n",
              "      <td>21.549999</td>\n",
              "      <td>21.549999</td>\n",
              "      <td>18.394724</td>\n",
              "      <td>0.0</td>\n",
              "    </tr>\n",
              "    <tr>\n",
              "      <th>799</th>\n",
              "      <td>18.420000</td>\n",
              "      <td>18.420000</td>\n",
              "      <td>18.420000</td>\n",
              "      <td>18.420000</td>\n",
              "      <td>15.723004</td>\n",
              "      <td>0.0</td>\n",
              "    </tr>\n",
              "    <tr>\n",
              "      <th>819</th>\n",
              "      <td>19.170000</td>\n",
              "      <td>19.170000</td>\n",
              "      <td>19.170000</td>\n",
              "      <td>19.170000</td>\n",
              "      <td>16.363195</td>\n",
              "      <td>0.0</td>\n",
              "    </tr>\n",
              "    <tr>\n",
              "      <th>881</th>\n",
              "      <td>16.840000</td>\n",
              "      <td>16.840000</td>\n",
              "      <td>16.840000</td>\n",
              "      <td>16.840000</td>\n",
              "      <td>14.651424</td>\n",
              "      <td>0.0</td>\n",
              "    </tr>\n",
              "    <tr>\n",
              "      <th>1831</th>\n",
              "      <td>13.680000</td>\n",
              "      <td>13.680000</td>\n",
              "      <td>13.680000</td>\n",
              "      <td>13.680000</td>\n",
              "      <td>12.690969</td>\n",
              "      <td>0.0</td>\n",
              "    </tr>\n",
              "    <tr>\n",
              "      <th>1844</th>\n",
              "      <td>12.620000</td>\n",
              "      <td>12.620000</td>\n",
              "      <td>12.620000</td>\n",
              "      <td>12.620000</td>\n",
              "      <td>11.707604</td>\n",
              "      <td>0.0</td>\n",
              "    </tr>\n",
              "    <tr>\n",
              "      <th>1904</th>\n",
              "      <td>15.020000</td>\n",
              "      <td>15.020000</td>\n",
              "      <td>15.020000</td>\n",
              "      <td>15.020000</td>\n",
              "      <td>13.934092</td>\n",
              "      <td>0.0</td>\n",
              "    </tr>\n",
              "    <tr>\n",
              "      <th>1929</th>\n",
              "      <td>16.080000</td>\n",
              "      <td>16.080000</td>\n",
              "      <td>16.080000</td>\n",
              "      <td>16.080000</td>\n",
              "      <td>14.917455</td>\n",
              "      <td>0.0</td>\n",
              "    </tr>\n",
              "    <tr>\n",
              "      <th>1944</th>\n",
              "      <td>16.900000</td>\n",
              "      <td>16.900000</td>\n",
              "      <td>16.900000</td>\n",
              "      <td>16.900000</td>\n",
              "      <td>15.678172</td>\n",
              "      <td>0.0</td>\n",
              "    </tr>\n",
              "    <tr>\n",
              "      <th>1953</th>\n",
              "      <td>15.350000</td>\n",
              "      <td>15.350000</td>\n",
              "      <td>15.350000</td>\n",
              "      <td>15.350000</td>\n",
              "      <td>14.240232</td>\n",
              "      <td>0.0</td>\n",
              "    </tr>\n",
              "    <tr>\n",
              "      <th>1956</th>\n",
              "      <td>16.020000</td>\n",
              "      <td>16.020000</td>\n",
              "      <td>16.020000</td>\n",
              "      <td>16.020000</td>\n",
              "      <td>14.861793</td>\n",
              "      <td>0.0</td>\n",
              "    </tr>\n",
              "    <tr>\n",
              "      <th>1981</th>\n",
              "      <td>15.750000</td>\n",
              "      <td>15.750000</td>\n",
              "      <td>15.750000</td>\n",
              "      <td>15.750000</td>\n",
              "      <td>14.611314</td>\n",
              "      <td>0.0</td>\n",
              "    </tr>\n",
              "    <tr>\n",
              "      <th>1985</th>\n",
              "      <td>16.100000</td>\n",
              "      <td>16.100000</td>\n",
              "      <td>16.100000</td>\n",
              "      <td>16.100000</td>\n",
              "      <td>14.936009</td>\n",
              "      <td>0.0</td>\n",
              "    </tr>\n",
              "    <tr>\n",
              "      <th>2003</th>\n",
              "      <td>19.340000</td>\n",
              "      <td>19.340000</td>\n",
              "      <td>19.340000</td>\n",
              "      <td>19.340000</td>\n",
              "      <td>17.941765</td>\n",
              "      <td>0.0</td>\n",
              "    </tr>\n",
              "  </tbody>\n",
              "</table>\n",
              "</div>"
            ],
            "text/plain": [
              "           Open       High        Low      Close  Adj Close  Volume\n",
              "99    27.809999  27.809999  27.809999  27.809999  21.897339     0.0\n",
              "273   26.879999  26.879999  26.879999  26.879999  21.575644     0.0\n",
              "274   26.879999  26.879999  26.879999  26.879999  21.575644     0.0\n",
              "284   28.709999  28.709999  28.709999  28.709999  23.044519     0.0\n",
              "291   29.080000  29.080000  29.080000  29.080000  23.341505     0.0\n",
              "301   28.129999  28.129999  28.129999  28.129999  22.719036     0.0\n",
              "305   28.350000  28.350000  28.350000  28.350000  22.896719     0.0\n",
              "308   28.370001  28.370001  28.370001  28.370001  22.912872     0.0\n",
              "319   26.530001  26.530001  26.530001  26.530001  21.426805     0.0\n",
              "334   24.600000  24.600000  24.600000  24.600000  19.967300     0.0\n",
              "335   24.600000  24.600000  24.600000  24.600000  20.142195     0.0\n",
              "336   24.600000  24.600000  24.600000  24.600000  20.142195     0.0\n",
              "337   24.600000  24.600000  24.600000  24.600000  20.142195     0.0\n",
              "338   24.600000  24.600000  24.600000  24.600000  20.142195     0.0\n",
              "339   24.600000  24.600000  24.600000  24.600000  20.142195     0.0\n",
              "390   23.500000  23.500000  23.500000  23.500000  19.241526     0.0\n",
              "391   23.500000  23.500000  23.500000  23.500000  19.241526     0.0\n",
              "392   23.500000  23.500000  23.500000  23.500000  19.241526     0.0\n",
              "393   23.500000  23.500000  23.500000  23.500000  19.412769     0.0\n",
              "394   23.500000  23.500000  23.500000  23.500000  19.412769     0.0\n",
              "395   23.500000  23.500000  23.500000  23.500000  19.412769     0.0\n",
              "396   23.500000  23.500000  23.500000  23.500000  19.412769     0.0\n",
              "397   23.500000  23.500000  23.500000  23.500000  19.412769     0.0\n",
              "398   23.500000  23.500000  23.500000  23.500000  19.412769     0.0\n",
              "399   23.500000  23.500000  23.500000  23.500000  19.412769     0.0\n",
              "400   23.500000  23.500000  23.500000  23.500000  19.412769     0.0\n",
              "401   23.500000  23.500000  23.500000  23.500000  19.412769     0.0\n",
              "402   23.500000  23.500000  23.500000  23.500000  19.412769     0.0\n",
              "449   19.270000  19.270000  19.270000  19.270000  15.918474     0.0\n",
              "450   19.270000  19.270000  19.270000  19.270000  15.918474     0.0\n",
              "451   19.270000  19.270000  19.270000  19.270000  15.918474     0.0\n",
              "452   19.270000  19.270000  19.270000  19.270000  15.918474     0.0\n",
              "461   21.459999  21.459999  21.459999  21.459999  17.727575     0.0\n",
              "482   23.020000  23.020000  23.020000  23.020000  19.191036     0.0\n",
              "507   23.650000  23.650000  23.650000  23.650000  19.878437     0.0\n",
              "525   23.500000  23.500000  23.500000  23.500000  19.752361     0.0\n",
              "547   24.350000  24.350000  24.350000  24.350000  20.466808     0.0\n",
              "590   19.070000  19.070000  19.070000  19.070000  16.277838     0.0\n",
              "609   18.549999  18.549999  18.549999  18.549999  15.833973     0.0\n",
              "628   19.549999  19.549999  19.549999  19.549999  16.687557     0.0\n",
              "653   21.549999  21.549999  21.549999  21.549999  18.394724     0.0\n",
              "799   18.420000  18.420000  18.420000  18.420000  15.723004     0.0\n",
              "819   19.170000  19.170000  19.170000  19.170000  16.363195     0.0\n",
              "881   16.840000  16.840000  16.840000  16.840000  14.651424     0.0\n",
              "1831  13.680000  13.680000  13.680000  13.680000  12.690969     0.0\n",
              "1844  12.620000  12.620000  12.620000  12.620000  11.707604     0.0\n",
              "1904  15.020000  15.020000  15.020000  15.020000  13.934092     0.0\n",
              "1929  16.080000  16.080000  16.080000  16.080000  14.917455     0.0\n",
              "1944  16.900000  16.900000  16.900000  16.900000  15.678172     0.0\n",
              "1953  15.350000  15.350000  15.350000  15.350000  14.240232     0.0\n",
              "1956  16.020000  16.020000  16.020000  16.020000  14.861793     0.0\n",
              "1981  15.750000  15.750000  15.750000  15.750000  14.611314     0.0\n",
              "1985  16.100000  16.100000  16.100000  16.100000  14.936009     0.0\n",
              "2003  19.340000  19.340000  19.340000  19.340000  17.941765     0.0"
            ]
          },
          "metadata": {
            "tags": []
          },
          "execution_count": 147
        }
      ]
    },
    {
      "cell_type": "code",
      "metadata": {
        "id": "352jPyV0T5JJ"
      },
      "source": [
        "#preenchendo os valores nulos com o valor médio\n",
        "imputer = SimpleImputer(missing_values=0, strategy='mean',verbose=0)\n",
        "imputer = imputer.fit(base.iloc[:,0:6])\n",
        "base.iloc[:,0:6] = imputer.transform(base.iloc[:,0:6])"
      ],
      "execution_count": 148,
      "outputs": []
    },
    {
      "cell_type": "code",
      "metadata": {
        "colab": {
          "base_uri": "https://localhost:8080/",
          "height": 49
        },
        "id": "xI5JdDykT66_",
        "outputId": "a483c393-5fe5-4612-9ce5-07aa0d973b09"
      },
      "source": [
        "#Encontrando os valores nulos\n",
        "base.loc[base['Volume'] == 0]"
      ],
      "execution_count": 149,
      "outputs": [
        {
          "output_type": "execute_result",
          "data": {
            "text/html": [
              "<div>\n",
              "<style scoped>\n",
              "    .dataframe tbody tr th:only-of-type {\n",
              "        vertical-align: middle;\n",
              "    }\n",
              "\n",
              "    .dataframe tbody tr th {\n",
              "        vertical-align: top;\n",
              "    }\n",
              "\n",
              "    .dataframe thead th {\n",
              "        text-align: right;\n",
              "    }\n",
              "</style>\n",
              "<table border=\"1\" class=\"dataframe\">\n",
              "  <thead>\n",
              "    <tr style=\"text-align: right;\">\n",
              "      <th></th>\n",
              "      <th>Open</th>\n",
              "      <th>High</th>\n",
              "      <th>Low</th>\n",
              "      <th>Close</th>\n",
              "      <th>Adj Close</th>\n",
              "      <th>Volume</th>\n",
              "    </tr>\n",
              "  </thead>\n",
              "  <tbody>\n",
              "  </tbody>\n",
              "</table>\n",
              "</div>"
            ],
            "text/plain": [
              "Empty DataFrame\n",
              "Columns: [Open, High, Low, Close, Adj Close, Volume]\n",
              "Index: []"
            ]
          },
          "metadata": {
            "tags": []
          },
          "execution_count": 149
        }
      ]
    },
    {
      "cell_type": "code",
      "metadata": {
        "id": "NYW0UUz0T9Kq"
      },
      "source": [
        "#base = base.dropna()"
      ],
      "execution_count": null,
      "outputs": []
    },
    {
      "cell_type": "code",
      "metadata": {
        "id": "ceOotOwsT_Er"
      },
      "source": [
        "#base.sample()"
      ],
      "execution_count": null,
      "outputs": []
    },
    {
      "cell_type": "markdown",
      "metadata": {
        "id": "hCiQYMqPGHuG"
      },
      "source": [
        "#**-Descrição dos dados** IGNORE ESTA CÉLULA"
      ]
    },
    {
      "cell_type": "code",
      "metadata": {
        "colab": {
          "base_uri": "https://localhost:8080/",
          "height": 235
        },
        "id": "xalwLdRSGLRD",
        "outputId": "6daa319d-1d64-402b-b5e8-aeb8ee73bd5f"
      },
      "source": [
        "#Tendencia central - mean, median\n",
        "ct1 = pd.DataFrame(base.apply(np.mean)).T #T transpondo \n",
        "ct2 = pd.DataFrame(base.apply(np.median)).T\n",
        "#Dispersão - std(desvio padrão), min, max, range\n",
        "d1 = pd.DataFrame(base.apply(np.std)).T\n",
        "d2 = pd.DataFrame(base.apply(min)).T\n",
        "d3 = pd.DataFrame(base.apply(max)).T\n",
        "d4 = pd.DataFrame(base.apply(lambda x: x.max() - x.min())).T\n",
        "#concatenate\n",
        "m = pd.concat([d2,d3,d4,ct1,ct2,d1]).T.reset_index()\n",
        "m.columns = ['attributes','min','max','range', 'mean', 'median', 'std']\n",
        "m"
      ],
      "execution_count": null,
      "outputs": [
        {
          "output_type": "execute_result",
          "data": {
            "text/html": [
              "<div>\n",
              "<style scoped>\n",
              "    .dataframe tbody tr th:only-of-type {\n",
              "        vertical-align: middle;\n",
              "    }\n",
              "\n",
              "    .dataframe tbody tr th {\n",
              "        vertical-align: top;\n",
              "    }\n",
              "\n",
              "    .dataframe thead th {\n",
              "        text-align: right;\n",
              "    }\n",
              "</style>\n",
              "<table border=\"1\" class=\"dataframe\">\n",
              "  <thead>\n",
              "    <tr style=\"text-align: right;\">\n",
              "      <th></th>\n",
              "      <th>attributes</th>\n",
              "      <th>min</th>\n",
              "      <th>max</th>\n",
              "      <th>range</th>\n",
              "      <th>mean</th>\n",
              "      <th>median</th>\n",
              "      <th>std</th>\n",
              "    </tr>\n",
              "  </thead>\n",
              "  <tbody>\n",
              "    <tr>\n",
              "      <th>0</th>\n",
              "      <td>Open</td>\n",
              "      <td>4.200000</td>\n",
              "      <td>3.743000e+01</td>\n",
              "      <td>3.323000e+01</td>\n",
              "      <td>1.933303e+01</td>\n",
              "      <td>1.909000e+01</td>\n",
              "      <td>6.833255e+00</td>\n",
              "    </tr>\n",
              "    <tr>\n",
              "      <th>1</th>\n",
              "      <td>High</td>\n",
              "      <td>4.270000</td>\n",
              "      <td>3.750000e+01</td>\n",
              "      <td>3.323000e+01</td>\n",
              "      <td>1.959720e+01</td>\n",
              "      <td>1.937000e+01</td>\n",
              "      <td>6.867448e+00</td>\n",
              "    </tr>\n",
              "    <tr>\n",
              "      <th>2</th>\n",
              "      <td>Low</td>\n",
              "      <td>4.120000</td>\n",
              "      <td>3.707000e+01</td>\n",
              "      <td>3.295000e+01</td>\n",
              "      <td>1.904492e+01</td>\n",
              "      <td>1.878000e+01</td>\n",
              "      <td>6.786986e+00</td>\n",
              "    </tr>\n",
              "    <tr>\n",
              "      <th>3</th>\n",
              "      <td>Close</td>\n",
              "      <td>4.200000</td>\n",
              "      <td>3.750000e+01</td>\n",
              "      <td>3.330000e+01</td>\n",
              "      <td>1.930418e+01</td>\n",
              "      <td>1.910000e+01</td>\n",
              "      <td>6.824516e+00</td>\n",
              "    </tr>\n",
              "    <tr>\n",
              "      <th>4</th>\n",
              "      <td>Adj Close</td>\n",
              "      <td>3.896351</td>\n",
              "      <td>3.054497e+01</td>\n",
              "      <td>2.664862e+01</td>\n",
              "      <td>1.705664e+01</td>\n",
              "      <td>1.670628e+01</td>\n",
              "      <td>5.745576e+00</td>\n",
              "    </tr>\n",
              "    <tr>\n",
              "      <th>5</th>\n",
              "      <td>Volume</td>\n",
              "      <td>0.000000</td>\n",
              "      <td>6.989506e+08</td>\n",
              "      <td>6.989506e+08</td>\n",
              "      <td>4.115402e+07</td>\n",
              "      <td>3.508690e+07</td>\n",
              "      <td>3.058053e+07</td>\n",
              "    </tr>\n",
              "  </tbody>\n",
              "</table>\n",
              "</div>"
            ],
            "text/plain": [
              "  attributes       min           max         range          mean        median           std\n",
              "0       Open  4.200000  3.743000e+01  3.323000e+01  1.933303e+01  1.909000e+01  6.833255e+00\n",
              "1       High  4.270000  3.750000e+01  3.323000e+01  1.959720e+01  1.937000e+01  6.867448e+00\n",
              "2        Low  4.120000  3.707000e+01  3.295000e+01  1.904492e+01  1.878000e+01  6.786986e+00\n",
              "3      Close  4.200000  3.750000e+01  3.330000e+01  1.930418e+01  1.910000e+01  6.824516e+00\n",
              "4  Adj Close  3.896351  3.054497e+01  2.664862e+01  1.705664e+01  1.670628e+01  5.745576e+00\n",
              "5     Volume  0.000000  6.989506e+08  6.989506e+08  4.115402e+07  3.508690e+07  3.058053e+07"
            ]
          },
          "metadata": {
            "tags": []
          },
          "execution_count": 19
        }
      ]
    },
    {
      "cell_type": "code",
      "metadata": {
        "colab": {
          "base_uri": "https://localhost:8080/"
        },
        "id": "j62Bj8jOQz_G",
        "outputId": "9e5055ec-b49f-4f7d-e3c1-b3fc2b1dae42"
      },
      "source": [
        "base.shape[0]"
      ],
      "execution_count": null,
      "outputs": [
        {
          "output_type": "execute_result",
          "data": {
            "text/plain": [
              "2478"
            ]
          },
          "metadata": {
            "tags": []
          },
          "execution_count": 20
        }
      ]
    },
    {
      "cell_type": "markdown",
      "metadata": {
        "id": "4IDwP-XV_Ohd"
      },
      "source": [
        "#**4-Treinamento da rede**"
      ]
    },
    {
      "cell_type": "code",
      "metadata": {
        "id": "mpo6RlDsUHNJ"
      },
      "source": [
        "#normalizando a base de dados com o MinMaxScaler\n",
        "base_treinamento = base.iloc[:, 0:6].values\n",
        "normalizador = MinMaxScaler(feature_range=(0,1))\n",
        "base_treinamento_normalizada = normalizador.fit_transform(base_treinamento)"
      ],
      "execution_count": 150,
      "outputs": []
    },
    {
      "cell_type": "code",
      "metadata": {
        "id": "d-LD4OEaUNf7"
      },
      "source": [
        "#Comparando a predição com o preço real\n",
        "previsores = []\n",
        "preco_real = []\n",
        "for i in range(90, 2232):\n",
        "    previsores.append(base_treinamento_normalizada[i-90:i, 0:6])\n",
        "    preco_real.append(base_treinamento_normalizada[i, 0])\n",
        "previsores, preco_real = np.array(previsores), np.array(preco_real)\n"
      ],
      "execution_count": 151,
      "outputs": []
    },
    {
      "cell_type": "code",
      "metadata": {
        "colab": {
          "base_uri": "https://localhost:8080/"
        },
        "id": "ZftXowA9URdt",
        "outputId": "4f77c39a-11a4-442c-861a-650e22db28eb"
      },
      "source": [
        "#estrutura da rede neural \n",
        "regressor = Sequential()\n",
        "regressor.add(LSTM(units = 100, return_sequences = True, input_shape = (previsores.shape[1], 6)))\n",
        "regressor.add(Dropout(0.3))\n",
        "\n",
        "regressor.add(LSTM(units = 50, return_sequences = True))\n",
        "regressor.add(Dropout(0.3))\n",
        "\n",
        "regressor.add(LSTM(units = 50, return_sequences = True))\n",
        "regressor.add(Dropout(0.3))\n",
        "\n",
        "regressor.add(LSTM(units = 50))\n",
        "regressor.add(Dropout(0.3))\n",
        "\n",
        "regressor.add(Dense(units = 1, activation = 'sigmoid'))\n",
        "\n",
        "es = EarlyStopping(monitor = 'loss', min_delta = 1e-15, patience = 20, verbose = 1)\n",
        "\n",
        "#regressor.compile(optimizer = 'RMSprop', loss = 'mean_squared_error',\n",
        "#                  metrics = ['mean_absolute_error'])\n",
        "opt = tf.keras.optimizers.Adam(amsgrad=True)\n",
        "regressor.compile(optimizer = opt, loss = 'mean_squared_error',\n",
        "                  metrics = ['mean_absolute_error'])\n",
        "#opt = tf.keras.optimizers.RMSprop(centered=True)\n",
        "#regressor.compile(optimizer = opt, loss = 'mean_squared_error',\n",
        "#                 metrics = ['mean_absolute_error'])\n",
        "\n",
        "regressor.fit(previsores, preco_real, epochs = 600, batch_size = 32,\n",
        "              callbacks = [es])"
      ],
      "execution_count": 152,
      "outputs": [
        {
          "output_type": "stream",
          "text": [
            "Epoch 1/600\n",
            "67/67 [==============================] - 6s 18ms/step - loss: 0.0188 - mean_absolute_error: 0.1022\n",
            "Epoch 2/600\n",
            "67/67 [==============================] - 1s 16ms/step - loss: 0.0033 - mean_absolute_error: 0.0448\n",
            "Epoch 3/600\n",
            "67/67 [==============================] - 1s 16ms/step - loss: 0.0026 - mean_absolute_error: 0.0393\n",
            "Epoch 4/600\n",
            "67/67 [==============================] - 1s 16ms/step - loss: 0.0026 - mean_absolute_error: 0.0388\n",
            "Epoch 5/600\n",
            "67/67 [==============================] - 1s 15ms/step - loss: 0.0020 - mean_absolute_error: 0.0346\n",
            "Epoch 6/600\n",
            "67/67 [==============================] - 1s 15ms/step - loss: 0.0021 - mean_absolute_error: 0.0355\n",
            "Epoch 7/600\n",
            "67/67 [==============================] - 1s 16ms/step - loss: 0.0017 - mean_absolute_error: 0.0321\n",
            "Epoch 8/600\n",
            "67/67 [==============================] - 1s 15ms/step - loss: 0.0015 - mean_absolute_error: 0.0298\n",
            "Epoch 9/600\n",
            "67/67 [==============================] - 1s 15ms/step - loss: 0.0016 - mean_absolute_error: 0.0301\n",
            "Epoch 10/600\n",
            "67/67 [==============================] - 1s 16ms/step - loss: 0.0012 - mean_absolute_error: 0.0276\n",
            "Epoch 11/600\n",
            "67/67 [==============================] - 1s 16ms/step - loss: 0.0015 - mean_absolute_error: 0.0294\n",
            "Epoch 12/600\n",
            "67/67 [==============================] - 1s 16ms/step - loss: 0.0011 - mean_absolute_error: 0.0258\n",
            "Epoch 13/600\n",
            "67/67 [==============================] - 1s 16ms/step - loss: 0.0011 - mean_absolute_error: 0.0260\n",
            "Epoch 14/600\n",
            "67/67 [==============================] - 1s 16ms/step - loss: 0.0011 - mean_absolute_error: 0.0252\n",
            "Epoch 15/600\n",
            "67/67 [==============================] - 1s 16ms/step - loss: 0.0011 - mean_absolute_error: 0.0255\n",
            "Epoch 16/600\n",
            "67/67 [==============================] - 1s 16ms/step - loss: 0.0011 - mean_absolute_error: 0.0257\n",
            "Epoch 17/600\n",
            "67/67 [==============================] - 1s 16ms/step - loss: 9.5422e-04 - mean_absolute_error: 0.0240\n",
            "Epoch 18/600\n",
            "67/67 [==============================] - 1s 16ms/step - loss: 8.2268e-04 - mean_absolute_error: 0.0224\n",
            "Epoch 19/600\n",
            "67/67 [==============================] - 1s 16ms/step - loss: 8.8431e-04 - mean_absolute_error: 0.0227\n",
            "Epoch 20/600\n",
            "67/67 [==============================] - 1s 16ms/step - loss: 9.0035e-04 - mean_absolute_error: 0.0236\n",
            "Epoch 21/600\n",
            "67/67 [==============================] - 1s 16ms/step - loss: 8.2082e-04 - mean_absolute_error: 0.0218\n",
            "Epoch 22/600\n",
            "67/67 [==============================] - 1s 16ms/step - loss: 8.3167e-04 - mean_absolute_error: 0.0224\n",
            "Epoch 23/600\n",
            "67/67 [==============================] - 1s 16ms/step - loss: 7.4319e-04 - mean_absolute_error: 0.0210\n",
            "Epoch 24/600\n",
            "67/67 [==============================] - 1s 16ms/step - loss: 8.5550e-04 - mean_absolute_error: 0.0220\n",
            "Epoch 25/600\n",
            "67/67 [==============================] - 1s 15ms/step - loss: 7.8563e-04 - mean_absolute_error: 0.0213\n",
            "Epoch 26/600\n",
            "67/67 [==============================] - 1s 16ms/step - loss: 7.3388e-04 - mean_absolute_error: 0.0207\n",
            "Epoch 27/600\n",
            "67/67 [==============================] - 1s 16ms/step - loss: 7.2178e-04 - mean_absolute_error: 0.0206\n",
            "Epoch 28/600\n",
            "67/67 [==============================] - 1s 16ms/step - loss: 6.9192e-04 - mean_absolute_error: 0.0197\n",
            "Epoch 29/600\n",
            "67/67 [==============================] - 1s 16ms/step - loss: 7.1381e-04 - mean_absolute_error: 0.0202\n",
            "Epoch 30/600\n",
            "67/67 [==============================] - 1s 16ms/step - loss: 6.8232e-04 - mean_absolute_error: 0.0199\n",
            "Epoch 31/600\n",
            "67/67 [==============================] - 1s 16ms/step - loss: 7.2400e-04 - mean_absolute_error: 0.0203\n",
            "Epoch 32/600\n",
            "67/67 [==============================] - 1s 16ms/step - loss: 7.2544e-04 - mean_absolute_error: 0.0202\n",
            "Epoch 33/600\n",
            "67/67 [==============================] - 1s 16ms/step - loss: 5.8492e-04 - mean_absolute_error: 0.0188\n",
            "Epoch 34/600\n",
            "67/67 [==============================] - 1s 16ms/step - loss: 6.2966e-04 - mean_absolute_error: 0.0193\n",
            "Epoch 35/600\n",
            "67/67 [==============================] - 1s 16ms/step - loss: 6.3387e-04 - mean_absolute_error: 0.0190\n",
            "Epoch 36/600\n",
            "67/67 [==============================] - 1s 16ms/step - loss: 5.9785e-04 - mean_absolute_error: 0.0187\n",
            "Epoch 37/600\n",
            "67/67 [==============================] - 1s 16ms/step - loss: 6.2190e-04 - mean_absolute_error: 0.0189\n",
            "Epoch 38/600\n",
            "67/67 [==============================] - 1s 16ms/step - loss: 5.7147e-04 - mean_absolute_error: 0.0184\n",
            "Epoch 39/600\n",
            "67/67 [==============================] - 1s 16ms/step - loss: 6.8582e-04 - mean_absolute_error: 0.0195\n",
            "Epoch 40/600\n",
            "67/67 [==============================] - 1s 16ms/step - loss: 5.5766e-04 - mean_absolute_error: 0.0180\n",
            "Epoch 41/600\n",
            "67/67 [==============================] - 1s 16ms/step - loss: 5.6459e-04 - mean_absolute_error: 0.0182\n",
            "Epoch 42/600\n",
            "67/67 [==============================] - 1s 16ms/step - loss: 6.2710e-04 - mean_absolute_error: 0.0189\n",
            "Epoch 43/600\n",
            "67/67 [==============================] - 1s 16ms/step - loss: 5.7859e-04 - mean_absolute_error: 0.0187\n",
            "Epoch 44/600\n",
            "67/67 [==============================] - 1s 16ms/step - loss: 5.5335e-04 - mean_absolute_error: 0.0180\n",
            "Epoch 45/600\n",
            "67/67 [==============================] - 1s 16ms/step - loss: 5.8357e-04 - mean_absolute_error: 0.0182\n",
            "Epoch 46/600\n",
            "67/67 [==============================] - 1s 16ms/step - loss: 5.5168e-04 - mean_absolute_error: 0.0177\n",
            "Epoch 47/600\n",
            "67/67 [==============================] - 1s 16ms/step - loss: 5.5256e-04 - mean_absolute_error: 0.0179\n",
            "Epoch 48/600\n",
            "67/67 [==============================] - 1s 16ms/step - loss: 5.8635e-04 - mean_absolute_error: 0.0180\n",
            "Epoch 49/600\n",
            "67/67 [==============================] - 1s 15ms/step - loss: 5.0155e-04 - mean_absolute_error: 0.0172\n",
            "Epoch 50/600\n",
            "67/67 [==============================] - 1s 16ms/step - loss: 6.0847e-04 - mean_absolute_error: 0.0186\n",
            "Epoch 51/600\n",
            "67/67 [==============================] - 1s 16ms/step - loss: 5.1368e-04 - mean_absolute_error: 0.0172\n",
            "Epoch 52/600\n",
            "67/67 [==============================] - 1s 16ms/step - loss: 4.8321e-04 - mean_absolute_error: 0.0170\n",
            "Epoch 53/600\n",
            "67/67 [==============================] - 1s 16ms/step - loss: 5.8610e-04 - mean_absolute_error: 0.0189\n",
            "Epoch 54/600\n",
            "67/67 [==============================] - 1s 17ms/step - loss: 5.0501e-04 - mean_absolute_error: 0.0173\n",
            "Epoch 55/600\n",
            "67/67 [==============================] - 1s 16ms/step - loss: 5.0631e-04 - mean_absolute_error: 0.0171\n",
            "Epoch 56/600\n",
            "67/67 [==============================] - 1s 16ms/step - loss: 5.2425e-04 - mean_absolute_error: 0.0173\n",
            "Epoch 57/600\n",
            "67/67 [==============================] - 1s 17ms/step - loss: 5.0166e-04 - mean_absolute_error: 0.0169\n",
            "Epoch 58/600\n",
            "67/67 [==============================] - 1s 16ms/step - loss: 6.0662e-04 - mean_absolute_error: 0.0188\n",
            "Epoch 59/600\n",
            "67/67 [==============================] - 1s 16ms/step - loss: 4.4698e-04 - mean_absolute_error: 0.0160\n",
            "Epoch 60/600\n",
            "67/67 [==============================] - 1s 16ms/step - loss: 5.3227e-04 - mean_absolute_error: 0.0173\n",
            "Epoch 61/600\n",
            "67/67 [==============================] - 1s 16ms/step - loss: 4.6629e-04 - mean_absolute_error: 0.0160\n",
            "Epoch 62/600\n",
            "67/67 [==============================] - 1s 16ms/step - loss: 5.5286e-04 - mean_absolute_error: 0.0182\n",
            "Epoch 63/600\n",
            "67/67 [==============================] - 1s 16ms/step - loss: 4.6968e-04 - mean_absolute_error: 0.0165\n",
            "Epoch 64/600\n",
            "67/67 [==============================] - 1s 16ms/step - loss: 4.3595e-04 - mean_absolute_error: 0.0159\n",
            "Epoch 65/600\n",
            "67/67 [==============================] - 1s 16ms/step - loss: 5.1371e-04 - mean_absolute_error: 0.0172\n",
            "Epoch 66/600\n",
            "67/67 [==============================] - 1s 16ms/step - loss: 4.9162e-04 - mean_absolute_error: 0.0169\n",
            "Epoch 67/600\n",
            "67/67 [==============================] - 1s 16ms/step - loss: 5.5033e-04 - mean_absolute_error: 0.0176\n",
            "Epoch 68/600\n",
            "67/67 [==============================] - 1s 16ms/step - loss: 4.7105e-04 - mean_absolute_error: 0.0163\n",
            "Epoch 69/600\n",
            "67/67 [==============================] - 1s 16ms/step - loss: 4.7691e-04 - mean_absolute_error: 0.0165\n",
            "Epoch 70/600\n",
            "67/67 [==============================] - 1s 16ms/step - loss: 4.2296e-04 - mean_absolute_error: 0.0155\n",
            "Epoch 71/600\n",
            "67/67 [==============================] - 1s 16ms/step - loss: 4.4433e-04 - mean_absolute_error: 0.0162\n",
            "Epoch 72/600\n",
            "67/67 [==============================] - 1s 16ms/step - loss: 4.9606e-04 - mean_absolute_error: 0.0168\n",
            "Epoch 73/600\n",
            "67/67 [==============================] - 1s 16ms/step - loss: 4.7678e-04 - mean_absolute_error: 0.0165\n",
            "Epoch 74/600\n",
            "67/67 [==============================] - 1s 16ms/step - loss: 4.7990e-04 - mean_absolute_error: 0.0164\n",
            "Epoch 75/600\n",
            "67/67 [==============================] - 1s 16ms/step - loss: 4.2239e-04 - mean_absolute_error: 0.0160\n",
            "Epoch 76/600\n",
            "67/67 [==============================] - 1s 16ms/step - loss: 5.2177e-04 - mean_absolute_error: 0.0175\n",
            "Epoch 77/600\n",
            "67/67 [==============================] - 1s 16ms/step - loss: 4.7679e-04 - mean_absolute_error: 0.0163\n",
            "Epoch 78/600\n",
            "67/67 [==============================] - 1s 16ms/step - loss: 4.2889e-04 - mean_absolute_error: 0.0157\n",
            "Epoch 79/600\n",
            "67/67 [==============================] - 1s 16ms/step - loss: 4.1597e-04 - mean_absolute_error: 0.0153\n",
            "Epoch 80/600\n",
            "67/67 [==============================] - 1s 16ms/step - loss: 4.5445e-04 - mean_absolute_error: 0.0161\n",
            "Epoch 81/600\n",
            "67/67 [==============================] - 1s 16ms/step - loss: 4.3486e-04 - mean_absolute_error: 0.0157\n",
            "Epoch 82/600\n",
            "67/67 [==============================] - 1s 16ms/step - loss: 4.7863e-04 - mean_absolute_error: 0.0165\n",
            "Epoch 83/600\n",
            "67/67 [==============================] - 1s 18ms/step - loss: 4.3772e-04 - mean_absolute_error: 0.0158\n",
            "Epoch 84/600\n",
            "67/67 [==============================] - 1s 16ms/step - loss: 5.4771e-04 - mean_absolute_error: 0.0174\n",
            "Epoch 85/600\n",
            "67/67 [==============================] - 1s 16ms/step - loss: 4.4679e-04 - mean_absolute_error: 0.0160\n",
            "Epoch 86/600\n",
            "67/67 [==============================] - 1s 16ms/step - loss: 4.9239e-04 - mean_absolute_error: 0.0167\n",
            "Epoch 87/600\n",
            "67/67 [==============================] - 1s 16ms/step - loss: 4.6693e-04 - mean_absolute_error: 0.0158\n",
            "Epoch 88/600\n",
            "67/67 [==============================] - 1s 17ms/step - loss: 4.1101e-04 - mean_absolute_error: 0.0154\n",
            "Epoch 89/600\n",
            "67/67 [==============================] - 1s 16ms/step - loss: 4.4669e-04 - mean_absolute_error: 0.0155\n",
            "Epoch 90/600\n",
            "67/67 [==============================] - 1s 16ms/step - loss: 4.5978e-04 - mean_absolute_error: 0.0160\n",
            "Epoch 91/600\n",
            "67/67 [==============================] - 1s 16ms/step - loss: 4.8895e-04 - mean_absolute_error: 0.0167\n",
            "Epoch 92/600\n",
            "67/67 [==============================] - 1s 16ms/step - loss: 4.2647e-04 - mean_absolute_error: 0.0153\n",
            "Epoch 93/600\n",
            "67/67 [==============================] - 1s 17ms/step - loss: 4.7190e-04 - mean_absolute_error: 0.0161\n",
            "Epoch 94/600\n",
            "67/67 [==============================] - 1s 17ms/step - loss: 4.1261e-04 - mean_absolute_error: 0.0153\n",
            "Epoch 95/600\n",
            "67/67 [==============================] - 1s 16ms/step - loss: 4.4942e-04 - mean_absolute_error: 0.0161\n",
            "Epoch 96/600\n",
            "67/67 [==============================] - 1s 16ms/step - loss: 3.9654e-04 - mean_absolute_error: 0.0150\n",
            "Epoch 97/600\n",
            "67/67 [==============================] - 1s 16ms/step - loss: 4.1276e-04 - mean_absolute_error: 0.0153\n",
            "Epoch 98/600\n",
            "67/67 [==============================] - 1s 16ms/step - loss: 4.1231e-04 - mean_absolute_error: 0.0153\n",
            "Epoch 99/600\n",
            "67/67 [==============================] - 1s 16ms/step - loss: 4.2343e-04 - mean_absolute_error: 0.0152\n",
            "Epoch 100/600\n",
            "67/67 [==============================] - 1s 16ms/step - loss: 4.7058e-04 - mean_absolute_error: 0.0163\n",
            "Epoch 101/600\n",
            "67/67 [==============================] - 1s 16ms/step - loss: 3.9935e-04 - mean_absolute_error: 0.0152\n",
            "Epoch 102/600\n",
            "67/67 [==============================] - 1s 16ms/step - loss: 4.1887e-04 - mean_absolute_error: 0.0151\n",
            "Epoch 103/600\n",
            "67/67 [==============================] - 1s 16ms/step - loss: 3.9862e-04 - mean_absolute_error: 0.0149\n",
            "Epoch 104/600\n",
            "67/67 [==============================] - 1s 16ms/step - loss: 4.4026e-04 - mean_absolute_error: 0.0158\n",
            "Epoch 105/600\n",
            "67/67 [==============================] - 1s 16ms/step - loss: 4.3535e-04 - mean_absolute_error: 0.0155\n",
            "Epoch 106/600\n",
            "67/67 [==============================] - 1s 16ms/step - loss: 4.0722e-04 - mean_absolute_error: 0.0150\n",
            "Epoch 107/600\n",
            "67/67 [==============================] - 1s 16ms/step - loss: 3.8920e-04 - mean_absolute_error: 0.0147\n",
            "Epoch 108/600\n",
            "67/67 [==============================] - 1s 16ms/step - loss: 4.4936e-04 - mean_absolute_error: 0.0158\n",
            "Epoch 109/600\n",
            "67/67 [==============================] - 1s 16ms/step - loss: 3.7628e-04 - mean_absolute_error: 0.0146\n",
            "Epoch 110/600\n",
            "67/67 [==============================] - 1s 16ms/step - loss: 3.7154e-04 - mean_absolute_error: 0.0147\n",
            "Epoch 111/600\n",
            "67/67 [==============================] - 1s 16ms/step - loss: 4.0386e-04 - mean_absolute_error: 0.0151\n",
            "Epoch 112/600\n",
            "67/67 [==============================] - 1s 16ms/step - loss: 3.6515e-04 - mean_absolute_error: 0.0142\n",
            "Epoch 113/600\n",
            "67/67 [==============================] - 1s 16ms/step - loss: 4.3271e-04 - mean_absolute_error: 0.0158\n",
            "Epoch 114/600\n",
            "67/67 [==============================] - 1s 16ms/step - loss: 3.8409e-04 - mean_absolute_error: 0.0147\n",
            "Epoch 115/600\n",
            "67/67 [==============================] - 1s 16ms/step - loss: 4.0156e-04 - mean_absolute_error: 0.0152\n",
            "Epoch 116/600\n",
            "67/67 [==============================] - 1s 16ms/step - loss: 3.8809e-04 - mean_absolute_error: 0.0148\n",
            "Epoch 117/600\n",
            "67/67 [==============================] - 1s 16ms/step - loss: 3.7291e-04 - mean_absolute_error: 0.0144\n",
            "Epoch 118/600\n",
            "67/67 [==============================] - 1s 17ms/step - loss: 4.0372e-04 - mean_absolute_error: 0.0152\n",
            "Epoch 119/600\n",
            "67/67 [==============================] - 1s 16ms/step - loss: 4.2046e-04 - mean_absolute_error: 0.0154\n",
            "Epoch 120/600\n",
            "67/67 [==============================] - 1s 16ms/step - loss: 4.2913e-04 - mean_absolute_error: 0.0155\n",
            "Epoch 121/600\n",
            "67/67 [==============================] - 1s 16ms/step - loss: 4.4816e-04 - mean_absolute_error: 0.0159\n",
            "Epoch 122/600\n",
            "67/67 [==============================] - 1s 16ms/step - loss: 4.2902e-04 - mean_absolute_error: 0.0155\n",
            "Epoch 123/600\n",
            "67/67 [==============================] - 1s 16ms/step - loss: 3.9348e-04 - mean_absolute_error: 0.0150\n",
            "Epoch 124/600\n",
            "67/67 [==============================] - 1s 16ms/step - loss: 3.9682e-04 - mean_absolute_error: 0.0148\n",
            "Epoch 125/600\n",
            "67/67 [==============================] - 1s 16ms/step - loss: 4.1122e-04 - mean_absolute_error: 0.0148\n",
            "Epoch 126/600\n",
            "67/67 [==============================] - 1s 16ms/step - loss: 4.3535e-04 - mean_absolute_error: 0.0156\n",
            "Epoch 127/600\n",
            "67/67 [==============================] - 1s 16ms/step - loss: 4.4990e-04 - mean_absolute_error: 0.0160\n",
            "Epoch 128/600\n",
            "67/67 [==============================] - 1s 16ms/step - loss: 3.9726e-04 - mean_absolute_error: 0.0148\n",
            "Epoch 129/600\n",
            "67/67 [==============================] - 1s 16ms/step - loss: 4.0035e-04 - mean_absolute_error: 0.0153\n",
            "Epoch 130/600\n",
            "67/67 [==============================] - 1s 16ms/step - loss: 4.0959e-04 - mean_absolute_error: 0.0148\n",
            "Epoch 00130: early stopping\n"
          ],
          "name": "stdout"
        },
        {
          "output_type": "execute_result",
          "data": {
            "text/plain": [
              "<tensorflow.python.keras.callbacks.History at 0x7f2620207350>"
            ]
          },
          "metadata": {
            "tags": []
          },
          "execution_count": 152
        }
      ]
    },
    {
      "cell_type": "markdown",
      "metadata": {
        "id": "RtFahmEgGAzZ"
      },
      "source": [
        "#**5-Teste da rede**"
      ]
    },
    {
      "cell_type": "markdown",
      "metadata": {
        "id": "QSWSKW8nqeA0"
      },
      "source": [
        "##**5.1-Importando os dados para teste**"
      ]
    },
    {
      "cell_type": "code",
      "metadata": {
        "id": "4X6-ArtKUdpD"
      },
      "source": [
        "#criando a base de dados teste\n",
        "base_teste = pd.read_csv('PETR4-teste.csv')\n",
        "base_teste = base_teste.drop('Date', axis = 1)"
      ],
      "execution_count": 153,
      "outputs": []
    },
    {
      "cell_type": "code",
      "metadata": {
        "colab": {
          "base_uri": "https://localhost:8080/",
          "height": 297
        },
        "id": "dXOp2vDcpAvA",
        "outputId": "fd9688de-3dbf-4380-c735-4b384573ab3a"
      },
      "source": [
        "#valores estatísticos\n",
        "base_teste.describe()"
      ],
      "execution_count": 154,
      "outputs": [
        {
          "output_type": "execute_result",
          "data": {
            "text/html": [
              "<div>\n",
              "<style scoped>\n",
              "    .dataframe tbody tr th:only-of-type {\n",
              "        vertical-align: middle;\n",
              "    }\n",
              "\n",
              "    .dataframe tbody tr th {\n",
              "        vertical-align: top;\n",
              "    }\n",
              "\n",
              "    .dataframe thead th {\n",
              "        text-align: right;\n",
              "    }\n",
              "</style>\n",
              "<table border=\"1\" class=\"dataframe\">\n",
              "  <thead>\n",
              "    <tr style=\"text-align: right;\">\n",
              "      <th></th>\n",
              "      <th>Open</th>\n",
              "      <th>High</th>\n",
              "      <th>Low</th>\n",
              "      <th>Close</th>\n",
              "      <th>Adj Close</th>\n",
              "      <th>Volume</th>\n",
              "    </tr>\n",
              "  </thead>\n",
              "  <tbody>\n",
              "    <tr>\n",
              "      <th>count</th>\n",
              "      <td>247.000000</td>\n",
              "      <td>247.000000</td>\n",
              "      <td>247.000000</td>\n",
              "      <td>247.000000</td>\n",
              "      <td>247.000000</td>\n",
              "      <td>2.470000e+02</td>\n",
              "    </tr>\n",
              "    <tr>\n",
              "      <th>mean</th>\n",
              "      <td>27.264291</td>\n",
              "      <td>27.556883</td>\n",
              "      <td>26.938057</td>\n",
              "      <td>27.248988</td>\n",
              "      <td>26.557694</td>\n",
              "      <td>5.283958e+07</td>\n",
              "    </tr>\n",
              "    <tr>\n",
              "      <th>std</th>\n",
              "      <td>1.668801</td>\n",
              "      <td>1.658077</td>\n",
              "      <td>1.648094</td>\n",
              "      <td>1.655566</td>\n",
              "      <td>1.724097</td>\n",
              "      <td>2.451955e+07</td>\n",
              "    </tr>\n",
              "    <tr>\n",
              "      <th>min</th>\n",
              "      <td>22.549999</td>\n",
              "      <td>24.190001</td>\n",
              "      <td>22.280001</td>\n",
              "      <td>23.910000</td>\n",
              "      <td>23.284782</td>\n",
              "      <td>1.904990e+07</td>\n",
              "    </tr>\n",
              "    <tr>\n",
              "      <th>25%</th>\n",
              "      <td>26.155000</td>\n",
              "      <td>26.370001</td>\n",
              "      <td>25.814999</td>\n",
              "      <td>26.064999</td>\n",
              "      <td>25.310672</td>\n",
              "      <td>3.731705e+07</td>\n",
              "    </tr>\n",
              "    <tr>\n",
              "      <th>50%</th>\n",
              "      <td>27.150000</td>\n",
              "      <td>27.430000</td>\n",
              "      <td>26.870001</td>\n",
              "      <td>27.129999</td>\n",
              "      <td>26.422461</td>\n",
              "      <td>4.850220e+07</td>\n",
              "    </tr>\n",
              "    <tr>\n",
              "      <th>75%</th>\n",
              "      <td>28.205000</td>\n",
              "      <td>28.445000</td>\n",
              "      <td>27.870001</td>\n",
              "      <td>28.220001</td>\n",
              "      <td>27.386540</td>\n",
              "      <td>6.118210e+07</td>\n",
              "    </tr>\n",
              "    <tr>\n",
              "      <th>max</th>\n",
              "      <td>30.889999</td>\n",
              "      <td>31.230000</td>\n",
              "      <td>30.500000</td>\n",
              "      <td>30.969999</td>\n",
              "      <td>30.544973</td>\n",
              "      <td>2.273076e+08</td>\n",
              "    </tr>\n",
              "  </tbody>\n",
              "</table>\n",
              "</div>"
            ],
            "text/plain": [
              "             Open        High         Low       Close   Adj Close        Volume\n",
              "count  247.000000  247.000000  247.000000  247.000000  247.000000  2.470000e+02\n",
              "mean    27.264291   27.556883   26.938057   27.248988   26.557694  5.283958e+07\n",
              "std      1.668801    1.658077    1.648094    1.655566    1.724097  2.451955e+07\n",
              "min     22.549999   24.190001   22.280001   23.910000   23.284782  1.904990e+07\n",
              "25%     26.155000   26.370001   25.814999   26.064999   25.310672  3.731705e+07\n",
              "50%     27.150000   27.430000   26.870001   27.129999   26.422461  4.850220e+07\n",
              "75%     28.205000   28.445000   27.870001   28.220001   27.386540  6.118210e+07\n",
              "max     30.889999   31.230000   30.500000   30.969999   30.544973  2.273076e+08"
            ]
          },
          "metadata": {
            "tags": []
          },
          "execution_count": 154
        }
      ]
    },
    {
      "cell_type": "markdown",
      "metadata": {
        "id": "Cw-NIb9EpatP"
      },
      "source": [
        "##**5.2-Tratando os Valores Faltantes**"
      ]
    },
    {
      "cell_type": "code",
      "metadata": {
        "colab": {
          "base_uri": "https://localhost:8080/"
        },
        "id": "lthEX_TZniHb",
        "outputId": "59a5fa30-ff7a-4c29-fbb3-d836db5ee005"
      },
      "source": [
        "#valores faltantes\n",
        "base_teste.isna().sum()"
      ],
      "execution_count": 155,
      "outputs": [
        {
          "output_type": "execute_result",
          "data": {
            "text/plain": [
              "Open         1\n",
              "High         1\n",
              "Low          1\n",
              "Close        1\n",
              "Adj Close    1\n",
              "Volume       1\n",
              "dtype: int64"
            ]
          },
          "metadata": {
            "tags": []
          },
          "execution_count": 155
        }
      ]
    },
    {
      "cell_type": "code",
      "metadata": {
        "colab": {
          "base_uri": "https://localhost:8080/",
          "height": 80
        },
        "id": "uiH2j_UNpjqk",
        "outputId": "73427e5f-a99d-437a-cab2-43c4a26a0d9d"
      },
      "source": [
        "#encontrando onde os valores faltantes estão\n",
        "base_teste.loc[pd.isnull(base_teste['Open'])]\n",
        "base_teste.loc[pd.isnull(base_teste['High'])]\n",
        "base_teste.loc[pd.isnull(base_teste['Low'])]\n",
        "base_teste.loc[pd.isnull(base_teste['Close'])]\n",
        "base_teste.loc[pd.isnull(base_teste['Adj Close'])]\n",
        "base_teste.loc[pd.isnull(base_teste['Volume'])]"
      ],
      "execution_count": 156,
      "outputs": [
        {
          "output_type": "execute_result",
          "data": {
            "text/html": [
              "<div>\n",
              "<style scoped>\n",
              "    .dataframe tbody tr th:only-of-type {\n",
              "        vertical-align: middle;\n",
              "    }\n",
              "\n",
              "    .dataframe tbody tr th {\n",
              "        vertical-align: top;\n",
              "    }\n",
              "\n",
              "    .dataframe thead th {\n",
              "        text-align: right;\n",
              "    }\n",
              "</style>\n",
              "<table border=\"1\" class=\"dataframe\">\n",
              "  <thead>\n",
              "    <tr style=\"text-align: right;\">\n",
              "      <th></th>\n",
              "      <th>Open</th>\n",
              "      <th>High</th>\n",
              "      <th>Low</th>\n",
              "      <th>Close</th>\n",
              "      <th>Adj Close</th>\n",
              "      <th>Volume</th>\n",
              "    </tr>\n",
              "  </thead>\n",
              "  <tbody>\n",
              "    <tr>\n",
              "      <th>42</th>\n",
              "      <td>NaN</td>\n",
              "      <td>NaN</td>\n",
              "      <td>NaN</td>\n",
              "      <td>NaN</td>\n",
              "      <td>NaN</td>\n",
              "      <td>NaN</td>\n",
              "    </tr>\n",
              "  </tbody>\n",
              "</table>\n",
              "</div>"
            ],
            "text/plain": [
              "    Open  High  Low  Close  Adj Close  Volume\n",
              "42   NaN   NaN  NaN    NaN        NaN     NaN"
            ]
          },
          "metadata": {
            "tags": []
          },
          "execution_count": 156
        }
      ]
    },
    {
      "cell_type": "code",
      "metadata": {
        "id": "Bbw7axJ75lpn"
      },
      "source": [
        "#preenchendo os valores faltantes com o valor médio\n",
        "imputer = SimpleImputer(missing_values=np.nan, strategy='mean',verbose=0)\n",
        "imputer = imputer.fit(base_teste.iloc[:,0:6])\n",
        "base_teste.iloc[:,0:6] = imputer.transform(base_teste.iloc[:,0:6])"
      ],
      "execution_count": 157,
      "outputs": []
    },
    {
      "cell_type": "code",
      "metadata": {
        "colab": {
          "base_uri": "https://localhost:8080/",
          "height": 49
        },
        "id": "CXAi4QV8pw2x",
        "outputId": "4513f24e-8182-4bdd-ab84-6fc7c00a824c"
      },
      "source": [
        "#verificando novamente se ainda temos valores faltantes\n",
        "base_teste.loc[pd.isnull(base_teste['Open'])]\n",
        "base_teste.loc[pd.isnull(base_teste['High'])]\n",
        "base_teste.loc[pd.isnull(base_teste['Low'])]\n",
        "base_teste.loc[pd.isnull(base_teste['Close'])]\n",
        "base_teste.loc[pd.isnull(base_teste['Adj Close'])]\n",
        "base_teste.loc[pd.isnull(base_teste['Volume'])]"
      ],
      "execution_count": 159,
      "outputs": [
        {
          "output_type": "execute_result",
          "data": {
            "text/html": [
              "<div>\n",
              "<style scoped>\n",
              "    .dataframe tbody tr th:only-of-type {\n",
              "        vertical-align: middle;\n",
              "    }\n",
              "\n",
              "    .dataframe tbody tr th {\n",
              "        vertical-align: top;\n",
              "    }\n",
              "\n",
              "    .dataframe thead th {\n",
              "        text-align: right;\n",
              "    }\n",
              "</style>\n",
              "<table border=\"1\" class=\"dataframe\">\n",
              "  <thead>\n",
              "    <tr style=\"text-align: right;\">\n",
              "      <th></th>\n",
              "      <th>Open</th>\n",
              "      <th>High</th>\n",
              "      <th>Low</th>\n",
              "      <th>Close</th>\n",
              "      <th>Adj Close</th>\n",
              "      <th>Volume</th>\n",
              "    </tr>\n",
              "  </thead>\n",
              "  <tbody>\n",
              "  </tbody>\n",
              "</table>\n",
              "</div>"
            ],
            "text/plain": [
              "Empty DataFrame\n",
              "Columns: [Open, High, Low, Close, Adj Close, Volume]\n",
              "Index: []"
            ]
          },
          "metadata": {
            "tags": []
          },
          "execution_count": 159
        }
      ]
    },
    {
      "cell_type": "markdown",
      "metadata": {
        "id": "X1nZpS8Rp2zr"
      },
      "source": [
        "#**5.3-Tratamento dos valores nulos (iguais a 0)**"
      ]
    },
    {
      "cell_type": "code",
      "metadata": {
        "colab": {
          "base_uri": "https://localhost:8080/"
        },
        "id": "XYwer-dip-KB",
        "outputId": "5e9b21e8-b344-4b26-e4bb-0c9001871c2c"
      },
      "source": [
        "#valores nulos\n",
        "(base_teste == 0).sum()"
      ],
      "execution_count": 160,
      "outputs": [
        {
          "output_type": "execute_result",
          "data": {
            "text/plain": [
              "Open         0\n",
              "High         0\n",
              "Low          0\n",
              "Close        0\n",
              "Adj Close    0\n",
              "Volume       0\n",
              "dtype: int64"
            ]
          },
          "metadata": {
            "tags": []
          },
          "execution_count": 160
        }
      ]
    },
    {
      "cell_type": "code",
      "metadata": {
        "colab": {
          "base_uri": "https://localhost:8080/",
          "height": 49
        },
        "id": "sFBo6iR5qEpS",
        "outputId": "fb9c39de-1a2f-470e-a205-4819782ceea9"
      },
      "source": [
        "#Encontrando os valores nulos\n",
        "base_teste.loc[base_teste['Volume'] == 0]"
      ],
      "execution_count": 124,
      "outputs": [
        {
          "output_type": "execute_result",
          "data": {
            "text/html": [
              "<div>\n",
              "<style scoped>\n",
              "    .dataframe tbody tr th:only-of-type {\n",
              "        vertical-align: middle;\n",
              "    }\n",
              "\n",
              "    .dataframe tbody tr th {\n",
              "        vertical-align: top;\n",
              "    }\n",
              "\n",
              "    .dataframe thead th {\n",
              "        text-align: right;\n",
              "    }\n",
              "</style>\n",
              "<table border=\"1\" class=\"dataframe\">\n",
              "  <thead>\n",
              "    <tr style=\"text-align: right;\">\n",
              "      <th></th>\n",
              "      <th>Open</th>\n",
              "      <th>High</th>\n",
              "      <th>Low</th>\n",
              "      <th>Close</th>\n",
              "      <th>Adj Close</th>\n",
              "      <th>Volume</th>\n",
              "    </tr>\n",
              "  </thead>\n",
              "  <tbody>\n",
              "  </tbody>\n",
              "</table>\n",
              "</div>"
            ],
            "text/plain": [
              "Empty DataFrame\n",
              "Columns: [Open, High, Low, Close, Adj Close, Volume]\n",
              "Index: []"
            ]
          },
          "metadata": {
            "tags": []
          },
          "execution_count": 124
        }
      ]
    },
    {
      "cell_type": "code",
      "metadata": {
        "id": "ofkU-XjcqOQE"
      },
      "source": [
        "#preenchendo os valores nulos com o valor médio\n",
        "imputer = SimpleImputer(missing_values=0, strategy='mean',verbose=0)\n",
        "imputer = imputer.fit(base_teste.iloc[:,0:6])\n",
        "base_teste.iloc[:,0:6] = imputer.transform(base_teste.iloc[:,0:6])"
      ],
      "execution_count": 125,
      "outputs": []
    },
    {
      "cell_type": "code",
      "metadata": {
        "colab": {
          "base_uri": "https://localhost:8080/",
          "height": 49
        },
        "id": "pYUeIwbnppRT",
        "outputId": "6186bb47-2ebd-4648-d51d-c1f15ee778b4"
      },
      "source": [
        "#Verificando novamente se tem valores nulos\n",
        "base_teste.loc[base_teste['Volume'] == 0]"
      ],
      "execution_count": 126,
      "outputs": [
        {
          "output_type": "execute_result",
          "data": {
            "text/html": [
              "<div>\n",
              "<style scoped>\n",
              "    .dataframe tbody tr th:only-of-type {\n",
              "        vertical-align: middle;\n",
              "    }\n",
              "\n",
              "    .dataframe tbody tr th {\n",
              "        vertical-align: top;\n",
              "    }\n",
              "\n",
              "    .dataframe thead th {\n",
              "        text-align: right;\n",
              "    }\n",
              "</style>\n",
              "<table border=\"1\" class=\"dataframe\">\n",
              "  <thead>\n",
              "    <tr style=\"text-align: right;\">\n",
              "      <th></th>\n",
              "      <th>Open</th>\n",
              "      <th>High</th>\n",
              "      <th>Low</th>\n",
              "      <th>Close</th>\n",
              "      <th>Adj Close</th>\n",
              "      <th>Volume</th>\n",
              "    </tr>\n",
              "  </thead>\n",
              "  <tbody>\n",
              "  </tbody>\n",
              "</table>\n",
              "</div>"
            ],
            "text/plain": [
              "Empty DataFrame\n",
              "Columns: [Open, High, Low, Close, Adj Close, Volume]\n",
              "Index: []"
            ]
          },
          "metadata": {
            "tags": []
          },
          "execution_count": 126
        }
      ]
    },
    {
      "cell_type": "markdown",
      "metadata": {
        "id": "N79Bjk6Yq6ci"
      },
      "source": [
        "##**5.4-Preparando a estrutura para teste**"
      ]
    },
    {
      "cell_type": "code",
      "metadata": {
        "id": "UFINH9OzUfDk"
      },
      "source": [
        "#concatenando a base de dados teste com o base de treinamento\n",
        "preco_real_teste = base_teste.iloc[:, 3:4].values\n",
        "frames = [base, base_teste]\n",
        "base_completa = pd.concat(frames)"
      ],
      "execution_count": 161,
      "outputs": []
    },
    {
      "cell_type": "code",
      "metadata": {
        "id": "-CdLW8IZUhLY"
      },
      "source": [
        "#pegando os 90 registros anteriores para percorrer a base teste e colocando no\n",
        "#no formato np.array\n",
        "entradas = base_completa[len(base_completa) - len(base_teste) - 90:].values\n",
        "entradas = normalizador.transform(entradas)\n",
        "Percorrer_teste = []\n",
        "for i in range(90, 338): \n",
        "    Percorrer_teste.append(entradas[i-90:i, 0:6])\n",
        "Percorrer_teste = np.array(Percorrer_teste)"
      ],
      "execution_count": 162,
      "outputs": []
    },
    {
      "cell_type": "code",
      "metadata": {
        "id": "_YdD2ZcaUi1w"
      },
      "source": [
        "#resultado da predição no formato MinMaxScaler\n",
        "previsoes = regressor.predict(Percorrer_teste)"
      ],
      "execution_count": 163,
      "outputs": []
    },
    {
      "cell_type": "code",
      "metadata": {
        "colab": {
          "base_uri": "https://localhost:8080/"
        },
        "id": "jQS0Ql4tUk2Z",
        "outputId": "ba51a143-512f-48b5-cd5f-8dc15a1125ab"
      },
      "source": [
        "#convertendo para a escala MinMaxScaler \n",
        "normalizador_previsao = MinMaxScaler(feature_range=(0,1))\n",
        "normalizador_previsao.fit_transform(base_treinamento[:,3:4])"
      ],
      "execution_count": 164,
      "outputs": [
        {
          "output_type": "execute_result",
          "data": {
            "text/plain": [
              "array([[0.99459459],\n",
              "       [0.98498498],\n",
              "       [1.        ],\n",
              "       ...,\n",
              "       [0.52492492],\n",
              "       [0.52462462],\n",
              "       [0.55495495]])"
            ]
          },
          "metadata": {
            "tags": []
          },
          "execution_count": 164
        }
      ]
    },
    {
      "cell_type": "code",
      "metadata": {
        "id": "MP_GBjYJUnFe"
      },
      "source": [
        "#visualisando a previsão com no formato original\n",
        "previsoes = normalizador_previsao.inverse_transform(previsoes)"
      ],
      "execution_count": 165,
      "outputs": []
    },
    {
      "cell_type": "markdown",
      "metadata": {
        "id": "lEjN0sRdrGmK"
      },
      "source": [
        "##**6-Análise dos resuldatos**"
      ]
    },
    {
      "cell_type": "code",
      "metadata": {
        "id": "beWuUgy2Uoe_",
        "colab": {
          "base_uri": "https://localhost:8080/",
          "height": 485
        },
        "outputId": "37b97718-8f5a-4f1c-fc15-f00116606831"
      },
      "source": [
        "#Visualizando o gráfico da Previsão da rede\n",
        "plt.plot(preco_real_teste, color = 'red', label = 'Preço real')\n",
        "plt.plot(previsoes, color = 'blue', label = 'Previsões')\n",
        "plt.title('Previsão do preço das ações')\n",
        "plt.xlabel('Tempo em dias')\n",
        "plt.ylabel('Preço das ações')\n",
        "plt.legend()\n",
        "plt.show()"
      ],
      "execution_count": 166,
      "outputs": [
        {
          "output_type": "display_data",
          "data": {
            "image/png": "[encoded data removed]",
            "text/plain": [
              "<Figure size 1800x864 with 1 Axes>"
            ]
          },
          "metadata": {
            "tags": []
          }
        }
      ]
    },
    {
      "cell_type": "code",
      "metadata": {
        "id": "xmo18CNFUrpy",
        "colab": {
          "base_uri": "https://localhost:8080/"
        },
        "outputId": "57293711-7773-4069-e946-474e34c63b89"
      },
      "source": [
        "previsoes.mean()"
      ],
      "execution_count": 168,
      "outputs": [
        {
          "output_type": "execute_result",
          "data": {
            "text/plain": [
              "27.431877"
            ]
          },
          "metadata": {
            "tags": []
          },
          "execution_count": 168
        }
      ]
    },
    {
      "cell_type": "code",
      "metadata": {
        "id": "hKA0-lbgUtH-",
        "colab": {
          "base_uri": "https://localhost:8080/"
        },
        "outputId": "a5ca7f2e-7d9f-4aed-a5aa-65733ca054d0"
      },
      "source": [
        "preco_real_teste.mean()"
      ],
      "execution_count": 169,
      "outputs": [
        {
          "output_type": "execute_result",
          "data": {
            "text/plain": [
              "27.248987858299596"
            ]
          },
          "metadata": {
            "tags": []
          },
          "execution_count": 169
        }
      ]
    }
  ]
}