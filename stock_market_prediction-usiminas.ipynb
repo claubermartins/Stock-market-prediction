{
  "nbformat": 4,
  "nbformat_minor": 0,
  "metadata": {
    "colab": {
      "name": "stock-market-prediction.ipynb",
      "provenance": [],
      "collapsed_sections": [
        "UiXZAchqFuC-",
        "SuPg1RFvQyMS",
        "8MLClRMWPwTL",
        "hCiQYMqPGHuG",
        "4IDwP-XV_Ohd",
        "RtFahmEgGAzZ"
      ],
      "authorship_tag": "ABX9TyOtArju0hNF2uKYdExxH6dw",
      "include_colab_link": true
    },
    "kernelspec": {
      "name": "python3",
      "display_name": "Python 3"
    },
    "accelerator": "GPU"
  },
  "cells": [
    {
      "cell_type": "markdown",
      "metadata": {
        "id": "view-in-github",
        "colab_type": "text"
      },
      "source": [
        "<a href=\"https://colab.research.google.com/github/claubermartins/Stock-market-prediction/blob/main/stock_market_prediction-usiminas.ipynb\" target=\"_parent\"><img src=\"https://colab.research.google.com/assets/colab-badge.svg\" alt=\"Open In Colab\"/></a>"
      ]
    },
    {
      "cell_type": "code",
      "metadata": {
        "colab": {
          "base_uri": "https://localhost:8080/"
        },
        "id": "XjlKRgiDRdpq",
        "outputId": "01fd3ad9-3db1-46ea-c94c-43add39b380c"
      },
      "source": [
        "pip install inflection"
      ],
      "execution_count": 168,
      "outputs": [
        {
          "output_type": "stream",
          "text": [
            "Requirement already satisfied: inflection in /usr/local/lib/python3.7/dist-packages (0.5.1)\n"
          ],
          "name": "stdout"
        }
      ]
    },
    {
      "cell_type": "markdown",
      "metadata": {
        "id": "UiXZAchqFuC-"
      },
      "source": [
        "#**1-Importando bibliotecas**"
      ]
    },
    {
      "cell_type": "code",
      "metadata": {
        "id": "ZjQg-8c_--wP"
      },
      "source": [
        "from tensorflow.keras.models import Sequential \n",
        "from tensorflow.keras.layers import Dense, Dropout, LSTM\n",
        "from tensorflow.keras.callbacks import EarlyStopping \n",
        "from sklearn.preprocessing import MinMaxScaler\n",
        "from sklearn.impute import SimpleImputer\n",
        "import numpy as np\n",
        "import pandas as pd\n",
        "import matplotlib.pyplot as plt\n",
        "import tensorflow as tf\n",
        "import math\n",
        "import seaborn as sns\n",
        "import datetime\n",
        "import inflection\n",
        "from IPython.core.display import HTML"
      ],
      "execution_count": 169,
      "outputs": []
    },
    {
      "cell_type": "markdown",
      "metadata": {
        "id": "SuPg1RFvQyMS"
      },
      "source": [
        "#**2-Funções auxiliares para o Jupyter Notebook**"
      ]
    },
    {
      "cell_type": "code",
      "metadata": {
        "id": "2vKvPdvDPJHc"
      },
      "source": [
        "def jupyter_settings():\n",
        "    %matplotlib inline\n",
        "    %pylab inline\n",
        "    \n",
        "    plt.style.use( 'bmh' )\n",
        "    plt.rcParams['figure.figsize'] = [25, 12]\n",
        "    plt.rcParams['font.size'] = 24\n",
        "    \n",
        "    display( HTML( '<style>.container { width:100% !important; }</style>') )\n",
        "    pd.options.display.max_columns = None\n",
        "    pd.options.display.max_rows = None\n",
        "    pd.set_option( 'display.expand_frame_repr', False )\n",
        "    \n",
        "    sns.set()"
      ],
      "execution_count": 170,
      "outputs": []
    },
    {
      "cell_type": "code",
      "metadata": {
        "colab": {
          "base_uri": "https://localhost:8080/",
          "height": 34
        },
        "id": "PGJn-AaoMxuy",
        "outputId": "307745cd-4882-4e75-8059-40907397f969"
      },
      "source": [
        "jupyter_settings()"
      ],
      "execution_count": 171,
      "outputs": [
        {
          "output_type": "stream",
          "text": [
            "Populating the interactive namespace from numpy and matplotlib\n"
          ],
          "name": "stdout"
        },
        {
          "output_type": "display_data",
          "data": {
            "text/html": [
              "<style>.container { width:100% !important; }</style>"
            ],
            "text/plain": [
              "<IPython.core.display.HTML object>"
            ]
          },
          "metadata": {
            "tags": []
          }
        }
      ]
    },
    {
      "cell_type": "markdown",
      "metadata": {
        "id": "c_3core8Shq6"
      },
      "source": [
        "#**2.1Método de importação de arquivos do Google Colab**"
      ]
    },
    {
      "cell_type": "code",
      "metadata": {
        "id": "cTk_YEVdyms3",
        "colab": {
          "resources": {
            "http://localhost:8080/nbextensions/google.colab/files.js": {
              "data": "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",
              "ok": true,
              "headers": [
                [
                  "content-type",
                  "application/javascript"
                ]
              ],
              "status": 200,
              "status_text": ""
            }
          },
          "base_uri": "https://localhost:8080/",
          "height": 157
        },
        "outputId": "32863394-d203-461a-9d4a-3ccb2d951e0c"
      },
      "source": [
        "from google.colab import files\n",
        "upload = files.upload()\n",
        "print(\"downloaded files: \")\n",
        "print(*upload, sep = \"\\n\")"
      ],
      "execution_count": 172,
      "outputs": [
        {
          "output_type": "display_data",
          "data": {
            "text/html": [
              "\n",
              "     <input type=\"file\" id=\"files-e87af447-fee4-48ce-ae7f-60851d969468\" name=\"files[]\" multiple disabled\n",
              "        style=\"border:none\" />\n",
              "     <output id=\"result-e87af447-fee4-48ce-ae7f-60851d969468\">\n",
              "      Upload widget is only available when the cell has been executed in the\n",
              "      current browser session. Please rerun this cell to enable.\n",
              "      </output>\n",
              "      <script src=\"/nbextensions/google.colab/files.js\"></script> "
            ],
            "text/plain": [
              "<IPython.core.display.HTML object>"
            ]
          },
          "metadata": {
            "tags": []
          }
        },
        {
          "output_type": "stream",
          "text": [
            "Saving USIM5-teste.csv to USIM5-teste.csv\n",
            "Saving USIM5-treinamento.csv to USIM5-treinamento.csv\n",
            "downloaded files: \n",
            "USIM5-teste.csv\n",
            "USIM5-treinamento.csv\n"
          ],
          "name": "stdout"
        }
      ]
    },
    {
      "cell_type": "markdown",
      "metadata": {
        "id": "8MLClRMWPwTL"
      },
      "source": [
        "#**3-Tratamento dos dados**"
      ]
    },
    {
      "cell_type": "markdown",
      "metadata": {
        "id": "DOJanakhS-s2"
      },
      "source": [
        "##**3.1-Importando os dados**"
      ]
    },
    {
      "cell_type": "code",
      "metadata": {
        "id": "vYFCwA5GTB2j"
      },
      "source": [
        "base = pd.read_csv('USIM5-treinamento.csv')\n",
        "base = base.drop('Date', axis = 1)"
      ],
      "execution_count": 176,
      "outputs": []
    },
    {
      "cell_type": "code",
      "metadata": {
        "colab": {
          "base_uri": "https://localhost:8080/",
          "height": 297
        },
        "id": "SD9oSvK-NE0Y",
        "outputId": "ff85c804-b545-47ce-cf6f-a3806f6de34e"
      },
      "source": [
        "#valores estatísticos\n",
        "base.describe()"
      ],
      "execution_count": 177,
      "outputs": [
        {
          "output_type": "execute_result",
          "data": {
            "text/html": [
              "<div>\n",
              "<style scoped>\n",
              "    .dataframe tbody tr th:only-of-type {\n",
              "        vertical-align: middle;\n",
              "    }\n",
              "\n",
              "    .dataframe tbody tr th {\n",
              "        vertical-align: top;\n",
              "    }\n",
              "\n",
              "    .dataframe thead th {\n",
              "        text-align: right;\n",
              "    }\n",
              "</style>\n",
              "<table border=\"1\" class=\"dataframe\">\n",
              "  <thead>\n",
              "    <tr style=\"text-align: right;\">\n",
              "      <th></th>\n",
              "      <th>Open</th>\n",
              "      <th>High</th>\n",
              "      <th>Low</th>\n",
              "      <th>Close</th>\n",
              "      <th>Adj Close</th>\n",
              "      <th>Volume</th>\n",
              "    </tr>\n",
              "  </thead>\n",
              "  <tbody>\n",
              "    <tr>\n",
              "      <th>count</th>\n",
              "      <td>2231.000000</td>\n",
              "      <td>2231.000000</td>\n",
              "      <td>2231.000000</td>\n",
              "      <td>2231.000000</td>\n",
              "      <td>2231.000000</td>\n",
              "      <td>2.231000e+03</td>\n",
              "    </tr>\n",
              "    <tr>\n",
              "      <th>mean</th>\n",
              "      <td>10.007257</td>\n",
              "      <td>10.185596</td>\n",
              "      <td>9.808642</td>\n",
              "      <td>9.979787</td>\n",
              "      <td>9.542941</td>\n",
              "      <td>1.128591e+07</td>\n",
              "    </tr>\n",
              "    <tr>\n",
              "      <th>std</th>\n",
              "      <td>6.413546</td>\n",
              "      <td>6.483346</td>\n",
              "      <td>6.330374</td>\n",
              "      <td>6.402766</td>\n",
              "      <td>5.965251</td>\n",
              "      <td>9.409252e+06</td>\n",
              "    </tr>\n",
              "    <tr>\n",
              "      <th>min</th>\n",
              "      <td>0.840000</td>\n",
              "      <td>0.890000</td>\n",
              "      <td>0.820000</td>\n",
              "      <td>0.850000</td>\n",
              "      <td>0.824459</td>\n",
              "      <td>0.000000e+00</td>\n",
              "    </tr>\n",
              "    <tr>\n",
              "      <th>25%</th>\n",
              "      <td>4.950000</td>\n",
              "      <td>5.045000</td>\n",
              "      <td>4.850000</td>\n",
              "      <td>4.920000</td>\n",
              "      <td>4.772164</td>\n",
              "      <td>5.442300e+06</td>\n",
              "    </tr>\n",
              "    <tr>\n",
              "      <th>50%</th>\n",
              "      <td>9.090000</td>\n",
              "      <td>9.300000</td>\n",
              "      <td>8.870000</td>\n",
              "      <td>9.030000</td>\n",
              "      <td>8.768293</td>\n",
              "      <td>8.232200e+06</td>\n",
              "    </tr>\n",
              "    <tr>\n",
              "      <th>75%</th>\n",
              "      <td>11.900000</td>\n",
              "      <td>12.120000</td>\n",
              "      <td>11.700000</td>\n",
              "      <td>11.895000</td>\n",
              "      <td>11.456619</td>\n",
              "      <td>1.430935e+07</td>\n",
              "    </tr>\n",
              "    <tr>\n",
              "      <th>max</th>\n",
              "      <td>31.825001</td>\n",
              "      <td>32.224998</td>\n",
              "      <td>31.405001</td>\n",
              "      <td>31.530001</td>\n",
              "      <td>29.369699</td>\n",
              "      <td>8.992150e+07</td>\n",
              "    </tr>\n",
              "  </tbody>\n",
              "</table>\n",
              "</div>"
            ],
            "text/plain": [
              "              Open         High          Low        Close    Adj Close        Volume\n",
              "count  2231.000000  2231.000000  2231.000000  2231.000000  2231.000000  2.231000e+03\n",
              "mean     10.007257    10.185596     9.808642     9.979787     9.542941  1.128591e+07\n",
              "std       6.413546     6.483346     6.330374     6.402766     5.965251  9.409252e+06\n",
              "min       0.840000     0.890000     0.820000     0.850000     0.824459  0.000000e+00\n",
              "25%       4.950000     5.045000     4.850000     4.920000     4.772164  5.442300e+06\n",
              "50%       9.090000     9.300000     8.870000     9.030000     8.768293  8.232200e+06\n",
              "75%      11.900000    12.120000    11.700000    11.895000    11.456619  1.430935e+07\n",
              "max      31.825001    32.224998    31.405001    31.530001    29.369699  8.992150e+07"
            ]
          },
          "metadata": {
            "tags": []
          },
          "execution_count": 177
        }
      ]
    },
    {
      "cell_type": "code",
      "metadata": {
        "colab": {
          "base_uri": "https://localhost:8080/"
        },
        "id": "fbKUPwPSNJqm",
        "outputId": "b1399635-381f-439c-d3b2-2b1fa61175c7"
      },
      "source": [
        "base.dtypes"
      ],
      "execution_count": 178,
      "outputs": [
        {
          "output_type": "execute_result",
          "data": {
            "text/plain": [
              "Open         float64\n",
              "High         float64\n",
              "Low          float64\n",
              "Close        float64\n",
              "Adj Close    float64\n",
              "Volume       float64\n",
              "dtype: object"
            ]
          },
          "metadata": {
            "tags": []
          },
          "execution_count": 178
        }
      ]
    },
    {
      "cell_type": "markdown",
      "metadata": {
        "id": "bCTD3wo2TfZF"
      },
      "source": [
        "##**3.2-Tratando os Valores Faltantes**"
      ]
    },
    {
      "cell_type": "code",
      "metadata": {
        "colab": {
          "base_uri": "https://localhost:8080/"
        },
        "id": "H60SOo8MTjjP",
        "outputId": "81eb8899-99bf-4fbf-d225-c258c3e5322a"
      },
      "source": [
        "#valores faltantes\n",
        "base.isna().sum()"
      ],
      "execution_count": 179,
      "outputs": [
        {
          "output_type": "execute_result",
          "data": {
            "text/plain": [
              "Open         1\n",
              "High         1\n",
              "Low          1\n",
              "Close        1\n",
              "Adj Close    1\n",
              "Volume       1\n",
              "dtype: int64"
            ]
          },
          "metadata": {
            "tags": []
          },
          "execution_count": 179
        }
      ]
    },
    {
      "cell_type": "code",
      "metadata": {
        "colab": {
          "base_uri": "https://localhost:8080/",
          "height": 80
        },
        "id": "H-DMfyHXTkdi",
        "outputId": "d6c64bcc-3bdf-474b-f9ea-f63024ce3bbf"
      },
      "source": [
        "#encontrando onde os valores faltantes estão\n",
        "base.loc[pd.isnull(base['Open'])]\n",
        "base.loc[pd.isnull(base['High'])]\n",
        "base.loc[pd.isnull(base['Low'])]\n",
        "base.loc[pd.isnull(base['Close'])]\n",
        "base.loc[pd.isnull(base['Adj Close'])]\n",
        "base.loc[pd.isnull(base['Volume'])]"
      ],
      "execution_count": 180,
      "outputs": [
        {
          "output_type": "execute_result",
          "data": {
            "text/html": [
              "<div>\n",
              "<style scoped>\n",
              "    .dataframe tbody tr th:only-of-type {\n",
              "        vertical-align: middle;\n",
              "    }\n",
              "\n",
              "    .dataframe tbody tr th {\n",
              "        vertical-align: top;\n",
              "    }\n",
              "\n",
              "    .dataframe thead th {\n",
              "        text-align: right;\n",
              "    }\n",
              "</style>\n",
              "<table border=\"1\" class=\"dataframe\">\n",
              "  <thead>\n",
              "    <tr style=\"text-align: right;\">\n",
              "      <th></th>\n",
              "      <th>Open</th>\n",
              "      <th>High</th>\n",
              "      <th>Low</th>\n",
              "      <th>Close</th>\n",
              "      <th>Adj Close</th>\n",
              "      <th>Volume</th>\n",
              "    </tr>\n",
              "  </thead>\n",
              "  <tbody>\n",
              "    <tr>\n",
              "      <th>2015</th>\n",
              "      <td>NaN</td>\n",
              "      <td>NaN</td>\n",
              "      <td>NaN</td>\n",
              "      <td>NaN</td>\n",
              "      <td>NaN</td>\n",
              "      <td>NaN</td>\n",
              "    </tr>\n",
              "  </tbody>\n",
              "</table>\n",
              "</div>"
            ],
            "text/plain": [
              "      Open  High  Low  Close  Adj Close  Volume\n",
              "2015   NaN   NaN  NaN    NaN        NaN     NaN"
            ]
          },
          "metadata": {
            "tags": []
          },
          "execution_count": 180
        }
      ]
    },
    {
      "cell_type": "code",
      "metadata": {
        "id": "6q0YFzy9TmPD"
      },
      "source": [
        "#preenchendo os valores nulos com o valor médio\n",
        "imputer = SimpleImputer(missing_values=np.nan, strategy='mean',verbose=0)\n",
        "imputer = imputer.fit(base.iloc[:,0:6])\n",
        "base.iloc[:,0:6] = imputer.transform(base.iloc[:,0:6])"
      ],
      "execution_count": 181,
      "outputs": []
    },
    {
      "cell_type": "code",
      "metadata": {
        "colab": {
          "base_uri": "https://localhost:8080/",
          "height": 49
        },
        "id": "gQC2HfFnTpe2",
        "outputId": "23b9e0d7-323e-491e-995c-0f8372ae465e"
      },
      "source": [
        "#verificando novamente se ainda temos valores faltantes\n",
        "base.loc[pd.isnull(base['Open'])]\n",
        "base.loc[pd.isnull(base['High'])]\n",
        "base.loc[pd.isnull(base['Low'])]\n",
        "base.loc[pd.isnull(base['Close'])]\n",
        "base.loc[pd.isnull(base['Adj Close'])]\n",
        "base.loc[pd.isnull(base['Volume'])]"
      ],
      "execution_count": 182,
      "outputs": [
        {
          "output_type": "execute_result",
          "data": {
            "text/html": [
              "<div>\n",
              "<style scoped>\n",
              "    .dataframe tbody tr th:only-of-type {\n",
              "        vertical-align: middle;\n",
              "    }\n",
              "\n",
              "    .dataframe tbody tr th {\n",
              "        vertical-align: top;\n",
              "    }\n",
              "\n",
              "    .dataframe thead th {\n",
              "        text-align: right;\n",
              "    }\n",
              "</style>\n",
              "<table border=\"1\" class=\"dataframe\">\n",
              "  <thead>\n",
              "    <tr style=\"text-align: right;\">\n",
              "      <th></th>\n",
              "      <th>Open</th>\n",
              "      <th>High</th>\n",
              "      <th>Low</th>\n",
              "      <th>Close</th>\n",
              "      <th>Adj Close</th>\n",
              "      <th>Volume</th>\n",
              "    </tr>\n",
              "  </thead>\n",
              "  <tbody>\n",
              "  </tbody>\n",
              "</table>\n",
              "</div>"
            ],
            "text/plain": [
              "Empty DataFrame\n",
              "Columns: [Open, High, Low, Close, Adj Close, Volume]\n",
              "Index: []"
            ]
          },
          "metadata": {
            "tags": []
          },
          "execution_count": 182
        }
      ]
    },
    {
      "cell_type": "markdown",
      "metadata": {
        "id": "_WuI_UbmTt3W"
      },
      "source": [
        "#**3.3-Tratamento dos valores nulos (iguais a 0)**"
      ]
    },
    {
      "cell_type": "code",
      "metadata": {
        "colab": {
          "base_uri": "https://localhost:8080/"
        },
        "id": "hyRiBN32Twb2",
        "outputId": "18878d36-366e-4e03-d8a5-f06b7858d234"
      },
      "source": [
        "#valores nulos\n",
        "(base == 0).sum()"
      ],
      "execution_count": 183,
      "outputs": [
        {
          "output_type": "execute_result",
          "data": {
            "text/plain": [
              "Open          0\n",
              "High          0\n",
              "Low           0\n",
              "Close         0\n",
              "Adj Close     0\n",
              "Volume       39\n",
              "dtype: int64"
            ]
          },
          "metadata": {
            "tags": []
          },
          "execution_count": 183
        }
      ]
    },
    {
      "cell_type": "code",
      "metadata": {
        "colab": {
          "base_uri": "https://localhost:8080/",
          "height": 1000
        },
        "id": "nQPTB9_TT3Dy",
        "outputId": "f4590931-eff2-40c4-ded9-82de736b8261"
      },
      "source": [
        "#Encontrando os valores nulos\n",
        "base.loc[base['Volume'] == 0]"
      ],
      "execution_count": 184,
      "outputs": [
        {
          "output_type": "execute_result",
          "data": {
            "text/html": [
              "<div>\n",
              "<style scoped>\n",
              "    .dataframe tbody tr th:only-of-type {\n",
              "        vertical-align: middle;\n",
              "    }\n",
              "\n",
              "    .dataframe tbody tr th {\n",
              "        vertical-align: top;\n",
              "    }\n",
              "\n",
              "    .dataframe thead th {\n",
              "        text-align: right;\n",
              "    }\n",
              "</style>\n",
              "<table border=\"1\" class=\"dataframe\">\n",
              "  <thead>\n",
              "    <tr style=\"text-align: right;\">\n",
              "      <th></th>\n",
              "      <th>Open</th>\n",
              "      <th>High</th>\n",
              "      <th>Low</th>\n",
              "      <th>Close</th>\n",
              "      <th>Adj Close</th>\n",
              "      <th>Volume</th>\n",
              "    </tr>\n",
              "  </thead>\n",
              "  <tbody>\n",
              "    <tr>\n",
              "      <th>48</th>\n",
              "      <td>27.815001</td>\n",
              "      <td>27.815001</td>\n",
              "      <td>27.815001</td>\n",
              "      <td>27.815001</td>\n",
              "      <td>25.838741</td>\n",
              "      <td>0.0</td>\n",
              "    </tr>\n",
              "    <tr>\n",
              "      <th>64</th>\n",
              "      <td>29.975000</td>\n",
              "      <td>29.975000</td>\n",
              "      <td>29.975000</td>\n",
              "      <td>29.975000</td>\n",
              "      <td>27.921242</td>\n",
              "      <td>0.0</td>\n",
              "    </tr>\n",
              "    <tr>\n",
              "      <th>80</th>\n",
              "      <td>28.055000</td>\n",
              "      <td>28.055000</td>\n",
              "      <td>28.055000</td>\n",
              "      <td>28.055000</td>\n",
              "      <td>26.132795</td>\n",
              "      <td>0.0</td>\n",
              "    </tr>\n",
              "    <tr>\n",
              "      <th>284</th>\n",
              "      <td>19.040001</td>\n",
              "      <td>19.040001</td>\n",
              "      <td>19.040001</td>\n",
              "      <td>19.040001</td>\n",
              "      <td>18.121393</td>\n",
              "      <td>0.0</td>\n",
              "    </tr>\n",
              "    <tr>\n",
              "      <th>291</th>\n",
              "      <td>20.799999</td>\n",
              "      <td>20.799999</td>\n",
              "      <td>20.799999</td>\n",
              "      <td>20.799999</td>\n",
              "      <td>19.796480</td>\n",
              "      <td>0.0</td>\n",
              "    </tr>\n",
              "    <tr>\n",
              "      <th>302</th>\n",
              "      <td>20.469999</td>\n",
              "      <td>20.469999</td>\n",
              "      <td>20.469999</td>\n",
              "      <td>20.469999</td>\n",
              "      <td>19.619831</td>\n",
              "      <td>0.0</td>\n",
              "    </tr>\n",
              "    <tr>\n",
              "      <th>303</th>\n",
              "      <td>20.469999</td>\n",
              "      <td>20.469999</td>\n",
              "      <td>20.469999</td>\n",
              "      <td>20.469999</td>\n",
              "      <td>19.619831</td>\n",
              "      <td>0.0</td>\n",
              "    </tr>\n",
              "    <tr>\n",
              "      <th>304</th>\n",
              "      <td>20.469999</td>\n",
              "      <td>20.469999</td>\n",
              "      <td>20.469999</td>\n",
              "      <td>20.469999</td>\n",
              "      <td>19.619831</td>\n",
              "      <td>0.0</td>\n",
              "    </tr>\n",
              "    <tr>\n",
              "      <th>305</th>\n",
              "      <td>20.469999</td>\n",
              "      <td>20.469999</td>\n",
              "      <td>20.469999</td>\n",
              "      <td>20.469999</td>\n",
              "      <td>19.619831</td>\n",
              "      <td>0.0</td>\n",
              "    </tr>\n",
              "    <tr>\n",
              "      <th>306</th>\n",
              "      <td>20.469999</td>\n",
              "      <td>20.469999</td>\n",
              "      <td>20.469999</td>\n",
              "      <td>20.469999</td>\n",
              "      <td>19.619831</td>\n",
              "      <td>0.0</td>\n",
              "    </tr>\n",
              "    <tr>\n",
              "      <th>307</th>\n",
              "      <td>20.469999</td>\n",
              "      <td>20.469999</td>\n",
              "      <td>20.469999</td>\n",
              "      <td>20.469999</td>\n",
              "      <td>19.619831</td>\n",
              "      <td>0.0</td>\n",
              "    </tr>\n",
              "    <tr>\n",
              "      <th>308</th>\n",
              "      <td>20.469999</td>\n",
              "      <td>20.469999</td>\n",
              "      <td>20.469999</td>\n",
              "      <td>20.469999</td>\n",
              "      <td>19.619831</td>\n",
              "      <td>0.0</td>\n",
              "    </tr>\n",
              "    <tr>\n",
              "      <th>309</th>\n",
              "      <td>20.469999</td>\n",
              "      <td>20.469999</td>\n",
              "      <td>20.469999</td>\n",
              "      <td>20.469999</td>\n",
              "      <td>19.619831</td>\n",
              "      <td>0.0</td>\n",
              "    </tr>\n",
              "    <tr>\n",
              "      <th>333</th>\n",
              "      <td>15.120000</td>\n",
              "      <td>15.120000</td>\n",
              "      <td>15.120000</td>\n",
              "      <td>15.120000</td>\n",
              "      <td>14.492029</td>\n",
              "      <td>0.0</td>\n",
              "    </tr>\n",
              "    <tr>\n",
              "      <th>337</th>\n",
              "      <td>15.070000</td>\n",
              "      <td>15.070000</td>\n",
              "      <td>15.070000</td>\n",
              "      <td>15.070000</td>\n",
              "      <td>14.444105</td>\n",
              "      <td>0.0</td>\n",
              "    </tr>\n",
              "    <tr>\n",
              "      <th>450</th>\n",
              "      <td>11.750000</td>\n",
              "      <td>11.750000</td>\n",
              "      <td>11.750000</td>\n",
              "      <td>11.750000</td>\n",
              "      <td>11.261992</td>\n",
              "      <td>0.0</td>\n",
              "    </tr>\n",
              "    <tr>\n",
              "      <th>451</th>\n",
              "      <td>11.750000</td>\n",
              "      <td>11.750000</td>\n",
              "      <td>11.750000</td>\n",
              "      <td>11.750000</td>\n",
              "      <td>11.261992</td>\n",
              "      <td>0.0</td>\n",
              "    </tr>\n",
              "    <tr>\n",
              "      <th>452</th>\n",
              "      <td>11.750000</td>\n",
              "      <td>11.750000</td>\n",
              "      <td>11.750000</td>\n",
              "      <td>11.750000</td>\n",
              "      <td>11.261992</td>\n",
              "      <td>0.0</td>\n",
              "    </tr>\n",
              "    <tr>\n",
              "      <th>461</th>\n",
              "      <td>11.850000</td>\n",
              "      <td>11.850000</td>\n",
              "      <td>11.850000</td>\n",
              "      <td>11.850000</td>\n",
              "      <td>11.357842</td>\n",
              "      <td>0.0</td>\n",
              "    </tr>\n",
              "    <tr>\n",
              "      <th>482</th>\n",
              "      <td>10.490000</td>\n",
              "      <td>10.490000</td>\n",
              "      <td>10.490000</td>\n",
              "      <td>10.490000</td>\n",
              "      <td>10.054325</td>\n",
              "      <td>0.0</td>\n",
              "    </tr>\n",
              "    <tr>\n",
              "      <th>507</th>\n",
              "      <td>11.130000</td>\n",
              "      <td>11.130000</td>\n",
              "      <td>11.130000</td>\n",
              "      <td>11.130000</td>\n",
              "      <td>10.667744</td>\n",
              "      <td>0.0</td>\n",
              "    </tr>\n",
              "    <tr>\n",
              "      <th>547</th>\n",
              "      <td>13.610000</td>\n",
              "      <td>13.610000</td>\n",
              "      <td>13.610000</td>\n",
              "      <td>13.610000</td>\n",
              "      <td>13.044743</td>\n",
              "      <td>0.0</td>\n",
              "    </tr>\n",
              "    <tr>\n",
              "      <th>590</th>\n",
              "      <td>9.390000</td>\n",
              "      <td>9.390000</td>\n",
              "      <td>9.390000</td>\n",
              "      <td>9.390000</td>\n",
              "      <td>9.057675</td>\n",
              "      <td>0.0</td>\n",
              "    </tr>\n",
              "    <tr>\n",
              "      <th>609</th>\n",
              "      <td>7.450000</td>\n",
              "      <td>7.450000</td>\n",
              "      <td>7.450000</td>\n",
              "      <td>7.450000</td>\n",
              "      <td>7.186334</td>\n",
              "      <td>0.0</td>\n",
              "    </tr>\n",
              "    <tr>\n",
              "      <th>628</th>\n",
              "      <td>6.340000</td>\n",
              "      <td>6.340000</td>\n",
              "      <td>6.340000</td>\n",
              "      <td>6.340000</td>\n",
              "      <td>6.115619</td>\n",
              "      <td>0.0</td>\n",
              "    </tr>\n",
              "    <tr>\n",
              "      <th>653</th>\n",
              "      <td>7.960000</td>\n",
              "      <td>7.960000</td>\n",
              "      <td>7.960000</td>\n",
              "      <td>7.960000</td>\n",
              "      <td>7.678284</td>\n",
              "      <td>0.0</td>\n",
              "    </tr>\n",
              "    <tr>\n",
              "      <th>799</th>\n",
              "      <td>10.760000</td>\n",
              "      <td>10.760000</td>\n",
              "      <td>10.760000</td>\n",
              "      <td>10.760000</td>\n",
              "      <td>10.379189</td>\n",
              "      <td>0.0</td>\n",
              "    </tr>\n",
              "    <tr>\n",
              "      <th>819</th>\n",
              "      <td>10.630000</td>\n",
              "      <td>10.630000</td>\n",
              "      <td>10.630000</td>\n",
              "      <td>10.630000</td>\n",
              "      <td>10.253790</td>\n",
              "      <td>0.0</td>\n",
              "    </tr>\n",
              "    <tr>\n",
              "      <th>881</th>\n",
              "      <td>7.810000</td>\n",
              "      <td>7.810000</td>\n",
              "      <td>7.810000</td>\n",
              "      <td>7.810000</td>\n",
              "      <td>7.533593</td>\n",
              "      <td>0.0</td>\n",
              "    </tr>\n",
              "    <tr>\n",
              "      <th>1831</th>\n",
              "      <td>4.060000</td>\n",
              "      <td>4.060000</td>\n",
              "      <td>4.060000</td>\n",
              "      <td>4.060000</td>\n",
              "      <td>3.938005</td>\n",
              "      <td>0.0</td>\n",
              "    </tr>\n",
              "    <tr>\n",
              "      <th>1844</th>\n",
              "      <td>3.960000</td>\n",
              "      <td>3.960000</td>\n",
              "      <td>3.960000</td>\n",
              "      <td>3.960000</td>\n",
              "      <td>3.841010</td>\n",
              "      <td>0.0</td>\n",
              "    </tr>\n",
              "    <tr>\n",
              "      <th>1904</th>\n",
              "      <td>8.330000</td>\n",
              "      <td>8.330000</td>\n",
              "      <td>8.330000</td>\n",
              "      <td>8.330000</td>\n",
              "      <td>8.079700</td>\n",
              "      <td>0.0</td>\n",
              "    </tr>\n",
              "    <tr>\n",
              "      <th>1929</th>\n",
              "      <td>9.700000</td>\n",
              "      <td>9.700000</td>\n",
              "      <td>9.700000</td>\n",
              "      <td>9.700000</td>\n",
              "      <td>9.408535</td>\n",
              "      <td>0.0</td>\n",
              "    </tr>\n",
              "    <tr>\n",
              "      <th>1944</th>\n",
              "      <td>8.490000</td>\n",
              "      <td>8.490000</td>\n",
              "      <td>8.490000</td>\n",
              "      <td>8.490000</td>\n",
              "      <td>8.234893</td>\n",
              "      <td>0.0</td>\n",
              "    </tr>\n",
              "    <tr>\n",
              "      <th>1953</th>\n",
              "      <td>8.280000</td>\n",
              "      <td>8.280000</td>\n",
              "      <td>8.280000</td>\n",
              "      <td>8.280000</td>\n",
              "      <td>8.031202</td>\n",
              "      <td>0.0</td>\n",
              "    </tr>\n",
              "    <tr>\n",
              "      <th>1956</th>\n",
              "      <td>8.730000</td>\n",
              "      <td>8.730000</td>\n",
              "      <td>8.730000</td>\n",
              "      <td>8.730000</td>\n",
              "      <td>8.467682</td>\n",
              "      <td>0.0</td>\n",
              "    </tr>\n",
              "    <tr>\n",
              "      <th>1981</th>\n",
              "      <td>8.950000</td>\n",
              "      <td>8.950000</td>\n",
              "      <td>8.950000</td>\n",
              "      <td>8.950000</td>\n",
              "      <td>8.681070</td>\n",
              "      <td>0.0</td>\n",
              "    </tr>\n",
              "    <tr>\n",
              "      <th>1985</th>\n",
              "      <td>9.100000</td>\n",
              "      <td>9.100000</td>\n",
              "      <td>9.100000</td>\n",
              "      <td>9.100000</td>\n",
              "      <td>8.826565</td>\n",
              "      <td>0.0</td>\n",
              "    </tr>\n",
              "    <tr>\n",
              "      <th>2003</th>\n",
              "      <td>11.300000</td>\n",
              "      <td>11.300000</td>\n",
              "      <td>11.300000</td>\n",
              "      <td>11.300000</td>\n",
              "      <td>10.960458</td>\n",
              "      <td>0.0</td>\n",
              "    </tr>\n",
              "  </tbody>\n",
              "</table>\n",
              "</div>"
            ],
            "text/plain": [
              "           Open       High        Low      Close  Adj Close  Volume\n",
              "48    27.815001  27.815001  27.815001  27.815001  25.838741     0.0\n",
              "64    29.975000  29.975000  29.975000  29.975000  27.921242     0.0\n",
              "80    28.055000  28.055000  28.055000  28.055000  26.132795     0.0\n",
              "284   19.040001  19.040001  19.040001  19.040001  18.121393     0.0\n",
              "291   20.799999  20.799999  20.799999  20.799999  19.796480     0.0\n",
              "302   20.469999  20.469999  20.469999  20.469999  19.619831     0.0\n",
              "303   20.469999  20.469999  20.469999  20.469999  19.619831     0.0\n",
              "304   20.469999  20.469999  20.469999  20.469999  19.619831     0.0\n",
              "305   20.469999  20.469999  20.469999  20.469999  19.619831     0.0\n",
              "306   20.469999  20.469999  20.469999  20.469999  19.619831     0.0\n",
              "307   20.469999  20.469999  20.469999  20.469999  19.619831     0.0\n",
              "308   20.469999  20.469999  20.469999  20.469999  19.619831     0.0\n",
              "309   20.469999  20.469999  20.469999  20.469999  19.619831     0.0\n",
              "333   15.120000  15.120000  15.120000  15.120000  14.492029     0.0\n",
              "337   15.070000  15.070000  15.070000  15.070000  14.444105     0.0\n",
              "450   11.750000  11.750000  11.750000  11.750000  11.261992     0.0\n",
              "451   11.750000  11.750000  11.750000  11.750000  11.261992     0.0\n",
              "452   11.750000  11.750000  11.750000  11.750000  11.261992     0.0\n",
              "461   11.850000  11.850000  11.850000  11.850000  11.357842     0.0\n",
              "482   10.490000  10.490000  10.490000  10.490000  10.054325     0.0\n",
              "507   11.130000  11.130000  11.130000  11.130000  10.667744     0.0\n",
              "547   13.610000  13.610000  13.610000  13.610000  13.044743     0.0\n",
              "590    9.390000   9.390000   9.390000   9.390000   9.057675     0.0\n",
              "609    7.450000   7.450000   7.450000   7.450000   7.186334     0.0\n",
              "628    6.340000   6.340000   6.340000   6.340000   6.115619     0.0\n",
              "653    7.960000   7.960000   7.960000   7.960000   7.678284     0.0\n",
              "799   10.760000  10.760000  10.760000  10.760000  10.379189     0.0\n",
              "819   10.630000  10.630000  10.630000  10.630000  10.253790     0.0\n",
              "881    7.810000   7.810000   7.810000   7.810000   7.533593     0.0\n",
              "1831   4.060000   4.060000   4.060000   4.060000   3.938005     0.0\n",
              "1844   3.960000   3.960000   3.960000   3.960000   3.841010     0.0\n",
              "1904   8.330000   8.330000   8.330000   8.330000   8.079700     0.0\n",
              "1929   9.700000   9.700000   9.700000   9.700000   9.408535     0.0\n",
              "1944   8.490000   8.490000   8.490000   8.490000   8.234893     0.0\n",
              "1953   8.280000   8.280000   8.280000   8.280000   8.031202     0.0\n",
              "1956   8.730000   8.730000   8.730000   8.730000   8.467682     0.0\n",
              "1981   8.950000   8.950000   8.950000   8.950000   8.681070     0.0\n",
              "1985   9.100000   9.100000   9.100000   9.100000   8.826565     0.0\n",
              "2003  11.300000  11.300000  11.300000  11.300000  10.960458     0.0"
            ]
          },
          "metadata": {
            "tags": []
          },
          "execution_count": 184
        }
      ]
    },
    {
      "cell_type": "code",
      "metadata": {
        "id": "352jPyV0T5JJ"
      },
      "source": [
        "#preenchendo os valores nulos com o valor médio\n",
        "imputer = SimpleImputer(missing_values=0, strategy='mean',verbose=0)\n",
        "imputer = imputer.fit(base.iloc[:,0:6])\n",
        "base.iloc[:,0:6] = imputer.transform(base.iloc[:,0:6])"
      ],
      "execution_count": 185,
      "outputs": []
    },
    {
      "cell_type": "code",
      "metadata": {
        "colab": {
          "base_uri": "https://localhost:8080/",
          "height": 49
        },
        "id": "xI5JdDykT66_",
        "outputId": "44a82487-fef4-4b9e-9c0f-ec4bd7c3eddc"
      },
      "source": [
        "#Verificando novamente se ainda temos valores nulos\n",
        "base.loc[base['Volume'] == 0]"
      ],
      "execution_count": 186,
      "outputs": [
        {
          "output_type": "execute_result",
          "data": {
            "text/html": [
              "<div>\n",
              "<style scoped>\n",
              "    .dataframe tbody tr th:only-of-type {\n",
              "        vertical-align: middle;\n",
              "    }\n",
              "\n",
              "    .dataframe tbody tr th {\n",
              "        vertical-align: top;\n",
              "    }\n",
              "\n",
              "    .dataframe thead th {\n",
              "        text-align: right;\n",
              "    }\n",
              "</style>\n",
              "<table border=\"1\" class=\"dataframe\">\n",
              "  <thead>\n",
              "    <tr style=\"text-align: right;\">\n",
              "      <th></th>\n",
              "      <th>Open</th>\n",
              "      <th>High</th>\n",
              "      <th>Low</th>\n",
              "      <th>Close</th>\n",
              "      <th>Adj Close</th>\n",
              "      <th>Volume</th>\n",
              "    </tr>\n",
              "  </thead>\n",
              "  <tbody>\n",
              "  </tbody>\n",
              "</table>\n",
              "</div>"
            ],
            "text/plain": [
              "Empty DataFrame\n",
              "Columns: [Open, High, Low, Close, Adj Close, Volume]\n",
              "Index: []"
            ]
          },
          "metadata": {
            "tags": []
          },
          "execution_count": 186
        }
      ]
    },
    {
      "cell_type": "code",
      "metadata": {
        "id": "NYW0UUz0T9Kq"
      },
      "source": [
        "#base = base.dropna()"
      ],
      "execution_count": null,
      "outputs": []
    },
    {
      "cell_type": "code",
      "metadata": {
        "id": "ceOotOwsT_Er"
      },
      "source": [
        "#base.sample()"
      ],
      "execution_count": null,
      "outputs": []
    },
    {
      "cell_type": "markdown",
      "metadata": {
        "id": "hCiQYMqPGHuG"
      },
      "source": [
        "#**-Descrição dos dados** IGNORE ESTA CÉLULA"
      ]
    },
    {
      "cell_type": "code",
      "metadata": {
        "id": "xalwLdRSGLRD"
      },
      "source": [
        "#Tendencia central - mean, median\n",
        "ct1 = pd.DataFrame(base.apply(np.mean)).T #T transpondo \n",
        "ct2 = pd.DataFrame(base.apply(np.median)).T\n",
        "#Dispersão - std(desvio padrão), min, max, range\n",
        "d1 = pd.DataFrame(base.apply(np.std)).T\n",
        "d2 = pd.DataFrame(base.apply(min)).T\n",
        "d3 = pd.DataFrame(base.apply(max)).T\n",
        "d4 = pd.DataFrame(base.apply(lambda x: x.max() - x.min())).T\n",
        "#concatenate\n",
        "m = pd.concat([d2,d3,d4,ct1,ct2,d1]).T.reset_index()\n",
        "m.columns = ['attributes','min','max','range', 'mean', 'median', 'std']\n",
        "m"
      ],
      "execution_count": null,
      "outputs": []
    },
    {
      "cell_type": "code",
      "metadata": {
        "colab": {
          "base_uri": "https://localhost:8080/"
        },
        "id": "j62Bj8jOQz_G",
        "outputId": "9e5055ec-b49f-4f7d-e3c1-b3fc2b1dae42"
      },
      "source": [
        "base.shape[0]"
      ],
      "execution_count": null,
      "outputs": [
        {
          "output_type": "execute_result",
          "data": {
            "text/plain": [
              "2478"
            ]
          },
          "metadata": {
            "tags": []
          },
          "execution_count": 20
        }
      ]
    },
    {
      "cell_type": "markdown",
      "metadata": {
        "id": "4IDwP-XV_Ohd"
      },
      "source": [
        "#**4-Treinamento da rede**"
      ]
    },
    {
      "cell_type": "code",
      "metadata": {
        "id": "mpo6RlDsUHNJ"
      },
      "source": [
        "#normalizando a base de dados com o MinMaxScaler\n",
        "base_treinamento = base.iloc[:, 0:6].values\n",
        "normalizador = MinMaxScaler(feature_range=(0,1))\n",
        "base_treinamento_normalizada = normalizador.fit_transform(base_treinamento)"
      ],
      "execution_count": 187,
      "outputs": []
    },
    {
      "cell_type": "code",
      "metadata": {
        "id": "d-LD4OEaUNf7"
      },
      "source": [
        "#Comparando a predição com o preço real\n",
        "previsores = []\n",
        "preco_real = []\n",
        "for i in range(90, 2232):\n",
        "    previsores.append(base_treinamento_normalizada[i-90:i, 0:6])\n",
        "    preco_real.append(base_treinamento_normalizada[i, 0])\n",
        "previsores, preco_real = np.array(previsores), np.array(preco_real)\n"
      ],
      "execution_count": 188,
      "outputs": []
    },
    {
      "cell_type": "code",
      "metadata": {
        "colab": {
          "base_uri": "https://localhost:8080/"
        },
        "id": "ZftXowA9URdt",
        "outputId": "e4ac7a91-6785-45e2-fe06-4bc9e7b9b2df"
      },
      "source": [
        "#estrutura da rede neural \n",
        "regressor = Sequential()\n",
        "regressor.add(LSTM(units = 100, return_sequences = True, input_shape = (previsores.shape[1], 6)))\n",
        "regressor.add(Dropout(0.3))\n",
        "\n",
        "regressor.add(LSTM(units = 50, return_sequences = True))\n",
        "regressor.add(Dropout(0.3))\n",
        "\n",
        "regressor.add(LSTM(units = 50, return_sequences = True))\n",
        "regressor.add(Dropout(0.3))\n",
        "\n",
        "regressor.add(LSTM(units = 50))\n",
        "regressor.add(Dropout(0.3))\n",
        "\n",
        "regressor.add(Dense(units = 1, activation = 'sigmoid'))\n",
        "\n",
        "es = EarlyStopping(monitor = 'loss', min_delta = 1e-15, patience = 20, verbose = 1)\n",
        "\n",
        "#regressor.compile(optimizer = 'RMSprop', loss = 'mean_squared_error',\n",
        "#                  metrics = ['mean_absolute_error'])\n",
        "opt = tf.keras.optimizers.Adam(amsgrad=True)\n",
        "regressor.compile(optimizer = opt, loss = 'mean_squared_error',\n",
        "                  metrics = ['mean_absolute_error'])\n",
        "#opt = tf.keras.optimizers.RMSprop(centered=True)\n",
        "#regressor.compile(optimizer = opt, loss = 'mean_squared_error',\n",
        "#                 metrics = ['mean_absolute_error'])\n",
        "\n",
        "regressor.fit(previsores, preco_real, epochs = 600, batch_size = 32,\n",
        "              callbacks = [es])\n",
        "#regressor.fit(previsores, preco_real, epochs = 600, batch_size = 32)"
      ],
      "execution_count": 189,
      "outputs": [
        {
          "output_type": "stream",
          "text": [
            "Epoch 1/600\n",
            "67/67 [==============================] - 6s 18ms/step - loss: 0.0342 - mean_absolute_error: 0.1364\n",
            "Epoch 2/600\n",
            "67/67 [==============================] - 1s 16ms/step - loss: 0.0027 - mean_absolute_error: 0.0413\n",
            "Epoch 3/600\n",
            "67/67 [==============================] - 1s 16ms/step - loss: 0.0019 - mean_absolute_error: 0.0337\n",
            "Epoch 4/600\n",
            "67/67 [==============================] - 1s 16ms/step - loss: 0.0021 - mean_absolute_error: 0.0363\n",
            "Epoch 5/600\n",
            "67/67 [==============================] - 1s 15ms/step - loss: 0.0016 - mean_absolute_error: 0.0315\n",
            "Epoch 6/600\n",
            "67/67 [==============================] - 1s 16ms/step - loss: 0.0017 - mean_absolute_error: 0.0322\n",
            "Epoch 7/600\n",
            "67/67 [==============================] - 1s 16ms/step - loss: 0.0014 - mean_absolute_error: 0.0299\n",
            "Epoch 8/600\n",
            "67/67 [==============================] - 1s 16ms/step - loss: 0.0012 - mean_absolute_error: 0.0266\n",
            "Epoch 9/600\n",
            "67/67 [==============================] - 1s 16ms/step - loss: 0.0011 - mean_absolute_error: 0.0262\n",
            "Epoch 10/600\n",
            "67/67 [==============================] - 1s 16ms/step - loss: 0.0010 - mean_absolute_error: 0.0250\n",
            "Epoch 11/600\n",
            "67/67 [==============================] - 1s 16ms/step - loss: 0.0011 - mean_absolute_error: 0.0257\n",
            "Epoch 12/600\n",
            "67/67 [==============================] - 1s 16ms/step - loss: 0.0010 - mean_absolute_error: 0.0252\n",
            "Epoch 13/600\n",
            "67/67 [==============================] - 1s 16ms/step - loss: 0.0011 - mean_absolute_error: 0.0256\n",
            "Epoch 14/600\n",
            "67/67 [==============================] - 1s 16ms/step - loss: 9.8217e-04 - mean_absolute_error: 0.0241\n",
            "Epoch 15/600\n",
            "67/67 [==============================] - 1s 16ms/step - loss: 9.4157e-04 - mean_absolute_error: 0.0241\n",
            "Epoch 16/600\n",
            "67/67 [==============================] - 1s 16ms/step - loss: 9.0728e-04 - mean_absolute_error: 0.0235\n",
            "Epoch 17/600\n",
            "67/67 [==============================] - 1s 17ms/step - loss: 0.0010 - mean_absolute_error: 0.0248\n",
            "Epoch 18/600\n",
            "67/67 [==============================] - 1s 16ms/step - loss: 7.9803e-04 - mean_absolute_error: 0.0219\n",
            "Epoch 19/600\n",
            "67/67 [==============================] - 1s 16ms/step - loss: 9.0016e-04 - mean_absolute_error: 0.0236\n",
            "Epoch 20/600\n",
            "67/67 [==============================] - 1s 16ms/step - loss: 9.1761e-04 - mean_absolute_error: 0.0234\n",
            "Epoch 21/600\n",
            "67/67 [==============================] - 1s 16ms/step - loss: 9.0887e-04 - mean_absolute_error: 0.0235\n",
            "Epoch 22/600\n",
            "67/67 [==============================] - 1s 16ms/step - loss: 0.0010 - mean_absolute_error: 0.0249\n",
            "Epoch 23/600\n",
            "67/67 [==============================] - 1s 16ms/step - loss: 7.9690e-04 - mean_absolute_error: 0.0223\n",
            "Epoch 24/600\n",
            "67/67 [==============================] - 1s 16ms/step - loss: 7.9695e-04 - mean_absolute_error: 0.0221\n",
            "Epoch 25/600\n",
            "67/67 [==============================] - 1s 16ms/step - loss: 8.5784e-04 - mean_absolute_error: 0.0231\n",
            "Epoch 26/600\n",
            "67/67 [==============================] - 1s 16ms/step - loss: 8.1217e-04 - mean_absolute_error: 0.0221\n",
            "Epoch 27/600\n",
            "67/67 [==============================] - 1s 16ms/step - loss: 8.5335e-04 - mean_absolute_error: 0.0227\n",
            "Epoch 28/600\n",
            "67/67 [==============================] - 1s 16ms/step - loss: 6.9436e-04 - mean_absolute_error: 0.0206\n",
            "Epoch 29/600\n",
            "67/67 [==============================] - 1s 16ms/step - loss: 7.5031e-04 - mean_absolute_error: 0.0212\n",
            "Epoch 30/600\n",
            "67/67 [==============================] - 1s 16ms/step - loss: 7.2662e-04 - mean_absolute_error: 0.0208\n",
            "Epoch 31/600\n",
            "67/67 [==============================] - 1s 16ms/step - loss: 7.0141e-04 - mean_absolute_error: 0.0207\n",
            "Epoch 32/600\n",
            "67/67 [==============================] - 1s 17ms/step - loss: 7.1460e-04 - mean_absolute_error: 0.0210\n",
            "Epoch 33/600\n",
            "67/67 [==============================] - 1s 17ms/step - loss: 6.3956e-04 - mean_absolute_error: 0.0196\n",
            "Epoch 34/600\n",
            "67/67 [==============================] - 1s 16ms/step - loss: 6.3995e-04 - mean_absolute_error: 0.0197\n",
            "Epoch 35/600\n",
            "67/67 [==============================] - 1s 16ms/step - loss: 6.1107e-04 - mean_absolute_error: 0.0194\n",
            "Epoch 36/600\n",
            "67/67 [==============================] - 1s 16ms/step - loss: 6.8715e-04 - mean_absolute_error: 0.0204\n",
            "Epoch 37/600\n",
            "67/67 [==============================] - 1s 16ms/step - loss: 6.2683e-04 - mean_absolute_error: 0.0194\n",
            "Epoch 38/600\n",
            "67/67 [==============================] - 1s 17ms/step - loss: 5.8132e-04 - mean_absolute_error: 0.0187\n",
            "Epoch 39/600\n",
            "67/67 [==============================] - 1s 16ms/step - loss: 6.1963e-04 - mean_absolute_error: 0.0193\n",
            "Epoch 40/600\n",
            "67/67 [==============================] - 1s 16ms/step - loss: 6.2408e-04 - mean_absolute_error: 0.0195\n",
            "Epoch 41/600\n",
            "67/67 [==============================] - 1s 16ms/step - loss: 6.5346e-04 - mean_absolute_error: 0.0196\n",
            "Epoch 42/600\n",
            "67/67 [==============================] - 1s 16ms/step - loss: 5.8354e-04 - mean_absolute_error: 0.0186\n",
            "Epoch 43/600\n",
            "67/67 [==============================] - 1s 16ms/step - loss: 5.7961e-04 - mean_absolute_error: 0.0186\n",
            "Epoch 44/600\n",
            "67/67 [==============================] - 1s 16ms/step - loss: 6.1036e-04 - mean_absolute_error: 0.0191\n",
            "Epoch 45/600\n",
            "67/67 [==============================] - 1s 16ms/step - loss: 5.3962e-04 - mean_absolute_error: 0.0183\n",
            "Epoch 46/600\n",
            "67/67 [==============================] - 1s 16ms/step - loss: 5.7246e-04 - mean_absolute_error: 0.0186\n",
            "Epoch 47/600\n",
            "67/67 [==============================] - 1s 16ms/step - loss: 6.1169e-04 - mean_absolute_error: 0.0192\n",
            "Epoch 48/600\n",
            "67/67 [==============================] - 1s 16ms/step - loss: 5.2624e-04 - mean_absolute_error: 0.0180\n",
            "Epoch 49/600\n",
            "67/67 [==============================] - 1s 16ms/step - loss: 6.0568e-04 - mean_absolute_error: 0.0189\n",
            "Epoch 50/600\n",
            "67/67 [==============================] - 1s 17ms/step - loss: 5.8324e-04 - mean_absolute_error: 0.0184\n",
            "Epoch 51/600\n",
            "67/67 [==============================] - 1s 16ms/step - loss: 6.2178e-04 - mean_absolute_error: 0.0191\n",
            "Epoch 52/600\n",
            "67/67 [==============================] - 1s 16ms/step - loss: 5.5103e-04 - mean_absolute_error: 0.0179\n",
            "Epoch 53/600\n",
            "67/67 [==============================] - 1s 16ms/step - loss: 5.2144e-04 - mean_absolute_error: 0.0175\n",
            "Epoch 54/600\n",
            "67/67 [==============================] - 1s 16ms/step - loss: 5.3632e-04 - mean_absolute_error: 0.0179\n",
            "Epoch 55/600\n",
            "67/67 [==============================] - 1s 16ms/step - loss: 4.9660e-04 - mean_absolute_error: 0.0171\n",
            "Epoch 56/600\n",
            "67/67 [==============================] - 1s 16ms/step - loss: 5.1296e-04 - mean_absolute_error: 0.0174\n",
            "Epoch 57/600\n",
            "67/67 [==============================] - 1s 16ms/step - loss: 4.9050e-04 - mean_absolute_error: 0.0170\n",
            "Epoch 58/600\n",
            "67/67 [==============================] - 1s 16ms/step - loss: 5.7537e-04 - mean_absolute_error: 0.0187\n",
            "Epoch 59/600\n",
            "67/67 [==============================] - 1s 16ms/step - loss: 5.0401e-04 - mean_absolute_error: 0.0171\n",
            "Epoch 60/600\n",
            "67/67 [==============================] - 1s 16ms/step - loss: 4.6655e-04 - mean_absolute_error: 0.0167\n",
            "Epoch 61/600\n",
            "67/67 [==============================] - 1s 16ms/step - loss: 5.2787e-04 - mean_absolute_error: 0.0181\n",
            "Epoch 62/600\n",
            "67/67 [==============================] - 1s 16ms/step - loss: 5.0599e-04 - mean_absolute_error: 0.0171\n",
            "Epoch 63/600\n",
            "67/67 [==============================] - 1s 16ms/step - loss: 5.0678e-04 - mean_absolute_error: 0.0174\n",
            "Epoch 64/600\n",
            "67/67 [==============================] - 1s 16ms/step - loss: 4.6651e-04 - mean_absolute_error: 0.0167\n",
            "Epoch 65/600\n",
            "67/67 [==============================] - 1s 16ms/step - loss: 4.5282e-04 - mean_absolute_error: 0.0164\n",
            "Epoch 66/600\n",
            "67/67 [==============================] - 1s 16ms/step - loss: 4.7438e-04 - mean_absolute_error: 0.0168\n",
            "Epoch 67/600\n",
            "67/67 [==============================] - 1s 16ms/step - loss: 4.5847e-04 - mean_absolute_error: 0.0165\n",
            "Epoch 68/600\n",
            "67/67 [==============================] - 1s 16ms/step - loss: 5.0358e-04 - mean_absolute_error: 0.0178\n",
            "Epoch 69/600\n",
            "67/67 [==============================] - 1s 16ms/step - loss: 4.9237e-04 - mean_absolute_error: 0.0172\n",
            "Epoch 70/600\n",
            "67/67 [==============================] - 1s 16ms/step - loss: 4.1545e-04 - mean_absolute_error: 0.0158\n",
            "Epoch 71/600\n",
            "67/67 [==============================] - 1s 16ms/step - loss: 4.4694e-04 - mean_absolute_error: 0.0160\n",
            "Epoch 72/600\n",
            "67/67 [==============================] - 1s 16ms/step - loss: 4.1225e-04 - mean_absolute_error: 0.0155\n",
            "Epoch 73/600\n",
            "67/67 [==============================] - 1s 16ms/step - loss: 4.3947e-04 - mean_absolute_error: 0.0163\n",
            "Epoch 74/600\n",
            "67/67 [==============================] - 1s 16ms/step - loss: 4.7423e-04 - mean_absolute_error: 0.0171\n",
            "Epoch 75/600\n",
            "67/67 [==============================] - 1s 16ms/step - loss: 4.3699e-04 - mean_absolute_error: 0.0161\n",
            "Epoch 76/600\n",
            "67/67 [==============================] - 1s 17ms/step - loss: 4.6728e-04 - mean_absolute_error: 0.0169\n",
            "Epoch 77/600\n",
            "67/67 [==============================] - 1s 17ms/step - loss: 4.2486e-04 - mean_absolute_error: 0.0160\n",
            "Epoch 78/600\n",
            "67/67 [==============================] - 1s 16ms/step - loss: 4.2546e-04 - mean_absolute_error: 0.0157\n",
            "Epoch 79/600\n",
            "67/67 [==============================] - 1s 16ms/step - loss: 4.4797e-04 - mean_absolute_error: 0.0165\n",
            "Epoch 80/600\n",
            "67/67 [==============================] - 1s 16ms/step - loss: 4.0161e-04 - mean_absolute_error: 0.0153\n",
            "Epoch 81/600\n",
            "67/67 [==============================] - 1s 16ms/step - loss: 4.2085e-04 - mean_absolute_error: 0.0155\n",
            "Epoch 82/600\n",
            "67/67 [==============================] - 1s 16ms/step - loss: 4.1982e-04 - mean_absolute_error: 0.0157\n",
            "Epoch 83/600\n",
            "67/67 [==============================] - 1s 16ms/step - loss: 4.1221e-04 - mean_absolute_error: 0.0155\n",
            "Epoch 84/600\n",
            "67/67 [==============================] - 1s 16ms/step - loss: 4.0303e-04 - mean_absolute_error: 0.0157\n",
            "Epoch 85/600\n",
            "67/67 [==============================] - 1s 16ms/step - loss: 3.9477e-04 - mean_absolute_error: 0.0155\n",
            "Epoch 86/600\n",
            "67/67 [==============================] - 1s 16ms/step - loss: 4.0683e-04 - mean_absolute_error: 0.0157\n",
            "Epoch 87/600\n",
            "67/67 [==============================] - 1s 16ms/step - loss: 4.1799e-04 - mean_absolute_error: 0.0157\n",
            "Epoch 88/600\n",
            "67/67 [==============================] - 1s 16ms/step - loss: 3.9124e-04 - mean_absolute_error: 0.0152\n",
            "Epoch 89/600\n",
            "67/67 [==============================] - 1s 16ms/step - loss: 4.0663e-04 - mean_absolute_error: 0.0153\n",
            "Epoch 90/600\n",
            "67/67 [==============================] - 1s 16ms/step - loss: 4.1764e-04 - mean_absolute_error: 0.0155\n",
            "Epoch 91/600\n",
            "67/67 [==============================] - 1s 16ms/step - loss: 3.9570e-04 - mean_absolute_error: 0.0155\n",
            "Epoch 92/600\n",
            "67/67 [==============================] - 1s 16ms/step - loss: 4.4902e-04 - mean_absolute_error: 0.0164\n",
            "Epoch 93/600\n",
            "67/67 [==============================] - 1s 16ms/step - loss: 3.7607e-04 - mean_absolute_error: 0.0148\n",
            "Epoch 94/600\n",
            "67/67 [==============================] - 1s 16ms/step - loss: 3.5065e-04 - mean_absolute_error: 0.0143\n",
            "Epoch 95/600\n",
            "67/67 [==============================] - 1s 16ms/step - loss: 3.7284e-04 - mean_absolute_error: 0.0148\n",
            "Epoch 96/600\n",
            "67/67 [==============================] - 1s 16ms/step - loss: 4.3094e-04 - mean_absolute_error: 0.0157\n",
            "Epoch 97/600\n",
            "67/67 [==============================] - 1s 16ms/step - loss: 4.4779e-04 - mean_absolute_error: 0.0162\n",
            "Epoch 98/600\n",
            "67/67 [==============================] - 1s 16ms/step - loss: 3.8389e-04 - mean_absolute_error: 0.0152\n",
            "Epoch 99/600\n",
            "67/67 [==============================] - 1s 16ms/step - loss: 3.6861e-04 - mean_absolute_error: 0.0149\n",
            "Epoch 100/600\n",
            "67/67 [==============================] - 1s 16ms/step - loss: 4.1196e-04 - mean_absolute_error: 0.0156\n",
            "Epoch 101/600\n",
            "67/67 [==============================] - 1s 16ms/step - loss: 3.8759e-04 - mean_absolute_error: 0.0151\n",
            "Epoch 102/600\n",
            "67/67 [==============================] - 1s 16ms/step - loss: 3.8385e-04 - mean_absolute_error: 0.0150\n",
            "Epoch 103/600\n",
            "67/67 [==============================] - 1s 16ms/step - loss: 3.8161e-04 - mean_absolute_error: 0.0144\n",
            "Epoch 104/600\n",
            "67/67 [==============================] - 1s 16ms/step - loss: 3.7292e-04 - mean_absolute_error: 0.0144\n",
            "Epoch 105/600\n",
            "67/67 [==============================] - 1s 16ms/step - loss: 3.6826e-04 - mean_absolute_error: 0.0147\n",
            "Epoch 106/600\n",
            "67/67 [==============================] - 1s 17ms/step - loss: 3.8439e-04 - mean_absolute_error: 0.0153\n",
            "Epoch 107/600\n",
            "67/67 [==============================] - 1s 17ms/step - loss: 3.5443e-04 - mean_absolute_error: 0.0146\n",
            "Epoch 108/600\n",
            "67/67 [==============================] - 1s 17ms/step - loss: 4.1346e-04 - mean_absolute_error: 0.0156\n",
            "Epoch 109/600\n",
            "67/67 [==============================] - 1s 16ms/step - loss: 3.6968e-04 - mean_absolute_error: 0.0147\n",
            "Epoch 110/600\n",
            "67/67 [==============================] - 1s 16ms/step - loss: 3.6209e-04 - mean_absolute_error: 0.0145\n",
            "Epoch 111/600\n",
            "67/67 [==============================] - 1s 16ms/step - loss: 3.5701e-04 - mean_absolute_error: 0.0144\n",
            "Epoch 112/600\n",
            "67/67 [==============================] - 1s 16ms/step - loss: 4.1065e-04 - mean_absolute_error: 0.0156\n",
            "Epoch 113/600\n",
            "67/67 [==============================] - 1s 16ms/step - loss: 3.4922e-04 - mean_absolute_error: 0.0143\n",
            "Epoch 114/600\n",
            "67/67 [==============================] - 1s 16ms/step - loss: 3.5682e-04 - mean_absolute_error: 0.0144\n",
            "Epoch 115/600\n",
            "67/67 [==============================] - 1s 16ms/step - loss: 3.6697e-04 - mean_absolute_error: 0.0148\n",
            "Epoch 116/600\n",
            "67/67 [==============================] - 1s 16ms/step - loss: 4.4323e-04 - mean_absolute_error: 0.0161\n",
            "Epoch 117/600\n",
            "67/67 [==============================] - 1s 16ms/step - loss: 3.5303e-04 - mean_absolute_error: 0.0141\n",
            "Epoch 118/600\n",
            "67/67 [==============================] - 1s 16ms/step - loss: 3.9750e-04 - mean_absolute_error: 0.0151\n",
            "Epoch 119/600\n",
            "67/67 [==============================] - 1s 16ms/step - loss: 3.6436e-04 - mean_absolute_error: 0.0144\n",
            "Epoch 120/600\n",
            "67/67 [==============================] - 1s 16ms/step - loss: 3.5690e-04 - mean_absolute_error: 0.0147\n",
            "Epoch 121/600\n",
            "67/67 [==============================] - 1s 17ms/step - loss: 3.6965e-04 - mean_absolute_error: 0.0149\n",
            "Epoch 122/600\n",
            "67/67 [==============================] - 1s 17ms/step - loss: 3.8192e-04 - mean_absolute_error: 0.0148\n",
            "Epoch 123/600\n",
            "67/67 [==============================] - 1s 17ms/step - loss: 3.3896e-04 - mean_absolute_error: 0.0140\n",
            "Epoch 124/600\n",
            "67/67 [==============================] - 1s 16ms/step - loss: 3.5052e-04 - mean_absolute_error: 0.0141\n",
            "Epoch 125/600\n",
            "67/67 [==============================] - 1s 16ms/step - loss: 3.4270e-04 - mean_absolute_error: 0.0141\n",
            "Epoch 126/600\n",
            "67/67 [==============================] - 1s 16ms/step - loss: 3.4859e-04 - mean_absolute_error: 0.0146\n",
            "Epoch 127/600\n",
            "67/67 [==============================] - 1s 16ms/step - loss: 3.1812e-04 - mean_absolute_error: 0.0137\n",
            "Epoch 128/600\n",
            "67/67 [==============================] - 1s 16ms/step - loss: 3.7011e-04 - mean_absolute_error: 0.0147\n",
            "Epoch 129/600\n",
            "67/67 [==============================] - 1s 16ms/step - loss: 3.4818e-04 - mean_absolute_error: 0.0139\n",
            "Epoch 130/600\n",
            "67/67 [==============================] - 1s 16ms/step - loss: 3.4370e-04 - mean_absolute_error: 0.0140\n",
            "Epoch 131/600\n",
            "67/67 [==============================] - 1s 17ms/step - loss: 3.1778e-04 - mean_absolute_error: 0.0137\n",
            "Epoch 132/600\n",
            "67/67 [==============================] - 1s 17ms/step - loss: 3.2433e-04 - mean_absolute_error: 0.0134\n",
            "Epoch 133/600\n",
            "67/67 [==============================] - 1s 17ms/step - loss: 3.5143e-04 - mean_absolute_error: 0.0142\n",
            "Epoch 134/600\n",
            "67/67 [==============================] - 1s 16ms/step - loss: 3.4284e-04 - mean_absolute_error: 0.0140\n",
            "Epoch 135/600\n",
            "67/67 [==============================] - 1s 16ms/step - loss: 3.2968e-04 - mean_absolute_error: 0.0131\n",
            "Epoch 136/600\n",
            "67/67 [==============================] - 1s 16ms/step - loss: 3.2910e-04 - mean_absolute_error: 0.0138\n",
            "Epoch 137/600\n",
            "67/67 [==============================] - 1s 16ms/step - loss: 3.3191e-04 - mean_absolute_error: 0.0142\n",
            "Epoch 138/600\n",
            "67/67 [==============================] - 1s 17ms/step - loss: 3.3501e-04 - mean_absolute_error: 0.0138\n",
            "Epoch 139/600\n",
            "67/67 [==============================] - 1s 16ms/step - loss: 3.6450e-04 - mean_absolute_error: 0.0143\n",
            "Epoch 140/600\n",
            "67/67 [==============================] - 1s 16ms/step - loss: 3.5081e-04 - mean_absolute_error: 0.0144\n",
            "Epoch 141/600\n",
            "67/67 [==============================] - 1s 16ms/step - loss: 3.2317e-04 - mean_absolute_error: 0.0137\n",
            "Epoch 142/600\n",
            "67/67 [==============================] - 1s 16ms/step - loss: 3.2024e-04 - mean_absolute_error: 0.0133\n",
            "Epoch 143/600\n",
            "67/67 [==============================] - 1s 16ms/step - loss: 3.4523e-04 - mean_absolute_error: 0.0139\n",
            "Epoch 144/600\n",
            "67/67 [==============================] - 1s 16ms/step - loss: 3.4029e-04 - mean_absolute_error: 0.0138\n",
            "Epoch 145/600\n",
            "67/67 [==============================] - 1s 16ms/step - loss: 3.8295e-04 - mean_absolute_error: 0.0148\n",
            "Epoch 146/600\n",
            "67/67 [==============================] - 1s 16ms/step - loss: 3.3264e-04 - mean_absolute_error: 0.0140\n",
            "Epoch 147/600\n",
            "67/67 [==============================] - 1s 16ms/step - loss: 3.3155e-04 - mean_absolute_error: 0.0136\n",
            "Epoch 148/600\n",
            "67/67 [==============================] - 1s 16ms/step - loss: 3.3771e-04 - mean_absolute_error: 0.0139\n",
            "Epoch 149/600\n",
            "67/67 [==============================] - 1s 16ms/step - loss: 3.1446e-04 - mean_absolute_error: 0.0136\n",
            "Epoch 150/600\n",
            "67/67 [==============================] - 1s 16ms/step - loss: 3.0866e-04 - mean_absolute_error: 0.0135\n",
            "Epoch 151/600\n",
            "67/67 [==============================] - 1s 16ms/step - loss: 3.2098e-04 - mean_absolute_error: 0.0135\n",
            "Epoch 152/600\n",
            "67/67 [==============================] - 1s 16ms/step - loss: 2.9791e-04 - mean_absolute_error: 0.0131\n",
            "Epoch 153/600\n",
            "67/67 [==============================] - 1s 17ms/step - loss: 2.9252e-04 - mean_absolute_error: 0.0131\n",
            "Epoch 154/600\n",
            "67/67 [==============================] - 1s 16ms/step - loss: 3.1619e-04 - mean_absolute_error: 0.0134\n",
            "Epoch 155/600\n",
            "67/67 [==============================] - 1s 16ms/step - loss: 3.0976e-04 - mean_absolute_error: 0.0135\n",
            "Epoch 156/600\n",
            "67/67 [==============================] - 1s 16ms/step - loss: 2.9516e-04 - mean_absolute_error: 0.0130\n",
            "Epoch 157/600\n",
            "67/67 [==============================] - 1s 16ms/step - loss: 3.2388e-04 - mean_absolute_error: 0.0133\n",
            "Epoch 158/600\n",
            "67/67 [==============================] - 1s 16ms/step - loss: 3.6496e-04 - mean_absolute_error: 0.0145\n",
            "Epoch 159/600\n",
            "67/67 [==============================] - 1s 16ms/step - loss: 2.9932e-04 - mean_absolute_error: 0.0132\n",
            "Epoch 160/600\n",
            "67/67 [==============================] - 1s 16ms/step - loss: 3.2578e-04 - mean_absolute_error: 0.0136\n",
            "Epoch 161/600\n",
            "67/67 [==============================] - 1s 16ms/step - loss: 3.1318e-04 - mean_absolute_error: 0.0129\n",
            "Epoch 162/600\n",
            "67/67 [==============================] - 1s 17ms/step - loss: 3.1240e-04 - mean_absolute_error: 0.0129\n",
            "Epoch 163/600\n",
            "67/67 [==============================] - 1s 16ms/step - loss: 2.8908e-04 - mean_absolute_error: 0.0128\n",
            "Epoch 164/600\n",
            "67/67 [==============================] - 1s 16ms/step - loss: 3.1946e-04 - mean_absolute_error: 0.0134\n",
            "Epoch 165/600\n",
            "67/67 [==============================] - 1s 16ms/step - loss: 3.0435e-04 - mean_absolute_error: 0.0132\n",
            "Epoch 166/600\n",
            "67/67 [==============================] - 1s 16ms/step - loss: 3.5052e-04 - mean_absolute_error: 0.0139\n",
            "Epoch 167/600\n",
            "67/67 [==============================] - 1s 16ms/step - loss: 3.0444e-04 - mean_absolute_error: 0.0130\n",
            "Epoch 168/600\n",
            "67/67 [==============================] - 1s 17ms/step - loss: 2.9311e-04 - mean_absolute_error: 0.0129\n",
            "Epoch 169/600\n",
            "67/67 [==============================] - 1s 16ms/step - loss: 3.2841e-04 - mean_absolute_error: 0.0132\n",
            "Epoch 170/600\n",
            "67/67 [==============================] - 1s 16ms/step - loss: 3.3935e-04 - mean_absolute_error: 0.0137\n",
            "Epoch 171/600\n",
            "67/67 [==============================] - 1s 16ms/step - loss: 3.4458e-04 - mean_absolute_error: 0.0137\n",
            "Epoch 172/600\n",
            "67/67 [==============================] - 1s 16ms/step - loss: 3.1818e-04 - mean_absolute_error: 0.0132\n",
            "Epoch 173/600\n",
            "67/67 [==============================] - 1s 16ms/step - loss: 3.1637e-04 - mean_absolute_error: 0.0132\n",
            "Epoch 174/600\n",
            "67/67 [==============================] - 1s 16ms/step - loss: 3.0413e-04 - mean_absolute_error: 0.0132\n",
            "Epoch 175/600\n",
            "67/67 [==============================] - 1s 16ms/step - loss: 2.9351e-04 - mean_absolute_error: 0.0130\n",
            "Epoch 176/600\n",
            "67/67 [==============================] - 1s 16ms/step - loss: 3.0489e-04 - mean_absolute_error: 0.0130\n",
            "Epoch 177/600\n",
            "67/67 [==============================] - 1s 16ms/step - loss: 3.1041e-04 - mean_absolute_error: 0.0131\n",
            "Epoch 178/600\n",
            "67/67 [==============================] - 1s 16ms/step - loss: 3.3476e-04 - mean_absolute_error: 0.0136\n",
            "Epoch 179/600\n",
            "67/67 [==============================] - 1s 16ms/step - loss: 3.0897e-04 - mean_absolute_error: 0.0131\n",
            "Epoch 180/600\n",
            "67/67 [==============================] - 1s 16ms/step - loss: 3.5677e-04 - mean_absolute_error: 0.0137\n",
            "Epoch 181/600\n",
            "67/67 [==============================] - 1s 17ms/step - loss: 3.3181e-04 - mean_absolute_error: 0.0135\n",
            "Epoch 182/600\n",
            "67/67 [==============================] - 1s 17ms/step - loss: 3.0945e-04 - mean_absolute_error: 0.0132\n",
            "Epoch 183/600\n",
            "67/67 [==============================] - 1s 17ms/step - loss: 2.8941e-04 - mean_absolute_error: 0.0127\n",
            "Epoch 184/600\n",
            "67/67 [==============================] - 1s 17ms/step - loss: 3.2647e-04 - mean_absolute_error: 0.0131\n",
            "Epoch 185/600\n",
            "67/67 [==============================] - 1s 16ms/step - loss: 3.0612e-04 - mean_absolute_error: 0.0129\n",
            "Epoch 186/600\n",
            "67/67 [==============================] - 1s 16ms/step - loss: 2.6717e-04 - mean_absolute_error: 0.0126\n",
            "Epoch 187/600\n",
            "67/67 [==============================] - 1s 16ms/step - loss: 3.0555e-04 - mean_absolute_error: 0.0128\n",
            "Epoch 188/600\n",
            "67/67 [==============================] - 1s 16ms/step - loss: 2.9042e-04 - mean_absolute_error: 0.0126\n",
            "Epoch 189/600\n",
            "67/67 [==============================] - 1s 16ms/step - loss: 3.2730e-04 - mean_absolute_error: 0.0137\n",
            "Epoch 190/600\n",
            "67/67 [==============================] - 1s 16ms/step - loss: 3.1719e-04 - mean_absolute_error: 0.0135\n",
            "Epoch 191/600\n",
            "67/67 [==============================] - 1s 16ms/step - loss: 2.9359e-04 - mean_absolute_error: 0.0131\n",
            "Epoch 192/600\n",
            "67/67 [==============================] - 1s 17ms/step - loss: 2.8411e-04 - mean_absolute_error: 0.0125\n",
            "Epoch 193/600\n",
            "67/67 [==============================] - 1s 16ms/step - loss: 2.9103e-04 - mean_absolute_error: 0.0127\n",
            "Epoch 194/600\n",
            "67/67 [==============================] - 1s 16ms/step - loss: 2.9745e-04 - mean_absolute_error: 0.0128\n",
            "Epoch 195/600\n",
            "67/67 [==============================] - 1s 16ms/step - loss: 2.6933e-04 - mean_absolute_error: 0.0122\n",
            "Epoch 196/600\n",
            "67/67 [==============================] - 1s 16ms/step - loss: 2.8184e-04 - mean_absolute_error: 0.0127\n",
            "Epoch 197/600\n",
            "67/67 [==============================] - 1s 17ms/step - loss: 2.6317e-04 - mean_absolute_error: 0.0123\n",
            "Epoch 198/600\n",
            "67/67 [==============================] - 1s 16ms/step - loss: 2.8171e-04 - mean_absolute_error: 0.0124\n",
            "Epoch 199/600\n",
            "67/67 [==============================] - 1s 16ms/step - loss: 3.0208e-04 - mean_absolute_error: 0.0126\n",
            "Epoch 200/600\n",
            "67/67 [==============================] - 1s 16ms/step - loss: 3.1994e-04 - mean_absolute_error: 0.0130\n",
            "Epoch 201/600\n",
            "67/67 [==============================] - 1s 16ms/step - loss: 2.7388e-04 - mean_absolute_error: 0.0128\n",
            "Epoch 202/600\n",
            "67/67 [==============================] - 1s 16ms/step - loss: 3.0721e-04 - mean_absolute_error: 0.0129\n",
            "Epoch 203/600\n",
            "67/67 [==============================] - 1s 16ms/step - loss: 2.7673e-04 - mean_absolute_error: 0.0122\n",
            "Epoch 204/600\n",
            "67/67 [==============================] - 1s 16ms/step - loss: 2.7692e-04 - mean_absolute_error: 0.0122\n",
            "Epoch 205/600\n",
            "67/67 [==============================] - 1s 16ms/step - loss: 2.7872e-04 - mean_absolute_error: 0.0128\n",
            "Epoch 206/600\n",
            "67/67 [==============================] - 1s 16ms/step - loss: 2.9609e-04 - mean_absolute_error: 0.0125\n",
            "Epoch 207/600\n",
            "67/67 [==============================] - 1s 16ms/step - loss: 2.5781e-04 - mean_absolute_error: 0.0121\n",
            "Epoch 208/600\n",
            "67/67 [==============================] - 1s 17ms/step - loss: 3.0246e-04 - mean_absolute_error: 0.0130\n",
            "Epoch 209/600\n",
            "67/67 [==============================] - 1s 17ms/step - loss: 2.6201e-04 - mean_absolute_error: 0.0120\n",
            "Epoch 210/600\n",
            "67/67 [==============================] - 1s 16ms/step - loss: 2.9750e-04 - mean_absolute_error: 0.0130\n",
            "Epoch 211/600\n",
            "67/67 [==============================] - 1s 16ms/step - loss: 2.7821e-04 - mean_absolute_error: 0.0127\n",
            "Epoch 212/600\n",
            "67/67 [==============================] - 1s 16ms/step - loss: 2.8520e-04 - mean_absolute_error: 0.0124\n",
            "Epoch 213/600\n",
            "67/67 [==============================] - 1s 17ms/step - loss: 2.8999e-04 - mean_absolute_error: 0.0129\n",
            "Epoch 214/600\n",
            "67/67 [==============================] - 1s 16ms/step - loss: 2.7453e-04 - mean_absolute_error: 0.0122\n",
            "Epoch 215/600\n",
            "67/67 [==============================] - 1s 16ms/step - loss: 3.2179e-04 - mean_absolute_error: 0.0131\n",
            "Epoch 216/600\n",
            "67/67 [==============================] - 1s 17ms/step - loss: 2.9980e-04 - mean_absolute_error: 0.0129\n",
            "Epoch 217/600\n",
            "67/67 [==============================] - 1s 16ms/step - loss: 2.9148e-04 - mean_absolute_error: 0.0124\n",
            "Epoch 218/600\n",
            "67/67 [==============================] - 1s 16ms/step - loss: 2.7067e-04 - mean_absolute_error: 0.0124\n",
            "Epoch 219/600\n",
            "67/67 [==============================] - 1s 16ms/step - loss: 2.6902e-04 - mean_absolute_error: 0.0121\n",
            "Epoch 220/600\n",
            "67/67 [==============================] - 1s 16ms/step - loss: 2.7788e-04 - mean_absolute_error: 0.0125\n",
            "Epoch 221/600\n",
            "67/67 [==============================] - 1s 17ms/step - loss: 2.8514e-04 - mean_absolute_error: 0.0126\n",
            "Epoch 222/600\n",
            "67/67 [==============================] - 1s 17ms/step - loss: 3.0447e-04 - mean_absolute_error: 0.0130\n",
            "Epoch 223/600\n",
            "67/67 [==============================] - 1s 17ms/step - loss: 3.1820e-04 - mean_absolute_error: 0.0129\n",
            "Epoch 224/600\n",
            "67/67 [==============================] - 1s 16ms/step - loss: 3.0098e-04 - mean_absolute_error: 0.0128\n",
            "Epoch 225/600\n",
            "67/67 [==============================] - 1s 17ms/step - loss: 3.3675e-04 - mean_absolute_error: 0.0137\n",
            "Epoch 226/600\n",
            "67/67 [==============================] - 1s 18ms/step - loss: 2.5113e-04 - mean_absolute_error: 0.0116\n",
            "Epoch 227/600\n",
            "67/67 [==============================] - 1s 17ms/step - loss: 2.5533e-04 - mean_absolute_error: 0.0120\n",
            "Epoch 00227: early stopping\n"
          ],
          "name": "stdout"
        },
        {
          "output_type": "execute_result",
          "data": {
            "text/plain": [
              "<tensorflow.python.keras.callbacks.History at 0x7fb94e91d1d0>"
            ]
          },
          "metadata": {
            "tags": []
          },
          "execution_count": 189
        }
      ]
    },
    {
      "cell_type": "markdown",
      "metadata": {
        "id": "RtFahmEgGAzZ"
      },
      "source": [
        "#**5-Teste da rede**"
      ]
    },
    {
      "cell_type": "markdown",
      "metadata": {
        "id": "QSWSKW8nqeA0"
      },
      "source": [
        "##**5.1-Importando os dados para teste**"
      ]
    },
    {
      "cell_type": "code",
      "metadata": {
        "id": "4X6-ArtKUdpD"
      },
      "source": [
        "#criando a base de dados teste\n",
        "base_teste = pd.read_csv('USIM5-teste.csv')\n",
        "base_teste = base_teste.drop('Date', axis = 1)"
      ],
      "execution_count": 190,
      "outputs": []
    },
    {
      "cell_type": "code",
      "metadata": {
        "colab": {
          "base_uri": "https://localhost:8080/",
          "height": 297
        },
        "id": "dXOp2vDcpAvA",
        "outputId": "f0dd6f1b-4c79-4f2e-eb50-a29097e0255a"
      },
      "source": [
        "#valores estatísticos\n",
        "base_teste.describe()"
      ],
      "execution_count": 191,
      "outputs": [
        {
          "output_type": "execute_result",
          "data": {
            "text/html": [
              "<div>\n",
              "<style scoped>\n",
              "    .dataframe tbody tr th:only-of-type {\n",
              "        vertical-align: middle;\n",
              "    }\n",
              "\n",
              "    .dataframe tbody tr th {\n",
              "        vertical-align: top;\n",
              "    }\n",
              "\n",
              "    .dataframe thead th {\n",
              "        text-align: right;\n",
              "    }\n",
              "</style>\n",
              "<table border=\"1\" class=\"dataframe\">\n",
              "  <thead>\n",
              "    <tr style=\"text-align: right;\">\n",
              "      <th></th>\n",
              "      <th>Open</th>\n",
              "      <th>High</th>\n",
              "      <th>Low</th>\n",
              "      <th>Close</th>\n",
              "      <th>Adj Close</th>\n",
              "      <th>Volume</th>\n",
              "    </tr>\n",
              "  </thead>\n",
              "  <tbody>\n",
              "    <tr>\n",
              "      <th>count</th>\n",
              "      <td>247.000000</td>\n",
              "      <td>247.000000</td>\n",
              "      <td>247.000000</td>\n",
              "      <td>247.000000</td>\n",
              "      <td>247.000000</td>\n",
              "      <td>2.470000e+02</td>\n",
              "    </tr>\n",
              "    <tr>\n",
              "      <th>mean</th>\n",
              "      <td>8.753158</td>\n",
              "      <td>8.889717</td>\n",
              "      <td>8.609474</td>\n",
              "      <td>8.736680</td>\n",
              "      <td>8.626404</td>\n",
              "      <td>1.319746e+07</td>\n",
              "    </tr>\n",
              "    <tr>\n",
              "      <th>std</th>\n",
              "      <td>0.906394</td>\n",
              "      <td>0.915746</td>\n",
              "      <td>0.886942</td>\n",
              "      <td>0.901105</td>\n",
              "      <td>0.861708</td>\n",
              "      <td>5.541847e+06</td>\n",
              "    </tr>\n",
              "    <tr>\n",
              "      <th>min</th>\n",
              "      <td>6.980000</td>\n",
              "      <td>7.050000</td>\n",
              "      <td>6.870000</td>\n",
              "      <td>7.000000</td>\n",
              "      <td>6.935424</td>\n",
              "      <td>4.735100e+06</td>\n",
              "    </tr>\n",
              "    <tr>\n",
              "      <th>25%</th>\n",
              "      <td>8.055000</td>\n",
              "      <td>8.180000</td>\n",
              "      <td>7.900000</td>\n",
              "      <td>8.025000</td>\n",
              "      <td>7.950969</td>\n",
              "      <td>9.607400e+06</td>\n",
              "    </tr>\n",
              "    <tr>\n",
              "      <th>50%</th>\n",
              "      <td>8.710000</td>\n",
              "      <td>8.860000</td>\n",
              "      <td>8.560000</td>\n",
              "      <td>8.700000</td>\n",
              "      <td>8.608921</td>\n",
              "      <td>1.202910e+07</td>\n",
              "    </tr>\n",
              "    <tr>\n",
              "      <th>75%</th>\n",
              "      <td>9.505000</td>\n",
              "      <td>9.650000</td>\n",
              "      <td>9.370000</td>\n",
              "      <td>9.505000</td>\n",
              "      <td>9.367777</td>\n",
              "      <td>1.540855e+07</td>\n",
              "    </tr>\n",
              "    <tr>\n",
              "      <th>max</th>\n",
              "      <td>10.920000</td>\n",
              "      <td>11.220000</td>\n",
              "      <td>10.620000</td>\n",
              "      <td>10.920000</td>\n",
              "      <td>10.722125</td>\n",
              "      <td>3.951940e+07</td>\n",
              "    </tr>\n",
              "  </tbody>\n",
              "</table>\n",
              "</div>"
            ],
            "text/plain": [
              "             Open        High         Low       Close   Adj Close        Volume\n",
              "count  247.000000  247.000000  247.000000  247.000000  247.000000  2.470000e+02\n",
              "mean     8.753158    8.889717    8.609474    8.736680    8.626404  1.319746e+07\n",
              "std      0.906394    0.915746    0.886942    0.901105    0.861708  5.541847e+06\n",
              "min      6.980000    7.050000    6.870000    7.000000    6.935424  4.735100e+06\n",
              "25%      8.055000    8.180000    7.900000    8.025000    7.950969  9.607400e+06\n",
              "50%      8.710000    8.860000    8.560000    8.700000    8.608921  1.202910e+07\n",
              "75%      9.505000    9.650000    9.370000    9.505000    9.367777  1.540855e+07\n",
              "max     10.920000   11.220000   10.620000   10.920000   10.722125  3.951940e+07"
            ]
          },
          "metadata": {
            "tags": []
          },
          "execution_count": 191
        }
      ]
    },
    {
      "cell_type": "markdown",
      "metadata": {
        "id": "Cw-NIb9EpatP"
      },
      "source": [
        "##**5.2-Tratando os Valores Faltantes**"
      ]
    },
    {
      "cell_type": "code",
      "metadata": {
        "colab": {
          "base_uri": "https://localhost:8080/"
        },
        "id": "lthEX_TZniHb",
        "outputId": "176b8fb9-bcc0-493f-d936-5fdb2061ffa7"
      },
      "source": [
        "#valores faltantes\n",
        "base_teste.isna().sum()"
      ],
      "execution_count": 192,
      "outputs": [
        {
          "output_type": "execute_result",
          "data": {
            "text/plain": [
              "Open         1\n",
              "High         1\n",
              "Low          1\n",
              "Close        1\n",
              "Adj Close    1\n",
              "Volume       1\n",
              "dtype: int64"
            ]
          },
          "metadata": {
            "tags": []
          },
          "execution_count": 192
        }
      ]
    },
    {
      "cell_type": "code",
      "metadata": {
        "colab": {
          "base_uri": "https://localhost:8080/",
          "height": 80
        },
        "id": "uiH2j_UNpjqk",
        "outputId": "4c4af5b8-913a-4db2-c71a-a4389c928d12"
      },
      "source": [
        "#encontrando onde os valores faltantes estão\n",
        "base_teste.loc[pd.isnull(base_teste['Open'])]\n",
        "base_teste.loc[pd.isnull(base_teste['High'])]\n",
        "base_teste.loc[pd.isnull(base_teste['Low'])]\n",
        "base_teste.loc[pd.isnull(base_teste['Close'])]\n",
        "base_teste.loc[pd.isnull(base_teste['Adj Close'])]\n",
        "base_teste.loc[pd.isnull(base_teste['Volume'])]"
      ],
      "execution_count": 193,
      "outputs": [
        {
          "output_type": "execute_result",
          "data": {
            "text/html": [
              "<div>\n",
              "<style scoped>\n",
              "    .dataframe tbody tr th:only-of-type {\n",
              "        vertical-align: middle;\n",
              "    }\n",
              "\n",
              "    .dataframe tbody tr th {\n",
              "        vertical-align: top;\n",
              "    }\n",
              "\n",
              "    .dataframe thead th {\n",
              "        text-align: right;\n",
              "    }\n",
              "</style>\n",
              "<table border=\"1\" class=\"dataframe\">\n",
              "  <thead>\n",
              "    <tr style=\"text-align: right;\">\n",
              "      <th></th>\n",
              "      <th>Open</th>\n",
              "      <th>High</th>\n",
              "      <th>Low</th>\n",
              "      <th>Close</th>\n",
              "      <th>Adj Close</th>\n",
              "      <th>Volume</th>\n",
              "    </tr>\n",
              "  </thead>\n",
              "  <tbody>\n",
              "    <tr>\n",
              "      <th>42</th>\n",
              "      <td>NaN</td>\n",
              "      <td>NaN</td>\n",
              "      <td>NaN</td>\n",
              "      <td>NaN</td>\n",
              "      <td>NaN</td>\n",
              "      <td>NaN</td>\n",
              "    </tr>\n",
              "  </tbody>\n",
              "</table>\n",
              "</div>"
            ],
            "text/plain": [
              "    Open  High  Low  Close  Adj Close  Volume\n",
              "42   NaN   NaN  NaN    NaN        NaN     NaN"
            ]
          },
          "metadata": {
            "tags": []
          },
          "execution_count": 193
        }
      ]
    },
    {
      "cell_type": "code",
      "metadata": {
        "id": "Bbw7axJ75lpn"
      },
      "source": [
        "#preenchendo os valores faltantes com o valor médio\n",
        "imputer = SimpleImputer(missing_values=np.nan, strategy='mean',verbose=0)\n",
        "imputer = imputer.fit(base_teste.iloc[:,0:6])\n",
        "base_teste.iloc[:,0:6] = imputer.transform(base_teste.iloc[:,0:6])"
      ],
      "execution_count": 194,
      "outputs": []
    },
    {
      "cell_type": "code",
      "metadata": {
        "colab": {
          "base_uri": "https://localhost:8080/",
          "height": 49
        },
        "id": "CXAi4QV8pw2x",
        "outputId": "908bd18b-29a4-4ca9-d544-8f0e06b202d2"
      },
      "source": [
        "#verificando novamente se ainda temos valores faltantes\n",
        "base_teste.loc[pd.isnull(base_teste['Open'])]\n",
        "base_teste.loc[pd.isnull(base_teste['High'])]\n",
        "base_teste.loc[pd.isnull(base_teste['Low'])]\n",
        "base_teste.loc[pd.isnull(base_teste['Close'])]\n",
        "base_teste.loc[pd.isnull(base_teste['Adj Close'])]\n",
        "base_teste.loc[pd.isnull(base_teste['Volume'])]"
      ],
      "execution_count": 195,
      "outputs": [
        {
          "output_type": "execute_result",
          "data": {
            "text/html": [
              "<div>\n",
              "<style scoped>\n",
              "    .dataframe tbody tr th:only-of-type {\n",
              "        vertical-align: middle;\n",
              "    }\n",
              "\n",
              "    .dataframe tbody tr th {\n",
              "        vertical-align: top;\n",
              "    }\n",
              "\n",
              "    .dataframe thead th {\n",
              "        text-align: right;\n",
              "    }\n",
              "</style>\n",
              "<table border=\"1\" class=\"dataframe\">\n",
              "  <thead>\n",
              "    <tr style=\"text-align: right;\">\n",
              "      <th></th>\n",
              "      <th>Open</th>\n",
              "      <th>High</th>\n",
              "      <th>Low</th>\n",
              "      <th>Close</th>\n",
              "      <th>Adj Close</th>\n",
              "      <th>Volume</th>\n",
              "    </tr>\n",
              "  </thead>\n",
              "  <tbody>\n",
              "  </tbody>\n",
              "</table>\n",
              "</div>"
            ],
            "text/plain": [
              "Empty DataFrame\n",
              "Columns: [Open, High, Low, Close, Adj Close, Volume]\n",
              "Index: []"
            ]
          },
          "metadata": {
            "tags": []
          },
          "execution_count": 195
        }
      ]
    },
    {
      "cell_type": "markdown",
      "metadata": {
        "id": "X1nZpS8Rp2zr"
      },
      "source": [
        "#**5.3-Tratamento dos valores nulos (iguais a 0)**"
      ]
    },
    {
      "cell_type": "code",
      "metadata": {
        "colab": {
          "base_uri": "https://localhost:8080/"
        },
        "id": "XYwer-dip-KB",
        "outputId": "210c40dc-3c84-4fbb-eaed-326cd930fb0c"
      },
      "source": [
        "#valores nulos\n",
        "(base_teste == 0).sum()"
      ],
      "execution_count": 196,
      "outputs": [
        {
          "output_type": "execute_result",
          "data": {
            "text/plain": [
              "Open         0\n",
              "High         0\n",
              "Low          0\n",
              "Close        0\n",
              "Adj Close    0\n",
              "Volume       0\n",
              "dtype: int64"
            ]
          },
          "metadata": {
            "tags": []
          },
          "execution_count": 196
        }
      ]
    },
    {
      "cell_type": "code",
      "metadata": {
        "colab": {
          "base_uri": "https://localhost:8080/",
          "height": 49
        },
        "id": "sFBo6iR5qEpS",
        "outputId": "63419f7c-1d60-4fa1-8a4c-dd6f29790e2c"
      },
      "source": [
        "#Encontrando os valores nulos\n",
        "base_teste.loc[base_teste['Volume'] == 0]"
      ],
      "execution_count": 197,
      "outputs": [
        {
          "output_type": "execute_result",
          "data": {
            "text/html": [
              "<div>\n",
              "<style scoped>\n",
              "    .dataframe tbody tr th:only-of-type {\n",
              "        vertical-align: middle;\n",
              "    }\n",
              "\n",
              "    .dataframe tbody tr th {\n",
              "        vertical-align: top;\n",
              "    }\n",
              "\n",
              "    .dataframe thead th {\n",
              "        text-align: right;\n",
              "    }\n",
              "</style>\n",
              "<table border=\"1\" class=\"dataframe\">\n",
              "  <thead>\n",
              "    <tr style=\"text-align: right;\">\n",
              "      <th></th>\n",
              "      <th>Open</th>\n",
              "      <th>High</th>\n",
              "      <th>Low</th>\n",
              "      <th>Close</th>\n",
              "      <th>Adj Close</th>\n",
              "      <th>Volume</th>\n",
              "    </tr>\n",
              "  </thead>\n",
              "  <tbody>\n",
              "  </tbody>\n",
              "</table>\n",
              "</div>"
            ],
            "text/plain": [
              "Empty DataFrame\n",
              "Columns: [Open, High, Low, Close, Adj Close, Volume]\n",
              "Index: []"
            ]
          },
          "metadata": {
            "tags": []
          },
          "execution_count": 197
        }
      ]
    },
    {
      "cell_type": "code",
      "metadata": {
        "id": "ofkU-XjcqOQE"
      },
      "source": [
        "#preenchendo os valores nulos com o valor médio\n",
        "imputer = SimpleImputer(missing_values=0, strategy='mean',verbose=0)\n",
        "imputer = imputer.fit(base_teste.iloc[:,0:6])\n",
        "base_teste.iloc[:,0:6] = imputer.transform(base_teste.iloc[:,0:6])"
      ],
      "execution_count": 159,
      "outputs": []
    },
    {
      "cell_type": "code",
      "metadata": {
        "colab": {
          "base_uri": "https://localhost:8080/",
          "height": 49
        },
        "id": "pYUeIwbnppRT",
        "outputId": "a8beecb7-16c6-40ce-c1b0-075f6dc690e0"
      },
      "source": [
        "#Verificando novamente se tem valores nulos\n",
        "base_teste.loc[base_teste['Volume'] == 0]"
      ],
      "execution_count": 160,
      "outputs": [
        {
          "output_type": "execute_result",
          "data": {
            "text/html": [
              "<div>\n",
              "<style scoped>\n",
              "    .dataframe tbody tr th:only-of-type {\n",
              "        vertical-align: middle;\n",
              "    }\n",
              "\n",
              "    .dataframe tbody tr th {\n",
              "        vertical-align: top;\n",
              "    }\n",
              "\n",
              "    .dataframe thead th {\n",
              "        text-align: right;\n",
              "    }\n",
              "</style>\n",
              "<table border=\"1\" class=\"dataframe\">\n",
              "  <thead>\n",
              "    <tr style=\"text-align: right;\">\n",
              "      <th></th>\n",
              "      <th>Open</th>\n",
              "      <th>High</th>\n",
              "      <th>Low</th>\n",
              "      <th>Close</th>\n",
              "      <th>Adj Close</th>\n",
              "      <th>Volume</th>\n",
              "    </tr>\n",
              "  </thead>\n",
              "  <tbody>\n",
              "  </tbody>\n",
              "</table>\n",
              "</div>"
            ],
            "text/plain": [
              "Empty DataFrame\n",
              "Columns: [Open, High, Low, Close, Adj Close, Volume]\n",
              "Index: []"
            ]
          },
          "metadata": {
            "tags": []
          },
          "execution_count": 160
        }
      ]
    },
    {
      "cell_type": "markdown",
      "metadata": {
        "id": "N79Bjk6Yq6ci"
      },
      "source": [
        "##**5.4-Preparando a estrutura para teste**"
      ]
    },
    {
      "cell_type": "code",
      "metadata": {
        "id": "UFINH9OzUfDk"
      },
      "source": [
        "#concatenando a base de dados teste com o base de treinamento\n",
        "preco_real_teste = base_teste.iloc[:, 3:4].values\n",
        "frames = [base, base_teste]\n",
        "base_completa = pd.concat(frames)"
      ],
      "execution_count": 198,
      "outputs": []
    },
    {
      "cell_type": "code",
      "metadata": {
        "id": "-CdLW8IZUhLY"
      },
      "source": [
        "#pegando os 90 registros anteriores para percorrer a base teste e colocando no\n",
        "#no formato np.array\n",
        "entradas = base_completa[len(base_completa) - len(base_teste) - 90:].values\n",
        "entradas = normalizador.transform(entradas)\n",
        "Percorrer_teste = []\n",
        "for i in range(90, 338): \n",
        "    Percorrer_teste.append(entradas[i-90:i, 0:6])\n",
        "Percorrer_teste = np.array(Percorrer_teste)"
      ],
      "execution_count": 199,
      "outputs": []
    },
    {
      "cell_type": "code",
      "metadata": {
        "id": "_YdD2ZcaUi1w"
      },
      "source": [
        "#resultado da predição no formato MinMaxScaler\n",
        "previsoes = regressor.predict(Percorrer_teste)"
      ],
      "execution_count": 200,
      "outputs": []
    },
    {
      "cell_type": "code",
      "metadata": {
        "colab": {
          "base_uri": "https://localhost:8080/"
        },
        "id": "jQS0Ql4tUk2Z",
        "outputId": "03ad8def-5ed3-45b5-e90a-8c83b5e7edfd"
      },
      "source": [
        "#convertendo para a escala MinMaxScaler \n",
        "normalizador_previsao = MinMaxScaler(feature_range=(0,1))\n",
        "normalizador_previsao.fit_transform(base_treinamento[:,3:4])"
      ],
      "execution_count": 201,
      "outputs": [
        {
          "output_type": "execute_result",
          "data": {
            "text/plain": [
              "array([[0.80345499],\n",
              "       [0.80589962],\n",
              "       [0.80508469],\n",
              "       ...,\n",
              "       [0.27053454],\n",
              "       [0.26564536],\n",
              "       [0.27281616]])"
            ]
          },
          "metadata": {
            "tags": []
          },
          "execution_count": 201
        }
      ]
    },
    {
      "cell_type": "code",
      "metadata": {
        "id": "MP_GBjYJUnFe",
        "colab": {
          "base_uri": "https://localhost:8080/"
        },
        "outputId": "13fe04a1-4544-4bfc-df79-910920139647"
      },
      "source": [
        "#colocando a previsão no formato original para preparar a visualização no gráfico\n",
        "previsoes = normalizador_previsao.inverse_transform(previsoes)\n",
        "previsoes"
      ],
      "execution_count": 202,
      "outputs": [
        {
          "output_type": "execute_result",
          "data": {
            "text/plain": [
              "array([[ 9.105812 ],\n",
              "       [ 9.495704 ],\n",
              "       [ 9.520235 ],\n",
              "       [ 9.901515 ],\n",
              "       [10.051682 ],\n",
              "       [ 9.834089 ],\n",
              "       [ 9.951167 ],\n",
              "       [10.1319895],\n",
              "       [10.112455 ],\n",
              "       [ 9.858621 ],\n",
              "       [ 9.719741 ],\n",
              "       [ 9.842449 ],\n",
              "       [ 9.918878 ],\n",
              "       [ 9.912392 ],\n",
              "       [ 9.938231 ],\n",
              "       [ 9.762488 ],\n",
              "       [ 9.692156 ],\n",
              "       [ 9.744199 ],\n",
              "       [ 9.66708  ],\n",
              "       [ 9.667491 ],\n",
              "       [ 9.820512 ],\n",
              "       [ 9.783867 ],\n",
              "       [ 9.6814995],\n",
              "       [ 9.66526  ],\n",
              "       [ 9.70171  ],\n",
              "       [ 9.41854  ],\n",
              "       [ 9.370753 ],\n",
              "       [ 9.459894 ],\n",
              "       [ 9.513817 ],\n",
              "       [ 9.507776 ],\n",
              "       [ 9.504537 ],\n",
              "       [ 9.505763 ],\n",
              "       [ 9.372071 ],\n",
              "       [ 9.298203 ],\n",
              "       [ 9.197433 ],\n",
              "       [ 9.180454 ],\n",
              "       [ 9.328338 ],\n",
              "       [ 9.702281 ],\n",
              "       [10.042935 ],\n",
              "       [10.034061 ],\n",
              "       [ 9.872778 ],\n",
              "       [ 9.64849  ],\n",
              "       [ 9.627495 ],\n",
              "       [ 8.909846 ],\n",
              "       [ 9.380805 ],\n",
              "       [ 9.547077 ],\n",
              "       [ 9.806924 ],\n",
              "       [ 9.91744  ],\n",
              "       [ 9.954802 ],\n",
              "       [10.210687 ],\n",
              "       [10.151214 ],\n",
              "       [10.246302 ],\n",
              "       [10.721061 ],\n",
              "       [10.689496 ],\n",
              "       [10.496928 ],\n",
              "       [10.100661 ],\n",
              "       [10.130405 ],\n",
              "       [10.195489 ],\n",
              "       [ 9.662294 ],\n",
              "       [ 9.621436 ],\n",
              "       [ 9.920168 ],\n",
              "       [10.160379 ],\n",
              "       [ 9.851246 ],\n",
              "       [ 9.710761 ],\n",
              "       [ 9.640838 ],\n",
              "       [ 9.6010275],\n",
              "       [ 9.455119 ],\n",
              "       [ 9.335066 ],\n",
              "       [ 9.3106985],\n",
              "       [ 9.212306 ],\n",
              "       [ 9.142816 ],\n",
              "       [ 9.034781 ],\n",
              "       [ 8.908163 ],\n",
              "       [ 8.777001 ],\n",
              "       [ 8.861178 ],\n",
              "       [ 8.869333 ],\n",
              "       [ 8.843563 ],\n",
              "       [ 8.622691 ],\n",
              "       [ 8.5772505],\n",
              "       [ 8.544217 ],\n",
              "       [ 8.538685 ],\n",
              "       [ 8.530811 ],\n",
              "       [ 8.434182 ],\n",
              "       [ 8.647464 ],\n",
              "       [ 8.722377 ],\n",
              "       [ 8.543264 ],\n",
              "       [ 8.527675 ],\n",
              "       [ 8.487132 ],\n",
              "       [ 8.439771 ],\n",
              "       [ 8.240747 ],\n",
              "       [ 8.162221 ],\n",
              "       [ 8.012309 ],\n",
              "       [ 7.8151503],\n",
              "       [ 7.848013 ],\n",
              "       [ 7.947269 ],\n",
              "       [ 8.238226 ],\n",
              "       [ 8.3909235],\n",
              "       [ 8.229762 ],\n",
              "       [ 8.173364 ],\n",
              "       [ 8.208897 ],\n",
              "       [ 8.223645 ],\n",
              "       [ 8.223448 ],\n",
              "       [ 8.300873 ],\n",
              "       [ 8.23775  ],\n",
              "       [ 8.082266 ],\n",
              "       [ 8.174967 ],\n",
              "       [ 8.238621 ],\n",
              "       [ 8.229534 ],\n",
              "       [ 8.436184 ],\n",
              "       [ 8.6305485],\n",
              "       [ 8.905827 ],\n",
              "       [ 8.839413 ],\n",
              "       [ 8.881898 ],\n",
              "       [ 8.721658 ],\n",
              "       [ 8.6236515],\n",
              "       [ 8.7311945],\n",
              "       [ 8.696468 ],\n",
              "       [ 8.693716 ],\n",
              "       [ 8.709144 ],\n",
              "       [ 8.556554 ],\n",
              "       [ 8.558986 ],\n",
              "       [ 8.607677 ],\n",
              "       [ 8.825423 ],\n",
              "       [ 8.89599  ],\n",
              "       [ 8.80622  ],\n",
              "       [ 8.900385 ],\n",
              "       [ 9.292886 ],\n",
              "       [ 9.553981 ],\n",
              "       [ 9.635702 ],\n",
              "       [ 9.579807 ],\n",
              "       [ 9.4672165],\n",
              "       [ 9.428605 ],\n",
              "       [ 9.350604 ],\n",
              "       [ 9.376176 ],\n",
              "       [ 9.353762 ],\n",
              "       [ 9.352977 ],\n",
              "       [ 9.35288  ],\n",
              "       [ 9.211615 ],\n",
              "       [ 9.103021 ],\n",
              "       [ 8.957822 ],\n",
              "       [ 8.755296 ],\n",
              "       [ 8.774236 ],\n",
              "       [ 8.808096 ],\n",
              "       [ 8.773663 ],\n",
              "       [ 8.713711 ],\n",
              "       [ 8.549526 ],\n",
              "       [ 8.439733 ],\n",
              "       [ 8.241111 ],\n",
              "       [ 8.146865 ],\n",
              "       [ 8.004535 ],\n",
              "       [ 8.156511 ],\n",
              "       [ 8.1358795],\n",
              "       [ 7.981891 ],\n",
              "       [ 8.044841 ],\n",
              "       [ 7.8778443],\n",
              "       [ 7.583741 ],\n",
              "       [ 7.394993 ],\n",
              "       [ 7.199776 ],\n",
              "       [ 7.1830916],\n",
              "       [ 7.322989 ],\n",
              "       [ 7.4501524],\n",
              "       [ 7.3482137],\n",
              "       [ 7.201822 ],\n",
              "       [ 7.068365 ],\n",
              "       [ 6.998205 ],\n",
              "       [ 7.3507457],\n",
              "       [ 7.7270756],\n",
              "       [ 7.8364596],\n",
              "       [ 7.766298 ],\n",
              "       [ 7.6843514],\n",
              "       [ 7.6891804],\n",
              "       [ 7.6624093],\n",
              "       [ 8.026933 ],\n",
              "       [ 8.251945 ],\n",
              "       [ 8.290501 ],\n",
              "       [ 8.291696 ],\n",
              "       [ 8.182387 ],\n",
              "       [ 8.110088 ],\n",
              "       [ 8.214817 ],\n",
              "       [ 8.34982  ],\n",
              "       [ 8.316096 ],\n",
              "       [ 8.199169 ],\n",
              "       [ 8.129211 ],\n",
              "       [ 7.9786105],\n",
              "       [ 7.9717197],\n",
              "       [ 8.016764 ],\n",
              "       [ 7.9966702],\n",
              "       [ 7.870456 ],\n",
              "       [ 7.7489996],\n",
              "       [ 7.5655403],\n",
              "       [ 7.475228 ],\n",
              "       [ 7.537193 ],\n",
              "       [ 7.4559655],\n",
              "       [ 7.356892 ],\n",
              "       [ 7.300409 ],\n",
              "       [ 7.3966827],\n",
              "       [ 7.581949 ],\n",
              "       [ 7.591239 ],\n",
              "       [ 7.638931 ],\n",
              "       [ 7.6171556],\n",
              "       [ 7.6068153],\n",
              "       [ 7.598737 ],\n",
              "       [ 7.6110744],\n",
              "       [ 7.5708494],\n",
              "       [ 7.530792 ],\n",
              "       [ 7.3768578],\n",
              "       [ 7.3103266],\n",
              "       [ 7.275504 ],\n",
              "       [ 7.3386683],\n",
              "       [ 7.362971 ],\n",
              "       [ 7.3125467],\n",
              "       [ 7.3687577],\n",
              "       [ 7.4995914],\n",
              "       [ 7.5582585],\n",
              "       [ 7.624098 ],\n",
              "       [ 8.053789 ],\n",
              "       [ 8.082669 ],\n",
              "       [ 7.9714694],\n",
              "       [ 7.8177576],\n",
              "       [ 7.6865993],\n",
              "       [ 7.6340904],\n",
              "       [ 7.5959916],\n",
              "       [ 7.6176877],\n",
              "       [ 7.93023  ],\n",
              "       [ 8.1398945],\n",
              "       [ 8.319561 ],\n",
              "       [ 8.404177 ],\n",
              "       [ 8.383737 ],\n",
              "       [ 8.382562 ],\n",
              "       [ 8.469266 ],\n",
              "       [ 8.559856 ],\n",
              "       [ 8.570385 ],\n",
              "       [ 8.717303 ],\n",
              "       [ 8.757527 ],\n",
              "       [ 8.885918 ],\n",
              "       [ 8.788484 ],\n",
              "       [ 8.7349615],\n",
              "       [ 8.845262 ],\n",
              "       [ 9.139821 ],\n",
              "       [ 9.216896 ],\n",
              "       [ 9.153762 ],\n",
              "       [ 9.170561 ],\n",
              "       [ 9.192725 ],\n",
              "       [ 9.261877 ],\n",
              "       [ 9.279974 ],\n",
              "       [ 9.426693 ],\n",
              "       [ 9.490642 ],\n",
              "       [ 9.427877 ]], dtype=float32)"
            ]
          },
          "metadata": {
            "tags": []
          },
          "execution_count": 202
        }
      ]
    },
    {
      "cell_type": "markdown",
      "metadata": {
        "id": "lEjN0sRdrGmK"
      },
      "source": [
        "##**6-Análise dos resuldatos**"
      ]
    },
    {
      "cell_type": "code",
      "metadata": {
        "id": "beWuUgy2Uoe_",
        "colab": {
          "base_uri": "https://localhost:8080/",
          "height": 481
        },
        "outputId": "1debfc3c-9b6c-4a74-b1b6-1c67efcca0d3"
      },
      "source": [
        "#Visualizando o gráfico da Previsão da rede\n",
        "plt.plot(preco_real_teste, color = 'red', label = 'Preço real')\n",
        "plt.plot(previsoes, color = 'blue', label = 'Previsões')\n",
        "plt.title('Previsão do preço das ações')\n",
        "plt.xlabel('Tempo em dias')\n",
        "plt.ylabel('Preço das ações')\n",
        "plt.legend()\n",
        "plt.show()"
      ],
      "execution_count": 203,
      "outputs": [
        {
          "output_type": "display_data",
          "data": {
            "image/png": "[encoded data removed]",
            "text/plain": [
              "<Figure size 1800x864 with 1 Axes>"
            ]
          },
          "metadata": {
            "tags": []
          }
        }
      ]
    },
    {
      "cell_type": "code",
      "metadata": {
        "id": "hKA0-lbgUtH-",
        "colab": {
          "base_uri": "https://localhost:8080/",
          "height": 297
        },
        "outputId": "4afcce65-87a6-4e93-cfb0-35e3927b0610"
      },
      "source": [
        "#estatísticas do preço real comparado com a previsão\n",
        "df1 = pd.DataFrame(preco_real_teste).T\n",
        "df2 = pd.DataFrame(previsoes).T\n",
        "\n",
        "df3 = pd.concat([df1,df2]).T\n",
        "df3.columns = ['Preco real', 'Previsoes']\n",
        "df3.describe()"
      ],
      "execution_count": 204,
      "outputs": [
        {
          "output_type": "execute_result",
          "data": {
            "text/html": [
              "<div>\n",
              "<style scoped>\n",
              "    .dataframe tbody tr th:only-of-type {\n",
              "        vertical-align: middle;\n",
              "    }\n",
              "\n",
              "    .dataframe tbody tr th {\n",
              "        vertical-align: top;\n",
              "    }\n",
              "\n",
              "    .dataframe thead th {\n",
              "        text-align: right;\n",
              "    }\n",
              "</style>\n",
              "<table border=\"1\" class=\"dataframe\">\n",
              "  <thead>\n",
              "    <tr style=\"text-align: right;\">\n",
              "      <th></th>\n",
              "      <th>Preco real</th>\n",
              "      <th>Previsoes</th>\n",
              "    </tr>\n",
              "  </thead>\n",
              "  <tbody>\n",
              "    <tr>\n",
              "      <th>count</th>\n",
              "      <td>248.000000</td>\n",
              "      <td>248.000000</td>\n",
              "    </tr>\n",
              "    <tr>\n",
              "      <th>mean</th>\n",
              "      <td>8.736680</td>\n",
              "      <td>8.699460</td>\n",
              "    </tr>\n",
              "    <tr>\n",
              "      <th>std</th>\n",
              "      <td>0.899279</td>\n",
              "      <td>0.869490</td>\n",
              "    </tr>\n",
              "    <tr>\n",
              "      <th>min</th>\n",
              "      <td>7.000000</td>\n",
              "      <td>6.998205</td>\n",
              "    </tr>\n",
              "    <tr>\n",
              "      <th>25%</th>\n",
              "      <td>8.032500</td>\n",
              "      <td>8.015650</td>\n",
              "    </tr>\n",
              "    <tr>\n",
              "      <th>50%</th>\n",
              "      <td>8.700000</td>\n",
              "      <td>8.695092</td>\n",
              "    </tr>\n",
              "    <tr>\n",
              "      <th>75%</th>\n",
              "      <td>9.502500</td>\n",
              "      <td>9.435234</td>\n",
              "    </tr>\n",
              "    <tr>\n",
              "      <th>max</th>\n",
              "      <td>10.920000</td>\n",
              "      <td>10.721061</td>\n",
              "    </tr>\n",
              "  </tbody>\n",
              "</table>\n",
              "</div>"
            ],
            "text/plain": [
              "       Preco real   Previsoes\n",
              "count  248.000000  248.000000\n",
              "mean     8.736680    8.699460\n",
              "std      0.899279    0.869490\n",
              "min      7.000000    6.998205\n",
              "25%      8.032500    8.015650\n",
              "50%      8.700000    8.695092\n",
              "75%      9.502500    9.435234\n",
              "max     10.920000   10.721061"
            ]
          },
          "metadata": {
            "tags": []
          },
          "execution_count": 204
        }
      ]
    },
    {
      "cell_type": "code",
      "metadata": {
        "id": "ZjIrFF8Y_M9N"
      },
      "source": [
        "#df2 = pd.DataFrame(previsoes)\n",
        "#df2.describe()"
      ],
      "execution_count": null,
      "outputs": []
    },
    {
      "cell_type": "code",
      "metadata": {
        "id": "TKfgSJAIV5a_"
      },
      "source": [
        "#df1 = pd.DataFrame(preco_real_teste)\n",
        "#df1.describe()"
      ],
      "execution_count": null,
      "outputs": []
    }
  ]
}