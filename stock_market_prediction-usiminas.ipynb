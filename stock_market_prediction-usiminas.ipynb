{
  "nbformat": 4,
  "nbformat_minor": 0,
  "metadata": {
    "colab": {
      "name": "stock-market-prediction.ipynb",
      "provenance": [],
      "collapsed_sections": [
        "UiXZAchqFuC-",
        "SuPg1RFvQyMS",
        "8MLClRMWPwTL",
        "hCiQYMqPGHuG",
        "4IDwP-XV_Ohd",
        "RtFahmEgGAzZ"
      ],
      "toc_visible": true,
      "authorship_tag": "ABX9TyPDlbWkL/HOCACEpIRGYB9f",
      "include_colab_link": true
    },
    "kernelspec": {
      "name": "python3",
      "display_name": "Python 3"
    },
    "accelerator": "GPU"
  },
  "cells": [
    {
      "cell_type": "markdown",
      "metadata": {
        "id": "view-in-github",
        "colab_type": "text"
      },
      "source": [
        "<a href=\"https://colab.research.google.com/github/claubermartins/Stock-market-prediction/blob/main/stock_market_prediction-usiminas.ipynb\" target=\"_parent\"><img src=\"https://colab.research.google.com/assets/colab-badge.svg\" alt=\"Open In Colab\"/></a>"
      ]
    },
    {
      "cell_type": "code",
      "metadata": {
        "colab": {
          "base_uri": "https://localhost:8080/"
        },
        "id": "XjlKRgiDRdpq",
        "outputId": "39309093-c0a9-48ee-e3e8-1b7198b50066"
      },
      "source": [
        "pip install inflection"
      ],
      "execution_count": 1,
      "outputs": [
        {
          "output_type": "stream",
          "text": [
            "Collecting inflection\n",
            "  Downloading https://files.pythonhosted.org/packages/59/91/aa6bde563e0085a02a435aa99b49ef75b0a4b062635e606dab23ce18d720/inflection-0.5.1-py2.py3-none-any.whl\n",
            "Installing collected packages: inflection\n",
            "Successfully installed inflection-0.5.1\n"
          ],
          "name": "stdout"
        }
      ]
    },
    {
      "cell_type": "markdown",
      "metadata": {
        "id": "UiXZAchqFuC-"
      },
      "source": [
        "#**1-Importando bibliotecas**"
      ]
    },
    {
      "cell_type": "code",
      "metadata": {
        "id": "ZjQg-8c_--wP"
      },
      "source": [
        "from tensorflow.keras.models import Sequential \n",
        "from tensorflow.keras.layers import Dense, Dropout, LSTM\n",
        "from tensorflow.keras.callbacks import EarlyStopping \n",
        "from sklearn.preprocessing import MinMaxScaler\n",
        "from sklearn.impute import SimpleImputer\n",
        "import numpy as np\n",
        "import pandas as pd\n",
        "import matplotlib.pyplot as plt\n",
        "import tensorflow as tf\n",
        "import math\n",
        "import seaborn as sns\n",
        "import datetime\n",
        "import inflection\n",
        "from IPython.core.display import HTML"
      ],
      "execution_count": 2,
      "outputs": []
    },
    {
      "cell_type": "markdown",
      "metadata": {
        "id": "SuPg1RFvQyMS"
      },
      "source": [
        "#**2-Funções auxiliares para o Jupyter Notebook**"
      ]
    },
    {
      "cell_type": "code",
      "metadata": {
        "id": "2vKvPdvDPJHc"
      },
      "source": [
        "def jupyter_settings():\n",
        "    %matplotlib inline\n",
        "    %pylab inline\n",
        "    \n",
        "    plt.style.use( 'bmh' )\n",
        "    plt.rcParams['figure.figsize'] = [25, 12]\n",
        "    plt.rcParams['font.size'] = 24\n",
        "    \n",
        "    display( HTML( '<style>.container { width:100% !important; }</style>') )\n",
        "    pd.options.display.max_columns = None\n",
        "    pd.options.display.max_rows = None\n",
        "    pd.set_option( 'display.expand_frame_repr', False )\n",
        "    \n",
        "    sns.set()"
      ],
      "execution_count": 3,
      "outputs": []
    },
    {
      "cell_type": "code",
      "metadata": {
        "colab": {
          "base_uri": "https://localhost:8080/",
          "height": 34
        },
        "id": "PGJn-AaoMxuy",
        "outputId": "e2a7cf2c-c04e-4d6a-87ee-9a283012c907"
      },
      "source": [
        "jupyter_settings()"
      ],
      "execution_count": 4,
      "outputs": [
        {
          "output_type": "stream",
          "text": [
            "Populating the interactive namespace from numpy and matplotlib\n"
          ],
          "name": "stdout"
        },
        {
          "output_type": "display_data",
          "data": {
            "text/html": [
              "<style>.container { width:100% !important; }</style>"
            ],
            "text/plain": [
              "<IPython.core.display.HTML object>"
            ]
          },
          "metadata": {
            "tags": []
          }
        }
      ]
    },
    {
      "cell_type": "markdown",
      "metadata": {
        "id": "c_3core8Shq6"
      },
      "source": [
        "##**2.1Método de importação de arquivos do Google Colab**"
      ]
    },
    {
      "cell_type": "code",
      "metadata": {
        "id": "cTk_YEVdyms3",
        "colab": {
          "resources": {
            "http://localhost:8080/nbextensions/google.colab/files.js": {
              "data": "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",
              "ok": true,
              "headers": [
                [
                  "content-type",
                  "application/javascript"
                ]
              ],
              "status": 200,
              "status_text": ""
            }
          },
          "base_uri": "https://localhost:8080/",
          "height": 157
        },
        "outputId": "883e0f7c-db46-49ea-9ce6-27596c654eeb"
      },
      "source": [
        "from google.colab import files\n",
        "upload = files.upload()\n",
        "print(\"downloaded files: \")\n",
        "print(*upload, sep = \"\\n\")"
      ],
      "execution_count": 5,
      "outputs": [
        {
          "output_type": "display_data",
          "data": {
            "text/html": [
              "\n",
              "     <input type=\"file\" id=\"files-072beb5f-b334-4490-bdc0-6fa5b8083c25\" name=\"files[]\" multiple disabled\n",
              "        style=\"border:none\" />\n",
              "     <output id=\"result-072beb5f-b334-4490-bdc0-6fa5b8083c25\">\n",
              "      Upload widget is only available when the cell has been executed in the\n",
              "      current browser session. Please rerun this cell to enable.\n",
              "      </output>\n",
              "      <script src=\"/nbextensions/google.colab/files.js\"></script> "
            ],
            "text/plain": [
              "<IPython.core.display.HTML object>"
            ]
          },
          "metadata": {
            "tags": []
          }
        },
        {
          "output_type": "stream",
          "text": [
            "Saving USIM5-teste.csv to USIM5-teste.csv\n",
            "Saving USIM5-treinamento.csv to USIM5-treinamento.csv\n",
            "downloaded files: \n",
            "USIM5-teste.csv\n",
            "USIM5-treinamento.csv\n"
          ],
          "name": "stdout"
        }
      ]
    },
    {
      "cell_type": "markdown",
      "metadata": {
        "id": "8MLClRMWPwTL"
      },
      "source": [
        "#**3-Tratamento dos dados**"
      ]
    },
    {
      "cell_type": "markdown",
      "metadata": {
        "id": "DOJanakhS-s2"
      },
      "source": [
        "##**3.1-Importando os dados**"
      ]
    },
    {
      "cell_type": "code",
      "metadata": {
        "id": "vYFCwA5GTB2j"
      },
      "source": [
        "base = pd.read_csv('USIM5-treinamento.csv')\n",
        "base = base.drop('Date', axis = 1)"
      ],
      "execution_count": 6,
      "outputs": []
    },
    {
      "cell_type": "code",
      "metadata": {
        "colab": {
          "base_uri": "https://localhost:8080/",
          "height": 0
        },
        "id": "SD9oSvK-NE0Y",
        "outputId": "5f1251a2-1297-44b0-cbd0-ebac809cdcd4"
      },
      "source": [
        "#valores estatísticos\n",
        "base.describe()"
      ],
      "execution_count": 7,
      "outputs": [
        {
          "output_type": "execute_result",
          "data": {
            "text/html": [
              "<div>\n",
              "<style scoped>\n",
              "    .dataframe tbody tr th:only-of-type {\n",
              "        vertical-align: middle;\n",
              "    }\n",
              "\n",
              "    .dataframe tbody tr th {\n",
              "        vertical-align: top;\n",
              "    }\n",
              "\n",
              "    .dataframe thead th {\n",
              "        text-align: right;\n",
              "    }\n",
              "</style>\n",
              "<table border=\"1\" class=\"dataframe\">\n",
              "  <thead>\n",
              "    <tr style=\"text-align: right;\">\n",
              "      <th></th>\n",
              "      <th>Open</th>\n",
              "      <th>High</th>\n",
              "      <th>Low</th>\n",
              "      <th>Close</th>\n",
              "      <th>Adj Close</th>\n",
              "      <th>Volume</th>\n",
              "    </tr>\n",
              "  </thead>\n",
              "  <tbody>\n",
              "    <tr>\n",
              "      <th>count</th>\n",
              "      <td>2231.000000</td>\n",
              "      <td>2231.000000</td>\n",
              "      <td>2231.000000</td>\n",
              "      <td>2231.000000</td>\n",
              "      <td>2231.000000</td>\n",
              "      <td>2.231000e+03</td>\n",
              "    </tr>\n",
              "    <tr>\n",
              "      <th>mean</th>\n",
              "      <td>10.007257</td>\n",
              "      <td>10.185596</td>\n",
              "      <td>9.808642</td>\n",
              "      <td>9.979787</td>\n",
              "      <td>9.542941</td>\n",
              "      <td>1.128591e+07</td>\n",
              "    </tr>\n",
              "    <tr>\n",
              "      <th>std</th>\n",
              "      <td>6.413546</td>\n",
              "      <td>6.483346</td>\n",
              "      <td>6.330374</td>\n",
              "      <td>6.402766</td>\n",
              "      <td>5.965251</td>\n",
              "      <td>9.409252e+06</td>\n",
              "    </tr>\n",
              "    <tr>\n",
              "      <th>min</th>\n",
              "      <td>0.840000</td>\n",
              "      <td>0.890000</td>\n",
              "      <td>0.820000</td>\n",
              "      <td>0.850000</td>\n",
              "      <td>0.824459</td>\n",
              "      <td>0.000000e+00</td>\n",
              "    </tr>\n",
              "    <tr>\n",
              "      <th>25%</th>\n",
              "      <td>4.950000</td>\n",
              "      <td>5.045000</td>\n",
              "      <td>4.850000</td>\n",
              "      <td>4.920000</td>\n",
              "      <td>4.772164</td>\n",
              "      <td>5.442300e+06</td>\n",
              "    </tr>\n",
              "    <tr>\n",
              "      <th>50%</th>\n",
              "      <td>9.090000</td>\n",
              "      <td>9.300000</td>\n",
              "      <td>8.870000</td>\n",
              "      <td>9.030000</td>\n",
              "      <td>8.768293</td>\n",
              "      <td>8.232200e+06</td>\n",
              "    </tr>\n",
              "    <tr>\n",
              "      <th>75%</th>\n",
              "      <td>11.900000</td>\n",
              "      <td>12.120000</td>\n",
              "      <td>11.700000</td>\n",
              "      <td>11.895000</td>\n",
              "      <td>11.456619</td>\n",
              "      <td>1.430935e+07</td>\n",
              "    </tr>\n",
              "    <tr>\n",
              "      <th>max</th>\n",
              "      <td>31.825001</td>\n",
              "      <td>32.224998</td>\n",
              "      <td>31.405001</td>\n",
              "      <td>31.530001</td>\n",
              "      <td>29.369699</td>\n",
              "      <td>8.992150e+07</td>\n",
              "    </tr>\n",
              "  </tbody>\n",
              "</table>\n",
              "</div>"
            ],
            "text/plain": [
              "              Open         High          Low        Close    Adj Close        Volume\n",
              "count  2231.000000  2231.000000  2231.000000  2231.000000  2231.000000  2.231000e+03\n",
              "mean     10.007257    10.185596     9.808642     9.979787     9.542941  1.128591e+07\n",
              "std       6.413546     6.483346     6.330374     6.402766     5.965251  9.409252e+06\n",
              "min       0.840000     0.890000     0.820000     0.850000     0.824459  0.000000e+00\n",
              "25%       4.950000     5.045000     4.850000     4.920000     4.772164  5.442300e+06\n",
              "50%       9.090000     9.300000     8.870000     9.030000     8.768293  8.232200e+06\n",
              "75%      11.900000    12.120000    11.700000    11.895000    11.456619  1.430935e+07\n",
              "max      31.825001    32.224998    31.405001    31.530001    29.369699  8.992150e+07"
            ]
          },
          "metadata": {
            "tags": []
          },
          "execution_count": 7
        }
      ]
    },
    {
      "cell_type": "code",
      "metadata": {
        "colab": {
          "base_uri": "https://localhost:8080/"
        },
        "id": "fbKUPwPSNJqm",
        "outputId": "415afd3f-8ecc-4ea1-ec76-8be47a4f4bdc"
      },
      "source": [
        "base.dtypes"
      ],
      "execution_count": 8,
      "outputs": [
        {
          "output_type": "execute_result",
          "data": {
            "text/plain": [
              "Open         float64\n",
              "High         float64\n",
              "Low          float64\n",
              "Close        float64\n",
              "Adj Close    float64\n",
              "Volume       float64\n",
              "dtype: object"
            ]
          },
          "metadata": {
            "tags": []
          },
          "execution_count": 8
        }
      ]
    },
    {
      "cell_type": "markdown",
      "metadata": {
        "id": "bCTD3wo2TfZF"
      },
      "source": [
        "##**3.2-Tratando os Valores Faltantes**"
      ]
    },
    {
      "cell_type": "code",
      "metadata": {
        "colab": {
          "base_uri": "https://localhost:8080/"
        },
        "id": "H60SOo8MTjjP",
        "outputId": "8458be09-1e66-41a6-ec71-66aa9fd99ccc"
      },
      "source": [
        "#valores faltantes\n",
        "base.isna().sum()"
      ],
      "execution_count": 9,
      "outputs": [
        {
          "output_type": "execute_result",
          "data": {
            "text/plain": [
              "Open         1\n",
              "High         1\n",
              "Low          1\n",
              "Close        1\n",
              "Adj Close    1\n",
              "Volume       1\n",
              "dtype: int64"
            ]
          },
          "metadata": {
            "tags": []
          },
          "execution_count": 9
        }
      ]
    },
    {
      "cell_type": "code",
      "metadata": {
        "colab": {
          "base_uri": "https://localhost:8080/",
          "height": 0
        },
        "id": "H-DMfyHXTkdi",
        "outputId": "5592a194-c20f-4e8f-bdbf-4947d75cb9a1"
      },
      "source": [
        "#encontrando onde os valores faltantes estão\n",
        "base.loc[pd.isnull(base['Open'])]\n",
        "base.loc[pd.isnull(base['High'])]\n",
        "base.loc[pd.isnull(base['Low'])]\n",
        "base.loc[pd.isnull(base['Close'])]\n",
        "base.loc[pd.isnull(base['Adj Close'])]\n",
        "base.loc[pd.isnull(base['Volume'])]"
      ],
      "execution_count": 10,
      "outputs": [
        {
          "output_type": "execute_result",
          "data": {
            "text/html": [
              "<div>\n",
              "<style scoped>\n",
              "    .dataframe tbody tr th:only-of-type {\n",
              "        vertical-align: middle;\n",
              "    }\n",
              "\n",
              "    .dataframe tbody tr th {\n",
              "        vertical-align: top;\n",
              "    }\n",
              "\n",
              "    .dataframe thead th {\n",
              "        text-align: right;\n",
              "    }\n",
              "</style>\n",
              "<table border=\"1\" class=\"dataframe\">\n",
              "  <thead>\n",
              "    <tr style=\"text-align: right;\">\n",
              "      <th></th>\n",
              "      <th>Open</th>\n",
              "      <th>High</th>\n",
              "      <th>Low</th>\n",
              "      <th>Close</th>\n",
              "      <th>Adj Close</th>\n",
              "      <th>Volume</th>\n",
              "    </tr>\n",
              "  </thead>\n",
              "  <tbody>\n",
              "    <tr>\n",
              "      <th>2015</th>\n",
              "      <td>NaN</td>\n",
              "      <td>NaN</td>\n",
              "      <td>NaN</td>\n",
              "      <td>NaN</td>\n",
              "      <td>NaN</td>\n",
              "      <td>NaN</td>\n",
              "    </tr>\n",
              "  </tbody>\n",
              "</table>\n",
              "</div>"
            ],
            "text/plain": [
              "      Open  High  Low  Close  Adj Close  Volume\n",
              "2015   NaN   NaN  NaN    NaN        NaN     NaN"
            ]
          },
          "metadata": {
            "tags": []
          },
          "execution_count": 10
        }
      ]
    },
    {
      "cell_type": "code",
      "metadata": {
        "id": "6q0YFzy9TmPD"
      },
      "source": [
        "#preenchendo os valores nulos com o valor médio\n",
        "imputer = SimpleImputer(missing_values=np.nan, strategy='mean',verbose=0)\n",
        "imputer = imputer.fit(base.iloc[:,0:6])\n",
        "base.iloc[:,0:6] = imputer.transform(base.iloc[:,0:6])"
      ],
      "execution_count": 11,
      "outputs": []
    },
    {
      "cell_type": "code",
      "metadata": {
        "colab": {
          "base_uri": "https://localhost:8080/",
          "height": 0
        },
        "id": "gQC2HfFnTpe2",
        "outputId": "476682af-0537-4972-fc58-2e177fed7bf3"
      },
      "source": [
        "#verificando novamente se ainda temos valores faltantes\n",
        "base.loc[pd.isnull(base['Open'])]\n",
        "base.loc[pd.isnull(base['High'])]\n",
        "base.loc[pd.isnull(base['Low'])]\n",
        "base.loc[pd.isnull(base['Close'])]\n",
        "base.loc[pd.isnull(base['Adj Close'])]\n",
        "base.loc[pd.isnull(base['Volume'])]"
      ],
      "execution_count": 12,
      "outputs": [
        {
          "output_type": "execute_result",
          "data": {
            "text/html": [
              "<div>\n",
              "<style scoped>\n",
              "    .dataframe tbody tr th:only-of-type {\n",
              "        vertical-align: middle;\n",
              "    }\n",
              "\n",
              "    .dataframe tbody tr th {\n",
              "        vertical-align: top;\n",
              "    }\n",
              "\n",
              "    .dataframe thead th {\n",
              "        text-align: right;\n",
              "    }\n",
              "</style>\n",
              "<table border=\"1\" class=\"dataframe\">\n",
              "  <thead>\n",
              "    <tr style=\"text-align: right;\">\n",
              "      <th></th>\n",
              "      <th>Open</th>\n",
              "      <th>High</th>\n",
              "      <th>Low</th>\n",
              "      <th>Close</th>\n",
              "      <th>Adj Close</th>\n",
              "      <th>Volume</th>\n",
              "    </tr>\n",
              "  </thead>\n",
              "  <tbody>\n",
              "  </tbody>\n",
              "</table>\n",
              "</div>"
            ],
            "text/plain": [
              "Empty DataFrame\n",
              "Columns: [Open, High, Low, Close, Adj Close, Volume]\n",
              "Index: []"
            ]
          },
          "metadata": {
            "tags": []
          },
          "execution_count": 12
        }
      ]
    },
    {
      "cell_type": "markdown",
      "metadata": {
        "id": "_WuI_UbmTt3W"
      },
      "source": [
        "##**3.3-Tratamento dos valores nulos (iguais a 0)**"
      ]
    },
    {
      "cell_type": "code",
      "metadata": {
        "colab": {
          "base_uri": "https://localhost:8080/"
        },
        "id": "hyRiBN32Twb2",
        "outputId": "c07dfe9f-b010-4f7b-e2cc-8a9cf7222d7f"
      },
      "source": [
        "#valores nulos\n",
        "(base == 0).sum()"
      ],
      "execution_count": 13,
      "outputs": [
        {
          "output_type": "execute_result",
          "data": {
            "text/plain": [
              "Open          0\n",
              "High          0\n",
              "Low           0\n",
              "Close         0\n",
              "Adj Close     0\n",
              "Volume       39\n",
              "dtype: int64"
            ]
          },
          "metadata": {
            "tags": []
          },
          "execution_count": 13
        }
      ]
    },
    {
      "cell_type": "code",
      "metadata": {
        "colab": {
          "base_uri": "https://localhost:8080/",
          "height": 0
        },
        "id": "nQPTB9_TT3Dy",
        "outputId": "aa5717dd-a585-4815-a054-3245d63d51a0"
      },
      "source": [
        "#Encontrando os valores nulos\n",
        "base.loc[base['Volume'] == 0]"
      ],
      "execution_count": 14,
      "outputs": [
        {
          "output_type": "execute_result",
          "data": {
            "text/html": [
              "<div>\n",
              "<style scoped>\n",
              "    .dataframe tbody tr th:only-of-type {\n",
              "        vertical-align: middle;\n",
              "    }\n",
              "\n",
              "    .dataframe tbody tr th {\n",
              "        vertical-align: top;\n",
              "    }\n",
              "\n",
              "    .dataframe thead th {\n",
              "        text-align: right;\n",
              "    }\n",
              "</style>\n",
              "<table border=\"1\" class=\"dataframe\">\n",
              "  <thead>\n",
              "    <tr style=\"text-align: right;\">\n",
              "      <th></th>\n",
              "      <th>Open</th>\n",
              "      <th>High</th>\n",
              "      <th>Low</th>\n",
              "      <th>Close</th>\n",
              "      <th>Adj Close</th>\n",
              "      <th>Volume</th>\n",
              "    </tr>\n",
              "  </thead>\n",
              "  <tbody>\n",
              "    <tr>\n",
              "      <th>48</th>\n",
              "      <td>27.815001</td>\n",
              "      <td>27.815001</td>\n",
              "      <td>27.815001</td>\n",
              "      <td>27.815001</td>\n",
              "      <td>25.838741</td>\n",
              "      <td>0.0</td>\n",
              "    </tr>\n",
              "    <tr>\n",
              "      <th>64</th>\n",
              "      <td>29.975000</td>\n",
              "      <td>29.975000</td>\n",
              "      <td>29.975000</td>\n",
              "      <td>29.975000</td>\n",
              "      <td>27.921242</td>\n",
              "      <td>0.0</td>\n",
              "    </tr>\n",
              "    <tr>\n",
              "      <th>80</th>\n",
              "      <td>28.055000</td>\n",
              "      <td>28.055000</td>\n",
              "      <td>28.055000</td>\n",
              "      <td>28.055000</td>\n",
              "      <td>26.132795</td>\n",
              "      <td>0.0</td>\n",
              "    </tr>\n",
              "    <tr>\n",
              "      <th>284</th>\n",
              "      <td>19.040001</td>\n",
              "      <td>19.040001</td>\n",
              "      <td>19.040001</td>\n",
              "      <td>19.040001</td>\n",
              "      <td>18.121393</td>\n",
              "      <td>0.0</td>\n",
              "    </tr>\n",
              "    <tr>\n",
              "      <th>291</th>\n",
              "      <td>20.799999</td>\n",
              "      <td>20.799999</td>\n",
              "      <td>20.799999</td>\n",
              "      <td>20.799999</td>\n",
              "      <td>19.796480</td>\n",
              "      <td>0.0</td>\n",
              "    </tr>\n",
              "    <tr>\n",
              "      <th>302</th>\n",
              "      <td>20.469999</td>\n",
              "      <td>20.469999</td>\n",
              "      <td>20.469999</td>\n",
              "      <td>20.469999</td>\n",
              "      <td>19.619831</td>\n",
              "      <td>0.0</td>\n",
              "    </tr>\n",
              "    <tr>\n",
              "      <th>303</th>\n",
              "      <td>20.469999</td>\n",
              "      <td>20.469999</td>\n",
              "      <td>20.469999</td>\n",
              "      <td>20.469999</td>\n",
              "      <td>19.619831</td>\n",
              "      <td>0.0</td>\n",
              "    </tr>\n",
              "    <tr>\n",
              "      <th>304</th>\n",
              "      <td>20.469999</td>\n",
              "      <td>20.469999</td>\n",
              "      <td>20.469999</td>\n",
              "      <td>20.469999</td>\n",
              "      <td>19.619831</td>\n",
              "      <td>0.0</td>\n",
              "    </tr>\n",
              "    <tr>\n",
              "      <th>305</th>\n",
              "      <td>20.469999</td>\n",
              "      <td>20.469999</td>\n",
              "      <td>20.469999</td>\n",
              "      <td>20.469999</td>\n",
              "      <td>19.619831</td>\n",
              "      <td>0.0</td>\n",
              "    </tr>\n",
              "    <tr>\n",
              "      <th>306</th>\n",
              "      <td>20.469999</td>\n",
              "      <td>20.469999</td>\n",
              "      <td>20.469999</td>\n",
              "      <td>20.469999</td>\n",
              "      <td>19.619831</td>\n",
              "      <td>0.0</td>\n",
              "    </tr>\n",
              "    <tr>\n",
              "      <th>307</th>\n",
              "      <td>20.469999</td>\n",
              "      <td>20.469999</td>\n",
              "      <td>20.469999</td>\n",
              "      <td>20.469999</td>\n",
              "      <td>19.619831</td>\n",
              "      <td>0.0</td>\n",
              "    </tr>\n",
              "    <tr>\n",
              "      <th>308</th>\n",
              "      <td>20.469999</td>\n",
              "      <td>20.469999</td>\n",
              "      <td>20.469999</td>\n",
              "      <td>20.469999</td>\n",
              "      <td>19.619831</td>\n",
              "      <td>0.0</td>\n",
              "    </tr>\n",
              "    <tr>\n",
              "      <th>309</th>\n",
              "      <td>20.469999</td>\n",
              "      <td>20.469999</td>\n",
              "      <td>20.469999</td>\n",
              "      <td>20.469999</td>\n",
              "      <td>19.619831</td>\n",
              "      <td>0.0</td>\n",
              "    </tr>\n",
              "    <tr>\n",
              "      <th>333</th>\n",
              "      <td>15.120000</td>\n",
              "      <td>15.120000</td>\n",
              "      <td>15.120000</td>\n",
              "      <td>15.120000</td>\n",
              "      <td>14.492029</td>\n",
              "      <td>0.0</td>\n",
              "    </tr>\n",
              "    <tr>\n",
              "      <th>337</th>\n",
              "      <td>15.070000</td>\n",
              "      <td>15.070000</td>\n",
              "      <td>15.070000</td>\n",
              "      <td>15.070000</td>\n",
              "      <td>14.444105</td>\n",
              "      <td>0.0</td>\n",
              "    </tr>\n",
              "    <tr>\n",
              "      <th>450</th>\n",
              "      <td>11.750000</td>\n",
              "      <td>11.750000</td>\n",
              "      <td>11.750000</td>\n",
              "      <td>11.750000</td>\n",
              "      <td>11.261992</td>\n",
              "      <td>0.0</td>\n",
              "    </tr>\n",
              "    <tr>\n",
              "      <th>451</th>\n",
              "      <td>11.750000</td>\n",
              "      <td>11.750000</td>\n",
              "      <td>11.750000</td>\n",
              "      <td>11.750000</td>\n",
              "      <td>11.261992</td>\n",
              "      <td>0.0</td>\n",
              "    </tr>\n",
              "    <tr>\n",
              "      <th>452</th>\n",
              "      <td>11.750000</td>\n",
              "      <td>11.750000</td>\n",
              "      <td>11.750000</td>\n",
              "      <td>11.750000</td>\n",
              "      <td>11.261992</td>\n",
              "      <td>0.0</td>\n",
              "    </tr>\n",
              "    <tr>\n",
              "      <th>461</th>\n",
              "      <td>11.850000</td>\n",
              "      <td>11.850000</td>\n",
              "      <td>11.850000</td>\n",
              "      <td>11.850000</td>\n",
              "      <td>11.357842</td>\n",
              "      <td>0.0</td>\n",
              "    </tr>\n",
              "    <tr>\n",
              "      <th>482</th>\n",
              "      <td>10.490000</td>\n",
              "      <td>10.490000</td>\n",
              "      <td>10.490000</td>\n",
              "      <td>10.490000</td>\n",
              "      <td>10.054325</td>\n",
              "      <td>0.0</td>\n",
              "    </tr>\n",
              "    <tr>\n",
              "      <th>507</th>\n",
              "      <td>11.130000</td>\n",
              "      <td>11.130000</td>\n",
              "      <td>11.130000</td>\n",
              "      <td>11.130000</td>\n",
              "      <td>10.667744</td>\n",
              "      <td>0.0</td>\n",
              "    </tr>\n",
              "    <tr>\n",
              "      <th>547</th>\n",
              "      <td>13.610000</td>\n",
              "      <td>13.610000</td>\n",
              "      <td>13.610000</td>\n",
              "      <td>13.610000</td>\n",
              "      <td>13.044743</td>\n",
              "      <td>0.0</td>\n",
              "    </tr>\n",
              "    <tr>\n",
              "      <th>590</th>\n",
              "      <td>9.390000</td>\n",
              "      <td>9.390000</td>\n",
              "      <td>9.390000</td>\n",
              "      <td>9.390000</td>\n",
              "      <td>9.057675</td>\n",
              "      <td>0.0</td>\n",
              "    </tr>\n",
              "    <tr>\n",
              "      <th>609</th>\n",
              "      <td>7.450000</td>\n",
              "      <td>7.450000</td>\n",
              "      <td>7.450000</td>\n",
              "      <td>7.450000</td>\n",
              "      <td>7.186334</td>\n",
              "      <td>0.0</td>\n",
              "    </tr>\n",
              "    <tr>\n",
              "      <th>628</th>\n",
              "      <td>6.340000</td>\n",
              "      <td>6.340000</td>\n",
              "      <td>6.340000</td>\n",
              "      <td>6.340000</td>\n",
              "      <td>6.115619</td>\n",
              "      <td>0.0</td>\n",
              "    </tr>\n",
              "    <tr>\n",
              "      <th>653</th>\n",
              "      <td>7.960000</td>\n",
              "      <td>7.960000</td>\n",
              "      <td>7.960000</td>\n",
              "      <td>7.960000</td>\n",
              "      <td>7.678284</td>\n",
              "      <td>0.0</td>\n",
              "    </tr>\n",
              "    <tr>\n",
              "      <th>799</th>\n",
              "      <td>10.760000</td>\n",
              "      <td>10.760000</td>\n",
              "      <td>10.760000</td>\n",
              "      <td>10.760000</td>\n",
              "      <td>10.379189</td>\n",
              "      <td>0.0</td>\n",
              "    </tr>\n",
              "    <tr>\n",
              "      <th>819</th>\n",
              "      <td>10.630000</td>\n",
              "      <td>10.630000</td>\n",
              "      <td>10.630000</td>\n",
              "      <td>10.630000</td>\n",
              "      <td>10.253790</td>\n",
              "      <td>0.0</td>\n",
              "    </tr>\n",
              "    <tr>\n",
              "      <th>881</th>\n",
              "      <td>7.810000</td>\n",
              "      <td>7.810000</td>\n",
              "      <td>7.810000</td>\n",
              "      <td>7.810000</td>\n",
              "      <td>7.533593</td>\n",
              "      <td>0.0</td>\n",
              "    </tr>\n",
              "    <tr>\n",
              "      <th>1831</th>\n",
              "      <td>4.060000</td>\n",
              "      <td>4.060000</td>\n",
              "      <td>4.060000</td>\n",
              "      <td>4.060000</td>\n",
              "      <td>3.938005</td>\n",
              "      <td>0.0</td>\n",
              "    </tr>\n",
              "    <tr>\n",
              "      <th>1844</th>\n",
              "      <td>3.960000</td>\n",
              "      <td>3.960000</td>\n",
              "      <td>3.960000</td>\n",
              "      <td>3.960000</td>\n",
              "      <td>3.841010</td>\n",
              "      <td>0.0</td>\n",
              "    </tr>\n",
              "    <tr>\n",
              "      <th>1904</th>\n",
              "      <td>8.330000</td>\n",
              "      <td>8.330000</td>\n",
              "      <td>8.330000</td>\n",
              "      <td>8.330000</td>\n",
              "      <td>8.079700</td>\n",
              "      <td>0.0</td>\n",
              "    </tr>\n",
              "    <tr>\n",
              "      <th>1929</th>\n",
              "      <td>9.700000</td>\n",
              "      <td>9.700000</td>\n",
              "      <td>9.700000</td>\n",
              "      <td>9.700000</td>\n",
              "      <td>9.408535</td>\n",
              "      <td>0.0</td>\n",
              "    </tr>\n",
              "    <tr>\n",
              "      <th>1944</th>\n",
              "      <td>8.490000</td>\n",
              "      <td>8.490000</td>\n",
              "      <td>8.490000</td>\n",
              "      <td>8.490000</td>\n",
              "      <td>8.234893</td>\n",
              "      <td>0.0</td>\n",
              "    </tr>\n",
              "    <tr>\n",
              "      <th>1953</th>\n",
              "      <td>8.280000</td>\n",
              "      <td>8.280000</td>\n",
              "      <td>8.280000</td>\n",
              "      <td>8.280000</td>\n",
              "      <td>8.031202</td>\n",
              "      <td>0.0</td>\n",
              "    </tr>\n",
              "    <tr>\n",
              "      <th>1956</th>\n",
              "      <td>8.730000</td>\n",
              "      <td>8.730000</td>\n",
              "      <td>8.730000</td>\n",
              "      <td>8.730000</td>\n",
              "      <td>8.467682</td>\n",
              "      <td>0.0</td>\n",
              "    </tr>\n",
              "    <tr>\n",
              "      <th>1981</th>\n",
              "      <td>8.950000</td>\n",
              "      <td>8.950000</td>\n",
              "      <td>8.950000</td>\n",
              "      <td>8.950000</td>\n",
              "      <td>8.681070</td>\n",
              "      <td>0.0</td>\n",
              "    </tr>\n",
              "    <tr>\n",
              "      <th>1985</th>\n",
              "      <td>9.100000</td>\n",
              "      <td>9.100000</td>\n",
              "      <td>9.100000</td>\n",
              "      <td>9.100000</td>\n",
              "      <td>8.826565</td>\n",
              "      <td>0.0</td>\n",
              "    </tr>\n",
              "    <tr>\n",
              "      <th>2003</th>\n",
              "      <td>11.300000</td>\n",
              "      <td>11.300000</td>\n",
              "      <td>11.300000</td>\n",
              "      <td>11.300000</td>\n",
              "      <td>10.960458</td>\n",
              "      <td>0.0</td>\n",
              "    </tr>\n",
              "  </tbody>\n",
              "</table>\n",
              "</div>"
            ],
            "text/plain": [
              "           Open       High        Low      Close  Adj Close  Volume\n",
              "48    27.815001  27.815001  27.815001  27.815001  25.838741     0.0\n",
              "64    29.975000  29.975000  29.975000  29.975000  27.921242     0.0\n",
              "80    28.055000  28.055000  28.055000  28.055000  26.132795     0.0\n",
              "284   19.040001  19.040001  19.040001  19.040001  18.121393     0.0\n",
              "291   20.799999  20.799999  20.799999  20.799999  19.796480     0.0\n",
              "302   20.469999  20.469999  20.469999  20.469999  19.619831     0.0\n",
              "303   20.469999  20.469999  20.469999  20.469999  19.619831     0.0\n",
              "304   20.469999  20.469999  20.469999  20.469999  19.619831     0.0\n",
              "305   20.469999  20.469999  20.469999  20.469999  19.619831     0.0\n",
              "306   20.469999  20.469999  20.469999  20.469999  19.619831     0.0\n",
              "307   20.469999  20.469999  20.469999  20.469999  19.619831     0.0\n",
              "308   20.469999  20.469999  20.469999  20.469999  19.619831     0.0\n",
              "309   20.469999  20.469999  20.469999  20.469999  19.619831     0.0\n",
              "333   15.120000  15.120000  15.120000  15.120000  14.492029     0.0\n",
              "337   15.070000  15.070000  15.070000  15.070000  14.444105     0.0\n",
              "450   11.750000  11.750000  11.750000  11.750000  11.261992     0.0\n",
              "451   11.750000  11.750000  11.750000  11.750000  11.261992     0.0\n",
              "452   11.750000  11.750000  11.750000  11.750000  11.261992     0.0\n",
              "461   11.850000  11.850000  11.850000  11.850000  11.357842     0.0\n",
              "482   10.490000  10.490000  10.490000  10.490000  10.054325     0.0\n",
              "507   11.130000  11.130000  11.130000  11.130000  10.667744     0.0\n",
              "547   13.610000  13.610000  13.610000  13.610000  13.044743     0.0\n",
              "590    9.390000   9.390000   9.390000   9.390000   9.057675     0.0\n",
              "609    7.450000   7.450000   7.450000   7.450000   7.186334     0.0\n",
              "628    6.340000   6.340000   6.340000   6.340000   6.115619     0.0\n",
              "653    7.960000   7.960000   7.960000   7.960000   7.678284     0.0\n",
              "799   10.760000  10.760000  10.760000  10.760000  10.379189     0.0\n",
              "819   10.630000  10.630000  10.630000  10.630000  10.253790     0.0\n",
              "881    7.810000   7.810000   7.810000   7.810000   7.533593     0.0\n",
              "1831   4.060000   4.060000   4.060000   4.060000   3.938005     0.0\n",
              "1844   3.960000   3.960000   3.960000   3.960000   3.841010     0.0\n",
              "1904   8.330000   8.330000   8.330000   8.330000   8.079700     0.0\n",
              "1929   9.700000   9.700000   9.700000   9.700000   9.408535     0.0\n",
              "1944   8.490000   8.490000   8.490000   8.490000   8.234893     0.0\n",
              "1953   8.280000   8.280000   8.280000   8.280000   8.031202     0.0\n",
              "1956   8.730000   8.730000   8.730000   8.730000   8.467682     0.0\n",
              "1981   8.950000   8.950000   8.950000   8.950000   8.681070     0.0\n",
              "1985   9.100000   9.100000   9.100000   9.100000   8.826565     0.0\n",
              "2003  11.300000  11.300000  11.300000  11.300000  10.960458     0.0"
            ]
          },
          "metadata": {
            "tags": []
          },
          "execution_count": 14
        }
      ]
    },
    {
      "cell_type": "code",
      "metadata": {
        "id": "352jPyV0T5JJ"
      },
      "source": [
        "#preenchendo os valores nulos com o valor médio\n",
        "imputer = SimpleImputer(missing_values=0, strategy='mean',verbose=0)\n",
        "imputer = imputer.fit(base.iloc[:,0:6])\n",
        "base.iloc[:,0:6] = imputer.transform(base.iloc[:,0:6])"
      ],
      "execution_count": 15,
      "outputs": []
    },
    {
      "cell_type": "code",
      "metadata": {
        "colab": {
          "base_uri": "https://localhost:8080/",
          "height": 0
        },
        "id": "xI5JdDykT66_",
        "outputId": "b90a076a-803c-401e-ce87-e4e96ffc8506"
      },
      "source": [
        "#Verificando novamente se ainda temos valores nulos\n",
        "base.loc[base['Volume'] == 0]"
      ],
      "execution_count": 16,
      "outputs": [
        {
          "output_type": "execute_result",
          "data": {
            "text/html": [
              "<div>\n",
              "<style scoped>\n",
              "    .dataframe tbody tr th:only-of-type {\n",
              "        vertical-align: middle;\n",
              "    }\n",
              "\n",
              "    .dataframe tbody tr th {\n",
              "        vertical-align: top;\n",
              "    }\n",
              "\n",
              "    .dataframe thead th {\n",
              "        text-align: right;\n",
              "    }\n",
              "</style>\n",
              "<table border=\"1\" class=\"dataframe\">\n",
              "  <thead>\n",
              "    <tr style=\"text-align: right;\">\n",
              "      <th></th>\n",
              "      <th>Open</th>\n",
              "      <th>High</th>\n",
              "      <th>Low</th>\n",
              "      <th>Close</th>\n",
              "      <th>Adj Close</th>\n",
              "      <th>Volume</th>\n",
              "    </tr>\n",
              "  </thead>\n",
              "  <tbody>\n",
              "  </tbody>\n",
              "</table>\n",
              "</div>"
            ],
            "text/plain": [
              "Empty DataFrame\n",
              "Columns: [Open, High, Low, Close, Adj Close, Volume]\n",
              "Index: []"
            ]
          },
          "metadata": {
            "tags": []
          },
          "execution_count": 16
        }
      ]
    },
    {
      "cell_type": "code",
      "metadata": {
        "id": "NYW0UUz0T9Kq"
      },
      "source": [
        "#base = base.dropna()"
      ],
      "execution_count": 17,
      "outputs": []
    },
    {
      "cell_type": "code",
      "metadata": {
        "id": "ceOotOwsT_Er"
      },
      "source": [
        "#base.sample()"
      ],
      "execution_count": 18,
      "outputs": []
    },
    {
      "cell_type": "markdown",
      "metadata": {
        "id": "hCiQYMqPGHuG"
      },
      "source": [
        "#**-Descrição dos dados** IGNORE ESTA CÉLULA"
      ]
    },
    {
      "cell_type": "code",
      "metadata": {
        "id": "xalwLdRSGLRD"
      },
      "source": [
        "#Tendencia central - mean, median\n",
        "ct1 = pd.DataFrame(base.apply(np.mean)).T #T transpondo \n",
        "ct2 = pd.DataFrame(base.apply(np.median)).T\n",
        "#Dispersão - std(desvio padrão), min, max, range\n",
        "d1 = pd.DataFrame(base.apply(np.std)).T\n",
        "d2 = pd.DataFrame(base.apply(min)).T\n",
        "d3 = pd.DataFrame(base.apply(max)).T\n",
        "d4 = pd.DataFrame(base.apply(lambda x: x.max() - x.min())).T\n",
        "#concatenate\n",
        "m = pd.concat([d2,d3,d4,ct1,ct2,d1]).T.reset_index()\n",
        "m.columns = ['attributes','min','max','range', 'mean', 'median', 'std']\n",
        "m"
      ],
      "execution_count": null,
      "outputs": []
    },
    {
      "cell_type": "code",
      "metadata": {
        "colab": {
          "base_uri": "https://localhost:8080/"
        },
        "id": "j62Bj8jOQz_G",
        "outputId": "9e5055ec-b49f-4f7d-e3c1-b3fc2b1dae42"
      },
      "source": [
        "base.shape[0]"
      ],
      "execution_count": null,
      "outputs": [
        {
          "output_type": "execute_result",
          "data": {
            "text/plain": [
              "2478"
            ]
          },
          "metadata": {
            "tags": []
          },
          "execution_count": 20
        }
      ]
    },
    {
      "cell_type": "markdown",
      "metadata": {
        "id": "4IDwP-XV_Ohd"
      },
      "source": [
        "#**4-Treinamento da rede**"
      ]
    },
    {
      "cell_type": "code",
      "metadata": {
        "id": "mpo6RlDsUHNJ"
      },
      "source": [
        "#normalizando a base de dados com o MinMaxScaler\n",
        "base_treinamento = base.iloc[:, 0:6].values\n",
        "normalizador = MinMaxScaler(feature_range=(0,1))\n",
        "base_treinamento_normalizada = normalizador.fit_transform(base_treinamento)"
      ],
      "execution_count": 39,
      "outputs": []
    },
    {
      "cell_type": "code",
      "metadata": {
        "id": "d-LD4OEaUNf7"
      },
      "source": [
        "#Comparando a predição com o preço real\n",
        "previsores = []\n",
        "preco_real = []\n",
        "for i in range(90, 2232):\n",
        "    previsores.append(base_treinamento_normalizada[i-90:i, 0:6])\n",
        "    preco_real.append(base_treinamento_normalizada[i, 3:4])\n",
        "previsores, preco_real = np.array(previsores), np.array(preco_real)\n"
      ],
      "execution_count": 40,
      "outputs": []
    },
    {
      "cell_type": "code",
      "metadata": {
        "colab": {
          "base_uri": "https://localhost:8080/"
        },
        "id": "ZftXowA9URdt",
        "outputId": "9412f5cb-57aa-4652-e335-d035f1607f29"
      },
      "source": [
        "#estrutura da rede neural \n",
        "regressor = Sequential()\n",
        "regressor.add(LSTM(units = 128, return_sequences = True, input_shape = (previsores.shape[1], 6)))\n",
        "regressor.add(Dropout(0.3))\n",
        "\n",
        "regressor.add(LSTM(units = 50, return_sequences = True))\n",
        "regressor.add(Dropout(0.3))\n",
        "\n",
        "regressor.add(LSTM(units = 50, return_sequences = True))\n",
        "regressor.add(Dropout(0.3))\n",
        "\n",
        "regressor.add(LSTM(units = 50))\n",
        "regressor.add(Dropout(0.3))\n",
        "\n",
        "regressor.add(Dense(units = 1, activation = 'sigmoid'))\n",
        "\n",
        "es = EarlyStopping(monitor = 'loss', min_delta = 1e-15, patience = 20, verbose = 1)\n",
        "\n",
        "#regressor.compile(optimizer = 'RMSprop', loss = 'mean_squared_error',\n",
        "#                  metrics = ['mean_absolute_error'])\n",
        "opt = tf.keras.optimizers.Adam(amsgrad=True)\n",
        "regressor.compile(optimizer = opt, loss = 'mean_squared_error',\n",
        "                  metrics = ['mean_absolute_error'])\n",
        "#opt = tf.keras.optimizers.RMSprop(centered=True)\n",
        "#regressor.compile(optimizer = opt, loss = 'mean_squared_error',\n",
        "#                 metrics = ['mean_absolute_error'])\n",
        "\n",
        "regressor.fit(previsores, preco_real, epochs = 600, batch_size = 32,\n",
        "              callbacks = [es])\n",
        "#regressor.fit(previsores, preco_real, epochs = 600, batch_size = 32)"
      ],
      "execution_count": 41,
      "outputs": [
        {
          "output_type": "stream",
          "text": [
            "Epoch 1/600\n",
            "67/67 [==============================] - 5s 18ms/step - loss: 0.0297 - mean_absolute_error: 0.1257\n",
            "Epoch 2/600\n",
            "67/67 [==============================] - 1s 19ms/step - loss: 0.0027 - mean_absolute_error: 0.0405\n",
            "Epoch 3/600\n",
            "67/67 [==============================] - 1s 16ms/step - loss: 0.0021 - mean_absolute_error: 0.0362\n",
            "Epoch 4/600\n",
            "67/67 [==============================] - 1s 16ms/step - loss: 0.0020 - mean_absolute_error: 0.0353\n",
            "Epoch 5/600\n",
            "67/67 [==============================] - 1s 16ms/step - loss: 0.0017 - mean_absolute_error: 0.0316\n",
            "Epoch 6/600\n",
            "67/67 [==============================] - 1s 16ms/step - loss: 0.0016 - mean_absolute_error: 0.0311\n",
            "Epoch 7/600\n",
            "67/67 [==============================] - 1s 16ms/step - loss: 0.0016 - mean_absolute_error: 0.0317\n",
            "Epoch 8/600\n",
            "67/67 [==============================] - 1s 16ms/step - loss: 0.0013 - mean_absolute_error: 0.0285\n",
            "Epoch 9/600\n",
            "67/67 [==============================] - 1s 16ms/step - loss: 0.0014 - mean_absolute_error: 0.0294\n",
            "Epoch 10/600\n",
            "67/67 [==============================] - 1s 16ms/step - loss: 0.0013 - mean_absolute_error: 0.0279\n",
            "Epoch 11/600\n",
            "67/67 [==============================] - 1s 17ms/step - loss: 0.0013 - mean_absolute_error: 0.0279\n",
            "Epoch 12/600\n",
            "67/67 [==============================] - 1s 17ms/step - loss: 0.0012 - mean_absolute_error: 0.0274\n",
            "Epoch 13/600\n",
            "67/67 [==============================] - 1s 16ms/step - loss: 0.0013 - mean_absolute_error: 0.0275\n",
            "Epoch 14/600\n",
            "67/67 [==============================] - 1s 17ms/step - loss: 0.0013 - mean_absolute_error: 0.0269\n",
            "Epoch 15/600\n",
            "67/67 [==============================] - 1s 16ms/step - loss: 0.0010 - mean_absolute_error: 0.0253\n",
            "Epoch 16/600\n",
            "67/67 [==============================] - 1s 17ms/step - loss: 0.0011 - mean_absolute_error: 0.0251\n",
            "Epoch 17/600\n",
            "67/67 [==============================] - 1s 17ms/step - loss: 9.5369e-04 - mean_absolute_error: 0.0239\n",
            "Epoch 18/600\n",
            "67/67 [==============================] - 1s 17ms/step - loss: 0.0011 - mean_absolute_error: 0.0248\n",
            "Epoch 19/600\n",
            "67/67 [==============================] - 1s 17ms/step - loss: 9.3389e-04 - mean_absolute_error: 0.0241\n",
            "Epoch 20/600\n",
            "67/67 [==============================] - 1s 17ms/step - loss: 0.0011 - mean_absolute_error: 0.0256\n",
            "Epoch 21/600\n",
            "67/67 [==============================] - 1s 17ms/step - loss: 8.9627e-04 - mean_absolute_error: 0.0235\n",
            "Epoch 22/600\n",
            "67/67 [==============================] - 1s 17ms/step - loss: 9.9042e-04 - mean_absolute_error: 0.0247\n",
            "Epoch 23/600\n",
            "67/67 [==============================] - 1s 17ms/step - loss: 9.5745e-04 - mean_absolute_error: 0.0241\n",
            "Epoch 24/600\n",
            "67/67 [==============================] - 1s 16ms/step - loss: 8.7698e-04 - mean_absolute_error: 0.0232\n",
            "Epoch 25/600\n",
            "67/67 [==============================] - 1s 16ms/step - loss: 9.5564e-04 - mean_absolute_error: 0.0241\n",
            "Epoch 26/600\n",
            "67/67 [==============================] - 1s 16ms/step - loss: 9.0736e-04 - mean_absolute_error: 0.0235\n",
            "Epoch 27/600\n",
            "67/67 [==============================] - 1s 16ms/step - loss: 9.0713e-04 - mean_absolute_error: 0.0235\n",
            "Epoch 28/600\n",
            "67/67 [==============================] - 1s 17ms/step - loss: 7.7258e-04 - mean_absolute_error: 0.0219\n",
            "Epoch 29/600\n",
            "67/67 [==============================] - 1s 17ms/step - loss: 8.6961e-04 - mean_absolute_error: 0.0228\n",
            "Epoch 30/600\n",
            "67/67 [==============================] - 1s 16ms/step - loss: 7.7926e-04 - mean_absolute_error: 0.0218\n",
            "Epoch 31/600\n",
            "67/67 [==============================] - 1s 16ms/step - loss: 7.9212e-04 - mean_absolute_error: 0.0222\n",
            "Epoch 32/600\n",
            "67/67 [==============================] - 1s 16ms/step - loss: 8.6997e-04 - mean_absolute_error: 0.0227\n",
            "Epoch 33/600\n",
            "67/67 [==============================] - 1s 16ms/step - loss: 8.0238e-04 - mean_absolute_error: 0.0218\n",
            "Epoch 34/600\n",
            "67/67 [==============================] - 1s 16ms/step - loss: 7.6084e-04 - mean_absolute_error: 0.0215\n",
            "Epoch 35/600\n",
            "67/67 [==============================] - 1s 16ms/step - loss: 7.3625e-04 - mean_absolute_error: 0.0212\n",
            "Epoch 36/600\n",
            "67/67 [==============================] - 1s 16ms/step - loss: 6.9689e-04 - mean_absolute_error: 0.0206\n",
            "Epoch 37/600\n",
            "67/67 [==============================] - 1s 16ms/step - loss: 6.7145e-04 - mean_absolute_error: 0.0203\n",
            "Epoch 38/600\n",
            "67/67 [==============================] - 1s 17ms/step - loss: 6.4523e-04 - mean_absolute_error: 0.0198\n",
            "Epoch 39/600\n",
            "67/67 [==============================] - 1s 16ms/step - loss: 6.8846e-04 - mean_absolute_error: 0.0202\n",
            "Epoch 40/600\n",
            "67/67 [==============================] - 1s 17ms/step - loss: 6.4119e-04 - mean_absolute_error: 0.0199\n",
            "Epoch 41/600\n",
            "67/67 [==============================] - 1s 16ms/step - loss: 6.6041e-04 - mean_absolute_error: 0.0202\n",
            "Epoch 42/600\n",
            "67/67 [==============================] - 1s 16ms/step - loss: 7.1536e-04 - mean_absolute_error: 0.0209\n",
            "Epoch 43/600\n",
            "67/67 [==============================] - 1s 16ms/step - loss: 6.7075e-04 - mean_absolute_error: 0.0201\n",
            "Epoch 44/600\n",
            "67/67 [==============================] - 1s 16ms/step - loss: 7.2000e-04 - mean_absolute_error: 0.0211\n",
            "Epoch 45/600\n",
            "67/67 [==============================] - 1s 16ms/step - loss: 6.0693e-04 - mean_absolute_error: 0.0190\n",
            "Epoch 46/600\n",
            "67/67 [==============================] - 1s 17ms/step - loss: 7.1311e-04 - mean_absolute_error: 0.0207\n",
            "Epoch 47/600\n",
            "67/67 [==============================] - 1s 17ms/step - loss: 6.3823e-04 - mean_absolute_error: 0.0196\n",
            "Epoch 48/600\n",
            "67/67 [==============================] - 1s 17ms/step - loss: 6.1636e-04 - mean_absolute_error: 0.0194\n",
            "Epoch 49/600\n",
            "67/67 [==============================] - 1s 17ms/step - loss: 6.5029e-04 - mean_absolute_error: 0.0199\n",
            "Epoch 50/600\n",
            "67/67 [==============================] - 1s 16ms/step - loss: 6.7838e-04 - mean_absolute_error: 0.0205\n",
            "Epoch 51/600\n",
            "67/67 [==============================] - 1s 17ms/step - loss: 5.9309e-04 - mean_absolute_error: 0.0193\n",
            "Epoch 52/600\n",
            "67/67 [==============================] - 1s 17ms/step - loss: 6.3933e-04 - mean_absolute_error: 0.0198\n",
            "Epoch 53/600\n",
            "67/67 [==============================] - 1s 16ms/step - loss: 6.3295e-04 - mean_absolute_error: 0.0196\n",
            "Epoch 54/600\n",
            "67/67 [==============================] - 1s 17ms/step - loss: 6.5971e-04 - mean_absolute_error: 0.0198\n",
            "Epoch 55/600\n",
            "67/67 [==============================] - 1s 16ms/step - loss: 5.8232e-04 - mean_absolute_error: 0.0189\n",
            "Epoch 56/600\n",
            "67/67 [==============================] - 1s 16ms/step - loss: 6.0298e-04 - mean_absolute_error: 0.0190\n",
            "Epoch 57/600\n",
            "67/67 [==============================] - 1s 17ms/step - loss: 5.8996e-04 - mean_absolute_error: 0.0189\n",
            "Epoch 58/600\n",
            "67/67 [==============================] - 1s 16ms/step - loss: 5.6087e-04 - mean_absolute_error: 0.0185\n",
            "Epoch 59/600\n",
            "67/67 [==============================] - 1s 16ms/step - loss: 5.8982e-04 - mean_absolute_error: 0.0191\n",
            "Epoch 60/600\n",
            "67/67 [==============================] - 1s 17ms/step - loss: 5.8321e-04 - mean_absolute_error: 0.0191\n",
            "Epoch 61/600\n",
            "67/67 [==============================] - 1s 16ms/step - loss: 5.5820e-04 - mean_absolute_error: 0.0186\n",
            "Epoch 62/600\n",
            "67/67 [==============================] - 1s 16ms/step - loss: 5.7769e-04 - mean_absolute_error: 0.0187\n",
            "Epoch 63/600\n",
            "67/67 [==============================] - 1s 16ms/step - loss: 5.8480e-04 - mean_absolute_error: 0.0187\n",
            "Epoch 64/600\n",
            "67/67 [==============================] - 1s 16ms/step - loss: 5.8810e-04 - mean_absolute_error: 0.0188\n",
            "Epoch 65/600\n",
            "67/67 [==============================] - 1s 17ms/step - loss: 5.6575e-04 - mean_absolute_error: 0.0182\n",
            "Epoch 66/600\n",
            "67/67 [==============================] - 1s 16ms/step - loss: 5.7693e-04 - mean_absolute_error: 0.0186\n",
            "Epoch 67/600\n",
            "67/67 [==============================] - 1s 16ms/step - loss: 6.1408e-04 - mean_absolute_error: 0.0191\n",
            "Epoch 68/600\n",
            "67/67 [==============================] - 1s 16ms/step - loss: 5.2521e-04 - mean_absolute_error: 0.0180\n",
            "Epoch 69/600\n",
            "67/67 [==============================] - 1s 17ms/step - loss: 4.9169e-04 - mean_absolute_error: 0.0175\n",
            "Epoch 70/600\n",
            "67/67 [==============================] - 1s 16ms/step - loss: 5.6787e-04 - mean_absolute_error: 0.0185\n",
            "Epoch 71/600\n",
            "67/67 [==============================] - 1s 16ms/step - loss: 5.0784e-04 - mean_absolute_error: 0.0176\n",
            "Epoch 72/600\n",
            "67/67 [==============================] - 1s 17ms/step - loss: 5.2906e-04 - mean_absolute_error: 0.0179\n",
            "Epoch 73/600\n",
            "67/67 [==============================] - 1s 16ms/step - loss: 5.1935e-04 - mean_absolute_error: 0.0178\n",
            "Epoch 74/600\n",
            "67/67 [==============================] - 1s 17ms/step - loss: 4.9941e-04 - mean_absolute_error: 0.0174\n",
            "Epoch 75/600\n",
            "67/67 [==============================] - 1s 17ms/step - loss: 5.0680e-04 - mean_absolute_error: 0.0174\n",
            "Epoch 76/600\n",
            "67/67 [==============================] - 1s 17ms/step - loss: 4.8582e-04 - mean_absolute_error: 0.0171\n",
            "Epoch 77/600\n",
            "67/67 [==============================] - 1s 16ms/step - loss: 5.2189e-04 - mean_absolute_error: 0.0175\n",
            "Epoch 78/600\n",
            "67/67 [==============================] - 1s 17ms/step - loss: 5.5911e-04 - mean_absolute_error: 0.0180\n",
            "Epoch 79/600\n",
            "67/67 [==============================] - 1s 16ms/step - loss: 4.9307e-04 - mean_absolute_error: 0.0174\n",
            "Epoch 80/600\n",
            "67/67 [==============================] - 1s 16ms/step - loss: 5.5308e-04 - mean_absolute_error: 0.0180\n",
            "Epoch 81/600\n",
            "67/67 [==============================] - 1s 17ms/step - loss: 5.1357e-04 - mean_absolute_error: 0.0175\n",
            "Epoch 82/600\n",
            "67/67 [==============================] - 1s 17ms/step - loss: 4.7658e-04 - mean_absolute_error: 0.0169\n",
            "Epoch 83/600\n",
            "67/67 [==============================] - 1s 17ms/step - loss: 5.1744e-04 - mean_absolute_error: 0.0179\n",
            "Epoch 84/600\n",
            "67/67 [==============================] - 1s 17ms/step - loss: 4.6814e-04 - mean_absolute_error: 0.0168\n",
            "Epoch 85/600\n",
            "67/67 [==============================] - 1s 16ms/step - loss: 4.8953e-04 - mean_absolute_error: 0.0172\n",
            "Epoch 86/600\n",
            "67/67 [==============================] - 1s 16ms/step - loss: 5.1902e-04 - mean_absolute_error: 0.0175\n",
            "Epoch 87/600\n",
            "67/67 [==============================] - 1s 17ms/step - loss: 4.4889e-04 - mean_absolute_error: 0.0165\n",
            "Epoch 88/600\n",
            "67/67 [==============================] - 1s 17ms/step - loss: 4.6578e-04 - mean_absolute_error: 0.0164\n",
            "Epoch 89/600\n",
            "67/67 [==============================] - 1s 17ms/step - loss: 5.1571e-04 - mean_absolute_error: 0.0175\n",
            "Epoch 90/600\n",
            "67/67 [==============================] - 1s 17ms/step - loss: 5.0918e-04 - mean_absolute_error: 0.0170\n",
            "Epoch 91/600\n",
            "67/67 [==============================] - 1s 17ms/step - loss: 4.7174e-04 - mean_absolute_error: 0.0169\n",
            "Epoch 92/600\n",
            "67/67 [==============================] - 1s 17ms/step - loss: 4.4177e-04 - mean_absolute_error: 0.0164\n",
            "Epoch 93/600\n",
            "67/67 [==============================] - 1s 17ms/step - loss: 4.8814e-04 - mean_absolute_error: 0.0171\n",
            "Epoch 94/600\n",
            "67/67 [==============================] - 1s 17ms/step - loss: 4.8873e-04 - mean_absolute_error: 0.0171\n",
            "Epoch 95/600\n",
            "67/67 [==============================] - 1s 17ms/step - loss: 4.4648e-04 - mean_absolute_error: 0.0165\n",
            "Epoch 96/600\n",
            "67/67 [==============================] - 1s 17ms/step - loss: 4.3066e-04 - mean_absolute_error: 0.0161\n",
            "Epoch 97/600\n",
            "67/67 [==============================] - 1s 17ms/step - loss: 4.4511e-04 - mean_absolute_error: 0.0163\n",
            "Epoch 98/600\n",
            "67/67 [==============================] - 1s 17ms/step - loss: 4.9933e-04 - mean_absolute_error: 0.0171\n",
            "Epoch 99/600\n",
            "67/67 [==============================] - 1s 18ms/step - loss: 4.3632e-04 - mean_absolute_error: 0.0161\n",
            "Epoch 100/600\n",
            "67/67 [==============================] - 1s 17ms/step - loss: 4.2424e-04 - mean_absolute_error: 0.0161\n",
            "Epoch 101/600\n",
            "67/67 [==============================] - 1s 17ms/step - loss: 4.7936e-04 - mean_absolute_error: 0.0168\n",
            "Epoch 102/600\n",
            "67/67 [==============================] - 1s 17ms/step - loss: 5.2835e-04 - mean_absolute_error: 0.0174\n",
            "Epoch 103/600\n",
            "67/67 [==============================] - 1s 17ms/step - loss: 4.5633e-04 - mean_absolute_error: 0.0162\n",
            "Epoch 104/600\n",
            "67/67 [==============================] - 1s 17ms/step - loss: 4.1530e-04 - mean_absolute_error: 0.0157\n",
            "Epoch 105/600\n",
            "67/67 [==============================] - 1s 18ms/step - loss: 4.8071e-04 - mean_absolute_error: 0.0168\n",
            "Epoch 106/600\n",
            "67/67 [==============================] - 1s 17ms/step - loss: 4.8017e-04 - mean_absolute_error: 0.0167\n",
            "Epoch 107/600\n",
            "67/67 [==============================] - 1s 18ms/step - loss: 4.5129e-04 - mean_absolute_error: 0.0162\n",
            "Epoch 108/600\n",
            "67/67 [==============================] - 1s 17ms/step - loss: 4.3665e-04 - mean_absolute_error: 0.0158\n",
            "Epoch 109/600\n",
            "67/67 [==============================] - 1s 17ms/step - loss: 4.2550e-04 - mean_absolute_error: 0.0158\n",
            "Epoch 110/600\n",
            "67/67 [==============================] - 1s 17ms/step - loss: 4.7065e-04 - mean_absolute_error: 0.0165\n",
            "Epoch 111/600\n",
            "67/67 [==============================] - 1s 16ms/step - loss: 4.5764e-04 - mean_absolute_error: 0.0162\n",
            "Epoch 112/600\n",
            "67/67 [==============================] - 1s 17ms/step - loss: 4.2892e-04 - mean_absolute_error: 0.0160\n",
            "Epoch 113/600\n",
            "67/67 [==============================] - 1s 17ms/step - loss: 4.3876e-04 - mean_absolute_error: 0.0161\n",
            "Epoch 114/600\n",
            "67/67 [==============================] - 1s 17ms/step - loss: 4.0765e-04 - mean_absolute_error: 0.0156\n",
            "Epoch 115/600\n",
            "67/67 [==============================] - 1s 17ms/step - loss: 4.3033e-04 - mean_absolute_error: 0.0160\n",
            "Epoch 116/600\n",
            "67/67 [==============================] - 1s 17ms/step - loss: 4.3800e-04 - mean_absolute_error: 0.0161\n",
            "Epoch 117/600\n",
            "67/67 [==============================] - 1s 17ms/step - loss: 4.9914e-04 - mean_absolute_error: 0.0170\n",
            "Epoch 118/600\n",
            "67/67 [==============================] - 1s 19ms/step - loss: 4.3188e-04 - mean_absolute_error: 0.0158\n",
            "Epoch 119/600\n",
            "67/67 [==============================] - 1s 18ms/step - loss: 4.3814e-04 - mean_absolute_error: 0.0160\n",
            "Epoch 120/600\n",
            "67/67 [==============================] - 1s 17ms/step - loss: 4.0344e-04 - mean_absolute_error: 0.0155\n",
            "Epoch 121/600\n",
            "67/67 [==============================] - 1s 18ms/step - loss: 4.1423e-04 - mean_absolute_error: 0.0157\n",
            "Epoch 122/600\n",
            "67/67 [==============================] - 1s 17ms/step - loss: 3.9132e-04 - mean_absolute_error: 0.0153\n",
            "Epoch 123/600\n",
            "67/67 [==============================] - 1s 17ms/step - loss: 4.2828e-04 - mean_absolute_error: 0.0159\n",
            "Epoch 124/600\n",
            "67/67 [==============================] - 1s 18ms/step - loss: 4.2986e-04 - mean_absolute_error: 0.0157\n",
            "Epoch 125/600\n",
            "67/67 [==============================] - 1s 17ms/step - loss: 4.3077e-04 - mean_absolute_error: 0.0159\n",
            "Epoch 126/600\n",
            "67/67 [==============================] - 1s 17ms/step - loss: 4.6380e-04 - mean_absolute_error: 0.0162\n",
            "Epoch 127/600\n",
            "67/67 [==============================] - 1s 18ms/step - loss: 4.0192e-04 - mean_absolute_error: 0.0154\n",
            "Epoch 128/600\n",
            "67/67 [==============================] - 1s 17ms/step - loss: 3.7516e-04 - mean_absolute_error: 0.0152\n",
            "Epoch 129/600\n",
            "67/67 [==============================] - 1s 17ms/step - loss: 3.7985e-04 - mean_absolute_error: 0.0149\n",
            "Epoch 130/600\n",
            "67/67 [==============================] - 1s 17ms/step - loss: 4.1723e-04 - mean_absolute_error: 0.0153\n",
            "Epoch 131/600\n",
            "67/67 [==============================] - 1s 17ms/step - loss: 4.3161e-04 - mean_absolute_error: 0.0155\n",
            "Epoch 132/600\n",
            "67/67 [==============================] - 1s 17ms/step - loss: 4.5782e-04 - mean_absolute_error: 0.0162\n",
            "Epoch 133/600\n",
            "67/67 [==============================] - 1s 18ms/step - loss: 4.1674e-04 - mean_absolute_error: 0.0156\n",
            "Epoch 134/600\n",
            "67/67 [==============================] - 1s 17ms/step - loss: 4.0801e-04 - mean_absolute_error: 0.0155\n",
            "Epoch 135/600\n",
            "67/67 [==============================] - 1s 18ms/step - loss: 4.0484e-04 - mean_absolute_error: 0.0154\n",
            "Epoch 136/600\n",
            "67/67 [==============================] - 1s 17ms/step - loss: 4.1178e-04 - mean_absolute_error: 0.0154\n",
            "Epoch 137/600\n",
            "67/67 [==============================] - 1s 17ms/step - loss: 4.3503e-04 - mean_absolute_error: 0.0161\n",
            "Epoch 138/600\n",
            "67/67 [==============================] - 1s 18ms/step - loss: 4.1124e-04 - mean_absolute_error: 0.0155\n",
            "Epoch 139/600\n",
            "67/67 [==============================] - 1s 18ms/step - loss: 4.0420e-04 - mean_absolute_error: 0.0155\n",
            "Epoch 140/600\n",
            "67/67 [==============================] - 1s 18ms/step - loss: 3.7955e-04 - mean_absolute_error: 0.0148\n",
            "Epoch 00140: early stopping\n"
          ],
          "name": "stdout"
        },
        {
          "output_type": "execute_result",
          "data": {
            "text/plain": [
              "<tensorflow.python.keras.callbacks.History at 0x7fcce0cd0590>"
            ]
          },
          "metadata": {
            "tags": []
          },
          "execution_count": 41
        }
      ]
    },
    {
      "cell_type": "markdown",
      "metadata": {
        "id": "RtFahmEgGAzZ"
      },
      "source": [
        "#**5-Teste da rede**"
      ]
    },
    {
      "cell_type": "markdown",
      "metadata": {
        "id": "QSWSKW8nqeA0"
      },
      "source": [
        "##**5.1-Importando os dados para teste**"
      ]
    },
    {
      "cell_type": "code",
      "metadata": {
        "id": "4X6-ArtKUdpD"
      },
      "source": [
        "#criando a base de dados teste\n",
        "base_teste = pd.read_csv('USIM5-teste.csv')\n",
        "base_teste = base_teste.drop('Date', axis = 1)"
      ],
      "execution_count": 42,
      "outputs": []
    },
    {
      "cell_type": "code",
      "metadata": {
        "colab": {
          "base_uri": "https://localhost:8080/",
          "height": 0
        },
        "id": "dXOp2vDcpAvA",
        "outputId": "2dc787ac-b272-4486-cdf5-7054a56b81f0"
      },
      "source": [
        "#valores estatísticos\n",
        "base_teste.describe()"
      ],
      "execution_count": 43,
      "outputs": [
        {
          "output_type": "execute_result",
          "data": {
            "text/html": [
              "<div>\n",
              "<style scoped>\n",
              "    .dataframe tbody tr th:only-of-type {\n",
              "        vertical-align: middle;\n",
              "    }\n",
              "\n",
              "    .dataframe tbody tr th {\n",
              "        vertical-align: top;\n",
              "    }\n",
              "\n",
              "    .dataframe thead th {\n",
              "        text-align: right;\n",
              "    }\n",
              "</style>\n",
              "<table border=\"1\" class=\"dataframe\">\n",
              "  <thead>\n",
              "    <tr style=\"text-align: right;\">\n",
              "      <th></th>\n",
              "      <th>Open</th>\n",
              "      <th>High</th>\n",
              "      <th>Low</th>\n",
              "      <th>Close</th>\n",
              "      <th>Adj Close</th>\n",
              "      <th>Volume</th>\n",
              "    </tr>\n",
              "  </thead>\n",
              "  <tbody>\n",
              "    <tr>\n",
              "      <th>count</th>\n",
              "      <td>247.000000</td>\n",
              "      <td>247.000000</td>\n",
              "      <td>247.000000</td>\n",
              "      <td>247.000000</td>\n",
              "      <td>247.000000</td>\n",
              "      <td>2.470000e+02</td>\n",
              "    </tr>\n",
              "    <tr>\n",
              "      <th>mean</th>\n",
              "      <td>8.753158</td>\n",
              "      <td>8.889717</td>\n",
              "      <td>8.609474</td>\n",
              "      <td>8.736680</td>\n",
              "      <td>8.626404</td>\n",
              "      <td>1.319746e+07</td>\n",
              "    </tr>\n",
              "    <tr>\n",
              "      <th>std</th>\n",
              "      <td>0.906394</td>\n",
              "      <td>0.915746</td>\n",
              "      <td>0.886942</td>\n",
              "      <td>0.901105</td>\n",
              "      <td>0.861708</td>\n",
              "      <td>5.541847e+06</td>\n",
              "    </tr>\n",
              "    <tr>\n",
              "      <th>min</th>\n",
              "      <td>6.980000</td>\n",
              "      <td>7.050000</td>\n",
              "      <td>6.870000</td>\n",
              "      <td>7.000000</td>\n",
              "      <td>6.935424</td>\n",
              "      <td>4.735100e+06</td>\n",
              "    </tr>\n",
              "    <tr>\n",
              "      <th>25%</th>\n",
              "      <td>8.055000</td>\n",
              "      <td>8.180000</td>\n",
              "      <td>7.900000</td>\n",
              "      <td>8.025000</td>\n",
              "      <td>7.950969</td>\n",
              "      <td>9.607400e+06</td>\n",
              "    </tr>\n",
              "    <tr>\n",
              "      <th>50%</th>\n",
              "      <td>8.710000</td>\n",
              "      <td>8.860000</td>\n",
              "      <td>8.560000</td>\n",
              "      <td>8.700000</td>\n",
              "      <td>8.608921</td>\n",
              "      <td>1.202910e+07</td>\n",
              "    </tr>\n",
              "    <tr>\n",
              "      <th>75%</th>\n",
              "      <td>9.505000</td>\n",
              "      <td>9.650000</td>\n",
              "      <td>9.370000</td>\n",
              "      <td>9.505000</td>\n",
              "      <td>9.367777</td>\n",
              "      <td>1.540855e+07</td>\n",
              "    </tr>\n",
              "    <tr>\n",
              "      <th>max</th>\n",
              "      <td>10.920000</td>\n",
              "      <td>11.220000</td>\n",
              "      <td>10.620000</td>\n",
              "      <td>10.920000</td>\n",
              "      <td>10.722125</td>\n",
              "      <td>3.951940e+07</td>\n",
              "    </tr>\n",
              "  </tbody>\n",
              "</table>\n",
              "</div>"
            ],
            "text/plain": [
              "             Open        High         Low       Close   Adj Close        Volume\n",
              "count  247.000000  247.000000  247.000000  247.000000  247.000000  2.470000e+02\n",
              "mean     8.753158    8.889717    8.609474    8.736680    8.626404  1.319746e+07\n",
              "std      0.906394    0.915746    0.886942    0.901105    0.861708  5.541847e+06\n",
              "min      6.980000    7.050000    6.870000    7.000000    6.935424  4.735100e+06\n",
              "25%      8.055000    8.180000    7.900000    8.025000    7.950969  9.607400e+06\n",
              "50%      8.710000    8.860000    8.560000    8.700000    8.608921  1.202910e+07\n",
              "75%      9.505000    9.650000    9.370000    9.505000    9.367777  1.540855e+07\n",
              "max     10.920000   11.220000   10.620000   10.920000   10.722125  3.951940e+07"
            ]
          },
          "metadata": {
            "tags": []
          },
          "execution_count": 43
        }
      ]
    },
    {
      "cell_type": "markdown",
      "metadata": {
        "id": "Cw-NIb9EpatP"
      },
      "source": [
        "##**5.2-Tratando os Valores Faltantes**"
      ]
    },
    {
      "cell_type": "code",
      "metadata": {
        "colab": {
          "base_uri": "https://localhost:8080/"
        },
        "id": "lthEX_TZniHb",
        "outputId": "cae86b49-001f-4c94-930d-028e42135482"
      },
      "source": [
        "#valores faltantes\n",
        "base_teste.isna().sum()"
      ],
      "execution_count": 44,
      "outputs": [
        {
          "output_type": "execute_result",
          "data": {
            "text/plain": [
              "Open         1\n",
              "High         1\n",
              "Low          1\n",
              "Close        1\n",
              "Adj Close    1\n",
              "Volume       1\n",
              "dtype: int64"
            ]
          },
          "metadata": {
            "tags": []
          },
          "execution_count": 44
        }
      ]
    },
    {
      "cell_type": "code",
      "metadata": {
        "colab": {
          "base_uri": "https://localhost:8080/",
          "height": 0
        },
        "id": "uiH2j_UNpjqk",
        "outputId": "6914c834-dedb-4bf4-ab33-d0e94df65f7d"
      },
      "source": [
        "#encontrando onde os valores faltantes estão\n",
        "base_teste.loc[pd.isnull(base_teste['Open'])]\n",
        "base_teste.loc[pd.isnull(base_teste['High'])]\n",
        "base_teste.loc[pd.isnull(base_teste['Low'])]\n",
        "base_teste.loc[pd.isnull(base_teste['Close'])]\n",
        "base_teste.loc[pd.isnull(base_teste['Adj Close'])]\n",
        "base_teste.loc[pd.isnull(base_teste['Volume'])]"
      ],
      "execution_count": 45,
      "outputs": [
        {
          "output_type": "execute_result",
          "data": {
            "text/html": [
              "<div>\n",
              "<style scoped>\n",
              "    .dataframe tbody tr th:only-of-type {\n",
              "        vertical-align: middle;\n",
              "    }\n",
              "\n",
              "    .dataframe tbody tr th {\n",
              "        vertical-align: top;\n",
              "    }\n",
              "\n",
              "    .dataframe thead th {\n",
              "        text-align: right;\n",
              "    }\n",
              "</style>\n",
              "<table border=\"1\" class=\"dataframe\">\n",
              "  <thead>\n",
              "    <tr style=\"text-align: right;\">\n",
              "      <th></th>\n",
              "      <th>Open</th>\n",
              "      <th>High</th>\n",
              "      <th>Low</th>\n",
              "      <th>Close</th>\n",
              "      <th>Adj Close</th>\n",
              "      <th>Volume</th>\n",
              "    </tr>\n",
              "  </thead>\n",
              "  <tbody>\n",
              "    <tr>\n",
              "      <th>42</th>\n",
              "      <td>NaN</td>\n",
              "      <td>NaN</td>\n",
              "      <td>NaN</td>\n",
              "      <td>NaN</td>\n",
              "      <td>NaN</td>\n",
              "      <td>NaN</td>\n",
              "    </tr>\n",
              "  </tbody>\n",
              "</table>\n",
              "</div>"
            ],
            "text/plain": [
              "    Open  High  Low  Close  Adj Close  Volume\n",
              "42   NaN   NaN  NaN    NaN        NaN     NaN"
            ]
          },
          "metadata": {
            "tags": []
          },
          "execution_count": 45
        }
      ]
    },
    {
      "cell_type": "code",
      "metadata": {
        "id": "Bbw7axJ75lpn"
      },
      "source": [
        "#preenchendo os valores faltantes com o valor médio\n",
        "imputer = SimpleImputer(missing_values=np.nan, strategy='mean',verbose=0)\n",
        "imputer = imputer.fit(base_teste.iloc[:,0:6])\n",
        "base_teste.iloc[:,0:6] = imputer.transform(base_teste.iloc[:,0:6])"
      ],
      "execution_count": 46,
      "outputs": []
    },
    {
      "cell_type": "code",
      "metadata": {
        "colab": {
          "base_uri": "https://localhost:8080/",
          "height": 0
        },
        "id": "CXAi4QV8pw2x",
        "outputId": "7e00eb05-26f1-4d14-b0ac-93e456cce5c0"
      },
      "source": [
        "#verificando novamente se ainda temos valores faltantes\n",
        "base_teste.loc[pd.isnull(base_teste['Open'])]\n",
        "base_teste.loc[pd.isnull(base_teste['High'])]\n",
        "base_teste.loc[pd.isnull(base_teste['Low'])]\n",
        "base_teste.loc[pd.isnull(base_teste['Close'])]\n",
        "base_teste.loc[pd.isnull(base_teste['Adj Close'])]\n",
        "base_teste.loc[pd.isnull(base_teste['Volume'])]"
      ],
      "execution_count": 47,
      "outputs": [
        {
          "output_type": "execute_result",
          "data": {
            "text/html": [
              "<div>\n",
              "<style scoped>\n",
              "    .dataframe tbody tr th:only-of-type {\n",
              "        vertical-align: middle;\n",
              "    }\n",
              "\n",
              "    .dataframe tbody tr th {\n",
              "        vertical-align: top;\n",
              "    }\n",
              "\n",
              "    .dataframe thead th {\n",
              "        text-align: right;\n",
              "    }\n",
              "</style>\n",
              "<table border=\"1\" class=\"dataframe\">\n",
              "  <thead>\n",
              "    <tr style=\"text-align: right;\">\n",
              "      <th></th>\n",
              "      <th>Open</th>\n",
              "      <th>High</th>\n",
              "      <th>Low</th>\n",
              "      <th>Close</th>\n",
              "      <th>Adj Close</th>\n",
              "      <th>Volume</th>\n",
              "    </tr>\n",
              "  </thead>\n",
              "  <tbody>\n",
              "  </tbody>\n",
              "</table>\n",
              "</div>"
            ],
            "text/plain": [
              "Empty DataFrame\n",
              "Columns: [Open, High, Low, Close, Adj Close, Volume]\n",
              "Index: []"
            ]
          },
          "metadata": {
            "tags": []
          },
          "execution_count": 47
        }
      ]
    },
    {
      "cell_type": "markdown",
      "metadata": {
        "id": "X1nZpS8Rp2zr"
      },
      "source": [
        "##**5.3-Tratamento dos valores nulos (iguais a 0)**"
      ]
    },
    {
      "cell_type": "code",
      "metadata": {
        "colab": {
          "base_uri": "https://localhost:8080/"
        },
        "id": "XYwer-dip-KB",
        "outputId": "c199ea1e-79d5-4446-ff20-60e8f53d3702"
      },
      "source": [
        "#valores nulos\n",
        "(base_teste == 0).sum()"
      ],
      "execution_count": 48,
      "outputs": [
        {
          "output_type": "execute_result",
          "data": {
            "text/plain": [
              "Open         0\n",
              "High         0\n",
              "Low          0\n",
              "Close        0\n",
              "Adj Close    0\n",
              "Volume       0\n",
              "dtype: int64"
            ]
          },
          "metadata": {
            "tags": []
          },
          "execution_count": 48
        }
      ]
    },
    {
      "cell_type": "code",
      "metadata": {
        "colab": {
          "base_uri": "https://localhost:8080/",
          "height": 0
        },
        "id": "sFBo6iR5qEpS",
        "outputId": "4e12719e-17af-47e4-d363-280631bd4241"
      },
      "source": [
        "#Encontrando os valores nulos\n",
        "base_teste.loc[base_teste['Volume'] == 0]"
      ],
      "execution_count": 49,
      "outputs": [
        {
          "output_type": "execute_result",
          "data": {
            "text/html": [
              "<div>\n",
              "<style scoped>\n",
              "    .dataframe tbody tr th:only-of-type {\n",
              "        vertical-align: middle;\n",
              "    }\n",
              "\n",
              "    .dataframe tbody tr th {\n",
              "        vertical-align: top;\n",
              "    }\n",
              "\n",
              "    .dataframe thead th {\n",
              "        text-align: right;\n",
              "    }\n",
              "</style>\n",
              "<table border=\"1\" class=\"dataframe\">\n",
              "  <thead>\n",
              "    <tr style=\"text-align: right;\">\n",
              "      <th></th>\n",
              "      <th>Open</th>\n",
              "      <th>High</th>\n",
              "      <th>Low</th>\n",
              "      <th>Close</th>\n",
              "      <th>Adj Close</th>\n",
              "      <th>Volume</th>\n",
              "    </tr>\n",
              "  </thead>\n",
              "  <tbody>\n",
              "  </tbody>\n",
              "</table>\n",
              "</div>"
            ],
            "text/plain": [
              "Empty DataFrame\n",
              "Columns: [Open, High, Low, Close, Adj Close, Volume]\n",
              "Index: []"
            ]
          },
          "metadata": {
            "tags": []
          },
          "execution_count": 49
        }
      ]
    },
    {
      "cell_type": "code",
      "metadata": {
        "id": "ofkU-XjcqOQE"
      },
      "source": [
        "#preenchendo os valores nulos com o valor médio\n",
        "imputer = SimpleImputer(missing_values=0, strategy='mean',verbose=0)\n",
        "imputer = imputer.fit(base_teste.iloc[:,0:6])\n",
        "base_teste.iloc[:,0:6] = imputer.transform(base_teste.iloc[:,0:6])"
      ],
      "execution_count": 50,
      "outputs": []
    },
    {
      "cell_type": "code",
      "metadata": {
        "colab": {
          "base_uri": "https://localhost:8080/",
          "height": 0
        },
        "id": "pYUeIwbnppRT",
        "outputId": "d015c39c-a9b2-41d2-d562-089b3432daa5"
      },
      "source": [
        "#Verificando novamente se tem valores nulos\n",
        "base_teste.loc[base_teste['Volume'] == 0]"
      ],
      "execution_count": 51,
      "outputs": [
        {
          "output_type": "execute_result",
          "data": {
            "text/html": [
              "<div>\n",
              "<style scoped>\n",
              "    .dataframe tbody tr th:only-of-type {\n",
              "        vertical-align: middle;\n",
              "    }\n",
              "\n",
              "    .dataframe tbody tr th {\n",
              "        vertical-align: top;\n",
              "    }\n",
              "\n",
              "    .dataframe thead th {\n",
              "        text-align: right;\n",
              "    }\n",
              "</style>\n",
              "<table border=\"1\" class=\"dataframe\">\n",
              "  <thead>\n",
              "    <tr style=\"text-align: right;\">\n",
              "      <th></th>\n",
              "      <th>Open</th>\n",
              "      <th>High</th>\n",
              "      <th>Low</th>\n",
              "      <th>Close</th>\n",
              "      <th>Adj Close</th>\n",
              "      <th>Volume</th>\n",
              "    </tr>\n",
              "  </thead>\n",
              "  <tbody>\n",
              "  </tbody>\n",
              "</table>\n",
              "</div>"
            ],
            "text/plain": [
              "Empty DataFrame\n",
              "Columns: [Open, High, Low, Close, Adj Close, Volume]\n",
              "Index: []"
            ]
          },
          "metadata": {
            "tags": []
          },
          "execution_count": 51
        }
      ]
    },
    {
      "cell_type": "markdown",
      "metadata": {
        "id": "N79Bjk6Yq6ci"
      },
      "source": [
        "##**5.4-Preparando a estrutura para teste**"
      ]
    },
    {
      "cell_type": "code",
      "metadata": {
        "id": "UFINH9OzUfDk"
      },
      "source": [
        "#concatenando a base de dados teste com o base de treinamento\n",
        "preco_real_teste = base_teste.iloc[:, 3:4].values\n",
        "frames = [base, base_teste]\n",
        "base_completa = pd.concat(frames)"
      ],
      "execution_count": 52,
      "outputs": []
    },
    {
      "cell_type": "code",
      "metadata": {
        "id": "-CdLW8IZUhLY"
      },
      "source": [
        "#pegando os 90 registros anteriores para percorrer a base teste e colocando no\n",
        "#no formato np.array\n",
        "entradas = base_completa[len(base_completa) - len(base_teste) - 90:].values\n",
        "entradas = normalizador.transform(entradas)\n",
        "Percorrer_teste = []\n",
        "for i in range(90, 338): \n",
        "    Percorrer_teste.append(entradas[i-90:i, 0:6])\n",
        "Percorrer_teste = np.array(Percorrer_teste)"
      ],
      "execution_count": 53,
      "outputs": []
    },
    {
      "cell_type": "code",
      "metadata": {
        "id": "_YdD2ZcaUi1w"
      },
      "source": [
        "#resultado da predição no formato MinMaxScaler\n",
        "previsoes = regressor.predict(Percorrer_teste)"
      ],
      "execution_count": 54,
      "outputs": []
    },
    {
      "cell_type": "code",
      "metadata": {
        "colab": {
          "base_uri": "https://localhost:8080/"
        },
        "id": "jQS0Ql4tUk2Z",
        "outputId": "6ccab110-e2ba-4de7-9745-5c8e867269bc"
      },
      "source": [
        "#convertendo para a escala MinMaxScaler \n",
        "normalizador_previsao = MinMaxScaler(feature_range=(0,1))\n",
        "normalizador_previsao.fit_transform(base_treinamento[:,3:4])"
      ],
      "execution_count": 55,
      "outputs": [
        {
          "output_type": "execute_result",
          "data": {
            "text/plain": [
              "array([[0.80345499],\n",
              "       [0.80589962],\n",
              "       [0.80508469],\n",
              "       ...,\n",
              "       [0.27053454],\n",
              "       [0.26564536],\n",
              "       [0.27281616]])"
            ]
          },
          "metadata": {
            "tags": []
          },
          "execution_count": 55
        }
      ]
    },
    {
      "cell_type": "code",
      "metadata": {
        "id": "MP_GBjYJUnFe",
        "colab": {
          "base_uri": "https://localhost:8080/"
        },
        "outputId": "52ba9f73-c08d-4207-94ed-ef94aa5f077e"
      },
      "source": [
        "#colocando a previsão no formato original para preparar a visualização no gráfico\n",
        "previsoes = normalizador_previsao.inverse_transform(previsoes)\n",
        "previsoes"
      ],
      "execution_count": 56,
      "outputs": [
        {
          "output_type": "execute_result",
          "data": {
            "text/plain": [
              "array([[ 9.106604 ],\n",
              "       [ 9.442846 ],\n",
              "       [ 9.5708885],\n",
              "       [ 9.897929 ],\n",
              "       [10.117029 ],\n",
              "       [ 9.979526 ],\n",
              "       [ 9.991939 ],\n",
              "       [10.155563 ],\n",
              "       [10.171132 ],\n",
              "       [ 9.955326 ],\n",
              "       [ 9.8034725],\n",
              "       [ 9.865072 ],\n",
              "       [ 9.947359 ],\n",
              "       [ 9.949543 ],\n",
              "       [ 9.959848 ],\n",
              "       [ 9.869249 ],\n",
              "       [ 9.811402 ],\n",
              "       [ 9.819957 ],\n",
              "       [ 9.777536 ],\n",
              "       [ 9.744254 ],\n",
              "       [ 9.899528 ],\n",
              "       [ 9.896091 ],\n",
              "       [ 9.800845 ],\n",
              "       [ 9.754551 ],\n",
              "       [ 9.771101 ],\n",
              "       [ 9.559574 ],\n",
              "       [ 9.447771 ],\n",
              "       [ 9.506371 ],\n",
              "       [ 9.546165 ],\n",
              "       [ 9.52903  ],\n",
              "       [ 9.525846 ],\n",
              "       [ 9.531701 ],\n",
              "       [ 9.473545 ],\n",
              "       [ 9.362801 ],\n",
              "       [ 9.26939  ],\n",
              "       [ 9.219054 ],\n",
              "       [ 9.334928 ],\n",
              "       [ 9.689137 ],\n",
              "       [10.063119 ],\n",
              "       [10.123929 ],\n",
              "       [10.005093 ],\n",
              "       [ 9.806033 ],\n",
              "       [ 9.709307 ],\n",
              "       [ 9.110189 ],\n",
              "       [ 9.289166 ],\n",
              "       [ 9.527289 ],\n",
              "       [ 9.740079 ],\n",
              "       [ 9.919734 ],\n",
              "       [ 9.998769 ],\n",
              "       [10.244941 ],\n",
              "       [10.280551 ],\n",
              "       [10.295124 ],\n",
              "       [10.770749 ],\n",
              "       [10.83779  ],\n",
              "       [10.673808 ],\n",
              "       [10.3254595],\n",
              "       [10.237139 ],\n",
              "       [10.274133 ],\n",
              "       [ 9.897644 ],\n",
              "       [ 9.691936 ],\n",
              "       [ 9.953512 ],\n",
              "       [10.199074 ],\n",
              "       [10.052959 ],\n",
              "       [ 9.86571  ],\n",
              "       [ 9.784011 ],\n",
              "       [ 9.695428 ],\n",
              "       [ 9.548283 ],\n",
              "       [ 9.400818 ],\n",
              "       [ 9.343792 ],\n",
              "       [ 9.243467 ],\n",
              "       [ 9.162313 ],\n",
              "       [ 9.052339 ],\n",
              "       [ 8.935876 ],\n",
              "       [ 8.806413 ],\n",
              "       [ 8.843766 ],\n",
              "       [ 8.871889 ],\n",
              "       [ 8.85143  ],\n",
              "       [ 8.690045 ],\n",
              "       [ 8.605582 ],\n",
              "       [ 8.576747 ],\n",
              "       [ 8.551132 ],\n",
              "       [ 8.547288 ],\n",
              "       [ 8.487996 ],\n",
              "       [ 8.635391 ],\n",
              "       [ 8.7549515],\n",
              "       [ 8.656649 ],\n",
              "       [ 8.609364 ],\n",
              "       [ 8.572421 ],\n",
              "       [ 8.526601 ],\n",
              "       [ 8.368447 ],\n",
              "       [ 8.254065 ],\n",
              "       [ 8.121709 ],\n",
              "       [ 7.9439077],\n",
              "       [ 7.9194694],\n",
              "       [ 7.9934654],\n",
              "       [ 8.234224 ],\n",
              "       [ 8.432026 ],\n",
              "       [ 8.344926 ],\n",
              "       [ 8.258245 ],\n",
              "       [ 8.26437  ],\n",
              "       [ 8.258873 ],\n",
              "       [ 8.252606 ],\n",
              "       [ 8.318852 ],\n",
              "       [ 8.289169 ],\n",
              "       [ 8.171125 ],\n",
              "       [ 8.204231 ],\n",
              "       [ 8.269796 ],\n",
              "       [ 8.274571 ],\n",
              "       [ 8.443667 ],\n",
              "       [ 8.66433  ],\n",
              "       [ 8.930394 ],\n",
              "       [ 8.954671 ],\n",
              "       [ 8.963889 ],\n",
              "       [ 8.852762 ],\n",
              "       [ 8.721381 ],\n",
              "       [ 8.775278 ],\n",
              "       [ 8.777653 ],\n",
              "       [ 8.742355 ],\n",
              "       [ 8.742652 ],\n",
              "       [ 8.648741 ],\n",
              "       [ 8.596026 ],\n",
              "       [ 8.624928 ],\n",
              "       [ 8.8309355],\n",
              "       [ 8.947455 ],\n",
              "       [ 8.887192 ],\n",
              "       [ 8.940535 ],\n",
              "       [ 9.319268 ],\n",
              "       [ 9.611678 ],\n",
              "       [ 9.717943 ],\n",
              "       [ 9.719328 ],\n",
              "       [ 9.61026  ],\n",
              "       [ 9.524602 ],\n",
              "       [ 9.432435 ],\n",
              "       [ 9.40484  ],\n",
              "       [ 9.374414 ],\n",
              "       [ 9.351473 ],\n",
              "       [ 9.345303 ],\n",
              "       [ 9.251558 ],\n",
              "       [ 9.124267 ],\n",
              "       [ 8.995317 ],\n",
              "       [ 8.834049 ],\n",
              "       [ 8.814287 ],\n",
              "       [ 8.830836 ],\n",
              "       [ 8.8075075],\n",
              "       [ 8.773838 ],\n",
              "       [ 8.655262 ],\n",
              "       [ 8.519139 ],\n",
              "       [ 8.3452635],\n",
              "       [ 8.22515  ],\n",
              "       [ 8.101367 ],\n",
              "       [ 8.189214 ],\n",
              "       [ 8.213296 ],\n",
              "       [ 8.084059 ],\n",
              "       [ 8.102855 ],\n",
              "       [ 8.008866 ],\n",
              "       [ 7.75005  ],\n",
              "       [ 7.5216036],\n",
              "       [ 7.324972 ],\n",
              "       [ 7.268768 ],\n",
              "       [ 7.3695865],\n",
              "       [ 7.496917 ],\n",
              "       [ 7.460514 ],\n",
              "       [ 7.3136296],\n",
              "       [ 7.177092 ],\n",
              "       [ 7.080729 ],\n",
              "       [ 7.326912 ],\n",
              "       [ 7.707545 ],\n",
              "       [ 7.866928 ],\n",
              "       [ 7.8308554],\n",
              "       [ 7.7678294],\n",
              "       [ 7.743914 ],\n",
              "       [ 7.697465 ],\n",
              "       [ 7.986063 ],\n",
              "       [ 8.259437 ],\n",
              "       [ 8.333712 ],\n",
              "       [ 8.344661 ],\n",
              "       [ 8.267786 ],\n",
              "       [ 8.171597 ],\n",
              "       [ 8.228842 ],\n",
              "       [ 8.348912 ],\n",
              "       [ 8.349904 ],\n",
              "       [ 8.250252 ],\n",
              "       [ 8.158533 ],\n",
              "       [ 8.046198 ],\n",
              "       [ 7.9980636],\n",
              "       [ 8.028482 ],\n",
              "       [ 8.021779 ],\n",
              "       [ 7.937137 ],\n",
              "       [ 7.835768 ],\n",
              "       [ 7.6727624],\n",
              "       [ 7.5611806],\n",
              "       [ 7.584889 ],\n",
              "       [ 7.5356555],\n",
              "       [ 7.441506 ],\n",
              "       [ 7.3827515],\n",
              "       [ 7.465128 ],\n",
              "       [ 7.6258125],\n",
              "       [ 7.6595097],\n",
              "       [ 7.696538 ],\n",
              "       [ 7.688745 ],\n",
              "       [ 7.66283  ],\n",
              "       [ 7.654081 ],\n",
              "       [ 7.6446533],\n",
              "       [ 7.6445227],\n",
              "       [ 7.6082025],\n",
              "       [ 7.4985557],\n",
              "       [ 7.439968 ],\n",
              "       [ 7.3826294],\n",
              "       [ 7.42087  ],\n",
              "       [ 7.4540734],\n",
              "       [ 7.4183593],\n",
              "       [ 7.448314 ],\n",
              "       [ 7.550661 ],\n",
              "       [ 7.617426 ],\n",
              "       [ 7.6736484],\n",
              "       [ 8.076592 ],\n",
              "       [ 8.194495 ],\n",
              "       [ 8.079186 ],\n",
              "       [ 7.9358935],\n",
              "       [ 7.8000507],\n",
              "       [ 7.706634 ],\n",
              "       [ 7.648669 ],\n",
              "       [ 7.641423 ],\n",
              "       [ 7.90626  ],\n",
              "       [ 8.150103 ],\n",
              "       [ 8.346351 ],\n",
              "       [ 8.448984 ],\n",
              "       [ 8.446339 ],\n",
              "       [ 8.414529 ],\n",
              "       [ 8.494789 ],\n",
              "       [ 8.573066 ],\n",
              "       [ 8.580766 ],\n",
              "       [ 8.693324 ],\n",
              "       [ 8.766197 ],\n",
              "       [ 8.872931 ],\n",
              "       [ 8.866368 ],\n",
              "       [ 8.782031 ],\n",
              "       [ 8.854945 ],\n",
              "       [ 9.143288 ],\n",
              "       [ 9.268647 ],\n",
              "       [ 9.238745 ],\n",
              "       [ 9.236906 ],\n",
              "       [ 9.267411 ],\n",
              "       [ 9.309243 ],\n",
              "       [ 9.317032 ],\n",
              "       [ 9.444905 ],\n",
              "       [ 9.515754 ],\n",
              "       [ 9.469784 ]], dtype=float32)"
            ]
          },
          "metadata": {
            "tags": []
          },
          "execution_count": 56
        }
      ]
    },
    {
      "cell_type": "markdown",
      "metadata": {
        "id": "lEjN0sRdrGmK"
      },
      "source": [
        "#**6-Análise dos resuldatos**"
      ]
    },
    {
      "cell_type": "code",
      "metadata": {
        "id": "beWuUgy2Uoe_",
        "colab": {
          "base_uri": "https://localhost:8080/",
          "height": 481
        },
        "outputId": "e04fcc3f-da33-449f-decb-913bef3018ab"
      },
      "source": [
        "#Visualizando o gráfico da Previsão da rede\n",
        "plt.plot(preco_real_teste, color = 'red', label = 'Preço real')\n",
        "plt.plot(previsoes, color = 'blue', label = 'Previsões')\n",
        "plt.title('Previsão do preço das ações')\n",
        "plt.xlabel('Tempo em dias')\n",
        "plt.ylabel('Preço das ações')\n",
        "plt.legend()\n",
        "plt.show()"
      ],
      "execution_count": 57,
      "outputs": [
        {
          "output_type": "display_data",
          "data": {
            "image/png": "[encoded data removed]",
            "text/plain": [
              "<Figure size 1800x864 with 1 Axes>"
            ]
          },
          "metadata": {
            "tags": []
          }
        }
      ]
    },
    {
      "cell_type": "code",
      "metadata": {
        "id": "hKA0-lbgUtH-",
        "colab": {
          "base_uri": "https://localhost:8080/",
          "height": 297
        },
        "outputId": "8e8bbd0d-c6d0-4aab-99c7-cb371e7a371a"
      },
      "source": [
        "#estatísticas do preço real comparado com a previsão\n",
        "df1 = pd.DataFrame(preco_real_teste).T\n",
        "df2 = pd.DataFrame(previsoes).T\n",
        "\n",
        "df3 = pd.concat([df1,df2]).T\n",
        "df3.columns = ['Preco real', 'Previsoes']\n",
        "df3.describe()"
      ],
      "execution_count": 59,
      "outputs": [
        {
          "output_type": "execute_result",
          "data": {
            "text/html": [
              "<div>\n",
              "<style scoped>\n",
              "    .dataframe tbody tr th:only-of-type {\n",
              "        vertical-align: middle;\n",
              "    }\n",
              "\n",
              "    .dataframe tbody tr th {\n",
              "        vertical-align: top;\n",
              "    }\n",
              "\n",
              "    .dataframe thead th {\n",
              "        text-align: right;\n",
              "    }\n",
              "</style>\n",
              "<table border=\"1\" class=\"dataframe\">\n",
              "  <thead>\n",
              "    <tr style=\"text-align: right;\">\n",
              "      <th></th>\n",
              "      <th>Preco real</th>\n",
              "      <th>Previsoes</th>\n",
              "    </tr>\n",
              "  </thead>\n",
              "  <tbody>\n",
              "    <tr>\n",
              "      <th>count</th>\n",
              "      <td>248.000000</td>\n",
              "      <td>248.000000</td>\n",
              "    </tr>\n",
              "    <tr>\n",
              "      <th>mean</th>\n",
              "      <td>8.736680</td>\n",
              "      <td>8.759698</td>\n",
              "    </tr>\n",
              "    <tr>\n",
              "      <th>std</th>\n",
              "      <td>0.899279</td>\n",
              "      <td>0.870429</td>\n",
              "    </tr>\n",
              "    <tr>\n",
              "      <th>min</th>\n",
              "      <td>7.000000</td>\n",
              "      <td>7.080729</td>\n",
              "    </tr>\n",
              "    <tr>\n",
              "      <th>25%</th>\n",
              "      <td>8.032500</td>\n",
              "      <td>8.082841</td>\n",
              "    </tr>\n",
              "    <tr>\n",
              "      <th>50%</th>\n",
              "      <td>8.700000</td>\n",
              "      <td>8.731868</td>\n",
              "    </tr>\n",
              "    <tr>\n",
              "      <th>75%</th>\n",
              "      <td>9.502500</td>\n",
              "      <td>9.508716</td>\n",
              "    </tr>\n",
              "    <tr>\n",
              "      <th>max</th>\n",
              "      <td>10.920000</td>\n",
              "      <td>10.837790</td>\n",
              "    </tr>\n",
              "  </tbody>\n",
              "</table>\n",
              "</div>"
            ],
            "text/plain": [
              "       Preco real   Previsoes\n",
              "count  248.000000  248.000000\n",
              "mean     8.736680    8.759698\n",
              "std      0.899279    0.870429\n",
              "min      7.000000    7.080729\n",
              "25%      8.032500    8.082841\n",
              "50%      8.700000    8.731868\n",
              "75%      9.502500    9.508716\n",
              "max     10.920000   10.837790"
            ]
          },
          "metadata": {
            "tags": []
          },
          "execution_count": 59
        }
      ]
    },
    {
      "cell_type": "code",
      "metadata": {
        "id": "ZjIrFF8Y_M9N"
      },
      "source": [
        "#df2 = pd.DataFrame(previsoes)\n",
        "#df2.describe()"
      ],
      "execution_count": null,
      "outputs": []
    },
    {
      "cell_type": "code",
      "metadata": {
        "id": "TKfgSJAIV5a_"
      },
      "source": [
        "#df1 = pd.DataFrame(preco_real_teste)\n",
        "#df1.describe()"
      ],
      "execution_count": null,
      "outputs": []
    }
  ]
}